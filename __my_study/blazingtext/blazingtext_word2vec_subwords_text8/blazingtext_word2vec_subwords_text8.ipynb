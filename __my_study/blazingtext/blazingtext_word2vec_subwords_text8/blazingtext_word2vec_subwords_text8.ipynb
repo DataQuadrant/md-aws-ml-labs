{
 "cells": [
  {
   "cell_type": "markdown",
   "metadata": {},
   "source": [
    "## Introduction\n",
    "\n",
    "Word2Vec is a popular algorithm used for generating dense vector representations of words in large corpora using unsupervised learning. These representations are useful for many natural language processing (NLP) tasks like sentiment analysis, named entity recognition and machine translation.  \n",
    "\n",
    "Popular models that learn such representations ignore the morphology of words, by assigning a distinct vector to each word. This is a limitation, especially for languages with large vocabularies and many rare words. *SageMaker BlazingText* can learn vector representations associated with character n-grams; representing words as the sum of these character n-grams representations [1]. This method enables *BlazingText* to generate vectors for out-of-vocabulary (OOV) words, as demonstrated in this notebook.\n",
    "\n",
    "### MD: This notebook generates vectors (embeddings) for out-of-vocabulary (OOV) words."
   ]
  },
  {
   "cell_type": "markdown",
   "metadata": {},
   "source": [
    "Popular tools like [FastText](https://github.com/facebookresearch/fastText) learn subword embeddings to generate OOV word representations, but scale poorly as they can run only on CPUs. BlazingText extends the FastText model to leverage GPUs, thus providing more than 10x speedup, depending on the hardware."
   ]
  },
  {
   "cell_type": "markdown",
   "metadata": {},
   "source": [
    "[1] P. Bojanowski, E. Grave, A. Joulin, T. Mikolov, [Enriching Word Vectors with Subword Information](https://arxiv.org/pdf/1607.04606.pdf)"
   ]
  },
  {
   "cell_type": "markdown",
   "metadata": {},
   "source": [
    "## Setup\n",
    "\n",
    "Let's start by specifying:\n",
    "\n",
    "- The S3 bucket and prefix that you want to use for training and model data. This should be within the same region as the Notebook Instance, training, and hosting. If you don't specify a bucket, SageMaker SDK will create a default bucket following a pre-defined naming convention in the same region. \n",
    "- The IAM role ARN used to give SageMaker access to your data. It can be fetched using the **get_execution_role** method from sagemaker python SDK."
   ]
  },
  {
   "cell_type": "code",
   "execution_count": 1,
   "metadata": {
    "isConfigCell": true
   },
   "outputs": [],
   "source": [
    "import sagemaker\n",
    "from sagemaker import get_execution_role\n",
    "import boto3\n",
    "import json\n",
    "\n"
   ]
  },
  {
   "cell_type": "code",
   "execution_count": 2,
   "metadata": {},
   "outputs": [
    {
     "output_type": "stream",
     "name": "stdout",
     "text": "arn:aws:iam::558157414092:role/service-role/AmazonSageMaker-ExecutionRole-20200523T082014\n"
    }
   ],
   "source": [
    "# use this if running sagemaker locally\n",
    "def resolve_sm_role():\n",
    "    client = boto3.client('iam', region_name='us-east-2')\n",
    "    response_roles = client.list_roles(\n",
    "        PathPrefix='/',\n",
    "        # Marker='string',\n",
    "        MaxItems=999\n",
    "    )\n",
    "    for role in response_roles['Roles']:\n",
    "        if role['RoleName'].startswith('AmazonSageMaker-ExecutionRole-'):\n",
    "#             print('Resolved SageMaker IAM Role to: ' + str(role))\n",
    "            return role['Arn']\n",
    "    raise Exception('Could not resolve what should be the SageMaker role to be used')\n",
    "\n",
    "# this is the role created by sagemaker notebook on aws\n",
    "role_arn = resolve_sm_role()\n",
    "print(role_arn)\n",
    "role=role_arn"
   ]
  },
  {
   "cell_type": "code",
   "execution_count": 3,
   "metadata": {},
   "outputs": [
    {
     "output_type": "stream",
     "name": "stdout",
     "text": "md-backup-bucket-01\n"
    }
   ],
   "source": [
    "sess = sagemaker.Session()\n",
    "\n",
    "# role = get_execution_role()\n",
    "# print(role) # This is the role that SageMaker would use to leverage AWS resources (S3, CloudWatch) on your behalf\n",
    "\n",
    "# bucket = sess.default_bucket() # Replace with your own bucket name if needed\n",
    "bucket = \"md-backup-bucket-01\" # Replace with your own bucket name if needed\n",
    "print(bucket)\n",
    "prefix = 'blazingtext/subwords' #Replace with the prefix under which you want to store the data if needed"
   ]
  },
  {
   "cell_type": "markdown",
   "metadata": {},
   "source": [
    "### Data Ingestion\n",
    "\n",
    "Next, we download a dataset from the web on which we want to train the word vectors. BlazingText expects a single preprocessed text file with space separated tokens and each line of the file should contain a single sentence.\n",
    "\n",
    "In this example, let us train the vectors on [text8](http://mattmahoney.net/dc/textdata.html) dataset (100 MB), which is a small (already preprocessed) version of Wikipedia dump.  "
   ]
  },
  {
   "cell_type": "code",
   "execution_count": 4,
   "metadata": {},
   "outputs": [
    {
     "output_type": "stream",
     "name": "stdout",
     "text": "--2020-05-24 18:55:40--  http://mattmahoney.net/dc/text8.zip\nResolving mattmahoney.net (mattmahoney.net)...67.195.197.75\nConnecting to mattmahoney.net (mattmahoney.net)|67.195.197.75|:80...connected.\nHTTP request sent, awaiting response...200 OK\nLength: 31344016 (30M) [application/zip]\nSaving to: ‘text8.gz’\n\ntext8.gz            100%[===================>]  29.89M   145KB/s    in 93s     \n\n2020-05-24 18:57:13 (331 KB/s) - ‘text8.gz’ saved [31344016/31344016]\n\n"
    }
   ],
   "source": [
    "!wget http://mattmahoney.net/dc/text8.zip -O text8.gz"
   ]
  },
  {
   "cell_type": "code",
   "execution_count": 5,
   "metadata": {
    "collapsed": true
   },
   "outputs": [],
   "source": [
    "# Uncompressing\n",
    "!gzip -d text8.gz -f"
   ]
  },
  {
   "cell_type": "markdown",
   "metadata": {},
   "source": [
    "After the data downloading and uncompressing is complete, we need to upload it to S3 so that it can be consumed by SageMaker to execute training jobs. We'll use Python SDK to upload these two files to the bucket and prefix location that we have set above."
   ]
  },
  {
   "cell_type": "code",
   "execution_count": 6,
   "metadata": {
    "collapsed": true
   },
   "outputs": [],
   "source": [
    "train_channel = prefix + '/train'\n",
    "\n",
    "sess.upload_data(path='text8', bucket=bucket, key_prefix=train_channel)\n",
    "\n",
    "s3_train_data = 's3://{}/{}'.format(bucket, train_channel)"
   ]
  },
  {
   "cell_type": "markdown",
   "metadata": {},
   "source": [
    "Next we need to setup an output location at S3, where the model artifact will be dumped. These artifacts are also the output of the algorithm's training job."
   ]
  },
  {
   "cell_type": "code",
   "execution_count": 7,
   "metadata": {
    "collapsed": true
   },
   "outputs": [],
   "source": [
    "s3_output_location = 's3://{}/{}/output'.format(bucket, prefix)"
   ]
  },
  {
   "cell_type": "markdown",
   "metadata": {},
   "source": [
    "## Training Setup\n",
    "Now that we are done with all the setup that is needed, we are ready to train our object detector. To begin, let us create a ``sageMaker.estimator.Estimator`` object. This estimator will launch the training job."
   ]
  },
  {
   "cell_type": "code",
   "execution_count": 8,
   "metadata": {
    "collapsed": true
   },
   "outputs": [],
   "source": [
    "region_name = boto3.Session().region_name"
   ]
  },
  {
   "cell_type": "code",
   "execution_count": 9,
   "metadata": {},
   "outputs": [
    {
     "output_type": "stream",
     "name": "stdout",
     "text": "Using SageMaker BlazingText container: 825641698319.dkr.ecr.us-east-2.amazonaws.com/blazingtext:latest (us-east-2)\n"
    }
   ],
   "source": [
    "container = sagemaker.amazon.amazon_estimator.get_image_uri(region_name, \"blazingtext\", \"latest\")\n",
    "print('Using SageMaker BlazingText container: {} ({})'.format(container, region_name))"
   ]
  },
  {
   "cell_type": "markdown",
   "metadata": {},
   "source": [
    "## Training the BlazingText model for generating word vectors"
   ]
  },
  {
   "cell_type": "markdown",
   "metadata": {},
   "source": [
    "Similar to the original implementation of [Word2Vec](https://arxiv.org/pdf/1301.3781.pdf), SageMaker BlazingText provides an efficient implementation of the continuous bag-of-words (CBOW) and skip-gram architectures using Negative Sampling, on CPUs and additionally on GPU[s]. The GPU implementation uses highly optimized CUDA kernels. To learn more, please refer to [*BlazingText: Scaling and Accelerating Word2Vec using Multiple GPUs*](https://dl.acm.org/citation.cfm?doid=3146347.3146354).\n",
    "\n",
    "\n"
   ]
  },
  {
   "cell_type": "markdown",
   "metadata": {},
   "source": [
    "Besides skip-gram and CBOW, SageMaker BlazingText also supports the \"Batch Skipgram\" mode, which uses efficient mini-batching and matrix-matrix operations ([BLAS Level 3 routines](https://software.intel.com/en-us/mkl-developer-reference-fortran-blas-level-3-routines)). This mode enables distributed word2vec training across multiple CPU nodes, allowing almost linear scale up of word2vec computation to process hundreds of millions of words per second. Please refer to [*Parallelizing Word2Vec in Shared and Distributed Memory*](https://arxiv.org/pdf/1604.04661.pdf) to learn more."
   ]
  },
  {
   "cell_type": "markdown",
   "metadata": {},
   "source": [
    "BlazingText also supports a *supervised* mode for text classification. It extends the FastText text classifier to leverage GPU acceleration using custom CUDA kernels. The model can be trained on more than a billion words in a couple of minutes using a multi-core CPU or a GPU, while achieving performance on par with the state-of-the-art deep learning text classification algorithms. For more information, please refer to [algorithm documentation](https://docs.aws.amazon.com/sagemaker/latest/dg/blazingtext.html) or [the text classification notebook](https://github.com/awslabs/amazon-sagemaker-examples/blob/master/introduction_to_amazon_algorithms/blazingtext_text_classification_dbpedia/blazingtext_text_classification_dbpedia.ipynb)."
   ]
  },
  {
   "cell_type": "markdown",
   "metadata": {},
   "source": [
    "To summarize, the following modes are supported by BlazingText on different types instances:\n",
    "\n",
    "|          Modes         \t| cbow (supports subwords training) \t| skipgram (supports subwords training) \t| batch_skipgram \t| supervised |\n",
    "|:----------------------:\t|:----:\t|:--------:\t|:--------------:\t| :--------------:\t|\n",
    "|   Single CPU instance  \t|   ✔  \t|     ✔    \t|        ✔       \t|  ✔  |\n",
    "|   Single GPU instance  \t|   ✔  \t|     ✔    \t|                \t|  ✔ (Instance with 1 GPU only)  |\n",
    "| Multiple CPU instances \t|      \t|          \t|        ✔       \t|     | |\n",
    "\n",
    "Now, let's define the resource configuration and hyperparameters to train word vectors on *text8* dataset, using \"skipgram\" mode on a `c4.2xlarge` instance.\n"
   ]
  },
  {
   "cell_type": "code",
   "execution_count": 10,
   "metadata": {
    "collapsed": true
   },
   "outputs": [],
   "source": [
    "bt_model = sagemaker.estimator.Estimator(container,\n",
    "                                         role, \n",
    "                                         train_instance_count=1, \n",
    "                                         train_instance_type='ml.c4.2xlarge', # Use of ml.p3.2xlarge is highly recommended for highest speed and cost efficiency\n",
    "                                         train_volume_size = 30,\n",
    "                                         train_max_run = 360000,\n",
    "                                         input_mode= 'File',\n",
    "                                         output_path=s3_output_location,\n",
    "                                         sagemaker_session=sess)"
   ]
  },
  {
   "cell_type": "markdown",
   "metadata": {},
   "source": [
    "Please refer to [algorithm documentation](https://docs.aws.amazon.com/sagemaker/latest/dg/blazingtext_hyperparameters.html) for the complete list of hyperparameters."
   ]
  },
  {
   "cell_type": "code",
   "execution_count": 11,
   "metadata": {
    "collapsed": true
   },
   "outputs": [],
   "source": [
    "bt_model.set_hyperparameters(mode=\"skipgram\",\n",
    "                             epochs=5,\n",
    "                             min_count=5,\n",
    "                             sampling_threshold=0.0001,\n",
    "                             learning_rate=0.05,\n",
    "                             window_size=5,\n",
    "                             vector_dim=100,\n",
    "                             negative_samples=5,\n",
    "                             subwords=True, # Enables learning of subword embeddings for OOV word vector generation\n",
    "                             min_char=3, # min length of char ngrams\n",
    "                             max_char=6, # max length of char ngrams\n",
    "                             batch_size=11, #  = (2*window_size + 1) (Preferred. Used only if mode is batch_skipgram)\n",
    "                             evaluation=True)# Perform similarity evaluation on WS-353 dataset at the end of training"
   ]
  },
  {
   "cell_type": "markdown",
   "metadata": {},
   "source": [
    "Now that the hyper-parameters are setup, let us prepare the handshake between our data channels and the algorithm. To do this, we need to create the `sagemaker.session.s3_input` objects from our data channels. These objects are then put in a simple dictionary, which the algorithm consumes."
   ]
  },
  {
   "cell_type": "code",
   "execution_count": 12,
   "metadata": {
    "collapsed": true
   },
   "outputs": [],
   "source": [
    "train_data = sagemaker.session.s3_input(\n",
    "    s3_train_data, \n",
    "    distribution='FullyReplicated', \n",
    "    content_type='text/plain', \n",
    "    s3_data_type='S3Prefix')\n",
    "\n",
    "data_channels = {'train': train_data}"
   ]
  },
  {
   "cell_type": "markdown",
   "metadata": {},
   "source": [
    "We have our `Estimator` object, we have set the hyper-parameters for this object and we have our data channels linked with the algorithm. The only  remaining thing to do is to train the algorithm. The following command will train the algorithm. Training the algorithm involves a few steps. Firstly, the instance that we requested while creating the `Estimator` classes is provisioned and is setup with the appropriate libraries. Then, the data from our channels are downloaded into the instance. Once this is done, the training job begins. The provisioning and data downloading will take some time, depending on the size of the data. Therefore it might be a few minutes before we start getting training logs for our training jobs. The data logs will also print out `Spearman's Rho` on some pre-selected validation datasets after the training job has executed. This metric is a proxy for the quality of the algorithm. \n",
    "\n",
    "Once the job has finished a \"Job complete\" message will be printed. The trained model can be found in the S3 bucket that was setup as `output_path` in the estimator."
   ]
  },
  {
   "cell_type": "code",
   "execution_count": 13,
   "metadata": {},
   "outputs": [
    {
     "output_type": "stream",
     "name": "stdout",
     "text": "2020-05-24 19:12:46 Starting - Starting the training job...\n2020-05-24 19:12:49 Starting - Launching requested ML instances......\n2020-05-24 19:14:18 Starting - Preparing the instances for training......\n2020-05-24 19:15:15 Downloading - Downloading input data\n2020-05-24 19:15:15 Training - Downloading the training image...\n2020-05-24 19:15:29 Training - Training image download completed. Training in progress........\u001b[34mArguments: train\u001b[0m\n\u001b[34m[05/24/2020 19:15:30 WARNING 140013568784192] Loggers have already been setup.\u001b[0m\n\u001b[34m[05/24/2020 19:15:30 WARNING 140013568784192] Loggers have already been setup.\u001b[0m\n\u001b[34m[05/24/2020 19:15:30 INFO 140013568784192] nvidia-smi took: 0.0252709388733 secs to identify 0 gpus\u001b[0m\n\u001b[34m[05/24/2020 19:15:30 INFO 140013568784192] Running single machine CPU BlazingText training using skipgram mode.\u001b[0m\n\u001b[34m[05/24/2020 19:15:30 INFO 140013568784192] Processing /opt/ml/input/data/train/text8 . File size: 95 MB\u001b[0m\n\u001b[34mRead 10M words\u001b[0m\n\u001b[34mRead 17M words\u001b[0m\n\u001b[34mNumber of words:  71290\u001b[0m\n\u001b[34m##### Alpha: 0.0490  Progress: 2.01%  Million Words/sec: 0.37 #####\u001b[0m\n\u001b[34m##### Alpha: 0.0465  Progress: 7.02%  Million Words/sec: 0.48 #####\u001b[0m\n\u001b[34m##### Alpha: 0.0440  Progress: 12.04%  Million Words/sec: 0.51 #####\u001b[0m\n\u001b[34m##### Alpha: 0.0415  Progress: 17.10%  Million Words/sec: 0.52 #####\u001b[0m\n\u001b[34m##### Alpha: 0.0389  Progress: 22.13%  Million Words/sec: 0.53 #####\u001b[0m\n\u001b[34m##### Alpha: 0.0364  Progress: 27.17%  Million Words/sec: 0.53 #####\u001b[0m\n\u001b[34m##### Alpha: 0.0339  Progress: 32.22%  Million Words/sec: 0.54 #####\u001b[0m\n\u001b[34m##### Alpha: 0.0314  Progress: 37.28%  Million Words/sec: 0.54 #####\u001b[0m\n\u001b[34m##### Alpha: 0.0288  Progress: 42.32%  Million Words/sec: 0.54 #####\u001b[0m\n\u001b[34m##### Alpha: 0.0263  Progress: 47.35%  Million Words/sec: 0.54 #####\u001b[0m\n\u001b[34m##### Alpha: 0.0238  Progress: 52.41%  Million Words/sec: 0.54 #####\u001b[0m\n\u001b[34m##### Alpha: 0.0213  Progress: 57.42%  Million Words/sec: 0.54 #####\u001b[0m\n\u001b[34m##### Alpha: 0.0188  Progress: 62.45%  Million Words/sec: 0.54 #####\u001b[0m\n\u001b[34m##### Alpha: 0.0162  Progress: 67.50%  Million Words/sec: 0.54 #####\u001b[0m\n\u001b[34m##### Alpha: 0.0137  Progress: 72.55%  Million Words/sec: 0.54 #####\u001b[0m\n\u001b[34m##### Alpha: 0.0112  Progress: 77.59%  Million Words/sec: 0.54 #####\u001b[0m\n\u001b[34m##### Alpha: 0.0087  Progress: 82.65%  Million Words/sec: 0.55 #####\u001b[0m\n\u001b[34m##### Alpha: 0.0062  Progress: 87.69%  Million Words/sec: 0.55 #####\u001b[0m\n\u001b[34m##### Alpha: 0.0036  Progress: 92.74%  Million Words/sec: 0.55 #####\u001b[0m\n\u001b[34m##### Alpha: 0.0011  Progress: 97.77%  Million Words/sec: 0.55 #####\u001b[0m\n\u001b[34m##### Alpha: 0.0000  Progress: 100.00%  Million Words/sec: 0.55 #####\u001b[0m\n\n2020-05-24 19:18:25 Uploading - Uploading generated training model\u001b[34mTraining finished.\u001b[0m\n\u001b[34mAverage throughput in Million words/sec: 0.55\u001b[0m\n\u001b[34mTotal training time in seconds: 155.72\u001b[0m\n\u001b[34mEvaluating word embeddings....\u001b[0m\n\u001b[34mVectors read from: /opt/ml/model/vectors.txt \u001b[0m\n\u001b[34m{\n    \"EN-WS-353-ALL.txt\": {\n        \"not_found\": 2, \n        \"spearmans_rho\": 0.6436401763448649, \n        \"total_pairs\": 353\n    }, \n    \"EN-WS-353-REL.txt\": {\n        \"not_found\": 1, \n        \"spearmans_rho\": 0.6136621963497703, \n        \"total_pairs\": 252\n    }, \n    \"EN-WS-353-SIM.txt\": {\n        \"not_found\": 1, \n        \"spearmans_rho\": 0.6887642175721364, \n        \"total_pairs\": 203\n    }, \n    \"mean_rho\": 0.6486888634222572\u001b[0m\n\u001b[34m}\u001b[0m\n\u001b[34m[05/24/2020 19:18:24 INFO 140013568784192] #mean_rho: 0.6486888634222572\u001b[0m\n\n2020-05-24 19:20:17 Completed - Training job completed\nTraining seconds: 325\nBillable seconds: 325\n"
    }
   ],
   "source": [
    "bt_model.fit(inputs=data_channels, logs=True)"
   ]
  },
  {
   "cell_type": "markdown",
   "metadata": {},
   "source": [
    "## Hosting / Inference\n",
    "Once the training is done, we can deploy the trained model as an Amazon SageMaker real-time hosted endpoint. This will allow us to make predictions (or inference) from the model. Note that we don't have to host on the same type of instance that we used to train. Because instance endpoints will be up and running for long, it's advisable to choose a cheaper instance for inference."
   ]
  },
  {
   "cell_type": "code",
   "execution_count": 14,
   "metadata": {},
   "outputs": [
    {
     "output_type": "stream",
     "name": "stdout",
     "text": "--------------!"
    }
   ],
   "source": [
    "bt_endpoint = bt_model.deploy(initial_instance_count = 1,instance_type = 'ml.m4.xlarge')"
   ]
  },
  {
   "cell_type": "markdown",
   "metadata": {},
   "source": [
    "### Getting vector representations for words [including out-of-vocabulary (OOV) words]"
   ]
  },
  {
   "cell_type": "markdown",
   "metadata": {},
   "source": [
    "Since, we trained with **```subwords = \"True\"```**, we can get vector representations for any word - including misspelled words or words which were not there in the training dataset.  \n",
    "If we train without the subwords flag, the training will be much faster but the model won't be able to generate vectors for OOV words. Instead, it will return a vector of zeros for such words."
   ]
  },
  {
   "cell_type": "markdown",
   "metadata": {},
   "source": [
    "#### Use JSON format for inference\n",
    "The payload should contain a list of words with the key as \"**instances**\". BlazingText supports content-type `application/json`."
   ]
  },
  {
   "cell_type": "code",
   "execution_count": 15,
   "metadata": {},
   "outputs": [],
   "source": [
    "words = [\"awesome\", \"awweeesome\"]\n",
    "\n",
    "payload = {\"instances\" : words}\n",
    "\n"
   ]
  },
  {
   "cell_type": "code",
   "execution_count": 16,
   "metadata": {},
   "outputs": [
    {
     "output_type": "stream",
     "name": "stdout",
     "text": "[{'vector': [-0.17731870710849762, -0.12465842813253403, 0.13440628349781036, -0.23232240974903107, -0.24611324071884155, 0.17543934285640717, -0.0505141019821167, 0.008779092691838741, 0.37779635190963745, -0.2168293446302414, 0.024386508390307426, 0.04059248045086861, -0.08613734692335129, -0.08180548995733261, 0.26969921588897705, -0.06898530572652817, -0.22809407114982605, -0.02555290050804615, -0.11382359266281128, 0.4498510956764221, -0.22381053864955902, 0.14348509907722473, 0.10391147434711456, -0.07060881704092026, -0.0456245094537735, 0.18288733065128326, 0.5660437941551208, 0.49485328793525696, 0.05273696407675743, 0.19481530785560608, 0.12474935501813889, -0.17261219024658203, -0.2741609811782837, -0.08712762594223022, -0.09401491284370422, -0.15781621634960175, 0.07327264547348022, 0.16640886664390564, -0.17512786388397217, -0.3381265699863434, -0.13571923971176147, -0.26282376050949097, -0.026930954307317734, -0.2890344560146332, -0.030212601646780968, -0.32871103286743164, -0.031011473387479782, 0.20010951161384583, 0.2923954725265503, -0.026592234149575233, -0.46326738595962524, 0.006382843945175409, 0.08002597838640213, 0.19957572221755981, 0.1060425192117691, -0.04162590950727463, -0.43526095151901245, 0.31155866384506226, -0.006416663061827421, 0.15369996428489685, -0.015629842877388, -0.17621949315071106, -0.2909380793571472, -0.07642659544944763, 0.1646624505519867, 0.09795667231082916, 0.4422297477722168, -0.23070690035820007, -0.07217232882976532, -0.17992857098579407, -0.3901239037513733, 0.18173962831497192, 0.41294437646865845, -0.5122537016868591, -0.03316431865096092, 0.02241331897675991, 0.12121067196130753, -0.04494353383779526, 0.07485765963792801, -0.1393442153930664, -0.25109022855758667, -0.4067555069923401, 0.42217138409614563, 0.3354957699775696, 0.3120744228363037, -0.08358921110630035, -0.011053446680307388, 0.3520910143852234, -0.19016075134277344, -0.10805156826972961, 0.5306766629219055, -0.31011906266212463, -0.23508356511592865, 0.21388141810894012, -0.06138031557202339, -0.3062291741371155, -0.20497432351112366, 0.30141177773475647, 0.3849972188472748, 0.25426185131073], 'word': 'awesome'}, {'vector': [-0.15448540449142456, -0.00029468623688444495, -0.013982541859149933, -0.046129994094371796, -0.29111915826797485, 0.2225705236196518, -0.028231540694832802, 0.00731658423319459, 0.12331623584032059, -0.14638838171958923, 0.000385787570849061, 0.05002667382359505, 0.005126490257680416, -0.07891231775283813, 0.37185004353523254, -0.037578605115413666, -0.03411046043038368, -0.023210929706692696, -0.0498664453625679, 0.2823192775249481, 0.006936883088201284, 0.25483593344688416, 0.09167446196079254, -0.06561247259378433, -0.12198371440172195, 0.12574972212314606, 0.27067258954048157, 0.2406495362520218, -0.03044789656996727, 0.05091897398233414, 0.19790492951869965, -0.2038876861333847, -0.2603510618209839, 0.07201024144887924, 0.029693806543946266, 0.0203483197838068, 0.05667053908109665, 0.06897377967834473, -0.08406991511583328, -0.0960279032588005, -0.08638255298137665, -0.22851039469242096, 0.1381824016571045, -0.04576679319143295, -0.14895646274089813, -0.031147852540016174, -0.004625835921615362, 0.12316479533910751, -0.0037012959364801645, -0.03398241847753525, -0.26982760429382324, -0.059912484139204025, 0.008448109962046146, 0.12840919196605682, 0.034451160579919815, -0.07918090373277664, -0.2551476061344147, 0.09156473726034164, 0.028735224157571793, 0.12767495214939117, 0.10203087329864502, -0.03640954568982124, -0.24695482850074768, -0.07347018271684647, 0.167387917637825, 0.1318299025297165, 0.23481044173240662, -0.14730586111545563, 0.016093092039227486, -0.06039983406662941, -0.1803627908229828, 0.20162402093410492, 0.3063344955444336, -0.28167447447776794, -0.003874729620292783, -0.029737353324890137, 0.10871345549821854, -0.03161407634615898, 0.18309465050697327, -0.017219193279743195, -0.08985619992017746, -0.28918567299842834, 0.18749302625656128, 0.2487879991531372, 0.14702671766281128, -0.1300564408302307, -0.02606116235256195, 0.19578899443149567, -0.09335586428642273, -0.05739888176321983, 0.422367125749588, -0.2569179832935333, -0.05378303676843643, 0.013655612245202065, -0.049216363579034805, -0.23789004981517792, -0.14445224404335022, 0.09070698916912079, 0.1107553020119667, 0.27381590008735657], 'word': 'awweeesome'}]\n"
    }
   ],
   "source": [
    "response = bt_endpoint.predict(json.dumps(payload))\n",
    "\n",
    "vecs = json.loads(response)\n",
    "print(vecs)"
   ]
  },
  {
   "cell_type": "markdown",
   "metadata": {},
   "source": [
    "As expected, we get an n-dimensional vector (where n is vector_dim as specified in hyperparameters) for each of the words."
   ]
  },
  {
   "cell_type": "markdown",
   "metadata": {},
   "source": [
    "### Evaluation"
   ]
  },
  {
   "cell_type": "markdown",
   "metadata": {},
   "source": [
    "We can evaluate the quality of these representations on the task of word similarity / relatedness. We do so by computing Spearman’s rank correlation coefficient (Spearman, 1904) between human judgement and the cosine similarity between the vector representations.  For English, we can use the [rare word dataset (RW)](https://nlp.stanford.edu/~lmthang/morphoNLM/), introduced by Luong et al. (2013)."
   ]
  },
  {
   "cell_type": "code",
   "execution_count": 17,
   "metadata": {},
   "outputs": [
    {
     "output_type": "stream",
     "name": "stdout",
     "text": "--2020-05-24 20:20:20--  http://www-nlp.stanford.edu/~lmthang/morphoNLM/rw.zip\nResolving www-nlp.stanford.edu (www-nlp.stanford.edu)...171.64.67.140\nConnecting to www-nlp.stanford.edu (www-nlp.stanford.edu)|171.64.67.140|:80...connected.\nHTTP request sent, awaiting response...302 Found\nLocation: https://nlp.stanford.edu/~lmthang/morphoNLM/rw.zip [following]\n--2020-05-24 20:20:20--  https://nlp.stanford.edu/~lmthang/morphoNLM/rw.zip\nResolving nlp.stanford.edu (nlp.stanford.edu)... 171.64.67.140\nConnecting to nlp.stanford.edu (nlp.stanford.edu)|171.64.67.140|:443...connected.\nHTTP request sent, awaiting response...200 OK\nLength: 36102 (35K) [application/zip]\nSaving to: ‘rw.zip’\n\nrw.zip              100%[===================>]  35.26K  --.-KB/s    in 0.1s    \n\n2020-05-24 20:20:21 (307 KB/s) - ‘rw.zip’ saved [36102/36102]\n\nArchive:  rw.zip\n   creating: rw/\n  inflating: rw/README.txt           \n  inflating: rw/rw.txt               \n"
    }
   ],
   "source": [
    "!wget http://www-nlp.stanford.edu/~lmthang/morphoNLM/rw.zip\n",
    "!unzip \"rw.zip\"\n",
    "!cut -f 1,2 rw/rw.txt | awk '{print tolower($0)}' | tr '\\t' '\\n' > query_words.txt"
   ]
  },
  {
   "cell_type": "markdown",
   "metadata": {},
   "source": [
    "The above command downloads the RW dataset and dumps all the words for which we need vectors in query_words.txt. Let's read this file and hit the endpoint to get the vectors in batches of 500 words [to respect the 5MB limit of SageMaker hosting.](https://docs.aws.amazon.com/sagemaker/latest/dg/API_runtime_InvokeEndpoint.html#API_runtime_InvokeEndpoint_RequestSyntax)"
   ]
  },
  {
   "cell_type": "code",
   "execution_count": 18,
   "metadata": {
    "collapsed": true
   },
   "outputs": [],
   "source": [
    "query_words = []\n",
    "\n",
    "with open(\"query_words.txt\") as f:\n",
    "    for line in f.readlines():\n",
    "        query_words.append(line.strip())"
   ]
  },
  {
   "cell_type": "code",
   "execution_count": 20,
   "metadata": {
    "collapsed": true
   },
   "outputs": [],
   "source": [
    "query_words = list(set(query_words))\n",
    "total_words = len(query_words)\n",
    "vectors = {}"
   ]
  },
  {
   "cell_type": "code",
   "execution_count": 21,
   "metadata": {
    "collapsed": true
   },
   "outputs": [],
   "source": [
    "import numpy as np\n",
    "import math\n",
    "from scipy import stats\n",
    "\n",
    "batch_size = 500\n",
    "batch_start = 0\n",
    "batch_end = batch_start + batch_size\n",
    "while len(vectors) != total_words:\n",
    "\n",
    "    batch_end = min(batch_end, total_words)\n",
    "    subset_words = query_words[batch_start:batch_end]\n",
    "    \n",
    "    payload = {\"instances\" : subset_words}\n",
    "    response = bt_endpoint.predict(json.dumps(payload))\n",
    "\n",
    "    vecs = json.loads(response)\n",
    "    for i in vecs:\n",
    "        arr = np.array(i[\"vector\"], dtype=float)\n",
    "        if np.linalg.norm(arr) == 0:\n",
    "            continue\n",
    "        vectors[i[\"word\"]] = arr\n",
    "    batch_start += batch_size\n",
    "    batch_end += batch_size"
   ]
  },
  {
   "cell_type": "markdown",
   "metadata": {},
   "source": [
    "Now that we have gotten all the vectors, we can compute the Spearman’s rank correlation coefficient between human judgement and the cosine similarity between the vector representations."
   ]
  },
  {
   "cell_type": "code",
   "execution_count": 22,
   "metadata": {},
   "outputs": [
    {
     "output_type": "stream",
     "name": "stdout",
     "text": "Correlation: 40.243235652924646, Dropped words: 0%\n"
    }
   ],
   "source": [
    "mysim = []\n",
    "gold = []\n",
    "dropped = 0\n",
    "nwords = 0\n",
    "\n",
    "def similarity(v1, v2):\n",
    "    n1 = np.linalg.norm(v1)\n",
    "    n2 = np.linalg.norm(v2)\n",
    "    return np.dot(v1, v2) / n1 / n2\n",
    "\n",
    "fin = open(\"rw/rw.txt\", 'rb')\n",
    "for line in fin:\n",
    "    tline = line.decode('utf8').split()\n",
    "    word1 = tline[0].lower()\n",
    "    word2 = tline[1].lower()\n",
    "    nwords += 1\n",
    "\n",
    "    if (word1 in vectors) and (word2 in vectors):\n",
    "        v1 = vectors[word1]\n",
    "        v2 = vectors[word2]\n",
    "        d = similarity(v1, v2)\n",
    "        mysim.append(d)\n",
    "        gold.append(float(tline[2]))\n",
    "    else:\n",
    "        dropped += 1\n",
    "fin.close()\n",
    "\n",
    "corr = stats.spearmanr(mysim, gold)\n",
    "print(\"Correlation: %s, Dropped words: %s%%\" % (corr[0] * 100, math.ceil(dropped / nwords * 100.0)))\n"
   ]
  },
  {
   "cell_type": "markdown",
   "metadata": {
    "collapsed": true
   },
   "source": [
    "We can expect a Correlation coefficient of ~40, which is pretty good for a small training dataset like text8. For more details, please refer to [Enriching Word Vectors with Subword Information](https://arxiv.org/pdf/1607.04606.pdf)"
   ]
  },
  {
   "cell_type": "markdown",
   "metadata": {},
   "source": [
    "### Stop / Close the Endpoint (Optional)\n",
    "Finally, we should delete the endpoint before we close the notebook."
   ]
  },
  {
   "cell_type": "code",
   "execution_count": null,
   "metadata": {},
   "outputs": [],
   "source": [
    "sess.delete_endpoint(bt_endpoint.endpoint)"
   ]
  },
  {
   "cell_type": "code",
   "execution_count": null,
   "metadata": {
    "collapsed": true
   },
   "outputs": [],
   "source": []
  }
 ],
 "metadata": {
  "kernelspec": {
   "display_name": "conda_python3",
   "language": "python",
   "name": "conda_python3"
  },
  "language_info": {
   "codemirror_mode": {
    "name": "ipython",
    "version": 3
   },
   "file_extension": ".py",
   "mimetype": "text/x-python",
   "name": "python",
   "nbconvert_exporter": "python",
   "pygments_lexer": "ipython3",
   "version": "3.6.5-final"
  },
  "notice": "Copyright 2018 Amazon.com, Inc. or its affiliates. All Rights Reserved.  Licensed under the Apache License, Version 2.0 (the \"License\"). You may not use this file except in compliance with the License. A copy of the License is located at http://aws.amazon.com/apache2.0/ or in the \"license\" file accompanying this file. This file is distributed on an \"AS IS\" BASIS, WITHOUT WARRANTIES OR CONDITIONS OF ANY KIND, either express or implied. See the License for the specific language governing permissions and limitations under the License."
 },
 "nbformat": 4,
 "nbformat_minor": 2
}