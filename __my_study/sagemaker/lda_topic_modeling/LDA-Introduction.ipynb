{
 "cells": [
  {
   "cell_type": "markdown",
   "metadata": {},
   "source": [
    "# An Introduction to SageMaker LDA\n",
    "\n",
    "***Finding topics in synthetic document data using Spectral LDA algorithms.***\n",
    "\n",
    "---\n",
    "\n",
    "1. [Introduction](#Introduction)\n",
    "1. [Setup](#Setup)\n",
    "1. [Training](#Training)\n",
    "1. [Inference](#Inference)\n",
    "1. [Epilogue](#Epilogue)"
   ]
  },
  {
   "cell_type": "markdown",
   "metadata": {},
   "source": [
    "# Introduction\n",
    "***\n",
    "\n",
    "Amazon SageMaker LDA is an unsupervised learning algorithm that attempts to describe a set of observations as a mixture of distinct categories. Latent Dirichlet Allocation (LDA) is most commonly used to discover a user-specified number of topics shared by documents within a text corpus. \n",
    "\n",
    "# Each observation is a document, \n",
    "# The features are the presence (or occurrence count) of each word, and \n",
    "# The categories are the topics. \n",
    "\n",
    "Since the method is unsupervised, the topics are not specified up front, and are not guaranteed to align with how a human may naturally categorize documents. \n",
    "\n",
    "# The topics are learned as a probability distribution over the words that occur in each document. Each document, in turn, is described as a mixture of topics.\n",
    "\n",
    "In this notebook we will use the Amazon SageMaker LDA algorithm to train an LDA model on some example synthetic data. We will then use this model to classify (perform inference on) the data. The main goals of this notebook are to,\n",
    "\n",
    "* learn how to obtain and store data for use in Amazon SageMaker,\n",
    "* create an AWS SageMaker training job on a data set to produce an LDA model,\n",
    "* use the LDA model to perform inference with an Amazon SageMaker endpoint.\n",
    "\n",
    "The following are ***not*** goals of this notebook:\n",
    "\n",
    "* understand the LDA model,\n",
    "* understand how the Amazon SageMaker LDA algorithm works,\n",
    "* interpret the meaning of the inference output\n",
    "\n",
    "If you would like to know more about these things take a minute to run this notebook and then check out the SageMaker LDA Documentation and the **LDA-Science.ipynb** notebook."
   ]
  },
  {
   "cell_type": "code",
   "execution_count": null,
   "metadata": {
    "collapsed": true
   },
   "outputs": [],
   "source": [
    "# !conda install -y scipy"
   ]
  },
  {
   "cell_type": "code",
   "execution_count": null,
   "metadata": {
    "collapsed": true
   },
   "outputs": [],
   "source": [
    "%matplotlib inline\n",
    "\n",
    "import os, re\n",
    "\n",
    "import boto3\n",
    "import matplotlib.pyplot as plt\n",
    "import numpy as np\n",
    "np.set_printoptions(precision=3, suppress=True)\n",
    "\n",
    "# some helpful utility functions are defined in the Python module\n",
    "# \"generate_example_data\" located in the same directory as this\n",
    "# notebook\n",
    "from generate_example_data import generate_griffiths_data, plot_lda, match_estimated_topics\n",
    "\n",
    "# accessing the SageMaker Python SDK\n",
    "import sagemaker\n",
    "from sagemaker.amazon.common import numpy_to_record_serializer\n",
    "from sagemaker.predictor import csv_serializer, json_deserializer"
   ]
  },
  {
   "cell_type": "markdown",
   "metadata": {},
   "source": [
    "# Setup\n",
    "\n",
    "***\n",
    "\n",
    "*This notebook was created and tested on an ml.m4.xlarge notebook instance.*\n",
    "\n",
    "Before we do anything at all, we need data! We also need to setup our AWS credentials so that AWS SageMaker can store and access data. In this section we will do four things:\n",
    "\n",
    "1. [Setup AWS Credentials](#SetupAWSCredentials)\n",
    "1. [Obtain Example Dataset](#ObtainExampleDataset)\n",
    "1. [Inspect Example Data](#InspectExampleData)\n",
    "1. [Store Data on S3](#StoreDataonS3)"
   ]
  },
  {
   "cell_type": "markdown",
   "metadata": {},
   "source": [
    "## Setup AWS Credentials\n",
    "\n",
    "We first need to specify some AWS credentials; specifically data locations and access roles. This is the only cell of this notebook that you will need to edit. In particular, we need the following data:\n",
    "\n",
    "* `bucket` - An S3 bucket accessible by this account.\n",
    "  * Used to store input training data and model data output.\n",
    "  * Should be withing the same region as this notebook instance, training, and hosting.\n",
    "* `prefix` - The location in the bucket where this notebook's input and and output data will be stored. (The default value is sufficient.)\n",
    "* `role` - The IAM Role ARN used to give training and hosting access to your data.\n",
    "  * See documentation on how to create these.\n",
    "  * The script below will try to determine an appropriate Role ARN."
   ]
  },
  {
   "cell_type": "code",
   "execution_count": null,
   "metadata": {
    "collapsed": true,
    "isConfigCell": true,
    "tags": [
     "parameters"
    ]
   },
   "outputs": [],
   "source": [
    "from sagemaker import get_execution_role\n",
    "\n",
    "# role = get_execution_role()\n",
    "# bucket = '<your_s3_bucket_name_here>'\n",
    "\n",
    "role = 'arn:aws:iam::558157414092:role/service-role/AmazonSageMaker-ExecutionRole-20200523T082014'\n",
    "bucket = 'md-backup-bucket-01'\n",
    "\n",
    "prefix = 'sagemaker/DEMO-lda-introduction'\n",
    "\n",
    "print('Training input/output will be stored in {}/{}'.format(bucket, prefix))\n",
    "print('\\nIAM Role: {}'.format(role))"
   ]
  },
  {
   "cell_type": "markdown",
   "metadata": {},
   "source": [
    "## Obtain Example Data\n",
    "\n",
    "\n",
    "We generate some example synthetic document data. For the purposes of this notebook we will omit the details of this process. All we need to know is that each piece of data, commonly called a *\"document\"*, is a vector of integers representing *\"word counts\"* within the document. In this particular example there are a total of 25 words in the *\"vocabulary\"*.\n",
    "\n",
    "$$\n",
    "\\underbrace{w}_{\\text{document}} = \\overbrace{\\big[ w_1, w_2, \\ldots, w_V \\big] }^{\\text{word counts}},\n",
    "\\quad\n",
    "V = \\text{vocabulary size}\n",
    "$$\n",
    "\n",
    "These data are based on that used by Griffiths and Steyvers in their paper [Finding Scientific Topics](http://psiexp.ss.uci.edu/research/papers/sciencetopics.pdf). For more information, see the **LDA-Science.ipynb** notebook."
   ]
  },
  {
   "cell_type": "code",
   "execution_count": null,
   "metadata": {
    "collapsed": true
   },
   "outputs": [],
   "source": [
    "print('Generating example data...')\n",
    "num_documents = 4000\n",
    "num_topics = 5\n",
    "known_alpha, known_beta, documents, topic_mixtures = generate_griffiths_data(\n",
    "    num_documents=num_documents, num_topics=num_topics)\n"
   ]
  },
  {
   "cell_type": "code",
   "execution_count": null,
   "metadata": {},
   "outputs": [],
   "source": [
    "    \n",
    "vocabulary_size = len(documents[0])\n",
    "\n",
    "# separate the generated data into training and tests subsets\n",
    "num_documents_training = int(0.9*num_documents)\n",
    "num_documents_test = num_documents - num_documents_training\n",
    "\n",
    "documents_training = documents[:num_documents_training]\n",
    "documents_test = documents[num_documents_training:]\n",
    "\n",
    "topic_mixtures_training = topic_mixtures[:num_documents_training]\n",
    "topic_mixtures_test = topic_mixtures[num_documents_training:]\n",
    "\n",
    "print('documents_training.shape = {}'.format(documents_training.shape))\n",
    "print('documents_test.shape = {}'.format(documents_test.shape))"
   ]
  },
  {
   "cell_type": "markdown",
   "metadata": {},
   "source": [
    "## Inspect Example Data\n",
    "\n",
    "*What does the example data actually look like?* Below we print an example document as well as its corresponding known *topic-mixture*. A topic-mixture serves as the \"label\" in the LDA model. It describes the ratio of topics from which the words in the document are found.\n",
    "\n",
    "For example, if the topic mixture of an input document $\\mathbf{w}$ is,\n",
    "\n",
    "$$\\theta = \\left[ 0.3, 0.2, 0, 0.5, 0 \\right]$$\n",
    "\n",
    "then $\\mathbf{w}$ is 30% generated from the first topic, 20% from the second topic, and 50% from the fourth topic. For more information see **How LDA Works** in the SageMaker documentation as well as the **LDA-Science.ipynb** notebook.\n",
    "\n",
    "Below, we compute the topic mixtures for the first few training documents. As we can see, each document is a vector of word counts from the 25-word vocabulary and its topic-mixture is a probability distribution across the five topics used to generate the sample dataset."
   ]
  },
  {
   "cell_type": "code",
   "execution_count": 29,
   "metadata": {
    "collapsed": true
   },
   "outputs": [
    {
     "output_type": "stream",
     "name": "stdout",
     "text": "First training document =\n[23.  5.  0.  0.  0. 23.  7.  0.  0.  0. 31.  6.  0.  0.  0. 15.  6.  0.\n  0.  0. 18.  7.  0.  0.  0.]\n\nVocabulary size = 25\n"
    }
   ],
   "source": [
    "print('First training document =\\n{}'.format(documents[0]))\n",
    "print('\\nVocabulary size = {}'.format(vocabulary_size))"
   ]
  },
  {
   "cell_type": "code",
   "execution_count": 30,
   "metadata": {
    "collapsed": true
   },
   "outputs": [
    {
     "output_type": "stream",
     "name": "stdout",
     "text": "Known topic mixture of first document =\n[0.79  0.209 0.    0.    0.   ]\n\nNumber of topics = 5\nSum of elements = 0.9999999999999999\n"
    }
   ],
   "source": [
    "print('Known topic mixture of first document =\\n{}'.format(topic_mixtures_training[0]))\n",
    "print('\\nNumber of topics = {}'.format(num_topics))\n",
    "print('Sum of elements = {}'.format(topic_mixtures_training[0].sum()))"
   ]
  },
  {
   "cell_type": "markdown",
   "metadata": {},
   "source": [
    "Later, when we perform inference on the training data set we will compare the inferred topic mixture to this known one.\n",
    "\n",
    "---\n",
    "\n",
    "Human beings are visual creatures, so it might be helpful to come up with a visual representation of these documents. In the below plots, each pixel of a document represents a word. The greyscale intensity is a measure of how frequently that word occurs. Below we plot the first few documents of the training set reshaped into 5x5 pixel grids."
   ]
  },
  {
   "cell_type": "code",
   "execution_count": 32,
   "metadata": {
    "collapsed": true
   },
   "outputs": [
    {
     "output_type": "display_data",
     "data": {
      "text/plain": "<Figure size 1280x480 with 25 Axes>",
      "image/svg+xml": "<?xml version=\"1.0\" encoding=\"utf-8\" standalone=\"no\"?>\n<!DOCTYPE svg PUBLIC \"-//W3C//DTD SVG 1.1//EN\"\n  \"http://www.w3.org/Graphics/SVG/1.1/DTD/svg11.dtd\">\n<!-- Created with matplotlib (https://matplotlib.org/) -->\n<svg height=\"205.462125pt\" version=\"1.1\" viewBox=\"0 0 467.8 205.462125\" width=\"467.8pt\" xmlns=\"http://www.w3.org/2000/svg\" xmlns:xlink=\"http://www.w3.org/1999/xlink\">\n <defs>\n  <style type=\"text/css\">\n*{stroke-linecap:butt;stroke-linejoin:round;}\n  </style>\n </defs>\n <g id=\"figure_1\">\n  <g id=\"patch_1\">\n   <path d=\"M 0 205.462125 \nL 467.8 205.462125 \nL 467.8 0 \nL 0 0 \nz\n\" style=\"fill:none;\"/>\n  </g>\n  <g id=\"axes_1\">\n   <g id=\"patch_2\">\n    <path d=\"M 18.856151 59.977059 \nL 50.03321 59.977059 \nL 50.03321 28.8 \nL 18.856151 28.8 \nz\n\" style=\"fill:#ffffff;\"/>\n   </g>\n   <g clip-path=\"url(#pc72078f4ae)\">\n    <image height=\"31.5\" id=\"image3325ec3b7b\" transform=\"scale(1 -1)translate(0 -31.5)\" width=\"31.5\" x=\"18.856151\" xlink:href=\"data:image/png;base64,\niVBORw0KGgoAAAANSUhEUgAAAEYAAABGCAYAAABxLuKEAAAABHNCSVQICAgIfAhkiAAAAOVJREFUeJzt0iFuhGAURtFpAwbBHkaMwrJqPKtDtCs45g9pEff4L3m5eV/Hcfy8Buz7PjJ7vd/vod1f+/7vA56qMFAYKAwUBgoDhYHCQGGgMFAYKAwUBqZ1XYeG8zzffMqz9DFQGCgMFAYKA4WBwkBhoDBQGCgMFAYKA9N5nkPDbdtuPuVZ+hgoDBQGCgOFgcJAYaAwUBgoDBQGCgOFgenz+QwNr+u6+ZRn6WOgMFAYKAwUBgoDhYHCQGGgMFAYKAwUBqbR4bIsd97xOH0MFAYKA4WBwkBhoDBQGCgMFAYKA4WBwsAv1TMK59WoDtcAAAAASUVORK5CYII=\" y=\"-28.477059\"/>\n   </g>\n   <g id=\"matplotlib.axis_1\"/>\n   <g id=\"matplotlib.axis_2\"/>\n   <g id=\"patch_3\">\n    <path d=\"M 18.856151 59.977059 \nL 18.856151 28.8 \n\" style=\"fill:none;stroke:#000000;stroke-linecap:square;stroke-linejoin:miter;stroke-width:0.8;\"/>\n   </g>\n   <g id=\"patch_4\">\n    <path d=\"M 50.03321 59.977059 \nL 50.03321 28.8 \n\" style=\"fill:none;stroke:#000000;stroke-linecap:square;stroke-linejoin:miter;stroke-width:0.8;\"/>\n   </g>\n   <g id=\"patch_5\">\n    <path d=\"M 18.856151 59.977059 \nL 50.03321 59.977059 \n\" style=\"fill:none;stroke:#000000;stroke-linecap:square;stroke-linejoin:miter;stroke-width:0.8;\"/>\n   </g>\n   <g id=\"patch_6\">\n    <path d=\"M 18.856151 28.8 \nL 50.03321 28.8 \n\" style=\"fill:none;stroke:#000000;stroke-linecap:square;stroke-linejoin:miter;stroke-width:0.8;\"/>\n   </g>\n  </g>\n  <g id=\"axes_2\">\n   <g id=\"patch_7\">\n    <path d=\"M 75.843385 59.977059 \nL 107.020444 59.977059 \nL 107.020444 28.8 \nL 75.843385 28.8 \nz\n\" style=\"fill:#ffffff;\"/>\n   </g>\n   <g clip-path=\"url(#p501880e19b)\">\n    <image height=\"31.5\" id=\"image71560fde57\" transform=\"scale(1 -1)translate(0 -31.5)\" width=\"31.5\" x=\"75.843385\" xlink:href=\"data:image/png;base64,\niVBORw0KGgoAAAANSUhEUgAAAEYAAABGCAYAAABxLuKEAAAABHNCSVQICAgIfAhkiAAAAPlJREFUeJzt2cENgzAQBVES2QcqoyOKoEmXwcFITgVDpC+L5DDvvspm5MuK1xhjLIHjOJKxZd/3aO5p718v8K8MAwwDDAMMAwwDDAMMAwwDDAMMAwwDDANKOtham7nHV9d1RXOlZH/RFwMMAwwDDAMMAwwDDAMMAwwDDAMMAwwDDANKerXWWievcq/3Hs15XU9mGGAYYBhgGGAYYBhgGGAYYBhgGGAYYBgQf7tOr9bUuq6P/p4vBhgGGAYYBhgGGAYYBhgGGAYYBhgGGAYYBpT0St62bfIq987zjObSq9wXAwwDDAMMAwwDDAMMAwwDDAMMAwwDDAMMAz50Pxc1ryJ5PQAAAABJRU5ErkJggg==\" y=\"-28.477059\"/>\n   </g>\n   <g id=\"matplotlib.axis_3\"/>\n   <g id=\"matplotlib.axis_4\"/>\n   <g id=\"patch_8\">\n    <path d=\"M 75.843385 59.977059 \nL 75.843385 28.8 \n\" style=\"fill:none;stroke:#000000;stroke-linecap:square;stroke-linejoin:miter;stroke-width:0.8;\"/>\n   </g>\n   <g id=\"patch_9\">\n    <path d=\"M 107.020444 59.977059 \nL 107.020444 28.8 \n\" style=\"fill:none;stroke:#000000;stroke-linecap:square;stroke-linejoin:miter;stroke-width:0.8;\"/>\n   </g>\n   <g id=\"patch_10\">\n    <path d=\"M 75.843385 59.977059 \nL 107.020444 59.977059 \n\" style=\"fill:none;stroke:#000000;stroke-linecap:square;stroke-linejoin:miter;stroke-width:0.8;\"/>\n   </g>\n   <g id=\"patch_11\">\n    <path d=\"M 75.843385 28.8 \nL 107.020444 28.8 \n\" style=\"fill:none;stroke:#000000;stroke-linecap:square;stroke-linejoin:miter;stroke-width:0.8;\"/>\n   </g>\n  </g>\n  <g id=\"axes_3\">\n   <g id=\"patch_12\">\n    <path d=\"M 132.83062 59.977059 \nL 164.007678 59.977059 \nL 164.007678 28.8 \nL 132.83062 28.8 \nz\n\" style=\"fill:#ffffff;\"/>\n   </g>\n   <g clip-path=\"url(#pba2ddf1107)\">\n    <image height=\"31.5\" id=\"image277f7d822b\" transform=\"scale(1 -1)translate(0 -31.5)\" width=\"31.5\" x=\"132.83062\" xlink:href=\"data:image/png;base64,\niVBORw0KGgoAAAANSUhEUgAAAEYAAABGCAYAAABxLuKEAAAABHNCSVQICAgIfAhkiAAAAPxJREFUeJzt2bENgzAQQNEQufICbMdujOFp3ELhhsIukwl+hE4IpOi//sTp6xrkaV3XzytgWZbI2O32fQ/NvS/e428YBhgGGAYYBhgGGAYYBhgGGAYYBhgGGAZM27aF/q7neb56l5+O4wjNtdZCc14MMAwwDDAMMAwwDDAMMAwwDDAMMAwwDDAMSKWU0ODdb9c551u/58UAwwDDAMMAwwDDAMMAwwDDAMMAwwDDAMOA1Ht/eodTonvWWkNzXgwwDDAMMAwwDDAMMAwwDDAMMAwwDDAMMAxIY4yndzgl+nYdnfNigGGAYYBhgGGAYYBhgGGAYYBhgGGAYYBhwBfebR/GOBRjFAAAAABJRU5ErkJggg==\" y=\"-28.477059\"/>\n   </g>\n   <g id=\"matplotlib.axis_5\"/>\n   <g id=\"matplotlib.axis_6\"/>\n   <g id=\"patch_13\">\n    <path d=\"M 132.83062 59.977059 \nL 132.83062 28.8 \n\" style=\"fill:none;stroke:#000000;stroke-linecap:square;stroke-linejoin:miter;stroke-width:0.8;\"/>\n   </g>\n   <g id=\"patch_14\">\n    <path d=\"M 164.007678 59.977059 \nL 164.007678 28.8 \n\" style=\"fill:none;stroke:#000000;stroke-linecap:square;stroke-linejoin:miter;stroke-width:0.8;\"/>\n   </g>\n   <g id=\"patch_15\">\n    <path d=\"M 132.83062 59.977059 \nL 164.007678 59.977059 \n\" style=\"fill:none;stroke:#000000;stroke-linecap:square;stroke-linejoin:miter;stroke-width:0.8;\"/>\n   </g>\n   <g id=\"patch_16\">\n    <path d=\"M 132.83062 28.8 \nL 164.007678 28.8 \n\" style=\"fill:none;stroke:#000000;stroke-linecap:square;stroke-linejoin:miter;stroke-width:0.8;\"/>\n   </g>\n  </g>\n  <g id=\"axes_4\">\n   <g id=\"patch_17\">\n    <path d=\"M 189.817854 59.977059 \nL 220.994912 59.977059 \nL 220.994912 28.8 \nL 189.817854 28.8 \nz\n\" style=\"fill:#ffffff;\"/>\n   </g>\n   <g clip-path=\"url(#p76f2254c60)\">\n    <image height=\"31.5\" id=\"imagebc6327d54f\" transform=\"scale(1 -1)translate(0 -31.5)\" width=\"31.5\" x=\"189.817854\" xlink:href=\"data:image/png;base64,\niVBORw0KGgoAAAANSUhEUgAAAEYAAABGCAYAAABxLuKEAAAABHNCSVQICAgIfAhkiAAAAPpJREFUeJzt17ENgzAYBWESQesdPAFjMKxHYgEaNxRunQmueUpocl//BDq5+V9zzrkEWmvJbDmOI9qVUqLdeZ7R7h2t/oBhgGGAYYBhgGGAYYBhgGGAYYBhgGGAYcCaDq/rinbbtqWfjNRao50vBhgGGAYYBhgGGAYYBhgGGAYYBhgGGAYYBsTXdXolP31d996jnS8GGAYYBhgGGAYYBhgGGAYYBhgGGAYYBhgGxNf1fd/ZB9f4k4/yxQDDAMMAwwDDAMMAwwDDAMMAwwDDAMMAw4D41N33/Zv/8TNjjGjniwGGAYYBhgGGAYYBhgGGAYYBhgGGAYYBhgEf4q0WgV4QWp4AAAAASUVORK5CYII=\" y=\"-28.477059\"/>\n   </g>\n   <g id=\"matplotlib.axis_7\"/>\n   <g id=\"matplotlib.axis_8\"/>\n   <g id=\"patch_18\">\n    <path d=\"M 189.817854 59.977059 \nL 189.817854 28.8 \n\" style=\"fill:none;stroke:#000000;stroke-linecap:square;stroke-linejoin:miter;stroke-width:0.8;\"/>\n   </g>\n   <g id=\"patch_19\">\n    <path d=\"M 220.994912 59.977059 \nL 220.994912 28.8 \n\" style=\"fill:none;stroke:#000000;stroke-linecap:square;stroke-linejoin:miter;stroke-width:0.8;\"/>\n   </g>\n   <g id=\"patch_20\">\n    <path d=\"M 189.817854 59.977059 \nL 220.994912 59.977059 \n\" style=\"fill:none;stroke:#000000;stroke-linecap:square;stroke-linejoin:miter;stroke-width:0.8;\"/>\n   </g>\n   <g id=\"patch_21\">\n    <path d=\"M 189.817854 28.8 \nL 220.994912 28.8 \n\" style=\"fill:none;stroke:#000000;stroke-linecap:square;stroke-linejoin:miter;stroke-width:0.8;\"/>\n   </g>\n  </g>\n  <g id=\"axes_5\">\n   <g id=\"patch_22\">\n    <path d=\"M 246.805088 59.977059 \nL 277.982146 59.977059 \nL 277.982146 28.8 \nL 246.805088 28.8 \nz\n\" style=\"fill:#ffffff;\"/>\n   </g>\n   <g clip-path=\"url(#pf52c58cafa)\">\n    <image height=\"31.5\" id=\"imageef4230a63f\" transform=\"scale(1 -1)translate(0 -31.5)\" width=\"31.5\" x=\"246.805088\" xlink:href=\"data:image/png;base64,\niVBORw0KGgoAAAANSUhEUgAAAEYAAABGCAYAAABxLuKEAAAABHNCSVQICAgIfAhkiAAAAPZJREFUeJzt27ENgzAABVESuXFNAQ0NOzC5Z2EDZqBxQSa45gshIt3rv7BO7iw+rbVrCKzrmsyGcRyj3TRN0S71ffRrf8QwwDDAMMAwwDDAMMAwwDDAMMAwwDDAMKAsyxINe+83H+VdvDHAMMAwwDDAMMAwwDDAMMAwwDDAMMAwwDCg7PseDbdti3bp2/XTvDHAMMAwwDDAMMAwwDDAMMAwwDDAMMAwwDCgzPMcDWutNx/lXbwxwDDAMMAwwDDAMMAwwDDAMMAwwDDAMMAwoBzHEQ3P84x26Zu3/12/hGGAYYBhgGGAYYBhgGGAYYBhgGGAYYBhwA/y4hIEF1TA7wAAAABJRU5ErkJggg==\" y=\"-28.477059\"/>\n   </g>\n   <g id=\"matplotlib.axis_9\"/>\n   <g id=\"matplotlib.axis_10\"/>\n   <g id=\"patch_23\">\n    <path d=\"M 246.805088 59.977059 \nL 246.805088 28.8 \n\" style=\"fill:none;stroke:#000000;stroke-linecap:square;stroke-linejoin:miter;stroke-width:0.8;\"/>\n   </g>\n   <g id=\"patch_24\">\n    <path d=\"M 277.982146 59.977059 \nL 277.982146 28.8 \n\" style=\"fill:none;stroke:#000000;stroke-linecap:square;stroke-linejoin:miter;stroke-width:0.8;\"/>\n   </g>\n   <g id=\"patch_25\">\n    <path d=\"M 246.805088 59.977059 \nL 277.982146 59.977059 \n\" style=\"fill:none;stroke:#000000;stroke-linecap:square;stroke-linejoin:miter;stroke-width:0.8;\"/>\n   </g>\n   <g id=\"patch_26\">\n    <path d=\"M 246.805088 28.8 \nL 277.982146 28.8 \n\" style=\"fill:none;stroke:#000000;stroke-linecap:square;stroke-linejoin:miter;stroke-width:0.8;\"/>\n   </g>\n  </g>\n  <g id=\"axes_6\">\n   <g id=\"patch_27\">\n    <path d=\"M 303.792322 59.977059 \nL 334.96938 59.977059 \nL 334.96938 28.8 \nL 303.792322 28.8 \nz\n\" style=\"fill:#ffffff;\"/>\n   </g>\n   <g clip-path=\"url(#pf4dccc91a7)\">\n    <image height=\"31.5\" id=\"image1e5c5866f1\" transform=\"scale(1 -1)translate(0 -31.5)\" width=\"31.5\" x=\"303.792322\" xlink:href=\"data:image/png;base64,\niVBORw0KGgoAAAANSUhEUgAAAEYAAABGCAYAAABxLuKEAAAABHNCSVQICAgIfAhkiAAAAP9JREFUeJzt2yEOhDAYBeHupmjOUNP73wiLpaaiJOwJxjyB2fn8M5OaP4TPWuspgVprMivHcUS7MUa0a61Fu2+0+gOGAYYBhgGGAYYBhgGGAYYBhgGGAYYBhgE1vZJT27ZFuzlntLvvO9r5YoBhgGGAYYBhgGGAYYBhgGGAYYBhgGGAYUBNr8/0Kl9rRbvzPKNd7z3a+WKAYYBhgGGAYYBhgGGAYYBhgGGAYYBhgGHA69+u02/Q6VV+XVe088UAwwDDAMMAwwDDAMMAwwDDAMMAwwDDAMOAd0/rkl/J6f/T+75HO18MMAwwDDAMMAwwDDAMMAwwDDAMMAwwDDAM+AGnuSWrJ/Ke+gAAAABJRU5ErkJggg==\" y=\"-28.477059\"/>\n   </g>\n   <g id=\"matplotlib.axis_11\"/>\n   <g id=\"matplotlib.axis_12\"/>\n   <g id=\"patch_28\">\n    <path d=\"M 303.792322 59.977059 \nL 303.792322 28.8 \n\" style=\"fill:none;stroke:#000000;stroke-linecap:square;stroke-linejoin:miter;stroke-width:0.8;\"/>\n   </g>\n   <g id=\"patch_29\">\n    <path d=\"M 334.96938 59.977059 \nL 334.96938 28.8 \n\" style=\"fill:none;stroke:#000000;stroke-linecap:square;stroke-linejoin:miter;stroke-width:0.8;\"/>\n   </g>\n   <g id=\"patch_30\">\n    <path d=\"M 303.792322 59.977059 \nL 334.96938 59.977059 \n\" style=\"fill:none;stroke:#000000;stroke-linecap:square;stroke-linejoin:miter;stroke-width:0.8;\"/>\n   </g>\n   <g id=\"patch_31\">\n    <path d=\"M 303.792322 28.8 \nL 334.96938 28.8 \n\" style=\"fill:none;stroke:#000000;stroke-linecap:square;stroke-linejoin:miter;stroke-width:0.8;\"/>\n   </g>\n  </g>\n  <g id=\"axes_7\">\n   <g id=\"patch_32\">\n    <path d=\"M 360.779556 59.977059 \nL 391.956615 59.977059 \nL 391.956615 28.8 \nL 360.779556 28.8 \nz\n\" style=\"fill:#ffffff;\"/>\n   </g>\n   <g clip-path=\"url(#p1d64bd3b45)\">\n    <image height=\"31.5\" id=\"imagecd72ace933\" transform=\"scale(1 -1)translate(0 -31.5)\" width=\"31.5\" x=\"360.779556\" xlink:href=\"data:image/png;base64,\niVBORw0KGgoAAAANSUhEUgAAAEYAAABGCAYAAABxLuKEAAAABHNCSVQICAgIfAhkiAAAAQpJREFUeJzt2SEOhDAABdHuplgQ3IKeAc3BkVwEg6jCkOyeYMwXa3ae/4FMapq+ruv6lMBxHMmsbNsW7fZ9j3bruka7d7T6A4YBhgGGAYYBhgGGAYYBhgGGAYYBhgGGAbXWGg3neY52z/NEu/M8o13KEwMMAwwDDAMMAwwDDAMMAwwDDAMMAwwDDAPqMAzR8L7v7IPhbb61Fu3S//TEAMMAwwDDAMMAwwDDAMMAwwDDAMMAwwDDgOyqW0rpvUe7X79dL8sS7TwxwDDAMMAwwDDAMMAwwDDAMMAwwDDAMMAwIH67nqYp+2D4dj2OY7RLeWKAYYBhgGGAYYBhgGGAYYBhgGGAYYBhgGHAFyU1IFannpAdAAAAAElFTkSuQmCC\" y=\"-28.477059\"/>\n   </g>\n   <g id=\"matplotlib.axis_13\"/>\n   <g id=\"matplotlib.axis_14\"/>\n   <g id=\"patch_33\">\n    <path d=\"M 360.779556 59.977059 \nL 360.779556 28.8 \n\" style=\"fill:none;stroke:#000000;stroke-linecap:square;stroke-linejoin:miter;stroke-width:0.8;\"/>\n   </g>\n   <g id=\"patch_34\">\n    <path d=\"M 391.956615 59.977059 \nL 391.956615 28.8 \n\" style=\"fill:none;stroke:#000000;stroke-linecap:square;stroke-linejoin:miter;stroke-width:0.8;\"/>\n   </g>\n   <g id=\"patch_35\">\n    <path d=\"M 360.779556 59.977059 \nL 391.956615 59.977059 \n\" style=\"fill:none;stroke:#000000;stroke-linecap:square;stroke-linejoin:miter;stroke-width:0.8;\"/>\n   </g>\n   <g id=\"patch_36\">\n    <path d=\"M 360.779556 28.8 \nL 391.956615 28.8 \n\" style=\"fill:none;stroke:#000000;stroke-linecap:square;stroke-linejoin:miter;stroke-width:0.8;\"/>\n   </g>\n  </g>\n  <g id=\"axes_8\">\n   <g id=\"patch_37\">\n    <path d=\"M 417.76679 59.977059 \nL 448.943849 59.977059 \nL 448.943849 28.8 \nL 417.76679 28.8 \nz\n\" style=\"fill:#ffffff;\"/>\n   </g>\n   <g clip-path=\"url(#p6e6e4daaf9)\">\n    <image height=\"31.5\" id=\"image395599debb\" transform=\"scale(1 -1)translate(0 -31.5)\" width=\"31.5\" x=\"417.76679\" xlink:href=\"data:image/png;base64,\niVBORw0KGgoAAAANSUhEUgAAAEYAAABGCAYAAABxLuKEAAAABHNCSVQICAgIfAhkiAAAAP9JREFUeJzt17ENgzAABVESQcEO0DISQzIZCwCNJTPBydKXlSb3+i/MyY0/tdY6BPZ9T2bDcRzR7nmeaDfPc7T7Rqs/YBhgGGAYYBhgGGAYYBhgGGAYYBhgGGAYMKbDbdt6nqNpmqaffs8bAwwDDAMMAwwDDAMMAwwDDAMMAwwDDAMMA+LX9X3fPc/RdJ5ntFuWJdp5Y4BhgGGAYYBhgGGAYYBhgGGAYYBhgGGAYUD8ul7Xtec5mtJXcsobAwwDDAMMAwwDDAMMAwwDDAMMAwwDDAMMA+LX9XVdPc/RVEqJduOY/aI3BhgGGAYYBhgGGAYYBhgGGAYYBhgGGAYYBrwIIBeJb7t7VwAAAABJRU5ErkJggg==\" y=\"-28.477059\"/>\n   </g>\n   <g id=\"matplotlib.axis_15\"/>\n   <g id=\"matplotlib.axis_16\"/>\n   <g id=\"patch_38\">\n    <path d=\"M 417.76679 59.977059 \nL 417.76679 28.8 \n\" style=\"fill:none;stroke:#000000;stroke-linecap:square;stroke-linejoin:miter;stroke-width:0.8;\"/>\n   </g>\n   <g id=\"patch_39\">\n    <path d=\"M 448.943849 59.977059 \nL 448.943849 28.8 \n\" style=\"fill:none;stroke:#000000;stroke-linecap:square;stroke-linejoin:miter;stroke-width:0.8;\"/>\n   </g>\n   <g id=\"patch_40\">\n    <path d=\"M 417.76679 59.977059 \nL 448.943849 59.977059 \n\" style=\"fill:none;stroke:#000000;stroke-linecap:square;stroke-linejoin:miter;stroke-width:0.8;\"/>\n   </g>\n   <g id=\"patch_41\">\n    <path d=\"M 417.76679 28.8 \nL 448.943849 28.8 \n\" style=\"fill:none;stroke:#000000;stroke-linecap:square;stroke-linejoin:miter;stroke-width:0.8;\"/>\n   </g>\n  </g>\n  <g id=\"axes_9\">\n   <g id=\"patch_42\">\n    <path d=\"M 18.856151 97.389529 \nL 50.03321 97.389529 \nL 50.03321 66.212471 \nL 18.856151 66.212471 \nz\n\" style=\"fill:#ffffff;\"/>\n   </g>\n   <g clip-path=\"url(#pdffe2b3b1e)\">\n    <image height=\"31.5\" id=\"imageddd5e70bc5\" transform=\"scale(1 -1)translate(0 -31.5)\" width=\"31.5\" x=\"18.856151\" xlink:href=\"data:image/png;base64,\niVBORw0KGgoAAAANSUhEUgAAAEYAAABGCAYAAABxLuKEAAAABHNCSVQICAgIfAhkiAAAAQVJREFUeJzt26ENwzAABVG3MjI0MfEQ2X+K4JDQTBCSSOkER76qkt7jX5VOJpbT13VdTwmc55nMSmst2q3rGu2WZYl272j1BwwDDAMMAwwDDAMMAwwDDAMMAwwDDAMMA2qtNRqmt+T097Zti3berr/MMMAwwDDAMMAwwDDAMMAwwDDAMMAwwDCg3vcdDY/jiHZzzmiX3uZTnhhgGGAYYBhgGGAYYBhgGGAYYBhgGGAYYBiQPSSX3992932PdulbuScGGAYYBhgGGAYYBhgGGAYYBhgGGAYYBhgGxF+Gp/+77r1HuzFGtEvf5j0xwDDAMMAwwDDAMMAwwDDAMMAwwDDAMMAw4APU6h0aUbjEHwAAAABJRU5ErkJggg==\" y=\"-65.889529\"/>\n   </g>\n   <g id=\"matplotlib.axis_17\"/>\n   <g id=\"matplotlib.axis_18\"/>\n   <g id=\"patch_43\">\n    <path d=\"M 18.856151 97.389529 \nL 18.856151 66.212471 \n\" style=\"fill:none;stroke:#000000;stroke-linecap:square;stroke-linejoin:miter;stroke-width:0.8;\"/>\n   </g>\n   <g id=\"patch_44\">\n    <path d=\"M 50.03321 97.389529 \nL 50.03321 66.212471 \n\" style=\"fill:none;stroke:#000000;stroke-linecap:square;stroke-linejoin:miter;stroke-width:0.8;\"/>\n   </g>\n   <g id=\"patch_45\">\n    <path d=\"M 18.856151 97.389529 \nL 50.03321 97.389529 \n\" style=\"fill:none;stroke:#000000;stroke-linecap:square;stroke-linejoin:miter;stroke-width:0.8;\"/>\n   </g>\n   <g id=\"patch_46\">\n    <path d=\"M 18.856151 66.212471 \nL 50.03321 66.212471 \n\" style=\"fill:none;stroke:#000000;stroke-linecap:square;stroke-linejoin:miter;stroke-width:0.8;\"/>\n   </g>\n  </g>\n  <g id=\"axes_10\">\n   <g id=\"patch_47\">\n    <path d=\"M 75.843385 97.389529 \nL 107.020444 97.389529 \nL 107.020444 66.212471 \nL 75.843385 66.212471 \nz\n\" style=\"fill:#ffffff;\"/>\n   </g>\n   <g clip-path=\"url(#p7a08d42f10)\">\n    <image height=\"31.5\" id=\"imagef84f9dd8c0\" transform=\"scale(1 -1)translate(0 -31.5)\" width=\"31.5\" x=\"75.843385\" xlink:href=\"data:image/png;base64,\niVBORw0KGgoAAAANSUhEUgAAAEYAAABGCAYAAABxLuKEAAAABHNCSVQICAgIfAhkiAAAAQVJREFUeJzt2rEJhEAABVHvWAMNDOzAxizOjixFk02EvQrG4CPHwc3LPy7DJqKv1lrrAtu2JbNuXddoV2uNdsMwRLt3tPoDhgGGAYYBhgGGAYYBhgGGAYYBhgGGAYYB5bquaHgcx8NHuefb9Y8wDDAMMAwwDDAMMAwwDDAMMAwwDDAMMAwopZRoOI7jw0e5N8/zV5/njQGGAYYBhgGGAYYBhgGGAYYBhgGGAYYBhgEl/Sa87/vDR7l3nme0m6Yp2nljgGGAYYBhgGGAYYBhgGGAYYBhgGGAYYBhQOn7PhouyxLt0j/R07fklDcGGAYYBhgGGAYYBhgGGAYYBhgGGAYYBhgGfAAdZh+fR9OqqwAAAABJRU5ErkJggg==\" y=\"-65.889529\"/>\n   </g>\n   <g id=\"matplotlib.axis_19\"/>\n   <g id=\"matplotlib.axis_20\"/>\n   <g id=\"patch_48\">\n    <path d=\"M 75.843385 97.389529 \nL 75.843385 66.212471 \n\" style=\"fill:none;stroke:#000000;stroke-linecap:square;stroke-linejoin:miter;stroke-width:0.8;\"/>\n   </g>\n   <g id=\"patch_49\">\n    <path d=\"M 107.020444 97.389529 \nL 107.020444 66.212471 \n\" style=\"fill:none;stroke:#000000;stroke-linecap:square;stroke-linejoin:miter;stroke-width:0.8;\"/>\n   </g>\n   <g id=\"patch_50\">\n    <path d=\"M 75.843385 97.389529 \nL 107.020444 97.389529 \n\" style=\"fill:none;stroke:#000000;stroke-linecap:square;stroke-linejoin:miter;stroke-width:0.8;\"/>\n   </g>\n   <g id=\"patch_51\">\n    <path d=\"M 75.843385 66.212471 \nL 107.020444 66.212471 \n\" style=\"fill:none;stroke:#000000;stroke-linecap:square;stroke-linejoin:miter;stroke-width:0.8;\"/>\n   </g>\n  </g>\n  <g id=\"axes_11\">\n   <g id=\"patch_52\">\n    <path d=\"M 132.83062 97.389529 \nL 164.007678 97.389529 \nL 164.007678 66.212471 \nL 132.83062 66.212471 \nz\n\" style=\"fill:#ffffff;\"/>\n   </g>\n   <g clip-path=\"url(#pf8acac5065)\">\n    <image height=\"31.5\" id=\"image45d15b50a8\" transform=\"scale(1 -1)translate(0 -31.5)\" width=\"31.5\" x=\"132.83062\" xlink:href=\"data:image/png;base64,\niVBORw0KGgoAAAANSUhEUgAAAEYAAABGCAYAAABxLuKEAAAABHNCSVQICAgIfAhkiAAAANtJREFUeJzt1zEKg0AQQNEkpLG29pyewQtraU7wUixhIfBfP4x+ptnnfd/3Y6J934fmjuP48Zd895q67Y8UBgoDhYHCQGGgMFAYKAwUBgoDhYHCwHv2wnVdZ68c0sVAYaAwUBgoDBQGCgOFgcJAYaAwUBgoDEx/XZ/nOXvlkC4GCgOFgcJAYaAwUBgoDBQGCgOFgcJAYaAwUBgoDBQGCgOFgcJAYaAwUBgoDBQGCgOFgfd1XUODy7IMzW3bNjQ3avT/uhgoDBQGCgOFgcJAYaAwUBgoDBQGCgOFgQ+idxDlmmzJBwAAAABJRU5ErkJggg==\" y=\"-65.889529\"/>\n   </g>\n   <g id=\"matplotlib.axis_21\"/>\n   <g id=\"matplotlib.axis_22\"/>\n   <g id=\"patch_53\">\n    <path d=\"M 132.83062 97.389529 \nL 132.83062 66.212471 \n\" style=\"fill:none;stroke:#000000;stroke-linecap:square;stroke-linejoin:miter;stroke-width:0.8;\"/>\n   </g>\n   <g id=\"patch_54\">\n    <path d=\"M 164.007678 97.389529 \nL 164.007678 66.212471 \n\" style=\"fill:none;stroke:#000000;stroke-linecap:square;stroke-linejoin:miter;stroke-width:0.8;\"/>\n   </g>\n   <g id=\"patch_55\">\n    <path d=\"M 132.83062 97.389529 \nL 164.007678 97.389529 \n\" style=\"fill:none;stroke:#000000;stroke-linecap:square;stroke-linejoin:miter;stroke-width:0.8;\"/>\n   </g>\n   <g id=\"patch_56\">\n    <path d=\"M 132.83062 66.212471 \nL 164.007678 66.212471 \n\" style=\"fill:none;stroke:#000000;stroke-linecap:square;stroke-linejoin:miter;stroke-width:0.8;\"/>\n   </g>\n  </g>\n  <g id=\"axes_12\">\n   <g id=\"patch_57\">\n    <path d=\"M 189.817854 97.389529 \nL 220.994912 97.389529 \nL 220.994912 66.212471 \nL 189.817854 66.212471 \nz\n\" style=\"fill:#ffffff;\"/>\n   </g>\n   <g clip-path=\"url(#p4f0e319097)\">\n    <image height=\"31.5\" id=\"imagec9a79ac1a2\" transform=\"scale(1 -1)translate(0 -31.5)\" width=\"31.5\" x=\"189.817854\" xlink:href=\"data:image/png;base64,\niVBORw0KGgoAAAANSUhEUgAAAEYAAABGCAYAAABxLuKEAAAABHNCSVQICAgIfAhkiAAAAP5JREFUeJzt2iEOhDAABVF2U0QNJ8Bw5l4SU1EMApLdE4z52WB2nv8pmdQQeI0xPlNgWZZkNh3HEe3S81pr0e4drf6AYYBhgGGAYYBhgGGAYYBhgGGAYYBhgGFAOc8zGqZvu/M8R7v7vh/deWOAYYBhgGGAYYBhgGGAYYBhgGGAYYBhgGFAqbU+euB1XdEufc51XaOdNwYYBhgGGAYYBhgGGAYYBhgGGAYYBhgGGAaU9Fty6unz0j/RvTHAMMAwwDDAMMAwwDDAMMAwwDDAMMAwwDCg9N6jYfpNeN/3aLdtW7Tz7frHDAMMAwwDDAMMAwwDDAMMAwwDDAMMAwwDvug4IcqQ+Jv+AAAAAElFTkSuQmCC\" y=\"-65.889529\"/>\n   </g>\n   <g id=\"matplotlib.axis_23\"/>\n   <g id=\"matplotlib.axis_24\"/>\n   <g id=\"patch_58\">\n    <path d=\"M 189.817854 97.389529 \nL 189.817854 66.212471 \n\" style=\"fill:none;stroke:#000000;stroke-linecap:square;stroke-linejoin:miter;stroke-width:0.8;\"/>\n   </g>\n   <g id=\"patch_59\">\n    <path d=\"M 220.994912 97.389529 \nL 220.994912 66.212471 \n\" style=\"fill:none;stroke:#000000;stroke-linecap:square;stroke-linejoin:miter;stroke-width:0.8;\"/>\n   </g>\n   <g id=\"patch_60\">\n    <path d=\"M 189.817854 97.389529 \nL 220.994912 97.389529 \n\" style=\"fill:none;stroke:#000000;stroke-linecap:square;stroke-linejoin:miter;stroke-width:0.8;\"/>\n   </g>\n   <g id=\"patch_61\">\n    <path d=\"M 189.817854 66.212471 \nL 220.994912 66.212471 \n\" style=\"fill:none;stroke:#000000;stroke-linecap:square;stroke-linejoin:miter;stroke-width:0.8;\"/>\n   </g>\n  </g>\n  <g id=\"axes_13\">\n   <g id=\"patch_62\">\n    <path d=\"M 246.805088 97.389529 \nL 277.982146 97.389529 \nL 277.982146 66.212471 \nL 246.805088 66.212471 \nz\n\" style=\"fill:#ffffff;\"/>\n   </g>\n   <g clip-path=\"url(#p8d2a35ba60)\">\n    <image height=\"31.5\" id=\"image0e5b7875f4\" transform=\"scale(1 -1)translate(0 -31.5)\" width=\"31.5\" x=\"246.805088\" xlink:href=\"data:image/png;base64,\niVBORw0KGgoAAAANSUhEUgAAAEYAAABGCAYAAABxLuKEAAAABHNCSVQICAgIfAhkiAAAAPxJREFUeJzt27ENhDAUBFHuZAohpgendO1CqICEhBRLpoJJVieSm5dvMvqZ4TPGGFOgtZbMpvu+o922bdHuuq5o941Wf8AwwDDAMMAwwDDAMMAwwDDAMMAwwDDAMKD03qPhcRzRrtYa7VLzPEc7LwYYBhgGGAYYBhgGGAYYBhgGGAYYBhgGGAaUUko0XNc12qVvyanzPKOdFwMMAwwDDAMMAwwDDAMMAwwDDAMMAwwDDAPit+t936PdsizR7m1eDDAMMAwwDDAMMAwwDDAMMAwwDDAMMAwwDMgerqf8/+m3+WX4jxkGGAYYBhgGGAYYBhgGGAYYBhgGGAYYBjwbYyLqu4HCHQAAAABJRU5ErkJggg==\" y=\"-65.889529\"/>\n   </g>\n   <g id=\"matplotlib.axis_25\"/>\n   <g id=\"matplotlib.axis_26\"/>\n   <g id=\"patch_63\">\n    <path d=\"M 246.805088 97.389529 \nL 246.805088 66.212471 \n\" style=\"fill:none;stroke:#000000;stroke-linecap:square;stroke-linejoin:miter;stroke-width:0.8;\"/>\n   </g>\n   <g id=\"patch_64\">\n    <path d=\"M 277.982146 97.389529 \nL 277.982146 66.212471 \n\" style=\"fill:none;stroke:#000000;stroke-linecap:square;stroke-linejoin:miter;stroke-width:0.8;\"/>\n   </g>\n   <g id=\"patch_65\">\n    <path d=\"M 246.805088 97.389529 \nL 277.982146 97.389529 \n\" style=\"fill:none;stroke:#000000;stroke-linecap:square;stroke-linejoin:miter;stroke-width:0.8;\"/>\n   </g>\n   <g id=\"patch_66\">\n    <path d=\"M 246.805088 66.212471 \nL 277.982146 66.212471 \n\" style=\"fill:none;stroke:#000000;stroke-linecap:square;stroke-linejoin:miter;stroke-width:0.8;\"/>\n   </g>\n  </g>\n  <g id=\"axes_14\">\n   <g id=\"patch_67\">\n    <path d=\"M 303.792322 97.389529 \nL 334.96938 97.389529 \nL 334.96938 66.212471 \nL 303.792322 66.212471 \nz\n\" style=\"fill:#ffffff;\"/>\n   </g>\n   <g clip-path=\"url(#p974364cd60)\">\n    <image height=\"31.5\" id=\"imagecf64533f66\" transform=\"scale(1 -1)translate(0 -31.5)\" width=\"31.5\" x=\"303.792322\" xlink:href=\"data:image/png;base64,\niVBORw0KGgoAAAANSUhEUgAAAEYAAABGCAYAAABxLuKEAAAABHNCSVQICAgIfAhkiAAAAP1JREFUeJzt1yEOhDAABdHdDRUYTO+A5fzcAc09wFRU7J5gED8Es/P8T5tJTd+99+/rQdu2RbtxHKPdsizR7hOt/oBhgGGAYYBhgGGAYYBhgGGAYYBhgGGAYcDQe4+GpZRol553HEe083d9M8MAwwDDAMMAwwDDAMMAwwDDAMMAwwDDgOHpA9Pf7rquN9/kmi8GGAYYBhgGGAYYBhgGGAYYBhgGGAYYBhgGPP673vc92rXWbr7JNV8MMAwwDDAMMAwwDDAMMAwwDDAMMAwwDDAMGM7zjIa11mg3TVO0m+c52qV8McAwwDDAMMAwwDDAMMAwwDDAMMAwwDDAMOAHYDccq+kT7gMAAAAASUVORK5CYII=\" y=\"-65.889529\"/>\n   </g>\n   <g id=\"matplotlib.axis_27\"/>\n   <g id=\"matplotlib.axis_28\"/>\n   <g id=\"patch_68\">\n    <path d=\"M 303.792322 97.389529 \nL 303.792322 66.212471 \n\" style=\"fill:none;stroke:#000000;stroke-linecap:square;stroke-linejoin:miter;stroke-width:0.8;\"/>\n   </g>\n   <g id=\"patch_69\">\n    <path d=\"M 334.96938 97.389529 \nL 334.96938 66.212471 \n\" style=\"fill:none;stroke:#000000;stroke-linecap:square;stroke-linejoin:miter;stroke-width:0.8;\"/>\n   </g>\n   <g id=\"patch_70\">\n    <path d=\"M 303.792322 97.389529 \nL 334.96938 97.389529 \n\" style=\"fill:none;stroke:#000000;stroke-linecap:square;stroke-linejoin:miter;stroke-width:0.8;\"/>\n   </g>\n   <g id=\"patch_71\">\n    <path d=\"M 303.792322 66.212471 \nL 334.96938 66.212471 \n\" style=\"fill:none;stroke:#000000;stroke-linecap:square;stroke-linejoin:miter;stroke-width:0.8;\"/>\n   </g>\n  </g>\n  <g id=\"axes_15\">\n   <g id=\"patch_72\">\n    <path d=\"M 360.779556 97.389529 \nL 391.956615 97.389529 \nL 391.956615 66.212471 \nL 360.779556 66.212471 \nz\n\" style=\"fill:#ffffff;\"/>\n   </g>\n   <g clip-path=\"url(#p7e1b19d8bc)\">\n    <image height=\"31.5\" id=\"image0d9624fae1\" transform=\"scale(1 -1)translate(0 -31.5)\" width=\"31.5\" x=\"360.779556\" xlink:href=\"data:image/png;base64,\niVBORw0KGgoAAAANSUhEUgAAAEYAAABGCAYAAABxLuKEAAAABHNCSVQICAgIfAhkiAAAAQtJREFUeJzt2SEOg0AABdG2AYFBgMVwAhDc/wRYDIYTYEG2JxjED8F0nv/ZzWTdvpdl+b4CdV0ns1fXddFunudoN01TtPtEqz9gGGAYYBhgGGAYYBhgGGAYYBhgGGAYYBhQ7PseDfu+v/kq18qyfPQ8XwwwDDAMMAwwDDAMMAwwDDAMMAwwDDAMMAwo0uF5ntGuqqpot21btBuGIdr5YoBhgGGAYYBhgGGAYYBhgGGAYYBhgGGAYUCR/kEfxxHtmqaJdk//lftigGGAYYBhgGGAYYBhgGGAYYBhgGGAYYBhQLGuazQcx/Hmq1xr2/bR83wxwDDAMMAwwDDAMMAwwDDAMMAwwDDAMMAw4Acp9RgoTRHKlgAAAABJRU5ErkJggg==\" y=\"-65.889529\"/>\n   </g>\n   <g id=\"matplotlib.axis_29\"/>\n   <g id=\"matplotlib.axis_30\"/>\n   <g id=\"patch_73\">\n    <path d=\"M 360.779556 97.389529 \nL 360.779556 66.212471 \n\" style=\"fill:none;stroke:#000000;stroke-linecap:square;stroke-linejoin:miter;stroke-width:0.8;\"/>\n   </g>\n   <g id=\"patch_74\">\n    <path d=\"M 391.956615 97.389529 \nL 391.956615 66.212471 \n\" style=\"fill:none;stroke:#000000;stroke-linecap:square;stroke-linejoin:miter;stroke-width:0.8;\"/>\n   </g>\n   <g id=\"patch_75\">\n    <path d=\"M 360.779556 97.389529 \nL 391.956615 97.389529 \n\" style=\"fill:none;stroke:#000000;stroke-linecap:square;stroke-linejoin:miter;stroke-width:0.8;\"/>\n   </g>\n   <g id=\"patch_76\">\n    <path d=\"M 360.779556 66.212471 \nL 391.956615 66.212471 \n\" style=\"fill:none;stroke:#000000;stroke-linecap:square;stroke-linejoin:miter;stroke-width:0.8;\"/>\n   </g>\n  </g>\n  <g id=\"axes_16\">\n   <g id=\"patch_77\">\n    <path d=\"M 417.76679 97.389529 \nL 448.943849 97.389529 \nL 448.943849 66.212471 \nL 417.76679 66.212471 \nz\n\" style=\"fill:#ffffff;\"/>\n   </g>\n   <g clip-path=\"url(#pd0e5f1262b)\">\n    <image height=\"31.5\" id=\"imageab0a97c6d2\" transform=\"scale(1 -1)translate(0 -31.5)\" width=\"31.5\" x=\"417.76679\" xlink:href=\"data:image/png;base64,\niVBORw0KGgoAAAANSUhEUgAAAEYAAABGCAYAAABxLuKEAAAABHNCSVQICAgIfAhkiAAAAP1JREFUeJzt17ENgzAABdEk8gS4ZTYaJmMftgCJjgWwRCa4KPpCpMi9/svWyY2f0zSdj8AwDMkstu97tOu6Ltq9otUfMAwwDDAMMAwwDDAMMAwwDDAMMAwwDDAMKMdx/PoOX1mWJdr5u76YYYBhgGGAYYBhgGGAYYBhgGGAYYBhgGFAmec5Go7jePFVPqu13nqeLwYYBhgGGAYYBhgGGAYYBhgGGAYYBhgGGAaUu3+tqXVdo13f99HOFwMMAwwDDAMMAwwDDAMMAwwDDAMMAwwDDAPKtm3RsLWWHVhKtEt/ySlfDDAMMAwwDDAMMAwwDDAMMAwwDDAMMAwwDHgDxfgaaMAGlDwAAAAASUVORK5CYII=\" y=\"-65.889529\"/>\n   </g>\n   <g id=\"matplotlib.axis_31\"/>\n   <g id=\"matplotlib.axis_32\"/>\n   <g id=\"patch_78\">\n    <path d=\"M 417.76679 97.389529 \nL 417.76679 66.212471 \n\" style=\"fill:none;stroke:#000000;stroke-linecap:square;stroke-linejoin:miter;stroke-width:0.8;\"/>\n   </g>\n   <g id=\"patch_79\">\n    <path d=\"M 448.943849 97.389529 \nL 448.943849 66.212471 \n\" style=\"fill:none;stroke:#000000;stroke-linecap:square;stroke-linejoin:miter;stroke-width:0.8;\"/>\n   </g>\n   <g id=\"patch_80\">\n    <path d=\"M 417.76679 97.389529 \nL 448.943849 97.389529 \n\" style=\"fill:none;stroke:#000000;stroke-linecap:square;stroke-linejoin:miter;stroke-width:0.8;\"/>\n   </g>\n   <g id=\"patch_81\">\n    <path d=\"M 417.76679 66.212471 \nL 448.943849 66.212471 \n\" style=\"fill:none;stroke:#000000;stroke-linecap:square;stroke-linejoin:miter;stroke-width:0.8;\"/>\n   </g>\n  </g>\n  <g id=\"axes_17\">\n   <g id=\"patch_82\">\n    <path d=\"M 18.856151 134.802 \nL 50.03321 134.802 \nL 50.03321 103.624941 \nL 18.856151 103.624941 \nz\n\" style=\"fill:#ffffff;\"/>\n   </g>\n   <g clip-path=\"url(#p73b9a27128)\">\n    <image height=\"31.5\" id=\"image4ea3dff7c1\" transform=\"scale(1 -1)translate(0 -31.5)\" width=\"31.5\" x=\"18.856151\" xlink:href=\"data:image/png;base64,\niVBORw0KGgoAAAANSUhEUgAAAEYAAABGCAYAAABxLuKEAAAABHNCSVQICAgIfAhkiAAAAPdJREFUeJzt2bENg1AQBFFsXcIPSEiJaYSm6YAi6ANCXMEkKyNka16+0tfoEsRrXderCyzLksy6qop2qX3fo937y+/4G4YBhgGGAYYBhgGGAYYBhgGGAYYBhgGGATWO49NvuNVxHNHOiwGGAYYBhgGGAYYBhgGGAYYBhgGGAYYBhgG1bVs0nOc52g3DEO1S53lGOy8GGAYYBhgGGAYYBhgGGAYYBhgGGAYYBhgGVGvt6Tfcqu/7aOfFAMMAwwDDAMMAwwDDAMMAwwDDAMMAwwDDgJqmKRr+yld5+m/eiwGGAYYBhgGGAYYBhgGGAYYBhgGGAYYBhgEfkN8TEnWubQAAAAAASUVORK5CYII=\" y=\"-103.302\"/>\n   </g>\n   <g id=\"matplotlib.axis_33\"/>\n   <g id=\"matplotlib.axis_34\"/>\n   <g id=\"patch_83\">\n    <path d=\"M 18.856151 134.802 \nL 18.856151 103.624941 \n\" style=\"fill:none;stroke:#000000;stroke-linecap:square;stroke-linejoin:miter;stroke-width:0.8;\"/>\n   </g>\n   <g id=\"patch_84\">\n    <path d=\"M 50.03321 134.802 \nL 50.03321 103.624941 \n\" style=\"fill:none;stroke:#000000;stroke-linecap:square;stroke-linejoin:miter;stroke-width:0.8;\"/>\n   </g>\n   <g id=\"patch_85\">\n    <path d=\"M 18.856151 134.802 \nL 50.03321 134.802 \n\" style=\"fill:none;stroke:#000000;stroke-linecap:square;stroke-linejoin:miter;stroke-width:0.8;\"/>\n   </g>\n   <g id=\"patch_86\">\n    <path d=\"M 18.856151 103.624941 \nL 50.03321 103.624941 \n\" style=\"fill:none;stroke:#000000;stroke-linecap:square;stroke-linejoin:miter;stroke-width:0.8;\"/>\n   </g>\n  </g>\n  <g id=\"axes_18\">\n   <g id=\"patch_87\">\n    <path d=\"M 75.843385 134.802 \nL 107.020444 134.802 \nL 107.020444 103.624941 \nL 75.843385 103.624941 \nz\n\" style=\"fill:#ffffff;\"/>\n   </g>\n   <g clip-path=\"url(#p829f40c83d)\">\n    <image height=\"31.5\" id=\"image0d74bf3695\" transform=\"scale(1 -1)translate(0 -31.5)\" width=\"31.5\" x=\"75.843385\" xlink:href=\"data:image/png;base64,\niVBORw0KGgoAAAANSUhEUgAAAEYAAABGCAYAAABxLuKEAAAABHNCSVQICAgIfAhkiAAAAQVJREFUeJzt17ENhDAUBFHuREQDEDihErdDSbRFBSQE7gAJIfkqmGTTm5evLI1+4k/vvQ+B67qS2VBKiXb7vke7bdui3Tda/QHDAMMAwwDDAMMAwwDDAMMAwwDDAMMAw4AxHS7LEu3e9412x3FEu5QXAwwDDAMMAwwDDAMMAwwDDAMMAwwDDAMMA+Lf9Xme0W5d12j3PE+0S3kxwDDAMMAwwDDAMMAwwDDAMMAwwDDAMMAwIP5dz/OcPThmT9Zao13KiwGGAYYBhgGGAYYBhgGGAYYBhgGGAYYBhgHx7/q+72g3TVO0a61Fu5QXAwwDDAMMAwwDDAMMAwwDDAMMAwwDDAMMA35gFRz2E6x4hAAAAABJRU5ErkJggg==\" y=\"-103.302\"/>\n   </g>\n   <g id=\"matplotlib.axis_35\"/>\n   <g id=\"matplotlib.axis_36\"/>\n   <g id=\"patch_88\">\n    <path d=\"M 75.843385 134.802 \nL 75.843385 103.624941 \n\" style=\"fill:none;stroke:#000000;stroke-linecap:square;stroke-linejoin:miter;stroke-width:0.8;\"/>\n   </g>\n   <g id=\"patch_89\">\n    <path d=\"M 107.020444 134.802 \nL 107.020444 103.624941 \n\" style=\"fill:none;stroke:#000000;stroke-linecap:square;stroke-linejoin:miter;stroke-width:0.8;\"/>\n   </g>\n   <g id=\"patch_90\">\n    <path d=\"M 75.843385 134.802 \nL 107.020444 134.802 \n\" style=\"fill:none;stroke:#000000;stroke-linecap:square;stroke-linejoin:miter;stroke-width:0.8;\"/>\n   </g>\n   <g id=\"patch_91\">\n    <path d=\"M 75.843385 103.624941 \nL 107.020444 103.624941 \n\" style=\"fill:none;stroke:#000000;stroke-linecap:square;stroke-linejoin:miter;stroke-width:0.8;\"/>\n   </g>\n  </g>\n  <g id=\"axes_19\">\n   <g id=\"patch_92\">\n    <path d=\"M 132.83062 134.802 \nL 164.007678 134.802 \nL 164.007678 103.624941 \nL 132.83062 103.624941 \nz\n\" style=\"fill:#ffffff;\"/>\n   </g>\n   <g clip-path=\"url(#p5f2e6fcbd7)\">\n    <image height=\"31.5\" id=\"imagea827b23787\" transform=\"scale(1 -1)translate(0 -31.5)\" width=\"31.5\" x=\"132.83062\" xlink:href=\"data:image/png;base64,\niVBORw0KGgoAAAANSUhEUgAAAEYAAABGCAYAAABxLuKEAAAABHNCSVQICAgIfAhkiAAAAPZJREFUeJzt2rENwyAABVEnovcCNN6A4RnJhWs3NEhkgmt+QZN7/RfKiQY5n7XWOgK992R2tNaiXa012s05o903Wv0BwwDDAMMAwwDDAMMAwwDDAMMAwwDDAMOAsvvAMcbW80rJfqI3BhgGGAYYBhgGGAYYBhgGGAYYBhgGGAYYBsSv6/u+o1367Xo3bwwwDDAMMAwwDDAMMAwwDDAMMAwwDDAMMAyIX9fv+0a753miXfrP8JQ3BhgGGAYYBhgGGAYYBhgGGAYYBhgGGAYYBsSv6+u6ot15numRW3ljgGGAYYBhgGGAYYBhgGGAYYBhgGGAYYBhwA+2RRcjzjlDbwAAAABJRU5ErkJggg==\" y=\"-103.302\"/>\n   </g>\n   <g id=\"matplotlib.axis_37\"/>\n   <g id=\"matplotlib.axis_38\"/>\n   <g id=\"patch_93\">\n    <path d=\"M 132.83062 134.802 \nL 132.83062 103.624941 \n\" style=\"fill:none;stroke:#000000;stroke-linecap:square;stroke-linejoin:miter;stroke-width:0.8;\"/>\n   </g>\n   <g id=\"patch_94\">\n    <path d=\"M 164.007678 134.802 \nL 164.007678 103.624941 \n\" style=\"fill:none;stroke:#000000;stroke-linecap:square;stroke-linejoin:miter;stroke-width:0.8;\"/>\n   </g>\n   <g id=\"patch_95\">\n    <path d=\"M 132.83062 134.802 \nL 164.007678 134.802 \n\" style=\"fill:none;stroke:#000000;stroke-linecap:square;stroke-linejoin:miter;stroke-width:0.8;\"/>\n   </g>\n   <g id=\"patch_96\">\n    <path d=\"M 132.83062 103.624941 \nL 164.007678 103.624941 \n\" style=\"fill:none;stroke:#000000;stroke-linecap:square;stroke-linejoin:miter;stroke-width:0.8;\"/>\n   </g>\n  </g>\n  <g id=\"axes_20\">\n   <g id=\"patch_97\">\n    <path d=\"M 189.817854 134.802 \nL 220.994912 134.802 \nL 220.994912 103.624941 \nL 189.817854 103.624941 \nz\n\" style=\"fill:#ffffff;\"/>\n   </g>\n   <g clip-path=\"url(#p1d85a8b256)\">\n    <image height=\"31.5\" id=\"image429c26ad45\" transform=\"scale(1 -1)translate(0 -31.5)\" width=\"31.5\" x=\"189.817854\" xlink:href=\"data:image/png;base64,\niVBORw0KGgoAAAANSUhEUgAAAEYAAABGCAYAAABxLuKEAAAABHNCSVQICAgIfAhkiAAAAOtJREFUeJzt2sFtg0AQQNE4yoUyaIUeaJB+aIImOOIKnmWtIiIr/91Hu/qaywoe13VdXx9g27ahuXVdh+a+h6b+gcJAYaAwUBgoDBQGCgOFgcJAYaAwUBj4+esLvOs4jqG5aZqG5toYKAwUBgoDhYHCQGGgMFAYKAwUBgoDhYHbX9fneQ7N7ft+63ltDBQGCgOFgcJAYaAwUBgoDBQGCgOFgcLAx3y7nuf51vPaGCgMFAYKA4WBwkBhoDBQGCgMFAYKA4WB21/Xo39qL8vyyzd5rY2BwkBhoDBQGCgMFAYKA4WBwkBhoDBQGHgCVRcTq2CcYC0AAAAASUVORK5CYII=\" y=\"-103.302\"/>\n   </g>\n   <g id=\"matplotlib.axis_39\"/>\n   <g id=\"matplotlib.axis_40\"/>\n   <g id=\"patch_98\">\n    <path d=\"M 189.817854 134.802 \nL 189.817854 103.624941 \n\" style=\"fill:none;stroke:#000000;stroke-linecap:square;stroke-linejoin:miter;stroke-width:0.8;\"/>\n   </g>\n   <g id=\"patch_99\">\n    <path d=\"M 220.994912 134.802 \nL 220.994912 103.624941 \n\" style=\"fill:none;stroke:#000000;stroke-linecap:square;stroke-linejoin:miter;stroke-width:0.8;\"/>\n   </g>\n   <g id=\"patch_100\">\n    <path d=\"M 189.817854 134.802 \nL 220.994912 134.802 \n\" style=\"fill:none;stroke:#000000;stroke-linecap:square;stroke-linejoin:miter;stroke-width:0.8;\"/>\n   </g>\n   <g id=\"patch_101\">\n    <path d=\"M 189.817854 103.624941 \nL 220.994912 103.624941 \n\" style=\"fill:none;stroke:#000000;stroke-linecap:square;stroke-linejoin:miter;stroke-width:0.8;\"/>\n   </g>\n  </g>\n  <g id=\"axes_21\">\n   <g id=\"patch_102\">\n    <path d=\"M 246.805088 134.802 \nL 277.982146 134.802 \nL 277.982146 103.624941 \nL 246.805088 103.624941 \nz\n\" style=\"fill:#ffffff;\"/>\n   </g>\n   <g clip-path=\"url(#pede1d40a23)\">\n    <image height=\"31.5\" id=\"image15d7da7b57\" transform=\"scale(1 -1)translate(0 -31.5)\" width=\"31.5\" x=\"246.805088\" xlink:href=\"data:image/png;base64,\niVBORw0KGgoAAAANSUhEUgAAAEYAAABGCAYAAABxLuKEAAAABHNCSVQICAgIfAhkiAAAARNJREFUeJzt2aENg0AARuG2OYNBkbADih2wzMBu7IBmC4bAIDDIdoJX8YfU9H3+z5GXMxee8zy/H4FpmpLZY1mWaDcMQ7SrqiravaLVHzAMMAwwDDAMMAwwDDAMMAwwDDAMMAwwDCht20bD67qiXdM00e48z2jn6/pmhgGGAYYBhgGGAYYBhgGGAYYBhgGGAYYBZd/3aJi+WtPXfPq6Ts/zxgDDAMMAwwDDAMMAwwDDAMMAwwDDAMMAw4DSdd1PD9y2LdqN43jzl3znjQGGAYYBhgGGAYYBhgGGAYYBhgGGAYYBhgFlXddo2Pd9tDuOI9ql/67ruo523hhgGGAYYBhgGGAYYBhgGGAYYBhgGGAYYBjwAZeOIJKj6qHTAAAAAElFTkSuQmCC\" y=\"-103.302\"/>\n   </g>\n   <g id=\"matplotlib.axis_41\"/>\n   <g id=\"matplotlib.axis_42\"/>\n   <g id=\"patch_103\">\n    <path d=\"M 246.805088 134.802 \nL 246.805088 103.624941 \n\" style=\"fill:none;stroke:#000000;stroke-linecap:square;stroke-linejoin:miter;stroke-width:0.8;\"/>\n   </g>\n   <g id=\"patch_104\">\n    <path d=\"M 277.982146 134.802 \nL 277.982146 103.624941 \n\" style=\"fill:none;stroke:#000000;stroke-linecap:square;stroke-linejoin:miter;stroke-width:0.8;\"/>\n   </g>\n   <g id=\"patch_105\">\n    <path d=\"M 246.805088 134.802 \nL 277.982146 134.802 \n\" style=\"fill:none;stroke:#000000;stroke-linecap:square;stroke-linejoin:miter;stroke-width:0.8;\"/>\n   </g>\n   <g id=\"patch_106\">\n    <path d=\"M 246.805088 103.624941 \nL 277.982146 103.624941 \n\" style=\"fill:none;stroke:#000000;stroke-linecap:square;stroke-linejoin:miter;stroke-width:0.8;\"/>\n   </g>\n  </g>\n  <g id=\"axes_22\">\n   <g id=\"patch_107\">\n    <path d=\"M 303.792322 134.802 \nL 334.96938 134.802 \nL 334.96938 103.624941 \nL 303.792322 103.624941 \nz\n\" style=\"fill:#ffffff;\"/>\n   </g>\n   <g clip-path=\"url(#pdaee010958)\">\n    <image height=\"31.5\" id=\"image32ab54580e\" transform=\"scale(1 -1)translate(0 -31.5)\" width=\"31.5\" x=\"303.792322\" xlink:href=\"data:image/png;base64,\niVBORw0KGgoAAAANSUhEUgAAAEYAAABGCAYAAABxLuKEAAAABHNCSVQICAgIfAhkiAAAAQVJREFUeJzt2iEOhDAABVF2AwbLLcAiuP8N0L0AAoOqQHRPMNnkZ4PZef6nZFLThFdrrXWBUkoy667rinbjOEa7eZ6j3Tta/QHDAMMAwwDDAMMAwwDDAMMAwwDDAMMAw4A+Hd73/cvv+GqapkfP88YAwwDDAMMAwwDDAMMAwwDDAMMAwwDDAMOA+HV9HEe0W9c1PfJR3hhgGGAYYBhgGGAYYBhgGGAYYBhgGGAYYBgQv67TP7X3fY92wzBEu23bop03BhgGGAYYBhgGGAYYBhgGGAYYBhgGGAYYBsSv6/M8o12tNdotyxLtUt4YYBhgGGAYYBhgGGAYYBhgGGAYYBhgGGAY8AFjoxqABMzKQwAAAABJRU5ErkJggg==\" y=\"-103.302\"/>\n   </g>\n   <g id=\"matplotlib.axis_43\"/>\n   <g id=\"matplotlib.axis_44\"/>\n   <g id=\"patch_108\">\n    <path d=\"M 303.792322 134.802 \nL 303.792322 103.624941 \n\" style=\"fill:none;stroke:#000000;stroke-linecap:square;stroke-linejoin:miter;stroke-width:0.8;\"/>\n   </g>\n   <g id=\"patch_109\">\n    <path d=\"M 334.96938 134.802 \nL 334.96938 103.624941 \n\" style=\"fill:none;stroke:#000000;stroke-linecap:square;stroke-linejoin:miter;stroke-width:0.8;\"/>\n   </g>\n   <g id=\"patch_110\">\n    <path d=\"M 303.792322 134.802 \nL 334.96938 134.802 \n\" style=\"fill:none;stroke:#000000;stroke-linecap:square;stroke-linejoin:miter;stroke-width:0.8;\"/>\n   </g>\n   <g id=\"patch_111\">\n    <path d=\"M 303.792322 103.624941 \nL 334.96938 103.624941 \n\" style=\"fill:none;stroke:#000000;stroke-linecap:square;stroke-linejoin:miter;stroke-width:0.8;\"/>\n   </g>\n  </g>\n  <g id=\"axes_23\">\n   <g id=\"patch_112\">\n    <path d=\"M 360.779556 134.802 \nL 391.956615 134.802 \nL 391.956615 103.624941 \nL 360.779556 103.624941 \nz\n\" style=\"fill:#ffffff;\"/>\n   </g>\n   <g clip-path=\"url(#p40bc69a50d)\">\n    <image height=\"31.5\" id=\"image14fe688c93\" transform=\"scale(1 -1)translate(0 -31.5)\" width=\"31.5\" x=\"360.779556\" xlink:href=\"data:image/png;base64,\niVBORw0KGgoAAAANSUhEUgAAAEYAAABGCAYAAABxLuKEAAAABHNCSVQICAgIfAhkiAAAAPBJREFUeJzt2SGOhEAURdGeSSPQ7F+wPAQG06YTZgXHfIGZe/xLJTdlKvVz3/f9Gvh8PpPZa13X0e44jtFu3/fR7ne0+gcKA4WBwkBhoDBQGCgMFAYKA4WBwkBh4D0dXtc12k1f10/vujFQGCgMFAYKA4WBwkBhoDBQGCgMFAYKA+PX9fTV+v1+H91NdWOgMFAYKAwUBgoDhYHCQGGgMFAYKAwUBsav62VZZge+x0eOnOc52nVjoDBQGCgMFAYKA4WBwkBhoDBQGCgMFAYe/7t++rxt20a7bgwUBgoDhYHCQGGgMFAYKAwUBgoDhYHCwB9MgRipxZnMzgAAAABJRU5ErkJggg==\" y=\"-103.302\"/>\n   </g>\n   <g id=\"matplotlib.axis_45\"/>\n   <g id=\"matplotlib.axis_46\"/>\n   <g id=\"patch_113\">\n    <path d=\"M 360.779556 134.802 \nL 360.779556 103.624941 \n\" style=\"fill:none;stroke:#000000;stroke-linecap:square;stroke-linejoin:miter;stroke-width:0.8;\"/>\n   </g>\n   <g id=\"patch_114\">\n    <path d=\"M 391.956615 134.802 \nL 391.956615 103.624941 \n\" style=\"fill:none;stroke:#000000;stroke-linecap:square;stroke-linejoin:miter;stroke-width:0.8;\"/>\n   </g>\n   <g id=\"patch_115\">\n    <path d=\"M 360.779556 134.802 \nL 391.956615 134.802 \n\" style=\"fill:none;stroke:#000000;stroke-linecap:square;stroke-linejoin:miter;stroke-width:0.8;\"/>\n   </g>\n   <g id=\"patch_116\">\n    <path d=\"M 360.779556 103.624941 \nL 391.956615 103.624941 \n\" style=\"fill:none;stroke:#000000;stroke-linecap:square;stroke-linejoin:miter;stroke-width:0.8;\"/>\n   </g>\n  </g>\n  <g id=\"axes_24\">\n   <g id=\"patch_117\">\n    <path d=\"M 417.76679 134.802 \nL 448.943849 134.802 \nL 448.943849 103.624941 \nL 417.76679 103.624941 \nz\n\" style=\"fill:#ffffff;\"/>\n   </g>\n   <g clip-path=\"url(#p84baf3c816)\">\n    <image height=\"31.5\" id=\"imagece65189d1f\" transform=\"scale(1 -1)translate(0 -31.5)\" width=\"31.5\" x=\"417.76679\" xlink:href=\"data:image/png;base64,\niVBORw0KGgoAAAANSUhEUgAAAEYAAABGCAYAAABxLuKEAAAABHNCSVQICAgIfAhkiAAAAQxJREFUeJzt2bENgzAABVESmQIKtoAtGJahKJgAUbiFMpngEumLVLnXf2Gd3CA/aq2vJrCuazJr5nmOdtd1RbtlWaLdM1r9AcMAwwDDAMMAwwDDAMMAwwDDAMMAwwDDgDIMQzRs2/bmo/zme9M0RTtvDDAMMAwwDDAMMAwwDDAMMAwwDDAMMAwwDCjpsOu6O8/xVa012p3nGe28McAwwDDAMMAwwDDAMMAwwDDAMMAwwDDAMKCUkv1g931/81E+S9+uj+OIdt4YYBhgGGAYYBhgGGAYYBhgGGAYYBhgGGAYEL9db9sW7cZxjHbpW/m+79HOGwMMAwwDDAMMAwwDDAMMAwwDDAMMAwwDDAPe+B8blKRslCoAAAAASUVORK5CYII=\" y=\"-103.302\"/>\n   </g>\n   <g id=\"matplotlib.axis_47\"/>\n   <g id=\"matplotlib.axis_48\"/>\n   <g id=\"patch_118\">\n    <path d=\"M 417.76679 134.802 \nL 417.76679 103.624941 \n\" style=\"fill:none;stroke:#000000;stroke-linecap:square;stroke-linejoin:miter;stroke-width:0.8;\"/>\n   </g>\n   <g id=\"patch_119\">\n    <path d=\"M 448.943849 134.802 \nL 448.943849 103.624941 \n\" style=\"fill:none;stroke:#000000;stroke-linecap:square;stroke-linejoin:miter;stroke-width:0.8;\"/>\n   </g>\n   <g id=\"patch_120\">\n    <path d=\"M 417.76679 134.802 \nL 448.943849 134.802 \n\" style=\"fill:none;stroke:#000000;stroke-linecap:square;stroke-linejoin:miter;stroke-width:0.8;\"/>\n   </g>\n   <g id=\"patch_121\">\n    <path d=\"M 417.76679 103.624941 \nL 448.943849 103.624941 \n\" style=\"fill:none;stroke:#000000;stroke-linecap:square;stroke-linejoin:miter;stroke-width:0.8;\"/>\n   </g>\n  </g>\n  <g id=\"axes_25\">\n   <g id=\"patch_122\">\n    <path clip-path=\"url(#p151826238d)\" d=\"M 10.7 181.584 \nL 12.44375 181.584 \nL 455.35625 181.584 \nL 457.1 181.584 \nL 457.1 159.264 \nL 455.35625 159.264 \nL 12.44375 159.264 \nL 10.7 159.264 \nz\n\" style=\"fill:#ffffff;stroke:#ffffff;stroke-linejoin:miter;stroke-width:0.01;\"/>\n   </g>\n   <image height=\"22.5\" id=\"imagec18c05ac93\" transform=\"scale(1 -1)translate(0 -22.5)\" width=\"446.4\" x=\"10.8\" xlink:href=\"data:image/png;base64,\niVBORw0KGgoAAAANSUhEUgAAA+AAAAAyCAYAAADcObHEAAAABHNCSVQICAgIfAhkiAAAAWZJREFUeJzt1yEOgDAUBcEP979zMQgSbNkgZlRb0af3WGutuT2O2+9f/m3btm3btm3btm3btm3btm3/eXtm5ny9AAAAANsJcAAAAAgIcAAAAAgIcAAAAAgIcAAAAAgIcAAAAAgIcAAAAAgIcAAAAAgIcAAAAAgIcAAAAAgIcAAAAAgIcAAAAAgIcAAAAAgIcAAAAAgIcAAAAAgIcAAAAAgIcAAAAAgIcAAAAAgIcAAAAAgIcAAAAAgIcAAAAAgIcAAAAAgIcAAAAAgIcAAAAAgIcAAAAAgIcAAAAAgIcAAAAAgIcAAAAAgIcAAAAAgIcAAAAAgIcAAAAAgIcAAAAAgIcAAAAAgIcAAAAAgIcAAAAAgIcAAAAAgIcAAAAAgIcAAAAAgIcAAAAAgIcAAAAAgIcAAAAAgIcAAAAAgIcAAAAAgIcAAAAAgIcAAAAAgIcAAAAAgIcAAAAAgIcAAAAAgIcAAAAAhcOh7+gTBoFlQAAAAASUVORK5CYII=\" y=\"-158.85\"/>\n   <g id=\"matplotlib.axis_49\">\n    <g id=\"xtick_1\">\n     <g id=\"line2d_1\">\n      <defs>\n       <path d=\"M 0 0 \nL 0 3.5 \n\" id=\"m4c39e77482\" style=\"stroke:#000000;stroke-width:0.8;\"/>\n      </defs>\n      <g>\n       <use style=\"stroke:#000000;stroke-width:0.8;\" x=\"10.7\" xlink:href=\"#m4c39e77482\" y=\"181.584\"/>\n      </g>\n     </g>\n     <g id=\"text_1\">\n      <!-- 0 -->\n      <defs>\n       <path d=\"M 31.78125 66.40625 \nQ 24.171875 66.40625 20.328125 58.90625 \nQ 16.5 51.421875 16.5 36.375 \nQ 16.5 21.390625 20.328125 13.890625 \nQ 24.171875 6.390625 31.78125 6.390625 \nQ 39.453125 6.390625 43.28125 13.890625 \nQ 47.125 21.390625 47.125 36.375 \nQ 47.125 51.421875 43.28125 58.90625 \nQ 39.453125 66.40625 31.78125 66.40625 \nz\nM 31.78125 74.21875 \nQ 44.046875 74.21875 50.515625 64.515625 \nQ 56.984375 54.828125 56.984375 36.375 \nQ 56.984375 17.96875 50.515625 8.265625 \nQ 44.046875 -1.421875 31.78125 -1.421875 \nQ 19.53125 -1.421875 13.0625 8.265625 \nQ 6.59375 17.96875 6.59375 36.375 \nQ 6.59375 54.828125 13.0625 64.515625 \nQ 19.53125 74.21875 31.78125 74.21875 \nz\n\" id=\"DejaVuSans-48\"/>\n      </defs>\n      <g transform=\"translate(7.51875 196.182438)scale(0.1 -0.1)\">\n       <use xlink:href=\"#DejaVuSans-48\"/>\n      </g>\n     </g>\n    </g>\n    <g id=\"xtick_2\">\n     <g id=\"line2d_2\">\n      <g>\n       <use style=\"stroke:#000000;stroke-width:0.8;\" x=\"93.366667\" xlink:href=\"#m4c39e77482\" y=\"181.584\"/>\n      </g>\n     </g>\n     <g id=\"text_2\">\n      <!-- 10 -->\n      <defs>\n       <path d=\"M 12.40625 8.296875 \nL 28.515625 8.296875 \nL 28.515625 63.921875 \nL 10.984375 60.40625 \nL 10.984375 69.390625 \nL 28.421875 72.90625 \nL 38.28125 72.90625 \nL 38.28125 8.296875 \nL 54.390625 8.296875 \nL 54.390625 0 \nL 12.40625 0 \nz\n\" id=\"DejaVuSans-49\"/>\n      </defs>\n      <g transform=\"translate(87.004167 196.182438)scale(0.1 -0.1)\">\n       <use xlink:href=\"#DejaVuSans-49\"/>\n       <use x=\"63.623047\" xlink:href=\"#DejaVuSans-48\"/>\n      </g>\n     </g>\n    </g>\n    <g id=\"xtick_3\">\n     <g id=\"line2d_3\">\n      <g>\n       <use style=\"stroke:#000000;stroke-width:0.8;\" x=\"176.033333\" xlink:href=\"#m4c39e77482\" y=\"181.584\"/>\n      </g>\n     </g>\n     <g id=\"text_3\">\n      <!-- 20 -->\n      <defs>\n       <path d=\"M 19.1875 8.296875 \nL 53.609375 8.296875 \nL 53.609375 0 \nL 7.328125 0 \nL 7.328125 8.296875 \nQ 12.9375 14.109375 22.625 23.890625 \nQ 32.328125 33.6875 34.8125 36.53125 \nQ 39.546875 41.84375 41.421875 45.53125 \nQ 43.3125 49.21875 43.3125 52.78125 \nQ 43.3125 58.59375 39.234375 62.25 \nQ 35.15625 65.921875 28.609375 65.921875 \nQ 23.96875 65.921875 18.8125 64.3125 \nQ 13.671875 62.703125 7.8125 59.421875 \nL 7.8125 69.390625 \nQ 13.765625 71.78125 18.9375 73 \nQ 24.125 74.21875 28.421875 74.21875 \nQ 39.75 74.21875 46.484375 68.546875 \nQ 53.21875 62.890625 53.21875 53.421875 \nQ 53.21875 48.921875 51.53125 44.890625 \nQ 49.859375 40.875 45.40625 35.40625 \nQ 44.1875 33.984375 37.640625 27.21875 \nQ 31.109375 20.453125 19.1875 8.296875 \nz\n\" id=\"DejaVuSans-50\"/>\n      </defs>\n      <g transform=\"translate(169.670833 196.182438)scale(0.1 -0.1)\">\n       <use xlink:href=\"#DejaVuSans-50\"/>\n       <use x=\"63.623047\" xlink:href=\"#DejaVuSans-48\"/>\n      </g>\n     </g>\n    </g>\n    <g id=\"xtick_4\">\n     <g id=\"line2d_4\">\n      <g>\n       <use style=\"stroke:#000000;stroke-width:0.8;\" x=\"258.7\" xlink:href=\"#m4c39e77482\" y=\"181.584\"/>\n      </g>\n     </g>\n     <g id=\"text_4\">\n      <!-- 30 -->\n      <defs>\n       <path d=\"M 40.578125 39.3125 \nQ 47.65625 37.796875 51.625 33 \nQ 55.609375 28.21875 55.609375 21.1875 \nQ 55.609375 10.40625 48.1875 4.484375 \nQ 40.765625 -1.421875 27.09375 -1.421875 \nQ 22.515625 -1.421875 17.65625 -0.515625 \nQ 12.796875 0.390625 7.625 2.203125 \nL 7.625 11.71875 \nQ 11.71875 9.328125 16.59375 8.109375 \nQ 21.484375 6.890625 26.8125 6.890625 \nQ 36.078125 6.890625 40.9375 10.546875 \nQ 45.796875 14.203125 45.796875 21.1875 \nQ 45.796875 27.640625 41.28125 31.265625 \nQ 36.765625 34.90625 28.71875 34.90625 \nL 20.21875 34.90625 \nL 20.21875 43.015625 \nL 29.109375 43.015625 \nQ 36.375 43.015625 40.234375 45.921875 \nQ 44.09375 48.828125 44.09375 54.296875 \nQ 44.09375 59.90625 40.109375 62.90625 \nQ 36.140625 65.921875 28.71875 65.921875 \nQ 24.65625 65.921875 20.015625 65.03125 \nQ 15.375 64.15625 9.8125 62.3125 \nL 9.8125 71.09375 \nQ 15.4375 72.65625 20.34375 73.4375 \nQ 25.25 74.21875 29.59375 74.21875 \nQ 40.828125 74.21875 47.359375 69.109375 \nQ 53.90625 64.015625 53.90625 55.328125 \nQ 53.90625 49.265625 50.4375 45.09375 \nQ 46.96875 40.921875 40.578125 39.3125 \nz\n\" id=\"DejaVuSans-51\"/>\n      </defs>\n      <g transform=\"translate(252.3375 196.182438)scale(0.1 -0.1)\">\n       <use xlink:href=\"#DejaVuSans-51\"/>\n       <use x=\"63.623047\" xlink:href=\"#DejaVuSans-48\"/>\n      </g>\n     </g>\n    </g>\n    <g id=\"xtick_5\">\n     <g id=\"line2d_5\">\n      <g>\n       <use style=\"stroke:#000000;stroke-width:0.8;\" x=\"341.366667\" xlink:href=\"#m4c39e77482\" y=\"181.584\"/>\n      </g>\n     </g>\n     <g id=\"text_5\">\n      <!-- 40 -->\n      <defs>\n       <path d=\"M 37.796875 64.3125 \nL 12.890625 25.390625 \nL 37.796875 25.390625 \nz\nM 35.203125 72.90625 \nL 47.609375 72.90625 \nL 47.609375 25.390625 \nL 58.015625 25.390625 \nL 58.015625 17.1875 \nL 47.609375 17.1875 \nL 47.609375 0 \nL 37.796875 0 \nL 37.796875 17.1875 \nL 4.890625 17.1875 \nL 4.890625 26.703125 \nz\n\" id=\"DejaVuSans-52\"/>\n      </defs>\n      <g transform=\"translate(335.004167 196.182438)scale(0.1 -0.1)\">\n       <use xlink:href=\"#DejaVuSans-52\"/>\n       <use x=\"63.623047\" xlink:href=\"#DejaVuSans-48\"/>\n      </g>\n     </g>\n    </g>\n    <g id=\"xtick_6\">\n     <g id=\"line2d_6\">\n      <g>\n       <use style=\"stroke:#000000;stroke-width:0.8;\" x=\"424.033333\" xlink:href=\"#m4c39e77482\" y=\"181.584\"/>\n      </g>\n     </g>\n     <g id=\"text_6\">\n      <!-- 50 -->\n      <defs>\n       <path d=\"M 10.796875 72.90625 \nL 49.515625 72.90625 \nL 49.515625 64.59375 \nL 19.828125 64.59375 \nL 19.828125 46.734375 \nQ 21.96875 47.46875 24.109375 47.828125 \nQ 26.265625 48.1875 28.421875 48.1875 \nQ 40.625 48.1875 47.75 41.5 \nQ 54.890625 34.8125 54.890625 23.390625 \nQ 54.890625 11.625 47.5625 5.09375 \nQ 40.234375 -1.421875 26.90625 -1.421875 \nQ 22.3125 -1.421875 17.546875 -0.640625 \nQ 12.796875 0.140625 7.71875 1.703125 \nL 7.71875 11.625 \nQ 12.109375 9.234375 16.796875 8.0625 \nQ 21.484375 6.890625 26.703125 6.890625 \nQ 35.15625 6.890625 40.078125 11.328125 \nQ 45.015625 15.765625 45.015625 23.390625 \nQ 45.015625 31 40.078125 35.4375 \nQ 35.15625 39.890625 26.703125 39.890625 \nQ 22.75 39.890625 18.8125 39.015625 \nQ 14.890625 38.140625 10.796875 36.28125 \nz\n\" id=\"DejaVuSans-53\"/>\n      </defs>\n      <g transform=\"translate(417.670833 196.182438)scale(0.1 -0.1)\">\n       <use xlink:href=\"#DejaVuSans-53\"/>\n       <use x=\"63.623047\" xlink:href=\"#DejaVuSans-48\"/>\n      </g>\n     </g>\n    </g>\n   </g>\n   <g id=\"matplotlib.axis_50\"/>\n   <g id=\"patch_123\">\n    <path d=\"M 10.7 181.584 \nL 12.44375 181.584 \nL 455.35625 181.584 \nL 457.1 181.584 \nL 457.1 159.264 \nL 455.35625 159.264 \nL 12.44375 159.264 \nL 10.7 159.264 \nz\n\" style=\"fill:none;stroke:#000000;stroke-linejoin:miter;stroke-width:0.8;\"/>\n   </g>\n  </g>\n  <g id=\"text_7\">\n   <!-- Example Document Word Counts -->\n   <defs>\n    <path d=\"M 9.8125 72.90625 \nL 55.90625 72.90625 \nL 55.90625 64.59375 \nL 19.671875 64.59375 \nL 19.671875 43.015625 \nL 54.390625 43.015625 \nL 54.390625 34.71875 \nL 19.671875 34.71875 \nL 19.671875 8.296875 \nL 56.78125 8.296875 \nL 56.78125 0 \nL 9.8125 0 \nz\n\" id=\"DejaVuSans-69\"/>\n    <path d=\"M 54.890625 54.6875 \nL 35.109375 28.078125 \nL 55.90625 0 \nL 45.3125 0 \nL 29.390625 21.484375 \nL 13.484375 0 \nL 2.875 0 \nL 24.125 28.609375 \nL 4.6875 54.6875 \nL 15.28125 54.6875 \nL 29.78125 35.203125 \nL 44.28125 54.6875 \nz\n\" id=\"DejaVuSans-120\"/>\n    <path d=\"M 34.28125 27.484375 \nQ 23.390625 27.484375 19.1875 25 \nQ 14.984375 22.515625 14.984375 16.5 \nQ 14.984375 11.71875 18.140625 8.90625 \nQ 21.296875 6.109375 26.703125 6.109375 \nQ 34.1875 6.109375 38.703125 11.40625 \nQ 43.21875 16.703125 43.21875 25.484375 \nL 43.21875 27.484375 \nz\nM 52.203125 31.203125 \nL 52.203125 0 \nL 43.21875 0 \nL 43.21875 8.296875 \nQ 40.140625 3.328125 35.546875 0.953125 \nQ 30.953125 -1.421875 24.3125 -1.421875 \nQ 15.921875 -1.421875 10.953125 3.296875 \nQ 6 8.015625 6 15.921875 \nQ 6 25.140625 12.171875 29.828125 \nQ 18.359375 34.515625 30.609375 34.515625 \nL 43.21875 34.515625 \nL 43.21875 35.40625 \nQ 43.21875 41.609375 39.140625 45 \nQ 35.0625 48.390625 27.6875 48.390625 \nQ 23 48.390625 18.546875 47.265625 \nQ 14.109375 46.140625 10.015625 43.890625 \nL 10.015625 52.203125 \nQ 14.9375 54.109375 19.578125 55.046875 \nQ 24.21875 56 28.609375 56 \nQ 40.484375 56 46.34375 49.84375 \nQ 52.203125 43.703125 52.203125 31.203125 \nz\n\" id=\"DejaVuSans-97\"/>\n    <path d=\"M 52 44.1875 \nQ 55.375 50.25 60.0625 53.125 \nQ 64.75 56 71.09375 56 \nQ 79.640625 56 84.28125 50.015625 \nQ 88.921875 44.046875 88.921875 33.015625 \nL 88.921875 0 \nL 79.890625 0 \nL 79.890625 32.71875 \nQ 79.890625 40.578125 77.09375 44.375 \nQ 74.3125 48.1875 68.609375 48.1875 \nQ 61.625 48.1875 57.5625 43.546875 \nQ 53.515625 38.921875 53.515625 30.90625 \nL 53.515625 0 \nL 44.484375 0 \nL 44.484375 32.71875 \nQ 44.484375 40.625 41.703125 44.40625 \nQ 38.921875 48.1875 33.109375 48.1875 \nQ 26.21875 48.1875 22.15625 43.53125 \nQ 18.109375 38.875 18.109375 30.90625 \nL 18.109375 0 \nL 9.078125 0 \nL 9.078125 54.6875 \nL 18.109375 54.6875 \nL 18.109375 46.1875 \nQ 21.1875 51.21875 25.484375 53.609375 \nQ 29.78125 56 35.6875 56 \nQ 41.65625 56 45.828125 52.96875 \nQ 50 49.953125 52 44.1875 \nz\n\" id=\"DejaVuSans-109\"/>\n    <path d=\"M 18.109375 8.203125 \nL 18.109375 -20.796875 \nL 9.078125 -20.796875 \nL 9.078125 54.6875 \nL 18.109375 54.6875 \nL 18.109375 46.390625 \nQ 20.953125 51.265625 25.265625 53.625 \nQ 29.59375 56 35.59375 56 \nQ 45.5625 56 51.78125 48.09375 \nQ 58.015625 40.1875 58.015625 27.296875 \nQ 58.015625 14.40625 51.78125 6.484375 \nQ 45.5625 -1.421875 35.59375 -1.421875 \nQ 29.59375 -1.421875 25.265625 0.953125 \nQ 20.953125 3.328125 18.109375 8.203125 \nz\nM 48.6875 27.296875 \nQ 48.6875 37.203125 44.609375 42.84375 \nQ 40.53125 48.484375 33.40625 48.484375 \nQ 26.265625 48.484375 22.1875 42.84375 \nQ 18.109375 37.203125 18.109375 27.296875 \nQ 18.109375 17.390625 22.1875 11.75 \nQ 26.265625 6.109375 33.40625 6.109375 \nQ 40.53125 6.109375 44.609375 11.75 \nQ 48.6875 17.390625 48.6875 27.296875 \nz\n\" id=\"DejaVuSans-112\"/>\n    <path d=\"M 9.421875 75.984375 \nL 18.40625 75.984375 \nL 18.40625 0 \nL 9.421875 0 \nz\n\" id=\"DejaVuSans-108\"/>\n    <path d=\"M 56.203125 29.59375 \nL 56.203125 25.203125 \nL 14.890625 25.203125 \nQ 15.484375 15.921875 20.484375 11.0625 \nQ 25.484375 6.203125 34.421875 6.203125 \nQ 39.59375 6.203125 44.453125 7.46875 \nQ 49.3125 8.734375 54.109375 11.28125 \nL 54.109375 2.78125 \nQ 49.265625 0.734375 44.1875 -0.34375 \nQ 39.109375 -1.421875 33.890625 -1.421875 \nQ 20.796875 -1.421875 13.15625 6.1875 \nQ 5.515625 13.8125 5.515625 26.8125 \nQ 5.515625 40.234375 12.765625 48.109375 \nQ 20.015625 56 32.328125 56 \nQ 43.359375 56 49.78125 48.890625 \nQ 56.203125 41.796875 56.203125 29.59375 \nz\nM 47.21875 32.234375 \nQ 47.125 39.59375 43.09375 43.984375 \nQ 39.0625 48.390625 32.421875 48.390625 \nQ 24.90625 48.390625 20.390625 44.140625 \nQ 15.875 39.890625 15.1875 32.171875 \nz\n\" id=\"DejaVuSans-101\"/>\n    <path id=\"DejaVuSans-32\"/>\n    <path d=\"M 19.671875 64.796875 \nL 19.671875 8.109375 \nL 31.59375 8.109375 \nQ 46.6875 8.109375 53.6875 14.9375 \nQ 60.6875 21.78125 60.6875 36.53125 \nQ 60.6875 51.171875 53.6875 57.984375 \nQ 46.6875 64.796875 31.59375 64.796875 \nz\nM 9.8125 72.90625 \nL 30.078125 72.90625 \nQ 51.265625 72.90625 61.171875 64.09375 \nQ 71.09375 55.28125 71.09375 36.53125 \nQ 71.09375 17.671875 61.125 8.828125 \nQ 51.171875 0 30.078125 0 \nL 9.8125 0 \nz\n\" id=\"DejaVuSans-68\"/>\n    <path d=\"M 30.609375 48.390625 \nQ 23.390625 48.390625 19.1875 42.75 \nQ 14.984375 37.109375 14.984375 27.296875 \nQ 14.984375 17.484375 19.15625 11.84375 \nQ 23.34375 6.203125 30.609375 6.203125 \nQ 37.796875 6.203125 41.984375 11.859375 \nQ 46.1875 17.53125 46.1875 27.296875 \nQ 46.1875 37.015625 41.984375 42.703125 \nQ 37.796875 48.390625 30.609375 48.390625 \nz\nM 30.609375 56 \nQ 42.328125 56 49.015625 48.375 \nQ 55.71875 40.765625 55.71875 27.296875 \nQ 55.71875 13.875 49.015625 6.21875 \nQ 42.328125 -1.421875 30.609375 -1.421875 \nQ 18.84375 -1.421875 12.171875 6.21875 \nQ 5.515625 13.875 5.515625 27.296875 \nQ 5.515625 40.765625 12.171875 48.375 \nQ 18.84375 56 30.609375 56 \nz\n\" id=\"DejaVuSans-111\"/>\n    <path d=\"M 48.78125 52.59375 \nL 48.78125 44.1875 \nQ 44.96875 46.296875 41.140625 47.34375 \nQ 37.3125 48.390625 33.40625 48.390625 \nQ 24.65625 48.390625 19.8125 42.84375 \nQ 14.984375 37.3125 14.984375 27.296875 \nQ 14.984375 17.28125 19.8125 11.734375 \nQ 24.65625 6.203125 33.40625 6.203125 \nQ 37.3125 6.203125 41.140625 7.25 \nQ 44.96875 8.296875 48.78125 10.40625 \nL 48.78125 2.09375 \nQ 45.015625 0.34375 40.984375 -0.53125 \nQ 36.96875 -1.421875 32.421875 -1.421875 \nQ 20.0625 -1.421875 12.78125 6.34375 \nQ 5.515625 14.109375 5.515625 27.296875 \nQ 5.515625 40.671875 12.859375 48.328125 \nQ 20.21875 56 33.015625 56 \nQ 37.15625 56 41.109375 55.140625 \nQ 45.0625 54.296875 48.78125 52.59375 \nz\n\" id=\"DejaVuSans-99\"/>\n    <path d=\"M 8.5 21.578125 \nL 8.5 54.6875 \nL 17.484375 54.6875 \nL 17.484375 21.921875 \nQ 17.484375 14.15625 20.5 10.265625 \nQ 23.53125 6.390625 29.59375 6.390625 \nQ 36.859375 6.390625 41.078125 11.03125 \nQ 45.3125 15.671875 45.3125 23.6875 \nL 45.3125 54.6875 \nL 54.296875 54.6875 \nL 54.296875 0 \nL 45.3125 0 \nL 45.3125 8.40625 \nQ 42.046875 3.421875 37.71875 1 \nQ 33.40625 -1.421875 27.6875 -1.421875 \nQ 18.265625 -1.421875 13.375 4.4375 \nQ 8.5 10.296875 8.5 21.578125 \nz\nM 31.109375 56 \nz\n\" id=\"DejaVuSans-117\"/>\n    <path d=\"M 54.890625 33.015625 \nL 54.890625 0 \nL 45.90625 0 \nL 45.90625 32.71875 \nQ 45.90625 40.484375 42.875 44.328125 \nQ 39.84375 48.1875 33.796875 48.1875 \nQ 26.515625 48.1875 22.3125 43.546875 \nQ 18.109375 38.921875 18.109375 30.90625 \nL 18.109375 0 \nL 9.078125 0 \nL 9.078125 54.6875 \nL 18.109375 54.6875 \nL 18.109375 46.1875 \nQ 21.34375 51.125 25.703125 53.5625 \nQ 30.078125 56 35.796875 56 \nQ 45.21875 56 50.046875 50.171875 \nQ 54.890625 44.34375 54.890625 33.015625 \nz\n\" id=\"DejaVuSans-110\"/>\n    <path d=\"M 18.3125 70.21875 \nL 18.3125 54.6875 \nL 36.8125 54.6875 \nL 36.8125 47.703125 \nL 18.3125 47.703125 \nL 18.3125 18.015625 \nQ 18.3125 11.328125 20.140625 9.421875 \nQ 21.96875 7.515625 27.59375 7.515625 \nL 36.8125 7.515625 \nL 36.8125 0 \nL 27.59375 0 \nQ 17.1875 0 13.234375 3.875 \nQ 9.28125 7.765625 9.28125 18.015625 \nL 9.28125 47.703125 \nL 2.6875 47.703125 \nL 2.6875 54.6875 \nL 9.28125 54.6875 \nL 9.28125 70.21875 \nz\n\" id=\"DejaVuSans-116\"/>\n    <path d=\"M 3.328125 72.90625 \nL 13.28125 72.90625 \nL 28.609375 11.28125 \nL 43.890625 72.90625 \nL 54.984375 72.90625 \nL 70.3125 11.28125 \nL 85.59375 72.90625 \nL 95.609375 72.90625 \nL 77.296875 0 \nL 64.890625 0 \nL 49.515625 63.28125 \nL 33.984375 0 \nL 21.578125 0 \nz\n\" id=\"DejaVuSans-87\"/>\n    <path d=\"M 41.109375 46.296875 \nQ 39.59375 47.171875 37.8125 47.578125 \nQ 36.03125 48 33.890625 48 \nQ 26.265625 48 22.1875 43.046875 \nQ 18.109375 38.09375 18.109375 28.8125 \nL 18.109375 0 \nL 9.078125 0 \nL 9.078125 54.6875 \nL 18.109375 54.6875 \nL 18.109375 46.1875 \nQ 20.953125 51.171875 25.484375 53.578125 \nQ 30.03125 56 36.53125 56 \nQ 37.453125 56 38.578125 55.875 \nQ 39.703125 55.765625 41.0625 55.515625 \nz\n\" id=\"DejaVuSans-114\"/>\n    <path d=\"M 45.40625 46.390625 \nL 45.40625 75.984375 \nL 54.390625 75.984375 \nL 54.390625 0 \nL 45.40625 0 \nL 45.40625 8.203125 \nQ 42.578125 3.328125 38.25 0.953125 \nQ 33.9375 -1.421875 27.875 -1.421875 \nQ 17.96875 -1.421875 11.734375 6.484375 \nQ 5.515625 14.40625 5.515625 27.296875 \nQ 5.515625 40.1875 11.734375 48.09375 \nQ 17.96875 56 27.875 56 \nQ 33.9375 56 38.25 53.625 \nQ 42.578125 51.265625 45.40625 46.390625 \nz\nM 14.796875 27.296875 \nQ 14.796875 17.390625 18.875 11.75 \nQ 22.953125 6.109375 30.078125 6.109375 \nQ 37.203125 6.109375 41.296875 11.75 \nQ 45.40625 17.390625 45.40625 27.296875 \nQ 45.40625 37.203125 41.296875 42.84375 \nQ 37.203125 48.484375 30.078125 48.484375 \nQ 22.953125 48.484375 18.875 42.84375 \nQ 14.796875 37.203125 14.796875 27.296875 \nz\n\" id=\"DejaVuSans-100\"/>\n    <path d=\"M 64.40625 67.28125 \nL 64.40625 56.890625 \nQ 59.421875 61.53125 53.78125 63.8125 \nQ 48.140625 66.109375 41.796875 66.109375 \nQ 29.296875 66.109375 22.65625 58.46875 \nQ 16.015625 50.828125 16.015625 36.375 \nQ 16.015625 21.96875 22.65625 14.328125 \nQ 29.296875 6.6875 41.796875 6.6875 \nQ 48.140625 6.6875 53.78125 8.984375 \nQ 59.421875 11.28125 64.40625 15.921875 \nL 64.40625 5.609375 \nQ 59.234375 2.09375 53.4375 0.328125 \nQ 47.65625 -1.421875 41.21875 -1.421875 \nQ 24.65625 -1.421875 15.125 8.703125 \nQ 5.609375 18.84375 5.609375 36.375 \nQ 5.609375 53.953125 15.125 64.078125 \nQ 24.65625 74.21875 41.21875 74.21875 \nQ 47.75 74.21875 53.53125 72.484375 \nQ 59.328125 70.75 64.40625 67.28125 \nz\n\" id=\"DejaVuSans-67\"/>\n    <path d=\"M 44.28125 53.078125 \nL 44.28125 44.578125 \nQ 40.484375 46.53125 36.375 47.5 \nQ 32.28125 48.484375 27.875 48.484375 \nQ 21.1875 48.484375 17.84375 46.4375 \nQ 14.5 44.390625 14.5 40.28125 \nQ 14.5 37.15625 16.890625 35.375 \nQ 19.28125 33.59375 26.515625 31.984375 \nL 29.59375 31.296875 \nQ 39.15625 29.25 43.1875 25.515625 \nQ 47.21875 21.78125 47.21875 15.09375 \nQ 47.21875 7.46875 41.1875 3.015625 \nQ 35.15625 -1.421875 24.609375 -1.421875 \nQ 20.21875 -1.421875 15.453125 -0.5625 \nQ 10.6875 0.296875 5.421875 2 \nL 5.421875 11.28125 \nQ 10.40625 8.6875 15.234375 7.390625 \nQ 20.0625 6.109375 24.8125 6.109375 \nQ 31.15625 6.109375 34.5625 8.28125 \nQ 37.984375 10.453125 37.984375 14.40625 \nQ 37.984375 18.0625 35.515625 20.015625 \nQ 33.0625 21.96875 24.703125 23.78125 \nL 21.578125 24.515625 \nQ 13.234375 26.265625 9.515625 29.90625 \nQ 5.8125 33.546875 5.8125 39.890625 \nQ 5.8125 47.609375 11.28125 51.796875 \nQ 16.75 56 26.8125 56 \nQ 31.78125 56 36.171875 55.265625 \nQ 40.578125 54.546875 44.28125 53.078125 \nz\n\" id=\"DejaVuSans-115\"/>\n   </defs>\n   <g transform=\"translate(127.046562 16.318125)scale(0.12 -0.12)\">\n    <use xlink:href=\"#DejaVuSans-69\"/>\n    <use x=\"63.183594\" xlink:href=\"#DejaVuSans-120\"/>\n    <use x=\"122.363281\" xlink:href=\"#DejaVuSans-97\"/>\n    <use x=\"183.642578\" xlink:href=\"#DejaVuSans-109\"/>\n    <use x=\"281.054688\" xlink:href=\"#DejaVuSans-112\"/>\n    <use x=\"344.53125\" xlink:href=\"#DejaVuSans-108\"/>\n    <use x=\"372.314453\" xlink:href=\"#DejaVuSans-101\"/>\n    <use x=\"433.837891\" xlink:href=\"#DejaVuSans-32\"/>\n    <use x=\"465.625\" xlink:href=\"#DejaVuSans-68\"/>\n    <use x=\"542.626953\" xlink:href=\"#DejaVuSans-111\"/>\n    <use x=\"603.808594\" xlink:href=\"#DejaVuSans-99\"/>\n    <use x=\"658.789062\" xlink:href=\"#DejaVuSans-117\"/>\n    <use x=\"722.167969\" xlink:href=\"#DejaVuSans-109\"/>\n    <use x=\"819.580078\" xlink:href=\"#DejaVuSans-101\"/>\n    <use x=\"881.103516\" xlink:href=\"#DejaVuSans-110\"/>\n    <use x=\"944.482422\" xlink:href=\"#DejaVuSans-116\"/>\n    <use x=\"983.691406\" xlink:href=\"#DejaVuSans-32\"/>\n    <use x=\"1015.478516\" xlink:href=\"#DejaVuSans-87\"/>\n    <use x=\"1114.277344\" xlink:href=\"#DejaVuSans-111\"/>\n    <use x=\"1175.458984\" xlink:href=\"#DejaVuSans-114\"/>\n    <use x=\"1216.556641\" xlink:href=\"#DejaVuSans-100\"/>\n    <use x=\"1280.033203\" xlink:href=\"#DejaVuSans-32\"/>\n    <use x=\"1311.820312\" xlink:href=\"#DejaVuSans-67\"/>\n    <use x=\"1381.644531\" xlink:href=\"#DejaVuSans-111\"/>\n    <use x=\"1442.826172\" xlink:href=\"#DejaVuSans-117\"/>\n    <use x=\"1506.205078\" xlink:href=\"#DejaVuSans-110\"/>\n    <use x=\"1569.583984\" xlink:href=\"#DejaVuSans-116\"/>\n    <use x=\"1608.792969\" xlink:href=\"#DejaVuSans-115\"/>\n   </g>\n  </g>\n </g>\n <defs>\n  <clipPath id=\"pc72078f4ae\">\n   <rect height=\"31.177059\" width=\"31.177059\" x=\"18.856151\" y=\"28.8\"/>\n  </clipPath>\n  <clipPath id=\"p501880e19b\">\n   <rect height=\"31.177059\" width=\"31.177059\" x=\"75.843385\" y=\"28.8\"/>\n  </clipPath>\n  <clipPath id=\"pba2ddf1107\">\n   <rect height=\"31.177059\" width=\"31.177059\" x=\"132.83062\" y=\"28.8\"/>\n  </clipPath>\n  <clipPath id=\"p76f2254c60\">\n   <rect height=\"31.177059\" width=\"31.177059\" x=\"189.817854\" y=\"28.8\"/>\n  </clipPath>\n  <clipPath id=\"pf52c58cafa\">\n   <rect height=\"31.177059\" width=\"31.177059\" x=\"246.805088\" y=\"28.8\"/>\n  </clipPath>\n  <clipPath id=\"pf4dccc91a7\">\n   <rect height=\"31.177059\" width=\"31.177059\" x=\"303.792322\" y=\"28.8\"/>\n  </clipPath>\n  <clipPath id=\"p1d64bd3b45\">\n   <rect height=\"31.177059\" width=\"31.177059\" x=\"360.779556\" y=\"28.8\"/>\n  </clipPath>\n  <clipPath id=\"p6e6e4daaf9\">\n   <rect height=\"31.177059\" width=\"31.177059\" x=\"417.76679\" y=\"28.8\"/>\n  </clipPath>\n  <clipPath id=\"pdffe2b3b1e\">\n   <rect height=\"31.177059\" width=\"31.177059\" x=\"18.856151\" y=\"66.212471\"/>\n  </clipPath>\n  <clipPath id=\"p7a08d42f10\">\n   <rect height=\"31.177059\" width=\"31.177059\" x=\"75.843385\" y=\"66.212471\"/>\n  </clipPath>\n  <clipPath id=\"pf8acac5065\">\n   <rect height=\"31.177059\" width=\"31.177059\" x=\"132.83062\" y=\"66.212471\"/>\n  </clipPath>\n  <clipPath id=\"p4f0e319097\">\n   <rect height=\"31.177059\" width=\"31.177059\" x=\"189.817854\" y=\"66.212471\"/>\n  </clipPath>\n  <clipPath id=\"p8d2a35ba60\">\n   <rect height=\"31.177059\" width=\"31.177059\" x=\"246.805088\" y=\"66.212471\"/>\n  </clipPath>\n  <clipPath id=\"p974364cd60\">\n   <rect height=\"31.177059\" width=\"31.177059\" x=\"303.792322\" y=\"66.212471\"/>\n  </clipPath>\n  <clipPath id=\"p7e1b19d8bc\">\n   <rect height=\"31.177059\" width=\"31.177059\" x=\"360.779556\" y=\"66.212471\"/>\n  </clipPath>\n  <clipPath id=\"pd0e5f1262b\">\n   <rect height=\"31.177059\" width=\"31.177059\" x=\"417.76679\" y=\"66.212471\"/>\n  </clipPath>\n  <clipPath id=\"p73b9a27128\">\n   <rect height=\"31.177059\" width=\"31.177059\" x=\"18.856151\" y=\"103.624941\"/>\n  </clipPath>\n  <clipPath id=\"p829f40c83d\">\n   <rect height=\"31.177059\" width=\"31.177059\" x=\"75.843385\" y=\"103.624941\"/>\n  </clipPath>\n  <clipPath id=\"p5f2e6fcbd7\">\n   <rect height=\"31.177059\" width=\"31.177059\" x=\"132.83062\" y=\"103.624941\"/>\n  </clipPath>\n  <clipPath id=\"p1d85a8b256\">\n   <rect height=\"31.177059\" width=\"31.177059\" x=\"189.817854\" y=\"103.624941\"/>\n  </clipPath>\n  <clipPath id=\"pede1d40a23\">\n   <rect height=\"31.177059\" width=\"31.177059\" x=\"246.805088\" y=\"103.624941\"/>\n  </clipPath>\n  <clipPath id=\"pdaee010958\">\n   <rect height=\"31.177059\" width=\"31.177059\" x=\"303.792322\" y=\"103.624941\"/>\n  </clipPath>\n  <clipPath id=\"p40bc69a50d\">\n   <rect height=\"31.177059\" width=\"31.177059\" x=\"360.779556\" y=\"103.624941\"/>\n  </clipPath>\n  <clipPath id=\"p84baf3c816\">\n   <rect height=\"31.177059\" width=\"31.177059\" x=\"417.76679\" y=\"103.624941\"/>\n  </clipPath>\n  <clipPath id=\"p151826238d\">\n   <rect height=\"22.32\" width=\"446.4\" x=\"10.7\" y=\"159.264\"/>\n  </clipPath>\n </defs>\n</svg>\n",
      "image/png": "[encoded data removed]"
     },
     "metadata": {}
    }
   ],
   "source": [
    "%matplotlib inline\n",
    "\n",
    "fig = plot_lda(documents_training, nrows=3, ncols=8, cmap='gray_r', with_colorbar=True)\n",
    "fig.suptitle('Example Document Word Counts')\n",
    "fig.set_dpi(160)"
   ]
  },
  {
   "cell_type": "markdown",
   "metadata": {},
   "source": [
    "## Store Data on S3\n",
    "\n",
    "A SageMaker training job needs access to training data stored in an S3 bucket. Although training can accept data of various formats we convert the documents MXNet RecordIO Protobuf format before uploading to the S3 bucket defined at the beginning of this notebook. We do so by making use of the SageMaker Python SDK utility `numpy_to_record_serializer`."
   ]
  },
  {
   "cell_type": "code",
   "execution_count": 33,
   "metadata": {
    "collapsed": true
   },
   "outputs": [
    {
     "output_type": "stream",
     "name": "stdout",
     "text": "Uploaded data to S3: s3://md-backup-bucket-01/sagemaker/DEMO-lda-introduction/train/lda.data\n"
    }
   ],
   "source": [
    "# convert documents_training to Protobuf RecordIO format\n",
    "recordio_protobuf_serializer = numpy_to_record_serializer()\n",
    "fbuffer = recordio_protobuf_serializer(documents_training)\n",
    "\n",
    "# upload to S3 in bucket/prefix/train\n",
    "fname = 'lda.data'\n",
    "s3_object = os.path.join(prefix, 'train', fname)\n",
    "boto3.Session().resource('s3').Bucket(bucket).Object(s3_object).upload_fileobj(fbuffer)\n",
    "\n",
    "s3_train_data = 's3://{}/{}'.format(bucket, s3_object)\n",
    "print('Uploaded data to S3: {}'.format(s3_train_data))"
   ]
  },
  {
   "cell_type": "markdown",
   "metadata": {},
   "source": [
    "# Training\n",
    "\n",
    "***\n",
    "\n",
    "Once the data is preprocessed and available in a recommended format the next step is to train our model on the data. There are number of parameters required by SageMaker LDA configuring the model and defining the computational environment in which training will take place.\n",
    "\n",
    "First, we specify a Docker container containing the SageMaker LDA algorithm. For your convenience, a region-specific container is automatically chosen for you to minimize cross-region data communication. Information about the locations of each SageMaker algorithm is available in the documentation."
   ]
  },
  {
   "cell_type": "code",
   "execution_count": 34,
   "metadata": {
    "collapsed": true
   },
   "outputs": [
    {
     "output_type": "stream",
     "name": "stdout",
     "text": "Using SageMaker LDA container: 999911452149.dkr.ecr.us-east-2.amazonaws.com/lda:1 (us-east-2)\n"
    }
   ],
   "source": [
    "from sagemaker.amazon.amazon_estimator import get_image_uri\n",
    "# select the algorithm container based on this notebook's current location\n",
    "\n",
    "region_name = boto3.Session().region_name\n",
    "container = get_image_uri(region_name, 'lda')\n",
    "\n",
    "print('Using SageMaker LDA container: {} ({})'.format(container, region_name))"
   ]
  },
  {
   "cell_type": "markdown",
   "metadata": {},
   "source": [
    "Particular to a SageMaker LDA training job are the following hyperparameters:\n",
    "\n",
    "* **`num_topics`** - The number of topics or categories in the LDA model.\n",
    "  * Usually, this is not known a priori.\n",
    "  * In this example, howevever, we know that the data is generated by five topics.\n",
    "\n",
    "* **`feature_dim`** - The size of the *\"vocabulary\"*, in LDA parlance.\n",
    "  * In this example, this is equal 25.\n",
    "\n",
    "* **`mini_batch_size`** - The number of input training documents.\n",
    "\n",
    "* **`alpha0`** - *(optional)* a measurement of how \"mixed\" are the topic-mixtures.\n",
    "  * When `alpha0` is small the data tends to be represented by one or few topics.\n",
    "  * When `alpha0` is large the data tends to be an even combination of several or many topics.\n",
    "  * The default value is `alpha0 = 1.0`.\n",
    "\n",
    "In addition to these LDA model hyperparameters, we provide additional parameters defining things like the EC2 instance type on which training will run, the S3 bucket containing the data, and the AWS access role. Note that,\n",
    "\n",
    "* Recommended instance type: `ml.c4`\n",
    "* Current limitations:\n",
    "  * SageMaker LDA *training* can only run on a single instance.\n",
    "  * SageMaker LDA does not take advantage of GPU hardware.\n",
    "  * (The Amazon AI Algorithms team is working hard to provide these capabilities in a future release!)"
   ]
  },
  {
   "cell_type": "code",
   "execution_count": 35,
   "metadata": {
    "collapsed": true
   },
   "outputs": [],
   "source": [
    "session = sagemaker.Session()\n",
    "\n",
    "# specify general training job information\n",
    "lda = sagemaker.estimator.Estimator(\n",
    "    container,\n",
    "    role,\n",
    "    output_path='s3://{}/{}/output'.format(bucket, prefix),\n",
    "    train_instance_count=1,\n",
    "    train_instance_type='ml.c4.2xlarge',\n",
    "    sagemaker_session=session,\n",
    ")\n",
    "\n",
    "# set algorithm-specific hyperparameters\n",
    "lda.set_hyperparameters(\n",
    "    num_topics=num_topics,\n",
    "    feature_dim=vocabulary_size,\n",
    "    mini_batch_size=num_documents_training,\n",
    "    alpha0=1.0,\n",
    ")\n",
    "\n"
   ]
  },
  {
   "cell_type": "code",
   "execution_count": 36,
   "metadata": {
    "tags": [
     "outputPrepend",
     "outputPrepend",
     "outputPrepend",
     "outputPrepend",
     "outputPrepend",
     "outputPrepend"
    ]
   },
   "outputs": [
    {
     "output_type": "stream",
     "name": "stdout",
     "text": "9.04500484467e-06\u001b[0m\n\u001b[34m[05/26/2020 17:21:39 INFO 139810266715968] [CPDecomp] Using line search: error_diff=1.07288360596e-06\u001b[0m\n\u001b[34m[05/26/2020 17:21:39 INFO 139810266715968] [CPDecomp] Using line search: error_diff=1.47670507431e-05\u001b[0m\n\u001b[34m[05/26/2020 17:21:39 INFO 139810266715968] [CPDecomp] Using line search: error_diff=6.86943531036e-06\u001b[0m\n\u001b[34m[05/26/2020 17:21:39 INFO 139810266715968] [CPDecomp] Using line search: error_diff=1.40070915222e-05\u001b[0m\n\u001b[34m[05/26/2020 17:21:39 INFO 139810266715968] [CPDecomp] Using line search: error_diff=5.66244125366e-06\u001b[0m\n\u001b[34m[05/26/2020 17:21:39 INFO 139810266715968] [CPDecomp] Using line search: error_diff=1.04010105133e-05\u001b[0m\n\u001b[34m[05/26/2020 17:21:39 INFO 139810266715968] [CPDecomp] Using line search: error_diff=5.8114528656e-07\u001b[0m\n\u001b[34m[05/26/2020 17:21:39 INFO 139810266715968] [CPDecomp] Using line search: error_diff=4.87267971039e-06\u001b[0m\n\u001b[34m[05/26/2020 17:21:39 INFO 139810266715968] [CPDecomp] Using line search: error_diff=6.70552253723e-06\u001b[0m\n\u001b[34m[05/26/2020 17:21:39 INFO 139810266715968] [CPDecomp] Using line search: error_diff=7.24196434021e-06\u001b[0m\n\u001b[34m[05/26/2020 17:21:39 INFO 139810266715968] [CPDecomp] Using line search: error_diff=6.91413879395e-06\u001b[0m\n\u001b[34m[05/26/2020 17:21:39 INFO 139810266715968] [CPDecomp] Using line search: error_diff=6.22868537903e-06\u001b[0m\n\u001b[34m[05/26/2020 17:21:39 INFO 139810266715968] [CPDecomp] Using line search: error_diff=4.85777854919e-06\u001b[0m\n\u001b[34m[05/26/2020 17:21:39 INFO 139810266715968] [CPDecomp] Using line search: error_diff=3.24845314026e-06\u001b[0m\n\u001b[34m[05/26/2020 17:21:39 INFO 139810266715968] [CPDecomp] Using line search: error_diff=1.86264514923e-06\u001b[0m\n\u001b[34m[05/26/2020 17:21:39 INFO 139810266715968] [CPDecomp] Using line search: error_diff=6.22868537903e-06\u001b[0m\n\u001b[34m[05/26/2020 17:21:39 INFO 139810266715968] [CPDecomp] Using line search: error_diff=4.44054603577e-06\u001b[0m\n\u001b[34m[05/26/2020 17:21:39 INFO 139810266715968] [CPDecomp] Using line search: error_diff=3.3974647522e-06\u001b[0m\n\u001b[34m[05/26/2020 17:21:39 INFO 139810266715968] [CPDecomp] Using line search: error_diff=1.74343585968e-06\u001b[0m\n\u001b[34m[05/26/2020 17:21:39 INFO 139810266715968] [CPDecomp] Using line search: error_diff=5.26010990143e-06\u001b[0m\n\u001b[34m[05/26/2020 17:21:39 INFO 139810266715968] [CPDecomp] Using line search: error_diff=3.93390655518e-06\u001b[0m\n\u001b[34m[05/26/2020 17:21:39 INFO 139810266715968] [CPDecomp] Using line search: error_diff=1.38580799103e-06\u001b[0m\n\u001b[34m[05/26/2020 17:21:39 INFO 139810266715968] [CPDecomp] Using line search: error_diff=2.54809856415e-06\u001b[0m\n\u001b[34m[05/26/2020 17:21:39 INFO 139810266715968] [CPDecomp] Using line search: error_diff=3.78489494324e-06\u001b[0m\n\u001b[34m[05/26/2020 17:21:39 INFO 139810266715968] [CPDecomp] Using line search: error_diff=1.28149986267e-06\u001b[0m\n\u001b[34m[05/26/2020 17:21:39 INFO 139810266715968] [CPDecomp] Using line search: error_diff=2.71201133728e-06\u001b[0m\n\u001b[34m[05/26/2020 17:21:39 INFO 139810266715968] [CPDecomp] Using line search: error_diff=8.34465026855e-07\u001b[0m\n\u001b[34m[05/26/2020 17:21:39 INFO 139810266715968] [CPDecomp] Using line search: error_diff=1.92224979401e-06\u001b[0m\n\u001b[34m[05/26/2020 17:21:39 INFO 139810266715968] [CPDecomp] Using line search: error_diff=3.57627868652e-07\u001b[0m\n\u001b[34m[05/26/2020 17:21:40 INFO 139810266715968] [CPDecomp] Using line search: error_diff=3.8743019104e-07\u001b[0m\n\u001b[34m[05/26/2020 17:21:40 INFO 139810266715968] [CPDecomp] Using line search: error_diff=1.40070915222e-06\u001b[0m\n\u001b[34m[05/26/2020 17:21:40 INFO 139810266715968] [CPDecomp] Using line search: error_diff=9.38773155212e-07\u001b[0m\n\u001b[34m[05/26/2020 17:21:40 INFO 139810266715968] [CPDecomp] Using line search: error_diff=1.74343585968e-06\u001b[0m\n\u001b[34m[05/26/2020 17:21:40 INFO 139810266715968] [CPDecomp] Using line search: error_diff=1.78813934326e-06\u001b[0m\n\u001b[34m[05/26/2020 17:21:40 INFO 139810266715968] [CPDecomp] Using line search: error_diff=2.69711017609e-06\u001b[0m\n\u001b[34m[05/26/2020 17:21:40 INFO 139810266715968] [CPDecomp] Using line search: error_diff=4.61935997009e-07\u001b[0m\n\u001b[34m[05/26/2020 17:21:40 INFO 139810266715968] [CPDecomp] Using line search: error_diff=2.23517417908e-07\u001b[0m\n\u001b[34m[05/26/2020 17:21:40 INFO 139810266715968] [CPDecomp] Using line search: error_diff=4.17232513428e-07\u001b[0m\n\u001b[34m[05/26/2020 17:21:40 INFO 139810266715968] [CPDecomp] Using line search: error_diff=1.80304050446e-06\u001b[0m\n\u001b[34m[05/26/2020 17:21:40 INFO 139810266715968] [CPDecomp] Using line search: error_diff=1.51991844177e-06\u001b[0m\n\u001b[34m[05/26/2020 17:21:40 INFO 139810266715968] [CPDecomp] Using line search: error_diff=1.6838312149e-06\u001b[0m\n\u001b[34m[05/26/2020 17:21:40 INFO 139810266715968] [CPDecomp] Using line search: error_diff=1.34110450745e-06\u001b[0m\n\u001b[34m[05/26/2020 17:21:40 INFO 139810266715968] [CPDecomp] Using line search: error_diff=5.96046447754e-08\u001b[0m\n\u001b[34m[05/26/2020 17:21:40 INFO 139810266715968] [CPDecomp] Using line search: error_diff=1.04308128357e-06\u001b[0m\n\u001b[34m[05/26/2020 17:21:40 INFO 139810266715968] [CPDecomp] Using line search: error_diff=1.05798244476e-06\u001b[0m\n\u001b[34m[05/26/2020 17:21:40 INFO 139810266715968] [CPDecomp] Using line search: error_diff=2.23517417908e-07\u001b[0m\n\u001b[34m[05/26/2020 17:21:40 INFO 139810266715968] [CPDecomp] Using line search: error_diff=1.60932540894e-06\u001b[0m\n\u001b[34m[05/26/2020 17:21:40 INFO 139810266715968] [CPDecomp] Using line search: error_diff=5.06639480591e-07\u001b[0m\n\u001b[34m[05/26/2020 17:21:40 INFO 139810266715968] [CPDecomp] Using line search: error_diff=4.47034835815e-08\u001b[0m\n\u001b[34m[05/26/2020 17:21:40 INFO 139810266715968] [CPDecomp] Using line search: error_diff=1.63912773132e-07\u001b[0m\n\u001b[34m[05/26/2020 17:21:40 INFO 139810266715968] [CPDecomp] Using line search: error_diff=1.38580799103e-06\u001b[0m\n\u001b[34m[05/26/2020 17:21:40 INFO 139810266715968] [CPDecomp] Using line search: error_diff=3.8743019104e-07\u001b[0m\n\u001b[34m[05/26/2020 17:21:40 INFO 139810266715968] [CPDecomp] Using line search: error_diff=5.21540641785e-07\u001b[0m\n\u001b[34m[05/26/2020 17:21:40 INFO 139810266715968] [CPDecomp] Using line search: error_diff=4.91738319397e-07\u001b[0m\n\u001b[34m[05/26/2020 17:21:40 INFO 139810266715968] [CPDecomp] Using line search: error_diff=6.40749931335e-07\u001b[0m\n\u001b[34m[05/26/2020 17:21:40 INFO 139810266715968] [CPDecomp] Using line search: error_diff=6.70552253723e-07\u001b[0m\n\u001b[34m[05/26/2020 17:21:40 INFO 139810266715968] [CPDecomp] Using line search: error_diff=1.29640102386e-06\u001b[0m\n\u001b[34m[05/26/2020 17:21:40 INFO 139810266715968] [CPDecomp] Using line search: error_diff=1.10268592834e-06\u001b[0m\n\u001b[34m[05/26/2020 17:21:40 INFO 139810266715968] [CPDecomp] Using line search: error_diff=7.7486038208e-07\u001b[0m\n\u001b[34m[05/26/2020 17:21:40 INFO 139810266715968] [CPDecomp] Using line search: error_diff=9.38773155212e-07\u001b[0m\n\u001b[34m[05/26/2020 17:21:41 INFO 139810266715968] [CPDecomp] Using line search: error_diff=3.57627868652e-07\u001b[0m\n\u001b[34m[05/26/2020 17:21:41 INFO 139810266715968] [CPDecomp] Using line search: error_diff=1.78813934326e-07\u001b[0m\n\u001b[34m[05/26/2020 17:21:41 INFO 139810266715968] [CPDecomp] Using line search: error_diff=3.42726707458e-07\u001b[0m\n\u001b[34m[05/26/2020 17:21:41 INFO 139810266715968] [CPDecomp] Using line search: error_diff=1.07288360596e-06\u001b[0m\n\u001b[34m[05/26/2020 17:21:41 INFO 139810266715968] [CPDecomp] Using line search: error_diff=5.96046447754e-07\u001b[0m\n\u001b[34m[05/26/2020 17:21:41 INFO 139810266715968] [CPDecomp] Using line search: error_diff=9.98377799988e-07\u001b[0m\n\u001b[34m[05/26/2020 17:21:41 INFO 139810266715968] [CPDecomp] Using line search: error_diff=1.78813934326e-07\u001b[0m\n\u001b[34m[05/26/2020 17:21:41 INFO 139810266715968] [CPDecomp] iter=461, error=0.182173609734, var=0.0\u001b[0m\n\u001b[34m[05/26/2020 17:21:41 INFO 139810266715968] Converged to local minimum in 461 iterations.\u001b[0m\n\u001b[34m[05/26/2020 17:21:41 INFO 139810266715968] Restart 10/10\u001b[0m\n\u001b[34m[05/26/2020 17:21:41 INFO 139810266715968] [CPDecomp] Starting CPDecomp...\u001b[0m\n\u001b[34m[05/26/2020 17:21:41 INFO 139810266715968] [CPDecomp] Configuration: num_qr_iterations=5, line_search=True, relaxation_factor=scaled\u001b[0m\n\u001b[34m[05/26/2020 17:21:41 INFO 139810266715968] [CPDecomp] Using random initialization.\u001b[0m\n\u001b[34m[05/26/2020 17:21:41 INFO 139810266715968] [CPDecomp] Using line search: error_diff=0.00737850368023\u001b[0m\n\u001b[34m[05/26/2020 17:21:41 INFO 139810266715968] [CPDecomp] Using line search: error_diff=0.000400230288506\u001b[0m\n\u001b[34m[05/26/2020 17:21:41 INFO 139810266715968] [CPDecomp] Using line search: error_diff=0.000496044754982\u001b[0m\n\u001b[34m[05/26/2020 17:21:41 INFO 139810266715968] [CPDecomp] Using line search: error_diff=0.000401422381401\u001b[0m\n\u001b[34m[05/26/2020 17:21:41 INFO 139810266715968] [CPDecomp] Using line search: error_diff=0.000324830412865\u001b[0m\n\u001b[34m[05/26/2020 17:21:41 INFO 139810266715968] [CPDecomp] Using line search: error_diff=7.51465559006e-05\u001b[0m\n\u001b[34m[05/26/2020 17:21:41 INFO 139810266715968] [CPDecomp] Using line search: error_diff=0.000161364674568\u001b[0m\n\u001b[34m[05/26/2020 17:21:41 INFO 139810266715968] [CPDecomp] Using line search: error_diff=0.000170215964317\u001b[0m\n\u001b[34m[05/26/2020 17:21:41 INFO 139810266715968] [CPDecomp] Using line search: error_diff=0.000157654285431\u001b[0m\n\u001b[34m[05/26/2020 17:21:41 INFO 139810266715968] [CPDecomp] Using line search: error_diff=0.000138178467751\u001b[0m\n\u001b[34m[05/26/2020 17:21:41 INFO 139810266715968] [CPDecomp] Using line search: error_diff=0.000119164586067\u001b[0m\n\u001b[34m[05/26/2020 17:21:41 INFO 139810266715968] [CPDecomp] Using line search: error_diff=0.000100612640381\u001b[0m\n\u001b[34m[05/26/2020 17:21:41 INFO 139810266715968] [CPDecomp] Using line search: error_diff=8.32080841064e-05\u001b[0m\n\u001b[34m[05/26/2020 17:21:41 INFO 139810266715968] [CPDecomp] Using line search: error_diff=6.43879175186e-05\u001b[0m\n\u001b[34m[05/26/2020 17:21:41 INFO 139810266715968] [CPDecomp] Using line search: error_diff=4.28557395935e-05\u001b[0m\n\u001b[34m[05/26/2020 17:21:41 INFO 139810266715968] [CPDecomp] Using line search: error_diff=1.460313797e-05\u001b[0m\n\u001b[34m[05/26/2020 17:21:41 INFO 139810266715968] [CPDecomp] Using line search: error_diff=1.87307596207e-05\u001b[0m\n\u001b[34m[05/26/2020 17:21:41 INFO 139810266715968] [CPDecomp] Using line search: error_diff=2.02804803848e-05\u001b[0m\n\u001b[34m[05/26/2020 17:21:41 INFO 139810266715968] [CPDecomp] Using line search: error_diff=1.80751085281e-05\u001b[0m\n\u001b[34m[05/26/2020 17:21:41 INFO 139810266715968] [CPDecomp] Using line search: error_diff=1.43349170685e-05\u001b[0m\n\u001b[34m[05/26/2020 17:21:41 INFO 139810266715968] [CPDecomp] Using line search: error_diff=9.22381877899e-06\u001b[0m\n\u001b[34m[05/26/2020 17:21:41 INFO 139810266715968] [CPDecomp] Using line search: error_diff=2.27987766266e-06\u001b[0m\n\u001b[34m[05/26/2020 17:21:41 INFO 139810266715968] [CPDecomp] Using line search: error_diff=1.38431787491e-05\u001b[0m\n\u001b[34m[05/26/2020 17:21:41 INFO 139810266715968] [CPDecomp] Using line search: error_diff=5.97536563873e-06\u001b[0m\n\u001b[34m[05/26/2020 17:21:41 INFO 139810266715968] [CPDecomp] Using line search: error_diff=1.22487545013e-05\u001b[0m\n\u001b[34m[05/26/2020 17:21:41 INFO 139810266715968] [CPDecomp] Using line search: error_diff=3.48687171936e-06\u001b[0m\n\u001b[34m[05/26/2020 17:21:41 INFO 139810266715968] [CPDecomp] Using line search: error_diff=8.12113285065e-06\u001b[0m\n\u001b[34m[05/26/2020 17:21:41 INFO 139810266715968] [CPDecomp] Using line search: error_diff=1.02967023849e-05\u001b[0m\n\u001b[34m[05/26/2020 17:21:41 INFO 139810266715968] [CPDecomp] Using line search: error_diff=1.29640102386e-06\u001b[0m\n\u001b[34m[05/26/2020 17:21:41 INFO 139810266715968] [CPDecomp] Using line search: error_diff=3.69548797607e-06\u001b[0m\n\u001b[34m[05/26/2020 17:21:41 INFO 139810266715968] [CPDecomp] Using line search: error_diff=5.61773777008e-06\u001b[0m\n\u001b[34m[05/26/2020 17:21:41 INFO 139810266715968] [CPDecomp] Using line search: error_diff=6.58631324768e-06\u001b[0m\n\u001b[34m[05/26/2020 17:21:41 INFO 139810266715968] [CPDecomp] Using line search: error_diff=6.2882900238e-06\u001b[0m\n\u001b[34m[05/26/2020 17:21:42 INFO 139810266715968] [CPDecomp] Using line search: error_diff=5.93066215515e-06\u001b[0m\n\u001b[34m[05/26/2020 17:21:42 INFO 139810266715968] [CPDecomp] Using line search: error_diff=5.34951686859e-06\u001b[0m\n\u001b[34m[05/26/2020 17:21:42 INFO 139810266715968] [CPDecomp] Using line search: error_diff=4.21702861786e-06\u001b[0m\n\u001b[34m[05/26/2020 17:21:42 INFO 139810266715968] [CPDecomp] Using line search: error_diff=2.14576721191e-06\u001b[0m\n\u001b[34m[05/26/2020 17:21:42 INFO 139810266715968] [CPDecomp] Using line search: error_diff=5.12599945068e-06\u001b[0m\n\u001b[34m[05/26/2020 17:21:42 INFO 139810266715968] [CPDecomp] Using line search: error_diff=3.11434268951e-06\u001b[0m\n\u001b[34m[05/26/2020 17:21:42 INFO 139810266715968] [CPDecomp] Using line search: error_diff=1.23679637909e-06\u001b[0m\n\u001b[34m[05/26/2020 17:21:42 INFO 139810266715968] [CPDecomp] Using line search: error_diff=4.18722629547e-06\u001b[0m\n\u001b[34m[05/26/2020 17:21:42 INFO 139810266715968] [CPDecomp] Using line search: error_diff=2.4288892746e-06\u001b[0m\n\u001b[34m[05/26/2020 17:21:42 INFO 139810266715968] [CPDecomp] Using line search: error_diff=2.83122062683e-07\u001b[0m\n\u001b[34m[05/26/2020 17:21:42 INFO 139810266715968] [CPDecomp] Using line search: error_diff=3.65078449249e-06\u001b[0m\n\u001b[34m[05/26/2020 17:21:42 INFO 139810266715968] [CPDecomp] Using line search: error_diff=1.29640102386e-06\u001b[0m\n\u001b[34m[05/26/2020 17:21:42 INFO 139810266715968] [CPDecomp] Using line search: error_diff=3.01003456116e-06\u001b[0m\n\u001b[34m[05/26/2020 17:21:42 INFO 139810266715968] [CPDecomp] Using line search: error_diff=3.3974647522e-06\u001b[0m\n\u001b[34m[05/26/2020 17:21:42 INFO 139810266715968] [CPDecomp] Using line search: error_diff=6.70552253723e-07\u001b[0m\n\u001b[34m[05/26/2020 17:21:42 INFO 139810266715968] [CPDecomp] Using line search: error_diff=1.60932540894e-06\u001b[0m\n\u001b[34m[05/26/2020 17:21:42 INFO 139810266715968] [CPDecomp] Using line search: error_diff=1.96695327759e-06\u001b[0m\n\u001b[34m[05/26/2020 17:21:42 INFO 139810266715968] [CPDecomp] Using line search: error_diff=3.57627868652e-07\u001b[0m\n\u001b[34m[05/26/2020 17:21:42 INFO 139810266715968] [CPDecomp] Using line search: error_diff=1.81794166565e-06\u001b[0m\n\u001b[34m[05/26/2020 17:21:42 INFO 139810266715968] [CPDecomp] Using line search: error_diff=2.69711017609e-06\u001b[0m\n\u001b[34m[05/26/2020 17:21:42 INFO 139810266715968] [CPDecomp] Using line search: error_diff=1.89244747162e-06\u001b[0m\n\u001b[34m[05/26/2020 17:21:42 INFO 139810266715968] [CPDecomp] Using line search: error_diff=1.98185443878e-06\u001b[0m\n\u001b[34m[05/26/2020 17:21:42 INFO 139810266715968] [CPDecomp] Using line search: error_diff=2.26497650146e-06\u001b[0m\n\u001b[34m[05/26/2020 17:21:42 INFO 139810266715968] [CPDecomp] Using line search: error_diff=1.10268592834e-06\u001b[0m\n\u001b[34m[05/26/2020 17:21:42 INFO 139810266715968] [CPDecomp] Using line search: error_diff=1.77323818207e-06\u001b[0m\n\u001b[34m[05/26/2020 17:21:42 INFO 139810266715968] [CPDecomp] Using line search: error_diff=7.00354576111e-07\u001b[0m\n\u001b[34m[05/26/2020 17:21:42 INFO 139810266715968] [CPDecomp] Using line search: error_diff=8.34465026855e-07\u001b[0m\n\u001b[34m[05/26/2020 17:21:42 INFO 139810266715968] [CPDecomp] Using line search: error_diff=1.72853469849e-06\u001b[0m\n\u001b[34m[05/26/2020 17:21:42 INFO 139810266715968] [CPDecomp] Using line search: error_diff=2.63750553131e-06\u001b[0m\n\u001b[34m[05/26/2020 17:21:42 INFO 139810266715968] [CPDecomp] Using line search: error_diff=7.59959220886e-07\u001b[0m\n\u001b[34m[05/26/2020 17:21:42 INFO 139810266715968] [CPDecomp] Using line search: error_diff=1.23679637909e-06\u001b[0m\n\u001b[34m[05/26/2020 17:21:42 INFO 139810266715968] [CPDecomp] Using line search: error_diff=1.34110450745e-06\u001b[0m\n\u001b[34m[05/26/2020 17:21:42 INFO 139810266715968] [CPDecomp] Using line search: error_diff=9.685754776e-07\u001b[0m\n\u001b[34m[05/26/2020 17:21:43 INFO 139810266715968] [CPDecomp] Using line search: error_diff=7.45058059692e-07\u001b[0m\n\u001b[34m[05/26/2020 17:21:43 INFO 139810266715968] [CPDecomp] Using line search: error_diff=1.13248825073e-06\u001b[0m\n\u001b[34m[05/26/2020 17:21:43 INFO 139810266715968] [CPDecomp] Using line search: error_diff=9.23871994019e-07\u001b[0m\n\u001b[34m[05/26/2020 17:21:43 INFO 139810266715968] [CPDecomp] Using line search: error_diff=1.08778476715e-06\u001b[0m\n\u001b[34m[05/26/2020 17:21:43 INFO 139810266715968] [CPDecomp] Using line search: error_diff=4.47034835815e-08\u001b[0m\n\u001b[34m[05/26/2020 17:21:43 INFO 139810266715968] [CPDecomp] Using line search: error_diff=1.40070915222e-06\u001b[0m\n\u001b[34m[05/26/2020 17:21:43 INFO 139810266715968] [CPDecomp] Using line search: error_diff=1.4454126358e-06\u001b[0m\n\u001b[34m[05/26/2020 17:21:43 INFO 139810266715968] [CPDecomp] Using line search: error_diff=3.57627868652e-07\u001b[0m\n\u001b[34m[05/26/2020 17:21:43 INFO 139810266715968] [CPDecomp] Using line search: error_diff=6.85453414917e-07\u001b[0m\n\u001b[34m[05/26/2020 17:21:43 INFO 139810266715968] [CPDecomp] Using line search: error_diff=1.34110450745e-07\u001b[0m\n\u001b[34m[05/26/2020 17:21:43 INFO 139810266715968] [CPDecomp] iter=384, error=0.18219961226, var=8.17848118118e-08\u001b[0m\n\u001b[34m[05/26/2020 17:21:43 INFO 139810266715968] Converged to local minimum in 384 iterations.\u001b[0m\n\u001b[34m[05/26/2020 17:21:43 INFO 139810266715968] Best reconstruction error: 0.18217361\u001b[0m\n\u001b[34m#metrics {\"Metrics\": {\"CPDecomposition.time\": {\"count\": 1, \"max\": 19442.69299507141, \"sum\": 19442.69299507141, \"min\": 19442.69299507141}}, \"EndTime\": 1590513703.347049, \"Dimensions\": {\"Host\": \"algo-1\", \"Operation\": \"training\", \"Algorithm\": \"LDA\"}, \"StartTime\": 1590513683.904325}\n\u001b[0m\n\u001b[34m#metrics {\"Metrics\": {\"LDA.update.time\": {\"count\": 1, \"max\": 19551.485061645508, \"sum\": 19551.485061645508, \"min\": 19551.485061645508}, \"to_numpy.time\": {\"count\": 4, \"max\": 0.06890296936035156, \"sum\": 0.16689300537109375, \"min\": 0.025033950805664062}}, \"EndTime\": 1590513703.348885, \"Dimensions\": {\"Host\": \"algo-1\", \"Operation\": \"training\", \"Algorithm\": \"LDA\"}, \"StartTime\": 1590513703.34711}\n\u001b[0m\n\u001b[34m[05/26/2020 17:21:43 INFO 139810266715968] #progress_metric: host=algo-1, completed 100 % of epochs\u001b[0m\n\u001b[34m#metrics {\"Metrics\": {\"Max Batches Seen Between Resets\": {\"count\": 1, \"max\": 1, \"sum\": 1.0, \"min\": 1}, \"Number of Batches Since Last Reset\": {\"count\": 1, \"max\": 1, \"sum\": 1.0, \"min\": 1}, \"Number of Records Since Last Reset\": {\"count\": 1, \"max\": 3600, \"sum\": 3600.0, \"min\": 3600}, \"Total Batches Seen\": {\"count\": 1, \"max\": 1, \"sum\": 1.0, \"min\": 1}, \"Total Records Seen\": {\"count\": 1, \"max\": 3600, \"sum\": 3600.0, \"min\": 3600}, \"Max Records Seen Between Resets\": {\"count\": 1, \"max\": 3600, \"sum\": 3600.0, \"min\": 3600}, \"Reset Count\": {\"count\": 1, \"max\": 1, \"sum\": 1.0, \"min\": 1}}, \"EndTime\": 1590513703.349195, \"Dimensions\": {\"Host\": \"algo-1\", \"Meta\": \"training_data_iter\", \"Operation\": \"training\", \"Algorithm\": \"LDA\", \"epoch\": 0}, \"StartTime\": 1590513703.349145}\n\u001b[0m\n\u001b[34m[05/26/2020 17:21:43 INFO 139810266715968] #throughput_metric: host=algo-1, train throughput=184.125299633 records/second\u001b[0m\n\u001b[34m[05/26/2020 17:21:43 WARNING 139810266715968] wait_for_all_workers will not sync workers since the kv store is not running distributed\u001b[0m\n\u001b[34m#metrics {\"Metrics\": {\"LDA.finalize.time\": {\"count\": 1, \"max\": 0.02288818359375, \"sum\": 0.02288818359375, \"min\": 0.02288818359375}}, \"EndTime\": 1590513703.349555, \"Dimensions\": {\"Host\": \"algo-1\", \"Operation\": \"training\", \"Algorithm\": \"LDA\"}, \"StartTime\": 1590513703.348951}\n\u001b[0m\n\u001b[34m[05/26/2020 17:21:43 INFO 139810266715968] Serializing LDA model to /opt/ml/model/model_algo-1\u001b[0m\n\u001b[34m#metrics {\"Metrics\": {\"LDAModel.serialize.time\": {\"count\": 1, \"max\": 0.9081363677978516, \"sum\": 0.9081363677978516, \"min\": 0.9081363677978516}}, \"EndTime\": 1590513703.350557, \"Dimensions\": {\"Host\": \"algo-1\", \"Operation\": \"training\", \"Algorithm\": \"LDA\"}, \"StartTime\": 1590513703.349614}\n\u001b[0m\n\u001b[34m[05/26/2020 17:21:43 INFO 139810266715968] Test data is not provided.\u001b[0m\n\u001b[34m#metrics {\"Metrics\": {\"totaltime\": {\"count\": 1, \"max\": 19631.202936172485, \"sum\": 19631.202936172485, \"min\": 19631.202936172485}, \"setuptime\": {\"count\": 1, \"max\": 49.59607124328613, \"sum\": 49.59607124328613, \"min\": 49.59607124328613}}, \"EndTime\": 1590513703.352399, \"Dimensions\": {\"Host\": \"algo-1\", \"Operation\": \"training\", \"Algorithm\": \"LDA\"}, \"StartTime\": 1590513703.3506}\n\u001b[0m\n\n2020-05-26 17:21:53 Uploading - Uploading generated training model\n2020-05-26 17:21:53 Completed - Training job completed\nTraining seconds: 98\nBillable seconds: 98\nCPU times: user 699 ms, sys: 123 ms, total: 822 ms\nWall time: 4min 21s\n"
    }
   ],
   "source": [
    "%%time\n",
    "# run the training job on input data stored in S3\n",
    "lda.fit({'train': s3_train_data})"
   ]
  },
  {
   "cell_type": "markdown",
   "metadata": {},
   "source": [
    "If you see the message\n",
    "\n",
    "> `===== Job Complete =====`\n",
    "\n",
    "at the bottom of the output logs then that means training sucessfully completed and the output LDA model was stored in the specified output path. You can also view information about and the status of a training job using the AWS SageMaker console. Just click on the \"Jobs\" tab and select training job matching the training job name, below:"
   ]
  },
  {
   "cell_type": "code",
   "execution_count": 37,
   "metadata": {
    "collapsed": true
   },
   "outputs": [
    {
     "output_type": "stream",
     "name": "stdout",
     "text": "Training job name: lda-2020-05-26-17-18-04-365\n"
    }
   ],
   "source": [
    "print('Training job name: {}'.format(lda.latest_training_job.job_name))"
   ]
  },
  {
   "cell_type": "markdown",
   "metadata": {},
   "source": [
    "# Inference\n",
    "\n",
    "***\n",
    "\n",
    "A trained model does nothing on its own. We now want to use the model we computed to perform inference on data. For this example, that means predicting the topic mixture representing a given document.\n",
    "\n",
    "We create an inference endpoint using the SageMaker Python SDK `deploy()` function from the job we defined above. We specify the instance type where inference is computed as well as an initial number of instances to spin up."
   ]
  },
  {
   "cell_type": "code",
   "execution_count": 38,
   "metadata": {
    "collapsed": true
   },
   "outputs": [
    {
     "output_type": "stream",
     "name": "stdout",
     "text": "---------------!"
    }
   ],
   "source": [
    "lda_inference = lda.deploy(\n",
    "    initial_instance_count=1,\n",
    "    instance_type='ml.m4.xlarge',  # LDA inference may work better at scale on ml.c4 instances\n",
    ")"
   ]
  },
  {
   "cell_type": "markdown",
   "metadata": {
    "collapsed": true
   },
   "source": [
    "Congratulations! You now have a functioning SageMaker LDA inference endpoint. You can confirm the endpoint configuration and status by navigating to the \"Endpoints\" tab in the AWS SageMaker console and selecting the endpoint matching the endpoint name, below: "
   ]
  },
  {
   "cell_type": "code",
   "execution_count": 39,
   "metadata": {
    "collapsed": true
   },
   "outputs": [
    {
     "output_type": "stream",
     "name": "stdout",
     "text": "Endpoint name: lda-2020-05-26-17-18-04-365\n"
    }
   ],
   "source": [
    "print('Endpoint name: {}'.format(lda_inference.endpoint))"
   ]
  },
  {
   "cell_type": "markdown",
   "metadata": {},
   "source": [
    "With this realtime endpoint at our fingertips we can finally perform inference on our training and test data.\n",
    "\n",
    "We can pass a variety of data formats to our inference endpoint. In this example we will demonstrate passing CSV-formatted data. Other available formats are JSON-formatted, JSON-sparse-formatter, and RecordIO Protobuf. We make use of the SageMaker Python SDK utilities `csv_serializer` and `json_deserializer` when configuring the inference endpoint."
   ]
  },
  {
   "cell_type": "code",
   "execution_count": 40,
   "metadata": {
    "collapsed": true
   },
   "outputs": [],
   "source": [
    "lda_inference.content_type = 'text/csv'\n",
    "lda_inference.serializer = csv_serializer\n",
    "lda_inference.deserializer = json_deserializer"
   ]
  },
  {
   "cell_type": "markdown",
   "metadata": {},
   "source": [
    "We pass some test documents to the inference endpoint. Note that the serializer and deserializer will atuomatically take care of the datatype conversion from Numpy NDArrays."
   ]
  },
  {
   "cell_type": "code",
   "execution_count": 42,
   "metadata": {
    "collapsed": true
   },
   "outputs": [
    {
     "output_type": "stream",
     "name": "stdout",
     "text": "{'predictions': [{'topic_mixture': [0.0, 0.0, 0.0, 1.0, 0.0]},\n                 {'topic_mixture': [0.7580388784408569,\n                                    0.057755909860134125,\n                                    0.1710509955883026,\n                                    0.013154108077287674,\n                                    0.0]},\n                 {'topic_mixture': [0.12620492279529572,\n                                    0.06518281996250153,\n                                    0.2225934863090515,\n                                    0.0,\n                                    0.5860188007354736]},\n                 {'topic_mixture': [0.1462937444448471,\n                                    0.18943481147289276,\n                                    0.0,\n                                    0.0,\n                                    0.6642715334892273]},\n                 {'topic_mixture': [0.05259280651807785,\n                                    0.38575875759124756,\n                                    0.37852907180786133,\n                                    0.0,\n                                    0.18311940133571625]},\n                 {'topic_mixture': [0.0, 0.0, 0.0, 0.0, 1.0]},\n                 {'topic_mixture': [0.0,\n                                    0.859144926071167,\n                                    0.0,\n                                    0.14085505902767181,\n                                    0.0]},\n                 {'topic_mixture': [0.0,\n                                    0.3566323518753052,\n                                    0.38611340522766113,\n                                    0.0,\n                                    0.2572542726993561]},\n                 {'topic_mixture': [0.053999826312065125,\n                                    0.13180455565452576,\n                                    0.8141956925392151,\n                                    0.0,\n                                    0.0]},\n                 {'topic_mixture': [0.0,\n                                    0.6132063269615173,\n                                    0.0,\n                                    0.0,\n                                    0.38679367303848267]},\n                 {'topic_mixture': [0.0,\n                                    0.057345278561115265,\n                                    0.24032236635684967,\n                                    0.0,\n                                    0.7023323774337769]},\n                 {'topic_mixture': [0.13474425673484802,\n                                    0.17211511731147766,\n                                    0.0,\n                                    0.0,\n                                    0.6931406259536743]}]}\n"
    }
   ],
   "source": [
    "from pprint import pprint\n",
    "\n",
    "results = lda_inference.predict(documents_test[:12])\n",
    "\n",
    "pprint(results)"
   ]
  },
  {
   "cell_type": "markdown",
   "metadata": {},
   "source": [
    "It may be hard to see but the output format of SageMaker LDA inference endpoint is a Python dictionary with the following format.\n",
    "\n",
    "```\n",
    "{\n",
    "  'predictions': [\n",
    "    {'topic_mixture': [ ... ] },\n",
    "    {'topic_mixture': [ ... ] },\n",
    "    {'topic_mixture': [ ... ] },\n",
    "    ...\n",
    "  ]\n",
    "}\n",
    "```\n",
    "\n",
    "We extract the topic mixtures, themselves, corresponding to each of the input documents."
   ]
  },
  {
   "cell_type": "code",
   "execution_count": 43,
   "metadata": {
    "collapsed": true
   },
   "outputs": [
    {
     "output_type": "stream",
     "name": "stdout",
     "text": "array([[0.   , 0.   , 0.   , 1.   , 0.   ],\n       [0.758, 0.058, 0.171, 0.013, 0.   ],\n       [0.126, 0.065, 0.223, 0.   , 0.586],\n       [0.146, 0.189, 0.   , 0.   , 0.664],\n       [0.053, 0.386, 0.379, 0.   , 0.183],\n       [0.   , 0.   , 0.   , 0.   , 1.   ],\n       [0.   , 0.859, 0.   , 0.141, 0.   ],\n       [0.   , 0.357, 0.386, 0.   , 0.257],\n       [0.054, 0.132, 0.814, 0.   , 0.   ],\n       [0.   , 0.613, 0.   , 0.   , 0.387],\n       [0.   , 0.057, 0.24 , 0.   , 0.702],\n       [0.135, 0.172, 0.   , 0.   , 0.693]])\n"
    }
   ],
   "source": [
    "computed_topic_mixtures = np.array([prediction['topic_mixture'] for prediction in results['predictions']])\n",
    "\n",
    "pprint(computed_topic_mixtures)"
   ]
  },
  {
   "cell_type": "markdown",
   "metadata": {},
   "source": [
    "If you decide to compare these results to the known topic mixtures generated in the [Obtain Example Data](#ObtainExampleData) Section keep in mind that SageMaker LDA discovers topics in no particular order. That is, the approximate topic mixtures computed above may be permutations of the known topic mixtures corresponding to the same documents."
   ]
  },
  {
   "cell_type": "code",
   "execution_count": 44,
   "metadata": {
    "collapsed": true
   },
   "outputs": [
    {
     "output_type": "stream",
     "name": "stdout",
     "text": "[0.026 0.    0.009 0.937 0.027]\n[0. 0. 0. 1. 0.]\n"
    }
   ],
   "source": [
    "print(topic_mixtures_test[0])      # known test topic mixture\n",
    "print(computed_topic_mixtures[0])  # computed topic mixture (topics permuted)"
   ]
  },
  {
   "cell_type": "markdown",
   "metadata": {},
   "source": [
    "## Stop / Close the Endpoint\n",
    "\n",
    "Finally, we should delete the endpoint before we close the notebook.\n",
    "\n",
    "To do so execute the cell below. Alternately, you can navigate to the \"Endpoints\" tab in the SageMaker console, select the endpoint with the name stored in the variable `endpoint_name`, and select \"Delete\" from the \"Actions\" dropdown menu. "
   ]
  },
  {
   "cell_type": "code",
   "execution_count": 45,
   "metadata": {
    "collapsed": true
   },
   "outputs": [],
   "source": [
    "sagemaker.Session().delete_endpoint(lda_inference.endpoint)"
   ]
  },
  {
   "cell_type": "markdown",
   "metadata": {},
   "source": [
    "# Epilogue\n",
    "\n",
    "---\n",
    "\n",
    "In this notebook we,\n",
    "\n",
    "* generated some example LDA documents and their corresponding topic-mixtures,\n",
    "* trained a SageMaker LDA model on a training set of documents,\n",
    "* created an inference endpoint,\n",
    "* used the endpoint to infer the topic mixtures of a test input.\n",
    "\n",
    "# There are several things to keep in mind when applying SageMaker LDA to real-word data such as a corpus of text documents. Note that input documents to the algorithm, both in training and inference, need to be vectors of integers representing word counts. Each index corresponds to a word in the corpus vocabulary. Therefore, one will need to \"tokenize\" their corpus vocabulary.\n",
    "\n",
    "$$\n",
    "\\text{\"cat\"} \\mapsto 0, \\; \\text{\"dog\"} \\mapsto 1 \\; \\text{\"bird\"} \\mapsto 2, \\ldots\n",
    "$$\n",
    "\n",
    "# Each text document then needs to be converted to a \"bag-of-words\" format document.\n",
    "\n",
    "$$\n",
    "w = \\text{\"cat bird bird bird cat\"} \\quad \\longmapsto \\quad w = [2, 0, 3, 0, \\ldots, 0]\n",
    "$$\n",
    "\n",
    "Also note that many real-word applications have large vocabulary sizes. It may be necessary to represent the input documents in sparse format. Finally, the use of stemming and lemmatization in data preprocessing provides several benefits. Doing so can improve training and inference compute time since it reduces the effective vocabulary size. More importantly, though, it can improve the quality of learned topic-word probability matrices and inferred topic mixtures. For example, the words *\"parliament\"*, *\"parliaments\"*, *\"parliamentary\"*, *\"parliament's\"*, and *\"parliamentarians\"* are all essentially the same word, *\"parliament\"*, but with different conjugations. For the purposes of detecting topics, such as a *\"politics\"* or *governments\"* topic, the inclusion of all five does not add much additional value as they all essentiall describe the same feature."
   ]
  },
  {
   "cell_type": "code",
   "execution_count": null,
   "metadata": {
    "collapsed": true
   },
   "outputs": [],
   "source": []
  }
 ],
 "metadata": {
  "celltoolbar": "Tags",
  "kernelspec": {
   "display_name": "conda_python3",
   "language": "python",
   "name": "conda_python3"
  },
  "language_info": {
   "codemirror_mode": {
    "name": "ipython",
    "version": 3
   },
   "file_extension": ".py",
   "mimetype": "text/x-python",
   "name": "python",
   "nbconvert_exporter": "python",
   "pygments_lexer": "ipython3",
   "version": "3.6.5-final"
  },
  "notice": "Copyright 2017 Amazon.com, Inc. or its affiliates. All Rights Reserved.  Licensed under the Apache License, Version 2.0 (the \"License\"). You may not use this file except in compliance with the License. A copy of the License is located at http://aws.amazon.com/apache2.0/ or in the \"license\" file accompanying this file. This file is distributed on an \"AS IS\" BASIS, WITHOUT WARRANTIES OR CONDITIONS OF ANY KIND, either express or implied. See the License for the specific language governing permissions and limitations under the License."
 },
 "nbformat": 4,
 "nbformat_minor": 2
}