{
 "cells": [
  {
   "cell_type": "markdown",
   "metadata": {},
   "source": [
    "# Deploy Apache Spark pre-processing and post-processing with XGBoost for real-time prediction requests in Amazon SageMaker using Inference Pipelines\n",
    " \n",
    "You deploy Inference Pipelines in Amazon SageMaker to execute a sequence of pre-processing, inference, and post-processing steps on real-time and batch inference requests. This makes it easy to build and deploy feature preprocessing pipelines with a suite of feature transformers available in the new SparkML and scikit-learn containers in Amazon SageMaker. You can write your data processing code once and reuse it for training and inference which provides consistency in your machine learning workflows and easier management of your models. You can deploy upto five steps in your inference pipeline and they all execute on the same instance so there is minimal latency impact. The same inference pipeline can be used for real-time and batch inferences.\n",
    " \n",
    "# In this example, we’ll use the [Car Evaluation Data Set](https://archive.ics.uci.edu/ml/datasets/Car+Evaluation) from [UCI’s Machine Learning Repository](https://archive.ics.uci.edu/ml/index.php). Our goal is to predict the acceptability of a specific car, amongst the values of: `unacc`, `acc`, `good`, and `vgood`. At the core, it is a classification problem and we will train a machine learning model using Amazon SageMaker’s built-in XGBoost algorithm. However, the dataset only contains six categorical string features - `buying`, `maint`, `doors`, `persons`, `lug_boot`, and `safety` and XGBoost can only process data that is in numerical format. Therefore we will pre-process the input data using [SparkML](https://spark.apache.org/docs/1.2.2/ml-guide.html) [StringIndexer](https://spark.apache.org/docs/latest/ml-features.html#stringindexer) followed by [OneHotEncoder](https://spark.apache.org/docs/latest/ml-features.html#onehotencoderestimator) to convert it to numerical format. We will also apply a post-processing step on the prediction result using SparkML [IndexToString](https://spark.apache.org/docs/latest/ml-features.html#indextostring) to convert our inference output back to their original labels that correspond to the predicted condition of the car.\n",
    " \n",
    "# We’ll write our SparkML pre-processing and post-processing scripts once, and apply them for processing training data using AWS Glue. Then, we will serialize and capture the SparkML artifacts produced by AWS Glue to Amazon S3 using [MLeap](http://mleap-docs.combust.ml/). This is so that they can be reused during inference for real-time requests using the SparkML Serving container that Amazon SageMaker provides. Finally, we will deploy the pre-processing, inference, and post-processing steps in an inference pipeline and will execute these steps in order for each real-time inference request.\n",
    "\n"
   ]
  },
  {
   "cell_type": "markdown",
   "metadata": {},
   "source": [
    "# Methodologies\n",
    "The Notebook consists of a few high-level steps:\n",
    "\n",
    "* # Using AWS Glue for executing the SparkML feature pre-processing and postprocessing job.\n",
    "* # Using SageMaker XGBoost to train on the processed dataset produced by SparkML job.\n",
    "* # Building an Inference Pipeline consisting of SparkML & XGBoost models for a realtime inference endpoint."
   ]
  },
  {
   "cell_type": "markdown",
   "metadata": {},
   "source": [
    "# Using AWS Glue for executing the SparkML job\n",
    "\n",
    "We'll be running the SparkML job using [AWS Glue](https://aws.amazon.com/glue). AWS Glue is a serverless ETL service which can be used to execute standard Spark/PySpark jobs. Glue currently only supports `Python 2.7`, hence we'll write the script in `Python 2.7`."
   ]
  },
  {
   "cell_type": "code",
   "execution_count": 4,
   "metadata": {},
   "outputs": [
    {
     "output_type": "stream",
     "name": "stdout",
     "text": "AmazonSageMaker-ExecutionRole-20200523T082014\n"
    }
   ],
   "source": [
    "# Import SageMaker Python SDK to get the Session and execution_role\n",
    "import sagemaker\n",
    "from sagemaker import get_execution_role\n",
    "sess = sagemaker.Session()\n",
    "# role = get_execution_role()\n",
    "role = 'arn:aws:iam::558157414092:role/service-role/AmazonSageMaker-ExecutionRole-20200523T082014'\n",
    "print(role[role.rfind('/') + 1:])"
   ]
  },
  {
   "cell_type": "markdown",
   "metadata": {},
   "source": [
    "## Adding AWS Glue as an additional trusted entity to this role\n",
    "This step is needed if you want to pass the execution role of this Notebook while calling Glue APIs as well without creating an additional **Role**. If you have not used AWS Glue before, then this step is mandatory.\n",
    "\n",
    "If you have used AWS Glue previously, then you should have an already existing role that can be used to invoke Glue APIs. In that case, you can pass that role while calling Glue (later in this notebook) and skip this next step.\n",
    "\n",
    "On the IAM dashboard, please click on **Roles** on the left sidenav and search for this Role. Once the Role appears, click on the **Role** to go to its Summary page. Click on the **Trust relationships** tab on the **Summary** page to add AWS Glue as an additional trusted entity.\n",
    "\n",
    "Click on **Edit trust relationship** and replace the JSON with this JSON.\n",
    "\n",
    "```\n",
    "{\n",
    "  \"Version\": \"2012-10-17\",\n",
    "  \"Statement\": [\n",
    "    {\n",
    "      \"Effect\": \"Allow\",\n",
    "      \"Principal\": {\n",
    "        \"Service\": [\n",
    "          \"sagemaker.amazonaws.com\",\n",
    "          \"glue.amazonaws.com\"\n",
    "        ]\n",
    "      },\n",
    "      \"Action\": \"sts:AssumeRole\"\n",
    "    }\n",
    "  ]\n",
    "}\n",
    "```\n",
    "\n",
    "Once this is complete, click on **Update Trust Policy** and you are done."
   ]
  },
  {
   "cell_type": "markdown",
   "metadata": {},
   "source": [
    "# Setup S3 bucket\n",
    "\n",
    "First, we need to setup an S3 bucket within your account, and upload the necessary files to this bucket. To setup the bucket, we will run the first code block, labeled Setup S3 bucket. To run the cell while the code cell is selected, you can either press Shift and Return at the same time or select the Run button at the top of the Jupyter notebook."
   ]
  },
  {
   "cell_type": "code",
   "execution_count": 1,
   "metadata": {},
   "outputs": [
    {
     "output_type": "stream",
     "name": "stdout",
     "text": "('account: ', '558157414092')\n('region: ', 'us-east-2')\n\nSave this S3 bucket name for the rest of this example: md-backup-bucket-01\n"
    }
   ],
   "source": [
    "import boto3\n",
    "import botocore\n",
    "from botocore.exceptions import ClientError\n",
    "\n",
    "from sagemaker import Session as Sess\n",
    "\n",
    "# SageMaker session\n",
    "sess = Sess()\n",
    "\n",
    "# Boto3 session\n",
    "session = boto3.session.Session()\n",
    "\n",
    "s3 = session.resource('s3')\n",
    "account = session.client('sts').get_caller_identity()['Account']\n",
    "print('account: ', account)\n",
    "\n",
    "region = session.region_name\n",
    "print('region: ', region)\n",
    "\n",
    "# bucket_name = 'sagemaker-glue-example-{}-{}'.format(account, region)\n",
    "bucket_name = 'md-backup-bucket-01'\n",
    "\n",
    "# try:\n",
    "#     if region == 'us-east-1':\n",
    "#         s3.create_bucket(Bucket=bucket_name)\n",
    "#     else:\n",
    "#         s3.create_bucket(Bucket=bucket_name, CreateBucketConfiguration={'LocationConstraint': region})\n",
    "# except ClientError as e:\n",
    "#     error_code = e.response['Error']['Code']\n",
    "#     message = e.response['Error']['Message']\n",
    "#     if error_code == 'BucketAlreadyOwnedByYou':\n",
    "#         print ('A bucket with the same name already exists in your account - using the same bucket.')\n",
    "#         pass\n",
    "\n",
    "print(\"\\nSave this S3 bucket name for the rest of this example: {}\".format(bucket_name))"
   ]
  },
  {
   "cell_type": "markdown",
   "metadata": {},
   "source": [
    "Make note of the S3 bucket name that was created here. If you are planning to follow along in the console, you will need this name for later.\n",
    "\n",
    "# Upload files to S3\n",
    "\n",
    "Now we need to upload the raw data and Glue processing script to S3. We can do that by running the code blocks in the notebook labeled Upload files to S3."
   ]
  },
  {
   "cell_type": "code",
   "execution_count": 2,
   "metadata": {
    "tags": [
     "outputPrepend"
    ]
   },
   "outputs": [
    {
     "output_type": "stream",
     "name": "stderr",
     "text": "850K .......... .......... .......... .......... .......... 23% 3.11M 4s\n  3900K .......... .......... .......... .......... .......... 23% 4.97M 4s\n  3950K .......... .......... .......... .......... .......... 23% 3.88M 4s\n  4000K .......... .......... .......... .......... .......... 23% 4.17M 4s\n  4050K .......... .......... .......... .......... .......... 24% 3.83M 4s\n  4100K .......... .......... .......... .......... .......... 24% 6.09M 4s\n  4150K .......... .......... .......... .......... .......... 24% 9.02M 4s\n  4200K .......... .......... .......... .......... .......... 25% 3.92M 4s\n  4250K .......... .......... .......... .......... .......... 25% 4.91M 4s\n  4300K .......... .......... .......... .......... .......... 25% 2.96M 4s\n  4350K .......... .......... .......... .......... .......... 26% 7.52M 4s\n  4400K .......... .......... .......... .......... .......... 26% 4.51M 4s\n  4450K .......... .......... .......... .......... .......... 26% 4.55M 4s\n  4500K .......... .......... .......... .......... .......... 26% 4.18M 4s\n  4550K .......... .......... .......... .......... .......... 27% 3.76M 4s\n  4600K .......... .......... .......... .......... .......... 27% 6.27M 4s\n  4650K .......... .......... .......... .......... .......... 27% 4.46M 4s\n  4700K .......... .......... .......... .......... .......... 28% 5.34M 4s\n  4750K .......... .......... .......... .......... .......... 28% 3.81M 4s\n  4800K .......... .......... .......... .......... .......... 28% 6.16M 4s\n  4850K .......... .......... .......... .......... .......... 28% 4.64M 4s\n  4900K .......... .......... .......... .......... .......... 29% 4.32M 4s\n  4950K .......... .......... .......... .......... .......... 29% 3.39M 4s\n  5000K .......... .......... .......... .......... .......... 29% 4.31M 3s\n  5050K .......... .......... .......... .......... .......... 30% 4.12M 3s\n  5100K .......... .......... .......... .......... .......... 30% 8.84M 3s\n  5150K .......... .......... .......... .......... .......... 30% 5.36M 3s\n  5200K .......... .......... .......... .......... .......... 31% 4.46M 3s\n  5250K .......... .......... .......... .......... .......... 31% 3.62M 3s\n  5300K .......... .......... .......... .......... .......... 31% 5.01M 3s\n  5350K .......... .......... .......... .......... .......... 31% 4.16M 3s\n  5400K .......... .......... .......... .......... .......... 32% 6.92M 3s\n  5450K .......... .......... .......... .......... .......... 32% 5.47M 3s\n  5500K .......... .......... .......... .......... .......... 32% 4.46M 3s\n  5550K .......... .......... .......... .......... .......... 33% 4.96M 3s\n  5600K .......... .......... .......... .......... .......... 33% 3.73M 3s\n  5650K .......... .......... .......... .......... .......... 33% 4.53M 3s\n  5700K .......... .......... .......... .......... .......... 33% 5.68M 3s\n  5750K .......... .......... .......... .......... .......... 34% 3.93M 3s\n  5800K .......... .......... .......... .......... .......... 34% 4.35M 3s\n  5850K .......... .......... .......... .......... .......... 34% 6.29M 3s\n  5900K .......... .......... .......... .......... .......... 35% 4.38M 3s\n  5950K .......... .......... .......... .......... .......... 35% 6.87M 3s\n  6000K .......... .......... .......... .......... .......... 35% 4.10M 3s\n  6050K .......... .......... .......... .......... .......... 36% 3.55M 3s\n  6100K .......... .......... .......... .......... .......... 36% 7.06M 3s\n  6150K .......... .......... .......... .......... .......... 36% 5.12M 3s\n  6200K .......... .......... .......... .......... .......... 36% 3.39M 3s\n  6250K .......... .......... .......... .......... .......... 37% 4.08M 3s\n  6300K .......... .......... .......... .......... .......... 37% 4.70M 3s\n  6350K .......... .......... .......... .......... .......... 37% 3.92M 3s\n  6400K .......... .......... .......... .......... .......... 38% 5.75M 3s\n  6450K .......... .......... .......... .......... .......... 38% 5.24M 3s\n  6500K .......... .......... .......... .......... .......... 38% 3.74M 3s\n  6550K .......... .......... .......... .......... .......... 39% 4.63M 3s\n  6600K .......... .......... .......... .......... .......... 39% 4.32M 3s\n  6650K .......... .......... .......... .......... .......... 39% 5.95M 3s\n  6700K .......... .......... .......... .......... .......... 39% 2.93M 3s\n  6750K .......... .......... .......... .......... .......... 40% 6.60M 3s\n  6800K .......... .......... .......... .......... .......... 40% 5.87M 3s\n  6850K .......... .......... .......... .......... .......... 40% 4.12M 3s\n  6900K .......... .......... .......... .......... .......... 41% 4.71M 3s\n  6950K .......... .......... .......... .......... .......... 41% 7.12M 3s\n  7000K .......... .......... .......... .......... .......... 41% 3.52M 3s\n  7050K .......... .......... .......... .......... .......... 41% 5.91M 3s\n  7100K .......... .......... .......... .......... .......... 42% 4.40M 3s\n  7150K .......... .......... .......... .......... .......... 42% 4.74M 3s\n  7200K .......... .......... .......... .......... .......... 42% 4.66M 3s\n  7250K .......... .......... .......... .......... .......... 43% 5.12M 3s\n  7300K .......... .......... .......... .......... .......... 43% 5.55M 3s\n  7350K .......... .......... .......... .......... .......... 43% 4.85M 3s\n  7400K .......... .......... .......... .......... .......... 44% 4.62M 3s\n  7450K .......... .......... .......... .......... .......... 44% 4.32M 3s\n  7500K .......... .......... .......... .......... .......... 44% 4.62M 2s\n  7550K .......... .......... .......... .......... .......... 44% 3.48M 2s\n  7600K .......... .......... .......... .......... .......... 45% 5.53M 2s\n  7650K .......... .......... .......... .......... .......... 45% 6.37M 2s\n  7700K .......... .......... .......... .......... .......... 45% 4.29M 2s\n  7750K .......... .......... .......... .......... .......... 46% 2.94M 2s\n  7800K .......... .......... .......... .......... .......... 46% 5.48M 2s\n  7850K .......... .......... .......... .......... .......... 46% 4.07M 2s\n  7900K .......... .......... .......... .......... .......... 47% 4.21M 2s\n  7950K .......... .......... .......... .......... .......... 47% 3.87M 2s\n  8000K .......... .......... .......... .......... .......... 47% 6.46M 2s\n  8050K .......... .......... .......... .......... .......... 47% 3.76M 2s\n  8100K .......... .......... .......... .......... .......... 48% 6.17M 2s\n  8150K .......... .......... .......... .......... .......... 48% 7.15M 2s\n  8200K .......... .......... .......... .......... .......... 48% 3.71M 2s\n  8250K .......... .......... .......... .......... .......... 49% 6.25M 2s\n  8300K .......... .......... .......... .......... .......... 49% 3.74M 2s\n  8350K .......... .......... .......... .......... .......... 49% 6.39M 2s\n  8400K .......... .......... .......... .......... .......... 49% 4.92M 2s\n  8450K .......... .......... .......... .......... .......... 50% 3.70M 2s\n  8500K .......... .......... .......... .......... .......... 50% 5.20M 2s\n  8550K .......... .......... .......... .......... .......... 50% 4.93M 2s\n  8600K .......... .......... .......... .......... .......... 51% 4.22M 2s\n  8650K .......... .......... .......... .......... .......... 51% 5.47M 2s\n  8700K .......... .......... .......... .......... .......... 51% 4.36M 2s\n  8750K .......... .......... .......... .......... .......... 52% 4.95M 2s\n  8800K .......... .......... .......... .......... .......... 52% 4.73M 2s\n  8850K .......... .......... .......... .......... .......... 52% 5.53M 2s\n  8900K .......... .......... .......... .......... .......... 52% 4.30M 2s\n  8950K .......... .......... .......... .......... .......... 53% 4.73M 2s\n  9000K .......... .......... .......... .......... .......... 53% 4.70M 2s\n  9050K .......... .......... .......... .......... .......... 53% 4.67M 2s\n  9100K .......... .......... .......... .......... .......... 54% 4.19M 2s\n  9150K .......... .......... .......... .......... .......... 54% 3.47M 2s\n  9200K .......... .......... .......... .......... .......... 54% 6.52M 2s\n  9250K .......... .......... .......... .......... .......... 54% 3.81M 2s\n  9300K .......... .......... .......... .......... .......... 55% 5.02M 2s\n  9350K .......... .......... .......... .......... .......... 55% 5.09M 2s\n  9400K .......... .......... .......... .......... .......... 55% 7.81M 2s\n  9450K .......... .......... .......... .......... .......... 56% 4.07M 2s\n  9500K .......... .......... .......... .......... .......... 56% 4.53M 2s\n  9550K .......... .......... .......... .......... .......... 56% 3.40M 2s\n  9600K .......... .......... .......... .......... .......... 57% 6.17M 2s\n  9650K .......... .......... .......... .......... .......... 57% 4.43M 2s\n  9700K .......... .......... .......... .......... .......... 57% 7.18M 2s\n  9750K .......... .......... .......... .......... .......... 57% 4.21M 2s\n  9800K .......... .......... .......... .......... .......... 58% 5.18M 2s\n  9850K .......... .......... .......... .......... .......... 58% 4.94M 2s\n  9900K .......... .......... .......... .......... .......... 58% 5.85M 2s\n  9950K .......... .......... .......... .......... .......... 59% 5.01M 2s\n 10000K .......... .......... .......... .......... .......... 59% 5.13M 2s\n 10050K .......... .......... .......... .......... .......... 59% 3.80M 2s\n 10100K .......... .......... .......... .......... .......... 60% 5.14M 2s\n 10150K .......... .......... .......... .......... .......... 60% 4.04M 2s\n 10200K .......... .......... .......... .......... .......... 60% 7.50M 2s\n 10250K .......... .......... .......... .......... .......... 60% 4.79M 2s\n 10300K .......... .......... .......... .......... .......... 61% 5.12M 2s\n 10350K .......... .......... .......... .......... .......... 61% 4.03M 2s\n 10400K .......... .......... .......... .......... .......... 61% 4.93M 2s\n 10450K .......... .......... .......... .......... .......... 62% 4.04M 2s\n 10500K .......... .......... .......... .......... .......... 62% 4.29M 2s\n 10550K .......... .......... .......... .......... .......... 62% 4.57M 2s\n 10600K .......... .......... .......... .......... .......... 62% 6.16M 2s\n 10650K .......... .......... .......... .......... .......... 63% 5.88M 2s\n 10700K .......... .......... .......... .......... .......... 63% 5.88M 2s\n 10750K .......... .......... .......... .......... .......... 63% 3.53M 2s\n 10800K .......... .......... .......... .......... .......... 64% 6.08M 2s\n 10850K .......... .......... .......... .......... .......... 64% 2.84M 1s\n 10900K .......... .......... .......... .......... .......... 64% 9.28M 1s\n 10950K .......... .......... .......... .......... .......... 65% 5.81M 1s\n 11000K .......... .......... .......... .......... .......... 65% 4.46M 1s\n 11050K .......... .......... .......... .......... .......... 65% 4.09M 1s\n 11100K .......... .......... .......... .......... .......... 65% 4.82M 1s\n 11150K .......... .......... .......... .......... .......... 66% 8.17M 1s\n 11200K .......... .......... .......... .......... .......... 66% 5.01M 1s\n 11250K .......... .......... .......... .......... .......... 66% 4.26M 1s\n 11300K .......... .......... .......... .......... .......... 67% 4.47M 1s\n 11350K .......... .......... .......... .......... .......... 67% 4.67M 1s\n 11400K .......... .......... .......... .......... .......... 67% 3.19M 1s\n 11450K .......... .......... .......... .......... .......... 67% 6.67M 1s\n 11500K .......... .......... .......... .......... .......... 68% 4.59M 1s\n 11550K .......... .......... .......... .......... .......... 68% 4.51M 1s\n 11600K .......... .......... .......... .......... .......... 68% 6.17M 1s\n 11650K .......... .......... .......... .......... .......... 69% 5.45M 1s\n 11700K .......... .......... .......... .......... .......... 69% 3.79M 1s\n 11750K .......... .......... .......... .......... .......... 69% 5.37M 1s\n 11800K .......... .......... .......... .......... .......... 70% 3.81M 1s\n 11850K .......... .......... .......... .......... .......... 70% 5.40M 1s\n 11900K .......... .......... .......... .......... .......... 70% 6.40M 1s\n 11950K .......... .......... .......... .......... .......... 70% 4.99M 1s\n 12000K .......... .......... .......... .......... .......... 71% 4.96M 1s\n 12050K .......... .......... .......... .......... .......... 71% 4.06M 1s\n 12100K .......... .......... .......... .......... .......... 71% 5.77M 1s\n 12150K .......... .......... .......... .......... .......... 72% 2.81M 1s\n 12200K .......... .......... .......... .......... .......... 72% 7.82M 1s\n 12250K .......... .......... .......... .......... .......... 72% 5.30M 1s\n 12300K .......... .......... .......... .......... .......... 73% 2.83M 1s\n 12350K .......... .......... .......... .......... .......... 73% 9.07M 1s\n 12400K .......... .......... .......... .......... .......... 73% 5.58M 1s\n 12450K .......... .......... .......... .......... .......... 73% 5.06M 1s\n 12500K .......... .......... .......... .......... .......... 74% 5.26M 1s\n 12550K .......... .......... .......... .......... .......... 74% 3.58M 1s\n 12600K .......... .......... .......... .......... .......... 74% 5.85M 1s\n 12650K .......... .......... .......... .......... .......... 75% 3.59M 1s\n 12700K .......... .......... .......... .......... .......... 75% 6.49M 1s\n 12750K .......... .......... .......... .......... .......... 75% 4.68M 1s\n 12800K .......... .......... .......... .......... .......... 75% 4.09M 1s\n 12850K .......... .......... .......... .......... .......... 76% 8.13M 1s\n 12900K .......... .......... .......... .......... .......... 76% 7.15M 1s\n 12950K .......... .......... .......... .......... .......... 76% 4.61M 1s\n 13000K .......... .......... .......... .......... .......... 77% 4.15M 1s\n 13050K .......... .......... .......... .......... .......... 77% 4.37M 1s\n 13100K .......... .......... .......... .......... .......... 77% 3.43M 1s\n 13150K .......... .......... .......... .......... .......... 78% 7.41M 1s\n 13200K .......... .......... .......... .......... .......... 78% 4.68M 1s\n 13250K .......... .......... .......... .......... .......... 78% 5.25M 1s\n 13300K .......... .......... .......... .......... .......... 78% 3.80M 1s\n 13350K .......... .......... .......... .......... .......... 79% 5.11M 1s\n 13400K .......... .......... .......... .......... .......... 79% 6.58M 1s\n 13450K .......... .......... .......... .......... .......... 79% 5.06M 1s\n 13500K .......... .......... .......... .......... .......... 80% 1004K 1s\n 13550K .......... .......... .......... .......... .......... 80% 5.33M 1s\n 13600K .......... .......... .......... .......... .......... 80% 4.39M 1s\n 13650K .......... .......... .......... .......... .......... 80% 3.05M 1s\n 13700K .......... .......... .......... .......... .......... 81%  318K 1s\n 13750K .......... .......... .......... .......... .......... 81% 7.52M 1s\n 13800K .......... .......... .......... .......... .......... 81% 8.58M 1s\n 13850K .......... .......... .......... .......... .......... 82% 8.93M 1s\n 13900K .......... .......... .......... .......... .......... 82% 9.62M 1s\n 13950K .......... .......... .......... .......... .......... 82% 10.7M 1s\n 14000K .......... .......... .......... .......... .......... 83% 9.19M 1s\n 14050K .......... .......... .......... .......... .......... 83% 9.29M 1s\n 14100K .......... .......... .......... .......... .......... 83% 10.1M 1s\n 14150K .......... .......... .......... .......... .......... 83% 8.29M 1s\n 14200K .......... .......... .......... .......... .......... 84% 8.49M 1s\n 14250K .......... .......... .......... .......... .......... 84% 10.3M 1s\n 14300K .......... .......... .......... .......... .......... 84% 2.39M 1s\n 14350K .......... .......... .......... .......... .......... 85% 2.10M 1s\n 14400K .......... .......... .......... .......... .......... 85% 1.97M 1s\n 14450K .......... .......... .......... .......... .......... 85% 5.17M 1s\n 14500K .......... .......... .......... .......... .......... 86%  337K 1s\n 14550K .......... .......... .......... .......... .......... 86% 2.70M 1s\n 14600K .......... .......... .......... .......... .......... 86% 9.09M 1s\n 14650K .......... .......... .......... .......... .......... 86% 10.6M 1s\n 14700K .......... .......... .......... .......... .......... 87% 8.41M 1s\n 14750K .......... .......... .......... .......... .......... 87% 9.30M 1s\n 14800K .......... .......... .......... .......... .......... 87% 9.72M 1s\n 14850K .......... .......... .......... .......... .......... 88% 8.67M 1s\n 14900K .......... .......... .......... .......... .......... 88% 10.9M 1s\n 14950K .......... .......... .......... .......... .......... 88% 2.40M 0s\n 15000K .......... .......... .......... .......... .......... 88% 2.18M 0s\n 15050K .......... .......... .......... .......... .......... 89% 2.66M 0s\n 15100K .......... .......... .......... .......... .......... 89% 1.57M 0s\n 15150K .......... .......... .......... .......... .......... 89% 2.13M 0s\n 15200K .......... .......... .......... .......... .......... 90% 2.41M 0s\n 15250K .......... .......... .......... .......... .......... 90% 1.87M 0s\n 15300K .......... .......... .......... .......... .......... 90% 4.46M 0s\n 15350K .......... .......... .......... .......... .......... 91% 4.97M 0s\n 15400K .......... .......... .......... .......... .......... 91% 3.48M 0s\n 15450K .......... .......... .......... .......... .......... 91% 2.77M 0s\n 15500K .......... .......... .......... .......... .......... 91% 1.56M 0s\n 15550K .......... .......... .......... .......... .......... 92% 3.30M 0s\n 15600K .......... .......... .......... .......... .......... 92% 4.77M 0s\n 15650K .......... .......... .......... .......... .......... 92% 3.57M 0s\n 15700K .......... .......... .......... .......... .......... 93% 3.08M 0s\n 15750K .......... .......... .......... .......... .......... 93% 2.22M 0s\n 15800K .......... .......... .......... .......... .......... 93% 2.39M 0s\n 15850K .......... .......... .......... .......... .......... 94% 3.17M 0s\n 15900K .......... .......... .......... .......... .......... 94% 4.32M 0s\n 15950K .......... .......... .......... .......... .......... 94% 2.71M 0s\n 16000K .......... .......... .......... .......... .......... 94% 2.43M 0s\n 16050K .......... .......... .......... .......... .......... 95% 2.78M 0s\n 16100K .......... .......... .......... .......... .......... 95% 3.48M 0s\n 16150K .......... .......... .......... .......... .......... 95% 3.88M 0s\n 16200K .......... .......... .......... .......... .......... 96% 2.52M 0s\n 16250K .......... .......... .......... .......... .......... 96% 3.69M 0s\n 16300K .......... .......... .......... .......... .......... 96% 3.20M 0s\n 16350K .......... .......... .......... .......... .......... 96% 2.54M 0s\n 16400K .......... .......... .......... .......... .......... 97% 4.53M 0s\n 16450K .......... .......... .......... .......... .......... 97% 2.69M 0s\n 16500K .......... .......... .......... .......... .......... 97% 3.97M 0s\n 16550K .......... .......... .......... .......... .......... 98% 2.60M 0s\n 16600K .......... .......... .......... .......... .......... 98% 2.58M 0s\n 16650K .......... .......... .......... .......... .......... 98% 4.30M 0s\n 16700K .......... .......... .......... .......... .......... 99% 2.42M 0s\n 16750K .......... .......... .......... .......... .......... 99% 4.03M 0s\n 16800K .......... .......... .......... .......... .......... 99% 2.06M 0s\n 16850K .......... .......... .......... .......... .......... 99% 4.20M 0s\n 16900K .......... ...                                        100% 6.45M=4.5s\n\n2020-05-26 21:50:22 (3.68 MB/s) - ‘mleap_spark_assembly.jar’ saved [17319576/17319576]\n\n"
    }
   ],
   "source": [
    "%%bash\n",
    "\n",
    "# Download Raw data and Dependencies\n",
    "wget https://archive.ics.uci.edu/ml/machine-learning-databases/car/car.data\n",
    "wget https://s3-us-west-2.amazonaws.com/sparkml-mleap/0.9.6/python/python.zip\n",
    "wget https://s3-us-west-2.amazonaws.com/sparkml-mleap/0.9.6/jar/mleap_spark_assembly.jar"
   ]
  },
  {
   "cell_type": "markdown",
   "metadata": {},
   "source": [
    "# Uploading the training data to S3"
   ]
  },
  {
   "cell_type": "code",
   "execution_count": 3,
   "metadata": {},
   "outputs": [
    {
     "output_type": "stream",
     "name": "stdout",
     "text": "s3://md-backup-bucket-01/data/car.data\ns3://md-backup-bucket-01/scripts/preprocessor.py\ns3://md-backup-bucket-01/scripts/python.zip\ns3://md-backup-bucket-01/scripts/mleap_spark_assembly.jar\n"
    }
   ],
   "source": [
    "\n",
    "result = sess.upload_data(path='car.data', bucket=bucket_name, key_prefix='data')\n",
    "print(result)\n",
    "\n",
    "result = sess.upload_data(path='preprocessor.py', bucket=bucket_name, key_prefix='scripts')\n",
    "print(result)\n",
    "\n",
    "result = sess.upload_data(path='python.zip', bucket=bucket_name, key_prefix='scripts')\n",
    "print(result)\n",
    "\n",
    "result = sess.upload_data(path='mleap_spark_assembly.jar', bucket=bucket_name, key_prefix='scripts')\n",
    "print(result)"
   ]
  },
  {
   "cell_type": "markdown",
   "metadata": {},
   "source": [
    "Your S3 bucket is now setup for our example."
   ]
  },
  {
   "cell_type": "markdown",
   "metadata": {},
   "source": [
    "# Preprocessing using Apache Spark in AWS Glue\n",
    "\n",
    "If you take a look at the data we downloaded, you’ll notice all of the fields are categorical data in string format, which XGBoost cannot natively handle. In order to utilize SageMaker’s XGBoost, we need to preprocess our data into a series of one hot encoded columns. Apache Spark provides preprocessing pipeline capabilities that we will utilize. \n",
    "\n",
    "Furthermore, to make our endpoint particularly useful, we also generate a post-processor in this script, which can convert our label indexes back to their original labels. All of these processor artifacts will be saved to S3 for SageMaker’s use later.\n",
    "\n",
    "In this example, you downloaded our preprocessor.py script, and we recommend you take the time to explore how Spark pipelines are handled. Let’s take a look at the relevant part of the code where we define and fit our Spark pipeline:\n",
    "\n",
    "```\n",
    "    # Target label\n",
    "    catIndexer = StringIndexer(inputCol=\"cat\", outputCol=\"label\")\n",
    "    \n",
    "    labelIndexModel = catIndexer.fit(train)\n",
    "    train = labelIndexModel.transform(train)\n",
    "    \n",
    "    converter = IndexToString(inputCol=\"label\", outputCol=\"cat\")\n",
    "\n",
    "    # Index labels, adding metadata to the label column.\n",
    "    # Fit on whole dataset to include all labels in index.\n",
    "    buyingIndexer = StringIndexer(inputCol=\"buying\", outputCol=\"indexedBuying\")\n",
    "    maintIndexer = StringIndexer(inputCol=\"maint\", outputCol=\"indexedMaint\")\n",
    "    doorsIndexer = StringIndexer(inputCol=\"doors\", outputCol=\"indexedDoors\")\n",
    "    personsIndexer = StringIndexer(inputCol=\"persons\", outputCol=\"indexedPersons\")\n",
    "    lug_bootIndexer = StringIndexer(inputCol=\"lug_boot\", outputCol=\"indexedLug_boot\")\n",
    "    safetyIndexer = StringIndexer(inputCol=\"safety\", outputCol=\"indexedSafety\")\n",
    "    \n",
    "\n",
    "    # One Hot Encoder on indexed features\n",
    "    buyingEncoder = OneHotEncoder(inputCol=\"indexedBuying\", outputCol=\"buyingVec\")\n",
    "    maintEncoder = OneHotEncoder(inputCol=\"indexedMaint\", outputCol=\"maintVec\")\n",
    "    doorsEncoder = OneHotEncoder(inputCol=\"indexedDoors\", outputCol=\"doorsVec\")\n",
    "    personsEncoder = OneHotEncoder(inputCol=\"indexedPersons\", outputCol=\"personsVec\")\n",
    "    lug_bootEncoder = OneHotEncoder(inputCol=\"indexedLug_boot\", outputCol=\"lug_bootVec\")\n",
    "    safetyEncoder = OneHotEncoder(inputCol=\"indexedSafety\", outputCol=\"safetyVec\")\n",
    "\n",
    "    # Create the vector structured data (label,features(vector))\n",
    "    assembler = VectorAssembler(inputCols=[\"buyingVec\", \"maintVec\", \"doorsVec\", \"personsVec\", \"lug_bootVec\", \"safetyVec\"], outputCol=\"features\")\n",
    "\n",
    "    # Chain featurizers in a Pipeline\n",
    "    pipeline = Pipeline(stages=[buyingIndexer, maintIndexer, doorsIndexer, personsIndexer, lug_bootIndexer, safetyIndexer, buyingEncoder, maintEncoder, doorsEncoder, personsEncoder, lug_bootEncoder, safetyEncoder, assembler])\n",
    "\n",
    "    # Train model.  This also runs the indexers.\n",
    "    model = pipeline.fit(train)\n",
    "```\n",
    "\n",
    "This snippet defines both our preprocessor and postprocessor. The preprocessor converts all the training columns from categorical labels into a vector of one-hot encoded columns, while the post-processor converts our label index back to a human readable string.\n",
    "\n",
    "In addition, it may be helpful to examine the code which allows us to serialize and store our Spark pipeline artifacts in the MLeap format. Because the Spark framework was designed around batch use cases, we need to use MLeap here. MLeap serializes SparkML Pipelines and provides run time for deploying for real-time, low latency use cases. Amazon SageMaker has launched a SparkML Serving container that uses MLEAP to make it easy to use. Let’s look at the code below:\n",
    "\n",
    "```\n",
    "    # Serialize and store via MLeap  \n",
    "    SimpleSparkSerializer().serializeToBundle(model, \"jar:file:/tmp/model.zip\", predictions)\n",
    "    \n",
    "    # Unzipping as SageMaker expects a .tar.gz file but MLeap produces a .zip file.\n",
    "    import zipfile\n",
    "    with zipfile.ZipFile(\"/tmp/model.zip\") as zf:\n",
    "        zf.extractall(\"/tmp/model\")\n",
    "\n",
    "    # Writing back the content as a .tar.gz file\n",
    "    import tarfile\n",
    "    with tarfile.open(\"/tmp/model.tar.gz\", \"w:gz\") as tar:\n",
    "        tar.add(\"/tmp/model/bundle.json\", arcname='bundle.json')\n",
    "        tar.add(\"/tmp/model/root\", arcname='root')\n",
    "\n",
    "    s3 = boto3.resource('s3')\n",
    "    file_name = args['s3_model_bucket_prefix'] + '/' + 'model.tar.gz'\n",
    "    s3.Bucket(args['s3_model_bucket']).upload_file('/tmp/model.tar.gz', file_name)\n",
    "\n",
    "    os.remove('/tmp/model.zip')\n",
    "    os.remove('/tmp/model.tar.gz')\n",
    "    shutil.rmtree('/tmp/model')\n",
    "    \n",
    "    # Save postprocessor\n",
    "    SimpleSparkSerializer().serializeToBundle(converter, \"jar:file:/tmp/postprocess.zip\", predictions)\n",
    "\n",
    "    with zipfile.ZipFile(\"/tmp/postprocess.zip\") as zf:\n",
    "        zf.extractall(\"/tmp/postprocess\")\n",
    "\n",
    "    # Writing back the content as a .tar.gz file\n",
    "    import tarfile\n",
    "    with tarfile.open(\"/tmp/postprocess.tar.gz\", \"w:gz\") as tar:\n",
    "        tar.add(\"/tmp/postprocess/bundle.json\", arcname='bundle.json')\n",
    "        tar.add(\"/tmp/postprocess/root\", arcname='root')\n",
    "\n",
    "    file_name = args['s3_model_bucket_prefix'] + '/' + 'postprocess.tar.gz'\n",
    "    s3.Bucket(args['s3_model_bucket']).upload_file('/tmp/postprocess.tar.gz', file_name)\n",
    "\n",
    "    os.remove('/tmp/postprocess.zip')\n",
    "    os.remove('/tmp/postprocess.tar.gz')\n",
    "    shutil.rmtree('/tmp/postprocess')\n",
    "```\n",
    "\n",
    "You’ll notice we unzip this archive and re-archive it into a tar.gz file that SageMaker recognizes.\n",
    "\n",
    "To run our Spark pipelines within SageMaker, we are going to utilize our notebook instance.  within the SageMaker notebook, you can run the cell labeled Create and run AWS Glue Preprocessing Job, which is in the following cell. This cell will define the job in Glue, run the job, and monitor the status until the job has completed.\n",
    "\n",
    "\n",
    "## Create and run AWS Glue Preprocessing Job\n",
    "\n",
    "Next we'll be creating Glue client via Boto so that we can invoke the `create_job` API of Glue. `create_job` API will create a job definition which can be used to execute your jobs in Glue. The job definition created here is mutable. While creating the job, we are also passing the code location as well as the dependencies location to Glue.\n",
    "\n",
    "The  job will be executed by calling `start_job_run` API. This API creates an immutable run/execution corresponding to the job definition created above. We will require the `job_run_id` for the particular job execution to check for status. We'll pass the data and model locations as part of the job execution parameters.\n",
    "\n",
    "Finally we will check for the job status to see if it has `succeeded`, `failed` or `stopped`. Once the job is succeeded, we have the transformed data into S3 in CSV format which we can use with XGBoost for training. If the job fails, you can go to [AWS Glue console](https://us-west-2.console.aws.amazon.com/glue/home), click on **Jobs** tab on the left, and from the page, click on this particular job and you will be able to find the CloudWatch logs (the link under **Logs**) link for these jobs which can help you to see what exactly went wrong in the job execution."
   ]
  },
  {
   "cell_type": "markdown",
   "metadata": {},
   "source": [
    "# Create and run AWS Glue Preprocessing Job"
   ]
  },
  {
   "cell_type": "code",
   "execution_count": 5,
   "metadata": {},
   "outputs": [
    {
     "output_type": "stream",
     "name": "stdout",
     "text": "{u'Name': u'preprocessing-cars', 'ResponseMetadata': {'RetryAttempts': 0, 'HTTPStatusCode': 200, 'RequestId': '5ea19618-492d-47b1-b531-fb9062f64828', 'HTTPHeaders': {'date': 'Tue, 26 May 2020 22:15:38 GMT', 'x-amzn-requestid': '5ea19618-492d-47b1-b531-fb9062f64828', 'content-length': '29', 'content-type': 'application/x-amz-json-1.1', 'connection': 'keep-alive'}}}\n\n"
    }
   ],
   "source": [
    "### Create and run AWS Glue Preprocessing Job\n",
    "\n",
    "# Define the Job in AWS Glue\n",
    "glue = boto3.client('glue')\n",
    "\n",
    "try:\n",
    "    glue.get_job(JobName='preprocessing-cars')\n",
    "    print(\"Job already exists, continuing...\")\n",
    "except glue.exceptions.EntityNotFoundException:\n",
    "    response = glue.create_job(\n",
    "        Name='preprocessing-cars',\n",
    "        Role=role,\n",
    "        Command={\n",
    "            'Name': 'glueetl',\n",
    "            'ScriptLocation': 's3://{}/scripts/preprocessor.py'.format(bucket_name)\n",
    "        },\n",
    "        DefaultArguments={\n",
    "            '--s3_input_data_location': 's3://{}/data/car.data'.format(bucket_name),\n",
    "            '--s3_model_bucket_prefix': 'model',\n",
    "            '--s3_model_bucket': bucket_name,\n",
    "            '--s3_output_bucket': bucket_name,\n",
    "            '--s3_output_bucket_prefix': 'output',\n",
    "            '--extra-py-files': 's3://{}/scripts/python.zip'.format(bucket_name),\n",
    "            '--extra-jars': 's3://{}/scripts/mleap_spark_assembly.jar'.format(bucket_name)\n",
    "        }\n",
    "    )\n",
    "\n",
    "    print('{}\\n'.format(response))\n",
    "\n"
   ]
  },
  {
   "cell_type": "markdown",
   "metadata": {},
   "source": [
    "# Run the job in AWS Glue"
   ]
  },
  {
   "cell_type": "code",
   "execution_count": 6,
   "metadata": {},
   "outputs": [
    {
     "output_type": "stream",
     "name": "stdout",
     "text": "{u'JobRunId': u'jr_0982a2ae0b2654d04b6b90da30da8d071017b335e4a86cce2db25757f84d6a68', 'ResponseMetadata': {'RetryAttempts': 0, 'HTTPStatusCode': 200, 'RequestId': 'c427b5d8-7e1d-49da-943b-00fb2b9533de', 'HTTPHeaders': {'date': 'Tue, 26 May 2020 22:16:54 GMT', 'x-amzn-requestid': 'c427b5d8-7e1d-49da-943b-00fb2b9533de', 'content-length': '82', 'content-type': 'application/x-amz-json-1.1', 'connection': 'keep-alive'}}}\n\n"
    }
   ],
   "source": [
    "# Run the job in AWS Glue\n",
    "try:\n",
    "    job_name='preprocessing-cars'\n",
    "    response = glue.start_job_run(JobName=job_name)\n",
    "    job_run_id = response['JobRunId']\n",
    "    print('{}\\n'.format(response))\n",
    "except glue.exceptions.ConcurrentRunsExceededException:\n",
    "    print(\"Job run already in progress, continuing...\")\n",
    "\n",
    "    \n"
   ]
  },
  {
   "cell_type": "markdown",
   "metadata": {},
   "source": [
    "# Check on the job status"
   ]
  },
  {
   "cell_type": "code",
   "execution_count": 7,
   "metadata": {},
   "outputs": [
    {
     "output_type": "stream",
     "name": "stdout",
     "text": "RUNNING\nRUNNING\nRUNNING\nSUCCEEDED\n"
    }
   ],
   "source": [
    "# Check on the job status\n",
    "import time\n",
    "\n",
    "job_run_status = glue.get_job_run(JobName=job_name,RunId=job_run_id)['JobRun']['JobRunState']\n",
    "while job_run_status not in ('FAILED', 'SUCCEEDED', 'STOPPED'):\n",
    "    job_run_status = glue.get_job_run(JobName=job_name,RunId=job_run_id)['JobRun']['JobRunState']\n",
    "    print (job_run_status)\n",
    "    time.sleep(30)"
   ]
  },
  {
   "cell_type": "markdown",
   "metadata": {},
   "source": [
    "## In summary, we have now preprocessed our data into a training and validation set, with one-hot encoding for all of the string values. We have also serialized a preprocessor and post-processor into the MLeap format, so that we can reuse these pipelines in our endpoint later. The next step is to train a Machine Learning model. We will be using Amazon SageMaker’s built-in XGBoost for this.\n",
    "\n",
    "# Training an Amazon SageMaker XGBoost Model\n",
    "\n",
    "## Now that we have our data preprocessed in a format that XGBoost recognizes, we can run a simple training job to train a classifier model on our data. We can run this entire process in our Jupyter notebook. Run the following cell, labeled Run Amazon SageMaker XGBoost Training Job. This will run our XGBoost training job in Amazon SageMaker, and monitor the progress of the job. Once the job is ‘Completed’, you can move on to the next cell.\n",
    " \n",
    "## This will train the model on the preprocessed data we created earlier. After a few minutes, usually less than 5, the job should complete successfully, and output our model artifacts to the S3 location we specified. Once this is done, we can deploy an inference pipeline that consists of pre-processing, inference and post-processing steps.\n",
    "\n",
    "# Run Amazon SageMaker XGBoost Training Job"
   ]
  },
  {
   "cell_type": "code",
   "execution_count": 8,
   "metadata": {},
   "outputs": [
    {
     "output_type": "stream",
     "name": "stderr",
     "text": "WARNING:root:There is a more up to date SageMaker XGBoost image. To use the newer image, please set 'repo_version'='0.90-1'. For example:\n\tget_image_uri(region, 'xgboost', '0.90-1').\n{'ResponseMetadata': {'RetryAttempts': 0, 'HTTPStatusCode': 200, 'RequestId': 'b25f4b1c-8985-4561-9bbc-a389724c0701', 'HTTPHeaders': {'x-amzn-requestid': 'b25f4b1c-8985-4561-9bbc-a389724c0701', 'date': 'Tue, 26 May 2020 22:20:54 GMT', 'content-length': '96', 'content-type': 'application/x-amz-json-1.1'}}, u'TrainingJobArn': u'arn:aws:sagemaker:us-east-2:558157414092:training-job/xgboost-cars-mvx29bps'}\n\nInProgress\nInProgress\nInProgress\nInProgress\nInProgress\nInProgress\nInProgress\nCompleted\n"
    }
   ],
   "source": [
    "### Run Amazon SageMaker XGBoost Training Job\n",
    "\n",
    "from sagemaker.amazon.amazon_estimator import get_image_uri\n",
    "\n",
    "import random\n",
    "import string\n",
    "\n",
    "# Get XGBoost container image for current region\n",
    "training_image = get_image_uri(region, 'xgboost', repo_version=\"latest\")\n",
    "\n",
    "# Create a unique training job name\n",
    "training_job_name = 'xgboost-cars-'+''.join(random.choice(string.ascii_lowercase + string.digits) for _ in range(8))\n",
    "\n",
    "# Create the training job in Amazon SageMaker\n",
    "sagemaker = boto3.client('sagemaker')\n",
    "response = sagemaker.create_training_job(\n",
    "    TrainingJobName=training_job_name,\n",
    "    HyperParameters={\n",
    "        'early_stopping_rounds ': '5',\n",
    "        'num_round': '10',\n",
    "        'objective': 'multi:softmax',\n",
    "        'num_class': '4',\n",
    "        'eval_metric': 'mlogloss'\n",
    "\n",
    "    },\n",
    "    AlgorithmSpecification={\n",
    "        'TrainingImage': training_image,\n",
    "        'TrainingInputMode': 'File',\n",
    "    },\n",
    "    RoleArn=role,\n",
    "    InputDataConfig=[\n",
    "        {\n",
    "            'ChannelName': 'train',\n",
    "            'DataSource': {\n",
    "                'S3DataSource': {\n",
    "                    'S3DataType': 'S3Prefix',\n",
    "                    'S3Uri': 's3://{}/output/train'.format(bucket_name),\n",
    "                    'S3DataDistributionType': 'FullyReplicated'\n",
    "                }\n",
    "            },\n",
    "            'ContentType': 'text/csv',\n",
    "            'CompressionType': 'None',\n",
    "            'RecordWrapperType': 'None',\n",
    "            'InputMode': 'File'\n",
    "        },\n",
    "        {\n",
    "            'ChannelName': 'validation',\n",
    "            'DataSource': {\n",
    "                'S3DataSource': {\n",
    "                    'S3DataType': 'S3Prefix',\n",
    "                    'S3Uri': 's3://{}/output/validation'.format(bucket_name),\n",
    "                    'S3DataDistributionType': 'FullyReplicated'\n",
    "                }\n",
    "            },\n",
    "            'ContentType': 'text/csv',\n",
    "            'CompressionType': 'None',\n",
    "            'RecordWrapperType': 'None',\n",
    "            'InputMode': 'File'\n",
    "        },\n",
    "    ],\n",
    "    OutputDataConfig={\n",
    "        'S3OutputPath': 's3://{}/xgb'.format(bucket_name)\n",
    "    },\n",
    "    ResourceConfig={\n",
    "        'InstanceType': 'ml.m4.xlarge',\n",
    "        'InstanceCount': 1,\n",
    "        'VolumeSizeInGB': 1\n",
    "    },\n",
    "    StoppingCondition={\n",
    "        'MaxRuntimeInSeconds': 3600\n",
    "    },)\n",
    "\n",
    "print('{}\\n'.format(response))\n",
    "\n",
    "# Monitor the status until completed\n",
    "job_run_status = sagemaker.describe_training_job(TrainingJobName=training_job_name)['TrainingJobStatus']\n",
    "while job_run_status not in ('Failed', 'Completed', 'Stopped'):\n",
    "    job_run_status = sagemaker.describe_training_job(TrainingJobName=training_job_name)['TrainingJobStatus']\n",
    "    print (job_run_status)\n",
    "    time.sleep(30)"
   ]
  },
  {
   "cell_type": "markdown",
   "metadata": {},
   "source": [
    "# Deploying an Amazon SageMaker Endpoint utilizing your data processing artifacts\n",
    "\n",
    "## Now that we have a set of model artifacts, we can set up an inference pipeline that executes sequentially in Amazon SageMaker. We start by setting up a Model, which will point to all of our model artifacts, then we setup an Endpoint configuration to specify our hardware, and finally we can stand up an Endpoint. With this endpoint, we will pass the raw data and no longer need to write pre-processing logic in our application code. The same pre-processing steps that ran for training can be applied to inference input data for better consistency and ease of management.\n",
    "\n",
    "Deploying a model in SageMaker requires two components:\n",
    "\n",
    "* Docker image residing in ECR.\n",
    "* Model artifacts residing in S3.\n",
    "\n",
    "# **SparkML**\n",
    "\n",
    "## For SparkML, Docker image for MLeap based SparkML serving is provided by SageMaker team. For more information on this, please see [SageMaker SparkML Serving](https://github.com/aws/sagemaker-sparkml-serving-container). MLeap serialized SparkML model was uploaded to S3 as part of the SparkML job we executed in AWS Glue.\n",
    "\n",
    "# **XGBoost**\n",
    "\n",
    "## For XGBoost, we will use the same Docker image we used for training. The model artifacts for XGBoost was uploaded as part of the training job we just ran.\n",
    "\n",
    "\n",
    "# Create SageMaker Endpoint with pipeline"
   ]
  },
  {
   "cell_type": "code",
   "execution_count": 9,
   "metadata": {},
   "outputs": [
    {
     "output_type": "stream",
     "name": "stdout",
     "text": "{u'ModelArn': u'arn:aws:sagemaker:us-east-2:558157414092:model/pipeline-xgboost', 'ResponseMetadata': {'RetryAttempts': 0, 'HTTPStatusCode': 200, 'RequestId': '2f214f9b-e6d6-4a6e-805d-874b6aa90cf4', 'HTTPHeaders': {'x-amzn-requestid': '2f214f9b-e6d6-4a6e-805d-874b6aa90cf4', 'date': 'Tue, 26 May 2020 22:26:18 GMT', 'content-length': '78', 'content-type': 'application/x-amz-json-1.1'}}}\n\n{u'EndpointConfigArn': u'arn:aws:sagemaker:us-east-2:558157414092:endpoint-config/pipeline-xgboost', 'ResponseMetadata': {'RetryAttempts': 0, 'HTTPStatusCode': 200, 'RequestId': '6e9f7bed-7fe0-4f55-826f-2a9a88b3aa72', 'HTTPHeaders': {'x-amzn-requestid': '6e9f7bed-7fe0-4f55-826f-2a9a88b3aa72', 'date': 'Tue, 26 May 2020 22:26:18 GMT', 'content-length': '97', 'content-type': 'application/x-amz-json-1.1'}}}\n\n{u'EndpointArn': u'arn:aws:sagemaker:us-east-2:558157414092:endpoint/pipeline-xgboost', 'ResponseMetadata': {'RetryAttempts': 0, 'HTTPStatusCode': 200, 'RequestId': 'b3977837-2142-4441-9cc6-027839fc0e79', 'HTTPHeaders': {'x-amzn-requestid': 'b3977837-2142-4441-9cc6-027839fc0e79', 'date': 'Tue, 26 May 2020 22:26:18 GMT', 'content-length': '84', 'content-type': 'application/x-amz-json-1.1'}}}\n\nCreating\nCreating\nCreating\nCreating\nCreating\nCreating\nCreating\nCreating\nCreating\nCreating\nCreating\nCreating\nCreating\nInService\n"
    }
   ],
   "source": [
    "### Create SageMaker endpoint with pipeline\n",
    "from botocore.exceptions import ClientError\n",
    "\n",
    "# Image locations are published at: https://github.com/aws/sagemaker-sparkml-serving-container\n",
    "sparkml_images = {\n",
    "    'us-west-1': '746614075791.dkr.ecr.us-west-1.amazonaws.com/sagemaker-sparkml-serving:2.2',\n",
    "    'us-west-2': '246618743249.dkr.ecr.us-west-2.amazonaws.com/sagemaker-sparkml-serving:2.2',\n",
    "    'us-east-1': '683313688378.dkr.ecr.us-east-1.amazonaws.com/sagemaker-sparkml-serving:2.2',\n",
    "    'us-east-2': '257758044811.dkr.ecr.us-east-2.amazonaws.com/sagemaker-sparkml-serving:2.2',\n",
    "    'ap-northeast-1': '354813040037.dkr.ecr.ap-northeast-1.amazonaws.com/sagemaker-sparkml-serving:2.2',\n",
    "    'ap-northeast-2': '366743142698.dkr.ecr.ap-northeast-2.amazonaws.com/sagemaker-sparkml-serving:2.2',\n",
    "    'ap-southeast-1': '121021644041.dkr.ecr.ap-southeast-1.amazonaws.com/sagemaker-sparkml-serving:2.2',\n",
    "    'ap-southeast-2': '783357654285.dkr.ecr.ap-southeast-2.amazonaws.com/sagemaker-sparkml-serving:2.2',\n",
    "    'ap-south-1': '720646828776.dkr.ecr.ap-south-1.amazonaws.com/sagemaker-sparkml-serving:2.2',\n",
    "    'eu-west-1': '141502667606.dkr.ecr.eu-west-1.amazonaws.com/sagemaker-sparkml-serving:2.2',\n",
    "    'eu-west-2': '764974769150.dkr.ecr.eu-west-2.amazonaws.com/sagemaker-sparkml-serving:2.2',\n",
    "    'eu-central-1': '492215442770.dkr.ecr.eu-central-1.amazonaws.com/sagemaker-sparkml-serving:2.2',\n",
    "    'ca-central-1': '341280168497.dkr.ecr.ca-central-1.amazonaws.com/sagemaker-sparkml-serving:2.2',\n",
    "    'us-gov-west-1': '414596584902.dkr.ecr.us-gov-west-1.amazonaws.com/sagemaker-sparkml-serving:2.2'\n",
    "}\n",
    "\n",
    "\n",
    "\n",
    "try:\n",
    "    sparkml_image = sparkml_images[region]\n",
    "\n",
    "    response = sagemaker.create_model(\n",
    "        ModelName='pipeline-xgboost',\n",
    "        Containers=[\n",
    "            {\n",
    "                'Image': sparkml_image,\n",
    "                'ModelDataUrl': 's3://{}/model/model.tar.gz'.format(bucket_name),\n",
    "                'Environment': {\n",
    "                    'SAGEMAKER_SPARKML_SCHEMA': '{\"input\":[{\"type\":\"string\",\"name\":\"buying\"},{\"type\":\"string\",\"name\":\"maint\"},{\"type\":\"string\",\"name\":\"doors\"},{\"type\":\"string\",\"name\":\"persons\"},{\"type\":\"string\",\"name\":\"lug_boot\"},{\"type\":\"string\",\"name\":\"safety\"}],\"output\":{\"type\":\"double\",\"name\":\"features\",\"struct\":\"vector\"}}'\n",
    "                }\n",
    "            },\n",
    "            {\n",
    "                'Image': training_image,\n",
    "                'ModelDataUrl': 's3://{}/xgb/{}/output/model.tar.gz'.format(bucket_name, training_job_name)\n",
    "            },\n",
    "            {\n",
    "                'Image': sparkml_image,\n",
    "                'ModelDataUrl': 's3://{}/model/postprocess.tar.gz'.format(bucket_name),\n",
    "                'Environment': {\n",
    "                    'SAGEMAKER_SPARKML_SCHEMA': '{\"input\": [{\"type\": \"double\", \"name\": \"label\"}], \"output\": {\"type\": \"string\", \"name\": \"cat\"}}'\n",
    "                }\n",
    "\n",
    "            },\n",
    "        ],\n",
    "        ExecutionRoleArn=role\n",
    "    )\n",
    "\n",
    "    print('{}\\n'.format(response))\n",
    "    \n",
    "except ClientError:\n",
    "    print('Model already exists, continuing...')\n",
    "\n",
    "\n",
    "try:\n",
    "    response = sagemaker.create_endpoint_config(\n",
    "        EndpointConfigName='pipeline-xgboost',\n",
    "        ProductionVariants=[\n",
    "            {\n",
    "                'VariantName': 'DefaultVariant',\n",
    "                'ModelName': 'pipeline-xgboost',\n",
    "                'InitialInstanceCount': 1,\n",
    "                'InstanceType': 'ml.m4.xlarge',\n",
    "            },\n",
    "        ],\n",
    "    )\n",
    "    print('{}\\n'.format(response))\n",
    "\n",
    "except ClientError:\n",
    "    print('Endpoint config already exists, continuing...')\n",
    "\n",
    "\n",
    "try:\n",
    "    response = sagemaker.create_endpoint(\n",
    "        EndpointName='pipeline-xgboost',\n",
    "        EndpointConfigName='pipeline-xgboost',\n",
    "    )\n",
    "    print('{}\\n'.format(response))\n",
    "\n",
    "except ClientError:\n",
    "    print(\"Endpoint already exists, continuing...\")\n",
    "\n",
    "\n",
    "# Monitor the status until completed\n",
    "endpoint_status = sagemaker.describe_endpoint(EndpointName='pipeline-xgboost')['EndpointStatus']\n",
    "while endpoint_status not in ('OutOfService','InService','Failed'):\n",
    "    endpoint_status = sagemaker.describe_endpoint(EndpointName='pipeline-xgboost')['EndpointStatus']\n",
    "    print(endpoint_status)\n",
    "    time.sleep(30)"
   ]
  },
  {
   "cell_type": "markdown",
   "metadata": {},
   "source": [
    "After a few minutes, Amazon SageMaker will have created an endpoint utilizing all three of the provided containers on a single instance. When the endpoint is invoked with a payload, the output of the earlier containers is passed as the input to the later containers, until the payload reaches its final output.\n",
    "\n",
    "In this example, the raw, string categories are sent to our preprocessing SparkML serving container and run through a Spark pipeline to one hot encode the features. Then the one hot encoded data is sent to our XGBoost container, where our model makes a prediction to an index. The index is then fed to our post-processing MLeap container, with a Spark model artifact, which converts the index back to its original label string, which is returned to the client. These are the exact same steps you used for pre-processing training data and it was only necessary to write the code once.\n",
    "\n",
    "## Testing the Endpoint\n",
    "\n",
    "Once the Amazon SageMaker endpoint is InService, we can test it with the code cell labeled Invoke the Endpoint. If successful, this should return one of the following values: `unacc`, `acc`, `good`, `vgood`.\n",
    "\n",
    "## Invoke the Endpoint\n",
    "\n",
    "### Invoking the newly created inference endpoint with a payload to transform the data\n",
    "Now we will invoke the endpoint with a valid payload that SageMaker SparkML Serving can recognize. There are three ways in which input payload can be passed to the request:\n",
    "\n",
    "* Pass it as a valid CSV string. In this case, the schema passed via the environment variable will be used to determine the schema. For CSV format, every column in the input has to be a basic datatype (e.g. int, double, string) and it can not be a Spark `Array` or `Vector`.\n",
    "\n",
    "* Pass it as a valid JSON string. In this case as well, the schema passed via the environment variable will be used to infer the schema. With JSON format, every column in the input can be a basic datatype or a Spark `Vector` or `Array` provided that the corresponding entry in the schema mentions the correct value.\n",
    "\n",
    "* Pass the request in JSON format along with the schema and the data. In this case, the schema passed in the payload will take precedence over the one passed via the environment variable (if any).\n",
    "\n",
    "In this case, we will pass it as a valid CSV string."
   ]
  },
  {
   "cell_type": "code",
   "execution_count": 11,
   "metadata": {},
   "outputs": [
    {
     "output_type": "stream",
     "name": "stdout",
     "text": "Our result for this payload is: vgood\n"
    }
   ],
   "source": [
    "### Invoke the Endpoint\n",
    "client = boto3.client('sagemaker-runtime')\n",
    "\n",
    "sample_payload=b'low,low,5more,more,big,high'\n",
    "\n",
    "response = client.invoke_endpoint(\n",
    "    EndpointName='pipeline-xgboost',\n",
    "    Body=sample_payload,\n",
    "    ContentType='text/csv'\n",
    ")\n",
    "\n",
    "print('Our result for this payload is: {}'.format(response['Body'].read().decode('ascii')))"
   ]
  },
  {
   "cell_type": "markdown",
   "metadata": {},
   "source": [
    "## Clean up your AWS environment\n",
    "When you are done with this experiment, make sure to delete your SageMaker endpoint to avoid incurring unexpected costs. You can do this from the AWS Console by going to Services, Amazon SageMaker, Inference, and Endpoints. Select pipeline-xgboost under Endpoints. In the upper-right, select Delete. This will remove the endpoint from your AWS account. You will also want to make sure to stop your Notebook instance.\n",
    "\n",
    "A more extensive cleanup can be done from your Notebook instance by running the code cell labeled Environment cleanup, seen below.\n",
    "\n",
    "## Environment cleanup"
   ]
  },
  {
   "cell_type": "code",
   "execution_count": null,
   "metadata": {},
   "outputs": [],
   "source": [
    "### Environment cleanup\n",
    "\n",
    "print('Deleting SageMaker endpoint...')\n",
    "result = sagemaker.delete_endpoint(\n",
    "    EndpointName='pipeline-xgboost'\n",
    ")\n",
    "print(result)\n",
    "\n",
    "print('Deleting SageMaker endpoint config...')\n",
    "result = sagemaker.delete_endpoint_config(\n",
    "    EndpointConfigName='pipeline-xgboost'\n",
    ")\n",
    "print(result)\n",
    "\n",
    "print('Deleting SageMaker model...')\n",
    "result = sagemaker.delete_model(\n",
    "    ModelName='pipeline-xgboost'\n",
    ")\n",
    "print(result)\n",
    "\n",
    "print('Deleting Glue job...')\n",
    "result = glue.delete_job(\n",
    "    JobName='preprocessing-cars'\n",
    ")\n",
    "print(result)"
   ]
  },
  {
   "cell_type": "markdown",
   "metadata": {},
   "source": [
    "## References\n",
    "\n",
    "Dua, D. and Karra Taniskidou, E. (2017). UCI Machine Learning Repository [http://archive.ics.uci.edu/ml]. Irvine, CA: University of California, School of Information and Computer Science."
   ]
  },
  {
   "cell_type": "code",
   "execution_count": null,
   "metadata": {},
   "outputs": [],
   "source": []
  }
 ],
 "metadata": {
  "kernelspec": {
   "display_name": "conda_python2",
   "language": "python",
   "name": "conda_python2"
  },
  "language_info": {
   "codemirror_mode": {
    "name": "ipython",
    "version": 2
   },
   "file_extension": ".py",
   "mimetype": "text/x-python",
   "name": "python",
   "nbconvert_exporter": "python",
   "pygments_lexer": "ipython2",
   "version": "3.6.5-final"
  }
 },
 "nbformat": 4,
 "nbformat_minor": 2
}