{
 "cells": [
  {
   "cell_type": "markdown",
   "metadata": {},
   "source": [
    "# End-to-End Incremental Training Image Classification Example\n",
    "1. [Introduction](#Introduction)\n",
    "2. [Prerequisites and Preprocessing](#Prequisites-and-Preprocessing)\n",
    "  1. [Permissions and environment variables](#Permissions-and-environment-variables)\n",
    "  2. [Prepare the data](#Prepare-the-data)\n",
    "3. [Training the model](#Training-the-model)\n",
    "  1. [Training parameters](#Training-parameters)\n",
    "  2. [Start the training](#Start-the-training)\n",
    "4. [Inference](#Inference)"
   ]
  },
  {
   "cell_type": "markdown",
   "metadata": {},
   "source": [
    "## Introduction\n",
    "\n",
    "Welcome to our end-to-end example of incremental training using Amazon Sagemaker image classification algorithm. In this demo, we will use the Amazon sagemaker image classification algorithm to train on the [caltech-256 dataset](http://www.vision.caltech.edu/Image_Datasets/Caltech256/). First, we will run the training for few epochs. Then, we will use the generated model in the previous training to start another training to improve accuracy further without re-training again. \n",
    "\n",
    "To get started, we need to set up the environment with a few prerequisite steps, for permissions, configurations, and so on."
   ]
  },
  {
   "cell_type": "markdown",
   "metadata": {},
   "source": [
    "## Prequisites and Preprocessing\n",
    "\n",
    "### Permissions and environment variables\n",
    "\n",
    "Here we set up the linkage and authentication to AWS services. There are three parts to this:\n",
    "\n",
    "* The roles used to give learning and hosting access to your data. This will automatically be obtained from the role used to start the notebook\n",
    "* The S3 bucket that you want to use for training and model data\n",
    "* The Amazon sagemaker image classification docker image which need not be changed"
   ]
  },
  {
   "cell_type": "code",
   "execution_count": 1,
   "metadata": {},
   "outputs": [
    {
     "output_type": "stream",
     "name": "stdout",
     "text": "arn:aws:iam::558157414092:role/service-role/AmazonSageMaker-ExecutionRole-20200523T082014\nCPU times: user 963 ms, sys: 556 ms, total: 1.52 s\nWall time: 794 ms\n"
    }
   ],
   "source": [
    "%%time\n",
    "import sagemaker\n",
    "from sagemaker import get_execution_role\n",
    "\n",
    "# role = get_execution_role()\n",
    "role = 'arn:aws:iam::558157414092:role/service-role/AmazonSageMaker-ExecutionRole-20200523T082014'\n",
    "print(role)\n",
    "\n",
    "sess = sagemaker.Session()\n",
    "# bucket=sess.default_bucket()\n",
    "bucket = 'md-backup-bucket-01'\n",
    "prefix = 'ic-fulltraining'"
   ]
  },
  {
   "cell_type": "code",
   "execution_count": 2,
   "metadata": {},
   "outputs": [],
   "source": [
    "from sagemaker.amazon.amazon_estimator import get_image_uri\n",
    "\n",
    "training_image = get_image_uri(sess.boto_region_name, 'image-classification', repo_version=\"latest\")"
   ]
  },
  {
   "cell_type": "markdown",
   "metadata": {},
   "source": [
    "### Data preparation\n",
    "Download the data and transfer to S3 for use in training. In this demo, we are using [Caltech-256](http://www.vision.caltech.edu/Image_Datasets/Caltech256/) dataset, which contains 30608 images of 256 objects. For the training and validation data, we follow the splitting scheme in this MXNet [example](https://github.com/apache/incubator-mxnet/blob/master/example/image-classification/data/caltech256.sh). In particular, it randomly selects 60 images per class for training, and uses the remaining data for validation. The algorithm takes `RecordIO` file as input. The user can also provide the image files as input, which will be converted into `RecordIO` format using MXNet's [im2rec](https://mxnet.incubator.apache.org/how_to/recordio.html?highlight=im2rec) tool. It takes around 50 seconds to converted the entire Caltech-256 dataset (~1.2GB) on a p2.xlarge instance. However, for this demo, we will use record io format. "
   ]
  },
  {
   "cell_type": "code",
   "execution_count": 3,
   "metadata": {},
   "outputs": [],
   "source": [
    "import os \n",
    "import urllib.request\n",
    "import boto3\n",
    "\n",
    "def download(url):\n",
    "    filename = url.split(\"/\")[-1]\n",
    "    if not os.path.exists(filename):\n",
    "        urllib.request.urlretrieve(url, filename)\n",
    "\n",
    "        \n",
    "def upload_to_s3(channel, file):\n",
    "    s3 = boto3.resource('s3')\n",
    "    data = open(file, \"rb\")\n",
    "    key = channel + '/' + file\n",
    "    s3.Bucket(bucket).put_object(Key=key, Body=data)\n",
    "\n",
    "# caltech-256\n",
    "download('http://data.mxnet.io/data/caltech-256/caltech-256-60-train.rec')\n",
    "download('http://data.mxnet.io/data/caltech-256/caltech-256-60-val.rec')"
   ]
  },
  {
   "cell_type": "code",
   "execution_count": 4,
   "metadata": {},
   "outputs": [],
   "source": [
    "# Two channels: train, validation\n",
    "s3train = 's3://{}/{}/train/'.format(bucket, prefix)\n",
    "s3validation = 's3://{}/{}/validation/'.format(bucket, prefix)"
   ]
  },
  {
   "cell_type": "code",
   "execution_count": 5,
   "metadata": {},
   "outputs": [],
   "source": [
    "# upload the rec files to train and validation channels\n",
    "!aws s3 cp caltech-256-60-train.rec $s3train --quiet\n",
    "!aws s3 cp caltech-256-60-val.rec $s3validation --quiet"
   ]
  },
  {
   "cell_type": "markdown",
   "metadata": {},
   "source": [
    "\n",
    "\n",
    "Once we have the data available in the correct format for training, the next step is to actually train the model using the data. After setting training parameters, we kick off training, and poll for status until training is completed.\n"
   ]
  },
  {
   "cell_type": "markdown",
   "metadata": {},
   "source": [
    "## Training the model\n",
    "\n",
    "Now that we are done with all the setup that is needed, we are ready to train our object detector. To begin, let us create a ``sageMaker.estimator.Estimator`` object. This estimator will launch the training job.\n",
    "### Training parameters\n",
    "There are two kinds of parameters that need to be set for training. The first one are the parameters for the training job. These include:\n",
    "\n",
    "* **Training instance count**: This is the number of instances on which to run the training. When the number of instances is greater than one, then the image classification algorithm will run in distributed settings. \n",
    "* **Training instance type**: This indicates the type of machine on which to run the training. Typically, we use GPU instances for these training \n",
    "* **Output path**: This the s3 folder in which the training output is stored\n"
   ]
  },
  {
   "cell_type": "code",
   "execution_count": 6,
   "metadata": {},
   "outputs": [],
   "source": [
    "s3_output_location = 's3://{}/{}/output'.format(bucket, prefix)\n",
    "ic = sagemaker.estimator.Estimator(training_image,\n",
    "                                         role, \n",
    "                                         train_instance_count=1, \n",
    "                                         train_instance_type='ml.p2.xlarge',\n",
    "                                         train_volume_size = 50,\n",
    "                                         train_max_run = 360000,\n",
    "                                         input_mode= 'File',\n",
    "                                         output_path=s3_output_location,\n",
    "                                         sagemaker_session=sess)"
   ]
  },
  {
   "cell_type": "markdown",
   "metadata": {},
   "source": [
    "Apart from the above set of parameters, there are hyperparameters that are specific to the algorithm. These are:\n",
    "\n",
    "* **num_layers**: The number of layers (depth) for the network. We use 18 in this samples but other values such as 50, 152 can be used.\n",
    "* **image_shape**: The input image dimensions,'num_channels, height, width', for the network. It should be no larger than the actual image size. The number of channels should be same as the actual image.\n",
    "* **num_classes**: This is the number of output classes for the new dataset. Imagenet was trained with 1000 output classes but the number of output classes can be changed for fine-tuning. For caltech, we use 257 because it has 256 object categories + 1 clutter class.\n",
    "* **num_training_samples**: This is the total number of training samples. It is set to 15240 for caltech dataset with the current split.\n",
    "* **mini_batch_size**: The number of training samples used for each mini batch. In distributed training, the number of training samples used per batch will be N * mini_batch_size where N is the number of hosts on which training is run.\n",
    "* **epochs**: Number of training epochs.\n",
    "* **learning_rate**: Learning rate for training.\n",
    "* **top_k**: Report the top-k accuracy during training.\n"
   ]
  },
  {
   "cell_type": "code",
   "execution_count": 7,
   "metadata": {},
   "outputs": [],
   "source": [
    "ic.set_hyperparameters(num_layers=18, \n",
    "                             image_shape = \"3,224,224\",\n",
    "                             num_classes=257,\n",
    "                             num_training_samples=15420,\n",
    "                             mini_batch_size=256,\n",
    "                             epochs=10,\n",
    "                             learning_rate=0.1,\n",
    "                             top_k=2)"
   ]
  },
  {
   "cell_type": "markdown",
   "metadata": {},
   "source": [
    "## Input data specification\n",
    "Set the data type and channels used for training"
   ]
  },
  {
   "cell_type": "code",
   "execution_count": 8,
   "metadata": {},
   "outputs": [],
   "source": [
    "train_data = sagemaker.session.s3_input(s3train, distribution='FullyReplicated', \n",
    "                            content_type='application/x-recordio', s3_data_type='S3Prefix')\n",
    "validation_data = sagemaker.session.s3_input(s3validation, distribution='FullyReplicated', \n",
    "                            content_type='application/x-recordio', s3_data_type='S3Prefix')\n",
    "\n",
    "data_channels = {'train': train_data, 'validation': validation_data}"
   ]
  },
  {
   "cell_type": "markdown",
   "metadata": {},
   "source": [
    "## Start the training\n",
    "Start training by calling the fit method in the estimator"
   ]
  },
  {
   "cell_type": "code",
   "execution_count": 9,
   "metadata": {
    "scrolled": true
   },
   "outputs": [
    {
     "output_type": "stream",
     "name": "stdout",
     "text": "2020-05-28 13:49:36 Starting - Starting the training job...\n2020-05-28 13:49:37 Starting - Launching requested ML instances......\n2020-05-28 13:50:47 Starting - Preparing the instances for training.........\n2020-05-28 13:52:18 Downloading - Downloading input data...\n2020-05-28 13:52:51 Training - Downloading the training image...\n2020-05-28 13:53:32 Training - Training image download completed. Training in progress.\u001b[34mDocker entrypoint called with argument(s): train\u001b[0m\n\u001b[34m[05/28/2020 13:53:35 INFO 139806158784320] Reading default configuration from /opt/amazon/lib/python2.7/site-packages/image_classification/default-input.json: {u'beta_1': 0.9, u'gamma': 0.9, u'beta_2': 0.999, u'optimizer': u'sgd', u'use_pretrained_model': 0, u'eps': 1e-08, u'epochs': 30, u'lr_scheduler_factor': 0.1, u'num_layers': 152, u'image_shape': u'3,224,224', u'precision_dtype': u'float32', u'mini_batch_size': 32, u'weight_decay': 0.0001, u'learning_rate': 0.1, u'momentum': 0}\u001b[0m\n\u001b[34m[05/28/2020 13:53:35 INFO 139806158784320] Merging with provided configuration from /opt/ml/input/config/hyperparameters.json: {u'top_k': u'2', u'image_shape': u'3,224,224', u'epochs': u'10', u'num_training_samples': u'15420', u'num_layers': u'18', u'mini_batch_size': u'256', u'learning_rate': u'0.1', u'num_classes': u'257'}\u001b[0m\n\u001b[34m[05/28/2020 13:53:35 INFO 139806158784320] Final configuration: {u'top_k': u'2', u'optimizer': u'sgd', u'learning_rate': u'0.1', u'epochs': u'10', u'lr_scheduler_factor': 0.1, u'num_layers': u'18', u'precision_dtype': u'float32', u'mini_batch_size': u'256', u'num_classes': u'257', u'beta_1': 0.9, u'beta_2': 0.999, u'use_pretrained_model': 0, u'eps': 1e-08, u'weight_decay': 0.0001, u'momentum': 0, u'image_shape': u'3,224,224', u'gamma': 0.9, u'num_training_samples': u'15420'}\u001b[0m\n\u001b[34m[05/28/2020 13:53:36 INFO 139806158784320] Searching for .rec files in /opt/ml/input/data/train.\u001b[0m\n\u001b[34m[05/28/2020 13:53:36 INFO 139806158784320] Searching for .rec files in /opt/ml/input/data/validation.\u001b[0m\n\u001b[34m[05/28/2020 13:53:36 INFO 139806158784320] use_pretrained_model: 0\u001b[0m\n\u001b[34m[05/28/2020 13:53:36 INFO 139806158784320] multi_label: 0\u001b[0m\n\u001b[34m[05/28/2020 13:53:36 INFO 139806158784320] Performing random weight initialization\u001b[0m\n\u001b[34m[05/28/2020 13:53:36 INFO 139806158784320] ---- Parameters ----\u001b[0m\n\u001b[34m[05/28/2020 13:53:36 INFO 139806158784320] num_layers: 18\u001b[0m\n\u001b[34m[05/28/2020 13:53:36 INFO 139806158784320] data type: <type 'numpy.float32'>\u001b[0m\n\u001b[34m[05/28/2020 13:53:36 INFO 139806158784320] epochs: 10\u001b[0m\n\u001b[34m[05/28/2020 13:53:36 INFO 139806158784320] optimizer: sgd\u001b[0m\n\u001b[34m[05/28/2020 13:53:36 INFO 139806158784320] momentum: 0.9\u001b[0m\n\u001b[34m[05/28/2020 13:53:36 INFO 139806158784320] weight_decay: 0.0001\u001b[0m\n\u001b[34m[05/28/2020 13:53:36 INFO 139806158784320] learning_rate: 0.1\u001b[0m\n\u001b[34m[05/28/2020 13:53:36 INFO 139806158784320] num_training_samples: 15420\u001b[0m\n\u001b[34m[05/28/2020 13:53:36 INFO 139806158784320] mini_batch_size: 256\u001b[0m\n\u001b[34m[05/28/2020 13:53:36 INFO 139806158784320] image_shape: 3,224,224\u001b[0m\n\u001b[34m[05/28/2020 13:53:36 INFO 139806158784320] num_classes: 257\u001b[0m\n\u001b[34m[05/28/2020 13:53:36 INFO 139806158784320] augmentation_type: None\u001b[0m\n\u001b[34m[05/28/2020 13:53:36 INFO 139806158784320] kv_store: device\u001b[0m\n\u001b[34m[05/28/2020 13:53:36 INFO 139806158784320] top_k: 2\u001b[0m\n\u001b[34m[05/28/2020 13:53:36 INFO 139806158784320] checkpoint_frequency not set, will store the best model\u001b[0m\n\u001b[34m[05/28/2020 13:53:36 INFO 139806158784320] --------------------\u001b[0m\n\u001b[34m[05/28/2020 13:53:36 INFO 139806158784320] Setting number of threads: 3\u001b[0m\n\u001b[34m[13:53:44] /opt/brazil-pkg-cache/packages/AIAlgorithmsMXNet/AIAlgorithmsMXNet-1.3.x_ecl_Cuda_10.1.x.2633.0/AL2012/generic-flavor/src/src/operator/nn/./cudnn/./cudnn_algoreg-inl.h:97: Running performance tests to find the best convolution algorithm, this can take a while... (setting env variable MXNET_CUDNN_AUTOTUNE_DEFAULT to 0 to disable)\u001b[0m\n\u001b[34m[05/28/2020 13:54:36 INFO 139806158784320] Epoch[0] Batch [20]#011Speed: 97.823 samples/sec#011accuracy=0.013579#011top_k_accuracy_2=0.022507\u001b[0m\n\u001b[34m[05/28/2020 13:55:16 INFO 139806158784320] Epoch[0] Batch [40]#011Speed: 110.317 samples/sec#011accuracy=0.022485#011top_k_accuracy_2=0.037824\u001b[0m\n\u001b[34m[05/28/2020 13:55:55 INFO 139806158784320] Epoch[0] Train-accuracy=0.030729\u001b[0m\n\u001b[34m[05/28/2020 13:55:55 INFO 139806158784320] Epoch[0] Train-top_k_accuracy_2=0.051432\u001b[0m\n\u001b[34m[05/28/2020 13:55:55 INFO 139806158784320] Epoch[0] Time cost=131.597\u001b[0m\n\u001b[34m[05/28/2020 13:56:33 INFO 139806158784320] Epoch[0] Validation-accuracy=0.054167\u001b[0m\n\u001b[34m[05/28/2020 13:56:33 INFO 139806158784320] Storing the best model with validation accuracy: 0.054167\u001b[0m\n\u001b[34m[05/28/2020 13:56:33 INFO 139806158784320] Saved checkpoint to \"/opt/ml/model/image-classification-0001.params\"\u001b[0m\n\u001b[34m[05/28/2020 13:57:15 INFO 139806158784320] Epoch[1] Batch [20]#011Speed: 121.763 samples/sec#011accuracy=0.061756#011top_k_accuracy_2=0.099144\u001b[0m\n\u001b[34m[05/28/2020 13:57:56 INFO 139806158784320] Epoch[1] Batch [40]#011Speed: 123.516 samples/sec#011accuracy=0.069074#011top_k_accuracy_2=0.108041\u001b[0m\n\u001b[34m[05/28/2020 13:58:35 INFO 139806158784320] Epoch[1] Train-accuracy=0.080534\u001b[0m\n\u001b[34m[05/28/2020 13:58:35 INFO 139806158784320] Epoch[1] Train-top_k_accuracy_2=0.120378\u001b[0m\n\u001b[34m[05/28/2020 13:58:35 INFO 139806158784320] Epoch[1] Time cost=121.752\u001b[0m\n\u001b[34m[05/28/2020 13:59:12 INFO 139806158784320] Epoch[1] Validation-accuracy=0.141883\u001b[0m\n\u001b[34m[05/28/2020 13:59:12 INFO 139806158784320] Storing the best model with validation accuracy: 0.141883\u001b[0m\n\u001b[34m[05/28/2020 13:59:12 INFO 139806158784320] Saved checkpoint to \"/opt/ml/model/image-classification-0002.params\"\u001b[0m\n\u001b[34m[05/28/2020 13:59:55 INFO 139806158784320] Epoch[2] Batch [20]#011Speed: 121.354 samples/sec#011accuracy=0.108445#011top_k_accuracy_2=0.162202\u001b[0m\n\u001b[34m[05/28/2020 14:00:35 INFO 139806158784320] Epoch[2] Batch [40]#011Speed: 123.236 samples/sec#011accuracy=0.116806#011top_k_accuracy_2=0.175972\u001b[0m\n\u001b[34m[05/28/2020 14:01:14 INFO 139806158784320] Epoch[2] Train-accuracy=0.125391\u001b[0m\n\u001b[34m[05/28/2020 14:01:14 INFO 139806158784320] Epoch[2] Train-top_k_accuracy_2=0.186263\u001b[0m\n\u001b[34m[05/28/2020 14:01:14 INFO 139806158784320] Epoch[2] Time cost=121.927\u001b[0m\n\u001b[34m[05/28/2020 14:01:51 INFO 139806158784320] Epoch[2] Validation-accuracy=0.172074\u001b[0m\n\u001b[34m[05/28/2020 14:01:52 INFO 139806158784320] Storing the best model with validation accuracy: 0.172074\u001b[0m\n\u001b[34m[05/28/2020 14:01:52 INFO 139806158784320] Saved checkpoint to \"/opt/ml/model/image-classification-0003.params\"\u001b[0m\n\u001b[34m[05/28/2020 14:02:33 INFO 139806158784320] Epoch[3] Batch [20]#011Speed: 123.233 samples/sec#011accuracy=0.161458#011top_k_accuracy_2=0.226935\u001b[0m\n\u001b[34m[05/28/2020 14:03:14 INFO 139806158784320] Epoch[3] Batch [40]#011Speed: 124.275 samples/sec#011accuracy=0.165396#011top_k_accuracy_2=0.239615\u001b[0m\n\u001b[34m[05/28/2020 14:03:53 INFO 139806158784320] Epoch[3] Train-accuracy=0.172070\u001b[0m\n\u001b[34m[05/28/2020 14:03:53 INFO 139806158784320] Epoch[3] Train-top_k_accuracy_2=0.247070\u001b[0m\n\u001b[34m[05/28/2020 14:03:53 INFO 139806158784320] Epoch[3] Time cost=121.248\u001b[0m\n\u001b[34m[05/28/2020 14:04:31 INFO 139806158784320] Epoch[3] Validation-accuracy=0.190169\u001b[0m\n\u001b[34m[05/28/2020 14:04:31 INFO 139806158784320] Storing the best model with validation accuracy: 0.190169\u001b[0m\n\u001b[34m[05/28/2020 14:04:31 INFO 139806158784320] Saved checkpoint to \"/opt/ml/model/image-classification-0004.params\"\u001b[0m\n\u001b[34m[05/28/2020 14:05:13 INFO 139806158784320] Epoch[4] Batch [20]#011Speed: 123.217 samples/sec#011accuracy=0.204985#011top_k_accuracy_2=0.289249\u001b[0m\n\u001b[34m[05/28/2020 14:05:54 INFO 139806158784320] Epoch[4] Batch [40]#011Speed: 124.162 samples/sec#011accuracy=0.213510#011top_k_accuracy_2=0.299733\u001b[0m\n\u001b[34m[05/28/2020 14:06:32 INFO 139806158784320] Epoch[4] Train-accuracy=0.219401\u001b[0m\n\u001b[34m[05/28/2020 14:06:32 INFO 139806158784320] Epoch[4] Train-top_k_accuracy_2=0.305729\u001b[0m\n\u001b[34m[05/28/2020 14:06:32 INFO 139806158784320] Epoch[4] Time cost=121.321\u001b[0m\n\u001b[34m[05/28/2020 14:07:10 INFO 139806158784320] Epoch[4] Validation-accuracy=0.205310\u001b[0m\n\u001b[34m[05/28/2020 14:07:10 INFO 139806158784320] Storing the best model with validation accuracy: 0.205310\u001b[0m\n\u001b[34m[05/28/2020 14:07:10 INFO 139806158784320] Saved checkpoint to \"/opt/ml/model/image-classification-0005.params\"\u001b[0m\n\u001b[34m[05/28/2020 14:07:52 INFO 139806158784320] Epoch[5] Batch [20]#011Speed: 121.431 samples/sec#011accuracy=0.246280#011top_k_accuracy_2=0.334449\u001b[0m\n\u001b[34m[05/28/2020 14:08:33 INFO 139806158784320] Epoch[5] Batch [40]#011Speed: 123.253 samples/sec#011accuracy=0.258670#011top_k_accuracy_2=0.352611\u001b[0m\n\u001b[34m[05/28/2020 14:09:12 INFO 139806158784320] Epoch[5] Train-accuracy=0.266211\u001b[0m\n\u001b[34m[05/28/2020 14:09:12 INFO 139806158784320] Epoch[5] Train-top_k_accuracy_2=0.363867\u001b[0m\n\u001b[34m[05/28/2020 14:09:12 INFO 139806158784320] Epoch[5] Time cost=121.950\u001b[0m\n\u001b[34m[05/28/2020 14:09:49 INFO 139806158784320] Epoch[5] Validation-accuracy=0.225503\u001b[0m\n\u001b[34m[05/28/2020 14:09:49 INFO 139806158784320] Storing the best model with validation accuracy: 0.225503\u001b[0m\n\u001b[34m[05/28/2020 14:09:49 INFO 139806158784320] Saved checkpoint to \"/opt/ml/model/image-classification-0006.params\"\u001b[0m\n\u001b[34m[05/28/2020 14:10:31 INFO 139806158784320] Epoch[6] Batch [20]#011Speed: 121.562 samples/sec#011accuracy=0.302827#011top_k_accuracy_2=0.402716\u001b[0m\n\u001b[34m[05/28/2020 14:11:12 INFO 139806158784320] Epoch[6] Batch [40]#011Speed: 123.301 samples/sec#011accuracy=0.311643#011top_k_accuracy_2=0.419017\u001b[0m\n\u001b[34m[05/28/2020 14:11:51 INFO 139806158784320] Epoch[6] Train-accuracy=0.321224\u001b[0m\n\u001b[34m[05/28/2020 14:11:51 INFO 139806158784320] Epoch[6] Train-top_k_accuracy_2=0.430078\u001b[0m\n\u001b[34m[05/28/2020 14:11:51 INFO 139806158784320] Epoch[6] Time cost=121.923\u001b[0m\n\u001b[34m[05/28/2020 14:12:29 INFO 139806158784320] Epoch[6] Validation-accuracy=0.213867\u001b[0m\n\u001b[34m[05/28/2020 14:13:11 INFO 139806158784320] Epoch[7] Batch [20]#011Speed: 123.059 samples/sec#011accuracy=0.355469#011top_k_accuracy_2=0.469122\u001b[0m\n\u001b[34m[05/28/2020 14:13:52 INFO 139806158784320] Epoch[7] Batch [40]#011Speed: 124.039 samples/sec#011accuracy=0.364901#011top_k_accuracy_2=0.478468\u001b[0m\n\u001b[34m[05/28/2020 14:14:31 INFO 139806158784320] Epoch[7] Train-accuracy=0.371029\u001b[0m\n\u001b[34m[05/28/2020 14:14:31 INFO 139806158784320] Epoch[7] Train-top_k_accuracy_2=0.485612\u001b[0m\n\u001b[34m[05/28/2020 14:14:31 INFO 139806158784320] Epoch[7] Time cost=121.427\u001b[0m\n\u001b[34m[05/28/2020 14:15:08 INFO 139806158784320] Epoch[7] Validation-accuracy=0.237156\u001b[0m\n\u001b[34m[05/28/2020 14:15:08 INFO 139806158784320] Storing the best model with validation accuracy: 0.237156\u001b[0m\n\u001b[34m[05/28/2020 14:15:08 INFO 139806158784320] Saved checkpoint to \"/opt/ml/model/image-classification-0008.params\"\u001b[0m\n\u001b[34m[05/28/2020 14:15:50 INFO 139806158784320] Epoch[8] Batch [20]#011Speed: 123.052 samples/sec#011accuracy=0.394159#011top_k_accuracy_2=0.511719\u001b[0m\n\u001b[34m[05/28/2020 14:16:31 INFO 139806158784320] Epoch[8] Batch [40]#011Speed: 124.003 samples/sec#011accuracy=0.409299#011top_k_accuracy_2=0.525343\u001b[0m\n\u001b[34m[05/28/2020 14:17:10 INFO 139806158784320] Epoch[8] Train-accuracy=0.418555\u001b[0m\n\u001b[34m[05/28/2020 14:17:10 INFO 139806158784320] Epoch[8] Train-top_k_accuracy_2=0.534245\u001b[0m\n\u001b[34m[05/28/2020 14:17:10 INFO 139806158784320] Epoch[8] Time cost=121.461\u001b[0m\n\u001b[34m[05/28/2020 14:17:47 INFO 139806158784320] Epoch[8] Validation-accuracy=0.239936\u001b[0m\n\u001b[34m[05/28/2020 14:17:47 INFO 139806158784320] Storing the best model with validation accuracy: 0.239936\u001b[0m\n\u001b[34m[05/28/2020 14:17:47 INFO 139806158784320] Saved checkpoint to \"/opt/ml/model/image-classification-0009.params\"\u001b[0m\n\u001b[34m[05/28/2020 14:18:29 INFO 139806158784320] Epoch[9] Batch [20]#011Speed: 121.583 samples/sec#011accuracy=0.429874#011top_k_accuracy_2=0.552641\u001b[0m\n\u001b[34m[05/28/2020 14:19:10 INFO 139806158784320] Epoch[9] Batch [40]#011Speed: 123.279 samples/sec#011accuracy=0.454268#011top_k_accuracy_2=0.573838\u001b[0m\n\u001b[34m[05/28/2020 14:19:49 INFO 139806158784320] Epoch[9] Train-accuracy=0.461784\u001b[0m\n\u001b[34m[05/28/2020 14:19:49 INFO 139806158784320] Epoch[9] Train-top_k_accuracy_2=0.581641\u001b[0m\n\u001b[34m[05/28/2020 14:19:49 INFO 139806158784320] Epoch[9] Time cost=121.981\u001b[0m\n\n2020-05-28 14:20:34 Uploading - Uploading generated training model\u001b[34m[05/28/2020 14:20:27 INFO 139806158784320] Epoch[9] Validation-accuracy=0.212500\u001b[0m\n\n2020-05-28 14:20:45 Completed - Training job completed\nTraining seconds: 1707\nBillable seconds: 1707\n"
    }
   ],
   "source": [
    "ic.fit(inputs=data_channels, logs=True)"
   ]
  },
  {
   "cell_type": "markdown",
   "metadata": {},
   "source": [
    "## Prepare for incremental training\n",
    "Now, we will use the model generated in the previous training to start another training with the same dataset. This new training will start with higher accuracy as it uses the model generated in the previous training. "
   ]
  },
  {
   "cell_type": "code",
   "execution_count": 10,
   "metadata": {},
   "outputs": [
    {
     "output_type": "stream",
     "name": "stdout",
     "text": "s3://md-backup-bucket-01/ic-fulltraining/output/image-classification-2020-05-28-13-49-34-448/output/model.tar.gz\n"
    }
   ],
   "source": [
    "# Print the location of the model data from previous training\n",
    "print(ic.model_data)\n",
    "\n",
    "# Prepare model channel in addition to train and validation\n",
    "model_data = sagemaker.session.s3_input(ic.model_data, distribution='FullyReplicated', \n",
    "                              s3_data_type='S3Prefix', content_type='application/x-sagemaker-model')\n",
    "\n",
    "data_channels = {'train': train_data, 'validation': validation_data, 'model': model_data}"
   ]
  },
  {
   "cell_type": "markdown",
   "metadata": {},
   "source": [
    "## Start another training\n",
    "We use the same hyperparameters as before. When the model channel is present, the use_pretrained_model parameter is ignored. The number of classes, input image shape and number of layers should be the same as the previous training since we are starting with the same model. Other parameters, such as learning_rate, mini_batch_size, etc., can be varied. "
   ]
  },
  {
   "cell_type": "code",
   "execution_count": null,
   "metadata": {},
   "outputs": [],
   "source": [
    "incr_ic = sagemaker.estimator.Estimator(training_image,\n",
    "                                         role, \n",
    "                                         train_instance_count=1, \n",
    "                                         train_instance_type='ml.p2.xlarge',\n",
    "                                         train_volume_size = 50,\n",
    "                                         train_max_run = 360000,\n",
    "                                         input_mode= 'File',\n",
    "                                         output_path=s3_output_location,\n",
    "                                         sagemaker_session=sess)\n",
    "incr_ic.set_hyperparameters(num_layers=18,\n",
    "                             image_shape = \"3,224,224\",\n",
    "                             num_classes=257,\n",
    "                             num_training_samples=15420,\n",
    "                             mini_batch_size=128,\n",
    "                             epochs=2,\n",
    "                             learning_rate=0.01,\n",
    "                             top_k=2)\n",
    "\n",
    "incr_ic.fit(inputs=data_channels, logs=True)"
   ]
  },
  {
   "cell_type": "markdown",
   "metadata": {},
   "source": [
    "As you can see from the logs, the training starts with the previous model and hence the accuracy for the first epoch itself is higher. "
   ]
  },
  {
   "cell_type": "markdown",
   "metadata": {},
   "source": [
    "# Inference\n",
    "\n",
    "***\n",
    "\n",
    "We can now use the trained model to perform inference. For this example, that means predicting the topic mixture representing a given document. You can deploy the created model by using the deploy method in the estimator"
   ]
  },
  {
   "cell_type": "code",
   "execution_count": null,
   "metadata": {},
   "outputs": [],
   "source": [
    "ic_classifier = incr_ic.deploy(initial_instance_count = 1,\n",
    "                                          instance_type = 'ml.m4.xlarge')"
   ]
  },
  {
   "cell_type": "markdown",
   "metadata": {},
   "source": [
    "### Download test image"
   ]
  },
  {
   "cell_type": "code",
   "execution_count": null,
   "metadata": {},
   "outputs": [],
   "source": [
    "!wget -O /tmp/test.jpg http://www.vision.caltech.edu/Image_Datasets/Caltech256/images/001.ak47/001_0007.jpg\n",
    "file_name = '/tmp/test.jpg'\n",
    "# test image\n",
    "from IPython.display import Image\n",
    "Image(file_name)  "
   ]
  },
  {
   "cell_type": "markdown",
   "metadata": {},
   "source": [
    "### Evaluation\n",
    "\n",
    "Evaluate the image through the network for inteference. The network outputs class probabilities and typically, one selects the class with the maximum probability as the final class output."
   ]
  },
  {
   "cell_type": "code",
   "execution_count": null,
   "metadata": {},
   "outputs": [],
   "source": [
    "import json\n",
    "import numpy as np\n",
    "\n",
    "with open(file_name, 'rb') as f:\n",
    "    payload = f.read()\n",
    "    payload = bytearray(payload)\n",
    "    \n",
    "ic_classifier.content_type = 'application/x-image'\n",
    "result = json.loads(ic_classifier.predict(payload))\n",
    "# the result will output the probabilities for all classes\n",
    "# find the class with maximum probability and print the class index\n",
    "index = np.argmax(result)\n",
    "object_categories = ['ak47', 'american-flag', 'backpack', 'baseball-bat', 'baseball-glove', 'basketball-hoop', 'bat', 'bathtub', 'bear', 'beer-mug', 'billiards', 'binoculars', 'birdbath', 'blimp', 'bonsai-101', 'boom-box', 'bowling-ball', 'bowling-pin', 'boxing-glove', 'brain-101', 'breadmaker', 'buddha-101', 'bulldozer', 'butterfly', 'cactus', 'cake', 'calculator', 'camel', 'cannon', 'canoe', 'car-tire', 'cartman', 'cd', 'centipede', 'cereal-box', 'chandelier-101', 'chess-board', 'chimp', 'chopsticks', 'cockroach', 'coffee-mug', 'coffin', 'coin', 'comet', 'computer-keyboard', 'computer-monitor', 'computer-mouse', 'conch', 'cormorant', 'covered-wagon', 'cowboy-hat', 'crab-101', 'desk-globe', 'diamond-ring', 'dice', 'dog', 'dolphin-101', 'doorknob', 'drinking-straw', 'duck', 'dumb-bell', 'eiffel-tower', 'electric-guitar-101', 'elephant-101', 'elk', 'ewer-101', 'eyeglasses', 'fern', 'fighter-jet', 'fire-extinguisher', 'fire-hydrant', 'fire-truck', 'fireworks', 'flashlight', 'floppy-disk', 'football-helmet', 'french-horn', 'fried-egg', 'frisbee', 'frog', 'frying-pan', 'galaxy', 'gas-pump', 'giraffe', 'goat', 'golden-gate-bridge', 'goldfish', 'golf-ball', 'goose', 'gorilla', 'grand-piano-101', 'grapes', 'grasshopper', 'guitar-pick', 'hamburger', 'hammock', 'harmonica', 'harp', 'harpsichord', 'hawksbill-101', 'head-phones', 'helicopter-101', 'hibiscus', 'homer-simpson', 'horse', 'horseshoe-crab', 'hot-air-balloon', 'hot-dog', 'hot-tub', 'hourglass', 'house-fly', 'human-skeleton', 'hummingbird', 'ibis-101', 'ice-cream-cone', 'iguana', 'ipod', 'iris', 'jesus-christ', 'joy-stick', 'kangaroo-101', 'kayak', 'ketch-101', 'killer-whale', 'knife', 'ladder', 'laptop-101', 'lathe', 'leopards-101', 'license-plate', 'lightbulb', 'light-house', 'lightning', 'llama-101', 'mailbox', 'mandolin', 'mars', 'mattress', 'megaphone', 'menorah-101', 'microscope', 'microwave', 'minaret', 'minotaur', 'motorbikes-101', 'mountain-bike', 'mushroom', 'mussels', 'necktie', 'octopus', 'ostrich', 'owl', 'palm-pilot', 'palm-tree', 'paperclip', 'paper-shredder', 'pci-card', 'penguin', 'people', 'pez-dispenser', 'photocopier', 'picnic-table', 'playing-card', 'porcupine', 'pram', 'praying-mantis', 'pyramid', 'raccoon', 'radio-telescope', 'rainbow', 'refrigerator', 'revolver-101', 'rifle', 'rotary-phone', 'roulette-wheel', 'saddle', 'saturn', 'school-bus', 'scorpion-101', 'screwdriver', 'segway', 'self-propelled-lawn-mower', 'sextant', 'sheet-music', 'skateboard', 'skunk', 'skyscraper', 'smokestack', 'snail', 'snake', 'sneaker', 'snowmobile', 'soccer-ball', 'socks', 'soda-can', 'spaghetti', 'speed-boat', 'spider', 'spoon', 'stained-glass', 'starfish-101', 'steering-wheel', 'stirrups', 'sunflower-101', 'superman', 'sushi', 'swan', 'swiss-army-knife', 'sword', 'syringe', 'tambourine', 'teapot', 'teddy-bear', 'teepee', 'telephone-box', 'tennis-ball', 'tennis-court', 'tennis-racket', 'theodolite', 'toaster', 'tomato', 'tombstone', 'top-hat', 'touring-bike', 'tower-pisa', 'traffic-light', 'treadmill', 'triceratops', 'tricycle', 'trilobite-101', 'tripod', 't-shirt', 'tuning-fork', 'tweezer', 'umbrella-101', 'unicorn', 'vcr', 'video-projector', 'washing-machine', 'watch-101', 'waterfall', 'watermelon', 'welding-mask', 'wheelbarrow', 'windmill', 'wine-bottle', 'xylophone', 'yarmulke', 'yo-yo', 'zebra', 'airplanes-101', 'car-side-101', 'faces-easy-101', 'greyhound', 'tennis-shoes', 'toad', 'clutter']\n",
    "print(\"Result: label - \" + object_categories[index] + \", probability - \" + str(result[index]))"
   ]
  },
  {
   "cell_type": "markdown",
   "metadata": {},
   "source": [
    "### Clean up\n",
    "\n",
    "\n",
    "When we're done with the endpoint, we can just delete it and the backing instances will be released. Uncomment and run the following cell to delete the endpoint and model"
   ]
  },
  {
   "cell_type": "code",
   "execution_count": null,
   "metadata": {},
   "outputs": [],
   "source": [
    "ic_classifier.delete_endpoint()"
   ]
  }
 ],
 "metadata": {
  "kernelspec": {
   "display_name": "conda_python3",
   "language": "python",
   "name": "conda_python3"
  },
  "language_info": {
   "codemirror_mode": {
    "name": "ipython",
    "version": 3
   },
   "file_extension": ".py",
   "mimetype": "text/x-python",
   "name": "python",
   "nbconvert_exporter": "python",
   "pygments_lexer": "ipython3",
   "version": "3.6.5-final"
  },
  "notice": "Copyright 2018 Amazon.com, Inc. or its affiliates. All Rights Reserved.  Licensed under the Apache License, Version 2.0 (the \"License\"). You may not use this file except in compliance with the License. A copy of the License is located at http://aws.amazon.com/apache2.0/ or in the \"license\" file accompanying this file. This file is distributed on an \"AS IS\" BASIS, WITHOUT WARRANTIES OR CONDITIONS OF ANY KIND, either express or implied. See the License for the specific language governing permissions and limitations under the License."
 },
 "nbformat": 4,
 "nbformat_minor": 2
}