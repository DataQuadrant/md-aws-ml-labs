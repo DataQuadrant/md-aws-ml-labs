{
 "cells": [
  {
   "cell_type": "markdown",
   "metadata": {},
   "source": [
    "# An Introduction to SageMaker ObjectToVec model for MovieLens recommendation\n",
    "### MD: modified to work on a local container\n",
    "\n",
    "\n",
    "1. [Background](#Background)\n",
    "1. [Data exploration and preparation](#Data-exploration-and-preparation)\n",
    "1. [Rating prediction task](#Rating-prediction-task)\n",
    "1. [Recommendation task](#Recommendation-task)\n",
    "1. [Movie retrieval in the embedding space](#Movie-retrieval-in-the-embedding-space)"
   ]
  },
  {
   "cell_type": "markdown",
   "metadata": {},
   "source": [
    "# Background\n",
    "\n",
    "### ObjectToVec\n",
    "*Object2Vec* is a highly customizable multi-purpose algorithm that can learn embeddings of pairs of objects. The embeddings are learned such that it preserves their pairwise **similarities** in the original space.\n",
    "- **Similarity** is user-defined: users need to provide the algorithm with pairs of objects that they define as similar (1) or dissimilar (0); alternatively, the users can define similarity in a continuous sense (provide a real-valued similarity score)\n",
    "- The learned embeddings can be used to efficiently compute nearest neighbors of objects, as well as to visualize natural clusters of related objects in the embedding space. In addition, the embeddings can also be used as features of the corresponding objects in downstream supervised tasks such as classification or regression"
   ]
  },
  {
   "cell_type": "markdown",
   "metadata": {},
   "source": [
    "## In this notebook example:\n",
    "We demonstrate how Object2Vec can be used to solve problems arising in recommendation systems. Specifically,\n",
    "\n",
    "- We provide the algorithm with (UserID, MovieID) pairs; for each such pair, we also provide a \"label\" that tells the algorithm whether the user and movie are similar or not\n",
    "\n",
    "     * When the labels are real-valued, we use the algorithm to predict the exact ratings of a movie given a user\n",
    "     * When the labels are binary, we use the algorithm to recommendation movies to users\n",
    "\n",
    "- The diagram below shows the customization of our model to the problem of predicting movie ratings, using a dataset that provides `(UserID, ItemID, Rating)` samples. Here, ratings are real-valued"
   ]
  },
  {
   "cell_type": "markdown",
   "metadata": {},
   "source": [
    "<img style=\"float:middle\" src=\"image_ml_rating.png\" width=\"480\">"
   ]
  },
  {
   "cell_type": "markdown",
   "metadata": {},
   "source": [
    "### Dataset\n",
    "- We use the MovieLens 100k dataset: https://grouplens.org/datasets/movielens/100k/"
   ]
  },
  {
   "cell_type": "markdown",
   "metadata": {},
   "source": [
    "### Use cases\n",
    "\n",
    "- Task 1: Rating prediction (regression)\n",
    "- Task 2: Movie recommendation (classification)\n",
    "- Task 3: Nearest-neighbor movie retrieval in the learned embedding space"
   ]
  },
  {
   "cell_type": "markdown",
   "metadata": {},
   "source": [
    "### Before running the notebook\n",
    "- Please use a Python 3 kernel for the notebook\n",
    "- Please make sure you have `jsonlines` package installed (if not, you can run the command below to install it)"
   ]
  },
  {
   "cell_type": "code",
   "execution_count": 43,
   "metadata": {},
   "outputs": [],
   "source": [
    "# md: it is already installed on conda python3\n",
    "\n",
    "# !pip install jsonlines"
   ]
  },
  {
   "cell_type": "code",
   "execution_count": 2,
   "metadata": {},
   "outputs": [],
   "source": [
    "import sys\n",
    "# ! {sys.prefix}/bin/pip install jsonlines"
   ]
  },
  {
   "cell_type": "code",
   "execution_count": 45,
   "metadata": {},
   "outputs": [],
   "source": [
    "# ! {sys.prefix}/bin/pip install pandas"
   ]
  },
  {
   "cell_type": "code",
   "execution_count": 46,
   "metadata": {},
   "outputs": [],
   "source": [
    "# ! {sys.prefix}/bin/pip install --upgrade jupyter_contrib_nbextensions"
   ]
  },
  {
   "cell_type": "code",
   "execution_count": 47,
   "metadata": {},
   "outputs": [],
   "source": [
    "# ! jupyter contrib nbextension install --sys-prefix"
   ]
  },
  {
   "cell_type": "code",
   "execution_count": 48,
   "metadata": {},
   "outputs": [],
   "source": [
    "# ! conda upgrade jupyter_contrib_nbextensions"
   ]
  },
  {
   "cell_type": "code",
   "execution_count": 3,
   "metadata": {},
   "outputs": [],
   "source": [
    "import os\n",
    "import sys\n",
    "import csv, jsonlines\n",
    "import numpy as np\n",
    "import copy\n",
    "import random"
   ]
  },
  {
   "cell_type": "code",
   "execution_count": 4,
   "metadata": {},
   "outputs": [],
   "source": [
    "%matplotlib inline\n",
    "import matplotlib.pyplot as plt"
   ]
  },
  {
   "cell_type": "markdown",
   "metadata": {},
   "source": [
    "# Data exploration and preparation"
   ]
  },
  {
   "cell_type": "markdown",
   "metadata": {},
   "source": [
    "### License\n",
    "Please be aware of the following requirements about ackonwledgment, copyright and availability, cited from the [data set description page](http://files.grouplens.org/datasets/movielens/ml-100k-README.txt).\n",
    ">The data set may be used for any research\n",
    "purposes under the following conditions:\n",
    "     * The user may not state or imply any endorsement from the\n",
    "       University of Minnesota or the GroupLens Research Group.\n",
    "     * The user must acknowledge the use of the data set in\n",
    "       publications resulting from the use of the data set\n",
    "       (see below for citation information).\n",
    "     * The user may not redistribute the data without separate\n",
    "       permission.\n",
    "     * The user may not use this information for any commercial or\n",
    "       revenue-bearing purposes without first obtaining permission\n",
    "       from a faculty member of the GroupLens Research Project at the\n",
    "       University of Minnesota.\n",
    "If you have any further questions or comments, please contact GroupLens \\<grouplens-info@cs.umn.edu\\>. "
   ]
  },
  {
   "cell_type": "code",
   "execution_count": 51,
   "metadata": {},
   "outputs": [],
   "source": [
    "# %%bash\n",
    "\n",
    "# curl -o ml-100k.zip http://files.grouplens.org/datasets/movielens/ml-100k.zip\n",
    "# unzip ml-100k.zip\n",
    "# rm ml-100k.zip"
   ]
  },
  {
   "cell_type": "markdown",
   "metadata": {},
   "source": [
    "Let's first create some utility functions for data exploration and preprocessing"
   ]
  },
  {
   "cell_type": "code",
   "execution_count": 5,
   "metadata": {},
   "outputs": [],
   "source": [
    "## some utility functions\n",
    "\n",
    "def load_csv_data(filename, delimiter, verbose=True):\n",
    "    \"\"\"\n",
    "    input: a file readable as csv and separated by a delimiter\n",
    "    and has format users - movies - ratings - etc\n",
    "    output: a list, where each row of the list is of the form\n",
    "    {'in0':userID, 'in1':movieID, 'label':rating}\n",
    "    \"\"\"\n",
    "    to_data_list = list()\n",
    "    users = list()\n",
    "    movies = list()\n",
    "    ratings = list()\n",
    "    unique_users = set()\n",
    "    unique_movies = set()\n",
    "    with open(filename, 'r') as csvfile:\n",
    "        reader = csv.reader(csvfile, delimiter=delimiter)\n",
    "        for count, row in enumerate(reader):\n",
    "            #if count!=0:\n",
    "            to_data_list.append({'in0':[int(row[0])], 'in1':[int(row[1])], 'label':float(row[2])})\n",
    "            users.append(row[0])\n",
    "            movies.append(row[1])\n",
    "            ratings.append(float(row[2]))\n",
    "            unique_users.add(row[0])\n",
    "            unique_movies.add(row[1])\n",
    "    if verbose:\n",
    "        print(\"In file {}, there are {} ratings\".format(filename, len(ratings)))\n",
    "        print(\"The ratings have mean: {}, median: {}, and variance: {}\".format(\n",
    "                                            round(np.mean(ratings), 2), \n",
    "                                            round(np.median(ratings), 2), \n",
    "                                            round(np.var(ratings), 2)))\n",
    "        print(\"There are {} unique users and {} unique movies\".format(len(unique_users), len(unique_movies)))\n",
    "    return to_data_list\n",
    "\n",
    "\n",
    "def csv_to_augmented_data_dict(filename, delimiter):\n",
    "    \"\"\"\n",
    "    Input: a file that must be readable as csv and separated by delimiter (to make columns)\n",
    "    has format users - movies - ratings - etc\n",
    "    Output:\n",
    "      Users dictionary: keys as user ID's; each key corresponds to a list of movie ratings by that user\n",
    "      Movies dictionary: keys as movie ID's; each key corresponds a list of ratings of that movie by different users\n",
    "    \"\"\"\n",
    "    to_users_dict = dict() \n",
    "    to_movies_dict = dict()\n",
    "    with open(filename, 'r') as csvfile:\n",
    "        reader = csv.reader(csvfile, delimiter=delimiter)\n",
    "        for count, row in enumerate(reader):\n",
    "            #if count!=0:\n",
    "            if row[0] not in to_users_dict:\n",
    "                to_users_dict[row[0]] = [(row[1], row[2])]\n",
    "            else:\n",
    "                to_users_dict[row[0]].append((row[1], row[2]))\n",
    "            if row[1] not in to_movies_dict:\n",
    "                to_movies_dict[row[1]] = list(row[0])\n",
    "            else:\n",
    "                to_movies_dict[row[1]].append(row[0])\n",
    "    return to_users_dict, to_movies_dict\n",
    "\n",
    "\n",
    "def user_dict_to_data_list(user_dict):\n",
    "    # turn user_dict format to data list format (acceptable to the algorithm)\n",
    "    data_list = list()\n",
    "    for user, movie_rating_list in user_dict.items():\n",
    "        for movie, rating in movie_rating_list:\n",
    "            data_list.append({'in0':[int(user)], 'in1':[int(movie)], 'label':float(rating)})\n",
    "    return data_list\n",
    "\n",
    "def divide_user_dicts(user_dict, sp_ratio_dict):\n",
    "    \"\"\"\n",
    "    Input: A user dictionary, a ration dictionary\n",
    "         - format of sp_ratio_dict = {'train':0.8, \"test\":0.2}\n",
    "    Output: \n",
    "        A dictionary of dictionaries, with key corresponding to key provided by sp_ratio_dict\n",
    "        and each key corresponds to a subdivded user dictionary\n",
    "    \"\"\"\n",
    "    ratios = [val for _, val in sp_ratio_dict.items()]\n",
    "    assert np.sum(ratios) == 1, \"the sampling ratios must sum to 1!\"\n",
    "    divided_dict = {}\n",
    "    for user, movie_rating_list in user_dict.items():\n",
    "        sub_movies_ptr = 0\n",
    "        sub_movies_list = []\n",
    "        #movie_list, _ = zip(*movie_rating_list)\n",
    "        #print(movie_list)\n",
    "        for i, ratio in enumerate(ratios):\n",
    "            if i < len(ratios)-1:\n",
    "                sub_movies_ptr_end = sub_movies_ptr + int(len(movie_rating_list)*ratio)\n",
    "                sub_movies_list.append(movie_rating_list[sub_movies_ptr:sub_movies_ptr_end])\n",
    "                sub_movies_ptr = sub_movies_ptr_end\n",
    "            else:\n",
    "                sub_movies_list.append(movie_rating_list[sub_movies_ptr:])\n",
    "        for subset_name in sp_ratio_dict.keys():\n",
    "            if subset_name not in divided_dict:\n",
    "                divided_dict[subset_name] = {user: sub_movies_list.pop(0)}\n",
    "            else:\n",
    "                #access sub-dictionary\n",
    "                divided_dict[subset_name][user] = sub_movies_list.pop(0)\n",
    "    \n",
    "    return divided_dict\n",
    "\n",
    "def write_csv_to_jsonl(jsonl_fname, csv_fname, csv_delimiter):\n",
    "    \"\"\"\n",
    "    Input: a file readable as csv and separated by delimiter (to make columns)\n",
    "        - has format users - movies - ratings - etc\n",
    "    Output: a jsonline file converted from the csv file\n",
    "    \"\"\"\n",
    "    with jsonlines.open(jsonl_fname, mode='w') as writer:\n",
    "        with open(csv_fname, 'r') as csvfile:\n",
    "            reader = csv.reader(csvfile, delimiter=csv_delimiter)\n",
    "            for count, row in enumerate(reader):\n",
    "                #print(row)\n",
    "                #if count!=0:\n",
    "                writer.write({'in0':[int(row[0])], 'in1':[int(row[1])], 'label':float(row[2])})\n",
    "        print('Created {} jsonline file'.format(jsonl_fname))\n",
    "                    \n",
    "    \n",
    "def write_data_list_to_jsonl(data_list, to_fname):\n",
    "    \"\"\"\n",
    "    Input: a data list, where each row of the list is a Python dictionary taking form\n",
    "    {'in0':userID, 'in1':movieID, 'label':rating}\n",
    "    Output: save the list as a jsonline file\n",
    "    \"\"\"\n",
    "    with jsonlines.open(to_fname, mode='w') as writer:\n",
    "        for row in data_list:\n",
    "            #print(row)\n",
    "            writer.write({'in0':row['in0'], 'in1':row['in1'], 'label':row['label']})\n",
    "    print(\"Created {} jsonline file\".format(to_fname))\n",
    "\n",
    "def data_list_to_inference_format(data_list, binarize=True, label_thres=3):\n",
    "    \"\"\"\n",
    "    Input: a data list\n",
    "    Output: test data and label, acceptable by SageMaker for inference\n",
    "    \"\"\"\n",
    "    data_ = [({\"in0\":row['in0'], 'in1':row['in1']}, row['label']) for row in data_list]\n",
    "    data, label = zip(*data_)\n",
    "    infer_data = {\"instances\":data}\n",
    "    if binarize:\n",
    "        label = get_binarized_label(list(label), label_thres)\n",
    "    return infer_data, label\n",
    "\n",
    "\n",
    "def get_binarized_label(data_list, thres):\n",
    "    \"\"\"\n",
    "    Input: data list\n",
    "    Output: a binarized data list for recommendation task\n",
    "    MD: replace the labels that are curently 1 to 5 values , to \n",
    "    \"\"\"\n",
    "    for i, row in enumerate(data_list):\n",
    "        if type(row) is dict:\n",
    "            #if i < 10:\n",
    "                #print(row['label'])\n",
    "            if row['label'] > thres:\n",
    "                #print(row)\n",
    "                data_list[i]['label'] = 1\n",
    "            else:\n",
    "                data_list[i]['label'] = 0\n",
    "        else:\n",
    "            if row > thres:\n",
    "                data_list[i] = 1\n",
    "            else:\n",
    "                data_list[i] = 0\n",
    "    return data_list\n"
   ]
  },
  {
   "cell_type": "code",
   "execution_count": 6,
   "metadata": {},
   "outputs": [
    {
     "output_type": "stream",
     "name": "stdout",
     "text": "ml-100k/ua.base\nml-100k/ub.test\n"
    }
   ],
   "source": [
    "## Load data and shuffle\n",
    "prefix = 'ml-100k'\n",
    "train_path = os.path.join(prefix, 'ua.base')\n",
    "valid_path = os.path.join(prefix, 'ua.test')\n",
    "test_path = os.path.join(prefix, 'ub.test')\n",
    "print(train_path)\n",
    "print(test_path)"
   ]
  },
  {
   "cell_type": "code",
   "execution_count": 54,
   "metadata": {},
   "outputs": [
    {
     "name": "stdout",
     "output_type": "stream",
     "text": [
      "In file ml-100k/ua.base, there are 90570 ratings\n",
      "The ratings have mean: 3.52, median: 4.0, and variance: 1.27\n",
      "There are 943 unique users and 1680 unique movies\n",
      "In file ml-100k/ua.test, there are 9430 ratings\n",
      "The ratings have mean: 3.59, median: 4.0, and variance: 1.25\n",
      "There are 943 unique users and 1129 unique movies\n"
     ]
    }
   ],
   "source": [
    "train_data_list = load_csv_data(train_path, '\\t')\n",
    "random.shuffle(train_data_list)\n",
    "\n",
    "validation_data_list = load_csv_data(valid_path, '\\t')\n",
    "random.shuffle(validation_data_list)\n"
   ]
  },
  {
   "cell_type": "code",
   "execution_count": 55,
   "metadata": {},
   "outputs": [
    {
     "name": "stdout",
     "output_type": "stream",
     "text": [
      "<class 'list'>\n",
      "[{'in0': [100], 'in1': [315], 'label': 5.0}, {'in0': [314], 'in1': [1094], 'label': 1.0}, {'in0': [59], 'in1': [484], 'label': 4.0}]\n"
     ]
    }
   ],
   "source": [
    "print(type(train_data_list))\n",
    "print(train_data_list[:3])"
   ]
  },
  {
   "cell_type": "code",
   "execution_count": 56,
   "metadata": {},
   "outputs": [
    {
     "name": "stdout",
     "output_type": "stream",
     "text": [
      "[{'in0': [281], 'in1': [332], 'label': 4.0}, {'in0': [184], 'in1': [412], 'label': 2.0}, {'in0': [507], 'in1': [338], 'label': 5.0}]\n"
     ]
    }
   ],
   "source": [
    "print(validation_data_list[:3])"
   ]
  },
  {
   "cell_type": "code",
   "execution_count": 57,
   "metadata": {},
   "outputs": [],
   "source": [
    "to_users_dict, to_movies_dict = csv_to_augmented_data_dict(train_path, '\\t')"
   ]
  },
  {
   "cell_type": "code",
   "execution_count": 58,
   "metadata": {},
   "outputs": [
    {
     "name": "stdout",
     "output_type": "stream",
     "text": [
      "[('1', '5'), ('2', '3'), ('3', '4'), ('4', '3'), ('5', '3'), ('6', '5'), ('7', '4'), ('8', '1'), ('9', '5'), ('10', '3'), ('11', '2'), ('12', '5'), ('13', '5'), ('14', '5'), ('15', '5'), ('16', '5'), ('17', '3'), ('18', '4'), ('19', '5'), ('21', '1'), ('22', '4'), ('23', '4'), ('24', '3'), ('25', '4'), ('26', '3'), ('27', '2'), ('28', '4'), ('29', '1'), ('30', '3'), ('31', '3'), ('32', '5'), ('34', '2'), ('35', '1'), ('36', '2'), ('37', '2'), ('38', '3'), ('39', '4'), ('40', '3'), ('41', '2'), ('42', '5'), ('43', '4'), ('44', '5'), ('45', '5'), ('46', '4'), ('47', '4'), ('48', '5'), ('49', '3'), ('50', '5'), ('51', '4'), ('52', '4'), ('53', '3'), ('54', '3'), ('55', '5'), ('56', '4'), ('57', '5'), ('58', '4'), ('59', '5'), ('60', '5'), ('62', '3'), ('63', '2'), ('64', '5'), ('65', '4'), ('66', '4'), ('67', '3'), ('68', '4'), ('69', '3'), ('70', '3'), ('71', '3'), ('72', '4'), ('73', '3'), ('74', '1'), ('75', '4'), ('76', '4'), ('77', '4'), ('78', '1'), ('79', '4'), ('80', '4'), ('81', '5'), ('82', '5'), ('83', '3'), ('84', '4'), ('85', '3'), ('86', '5'), ('87', '5'), ('88', '4'), ('89', '5'), ('90', '4'), ('91', '5'), ('92', '3'), ('93', '5'), ('94', '2'), ('95', '4'), ('96', '5'), ('97', '3'), ('98', '4'), ('99', '3'), ('100', '5'), ('101', '2'), ('102', '2'), ('103', '1'), ('104', '1'), ('105', '2'), ('106', '4'), ('107', '4'), ('108', '5'), ('109', '5'), ('110', '1'), ('111', '5'), ('112', '1'), ('113', '5'), ('114', '5'), ('115', '5'), ('116', '3'), ('118', '3'), ('119', '5'), ('120', '1'), ('121', '4'), ('122', '3'), ('123', '4'), ('124', '5'), ('125', '3'), ('126', '2'), ('127', '5'), ('128', '4'), ('129', '5'), ('130', '3'), ('131', '1'), ('132', '4'), ('133', '4'), ('134', '4'), ('135', '4'), ('136', '3'), ('137', '5'), ('138', '1'), ('139', '3'), ('140', '1'), ('141', '3'), ('142', '2'), ('143', '1'), ('144', '4'), ('145', '2'), ('146', '4'), ('147', '3'), ('148', '2'), ('149', '2'), ('150', '5'), ('151', '4'), ('152', '5'), ('153', '3'), ('154', '5'), ('156', '4'), ('157', '4'), ('158', '3'), ('159', '3'), ('161', '4'), ('162', '4'), ('163', '4'), ('164', '3'), ('165', '5'), ('166', '5'), ('167', '2'), ('168', '5'), ('169', '5'), ('170', '5'), ('172', '5'), ('173', '5'), ('174', '5'), ('175', '5'), ('176', '5'), ('177', '5'), ('178', '5'), ('179', '3'), ('180', '3'), ('181', '5'), ('182', '4'), ('183', '5'), ('184', '4'), ('185', '4'), ('186', '4'), ('187', '4'), ('188', '3'), ('190', '5'), ('191', '5'), ('192', '4'), ('193', '4'), ('194', '4'), ('195', '5'), ('196', '5'), ('197', '5'), ('198', '5'), ('199', '4'), ('200', '3'), ('201', '3'), ('203', '4'), ('204', '5'), ('205', '3'), ('206', '4'), ('207', '5'), ('208', '5'), ('209', '4'), ('210', '4'), ('211', '3'), ('212', '4'), ('213', '2'), ('214', '4'), ('215', '3'), ('216', '5'), ('217', '3'), ('218', '3'), ('219', '1'), ('220', '3'), ('221', '5'), ('222', '4'), ('223', '5'), ('224', '5'), ('225', '2'), ('226', '3'), ('227', '4'), ('228', '5'), ('229', '4'), ('230', '4'), ('231', '1'), ('232', '3'), ('233', '2'), ('234', '4'), ('235', '5'), ('236', '4'), ('237', '2'), ('238', '4'), ('239', '4'), ('240', '3'), ('241', '4'), ('242', '5'), ('243', '1'), ('244', '2'), ('245', '2'), ('246', '5'), ('247', '1'), ('248', '4'), ('249', '4'), ('250', '4'), ('251', '4'), ('252', '2'), ('253', '5'), ('254', '1'), ('255', '2'), ('256', '4'), ('257', '4'), ('258', '5'), ('259', '1'), ('260', '1'), ('261', '1'), ('262', '3'), ('263', '1'), ('264', '2'), ('266', '1'), ('267', '4'), ('268', '5'), ('269', '5'), ('270', '5'), ('271', '2'), ('272', '3')]\n"
     ]
    }
   ],
   "source": [
    "print(to_users_dict[list(to_users_dict.keys())[0]])"
   ]
  },
  {
   "cell_type": "code",
   "execution_count": 59,
   "metadata": {},
   "outputs": [
    {
     "data": {
      "text/plain": [
       "['1', '2', '6']"
      ]
     },
     "execution_count": 59,
     "metadata": {},
     "output_type": "execute_result"
    }
   ],
   "source": [
    "to_movies_dict[list(to_movies_dict.keys())[0]][:3]\n"
   ]
  },
  {
   "cell_type": "markdown",
   "metadata": {},
   "source": [
    "### We perform some data exploration"
   ]
  },
  {
   "cell_type": "code",
   "execution_count": 60,
   "metadata": {},
   "outputs": [
    {
     "data": {
      "text/plain": [
       "943"
      ]
     },
     "execution_count": 60,
     "metadata": {},
     "output_type": "execute_result"
    }
   ],
   "source": [
    "## Calculate min, max, median of number of movies per user\n",
    "movies_per_user = [len(val) for key, val in to_users_dict.items()]\n",
    "len(movies_per_user)"
   ]
  },
  {
   "cell_type": "code",
   "execution_count": 61,
   "metadata": {},
   "outputs": [
    {
     "name": "stdout",
     "output_type": "stream",
     "text": [
      "The min, max, and median 'movies per user' is 10, 727, and 55.0\n"
     ]
    }
   ],
   "source": [
    "print(\"The min, max, and median 'movies per user' is {}, {}, and {}\".format(\n",
    "    np.amin(movies_per_user),\n",
    "    np.amax(movies_per_user),\n",
    "    np.median(movies_per_user)\n",
    "))\n"
   ]
  },
  {
   "cell_type": "code",
   "execution_count": 62,
   "metadata": {},
   "outputs": [
    {
     "data": {
      "text/plain": [
       "1680"
      ]
     },
     "execution_count": 62,
     "metadata": {},
     "output_type": "execute_result"
    }
   ],
   "source": [
    "users_per_movie = [len(val) for key, val in to_movies_dict.items()]\n",
    "users_per_movie[:3]\n",
    "len(users_per_movie)"
   ]
  },
  {
   "cell_type": "code",
   "execution_count": 63,
   "metadata": {},
   "outputs": [
    {
     "name": "stdout",
     "output_type": "stream",
     "text": [
      "The min, max, and median 'users per movie' is 1, 495, and 25.0\n"
     ]
    }
   ],
   "source": [
    "print(\"The min, max, and median 'users per movie' is {}, {}, and {}\".format(\n",
    "    np.amin(users_per_movie),\n",
    "    np.amax(users_per_movie),\n",
    "    np.median(users_per_movie)\n",
    "))"
   ]
  },
  {
   "cell_type": "code",
   "execution_count": 64,
   "metadata": {},
   "outputs": [
    {
     "name": "stdout",
     "output_type": "stream",
     "text": [
      "In the training set\n",
      "There are 213 users with no more than 20 movies\n"
     ]
    }
   ],
   "source": [
    "count = 0\n",
    "n_movies_lower_bound = 20\n",
    "for n_movies in movies_per_user:\n",
    "    if n_movies <= n_movies_lower_bound:\n",
    "        count += 1\n",
    "print(\"In the training set\")\n",
    "print('There are {} users with no more than {} movies'.format(count, n_movies_lower_bound))"
   ]
  },
  {
   "cell_type": "code",
   "execution_count": 65,
   "metadata": {},
   "outputs": [
    {
     "name": "stdout",
     "output_type": "stream",
     "text": [
      "There are 12 movies with no more than 2 user\n"
     ]
    }
   ],
   "source": [
    "#\n",
    "count = 0\n",
    "n_users_lower_bound = 2\n",
    "for n_users in users_per_movie:\n",
    "    if n_users <= n_users_lower_bound:\n",
    "        count += 1\n",
    "print('There are {} movies with no more than {} user'.format(count, n_users_lower_bound))"
   ]
  },
  {
   "cell_type": "code",
   "execution_count": 66,
   "metadata": {},
   "outputs": [
    {
     "data": {
      "text/plain": [
       "Text(0.5, 1.0, 'Movies per user')"
      ]
     },
     "execution_count": 66,
     "metadata": {},
     "output_type": "execute_result"
    },
    {
     "data": {
      "image/png": "[encoded data removed]",
      "text/plain": [
       "<Figure size 432x288 with 1 Axes>"
      ]
     },
     "metadata": {},
     "output_type": "display_data"
    }
   ],
   "source": [
    "## figures\n",
    "\n",
    "f = plt.figure(1)\n",
    "plt.hist(movies_per_user)\n",
    "plt.title(\"Movies per user\")"
   ]
  },
  {
   "cell_type": "code",
   "execution_count": 67,
   "metadata": {},
   "outputs": [
    {
     "data": {
      "text/plain": [
       "Text(0.5, 1.0, 'Users per movie')"
      ]
     },
     "execution_count": 67,
     "metadata": {},
     "output_type": "execute_result"
    },
    {
     "data": {
      "image/png": "[encoded data removed]",
      "text/plain": [
       "<Figure size 432x288 with 1 Axes>"
      ]
     },
     "metadata": {},
     "output_type": "display_data"
    }
   ],
   "source": [
    "##\n",
    "g = plt.figure(2)\n",
    "plt.hist(users_per_movie)\n",
    "plt.title(\"Users per movie\")"
   ]
  },
  {
   "cell_type": "markdown",
   "metadata": {},
   "source": [
    "Since the number of movies with an extremely small number of users (<3) is negligible compared to the total number of movies, we will not remove movies from the data set (same applies for users) "
   ]
  },
  {
   "cell_type": "markdown",
   "metadata": {},
   "source": [
    "## Save training and validation data locally for rating-prediction (regression) task"
   ]
  },
  {
   "cell_type": "code",
   "execution_count": 68,
   "metadata": {},
   "outputs": [
    {
     "name": "stdout",
     "output_type": "stream",
     "text": [
      "Created train_r.jsonl jsonline file\n",
      "Created validation_r.jsonl jsonline file\n"
     ]
    }
   ],
   "source": [
    "write_data_list_to_jsonl(copy.deepcopy(train_data_list), 'train_r.jsonl')\n",
    "write_data_list_to_jsonl(copy.deepcopy(validation_data_list), 'validation_r.jsonl')"
   ]
  },
  {
   "cell_type": "markdown",
   "metadata": {},
   "source": [
    "## Save training and validation data locally for recommendation (classification) task\n",
    "\n",
    "### binarize the data "
   ]
  },
  {
   "cell_type": "code",
   "execution_count": 69,
   "metadata": {},
   "outputs": [],
   "source": [
    "train_c = get_binarized_label(copy.deepcopy(train_data_list), 3.0)\n",
    "valid_c = get_binarized_label(copy.deepcopy(validation_data_list), 3.0)"
   ]
  },
  {
   "cell_type": "code",
   "execution_count": 70,
   "metadata": {},
   "outputs": [
    {
     "name": "stdout",
     "output_type": "stream",
     "text": [
      "Created train_c.jsonl jsonline file\n",
      "Created validation_c.jsonl jsonline file\n"
     ]
    }
   ],
   "source": [
    "write_data_list_to_jsonl(train_c, 'train_c.jsonl')\n",
    "write_data_list_to_jsonl(valid_c, 'validation_c.jsonl')"
   ]
  },
  {
   "cell_type": "markdown",
   "metadata": {},
   "source": [
    "**We check whether the two classes are balanced after binarization**"
   ]
  },
  {
   "cell_type": "code",
   "execution_count": 71,
   "metadata": {},
   "outputs": [],
   "source": [
    "train_c_label = [row['label'] for row in train_c]\n",
    "valid_c_label = [row['label'] for row in valid_c]"
   ]
  },
  {
   "cell_type": "code",
   "execution_count": 72,
   "metadata": {},
   "outputs": [
    {
     "name": "stdout",
     "output_type": "stream",
     "text": [
      "There are 0.5510213094843768 fraction of positive ratings in train_c.jsonl\n",
      "There are 0.5799575821845175 fraction of positive ratings in validation_c.jsonl\n"
     ]
    }
   ],
   "source": [
    "print(\"There are {} fraction of positive ratings in train_c.jsonl\".format(\n",
    "                                np.count_nonzero(train_c_label)/len(train_c_label)))\n",
    "print(\"There are {} fraction of positive ratings in validation_c.jsonl\".format(\n",
    "                                np.sum(valid_c_label)/len(valid_c_label)))"
   ]
  },
  {
   "cell_type": "markdown",
   "metadata": {},
   "source": [
    "# Rating prediction task "
   ]
  },
  {
   "cell_type": "code",
   "execution_count": 73,
   "metadata": {},
   "outputs": [],
   "source": [
    "def get_mse_loss(res, labels):\n",
    "    if type(res) is dict:\n",
    "        res = res['predictions']\n",
    "    assert len(res)==len(labels), 'result and label length mismatch!'\n",
    "    loss = 0\n",
    "    for row, label in zip(res, labels):\n",
    "        if type(row) is dict:\n",
    "            loss += (row['scores'][0]-label)**2\n",
    "        else:\n",
    "            loss += (row-label)**2\n",
    "    return round(loss/float(len(labels)), 2)"
   ]
  },
  {
   "cell_type": "code",
   "execution_count": 74,
   "metadata": {},
   "outputs": [],
   "source": [
    "valid_r_data, valid_r_label = data_list_to_inference_format(copy.deepcopy(validation_data_list), binarize=False)"
   ]
  },
  {
   "cell_type": "markdown",
   "metadata": {},
   "source": [
    "#### We first test the problem on two baseline algorithms"
   ]
  },
  {
   "cell_type": "markdown",
   "metadata": {},
   "source": [
    "## Baseline 1\n",
    "\n",
    "A naive approach to predict movie ratings on unseen data is to use the global average of the user predictions in the training data"
   ]
  },
  {
   "cell_type": "code",
   "execution_count": 75,
   "metadata": {},
   "outputs": [],
   "source": [
    "train_r_label = [row['label'] for row in copy.deepcopy(train_data_list)]"
   ]
  },
  {
   "cell_type": "code",
   "execution_count": 76,
   "metadata": {},
   "outputs": [],
   "source": [
    "bs1_prediction = round(np.mean(train_r_label), 2)"
   ]
  },
  {
   "cell_type": "code",
   "execution_count": 77,
   "metadata": {},
   "outputs": [
    {
     "name": "stdout",
     "output_type": "stream",
     "text": [
      "The Baseline 1 (global rating average) prediction is 3.52\n",
      "The validation mse loss of the Baseline 1 is 1.26\n"
     ]
    }
   ],
   "source": [
    "print('The Baseline 1 (global rating average) prediction is {}'.format(bs1_prediction))\n",
    "print(\"The validation mse loss of the Baseline 1 is {}\".format(\n",
    "                                     get_mse_loss(len(valid_r_label)*[bs1_prediction], valid_r_label)))"
   ]
  },
  {
   "cell_type": "markdown",
   "metadata": {},
   "source": [
    "## Baseline 2"
   ]
  },
  {
   "cell_type": "markdown",
   "metadata": {},
   "source": [
    "Now we use a better baseline, which is to perform prediction on unseen data based on the user-averaged ratings of movies on training data"
   ]
  },
  {
   "cell_type": "code",
   "execution_count": 78,
   "metadata": {},
   "outputs": [],
   "source": [
    "def bs2_predictor(test_data, user_dict, is_classification=False, thres=3):\n",
    "    \n",
    "    test_data = copy.deepcopy(test_data['instances'])\n",
    "    \n",
    "    predictions = list()\n",
    "    \n",
    "    # each row is a dict\n",
    "    # loop over all dict in test data where the first element is the user, second movie and third the label\n",
    "    for row in test_data:\n",
    "        \n",
    "        # get user id from the\n",
    "        userID = str(row[\"in0\"][0])\n",
    "        \n",
    "        # predict movie ID based on local average of user's prediction\n",
    "        local_movies, local_ratings = zip(*user_dict[userID]) # this produces an iterative list of touples\n",
    "        \n",
    "        local_ratings = [float(score) for score in local_ratings]\n",
    "        \n",
    "        predictions.append(np.mean(local_ratings))\n",
    "        \n",
    "        if is_classification:\n",
    "            predictions[-1] = int(predictions[-1] > 3)\n",
    "            \n",
    "    return predictions"
   ]
  },
  {
   "cell_type": "code",
   "execution_count": 79,
   "metadata": {},
   "outputs": [],
   "source": [
    "bs2_prediction = bs2_predictor(valid_r_data, to_users_dict, is_classification=False)"
   ]
  },
  {
   "cell_type": "code",
   "execution_count": 80,
   "metadata": {},
   "outputs": [
    {
     "name": "stdout",
     "output_type": "stream",
     "text": [
      "The validation loss of the Baseline 2 (user-based rating average) is 1.09\n"
     ]
    }
   ],
   "source": [
    "print(\"The validation loss of the Baseline 2 (user-based rating average) is {}\".format(\n",
    "                                     get_mse_loss(bs2_prediction, valid_r_label)))"
   ]
  },
  {
   "cell_type": "markdown",
   "metadata": {},
   "source": [
    "Next, we will use *Object2Vec* to predict the movie ratings"
   ]
  },
  {
   "cell_type": "markdown",
   "metadata": {},
   "source": [
    "## Model training and inference"
   ]
  },
  {
   "cell_type": "markdown",
   "metadata": {},
   "source": [
    "#### Define S3 bucket that hosts data and model, and upload data to S3"
   ]
  },
  {
   "cell_type": "code",
   "execution_count": 81,
   "metadata": {
    "tags": [
     "parameters"
    ]
   },
   "outputs": [],
   "source": [
    "import boto3 \n",
    "import os\n",
    " \n",
    "bucket = 'md-labs-bucket' # Customize your own bucket name\n",
    "input_prefix = 'object2vec/movielens/input'\n",
    "output_prefix = 'object2vec/movielens/output'"
   ]
  },
  {
   "cell_type": "code",
   "execution_count": 82,
   "metadata": {},
   "outputs": [
    {
     "name": "stdout",
     "output_type": "stream",
     "text": [
      "Resolved SageMaker IAM Role to: {'Path': '/service-role/', 'RoleName': 'AmazonSageMaker-ExecutionRole-20200523T071121', 'RoleId': 'AROA4UGSQ27FRNLDMKVAR', 'Arn': 'arn:aws:iam::868024899531:role/service-role/AmazonSageMaker-ExecutionRole-20200523T071121', 'CreateDate': datetime.datetime(2020, 5, 23, 12, 11, 29, tzinfo=tzlocal()), 'AssumeRolePolicyDocument': {'Version': '2012-10-17', 'Statement': [{'Effect': 'Allow', 'Principal': {'Service': 'sagemaker.amazonaws.com'}, 'Action': 'sts:AssumeRole'}]}, 'Description': 'SageMaker execution role created from the SageMaker AWS Management Console.', 'MaxSessionDuration': 3600}\n",
      "arn:aws:iam::868024899531:role/service-role/AmazonSageMaker-ExecutionRole-20200523T071121\n"
     ]
    }
   ],
   "source": [
    "# # execute this on aws sagemaker\n",
    "# role = get_execution_role()\n",
    "\n",
    "# use this if running sagemaker locally\n",
    "def resolve_sm_role():\n",
    "    client = boto3.client('iam', region_name='us-east-2')\n",
    "    response_roles = client.list_roles(\n",
    "        PathPrefix='/',\n",
    "        # Marker='string',\n",
    "        MaxItems=999\n",
    "    )\n",
    "    for role in response_roles['Roles']:\n",
    "        if role['RoleName'].startswith('AmazonSageMaker-ExecutionRole-'):\n",
    "            print('Resolved SageMaker IAM Role to: ' + str(role))\n",
    "            return role['Arn']\n",
    "    raise Exception('Could not resolve what should be the SageMaker role to be used')\n",
    "\n",
    "# this is the role created by sagemaker notebook on aws\n",
    "role_arn = resolve_sm_role()\n",
    "print(role_arn)\n",
    "role=role_arn"
   ]
  },
  {
   "cell_type": "markdown",
   "metadata": {},
   "source": [
    "#### Upload data to S3 and make data paths"
   ]
  },
  {
   "cell_type": "code",
   "execution_count": 83,
   "metadata": {},
   "outputs": [],
   "source": [
    "from sagemaker.session import s3_input\n",
    "\n",
    "s3_client = boto3.client('s3')\n",
    "input_paths = {}\n",
    "output_path = os.path.join('s3://', bucket, output_prefix)"
   ]
  },
  {
   "cell_type": "code",
   "execution_count": 84,
   "metadata": {},
   "outputs": [
    {
     "name": "stdout",
     "output_type": "stream",
     "text": [
      "data_path  train :  s3://md-labs-bucket/object2vec/movielens/input/rating/train/train_r.jsonl\n",
      "Uploaded train data to s3://md-labs-bucket/object2vec/movielens/input/rating/train/train_r.jsonl and defined input path\n",
      "data_path  validation :  s3://md-labs-bucket/object2vec/movielens/input/rating/validation/validation_r.jsonl\n",
      "Uploaded validation data to s3://md-labs-bucket/object2vec/movielens/input/rating/validation/validation_r.jsonl and defined input path\n",
      "Trained model will be saved at s3://md-labs-bucket/object2vec/movielens/output\n"
     ]
    }
   ],
   "source": [
    "for data_name in ['train', 'validation']:\n",
    "    pre_key = os.path.join(input_prefix, 'rating', f'{data_name}')\n",
    "    fname = '{}_r.jsonl'.format(data_name)\n",
    "    data_path = os.path.join('s3://', bucket, pre_key, fname)\n",
    "    print('data_path ', data_name, ': ', data_path)\n",
    "    \n",
    "    s3_client.upload_file(fname, bucket, os.path.join(pre_key, fname))\n",
    "    input_paths[data_name] = s3_input(data_path, distribution='ShardedByS3Key', content_type='application/jsonlines')\n",
    "    print('Uploaded {} data to {} and defined input path'.format(data_name, data_path))\n",
    "\n",
    "print('Trained model will be saved at', output_path)"
   ]
  },
  {
   "cell_type": "markdown",
   "metadata": {},
   "source": [
    "### Get ObjectToVec algorithm image"
   ]
  },
  {
   "cell_type": "code",
   "execution_count": 85,
   "metadata": {},
   "outputs": [
    {
     "name": "stdout",
     "output_type": "stream",
     "text": [
      "arn:aws:iam::868024899531:role/service-role/AmazonSageMaker-ExecutionRole-20200523T071121\n",
      "404615174143.dkr.ecr.us-east-2.amazonaws.com/object2vec:1\n"
     ]
    }
   ],
   "source": [
    "import sagemaker\n",
    "from sagemaker import get_execution_role\n",
    "\n",
    "sess = sagemaker.Session()\n",
    "\n",
    "# MD: working from a local container\n",
    "# role = get_execution_role()\n",
    "print(role)\n",
    "\n",
    "## Get docker image of ObjectToVec algorithm\n",
    "from sagemaker.amazon.amazon_estimator import get_image_uri\n",
    "\n",
    "# retrieve the container image for object2vec\n",
    "container = get_image_uri(boto3.Session().region_name, 'object2vec')\n",
    "print(container)"
   ]
  },
  {
   "cell_type": "markdown",
   "metadata": {},
   "source": [
    "### Training"
   ]
  },
  {
   "cell_type": "markdown",
   "metadata": {},
   "source": [
    "#### We first define training hyperparameters"
   ]
  },
  {
   "cell_type": "code",
   "execution_count": 86,
   "metadata": {},
   "outputs": [],
   "source": [
    "hyperparameters = {\n",
    "    \"_kvstore\": \"device\",\n",
    "    \"_num_gpus\": \"auto\",\n",
    "    \"_num_kv_servers\": \"auto\",\n",
    "    \"bucket_width\": 0,\n",
    "    \"early_stopping_patience\": 3,\n",
    "    \"early_stopping_tolerance\": 0.01,\n",
    "    \"enc0_cnn_filter_width\": 3,\n",
    "    \"enc0_layers\": \"auto\",\n",
    "    \"enc0_max_seq_len\": 1,\n",
    "    \"enc0_network\": \"pooled_embedding\",\n",
    "    \"enc0_token_embedding_dim\": 300,\n",
    "    \"enc0_vocab_size\": 944,\n",
    "    \"enc1_layers\": \"auto\",\n",
    "    \"enc1_max_seq_len\": 1,\n",
    "    \"enc1_network\": \"pooled_embedding\",\n",
    "    \"enc1_token_embedding_dim\": 300,\n",
    "    \"enc1_vocab_size\": 1684,\n",
    "    \"enc_dim\": 1024,\n",
    "    \"epochs\": 20,\n",
    "    \"learning_rate\": 0.001,\n",
    "    \"mini_batch_size\": 64,\n",
    "    \"mlp_activation\": \"tanh\",\n",
    "    \"mlp_dim\": 256,\n",
    "    \"mlp_layers\": 1,\n",
    "    \"num_classes\": 2,\n",
    "    \"optimizer\": \"adam\",\n",
    "    \"output_layer\": \"mean_squared_error\"\n",
    "}"
   ]
  },
  {
   "cell_type": "markdown",
   "metadata": {},
   "source": [
    "## get estimator\n",
    "\n",
    "### using a p2 instance which is a GPU based"
   ]
  },
  {
   "cell_type": "code",
   "execution_count": 87,
   "metadata": {},
   "outputs": [],
   "source": [
    "regressor = sagemaker.estimator.Estimator(\n",
    "    container,\n",
    "    role, \n",
    "    train_instance_count=1, \n",
    "    train_instance_type='ml.p2.xlarge',\n",
    "    output_path=output_path,\n",
    "    sagemaker_session=sess\n",
    ")"
   ]
  },
  {
   "cell_type": "markdown",
   "metadata": {},
   "source": [
    "## set hyperparameters"
   ]
  },
  {
   "cell_type": "code",
   "execution_count": 88,
   "metadata": {},
   "outputs": [],
   "source": [
    "regressor.set_hyperparameters(**hyperparameters)"
   ]
  },
  {
   "cell_type": "markdown",
   "metadata": {},
   "source": [
    "## train the model"
   ]
  },
  {
   "cell_type": "code",
   "execution_count": 89,
   "metadata": {},
   "outputs": [
    {
     "name": "stdout",
     "output_type": "stream",
     "text": [
      "2020-05-23 12:36:54 Starting - Starting the training job...\n",
      "2020-05-23 12:36:55 Starting - Launching requested ML instances......\n",
      "2020-05-23 12:38:24 Starting - Preparing the instances for training......\n",
      "2020-05-23 12:39:32 Downloading - Downloading input data\n",
      "2020-05-23 12:39:32 Training - Downloading the training image.......\u001b[34mDocker entrypoint called with argument(s): train\u001b[0m\n",
      "\u001b[34mRunning default environment configuration script\u001b[0m\n",
      "\u001b[34m[05/23/2020 12:40:48 INFO 140395645454144] Reading default configuration from /opt/amazon/lib/python2.7/site-packages/algorithm/default-input.json: {u'comparator_list': u'hadamard, concat, abs_diff', u'enc0_vocab_file': u'', u'output_layer': u'softmax', u'enc0_cnn_filter_width': 3, u'epochs': 30, u'mlp_dim': 512, u'enc0_freeze_pretrained_embedding': u'true', u'mlp_layers': 2, u'_num_kv_servers': u'auto', u'weight_decay': 0, u'enc0_pretrained_embedding_file': u'', u'token_embedding_storage_type': u'dense', u'enc0_token_embedding_dim': 300, u'tied_token_embedding_weight': u'false', u'learning_rate': 0.0004, u'enc1_cnn_filter_width': 3, u'negative_sampling_rate': 0, u'enc0_network': u'hcnn', u'enc1_layers': u'auto', u'early_stopping_patience': 3, u'optimizer': u'adam', u'_tuning_objective_metric': u'', u'early_stopping_tolerance': 0.01, u'dropout': 0, u'bucket_width': 0, u'enc_dim': 4096, u'enc1_vocab_file': u'', u'enc1_freeze_pretrained_embedding': u'true', u'enc0_layers': u'auto', u'mini_batch_size': 32, u'enc1_pretrained_embedding_file': u'', u'num_classes': 2, u'_num_gpus': u'auto', u'enc1_token_embedding_dim': 300, u'mlp_activation': u'linear', u'enc1_network': u'enc0', u'_kvstore': u'auto_gpu'}\u001b[0m\n",
      "\u001b[34m[05/23/2020 12:40:48 INFO 140395645454144] Reading provided configuration from /opt/ml/input/config/hyperparameters.json: {u'output_layer': u'mean_squared_error', u'enc0_cnn_filter_width': u'3', u'epochs': u'20', u'mlp_dim': u'256', u'mlp_layers': u'1', u'_num_kv_servers': u'auto', u'mini_batch_size': u'64', u'enc0_token_embedding_dim': u'300', u'enc1_network': u'pooled_embedding', u'enc0_network': u'pooled_embedding', u'enc1_layers': u'auto', u'early_stopping_patience': u'3', u'optimizer': u'adam', u'enc1_max_seq_len': u'1', u'early_stopping_tolerance': u'0.01', u'learning_rate': u'0.001', u'bucket_width': u'0', u'enc_dim': u'1024', u'enc0_layers': u'auto', u'enc0_max_seq_len': u'1', u'num_classes': u'2', u'_num_gpus': u'auto', u'mlp_activation': u'tanh', u'enc1_token_embedding_dim': u'300', u'_kvstore': u'device', u'enc1_vocab_size': u'1684', u'enc0_vocab_size': u'944'}\u001b[0m\n",
      "\u001b[34m[05/23/2020 12:40:48 INFO 140395645454144] Final configuration: {u'comparator_list': u'hadamard, concat, abs_diff', u'enc0_vocab_file': u'', u'output_layer': u'mean_squared_error', u'enc0_cnn_filter_width': u'3', u'epochs': u'20', u'mlp_dim': u'256', u'enc0_freeze_pretrained_embedding': u'true', u'mlp_layers': u'1', u'_num_kv_servers': u'auto', u'weight_decay': 0, u'enc0_pretrained_embedding_file': u'', u'enc0_max_seq_len': u'1', u'token_embedding_storage_type': u'dense', u'enc0_token_embedding_dim': u'300', u'tied_token_embedding_weight': u'false', u'learning_rate': u'0.001', u'enc1_cnn_filter_width': 3, u'negative_sampling_rate': 0, u'enc0_network': u'pooled_embedding', u'enc1_layers': u'auto', u'early_stopping_patience': u'3', u'optimizer': u'adam', u'enc1_max_seq_len': u'1', u'_tuning_objective_metric': u'', u'early_stopping_tolerance': u'0.01', u'dropout': 0, u'bucket_width': u'0', u'enc_dim': u'1024', u'enc1_vocab_file': u'', u'enc1_freeze_pretrained_embedding': u'true', u'enc0_layers': u'auto', u'mini_batch_size': u'64', u'enc1_pretrained_embedding_file': u'', u'num_classes': u'2', u'_num_gpus': u'auto', u'enc1_token_embedding_dim': u'300', u'mlp_activation': u'tanh', u'enc1_network': u'pooled_embedding', u'_kvstore': u'device', u'enc1_vocab_size': u'1684', u'enc0_vocab_size': u'944'}\u001b[0m\n",
      "\u001b[34mProcess 1 is a worker.\u001b[0m\n",
      "\u001b[34m[05/23/2020 12:40:48 INFO 140395645454144] Using default worker.\u001b[0m\n",
      "\u001b[34m[05/23/2020 12:40:48 INFO 140395645454144] Loaded iterator creator application/jsonlines for content type ('application/jsonlines', '1.0')\u001b[0m\n",
      "\u001b[34m[05/23/2020 12:40:48 INFO 140395645454144] create_iter params {u'comparator_list': u'hadamard, concat, abs_diff', u'enc0_vocab_file': u'', u'output_layer': u'mean_squared_error', u'enc0_cnn_filter_width': u'3', u'epochs': u'20', u'mlp_dim': u'256', u'enc0_freeze_pretrained_embedding': u'true', u'mlp_layers': u'1', u'_num_kv_servers': u'auto', u'weight_decay': 0, u'enc0_pretrained_embedding_file': u'', u'enc0_max_seq_len': u'1', u'token_embedding_storage_type': u'dense', u'enc0_token_embedding_dim': u'300', u'tied_token_embedding_weight': u'false', u'learning_rate': u'0.001', u'enc1_cnn_filter_width': 3, u'negative_sampling_rate': 0, u'enc0_network': u'pooled_embedding', u'enc1_layers': u'auto', u'early_stopping_patience': u'3', u'optimizer': u'adam', u'enc1_max_seq_len': u'1', u'_tuning_objective_metric': u'', u'early_stopping_tolerance': u'0.01', u'dropout': 0, u'bucket_width': u'0', u'enc_dim': u'1024', u'enc1_vocab_file': u'', u'enc1_freeze_pretrained_embedding': u'true', u'enc0_layers': u'auto', u'mini_batch_size': u'64', u'enc1_pretrained_embedding_file': u'', u'num_classes': u'2', u'_num_gpus': u'auto', u'enc1_token_embedding_dim': u'300', u'mlp_activation': u'tanh', u'enc1_network': u'pooled_embedding', u'_kvstore': u'device', u'enc1_vocab_size': u'1684', u'enc0_vocab_size': u'944'}\u001b[0m\n",
      "\u001b[34m[05/23/2020 12:40:48 INFO 140395645454144] create_iter content_params {}\u001b[0m\n",
      "\u001b[34m[05/23/2020 12:40:48 INFO 140395645454144] Parameters of encoders: [{u'layers': u'auto', u'vocab_size': u'944', u'network': u'pooled_embedding', u'vocab_file': u'', u'cnn_filter_width': u'3', u'token_embedding_dim': u'300', u'max_seq_len': u'1', u'freeze_pretrained_embedding': u'true', u'pretrained_embedding_file': u''}, {u'layers': u'auto', u'vocab_size': u'1684', u'network': u'pooled_embedding', u'vocab_file': u'', u'cnn_filter_width': 3, u'token_embedding_dim': u'300', u'max_seq_len': u'1', u'freeze_pretrained_embedding': u'true', u'pretrained_embedding_file': u''}]\u001b[0m\n",
      "\u001b[34m[05/23/2020 12:40:48 INFO 140395645454144] output_layer is set to mean_squared_error. Ignoring the hyperparameter 'num_classes'.\u001b[0m\n",
      "\u001b[34m[05/23/2020 12:40:48 INFO 140395645454144] Inconsistent enc_dim and token_embedding_dim found for token-embedding-encoder: 1024 vs 300. Setting token embedding dim to be 1024\u001b[0m\n",
      "\u001b[34m[05/23/2020 12:40:48 INFO 140395645454144] Inconsistent enc_dim and token_embedding_dim found for token-embedding-encoder: 1024 vs 300. Setting token embedding dim to be 1024\u001b[0m\n",
      "\u001b[34m[05/23/2020 12:40:48 INFO 140395645454144] Encoder configs: [{'vocab_size': 944, 'enc_index': 0, 'pretrained_embedding_file_path': None, 'vocab_dict': None, 'token_embedding_dim': 1024, 'vocab_file': '', 'freeze_pretrained_embedding': True, 'num_layers': 1, 'is_train': True, 'dropout': 0.0, 'pretrained_embedding_file': ''}, {'vocab_size': 1684, 'enc_index': 1, 'pretrained_embedding_file_path': None, 'vocab_dict': None, 'token_embedding_dim': 1024, 'vocab_file': '', 'freeze_pretrained_embedding': True, 'num_layers': 1, 'is_train': True, 'dropout': 0.0, 'pretrained_embedding_file': ''}]\u001b[0m\n",
      "\u001b[34m[05/23/2020 12:40:48 INFO 140395645454144] Config: {'comparator_list': ['hadamard', 'concat', 'abs_diff'], 'epochs': 20, 'mini_batch_size': 64, 'optimizer': 'adam', 'output_layer': 'mean_squared_error', 'token_embedding_storage_type': 'dense', 'mlp_dim': 256, 'early_stopping_tolerance': 0.01, 'dropout': 0.0, 'bucket_width': 0, 'enc_dim': 1024, 'negative_sampling_rate': 0, 'early_stopping_patience': 3, 'learning_rate': 0.001, 'max_seq_lens': [1, 1], 'tied_token_embedding_weight': False, 'enc_configs': [{'vocab_size': 944, 'enc_index': 0, 'pretrained_embedding_file_path': None, 'vocab_dict': None, 'token_embedding_dim': 1024, 'vocab_file': '', 'freeze_pretrained_embedding': True, 'num_layers': 1, 'is_train': True, 'dropout': 0.0, 'pretrained_embedding_file': ''}, {'vocab_size': 1684, 'enc_index': 1, 'pretrained_embedding_file_path': None, 'vocab_dict': None, 'token_embedding_dim': 1024, 'vocab_file': '', 'freeze_pretrained_embedding': True, 'num_layers': 1, 'is_train': True, 'dropout': 0.0, 'pretrained_embedding_file': ''}], 'mlp_layers': 1, 'weight_decay': 0.0, 'mlp_activation': 'tanh', 'num_classes': None}\u001b[0m\n",
      "\u001b[34m[05/23/2020 12:40:48 INFO 140395645454144] use bucketing: False\u001b[0m\n",
      "\u001b[34m[05/23/2020 12:40:48 INFO 140395645454144] Creating data iterator for /opt/ml/input/data/train\u001b[0m\n",
      "\u001b[34m[05/23/2020 12:40:51 INFO 140395645454144] Source words: 90570\u001b[0m\n",
      "\u001b[34m[05/23/2020 12:40:51 INFO 140395645454144] Target words: 90570\u001b[0m\n",
      "\u001b[34m[05/23/2020 12:40:51 INFO 140395645454144] Total: 90570 samples in 1 buckets\u001b[0m\n",
      "\u001b[34m[05/23/2020 12:40:51 INFO 140395645454144] Bucket of (1, 1) : 90570 samples in 1415 batches of 64, approx 64.0 words/batch\u001b[0m\n",
      "\u001b[34m[05/23/2020 12:40:51 INFO 140395645454144] 0 sentence pairs discarded\u001b[0m\n",
      "\u001b[34m[05/23/2020 12:40:51 INFO 140395645454144] fill up mode: replicate\u001b[0m\n",
      "\u001b[34m[05/23/2020 12:40:51 INFO 140395645454144] \u001b[0m\n",
      "\u001b[34m[05/23/2020 12:40:51 INFO 140395645454144] Negative sampling not used\u001b[0m\n",
      "\u001b[34m[05/23/2020 12:40:51 INFO 140395645454144] Replicating 54 random sentences from bucket (1, 1) to size it to multiple of 64\u001b[0m\n",
      "\u001b[34m[05/23/2020 12:40:51 INFO 140395645454144] Bucket batch sizes: [BucketBatchSize(batch_size=64, average_words_per_batch=64)]\u001b[0m\n",
      "\u001b[34m[05/23/2020 12:40:51 INFO 140395645454144] create_iter params {u'comparator_list': u'hadamard, concat, abs_diff', u'enc0_vocab_file': u'', u'output_layer': u'mean_squared_error', u'enc0_cnn_filter_width': u'3', u'epochs': u'20', u'mlp_dim': u'256', u'enc0_freeze_pretrained_embedding': u'true', u'mlp_layers': u'1', u'_num_kv_servers': u'auto', u'weight_decay': 0, u'enc0_pretrained_embedding_file': u'', u'enc0_max_seq_len': u'1', u'token_embedding_storage_type': u'dense', u'enc0_token_embedding_dim': u'300', u'tied_token_embedding_weight': u'false', u'learning_rate': u'0.001', u'enc1_cnn_filter_width': 3, u'negative_sampling_rate': 0, u'enc0_network': u'pooled_embedding', u'enc1_layers': u'auto', u'early_stopping_patience': u'3', u'optimizer': u'adam', u'enc1_max_seq_len': u'1', u'_tuning_objective_metric': u'', u'early_stopping_tolerance': u'0.01', u'dropout': 0, u'bucket_width': u'0', u'enc_dim': u'1024', u'enc1_vocab_file': u'', u'enc1_freeze_pretrained_embedding': u'true', u'enc0_layers': u'auto', u'mini_batch_size': u'64', u'enc1_pretrained_embedding_file': u'', u'num_classes': u'2', u'_num_gpus': u'auto', u'enc1_token_embedding_dim': u'300', u'mlp_activation': u'tanh', u'enc1_network': u'pooled_embedding', u'_kvstore': u'device', u'enc1_vocab_size': u'1684', u'enc0_vocab_size': u'944'}\u001b[0m\n",
      "\u001b[34m[05/23/2020 12:40:51 INFO 140395645454144] create_iter content_params {}\u001b[0m\n",
      "\u001b[34m[05/23/2020 12:40:51 INFO 140395645454144] Parameters of encoders: [{u'layers': u'auto', u'vocab_size': u'944', u'network': u'pooled_embedding', u'vocab_file': u'', u'cnn_filter_width': u'3', u'token_embedding_dim': u'300', u'max_seq_len': u'1', u'freeze_pretrained_embedding': u'true', u'pretrained_embedding_file': u''}, {u'layers': u'auto', u'vocab_size': u'1684', u'network': u'pooled_embedding', u'vocab_file': u'', u'cnn_filter_width': 3, u'token_embedding_dim': u'300', u'max_seq_len': u'1', u'freeze_pretrained_embedding': u'true', u'pretrained_embedding_file': u''}]\u001b[0m\n",
      "\u001b[34m[05/23/2020 12:40:51 INFO 140395645454144] output_layer is set to mean_squared_error. Ignoring the hyperparameter 'num_classes'.\u001b[0m\n",
      "\u001b[34m[05/23/2020 12:40:51 INFO 140395645454144] Inconsistent enc_dim and token_embedding_dim found for token-embedding-encoder: 1024 vs 300. Setting token embedding dim to be 1024\u001b[0m\n",
      "\u001b[34m[05/23/2020 12:40:51 INFO 140395645454144] Inconsistent enc_dim and token_embedding_dim found for token-embedding-encoder: 1024 vs 300. Setting token embedding dim to be 1024\u001b[0m\n",
      "\u001b[34m[05/23/2020 12:40:51 INFO 140395645454144] Encoder configs: [{'vocab_size': 944, 'enc_index': 0, 'pretrained_embedding_file_path': None, 'vocab_dict': None, 'token_embedding_dim': 1024, 'vocab_file': '', 'freeze_pretrained_embedding': True, 'num_layers': 1, 'is_train': True, 'dropout': 0.0, 'pretrained_embedding_file': ''}, {'vocab_size': 1684, 'enc_index': 1, 'pretrained_embedding_file_path': None, 'vocab_dict': None, 'token_embedding_dim': 1024, 'vocab_file': '', 'freeze_pretrained_embedding': True, 'num_layers': 1, 'is_train': True, 'dropout': 0.0, 'pretrained_embedding_file': ''}]\u001b[0m\n",
      "\u001b[34m[05/23/2020 12:40:51 INFO 140395645454144] Config: {'comparator_list': ['hadamard', 'concat', 'abs_diff'], 'epochs': 20, 'mini_batch_size': 64, 'optimizer': 'adam', 'output_layer': 'mean_squared_error', 'token_embedding_storage_type': 'dense', 'mlp_dim': 256, 'early_stopping_tolerance': 0.01, 'dropout': 0.0, 'bucket_width': 0, 'enc_dim': 1024, 'negative_sampling_rate': 0, 'early_stopping_patience': 3, 'learning_rate': 0.001, 'max_seq_lens': [1, 1], 'tied_token_embedding_weight': False, 'enc_configs': [{'vocab_size': 944, 'enc_index': 0, 'pretrained_embedding_file_path': None, 'vocab_dict': None, 'token_embedding_dim': 1024, 'vocab_file': '', 'freeze_pretrained_embedding': True, 'num_layers': 1, 'is_train': True, 'dropout': 0.0, 'pretrained_embedding_file': ''}, {'vocab_size': 1684, 'enc_index': 1, 'pretrained_embedding_file_path': None, 'vocab_dict': None, 'token_embedding_dim': 1024, 'vocab_file': '', 'freeze_pretrained_embedding': True, 'num_layers': 1, 'is_train': True, 'dropout': 0.0, 'pretrained_embedding_file': ''}], 'mlp_layers': 1, 'weight_decay': 0.0, 'mlp_activation': 'tanh', 'num_classes': None}\u001b[0m\n",
      "\u001b[34m[05/23/2020 12:40:51 INFO 140395645454144] use bucketing: False\u001b[0m\n",
      "\u001b[34m[05/23/2020 12:40:51 INFO 140395645454144] Creating data iterator for /opt/ml/input/data/validation\u001b[0m\n",
      "\u001b[34m[05/23/2020 12:40:51 INFO 140395645454144] Source words: 9430\u001b[0m\n",
      "\u001b[34m[05/23/2020 12:40:51 INFO 140395645454144] Target words: 9430\u001b[0m\n",
      "\u001b[34m[05/23/2020 12:40:51 INFO 140395645454144] Total: 9430 samples in 1 buckets\u001b[0m\n",
      "\u001b[34m[05/23/2020 12:40:51 INFO 140395645454144] Bucket of (1, 1) : 9430 samples in 147 batches of 64, approx 64.0 words/batch\u001b[0m\n",
      "\u001b[34m[05/23/2020 12:40:51 INFO 140395645454144] 0 sentence pairs discarded\u001b[0m\n",
      "\u001b[34m[05/23/2020 12:40:51 INFO 140395645454144] fill up mode: replicate\u001b[0m\n",
      "\u001b[34m[05/23/2020 12:40:51 INFO 140395645454144] \u001b[0m\n",
      "\u001b[34m[05/23/2020 12:40:51 INFO 140395645454144] Negative sampling not used\u001b[0m\n",
      "\u001b[34m[05/23/2020 12:40:51 INFO 140395645454144] Replicating 42 random sentences from bucket (1, 1) to size it to multiple of 64\u001b[0m\n",
      "\u001b[34m[05/23/2020 12:40:51 INFO 140395645454144] Parameters of encoders: [{u'layers': u'auto', u'vocab_size': u'944', u'network': u'pooled_embedding', u'vocab_file': u'', u'cnn_filter_width': u'3', u'token_embedding_dim': u'300', u'max_seq_len': u'1', u'freeze_pretrained_embedding': u'true', u'pretrained_embedding_file': u''}, {u'layers': u'auto', u'vocab_size': u'1684', u'network': u'pooled_embedding', u'vocab_file': u'', u'cnn_filter_width': 3, u'token_embedding_dim': u'300', u'max_seq_len': u'1', u'freeze_pretrained_embedding': u'true', u'pretrained_embedding_file': u''}]\u001b[0m\n",
      "\u001b[34m[05/23/2020 12:40:51 INFO 140395645454144] output_layer is set to mean_squared_error. Ignoring the hyperparameter 'num_classes'.\u001b[0m\n",
      "\u001b[34m[05/23/2020 12:40:51 INFO 140395645454144] Inconsistent enc_dim and token_embedding_dim found for token-embedding-encoder: 1024 vs 300. Setting token embedding dim to be 1024\u001b[0m\n",
      "\u001b[34m[05/23/2020 12:40:51 INFO 140395645454144] Inconsistent enc_dim and token_embedding_dim found for token-embedding-encoder: 1024 vs 300. Setting token embedding dim to be 1024\u001b[0m\n",
      "\u001b[34m[05/23/2020 12:40:51 INFO 140395645454144] Encoder configs: [{'vocab_size': 944, 'enc_index': 0, 'pretrained_embedding_file_path': None, 'vocab_dict': None, 'token_embedding_dim': 1024, 'vocab_file': '', 'freeze_pretrained_embedding': True, 'num_layers': 1, 'is_train': True, 'dropout': 0.0, 'pretrained_embedding_file': ''}, {'vocab_size': 1684, 'enc_index': 1, 'pretrained_embedding_file_path': None, 'vocab_dict': None, 'token_embedding_dim': 1024, 'vocab_file': '', 'freeze_pretrained_embedding': True, 'num_layers': 1, 'is_train': True, 'dropout': 0.0, 'pretrained_embedding_file': ''}]\u001b[0m\n",
      "\u001b[34m[05/23/2020 12:40:51 INFO 140395645454144] Config: {'comparator_list': ['hadamard', 'concat', 'abs_diff'], 'epochs': 20, 'mini_batch_size': 64, 'optimizer': 'adam', 'output_layer': 'mean_squared_error', 'token_embedding_storage_type': 'dense', 'mlp_dim': 256, 'early_stopping_tolerance': 0.01, 'dropout': 0.0, 'bucket_width': 0, 'enc_dim': 1024, 'negative_sampling_rate': 0, 'early_stopping_patience': 3, 'learning_rate': 0.001, 'max_seq_lens': [1, 1], 'tied_token_embedding_weight': False, 'enc_configs': [{'vocab_size': 944, 'enc_index': 0, 'pretrained_embedding_file_path': None, 'vocab_dict': None, 'token_embedding_dim': 1024, 'vocab_file': '', 'freeze_pretrained_embedding': True, 'num_layers': 1, 'is_train': True, 'dropout': 0.0, 'pretrained_embedding_file': ''}, {'vocab_size': 1684, 'enc_index': 1, 'pretrained_embedding_file_path': None, 'vocab_dict': None, 'token_embedding_dim': 1024, 'vocab_file': '', 'freeze_pretrained_embedding': True, 'num_layers': 1, 'is_train': True, 'dropout': 0.0, 'pretrained_embedding_file': ''}], 'mlp_layers': 1, 'weight_decay': 0.0, 'mlp_activation': 'tanh', 'num_classes': None}\u001b[0m\n",
      "\u001b[34m[05/23/2020 12:40:51 INFO 140395645454144] Creating new state\u001b[0m\n",
      "\u001b[34m[05/23/2020 12:40:51 INFO 140395645454144] params {u'comparator_list': u'hadamard, concat, abs_diff', u'enc0_vocab_file': u'', u'output_layer': u'mean_squared_error', u'enc0_cnn_filter_width': u'3', u'epochs': u'20', u'mlp_dim': u'256', u'enc0_freeze_pretrained_embedding': u'true', u'mlp_layers': u'1', u'_num_kv_servers': u'auto', u'weight_decay': 0, u'enc0_pretrained_embedding_file': u'', u'enc0_max_seq_len': u'1', u'token_embedding_storage_type': u'dense', u'enc0_token_embedding_dim': u'300', u'tied_token_embedding_weight': u'false', u'learning_rate': u'0.001', u'enc1_cnn_filter_width': 3, u'negative_sampling_rate': 0, u'enc0_network': u'pooled_embedding', u'enc1_layers': u'auto', u'early_stopping_patience': u'3', u'optimizer': u'adam', u'enc1_max_seq_len': u'1', u'_tuning_objective_metric': u'', u'early_stopping_tolerance': u'0.01', u'dropout': 0, u'bucket_width': u'0', u'enc_dim': u'1024', 'default_bucket_key': (1, 1), u'enc1_vocab_file': u'', u'enc1_freeze_pretrained_embedding': u'true', u'enc0_layers': u'auto', u'mini_batch_size': u'64', u'enc1_pretrained_embedding_file': u'', u'num_classes': u'2', u'_num_gpus': u'auto', u'enc1_token_embedding_dim': u'300', u'mlp_activation': u'tanh', u'enc1_network': u'pooled_embedding', u'_kvstore': u'device', u'enc1_vocab_size': u'1684', u'enc0_vocab_size': u'944'}\u001b[0m\n",
      "\u001b[34m[05/23/2020 12:40:51 INFO 140395645454144] default_bucket_key (1, 1)\u001b[0m\n",
      "\u001b[34m[05/23/2020 12:40:51 INFO 140395645454144] nvidia-smi took: 0.0754580497742 secs to identify 1 gpus\u001b[0m\n",
      "\u001b[34m[05/23/2020 12:40:51 INFO 140395645454144] Number of GPUs being used: 1\u001b[0m\n",
      "\u001b[34m[05/23/2020 12:40:51 INFO 140395645454144] context [gpu(0)]\u001b[0m\n",
      "\u001b[34m[05/23/2020 12:40:51 INFO 140395645454144] Create Store: device\u001b[0m\n",
      "\u001b[34m[05/23/2020 12:40:51 INFO 140395645454144] Number of GPUs being used: 1\u001b[0m\n",
      "\u001b[34m[05/23/2020 12:40:51 WARNING 140395645454144] dense token embedding is used in a multi-gpu setting...consider changing 'token_embedding_storage_type' to 'row_sparse'\u001b[0m\n",
      "\u001b[34m[05/23/2020 12:40:51 INFO 140395645454144] data_names: ['source', 'target']\u001b[0m\n",
      "\u001b[34m[05/23/2020 12:40:51 INFO 140395645454144] label_names: ['out_layer_label']\u001b[0m\n",
      "\u001b[34m________________________________________________________________________________________________________________________\u001b[0m\n",
      "\u001b[34mLayer (type)                                        Output Shape            Param #     Previous Layer                  \u001b[0m\n",
      "\u001b[34m========================================================================================================================\u001b[0m\n",
      "\u001b[34msource(null)                                        1                       0                                           \u001b[0m\n",
      "\u001b[34m________________________________________________________________________________________________________________________\u001b[0m\n",
      "\u001b[34membed_0(Embedding)                                  1x1024                  0           source                          \u001b[0m\n",
      "\u001b[34m________________________________________________________________________________________________________________________\u001b[0m\n",
      "\u001b[34m_not_equal_scalar0(_not_equal_scalar)               1                       0           source                          \u001b[0m\n",
      "\u001b[34m________________________________________________________________________________________________________________________\u001b[0m\n",
      "\u001b[34mreshape0(Reshape)                                   1x1                     0           _not_equal_scalar0              \u001b[0m\n",
      "\u001b[34m________________________________________________________________________________________________________________________\u001b[0m\n",
      "\u001b[34mbroadcast_mul0(broadcast_mul)                       1x1024                  0           embed_0                         \n",
      "                                                                                        reshape0                        \u001b[0m\n",
      "\u001b[34m________________________________________________________________________________________________________________________\u001b[0m\n",
      "\u001b[34msum0(sum)                                           1024                    0           broadcast_mul0                  \u001b[0m\n",
      "\u001b[34m________________________________________________________________________________________________________________________\u001b[0m\n",
      "\u001b[34msum1(sum)                                           1                       0           reshape0                        \u001b[0m\n",
      "\u001b[34m________________________________________________________________________________________________________________________\u001b[0m\n",
      "\u001b[34mzeros_like0(zeros_like)                             1                       0           sum1                            \u001b[0m\n",
      "\u001b[34m________________________________________________________________________________________________________________________\u001b[0m\n",
      "\u001b[34m_equal0(_equal)                                     1                       0           sum1                            \n",
      "                                                                                        zeros_like0                     \u001b[0m\n",
      "\u001b[34m________________________________________________________________________________________________________________________\u001b[0m\n",
      "\u001b[34m_plus0(elemwise_add)                                1                       0           sum1                            \n",
      "                                                                                        _equal0                         \u001b[0m\n",
      "\u001b[34m________________________________________________________________________________________________________________________\u001b[0m\n",
      "\u001b[34mbroadcast_div0(broadcast_div)                       1024                    0           sum0                            \n",
      "                                                                                        _plus0                          \u001b[0m\n",
      "\u001b[34m________________________________________________________________________________________________________________________\u001b[0m\n",
      "\u001b[34mdropout0(Dropout)                                   1024                    0           broadcast_div0                  \u001b[0m\n",
      "\u001b[34m________________________________________________________________________________________________________________________\u001b[0m\n",
      "\u001b[34membed_1(Embedding)                                  1x1024                  0                                           \u001b[0m\n",
      "\u001b[34m________________________________________________________________________________________________________________________\u001b[0m\n",
      "\u001b[34m_not_equal_scalar1(_not_equal_scalar)               1                       0                                           \u001b[0m\n",
      "\u001b[34m________________________________________________________________________________________________________________________\u001b[0m\n",
      "\u001b[34mreshape1(Reshape)                                   1x1                     0           _not_equal_scalar1              \u001b[0m\n",
      "\u001b[34m________________________________________________________________________________________________________________________\u001b[0m\n",
      "\u001b[34mbroadcast_mul1(broadcast_mul)                       1x1024                  0           embed_1                         \n",
      "                                                                                        reshape1                        \u001b[0m\n",
      "\u001b[34m________________________________________________________________________________________________________________________\u001b[0m\n",
      "\u001b[34msum2(sum)                                           1024                    0           broadcast_mul1                  \u001b[0m\n",
      "\u001b[34m________________________________________________________________________________________________________________________\u001b[0m\n",
      "\u001b[34msum3(sum)                                           1                       0           reshape1                        \u001b[0m\n",
      "\u001b[34m________________________________________________________________________________________________________________________\u001b[0m\n",
      "\u001b[34mzeros_like1(zeros_like)                             1                       0           sum3                            \u001b[0m\n",
      "\u001b[34m________________________________________________________________________________________________________________________\u001b[0m\n",
      "\u001b[34m_equal1(_equal)                                     1                       0           sum3                            \n",
      "                                                                                        zeros_like1                     \u001b[0m\n",
      "\u001b[34m________________________________________________________________________________________________________________________\u001b[0m\n",
      "\u001b[34m_plus1(elemwise_add)                                1                       0           sum3                            \n",
      "                                                                                        _equal1                         \u001b[0m\n",
      "\u001b[34m________________________________________________________________________________________________________________________\u001b[0m\n",
      "\u001b[34mbroadcast_div1(broadcast_div)                       1024                    0           sum2                            \n",
      "                                                                                        _plus1                          \u001b[0m\n",
      "\u001b[34m________________________________________________________________________________________________________________________\u001b[0m\n",
      "\u001b[34mdropout1(Dropout)                                   1024                    0           broadcast_div1                  \u001b[0m\n",
      "\u001b[34m________________________________________________________________________________________________________________________\u001b[0m\n",
      "\u001b[34m_mul0(elemwise_mul)                                 1024                    0           dropout0                        \n",
      "                                                                                        dropout1                        \u001b[0m\n",
      "\u001b[34m________________________________________________________________________________________________________________________\u001b[0m\n",
      "\u001b[34m_minus0(elemwise_sub)                               1024                    0           dropout0                        \n",
      "                                                                                        dropout1                        \u001b[0m\n",
      "\u001b[34m________________________________________________________________________________________________________________________\u001b[0m\n",
      "\u001b[34mabs0(abs)                                           1024                    0           _minus0                         \u001b[0m\n",
      "\u001b[34m________________________________________________________________________________________________________________________\u001b[0m\n",
      "\u001b[34mconcat0(Concat)                                     4096                    0           _mul0                           \n",
      "                                                                                        dropout0                        \n",
      "                                                                                        dropout1                        \n",
      "                                                                                        abs0                            \u001b[0m\n",
      "\u001b[34m________________________________________________________________________________________________________________________\u001b[0m\n",
      "\u001b[34mmlp_fc0(FullyConnected)                             256                     1048832     concat0                         \u001b[0m\n",
      "\u001b[34m________________________________________________________________________________________________________________________\u001b[0m\n",
      "\u001b[34mactivation0(Activation)                             256                     0           mlp_fc0                         \u001b[0m\n",
      "\u001b[34m________________________________________________________________________________________________________________________\u001b[0m\n",
      "\u001b[34mdropout2(Dropout)                                   256                     0           activation0                     \u001b[0m\n",
      "\u001b[34m________________________________________________________________________________________________________________________\u001b[0m\n",
      "\u001b[34moutput_layer(FullyConnected)                        1                       257         dropout2                        \u001b[0m\n",
      "\u001b[34m________________________________________________________________________________________________________________________\u001b[0m\n",
      "\u001b[34mout_layer(LinearRegressionOutput)                   1                       0           output_layer                    \u001b[0m\n",
      "\u001b[34m========================================================================================================================\u001b[0m\n",
      "\u001b[34mTotal params: 1049089\u001b[0m\n",
      "\u001b[34m________________________________________________________________________________________________________________________\u001b[0m\n",
      "\u001b[34m[05/23/2020 12:40:51 INFO 140395645454144] data_shapes [DataDesc[source,(64, 1),<type 'numpy.float32'>,NTC], DataDesc[target,(64, 1),<type 'numpy.float32'>,NTC]]\u001b[0m\n",
      "\u001b[34m[05/23/2020 12:40:51 INFO 140395645454144] label_shapes [DataDesc[out_layer_label,(64,),<type 'numpy.float32'>,NTC]]\u001b[0m\n",
      "\u001b[34m[05/23/2020 12:40:51 INFO 140395645454144] fixed_param_names: []\u001b[0m\n",
      "\u001b[34m[05/23/2020 12:40:51 INFO 140395645454144] Initialized BucketingPlus Module\u001b[0m\n",
      "\u001b[34m[05/23/2020 12:40:55 INFO 140395645454144] arg_params keys for module initialization: []\u001b[0m\n",
      "\u001b[34m[05/23/2020 12:40:55 INFO 140395645454144] all params:['output_layer_weight', 'mlp_fc0_weight', 'mlp_fc0_bias', 'output_layer_bias', 'embed_1_weight', 'embed_0_weight']\u001b[0m\n",
      "\u001b[34m#metrics {\"Metrics\": {\"initialize.time\": {\"count\": 1, \"max\": 3824.115991592407, \"sum\": 3824.115991592407, \"min\": 3824.115991592407}}, \"EndTime\": 1590237655.482354, \"Dimensions\": {\"Host\": \"algo-1\", \"Operation\": \"training\", \"Algorithm\": \"ObjectToVec\"}, \"StartTime\": 1590237648.667347}\n",
      "\u001b[0m\n",
      "\u001b[34m#metrics {\"Metrics\": {\"Max Batches Seen Between Resets\": {\"count\": 1, \"max\": 0, \"sum\": 0.0, \"min\": 0}, \"Number of Batches Since Last Reset\": {\"count\": 1, \"max\": 0, \"sum\": 0.0, \"min\": 0}, \"Number of Records Since Last Reset\": {\"count\": 1, \"max\": 0, \"sum\": 0.0, \"min\": 0}, \"Total Batches Seen\": {\"count\": 1, \"max\": 0, \"sum\": 0.0, \"min\": 0}, \"Total Records Seen\": {\"count\": 1, \"max\": 0, \"sum\": 0.0, \"min\": 0}, \"Max Records Seen Between Resets\": {\"count\": 1, \"max\": 0, \"sum\": 0.0, \"min\": 0}, \"Reset Count\": {\"count\": 1, \"max\": 0, \"sum\": 0.0, \"min\": 0}}, \"EndTime\": 1590237655.482669, \"Dimensions\": {\"Host\": \"algo-1\", \"Meta\": \"init_train_data_iter\", \"Operation\": \"training\", \"Algorithm\": \"ObjectToVec\"}, \"StartTime\": 1590237655.482607}\n",
      "\u001b[0m\n",
      "\u001b[34m[05/23/2020 12:40:55 INFO 140395645454144] Epoch: 0, batches: 100, num_examples: 6400, 15348.6 samples/sec, epoch time so far: 0:00:00.416975\u001b[0m\n",
      "\u001b[34m[05/23/2020 12:40:55 INFO 140395645454144] #011Training metrics: mean_squared_error: 1.592 mean_absolute_error: 0.985 \u001b[0m\n",
      "\u001b[34m[05/23/2020 12:40:56 INFO 140395645454144] Epoch: 0, batches: 200, num_examples: 12800, 15768.9 samples/sec, epoch time so far: 0:00:00.811723\u001b[0m\n",
      "\u001b[34m[05/23/2020 12:40:56 INFO 140395645454144] #011Training metrics: mean_squared_error: 1.355 mean_absolute_error: 0.916 \u001b[0m\n",
      "\u001b[34m[05/23/2020 12:40:56 INFO 140395645454144] Epoch: 0, batches: 300, num_examples: 19200, 15972.9 samples/sec, epoch time so far: 0:00:01.202038\u001b[0m\n",
      "\u001b[34m[05/23/2020 12:40:56 INFO 140395645454144] #011Training metrics: mean_squared_error: 1.259 mean_absolute_error: 0.883 \u001b[0m\n",
      "\u001b[34m[05/23/2020 12:40:57 INFO 140395645454144] Epoch: 0, batches: 400, num_examples: 25600, 16062.8 samples/sec, epoch time so far: 0:00:01.593744\u001b[0m\n",
      "\u001b[34m[05/23/2020 12:40:57 INFO 140395645454144] #011Training metrics: mean_squared_error: 1.199 mean_absolute_error: 0.863 \u001b[0m\n",
      "\u001b[34m[05/23/2020 12:40:57 INFO 140395645454144] Epoch: 0, batches: 500, num_examples: 32000, 16120.0 samples/sec, epoch time so far: 0:00:01.985109\u001b[0m\n",
      "\u001b[34m[05/23/2020 12:40:57 INFO 140395645454144] #011Training metrics: mean_squared_error: 1.161 mean_absolute_error: 0.850 \u001b[0m\n",
      "\u001b[34m[05/23/2020 12:40:57 INFO 140395645454144] Epoch: 0, batches: 600, num_examples: 38400, 16142.1 samples/sec, epoch time so far: 0:00:02.378874\u001b[0m\n",
      "\u001b[34m[05/23/2020 12:40:57 INFO 140395645454144] #011Training metrics: mean_squared_error: 1.128 mean_absolute_error: 0.838 \u001b[0m\n",
      "\u001b[34m[05/23/2020 12:40:58 INFO 140395645454144] Epoch: 0, batches: 700, num_examples: 44800, 16178.1 samples/sec, epoch time so far: 0:00:02.769174\u001b[0m\n",
      "\u001b[34m[05/23/2020 12:40:58 INFO 140395645454144] #011Training metrics: mean_squared_error: 1.107 mean_absolute_error: 0.831 \u001b[0m\n",
      "\u001b[34m[05/23/2020 12:40:58 INFO 140395645454144] Epoch: 0, batches: 800, num_examples: 51200, 16206.6 samples/sec, epoch time so far: 0:00:03.159203\u001b[0m\n",
      "\u001b[34m[05/23/2020 12:40:58 INFO 140395645454144] #011Training metrics: mean_squared_error: 1.091 mean_absolute_error: 0.825 \u001b[0m\n",
      "\u001b[34m[05/23/2020 12:40:59 INFO 140395645454144] Epoch: 0, batches: 900, num_examples: 57600, 16225.0 samples/sec, epoch time so far: 0:00:03.550084\u001b[0m\n",
      "\u001b[34m[05/23/2020 12:40:59 INFO 140395645454144] #011Training metrics: mean_squared_error: 1.074 mean_absolute_error: 0.819 \u001b[0m\n",
      "\u001b[34m[05/23/2020 12:40:59 INFO 140395645454144] Epoch: 0, batches: 1000, num_examples: 64000, 16241.2 samples/sec, epoch time so far: 0:00:03.940605\u001b[0m\n",
      "\u001b[34m[05/23/2020 12:40:59 INFO 140395645454144] #011Training metrics: mean_squared_error: 1.062 mean_absolute_error: 0.815 \u001b[0m\n",
      "\u001b[34m[05/23/2020 12:40:59 INFO 140395645454144] Epoch: 0, batches: 1100, num_examples: 70400, 16228.9 samples/sec, epoch time so far: 0:00:04.337937\u001b[0m\n",
      "\u001b[34m[05/23/2020 12:40:59 INFO 140395645454144] #011Training metrics: mean_squared_error: 1.051 mean_absolute_error: 0.811 \u001b[0m\n",
      "\u001b[34m[05/23/2020 12:41:00 INFO 140395645454144] Epoch: 0, batches: 1200, num_examples: 76800, 16245.1 samples/sec, epoch time so far: 0:00:04.727568\u001b[0m\n",
      "\u001b[34m[05/23/2020 12:41:00 INFO 140395645454144] #011Training metrics: mean_squared_error: 1.038 mean_absolute_error: 0.806 \u001b[0m\n",
      "\u001b[34m[05/23/2020 12:41:00 INFO 140395645454144] Epoch: 0, batches: 1300, num_examples: 83200, 16198.8 samples/sec, epoch time so far: 0:00:05.136176\u001b[0m\n",
      "\u001b[34m[05/23/2020 12:41:00 INFO 140395645454144] #011Training metrics: mean_squared_error: 1.031 mean_absolute_error: 0.803 \u001b[0m\n",
      "\n",
      "2020-05-23 12:40:44 Training - Training image download completed. Training in progress.\u001b[34m[05/23/2020 12:41:01 INFO 140395645454144] Epoch: 0, batches: 1400, num_examples: 89600, 16209.9 samples/sec, epoch time so far: 0:00:05.527497\u001b[0m\n",
      "\u001b[34m[05/23/2020 12:41:01 INFO 140395645454144] #011Training metrics: mean_squared_error: 1.021 mean_absolute_error: 0.799 \u001b[0m\n",
      "\u001b[34m[05/23/2020 12:41:01 INFO 140395645454144] **************\u001b[0m\n",
      "\u001b[34m[05/23/2020 12:41:01 INFO 140395645454144] Completed Epoch: 0, time taken: 0:00:05.590005\u001b[0m\n",
      "\u001b[34m[05/23/2020 12:41:01 INFO 140395645454144] Epoch 0 Training metrics:   mean_squared_error: 1.020 mean_absolute_error: 0.799 \u001b[0m\n",
      "\u001b[34m[05/23/2020 12:41:01 INFO 140395645454144] #quality_metric: host=algo-1, epoch=0, train mean_squared_error <loss>=1.02038081277\u001b[0m\n",
      "\u001b[34m[05/23/2020 12:41:01 INFO 140395645454144] Epoch 0 Validation metrics: mean_squared_error: 0.956 mean_absolute_error: 0.777 \u001b[0m\n",
      "\u001b[34m[05/23/2020 12:41:01 INFO 140395645454144] #quality_metric: host=algo-1, epoch=0, validation mean_squared_error <loss>=0.956042551108\u001b[0m\n",
      "\u001b[34m[05/23/2020 12:41:01 INFO 140395645454144] **************\u001b[0m\n",
      "\u001b[34m#metrics {\"Metrics\": {\"epochs\": {\"count\": 1, \"max\": 20, \"sum\": 20.0, \"min\": 20}, \"early_stop.time\": {\"count\": 1, \"max\": 0.27489662170410156, \"sum\": 0.27489662170410156, \"min\": 0.27489662170410156}, \"update.time\": {\"count\": 1, \"max\": 5782.470941543579, \"sum\": 5782.470941543579, \"min\": 5782.470941543579}}, \"EndTime\": 1590237661.331168, \"Dimensions\": {\"Host\": \"algo-1\", \"Operation\": \"training\", \"Algorithm\": \"ObjectToVec\"}, \"StartTime\": 1590237655.482426}\n",
      "\u001b[0m\n",
      "\u001b[34m[05/23/2020 12:41:01 INFO 140395645454144] #progress_metric: host=algo-1, completed 5 % of epochs\u001b[0m\n",
      "\u001b[34m#metrics {\"Metrics\": {\"Max Batches Seen Between Resets\": {\"count\": 1, \"max\": 1416, \"sum\": 1416.0, \"min\": 1416}, \"Number of Batches Since Last Reset\": {\"count\": 1, \"max\": 1416, \"sum\": 1416.0, \"min\": 1416}, \"Number of Records Since Last Reset\": {\"count\": 1, \"max\": 90624, \"sum\": 90624.0, \"min\": 90624}, \"Total Batches Seen\": {\"count\": 1, \"max\": 1416, \"sum\": 1416.0, \"min\": 1416}, \"Total Records Seen\": {\"count\": 1, \"max\": 90624, \"sum\": 90624.0, \"min\": 90624}, \"Max Records Seen Between Resets\": {\"count\": 1, \"max\": 90624, \"sum\": 90624.0, \"min\": 90624}, \"Reset Count\": {\"count\": 1, \"max\": 1, \"sum\": 1.0, \"min\": 1}}, \"EndTime\": 1590237661.331399, \"Dimensions\": {\"Host\": \"algo-1\", \"Meta\": \"training_data_iter\", \"Operation\": \"training\", \"Algorithm\": \"ObjectToVec\", \"epoch\": 0}, \"StartTime\": 1590237655.548678}\n",
      "\u001b[0m\n",
      "\u001b[34m[05/23/2020 12:41:01 INFO 140395645454144] #throughput_metric: host=algo-1, train throughput=15671.1442071 records/second\u001b[0m\n",
      "\u001b[34m[05/23/2020 12:41:01 INFO 140395645454144] Epoch: 1, batches: 100, num_examples: 6400, 16048.8 samples/sec, epoch time so far: 0:00:00.398784\u001b[0m\n",
      "\u001b[34m[05/23/2020 12:41:01 INFO 140395645454144] #011Training metrics: mean_squared_error: 0.723 mean_absolute_error: 0.670 \u001b[0m\n",
      "\u001b[34m[05/23/2020 12:41:02 INFO 140395645454144] Epoch: 1, batches: 200, num_examples: 12800, 15592.7 samples/sec, epoch time so far: 0:00:00.820896\u001b[0m\n",
      "\u001b[34m[05/23/2020 12:41:02 INFO 140395645454144] #011Training metrics: mean_squared_error: 0.720 mean_absolute_error: 0.668 \u001b[0m\n",
      "\u001b[34m[05/23/2020 12:41:02 INFO 140395645454144] Epoch: 1, batches: 300, num_examples: 19200, 15093.0 samples/sec, epoch time so far: 0:00:01.272110\u001b[0m\n",
      "\u001b[34m[05/23/2020 12:41:02 INFO 140395645454144] #011Training metrics: mean_squared_error: 0.710 mean_absolute_error: 0.663 \u001b[0m\n",
      "\u001b[34m[05/23/2020 12:41:03 INFO 140395645454144] Epoch: 1, batches: 400, num_examples: 25600, 14981.2 samples/sec, epoch time so far: 0:00:01.708806\u001b[0m\n",
      "\u001b[34m[05/23/2020 12:41:03 INFO 140395645454144] #011Training metrics: mean_squared_error: 0.705 mean_absolute_error: 0.661 \u001b[0m\n",
      "\u001b[34m[05/23/2020 12:41:03 INFO 140395645454144] Epoch: 1, batches: 500, num_examples: 32000, 15044.1 samples/sec, epoch time so far: 0:00:02.127083\u001b[0m\n",
      "\u001b[34m[05/23/2020 12:41:03 INFO 140395645454144] #011Training metrics: mean_squared_error: 0.698 mean_absolute_error: 0.657 \u001b[0m\n",
      "\u001b[34m[05/23/2020 12:41:03 INFO 140395645454144] Epoch: 1, batches: 600, num_examples: 38400, 15223.5 samples/sec, epoch time so far: 0:00:02.522417\u001b[0m\n",
      "\u001b[34m[05/23/2020 12:41:03 INFO 140395645454144] #011Training metrics: mean_squared_error: 0.692 mean_absolute_error: 0.655 \u001b[0m\n",
      "\u001b[34m[05/23/2020 12:41:04 INFO 140395645454144] Epoch: 1, batches: 700, num_examples: 44800, 15370.2 samples/sec, epoch time so far: 0:00:02.914722\u001b[0m\n",
      "\u001b[34m[05/23/2020 12:41:04 INFO 140395645454144] #011Training metrics: mean_squared_error: 0.693 mean_absolute_error: 0.655 \u001b[0m\n",
      "\u001b[34m[05/23/2020 12:41:04 INFO 140395645454144] Epoch: 1, batches: 800, num_examples: 51200, 15489.8 samples/sec, epoch time so far: 0:00:03.305394\u001b[0m\n",
      "\u001b[34m[05/23/2020 12:41:04 INFO 140395645454144] #011Training metrics: mean_squared_error: 0.685 mean_absolute_error: 0.651 \u001b[0m\n",
      "\u001b[34m[05/23/2020 12:41:05 INFO 140395645454144] Epoch: 1, batches: 900, num_examples: 57600, 15506.3 samples/sec, epoch time so far: 0:00:03.714617\u001b[0m\n",
      "\u001b[34m[05/23/2020 12:41:05 INFO 140395645454144] #011Training metrics: mean_squared_error: 0.679 mean_absolute_error: 0.648 \u001b[0m\n",
      "\u001b[34m[05/23/2020 12:41:05 INFO 140395645454144] Epoch: 1, batches: 1000, num_examples: 64000, 15587.8 samples/sec, epoch time so far: 0:00:04.105776\u001b[0m\n",
      "\u001b[34m[05/23/2020 12:41:05 INFO 140395645454144] #011Training metrics: mean_squared_error: 0.677 mean_absolute_error: 0.647 \u001b[0m\n",
      "\u001b[34m[05/23/2020 12:41:05 INFO 140395645454144] Epoch: 1, batches: 1100, num_examples: 70400, 15622.7 samples/sec, epoch time so far: 0:00:04.506260\u001b[0m\n",
      "\u001b[34m[05/23/2020 12:41:05 INFO 140395645454144] #011Training metrics: mean_squared_error: 0.672 mean_absolute_error: 0.645 \u001b[0m\n",
      "\u001b[34m[05/23/2020 12:41:06 INFO 140395645454144] Epoch: 1, batches: 1200, num_examples: 76800, 15678.8 samples/sec, epoch time so far: 0:00:04.898344\u001b[0m\n",
      "\u001b[34m[05/23/2020 12:41:06 INFO 140395645454144] #011Training metrics: mean_squared_error: 0.669 mean_absolute_error: 0.643 \u001b[0m\n",
      "\u001b[34m[05/23/2020 12:41:06 INFO 140395645454144] Epoch: 1, batches: 1300, num_examples: 83200, 15732.4 samples/sec, epoch time so far: 0:00:05.288433\u001b[0m\n",
      "\u001b[34m[05/23/2020 12:41:06 INFO 140395645454144] #011Training metrics: mean_squared_error: 0.663 mean_absolute_error: 0.640 \u001b[0m\n",
      "\u001b[34m[05/23/2020 12:41:07 INFO 140395645454144] Epoch: 1, batches: 1400, num_examples: 89600, 15772.1 samples/sec, epoch time so far: 0:00:05.680934\u001b[0m\n",
      "\u001b[34m[05/23/2020 12:41:07 INFO 140395645454144] #011Training metrics: mean_squared_error: 0.663 mean_absolute_error: 0.640 \u001b[0m\n",
      "\u001b[34m[05/23/2020 12:41:07 INFO 140395645454144] **************\u001b[0m\n",
      "\u001b[34m[05/23/2020 12:41:07 INFO 140395645454144] Completed Epoch: 1, time taken: 0:00:05.743714\u001b[0m\n",
      "\u001b[34m[05/23/2020 12:41:07 INFO 140395645454144] Epoch 1 Training metrics:   mean_squared_error: 0.663 mean_absolute_error: 0.640 \u001b[0m\n",
      "\u001b[34m[05/23/2020 12:41:07 INFO 140395645454144] #quality_metric: host=algo-1, epoch=1, train mean_squared_error <loss>=0.662892153813\u001b[0m\n",
      "\u001b[34m[05/23/2020 12:41:07 INFO 140395645454144] Epoch 1 Validation metrics: mean_squared_error: 0.996 mean_absolute_error: 0.779 \u001b[0m\n",
      "\u001b[34m[05/23/2020 12:41:07 INFO 140395645454144] #quality_metric: host=algo-1, epoch=1, validation mean_squared_error <loss>=0.995934082447\u001b[0m\n",
      "\u001b[34m[05/23/2020 12:41:07 INFO 140395645454144] **************\u001b[0m\n",
      "\u001b[34m#metrics {\"Metrics\": {\"early_stop.time\": {\"count\": 1, \"max\": 0.02193450927734375, \"sum\": 0.02193450927734375, \"min\": 0.02193450927734375}, \"update.time\": {\"count\": 1, \"max\": 5929.908037185669, \"sum\": 5929.908037185669, \"min\": 5929.908037185669}}, \"EndTime\": 1590237667.292091, \"Dimensions\": {\"Host\": \"algo-1\", \"Operation\": \"training\", \"Algorithm\": \"ObjectToVec\"}, \"StartTime\": 1590237661.331249}\n",
      "\u001b[0m\n",
      "\u001b[34m[05/23/2020 12:41:07 INFO 140395645454144] #progress_metric: host=algo-1, completed 10 % of epochs\u001b[0m\n",
      "\u001b[34m#metrics {\"Metrics\": {\"Max Batches Seen Between Resets\": {\"count\": 1, \"max\": 1416, \"sum\": 1416.0, \"min\": 1416}, \"Number of Batches Since Last Reset\": {\"count\": 1, \"max\": 1416, \"sum\": 1416.0, \"min\": 1416}, \"Number of Records Since Last Reset\": {\"count\": 1, \"max\": 90624, \"sum\": 90624.0, \"min\": 90624}, \"Total Batches Seen\": {\"count\": 1, \"max\": 2832, \"sum\": 2832.0, \"min\": 2832}, \"Total Records Seen\": {\"count\": 1, \"max\": 181248, \"sum\": 181248.0, \"min\": 181248}, \"Max Records Seen Between Resets\": {\"count\": 1, \"max\": 90624, \"sum\": 90624.0, \"min\": 90624}, \"Reset Count\": {\"count\": 1, \"max\": 2, \"sum\": 2.0, \"min\": 2}}, \"EndTime\": 1590237667.292378, \"Dimensions\": {\"Host\": \"algo-1\", \"Meta\": \"training_data_iter\", \"Operation\": \"training\", \"Algorithm\": \"ObjectToVec\", \"epoch\": 1}, \"StartTime\": 1590237661.362157}\n",
      "\u001b[0m\n",
      "\u001b[34m[05/23/2020 12:41:07 INFO 140395645454144] #throughput_metric: host=algo-1, train throughput=15281.3194383 records/second\u001b[0m\n",
      "\u001b[34m[05/23/2020 12:41:07 INFO 140395645454144] Epoch: 2, batches: 100, num_examples: 6400, 16412.3 samples/sec, epoch time so far: 0:00:00.389951\u001b[0m\n",
      "\u001b[34m[05/23/2020 12:41:07 INFO 140395645454144] #011Training metrics: mean_squared_error: 0.277 mean_absolute_error: 0.403 \u001b[0m\n",
      "\u001b[34m[05/23/2020 12:41:08 INFO 140395645454144] Epoch: 2, batches: 200, num_examples: 12800, 16347.8 samples/sec, epoch time so far: 0:00:00.782981\u001b[0m\n",
      "\u001b[34m[05/23/2020 12:41:08 INFO 140395645454144] #011Training metrics: mean_squared_error: 0.272 mean_absolute_error: 0.398 \u001b[0m\n",
      "\u001b[34m[05/23/2020 12:41:08 INFO 140395645454144] Epoch: 2, batches: 300, num_examples: 19200, 16351.7 samples/sec, epoch time so far: 0:00:01.174190\u001b[0m\n",
      "\u001b[34m[05/23/2020 12:41:08 INFO 140395645454144] #011Training metrics: mean_squared_error: 0.266 mean_absolute_error: 0.394 \u001b[0m\n",
      "\u001b[34m[05/23/2020 12:41:08 INFO 140395645454144] Epoch: 2, batches: 400, num_examples: 25600, 16364.0 samples/sec, epoch time so far: 0:00:01.564408\u001b[0m\n",
      "\u001b[34m[05/23/2020 12:41:08 INFO 140395645454144] #011Training metrics: mean_squared_error: 0.265 mean_absolute_error: 0.394 \u001b[0m\n",
      "\u001b[34m[05/23/2020 12:41:09 INFO 140395645454144] Epoch: 2, batches: 500, num_examples: 32000, 16359.9 samples/sec, epoch time so far: 0:00:01.956000\u001b[0m\n",
      "\u001b[34m[05/23/2020 12:41:09 INFO 140395645454144] #011Training metrics: mean_squared_error: 0.265 mean_absolute_error: 0.394 \u001b[0m\n",
      "\u001b[34m[05/23/2020 12:41:09 INFO 140395645454144] Epoch: 2, batches: 600, num_examples: 38400, 16362.2 samples/sec, epoch time so far: 0:00:02.346874\u001b[0m\n",
      "\u001b[34m[05/23/2020 12:41:09 INFO 140395645454144] #011Training metrics: mean_squared_error: 0.264 mean_absolute_error: 0.395 \u001b[0m\n",
      "\u001b[34m[05/23/2020 12:41:10 INFO 140395645454144] Epoch: 2, batches: 700, num_examples: 44800, 16342.2 samples/sec, epoch time so far: 0:00:02.741363\u001b[0m\n",
      "\u001b[34m[05/23/2020 12:41:10 INFO 140395645454144] #011Training metrics: mean_squared_error: 0.265 mean_absolute_error: 0.395 \u001b[0m\n",
      "\u001b[34m[05/23/2020 12:41:10 INFO 140395645454144] Epoch: 2, batches: 800, num_examples: 51200, 16347.6 samples/sec, epoch time so far: 0:00:03.131952\u001b[0m\n",
      "\u001b[34m[05/23/2020 12:41:10 INFO 140395645454144] #011Training metrics: mean_squared_error: 0.266 mean_absolute_error: 0.396 \u001b[0m\n",
      "\u001b[34m[05/23/2020 12:41:10 INFO 140395645454144] Epoch: 2, batches: 900, num_examples: 57600, 16234.2 samples/sec, epoch time so far: 0:00:03.548074\u001b[0m\n",
      "\u001b[34m[05/23/2020 12:41:10 INFO 140395645454144] #011Training metrics: mean_squared_error: 0.266 mean_absolute_error: 0.396 \u001b[0m\n",
      "\u001b[34m[05/23/2020 12:41:11 INFO 140395645454144] Epoch: 2, batches: 1000, num_examples: 64000, 16220.5 samples/sec, epoch time so far: 0:00:03.945617\u001b[0m\n",
      "\u001b[34m[05/23/2020 12:41:11 INFO 140395645454144] #011Training metrics: mean_squared_error: 0.268 mean_absolute_error: 0.397 \u001b[0m\n",
      "\u001b[34m[05/23/2020 12:41:11 INFO 140395645454144] Epoch: 2, batches: 1100, num_examples: 70400, 16236.2 samples/sec, epoch time so far: 0:00:04.335979\u001b[0m\n",
      "\u001b[34m[05/23/2020 12:41:11 INFO 140395645454144] #011Training metrics: mean_squared_error: 0.270 mean_absolute_error: 0.399 \u001b[0m\n",
      "\u001b[34m[05/23/2020 12:41:12 INFO 140395645454144] Epoch: 2, batches: 1200, num_examples: 76800, 16246.7 samples/sec, epoch time so far: 0:00:04.727110\u001b[0m\n",
      "\u001b[34m[05/23/2020 12:41:12 INFO 140395645454144] #011Training metrics: mean_squared_error: 0.271 mean_absolute_error: 0.399 \u001b[0m\n",
      "\u001b[34m[05/23/2020 12:41:12 INFO 140395645454144] Epoch: 2, batches: 1300, num_examples: 83200, 16244.9 samples/sec, epoch time so far: 0:00:05.121598\u001b[0m\n",
      "\u001b[34m[05/23/2020 12:41:12 INFO 140395645454144] #011Training metrics: mean_squared_error: 0.272 mean_absolute_error: 0.400 \u001b[0m\n",
      "\u001b[34m[05/23/2020 12:41:12 INFO 140395645454144] Epoch: 2, batches: 1400, num_examples: 89600, 16256.9 samples/sec, epoch time so far: 0:00:05.511493\u001b[0m\n",
      "\u001b[34m[05/23/2020 12:41:12 INFO 140395645454144] #011Training metrics: mean_squared_error: 0.273 mean_absolute_error: 0.402 \u001b[0m\n",
      "\u001b[34m[05/23/2020 12:41:12 INFO 140395645454144] **************\u001b[0m\n",
      "\u001b[34m[05/23/2020 12:41:12 INFO 140395645454144] Completed Epoch: 2, time taken: 0:00:05.573871\u001b[0m\n",
      "\u001b[34m[05/23/2020 12:41:12 INFO 140395645454144] Epoch 2 Training metrics:   mean_squared_error: 0.274 mean_absolute_error: 0.402 \u001b[0m\n",
      "\u001b[34m[05/23/2020 12:41:12 INFO 140395645454144] #quality_metric: host=algo-1, epoch=2, train mean_squared_error <loss>=0.273579350278\u001b[0m\n",
      "\u001b[34m[05/23/2020 12:41:13 INFO 140395645454144] Epoch 2 Validation metrics: mean_squared_error: 0.949 mean_absolute_error: 0.773 \u001b[0m\n",
      "\u001b[34m[05/23/2020 12:41:13 INFO 140395645454144] #quality_metric: host=algo-1, epoch=2, validation mean_squared_error <loss>=0.948555366816\u001b[0m\n",
      "\u001b[34m[05/23/2020 12:41:13 INFO 140395645454144] **************\u001b[0m\n",
      "\u001b[34m#metrics {\"Metrics\": {\"early_stop.time\": {\"count\": 1, \"max\": 2.7341842651367188, \"sum\": 2.7341842651367188, \"min\": 2.7341842651367188}, \"update.time\": {\"count\": 1, \"max\": 5773.7908363342285, \"sum\": 5773.7908363342285, \"min\": 5773.7908363342285}}, \"EndTime\": 1590237673.070579, \"Dimensions\": {\"Host\": \"algo-1\", \"Operation\": \"training\", \"Algorithm\": \"ObjectToVec\"}, \"StartTime\": 1590237667.292186}\n",
      "\u001b[0m\n",
      "\u001b[34m[05/23/2020 12:41:13 INFO 140395645454144] #progress_metric: host=algo-1, completed 15 % of epochs\u001b[0m\n",
      "\u001b[34m#metrics {\"Metrics\": {\"Max Batches Seen Between Resets\": {\"count\": 1, \"max\": 1416, \"sum\": 1416.0, \"min\": 1416}, \"Number of Batches Since Last Reset\": {\"count\": 1, \"max\": 1416, \"sum\": 1416.0, \"min\": 1416}, \"Number of Records Since Last Reset\": {\"count\": 1, \"max\": 90624, \"sum\": 90624.0, \"min\": 90624}, \"Total Batches Seen\": {\"count\": 1, \"max\": 4248, \"sum\": 4248.0, \"min\": 4248}, \"Total Records Seen\": {\"count\": 1, \"max\": 271872, \"sum\": 271872.0, \"min\": 271872}, \"Max Records Seen Between Resets\": {\"count\": 1, \"max\": 90624, \"sum\": 90624.0, \"min\": 90624}, \"Reset Count\": {\"count\": 1, \"max\": 3, \"sum\": 3.0, \"min\": 3}}, \"EndTime\": 1590237673.070896, \"Dimensions\": {\"Host\": \"algo-1\", \"Meta\": \"training_data_iter\", \"Operation\": \"training\", \"Algorithm\": \"ObjectToVec\", \"epoch\": 2}, \"StartTime\": 1590237667.296766}\n",
      "\u001b[0m\n",
      "\u001b[34m[05/23/2020 12:41:13 INFO 140395645454144] #throughput_metric: host=algo-1, train throughput=15694.448671 records/second\u001b[0m\n",
      "\u001b[34m[05/23/2020 12:41:13 INFO 140395645454144] Epoch: 3, batches: 100, num_examples: 6400, 16381.8 samples/sec, epoch time so far: 0:00:00.390677\u001b[0m\n",
      "\u001b[34m[05/23/2020 12:41:13 INFO 140395645454144] #011Training metrics: mean_squared_error: 0.173 mean_absolute_error: 0.304 \u001b[0m\n",
      "\u001b[34m[05/23/2020 12:41:13 INFO 140395645454144] Epoch: 3, batches: 200, num_examples: 12800, 16385.7 samples/sec, epoch time so far: 0:00:00.781168\u001b[0m\n",
      "\u001b[34m[05/23/2020 12:41:13 INFO 140395645454144] #011Training metrics: mean_squared_error: 0.170 mean_absolute_error: 0.302 \u001b[0m\n",
      "\u001b[34m[05/23/2020 12:41:14 INFO 140395645454144] Epoch: 3, batches: 300, num_examples: 19200, 16385.1 samples/sec, epoch time so far: 0:00:01.171794\u001b[0m\n",
      "\u001b[34m[05/23/2020 12:41:14 INFO 140395645454144] #011Training metrics: mean_squared_error: 0.167 mean_absolute_error: 0.300 \u001b[0m\n",
      "\u001b[34m[05/23/2020 12:41:14 INFO 140395645454144] Epoch: 3, batches: 400, num_examples: 25600, 16388.7 samples/sec, epoch time so far: 0:00:01.562056\u001b[0m\n",
      "\u001b[34m[05/23/2020 12:41:14 INFO 140395645454144] #011Training metrics: mean_squared_error: 0.165 mean_absolute_error: 0.298 \u001b[0m\n",
      "\u001b[34m[05/23/2020 12:41:15 INFO 140395645454144] Epoch: 3, batches: 500, num_examples: 32000, 16397.0 samples/sec, epoch time so far: 0:00:01.951571\u001b[0m\n",
      "\u001b[34m[05/23/2020 12:41:15 INFO 140395645454144] #011Training metrics: mean_squared_error: 0.164 mean_absolute_error: 0.297 \u001b[0m\n",
      "\u001b[34m[05/23/2020 12:41:15 INFO 140395645454144] Epoch: 3, batches: 600, num_examples: 38400, 16383.0 samples/sec, epoch time so far: 0:00:02.343892\u001b[0m\n",
      "\u001b[34m[05/23/2020 12:41:15 INFO 140395645454144] #011Training metrics: mean_squared_error: 0.162 mean_absolute_error: 0.296 \u001b[0m\n",
      "\u001b[34m[05/23/2020 12:41:15 INFO 140395645454144] Epoch: 3, batches: 700, num_examples: 44800, 16202.6 samples/sec, epoch time so far: 0:00:02.764983\u001b[0m\n",
      "\u001b[34m[05/23/2020 12:41:15 INFO 140395645454144] #011Training metrics: mean_squared_error: 0.163 mean_absolute_error: 0.297 \u001b[0m\n",
      "\u001b[34m[05/23/2020 12:41:16 INFO 140395645454144] Epoch: 3, batches: 800, num_examples: 51200, 16213.9 samples/sec, epoch time so far: 0:00:03.157793\u001b[0m\n",
      "\u001b[34m[05/23/2020 12:41:16 INFO 140395645454144] #011Training metrics: mean_squared_error: 0.162 mean_absolute_error: 0.297 \u001b[0m\n",
      "\u001b[34m[05/23/2020 12:41:16 INFO 140395645454144] Epoch: 3, batches: 900, num_examples: 57600, 16225.8 samples/sec, epoch time so far: 0:00:03.549911\u001b[0m\n",
      "\u001b[34m[05/23/2020 12:41:16 INFO 140395645454144] #011Training metrics: mean_squared_error: 0.161 mean_absolute_error: 0.296 \u001b[0m\n",
      "\u001b[34m[05/23/2020 12:41:17 INFO 140395645454144] Epoch: 3, batches: 1000, num_examples: 64000, 16241.9 samples/sec, epoch time so far: 0:00:03.940421\u001b[0m\n",
      "\u001b[34m[05/23/2020 12:41:17 INFO 140395645454144] #011Training metrics: mean_squared_error: 0.160 mean_absolute_error: 0.296 \u001b[0m\n",
      "\u001b[34m[05/23/2020 12:41:17 INFO 140395645454144] Epoch: 3, batches: 1100, num_examples: 70400, 16225.3 samples/sec, epoch time so far: 0:00:04.338907\u001b[0m\n",
      "\u001b[34m[05/23/2020 12:41:17 INFO 140395645454144] #011Training metrics: mean_squared_error: 0.160 mean_absolute_error: 0.296 \u001b[0m\n",
      "\u001b[34m[05/23/2020 12:41:17 INFO 140395645454144] Epoch: 3, batches: 1200, num_examples: 76800, 16238.9 samples/sec, epoch time so far: 0:00:04.729378\u001b[0m\n",
      "\u001b[34m[05/23/2020 12:41:17 INFO 140395645454144] #011Training metrics: mean_squared_error: 0.160 mean_absolute_error: 0.297 \u001b[0m\n",
      "\u001b[34m[05/23/2020 12:41:18 INFO 140395645454144] Epoch: 3, batches: 1300, num_examples: 83200, 16233.7 samples/sec, epoch time so far: 0:00:05.125141\u001b[0m\n",
      "\u001b[34m[05/23/2020 12:41:18 INFO 140395645454144] #011Training metrics: mean_squared_error: 0.161 mean_absolute_error: 0.298 \u001b[0m\n",
      "\u001b[34m[05/23/2020 12:41:18 INFO 140395645454144] Epoch: 3, batches: 1400, num_examples: 89600, 16246.7 samples/sec, epoch time so far: 0:00:05.514974\u001b[0m\n",
      "\u001b[34m[05/23/2020 12:41:18 INFO 140395645454144] #011Training metrics: mean_squared_error: 0.162 mean_absolute_error: 0.299 \u001b[0m\n",
      "\u001b[34m[05/23/2020 12:41:18 INFO 140395645454144] **************\u001b[0m\n",
      "\u001b[34m[05/23/2020 12:41:18 INFO 140395645454144] Completed Epoch: 3, time taken: 0:00:05.577449\u001b[0m\n",
      "\u001b[34m[05/23/2020 12:41:18 INFO 140395645454144] Epoch 3 Training metrics:   mean_squared_error: 0.162 mean_absolute_error: 0.300 \u001b[0m\n",
      "\u001b[34m[05/23/2020 12:41:18 INFO 140395645454144] #quality_metric: host=algo-1, epoch=3, train mean_squared_error <loss>=0.162368800465\u001b[0m\n",
      "\u001b[34m[05/23/2020 12:41:18 INFO 140395645454144] Epoch 3 Validation metrics: mean_squared_error: 0.953 mean_absolute_error: 0.766 \u001b[0m\n",
      "\u001b[34m[05/23/2020 12:41:18 INFO 140395645454144] #quality_metric: host=algo-1, epoch=3, validation mean_squared_error <loss>=0.953287210013\u001b[0m\n",
      "\u001b[34m[05/23/2020 12:41:18 INFO 140395645454144] **************\u001b[0m\n",
      "\u001b[34m[05/23/2020 12:41:18 INFO 140395645454144] patience losses: [0.9560425511083087, 0.9959340824468715, 0.9485553668157475]\u001b[0m\n",
      "\u001b[34m[05/23/2020 12:41:18 INFO 140395645454144] min patience losses: 0.948555366816\u001b[0m\n",
      "\u001b[34m[05/23/2020 12:41:18 INFO 140395645454144] current loss: 0.953287210013\u001b[0m\n",
      "\u001b[34m[05/23/2020 12:41:18 INFO 140395645454144] absolute loss difference: 0.00473184319767\u001b[0m\n",
      "\u001b[34m[05/23/2020 12:41:18 INFO 140395645454144] Bad epoch: loss has not improved (enough). Bad count:1\u001b[0m\n",
      "\u001b[34m#metrics {\"Metrics\": {\"early_stop.time\": {\"count\": 1, \"max\": 0.45299530029296875, \"sum\": 0.45299530029296875, \"min\": 0.45299530029296875}, \"update.time\": {\"count\": 1, \"max\": 5766.037940979004, \"sum\": 5766.037940979004, \"min\": 5766.037940979004}}, \"EndTime\": 1590237678.866153, \"Dimensions\": {\"Host\": \"algo-1\", \"Operation\": \"training\", \"Algorithm\": \"ObjectToVec\"}, \"StartTime\": 1590237673.07069}\n",
      "\u001b[0m\n",
      "\u001b[34m[05/23/2020 12:41:18 INFO 140395645454144] #progress_metric: host=algo-1, completed 20 % of epochs\u001b[0m\n",
      "\u001b[34m#metrics {\"Metrics\": {\"Max Batches Seen Between Resets\": {\"count\": 1, \"max\": 1416, \"sum\": 1416.0, \"min\": 1416}, \"Number of Batches Since Last Reset\": {\"count\": 1, \"max\": 1416, \"sum\": 1416.0, \"min\": 1416}, \"Number of Records Since Last Reset\": {\"count\": 1, \"max\": 90624, \"sum\": 90624.0, \"min\": 90624}, \"Total Batches Seen\": {\"count\": 1, \"max\": 5664, \"sum\": 5664.0, \"min\": 5664}, \"Total Records Seen\": {\"count\": 1, \"max\": 362496, \"sum\": 362496.0, \"min\": 362496}, \"Max Records Seen Between Resets\": {\"count\": 1, \"max\": 90624, \"sum\": 90624.0, \"min\": 90624}, \"Reset Count\": {\"count\": 1, \"max\": 4, \"sum\": 4.0, \"min\": 4}}, \"EndTime\": 1590237678.866413, \"Dimensions\": {\"Host\": \"algo-1\", \"Meta\": \"training_data_iter\", \"Operation\": \"training\", \"Algorithm\": \"ObjectToVec\", \"epoch\": 3}, \"StartTime\": 1590237673.100095}\n",
      "\u001b[0m\n",
      "\u001b[34m[05/23/2020 12:41:18 INFO 140395645454144] #throughput_metric: host=algo-1, train throughput=15715.6533079 records/second\u001b[0m\n",
      "\u001b[34m[05/23/2020 12:41:19 INFO 140395645454144] Epoch: 4, batches: 100, num_examples: 6400, 16295.8 samples/sec, epoch time so far: 0:00:00.392740\u001b[0m\n",
      "\u001b[34m[05/23/2020 12:41:19 INFO 140395645454144] #011Training metrics: mean_squared_error: 0.131 mean_absolute_error: 0.271 \u001b[0m\n",
      "\u001b[34m[05/23/2020 12:41:19 INFO 140395645454144] Epoch: 4, batches: 200, num_examples: 12800, 16352.3 samples/sec, epoch time so far: 0:00:00.782766\u001b[0m\n",
      "\u001b[34m[05/23/2020 12:41:19 INFO 140395645454144] #011Training metrics: mean_squared_error: 0.123 mean_absolute_error: 0.262 \u001b[0m\n",
      "\u001b[34m[05/23/2020 12:41:20 INFO 140395645454144] Epoch: 4, batches: 300, num_examples: 19200, 16375.1 samples/sec, epoch time so far: 0:00:01.172515\u001b[0m\n",
      "\u001b[34m[05/23/2020 12:41:20 INFO 140395645454144] #011Training metrics: mean_squared_error: 0.120 mean_absolute_error: 0.259 \u001b[0m\n",
      "\u001b[34m[05/23/2020 12:41:20 INFO 140395645454144] Epoch: 4, batches: 400, num_examples: 25600, 16365.4 samples/sec, epoch time so far: 0:00:01.564276\u001b[0m\n",
      "\u001b[34m[05/23/2020 12:41:20 INFO 140395645454144] #011Training metrics: mean_squared_error: 0.117 mean_absolute_error: 0.256 \u001b[0m\n",
      "\u001b[34m[05/23/2020 12:41:20 INFO 140395645454144] Epoch: 4, batches: 500, num_examples: 32000, 16230.8 samples/sec, epoch time so far: 0:00:01.971559\u001b[0m\n",
      "\u001b[34m[05/23/2020 12:41:20 INFO 140395645454144] #011Training metrics: mean_squared_error: 0.116 mean_absolute_error: 0.255 \u001b[0m\n",
      "\u001b[34m[05/23/2020 12:41:21 INFO 140395645454144] Epoch: 4, batches: 600, num_examples: 38400, 16235.2 samples/sec, epoch time so far: 0:00:02.365228\u001b[0m\n",
      "\u001b[34m[05/23/2020 12:41:21 INFO 140395645454144] #011Training metrics: mean_squared_error: 0.115 mean_absolute_error: 0.254 \u001b[0m\n",
      "\u001b[34m[05/23/2020 12:41:21 INFO 140395645454144] Epoch: 4, batches: 700, num_examples: 44800, 16259.2 samples/sec, epoch time so far: 0:00:02.755361\u001b[0m\n",
      "\u001b[34m[05/23/2020 12:41:21 INFO 140395645454144] #011Training metrics: mean_squared_error: 0.113 mean_absolute_error: 0.253 \u001b[0m\n",
      "\u001b[34m[05/23/2020 12:41:22 INFO 140395645454144] Epoch: 4, batches: 800, num_examples: 51200, 16280.9 samples/sec, epoch time so far: 0:00:03.144789\u001b[0m\n",
      "\u001b[34m[05/23/2020 12:41:22 INFO 140395645454144] #011Training metrics: mean_squared_error: 0.113 mean_absolute_error: 0.253 \u001b[0m\n",
      "\u001b[34m[05/23/2020 12:41:22 INFO 140395645454144] Epoch: 4, batches: 900, num_examples: 57600, 16288.4 samples/sec, epoch time so far: 0:00:03.536265\u001b[0m\n",
      "\u001b[34m[05/23/2020 12:41:22 INFO 140395645454144] #011Training metrics: mean_squared_error: 0.114 mean_absolute_error: 0.253 \u001b[0m\n",
      "\u001b[34m[05/23/2020 12:41:22 INFO 140395645454144] Epoch: 4, batches: 1000, num_examples: 64000, 16301.4 samples/sec, epoch time so far: 0:00:03.926044\u001b[0m\n",
      "\u001b[34m[05/23/2020 12:41:22 INFO 140395645454144] #011Training metrics: mean_squared_error: 0.113 mean_absolute_error: 0.253 \u001b[0m\n",
      "\u001b[34m[05/23/2020 12:41:23 INFO 140395645454144] Epoch: 4, batches: 1100, num_examples: 70400, 16295.1 samples/sec, epoch time so far: 0:00:04.320307\u001b[0m\n",
      "\u001b[34m[05/23/2020 12:41:23 INFO 140395645454144] #011Training metrics: mean_squared_error: 0.113 mean_absolute_error: 0.253 \u001b[0m\n",
      "\u001b[34m[05/23/2020 12:41:23 INFO 140395645454144] Epoch: 4, batches: 1200, num_examples: 76800, 16288.0 samples/sec, epoch time so far: 0:00:04.715114\u001b[0m\n",
      "\u001b[34m[05/23/2020 12:41:23 INFO 140395645454144] #011Training metrics: mean_squared_error: 0.113 mean_absolute_error: 0.253 \u001b[0m\n",
      "\u001b[34m[05/23/2020 12:41:23 INFO 140395645454144] Epoch: 4, batches: 1300, num_examples: 83200, 16296.9 samples/sec, epoch time so far: 0:00:05.105269\u001b[0m\n",
      "\u001b[34m[05/23/2020 12:41:23 INFO 140395645454144] #011Training metrics: mean_squared_error: 0.113 mean_absolute_error: 0.253 \u001b[0m\n",
      "\u001b[34m[05/23/2020 12:41:24 INFO 140395645454144] Epoch: 4, batches: 1400, num_examples: 89600, 16302.8 samples/sec, epoch time so far: 0:00:05.495978\u001b[0m\n",
      "\u001b[34m[05/23/2020 12:41:24 INFO 140395645454144] #011Training metrics: mean_squared_error: 0.114 mean_absolute_error: 0.254 \u001b[0m\n",
      "\u001b[34m[05/23/2020 12:41:24 INFO 140395645454144] **************\u001b[0m\n",
      "\u001b[34m[05/23/2020 12:41:24 INFO 140395645454144] Completed Epoch: 4, time taken: 0:00:05.558362\u001b[0m\n",
      "\u001b[34m[05/23/2020 12:41:24 INFO 140395645454144] Epoch 4 Training metrics:   mean_squared_error: 0.114 mean_absolute_error: 0.254 \u001b[0m\n",
      "\u001b[34m[05/23/2020 12:41:24 INFO 140395645454144] #quality_metric: host=algo-1, epoch=4, train mean_squared_error <loss>=0.113566303065\u001b[0m\n",
      "\u001b[34m[05/23/2020 12:41:24 INFO 140395645454144] Epoch 4 Validation metrics: mean_squared_error: 0.939 mean_absolute_error: 0.761 \u001b[0m\n",
      "\u001b[34m[05/23/2020 12:41:24 INFO 140395645454144] #quality_metric: host=algo-1, epoch=4, validation mean_squared_error <loss>=0.938655691775\u001b[0m\n",
      "\u001b[34m[05/23/2020 12:41:24 INFO 140395645454144] **************\u001b[0m\n",
      "\u001b[34m[05/23/2020 12:41:24 INFO 140395645454144] patience losses: [0.9959340824468715, 0.9485553668157475, 0.9532872100134153]\u001b[0m\n",
      "\u001b[34m[05/23/2020 12:41:24 INFO 140395645454144] min patience losses: 0.948555366816\u001b[0m\n",
      "\u001b[34m[05/23/2020 12:41:24 INFO 140395645454144] current loss: 0.938655691775\u001b[0m\n",
      "\u001b[34m[05/23/2020 12:41:24 INFO 140395645454144] absolute loss difference: 0.00989967504063\u001b[0m\n",
      "\u001b[34m[05/23/2020 12:41:24 INFO 140395645454144] Bad epoch: loss has not improved (enough). Bad count:2\u001b[0m\n",
      "\u001b[34m#metrics {\"Metrics\": {\"early_stop.time\": {\"count\": 1, \"max\": 3.520965576171875, \"sum\": 3.520965576171875, \"min\": 3.520965576171875}, \"update.time\": {\"count\": 1, \"max\": 5745.77522277832, \"sum\": 5745.77522277832, \"min\": 5745.77522277832}}, \"EndTime\": 1590237684.616679, \"Dimensions\": {\"Host\": \"algo-1\", \"Operation\": \"training\", \"Algorithm\": \"ObjectToVec\"}, \"StartTime\": 1590237678.866236}\n",
      "\u001b[0m\n",
      "\u001b[34m[05/23/2020 12:41:24 INFO 140395645454144] #progress_metric: host=algo-1, completed 25 % of epochs\u001b[0m\n",
      "\u001b[34m#metrics {\"Metrics\": {\"Max Batches Seen Between Resets\": {\"count\": 1, \"max\": 1416, \"sum\": 1416.0, \"min\": 1416}, \"Number of Batches Since Last Reset\": {\"count\": 1, \"max\": 1416, \"sum\": 1416.0, \"min\": 1416}, \"Number of Records Since Last Reset\": {\"count\": 1, \"max\": 90624, \"sum\": 90624.0, \"min\": 90624}, \"Total Batches Seen\": {\"count\": 1, \"max\": 7080, \"sum\": 7080.0, \"min\": 7080}, \"Total Records Seen\": {\"count\": 1, \"max\": 453120, \"sum\": 453120.0, \"min\": 453120}, \"Max Records Seen Between Resets\": {\"count\": 1, \"max\": 90624, \"sum\": 90624.0, \"min\": 90624}, \"Reset Count\": {\"count\": 1, \"max\": 5, \"sum\": 5.0, \"min\": 5}}, \"EndTime\": 1590237684.61697, \"Dimensions\": {\"Host\": \"algo-1\", \"Meta\": \"training_data_iter\", \"Operation\": \"training\", \"Algorithm\": \"ObjectToVec\", \"epoch\": 4}, \"StartTime\": 1590237678.87088}\n",
      "\u001b[0m\n",
      "\u001b[34m[05/23/2020 12:41:24 INFO 140395645454144] #throughput_metric: host=algo-1, train throughput=15771.0578702 records/second\u001b[0m\n",
      "\u001b[34m[05/23/2020 12:41:25 INFO 140395645454144] Epoch: 5, batches: 100, num_examples: 6400, 16400.4 samples/sec, epoch time so far: 0:00:00.390234\u001b[0m\n",
      "\u001b[34m[05/23/2020 12:41:25 INFO 140395645454144] #011Training metrics: mean_squared_error: 0.097 mean_absolute_error: 0.239 \u001b[0m\n",
      "\u001b[34m[05/23/2020 12:41:25 INFO 140395645454144] Epoch: 5, batches: 200, num_examples: 12800, 16344.1 samples/sec, epoch time so far: 0:00:00.783155\u001b[0m\n",
      "\u001b[34m[05/23/2020 12:41:25 INFO 140395645454144] #011Training metrics: mean_squared_error: 0.093 mean_absolute_error: 0.235 \u001b[0m\n",
      "\u001b[34m[05/23/2020 12:41:25 INFO 140395645454144] Epoch: 5, batches: 300, num_examples: 19200, 16168.5 samples/sec, epoch time so far: 0:00:01.187498\u001b[0m\n",
      "\u001b[34m[05/23/2020 12:41:25 INFO 140395645454144] #011Training metrics: mean_squared_error: 0.091 mean_absolute_error: 0.233 \u001b[0m\n",
      "\u001b[34m[05/23/2020 12:41:26 INFO 140395645454144] Epoch: 5, batches: 400, num_examples: 25600, 16192.4 samples/sec, epoch time so far: 0:00:01.580984\u001b[0m\n",
      "\u001b[34m[05/23/2020 12:41:26 INFO 140395645454144] #011Training metrics: mean_squared_error: 0.090 mean_absolute_error: 0.232 \u001b[0m\n",
      "\u001b[34m[05/23/2020 12:41:26 INFO 140395645454144] Epoch: 5, batches: 500, num_examples: 32000, 16216.6 samples/sec, epoch time so far: 0:00:01.973291\u001b[0m\n",
      "\u001b[34m[05/23/2020 12:41:26 INFO 140395645454144] #011Training metrics: mean_squared_error: 0.090 mean_absolute_error: 0.231 \u001b[0m\n",
      "\u001b[34m[05/23/2020 12:41:26 INFO 140395645454144] Epoch: 5, batches: 600, num_examples: 38400, 16244.4 samples/sec, epoch time so far: 0:00:02.363890\u001b[0m\n",
      "\u001b[34m[05/23/2020 12:41:26 INFO 140395645454144] #011Training metrics: mean_squared_error: 0.090 mean_absolute_error: 0.231 \u001b[0m\n",
      "\u001b[34m[05/23/2020 12:41:27 INFO 140395645454144] Epoch: 5, batches: 700, num_examples: 44800, 16250.2 samples/sec, epoch time so far: 0:00:02.756882\u001b[0m\n",
      "\u001b[34m[05/23/2020 12:41:27 INFO 140395645454144] #011Training metrics: mean_squared_error: 0.089 mean_absolute_error: 0.231 \u001b[0m\n",
      "\u001b[34m[05/23/2020 12:41:27 INFO 140395645454144] Epoch: 5, batches: 800, num_examples: 51200, 16266.6 samples/sec, epoch time so far: 0:00:03.147551\u001b[0m\n",
      "\u001b[34m[05/23/2020 12:41:27 INFO 140395645454144] #011Training metrics: mean_squared_error: 0.089 mean_absolute_error: 0.230 \u001b[0m\n",
      "\u001b[34m[05/23/2020 12:41:28 INFO 140395645454144] Epoch: 5, batches: 900, num_examples: 57600, 16253.8 samples/sec, epoch time so far: 0:00:03.543794\u001b[0m\n",
      "\u001b[34m[05/23/2020 12:41:28 INFO 140395645454144] #011Training metrics: mean_squared_error: 0.088 mean_absolute_error: 0.229 \u001b[0m\n",
      "\u001b[34m[05/23/2020 12:41:28 INFO 140395645454144] Epoch: 5, batches: 1000, num_examples: 64000, 16235.9 samples/sec, epoch time so far: 0:00:03.941871\u001b[0m\n",
      "\u001b[34m[05/23/2020 12:41:28 INFO 140395645454144] #011Training metrics: mean_squared_error: 0.088 mean_absolute_error: 0.229 \u001b[0m\n",
      "\u001b[34m[05/23/2020 12:41:28 INFO 140395645454144] Epoch: 5, batches: 1100, num_examples: 70400, 16249.0 samples/sec, epoch time so far: 0:00:04.332569\u001b[0m\n",
      "\u001b[34m[05/23/2020 12:41:28 INFO 140395645454144] #011Training metrics: mean_squared_error: 0.088 mean_absolute_error: 0.229 \u001b[0m\n",
      "\u001b[34m[05/23/2020 12:41:29 INFO 140395645454144] Epoch: 5, batches: 1200, num_examples: 76800, 16252.3 samples/sec, epoch time so far: 0:00:04.725472\u001b[0m\n",
      "\u001b[34m[05/23/2020 12:41:29 INFO 140395645454144] #011Training metrics: mean_squared_error: 0.088 mean_absolute_error: 0.229 \u001b[0m\n",
      "\u001b[34m[05/23/2020 12:41:29 INFO 140395645454144] Epoch: 5, batches: 1300, num_examples: 83200, 16263.9 samples/sec, epoch time so far: 0:00:05.115628\u001b[0m\n",
      "\u001b[34m[05/23/2020 12:41:29 INFO 140395645454144] #011Training metrics: mean_squared_error: 0.088 mean_absolute_error: 0.229 \u001b[0m\n",
      "\u001b[34m[05/23/2020 12:41:30 INFO 140395645454144] Epoch: 5, batches: 1400, num_examples: 89600, 16274.3 samples/sec, epoch time so far: 0:00:05.505609\u001b[0m\n",
      "\u001b[34m[05/23/2020 12:41:30 INFO 140395645454144] #011Training metrics: mean_squared_error: 0.088 mean_absolute_error: 0.229 \u001b[0m\n",
      "\u001b[34m[05/23/2020 12:41:30 INFO 140395645454144] **************\u001b[0m\n",
      "\u001b[34m[05/23/2020 12:41:30 INFO 140395645454144] Completed Epoch: 5, time taken: 0:00:05.568201\u001b[0m\n",
      "\u001b[34m[05/23/2020 12:41:30 INFO 140395645454144] Epoch 5 Training metrics:   mean_squared_error: 0.088 mean_absolute_error: 0.229 \u001b[0m\n",
      "\u001b[34m[05/23/2020 12:41:30 INFO 140395645454144] #quality_metric: host=algo-1, epoch=5, train mean_squared_error <loss>=0.0878480221119\u001b[0m\n",
      "\u001b[34m[05/23/2020 12:41:30 INFO 140395645454144] Epoch 5 Validation metrics: mean_squared_error: 0.949 mean_absolute_error: 0.761 \u001b[0m\n",
      "\u001b[34m[05/23/2020 12:41:30 INFO 140395645454144] #quality_metric: host=algo-1, epoch=5, validation mean_squared_error <loss>=0.948884553603\u001b[0m\n",
      "\u001b[34m[05/23/2020 12:41:30 INFO 140395645454144] **************\u001b[0m\n",
      "\u001b[34m[05/23/2020 12:41:30 INFO 140395645454144] patience losses: [0.9485553668157475, 0.9532872100134153, 0.9386556917751158]\u001b[0m\n",
      "\u001b[34m[05/23/2020 12:41:30 INFO 140395645454144] min patience losses: 0.938655691775\u001b[0m\n",
      "\u001b[34m[05/23/2020 12:41:30 INFO 140395645454144] current loss: 0.948884553603\u001b[0m\n",
      "\u001b[34m[05/23/2020 12:41:30 INFO 140395645454144] absolute loss difference: 0.0102288618281\u001b[0m\n",
      "\u001b[34m[05/23/2020 12:41:30 INFO 140395645454144] Bad epoch: loss has not improved (enough). Bad count:3\u001b[0m\n",
      "\u001b[34m#metrics {\"Metrics\": {\"early_stop.time\": {\"count\": 1, \"max\": 0.45609474182128906, \"sum\": 0.45609474182128906, \"min\": 0.45609474182128906}, \"update.time\": {\"count\": 1, \"max\": 5758.500099182129, \"sum\": 5758.500099182129, \"min\": 5758.500099182129}}, \"EndTime\": 1590237690.389587, \"Dimensions\": {\"Host\": \"algo-1\", \"Operation\": \"training\", \"Algorithm\": \"ObjectToVec\"}, \"StartTime\": 1590237684.616792}\n",
      "\u001b[0m\n",
      "\u001b[34m[05/23/2020 12:41:30 INFO 140395645454144] #progress_metric: host=algo-1, completed 30 % of epochs\u001b[0m\n",
      "\u001b[34m#metrics {\"Metrics\": {\"Max Batches Seen Between Resets\": {\"count\": 1, \"max\": 1416, \"sum\": 1416.0, \"min\": 1416}, \"Number of Batches Since Last Reset\": {\"count\": 1, \"max\": 1416, \"sum\": 1416.0, \"min\": 1416}, \"Number of Records Since Last Reset\": {\"count\": 1, \"max\": 90624, \"sum\": 90624.0, \"min\": 90624}, \"Total Batches Seen\": {\"count\": 1, \"max\": 8496, \"sum\": 8496.0, \"min\": 8496}, \"Total Records Seen\": {\"count\": 1, \"max\": 543744, \"sum\": 543744.0, \"min\": 543744}, \"Max Records Seen Between Resets\": {\"count\": 1, \"max\": 90624, \"sum\": 90624.0, \"min\": 90624}, \"Reset Count\": {\"count\": 1, \"max\": 6, \"sum\": 6.0, \"min\": 6}}, \"EndTime\": 1590237690.389867, \"Dimensions\": {\"Host\": \"algo-1\", \"Meta\": \"training_data_iter\", \"Operation\": \"training\", \"Algorithm\": \"ObjectToVec\", \"epoch\": 5}, \"StartTime\": 1590237684.631061}\n",
      "\u001b[0m\n",
      "\u001b[34m[05/23/2020 12:41:30 INFO 140395645454144] #throughput_metric: host=algo-1, train throughput=15736.2208181 records/second\u001b[0m\n",
      "\u001b[34m[05/23/2020 12:41:30 INFO 140395645454144] Epoch: 6, batches: 100, num_examples: 6400, 15800.2 samples/sec, epoch time so far: 0:00:00.405058\u001b[0m\n",
      "\u001b[34m[05/23/2020 12:41:30 INFO 140395645454144] #011Training metrics: mean_squared_error: 0.086 mean_absolute_error: 0.227 \u001b[0m\n",
      "\u001b[34m[05/23/2020 12:41:31 INFO 140395645454144] Epoch: 6, batches: 200, num_examples: 12800, 15958.1 samples/sec, epoch time so far: 0:00:00.802098\u001b[0m\n",
      "\u001b[34m[05/23/2020 12:41:31 INFO 140395645454144] #011Training metrics: mean_squared_error: 0.083 mean_absolute_error: 0.223 \u001b[0m\n",
      "\u001b[34m[05/23/2020 12:41:31 INFO 140395645454144] Epoch: 6, batches: 300, num_examples: 19200, 16083.7 samples/sec, epoch time so far: 0:00:01.193752\u001b[0m\n",
      "\u001b[34m[05/23/2020 12:41:31 INFO 140395645454144] #011Training metrics: mean_squared_error: 0.083 mean_absolute_error: 0.223 \u001b[0m\n",
      "\u001b[34m[05/23/2020 12:41:31 INFO 140395645454144] Epoch: 6, batches: 400, num_examples: 25600, 16114.5 samples/sec, epoch time so far: 0:00:01.588635\u001b[0m\n",
      "\u001b[34m[05/23/2020 12:41:31 INFO 140395645454144] #011Training metrics: mean_squared_error: 0.082 mean_absolute_error: 0.221 \u001b[0m\n",
      "\u001b[34m[05/23/2020 12:41:32 INFO 140395645454144] Epoch: 6, batches: 500, num_examples: 32000, 16171.1 samples/sec, epoch time so far: 0:00:01.978844\u001b[0m\n",
      "\u001b[34m[05/23/2020 12:41:32 INFO 140395645454144] #011Training metrics: mean_squared_error: 0.082 mean_absolute_error: 0.221 \u001b[0m\n",
      "\u001b[34m[05/23/2020 12:41:32 INFO 140395645454144] Epoch: 6, batches: 600, num_examples: 38400, 16196.3 samples/sec, epoch time so far: 0:00:02.370918\u001b[0m\n",
      "\u001b[34m[05/23/2020 12:41:32 INFO 140395645454144] #011Training metrics: mean_squared_error: 0.081 mean_absolute_error: 0.220 \u001b[0m\n",
      "\u001b[34m[05/23/2020 12:41:33 INFO 140395645454144] Epoch: 6, batches: 700, num_examples: 44800, 16207.9 samples/sec, epoch time so far: 0:00:02.764083\u001b[0m\n",
      "\u001b[34m[05/23/2020 12:41:33 INFO 140395645454144] #011Training metrics: mean_squared_error: 0.080 mean_absolute_error: 0.219 \u001b[0m\n",
      "\u001b[34m[05/23/2020 12:41:33 INFO 140395645454144] Epoch: 6, batches: 800, num_examples: 51200, 16217.6 samples/sec, epoch time so far: 0:00:03.157065\u001b[0m\n",
      "\u001b[34m[05/23/2020 12:41:33 INFO 140395645454144] #011Training metrics: mean_squared_error: 0.081 mean_absolute_error: 0.220 \u001b[0m\n",
      "\u001b[34m[05/23/2020 12:41:33 INFO 140395645454144] Epoch: 6, batches: 900, num_examples: 57600, 16236.6 samples/sec, epoch time so far: 0:00:03.547540\u001b[0m\n",
      "\u001b[34m[05/23/2020 12:41:33 INFO 140395645454144] #011Training metrics: mean_squared_error: 0.080 mean_absolute_error: 0.220 \u001b[0m\n",
      "\u001b[34m[05/23/2020 12:41:34 INFO 140395645454144] Epoch: 6, batches: 1000, num_examples: 64000, 16247.3 samples/sec, epoch time so far: 0:00:03.939109\u001b[0m\n",
      "\u001b[34m[05/23/2020 12:41:34 INFO 140395645454144] #011Training metrics: mean_squared_error: 0.080 mean_absolute_error: 0.219 \u001b[0m\n",
      "\u001b[34m[05/23/2020 12:41:34 INFO 140395645454144] Epoch: 6, batches: 1100, num_examples: 70400, 16251.8 samples/sec, epoch time so far: 0:00:04.331823\u001b[0m\n",
      "\u001b[34m[05/23/2020 12:41:34 INFO 140395645454144] #011Training metrics: mean_squared_error: 0.080 mean_absolute_error: 0.219 \u001b[0m\n",
      "\u001b[34m[05/23/2020 12:41:35 INFO 140395645454144] Epoch: 6, batches: 1200, num_examples: 76800, 16260.9 samples/sec, epoch time so far: 0:00:04.722998\u001b[0m\n",
      "\u001b[34m[05/23/2020 12:41:35 INFO 140395645454144] #011Training metrics: mean_squared_error: 0.080 mean_absolute_error: 0.219 \u001b[0m\n",
      "\u001b[34m[05/23/2020 12:41:35 INFO 140395645454144] Epoch: 6, batches: 1300, num_examples: 83200, 16262.0 samples/sec, epoch time so far: 0:00:05.116219\u001b[0m\n",
      "\u001b[34m[05/23/2020 12:41:35 INFO 140395645454144] #011Training metrics: mean_squared_error: 0.080 mean_absolute_error: 0.219 \u001b[0m\n",
      "\u001b[34m[05/23/2020 12:41:35 INFO 140395645454144] Epoch: 6, batches: 1400, num_examples: 89600, 16219.8 samples/sec, epoch time so far: 0:00:05.524118\u001b[0m\n",
      "\u001b[34m[05/23/2020 12:41:35 INFO 140395645454144] #011Training metrics: mean_squared_error: 0.080 mean_absolute_error: 0.220 \u001b[0m\n",
      "\u001b[34m[05/23/2020 12:41:35 INFO 140395645454144] **************\u001b[0m\n",
      "\u001b[34m[05/23/2020 12:41:35 INFO 140395645454144] Completed Epoch: 6, time taken: 0:00:05.586564\u001b[0m\n",
      "\u001b[34m[05/23/2020 12:41:35 INFO 140395645454144] Epoch 6 Training metrics:   mean_squared_error: 0.081 mean_absolute_error: 0.220 \u001b[0m\n",
      "\u001b[34m[05/23/2020 12:41:35 INFO 140395645454144] #quality_metric: host=algo-1, epoch=6, train mean_squared_error <loss>=0.0805313067148\u001b[0m\n",
      "\n",
      "2020-05-23 12:41:47 Uploading - Uploading generated training model\n",
      "2020-05-23 12:41:47 Completed - Training job completed\n",
      "\u001b[34m[05/23/2020 12:41:36 INFO 140395645454144] Epoch 6 Validation metrics: mean_squared_error: 0.937 mean_absolute_error: 0.762 \u001b[0m\n",
      "\u001b[34m[05/23/2020 12:41:36 INFO 140395645454144] #quality_metric: host=algo-1, epoch=6, validation mean_squared_error <loss>=0.936983394462\u001b[0m\n",
      "\u001b[34m[05/23/2020 12:41:36 INFO 140395645454144] **************\u001b[0m\n",
      "\u001b[34m[05/23/2020 12:41:36 INFO 140395645454144] patience losses: [0.9532872100134153, 0.9386556917751158, 0.9488845536032239]\u001b[0m\n",
      "\u001b[34m[05/23/2020 12:41:36 INFO 140395645454144] min patience losses: 0.938655691775\u001b[0m\n",
      "\u001b[34m[05/23/2020 12:41:36 INFO 140395645454144] current loss: 0.936983394462\u001b[0m\n",
      "\u001b[34m[05/23/2020 12:41:36 INFO 140395645454144] absolute loss difference: 0.00167229731341\u001b[0m\n",
      "\u001b[34m[05/23/2020 12:41:36 INFO 140395645454144] Bad epoch: loss has not improved (enough). Bad count:4\u001b[0m\n",
      "\u001b[34m[05/23/2020 12:41:36 INFO 140395645454144] Bad epochs exceeded patience. Stopping training early!\u001b[0m\n",
      "\u001b[34m[05/23/2020 12:41:36 INFO 140395645454144] Early stopping criterion met! Stopping training at epoch: 6\u001b[0m\n",
      "\u001b[34m#metrics {\"Metrics\": {\"early_stop.time\": {\"count\": 1, \"max\": 2.418994903564453, \"sum\": 2.418994903564453, \"min\": 2.418994903564453}, \"update.time\": {\"count\": 1, \"max\": 5773.00500869751, \"sum\": 5773.00500869751, \"min\": 5773.00500869751}}, \"EndTime\": 1590237696.167288, \"Dimensions\": {\"Host\": \"algo-1\", \"Operation\": \"training\", \"Algorithm\": \"ObjectToVec\"}, \"StartTime\": 1590237690.389684}\n",
      "\u001b[0m\n",
      "\u001b[34m[05/23/2020 12:41:36 INFO 140395645454144] Early stop condition met. Stopping training.\u001b[0m\n",
      "\u001b[34m[05/23/2020 12:41:36 INFO 140395645454144] #progress_metric: host=algo-1, completed 100 % epochs\u001b[0m\n",
      "\u001b[34m#metrics {\"Metrics\": {\"Max Batches Seen Between Resets\": {\"count\": 1, \"max\": 1416, \"sum\": 1416.0, \"min\": 1416}, \"Number of Batches Since Last Reset\": {\"count\": 1, \"max\": 1416, \"sum\": 1416.0, \"min\": 1416}, \"Number of Records Since Last Reset\": {\"count\": 1, \"max\": 90624, \"sum\": 90624.0, \"min\": 90624}, \"Total Batches Seen\": {\"count\": 1, \"max\": 9912, \"sum\": 9912.0, \"min\": 9912}, \"Total Records Seen\": {\"count\": 1, \"max\": 634368, \"sum\": 634368.0, \"min\": 634368}, \"Max Records Seen Between Resets\": {\"count\": 1, \"max\": 90624, \"sum\": 90624.0, \"min\": 90624}, \"Reset Count\": {\"count\": 1, \"max\": 7, \"sum\": 7.0, \"min\": 7}}, \"EndTime\": 1590237696.167673, \"Dimensions\": {\"Host\": \"algo-1\", \"Meta\": \"training_data_iter\", \"Operation\": \"training\", \"Algorithm\": \"ObjectToVec\", \"epoch\": 6}, \"StartTime\": 1590237690.39426}\n",
      "\u001b[0m\n",
      "\u001b[34m[05/23/2020 12:41:36 INFO 140395645454144] #throughput_metric: host=algo-1, train throughput=15696.4052899 records/second\u001b[0m\n",
      "\u001b[34m[05/23/2020 12:41:36 WARNING 140395645454144] wait_for_all_workers will not sync workers since the kv store is not running distributed\u001b[0m\n",
      "\u001b[34m[05/23/2020 12:41:36 INFO 140395645454144] Best model based on epoch 6. Best loss: 0.937\u001b[0m\n",
      "\u001b[34m#metrics {\"Metrics\": {\"finalize.time\": {\"count\": 1, \"max\": 0.9989738464355469, \"sum\": 0.9989738464355469, \"min\": 0.9989738464355469}}, \"EndTime\": 1590237696.169089, \"Dimensions\": {\"Host\": \"algo-1\", \"Operation\": \"training\", \"Algorithm\": \"ObjectToVec\"}, \"StartTime\": 1590237696.167389}\n",
      "\u001b[0m\n",
      "\u001b[34m[05/23/2020 12:41:36 INFO 140395645454144] Serializing model to /opt/ml/model/model_algo-1\u001b[0m\n",
      "\u001b[34m[05/23/2020 12:41:36 INFO 140395645454144] Saved checkpoint to \"/tmp/tmpjlkJPn/state-0001.params\"\u001b[0m\n",
      "\u001b[34m[05/23/2020 12:41:36 INFO 140395645454144] Test data is not provided.\u001b[0m\n",
      "\u001b[34m#metrics {\"Metrics\": {\"totaltime\": {\"count\": 1, \"max\": 47880.7110786438, \"sum\": 47880.7110786438, \"min\": 47880.7110786438}, \"model.serialize.time\": {\"count\": 1, \"max\": 74.70107078552246, \"sum\": 74.70107078552246, \"min\": 74.70107078552246}, \"setuptime\": {\"count\": 1, \"max\": 262.3941898345947, \"sum\": 262.3941898345947, \"min\": 262.3941898345947}}, \"EndTime\": 1590237696.245249, \"Dimensions\": {\"Host\": \"algo-1\", \"Operation\": \"training\", \"Algorithm\": \"ObjectToVec\"}, \"StartTime\": 1590237696.169141}\n",
      "\u001b[0m\n",
      "Training seconds: 146\n",
      "Billable seconds: 146\n"
     ]
    }
   ],
   "source": [
    "regressor.fit(input_paths)"
   ]
  },
  {
   "cell_type": "markdown",
   "metadata": {},
   "source": [
    "We have seen that we can upload train (validation) data through the input data channel, and the algorithm will print out train (validation) evaluation metric during training. In addition, the algorithm uses the validation metric to perform early stopping. \n",
    "\n",
    "What if we want to send additional unlabeled data to the algorithm and get predictions from the trained model?\n",
    "This step is called *inference* in the Sagemaker framework. Next, we demonstrate how to use a trained model to perform inference on unseen data points."
   ]
  },
  {
   "cell_type": "markdown",
   "metadata": {},
   "source": [
    "## Inference using trained model"
   ]
  },
  {
   "cell_type": "markdown",
   "metadata": {},
   "source": [
    "Create and deploy the model"
   ]
  },
  {
   "cell_type": "code",
   "execution_count": 90,
   "metadata": {},
   "outputs": [
    {
     "data": {
      "text/plain": [
       "<sagemaker.predictor._JsonSerializer at 0x7f23f390ac18>"
      ]
     },
     "execution_count": 90,
     "metadata": {},
     "output_type": "execute_result"
    }
   ],
   "source": [
    "#import numpy as np\n",
    "from sagemaker.predictor import json_serializer, json_deserializer\n",
    "json_serializer"
   ]
  },
  {
   "cell_type": "code",
   "execution_count": 91,
   "metadata": {},
   "outputs": [],
   "source": [
    "# create a model using the trained algorithm\n",
    "# specify the types of serializer and deserializer,\n",
    "# in our case they are json\n",
    "regression_model = regressor.create_model(\n",
    "    serializer=json_serializer,\n",
    "    deserializer=json_deserializer,\n",
    "    content_type='application/json')"
   ]
  },
  {
   "cell_type": "code",
   "execution_count": 92,
   "metadata": {},
   "outputs": [
    {
     "data": {
      "text/plain": [
       "<sagemaker.model.Model at 0x7f23fa178128>"
      ]
     },
     "execution_count": 92,
     "metadata": {},
     "output_type": "execute_result"
    }
   ],
   "source": [
    "regression_model"
   ]
  },
  {
   "cell_type": "markdown",
   "metadata": {},
   "source": [
    "# deploy the model\n",
    "### create an endpoint to be used for inference\n",
    "### we use CPU based instance"
   ]
  },
  {
   "cell_type": "code",
   "execution_count": 93,
   "metadata": {},
   "outputs": [
    {
     "name": "stdout",
     "output_type": "stream",
     "text": [
      "---------------!"
     ]
    }
   ],
   "source": [
    "predictor = regression_model.deploy(initial_instance_count=1, instance_type='ml.m4.xlarge')"
   ]
  },
  {
   "cell_type": "code",
   "execution_count": 94,
   "metadata": {},
   "outputs": [
    {
     "data": {
      "text/plain": [
       "<sagemaker.predictor.RealTimePredictor at 0x7f23f9318da0>"
      ]
     },
     "execution_count": 94,
     "metadata": {},
     "output_type": "execute_result"
    }
   ],
   "source": [
    "predictor"
   ]
  },
  {
   "cell_type": "markdown",
   "metadata": {},
   "source": [
    "Below we send validation data (without labels) to the deployed endpoint for inference. We will see that the resulting prediction error we get from post-training inference matches the best validation error from the training log in the console above (up to floating point error). If you follow the training instruction and parameter setup, you should get mean squared error on the validation set approximately 0.91."
   ]
  },
  {
   "cell_type": "code",
   "execution_count": 95,
   "metadata": {},
   "outputs": [],
   "source": [
    "# Send data to the endpoint to get predictions\n",
    "prediction = predictor.predict(valid_r_data)"
   ]
  },
  {
   "cell_type": "code",
   "execution_count": 96,
   "metadata": {},
   "outputs": [
    {
     "data": {
      "text/plain": [
       "dict"
      ]
     },
     "execution_count": 96,
     "metadata": {},
     "output_type": "execute_result"
    }
   ],
   "source": [
    "type(prediction)"
   ]
  },
  {
   "cell_type": "code",
   "execution_count": 97,
   "metadata": {},
   "outputs": [
    {
     "name": "stdout",
     "output_type": "stream",
     "text": [
      "The mean squared error on validation set is 0.940\n"
     ]
    }
   ],
   "source": [
    "print(\"The mean squared error on validation set is %.3f\" %get_mse_loss(prediction, valid_r_label))"
   ]
  },
  {
   "cell_type": "markdown",
   "metadata": {},
   "source": [
    "### Comparison against popular libraries\n",
    "\n",
    "Below we provide a chart that compares the performance of *Object2Vec* against several algorithms implemented by popular recommendation system libraries (LibRec https://www.librec.net/ and scikit-surprise http://surpriselib.com/). The error metric we use in the chart is **root mean squared** (RMSE) instead of MSE, so that our result can be compared against the reported results in the aforementioned libraries."
   ]
  },
  {
   "cell_type": "markdown",
   "metadata": {},
   "source": [
    "<img src=\"ml-experiment-plot.png\" width=\"400\">"
   ]
  },
  {
   "cell_type": "markdown",
   "metadata": {},
   "source": [
    "# Recommendation task \n",
    "\n",
    "In this section, we showcase how to use *Object2Vec* to recommend movies, using the binarized rating labels. Here, if a movie rating label for a given user is binarized to `1`, then it means that the movie should be recommended to the user; otherwise, the label is binarized to `0`. The binarized data set is already obtained in the preprocessing section, so we will proceed to apply the algorithm."
   ]
  },
  {
   "cell_type": "markdown",
   "metadata": {},
   "source": [
    "We upload the binarized datasets for classification task to S3"
   ]
  },
  {
   "cell_type": "code",
   "execution_count": 98,
   "metadata": {},
   "outputs": [
    {
     "name": "stdout",
     "output_type": "stream",
     "text": [
      "pre_key  train :  object2vec/movielens/input/recommendation/train\n",
      "data_path:  s3://md-labs-bucket/object2vec/movielens/input/recommendation/train/train_c.jsonl\n",
      "Uploaded data to s3://md-labs-bucket/object2vec/movielens/input/recommendation/train/train_c.jsonl\n",
      "pre_key  validation :  object2vec/movielens/input/recommendation/validation\n",
      "data_path:  s3://md-labs-bucket/object2vec/movielens/input/recommendation/validation/validation_c.jsonl\n",
      "Uploaded data to s3://md-labs-bucket/object2vec/movielens/input/recommendation/validation/validation_c.jsonl\n"
     ]
    }
   ],
   "source": [
    "for data_name in ['train', 'validation']:\n",
    "    fname = '{}_c.jsonl'.format(data_name)\n",
    "    pre_key = os.path.join(input_prefix, 'recommendation', f\"{data_name}\")\n",
    "    print('pre_key ', data_name, ': ', pre_key)\n",
    "    \n",
    "    data_path = os.path.join('s3://', bucket, pre_key, fname)\n",
    "    print('data_path: ', data_path)\n",
    "    \n",
    "    s3_client.upload_file(fname, bucket, os.path.join(pre_key, fname))\n",
    "    \n",
    "    input_paths[data_name] = s3_input(data_path, distribution='ShardedByS3Key', content_type='application/jsonlines')\n",
    "    print('Uploaded data to {}'.format(data_path))"
   ]
  },
  {
   "cell_type": "code",
   "execution_count": 99,
   "metadata": {},
   "outputs": [
    {
     "data": {
      "text/plain": [
       "{'train': <sagemaker.inputs.s3_input at 0x7f23f881c9e8>,\n",
       " 'validation': <sagemaker.inputs.s3_input at 0x7f23feba7c50>}"
      ]
     },
     "execution_count": 99,
     "metadata": {},
     "output_type": "execute_result"
    }
   ],
   "source": [
    "input_paths"
   ]
  },
  {
   "cell_type": "markdown",
   "metadata": {},
   "source": [
    "Since we already get the algorithm image from the regression task, we can directly start training"
   ]
  },
  {
   "cell_type": "code",
   "execution_count": 100,
   "metadata": {},
   "outputs": [],
   "source": [
    "from sagemaker.session import s3_input\n",
    "\n",
    "hyperparameters_c = {\n",
    "    \"_kvstore\": \"device\",\n",
    "    \"_num_gpus\": \"auto\",\n",
    "    \"_num_kv_servers\": \"auto\",\n",
    "    \"bucket_width\": 0,\n",
    "    \"early_stopping_patience\": 3, \n",
    "    \"early_stopping_tolerance\": 0.01,\n",
    "    \"enc0_cnn_filter_width\": 3,\n",
    "    \"enc0_layers\": \"auto\",\n",
    "    \"enc0_max_seq_len\": 1,\n",
    "    \"enc0_network\": \"pooled_embedding\",\n",
    "    \"enc0_token_embedding_dim\": 300,\n",
    "    \"enc0_vocab_size\": 944,\n",
    "    \"enc1_cnn_filter_width\": 3,\n",
    "    \"enc1_layers\": \"auto\",\n",
    "    \"enc1_max_seq_len\": 1,\n",
    "    \"enc1_network\": \"pooled_embedding\",\n",
    "    \"enc1_token_embedding_dim\": 300,\n",
    "    \"enc1_vocab_size\": 1684,\n",
    "    \"enc_dim\": 2048,\n",
    "    \"epochs\": 20,\n",
    "    \"learning_rate\": 0.001,\n",
    "    \"mini_batch_size\": 2048,\n",
    "    \"mlp_activation\": \"relu\",\n",
    "    \"mlp_dim\": 1024,\n",
    "    \"mlp_layers\": 1,\n",
    "    \"num_classes\": 2,\n",
    "    \"optimizer\": \"adam\",\n",
    "    \"output_layer\": \"softmax\"\n",
    "}"
   ]
  },
  {
   "cell_type": "code",
   "execution_count": 101,
   "metadata": {},
   "outputs": [
    {
     "data": {
      "text/plain": [
       "'404615174143.dkr.ecr.us-east-2.amazonaws.com/object2vec:1'"
      ]
     },
     "execution_count": 101,
     "metadata": {},
     "output_type": "execute_result"
    }
   ],
   "source": [
    "container"
   ]
  },
  {
   "cell_type": "code",
   "execution_count": 102,
   "metadata": {},
   "outputs": [
    {
     "name": "stdout",
     "output_type": "stream",
     "text": [
      "2020-05-23 12:52:34 Starting - Starting the training job...\n",
      "2020-05-23 12:52:37 Starting - Launching requested ML instances...\n",
      "2020-05-23 12:53:38 Starting - Preparing the instances for training......\n",
      "2020-05-23 12:54:36 Downloading - Downloading input data...\n",
      "2020-05-23 12:55:01 Training - Downloading the training image...\n",
      "2020-05-23 12:55:43 Training - Training image download completed. Training in progress..\u001b[34mDocker entrypoint called with argument(s): train\u001b[0m\n",
      "\u001b[34mRunning default environment configuration script\u001b[0m\n",
      "\u001b[34m[05/23/2020 12:55:47 INFO 140557052864320] Reading default configuration from /opt/amazon/lib/python2.7/site-packages/algorithm/default-input.json: {u'comparator_list': u'hadamard, concat, abs_diff', u'enc0_vocab_file': u'', u'output_layer': u'softmax', u'enc0_cnn_filter_width': 3, u'epochs': 30, u'mlp_dim': 512, u'enc0_freeze_pretrained_embedding': u'true', u'mlp_layers': 2, u'_num_kv_servers': u'auto', u'weight_decay': 0, u'enc0_pretrained_embedding_file': u'', u'token_embedding_storage_type': u'dense', u'enc0_token_embedding_dim': 300, u'tied_token_embedding_weight': u'false', u'learning_rate': 0.0004, u'enc1_cnn_filter_width': 3, u'negative_sampling_rate': 0, u'enc0_network': u'hcnn', u'enc1_layers': u'auto', u'early_stopping_patience': 3, u'optimizer': u'adam', u'_tuning_objective_metric': u'', u'early_stopping_tolerance': 0.01, u'dropout': 0, u'bucket_width': 0, u'enc_dim': 4096, u'enc1_vocab_file': u'', u'enc1_freeze_pretrained_embedding': u'true', u'enc0_layers': u'auto', u'mini_batch_size': 32, u'enc1_pretrained_embedding_file': u'', u'num_classes': 2, u'_num_gpus': u'auto', u'enc1_token_embedding_dim': 300, u'mlp_activation': u'linear', u'enc1_network': u'enc0', u'_kvstore': u'auto_gpu'}\u001b[0m\n",
      "\u001b[34m[05/23/2020 12:55:47 INFO 140557052864320] Reading provided configuration from /opt/ml/input/config/hyperparameters.json: {u'output_layer': u'softmax', u'enc0_cnn_filter_width': u'3', u'epochs': u'20', u'mlp_dim': u'1024', u'mlp_layers': u'1', u'_num_kv_servers': u'auto', u'mini_batch_size': u'2048', u'enc0_token_embedding_dim': u'300', u'enc1_network': u'pooled_embedding', u'early_stopping_tolerance': u'0.01', u'enc0_network': u'pooled_embedding', u'enc1_layers': u'auto', u'early_stopping_patience': u'3', u'optimizer': u'adam', u'enc1_max_seq_len': u'1', u'enc1_cnn_filter_width': u'3', u'learning_rate': u'0.001', u'bucket_width': u'0', u'enc_dim': u'2048', u'enc0_layers': u'auto', u'enc0_max_seq_len': u'1', u'num_classes': u'2', u'_num_gpus': u'auto', u'mlp_activation': u'relu', u'enc1_token_embedding_dim': u'300', u'_kvstore': u'device', u'enc1_vocab_size': u'1684', u'enc0_vocab_size': u'944'}\u001b[0m\n",
      "\u001b[34m[05/23/2020 12:55:47 INFO 140557052864320] Final configuration: {u'comparator_list': u'hadamard, concat, abs_diff', u'enc0_vocab_file': u'', u'output_layer': u'softmax', u'enc0_cnn_filter_width': u'3', u'epochs': u'20', u'mlp_dim': u'1024', u'enc0_freeze_pretrained_embedding': u'true', u'mlp_layers': u'1', u'_num_kv_servers': u'auto', u'weight_decay': 0, u'enc0_pretrained_embedding_file': u'', u'enc0_max_seq_len': u'1', u'token_embedding_storage_type': u'dense', u'enc0_token_embedding_dim': u'300', u'tied_token_embedding_weight': u'false', u'learning_rate': u'0.001', u'enc1_cnn_filter_width': u'3', u'negative_sampling_rate': 0, u'enc0_network': u'pooled_embedding', u'enc1_layers': u'auto', u'early_stopping_patience': u'3', u'optimizer': u'adam', u'enc1_max_seq_len': u'1', u'_tuning_objective_metric': u'', u'early_stopping_tolerance': u'0.01', u'dropout': 0, u'bucket_width': u'0', u'enc_dim': u'2048', u'enc1_vocab_file': u'', u'enc1_freeze_pretrained_embedding': u'true', u'enc0_layers': u'auto', u'mini_batch_size': u'2048', u'enc1_pretrained_embedding_file': u'', u'num_classes': u'2', u'_num_gpus': u'auto', u'enc1_token_embedding_dim': u'300', u'mlp_activation': u'relu', u'enc1_network': u'pooled_embedding', u'_kvstore': u'device', u'enc1_vocab_size': u'1684', u'enc0_vocab_size': u'944'}\u001b[0m\n",
      "\u001b[34mProcess 1 is a worker.\u001b[0m\n",
      "\u001b[34m[05/23/2020 12:55:47 INFO 140557052864320] Using default worker.\u001b[0m\n",
      "\u001b[34m[05/23/2020 12:55:47 INFO 140557052864320] Loaded iterator creator application/jsonlines for content type ('application/jsonlines', '1.0')\u001b[0m\n",
      "\u001b[34m[05/23/2020 12:55:47 INFO 140557052864320] create_iter params {u'comparator_list': u'hadamard, concat, abs_diff', u'enc0_vocab_file': u'', u'output_layer': u'softmax', u'enc0_cnn_filter_width': u'3', u'epochs': u'20', u'mlp_dim': u'1024', u'enc0_freeze_pretrained_embedding': u'true', u'mlp_layers': u'1', u'_num_kv_servers': u'auto', u'weight_decay': 0, u'enc0_pretrained_embedding_file': u'', u'enc0_max_seq_len': u'1', u'token_embedding_storage_type': u'dense', u'enc0_token_embedding_dim': u'300', u'tied_token_embedding_weight': u'false', u'learning_rate': u'0.001', u'enc1_cnn_filter_width': u'3', u'negative_sampling_rate': 0, u'enc0_network': u'pooled_embedding', u'enc1_layers': u'auto', u'early_stopping_patience': u'3', u'optimizer': u'adam', u'enc1_max_seq_len': u'1', u'_tuning_objective_metric': u'', u'early_stopping_tolerance': u'0.01', u'dropout': 0, u'bucket_width': u'0', u'enc_dim': u'2048', u'enc1_vocab_file': u'', u'enc1_freeze_pretrained_embedding': u'true', u'enc0_layers': u'auto', u'mini_batch_size': u'2048', u'enc1_pretrained_embedding_file': u'', u'num_classes': u'2', u'_num_gpus': u'auto', u'enc1_token_embedding_dim': u'300', u'mlp_activation': u'relu', u'enc1_network': u'pooled_embedding', u'_kvstore': u'device', u'enc1_vocab_size': u'1684', u'enc0_vocab_size': u'944'}\u001b[0m\n",
      "\u001b[34m[05/23/2020 12:55:47 INFO 140557052864320] create_iter content_params {}\u001b[0m\n",
      "\u001b[34m[05/23/2020 12:55:47 INFO 140557052864320] Parameters of encoders: [{u'layers': u'auto', u'vocab_size': u'944', u'network': u'pooled_embedding', u'vocab_file': u'', u'cnn_filter_width': u'3', u'token_embedding_dim': u'300', u'max_seq_len': u'1', u'freeze_pretrained_embedding': u'true', u'pretrained_embedding_file': u''}, {u'layers': u'auto', u'vocab_size': u'1684', u'network': u'pooled_embedding', u'vocab_file': u'', u'cnn_filter_width': u'3', u'token_embedding_dim': u'300', u'max_seq_len': u'1', u'freeze_pretrained_embedding': u'true', u'pretrained_embedding_file': u''}]\u001b[0m\n",
      "\u001b[34m[05/23/2020 12:55:47 INFO 140557052864320] Inconsistent enc_dim and token_embedding_dim found for token-embedding-encoder: 2048 vs 300. Setting token embedding dim to be 2048\u001b[0m\n",
      "\u001b[34m[05/23/2020 12:55:47 INFO 140557052864320] Inconsistent enc_dim and token_embedding_dim found for token-embedding-encoder: 2048 vs 300. Setting token embedding dim to be 2048\u001b[0m\n",
      "\u001b[34m[05/23/2020 12:55:47 INFO 140557052864320] Encoder configs: [{'vocab_size': 944, 'enc_index': 0, 'pretrained_embedding_file_path': None, 'vocab_dict': None, 'token_embedding_dim': 2048, 'vocab_file': '', 'freeze_pretrained_embedding': True, 'num_layers': 1, 'is_train': True, 'dropout': 0.0, 'pretrained_embedding_file': ''}, {'vocab_size': 1684, 'enc_index': 1, 'pretrained_embedding_file_path': None, 'vocab_dict': None, 'token_embedding_dim': 2048, 'vocab_file': '', 'freeze_pretrained_embedding': True, 'num_layers': 1, 'is_train': True, 'dropout': 0.0, 'pretrained_embedding_file': ''}]\u001b[0m\n",
      "\u001b[34m[05/23/2020 12:55:47 INFO 140557052864320] Config: {'comparator_list': ['hadamard', 'concat', 'abs_diff'], 'epochs': 20, 'mini_batch_size': 2048, 'optimizer': 'adam', 'output_layer': 'softmax', 'token_embedding_storage_type': 'dense', 'mlp_dim': 1024, 'early_stopping_tolerance': 0.01, 'dropout': 0.0, 'bucket_width': 0, 'enc_dim': 2048, 'negative_sampling_rate': 0, 'early_stopping_patience': 3, 'learning_rate': 0.001, 'max_seq_lens': [1, 1], 'tied_token_embedding_weight': False, 'enc_configs': [{'vocab_size': 944, 'enc_index': 0, 'pretrained_embedding_file_path': None, 'vocab_dict': None, 'token_embedding_dim': 2048, 'vocab_file': '', 'freeze_pretrained_embedding': True, 'num_layers': 1, 'is_train': True, 'dropout': 0.0, 'pretrained_embedding_file': ''}, {'vocab_size': 1684, 'enc_index': 1, 'pretrained_embedding_file_path': None, 'vocab_dict': None, 'token_embedding_dim': 2048, 'vocab_file': '', 'freeze_pretrained_embedding': True, 'num_layers': 1, 'is_train': True, 'dropout': 0.0, 'pretrained_embedding_file': ''}], 'mlp_layers': 1, 'weight_decay': 0.0, 'mlp_activation': 'relu', 'num_classes': 2}\u001b[0m\n",
      "\u001b[34m[05/23/2020 12:55:47 INFO 140557052864320] use bucketing: False\u001b[0m\n",
      "\u001b[34m[05/23/2020 12:55:47 INFO 140557052864320] Creating data iterator for /opt/ml/input/data/train\u001b[0m\n",
      "\u001b[34m[05/23/2020 12:55:50 INFO 140557052864320] Source words: 90570\u001b[0m\n",
      "\u001b[34m[05/23/2020 12:55:50 INFO 140557052864320] Target words: 90570\u001b[0m\n",
      "\u001b[34m[05/23/2020 12:55:50 INFO 140557052864320] Total: 90570 samples in 1 buckets\u001b[0m\n",
      "\u001b[34m[05/23/2020 12:55:50 INFO 140557052864320] Bucket of (1, 1) : 90570 samples in 44 batches of 2048, approx 2048.0 words/batch\u001b[0m\n",
      "\u001b[34m[05/23/2020 12:55:50 INFO 140557052864320] 0 sentence pairs discarded\u001b[0m\n",
      "\u001b[34m[05/23/2020 12:55:50 INFO 140557052864320] fill up mode: replicate\u001b[0m\n",
      "\u001b[34m[05/23/2020 12:55:50 INFO 140557052864320] \u001b[0m\n",
      "\u001b[34m[05/23/2020 12:55:50 INFO 140557052864320] Negative sampling not used\u001b[0m\n",
      "\u001b[34m[05/23/2020 12:55:50 INFO 140557052864320] Replicating 1590 random sentences from bucket (1, 1) to size it to multiple of 2048\u001b[0m\n",
      "\u001b[34m[05/23/2020 12:55:50 INFO 140557052864320] Bucket batch sizes: [BucketBatchSize(batch_size=2048, average_words_per_batch=2048)]\u001b[0m\n",
      "\u001b[34m[05/23/2020 12:55:50 INFO 140557052864320] create_iter params {u'comparator_list': u'hadamard, concat, abs_diff', u'enc0_vocab_file': u'', u'output_layer': u'softmax', u'enc0_cnn_filter_width': u'3', u'epochs': u'20', u'mlp_dim': u'1024', u'enc0_freeze_pretrained_embedding': u'true', u'mlp_layers': u'1', u'_num_kv_servers': u'auto', u'weight_decay': 0, u'enc0_pretrained_embedding_file': u'', u'enc0_max_seq_len': u'1', u'token_embedding_storage_type': u'dense', u'enc0_token_embedding_dim': u'300', u'tied_token_embedding_weight': u'false', u'learning_rate': u'0.001', u'enc1_cnn_filter_width': u'3', u'negative_sampling_rate': 0, u'enc0_network': u'pooled_embedding', u'enc1_layers': u'auto', u'early_stopping_patience': u'3', u'optimizer': u'adam', u'enc1_max_seq_len': u'1', u'_tuning_objective_metric': u'', u'early_stopping_tolerance': u'0.01', u'dropout': 0, u'bucket_width': u'0', u'enc_dim': u'2048', u'enc1_vocab_file': u'', u'enc1_freeze_pretrained_embedding': u'true', u'enc0_layers': u'auto', u'mini_batch_size': u'2048', u'enc1_pretrained_embedding_file': u'', u'num_classes': u'2', u'_num_gpus': u'auto', u'enc1_token_embedding_dim': u'300', u'mlp_activation': u'relu', u'enc1_network': u'pooled_embedding', u'_kvstore': u'device', u'enc1_vocab_size': u'1684', u'enc0_vocab_size': u'944'}\u001b[0m\n",
      "\u001b[34m[05/23/2020 12:55:50 INFO 140557052864320] create_iter content_params {}\u001b[0m\n",
      "\u001b[34m[05/23/2020 12:55:50 INFO 140557052864320] Parameters of encoders: [{u'layers': u'auto', u'vocab_size': u'944', u'network': u'pooled_embedding', u'vocab_file': u'', u'cnn_filter_width': u'3', u'token_embedding_dim': u'300', u'max_seq_len': u'1', u'freeze_pretrained_embedding': u'true', u'pretrained_embedding_file': u''}, {u'layers': u'auto', u'vocab_size': u'1684', u'network': u'pooled_embedding', u'vocab_file': u'', u'cnn_filter_width': u'3', u'token_embedding_dim': u'300', u'max_seq_len': u'1', u'freeze_pretrained_embedding': u'true', u'pretrained_embedding_file': u''}]\u001b[0m\n",
      "\u001b[34m[05/23/2020 12:55:50 INFO 140557052864320] Inconsistent enc_dim and token_embedding_dim found for token-embedding-encoder: 2048 vs 300. Setting token embedding dim to be 2048\u001b[0m\n",
      "\u001b[34m[05/23/2020 12:55:50 INFO 140557052864320] Inconsistent enc_dim and token_embedding_dim found for token-embedding-encoder: 2048 vs 300. Setting token embedding dim to be 2048\u001b[0m\n",
      "\u001b[34m[05/23/2020 12:55:50 INFO 140557052864320] Encoder configs: [{'vocab_size': 944, 'enc_index': 0, 'pretrained_embedding_file_path': None, 'vocab_dict': None, 'token_embedding_dim': 2048, 'vocab_file': '', 'freeze_pretrained_embedding': True, 'num_layers': 1, 'is_train': True, 'dropout': 0.0, 'pretrained_embedding_file': ''}, {'vocab_size': 1684, 'enc_index': 1, 'pretrained_embedding_file_path': None, 'vocab_dict': None, 'token_embedding_dim': 2048, 'vocab_file': '', 'freeze_pretrained_embedding': True, 'num_layers': 1, 'is_train': True, 'dropout': 0.0, 'pretrained_embedding_file': ''}]\u001b[0m\n",
      "\u001b[34m[05/23/2020 12:55:50 INFO 140557052864320] Config: {'comparator_list': ['hadamard', 'concat', 'abs_diff'], 'epochs': 20, 'mini_batch_size': 2048, 'optimizer': 'adam', 'output_layer': 'softmax', 'token_embedding_storage_type': 'dense', 'mlp_dim': 1024, 'early_stopping_tolerance': 0.01, 'dropout': 0.0, 'bucket_width': 0, 'enc_dim': 2048, 'negative_sampling_rate': 0, 'early_stopping_patience': 3, 'learning_rate': 0.001, 'max_seq_lens': [1, 1], 'tied_token_embedding_weight': False, 'enc_configs': [{'vocab_size': 944, 'enc_index': 0, 'pretrained_embedding_file_path': None, 'vocab_dict': None, 'token_embedding_dim': 2048, 'vocab_file': '', 'freeze_pretrained_embedding': True, 'num_layers': 1, 'is_train': True, 'dropout': 0.0, 'pretrained_embedding_file': ''}, {'vocab_size': 1684, 'enc_index': 1, 'pretrained_embedding_file_path': None, 'vocab_dict': None, 'token_embedding_dim': 2048, 'vocab_file': '', 'freeze_pretrained_embedding': True, 'num_layers': 1, 'is_train': True, 'dropout': 0.0, 'pretrained_embedding_file': ''}], 'mlp_layers': 1, 'weight_decay': 0.0, 'mlp_activation': 'relu', 'num_classes': 2}\u001b[0m\n",
      "\u001b[34m[05/23/2020 12:55:50 INFO 140557052864320] use bucketing: False\u001b[0m\n",
      "\u001b[34m[05/23/2020 12:55:50 INFO 140557052864320] Creating data iterator for /opt/ml/input/data/validation\u001b[0m\n",
      "\u001b[34m[05/23/2020 12:55:50 INFO 140557052864320] Source words: 9430\u001b[0m\n",
      "\u001b[34m[05/23/2020 12:55:50 INFO 140557052864320] Target words: 9430\u001b[0m\n",
      "\u001b[34m[05/23/2020 12:55:50 INFO 140557052864320] Total: 9430 samples in 1 buckets\u001b[0m\n",
      "\u001b[34m[05/23/2020 12:55:50 INFO 140557052864320] Bucket of (1, 1) : 9430 samples in 4 batches of 2048, approx 2048.0 words/batch\u001b[0m\n",
      "\u001b[34m[05/23/2020 12:55:50 INFO 140557052864320] 0 sentence pairs discarded\u001b[0m\n",
      "\u001b[34m[05/23/2020 12:55:50 INFO 140557052864320] fill up mode: replicate\u001b[0m\n",
      "\u001b[34m[05/23/2020 12:55:50 INFO 140557052864320] \u001b[0m\n",
      "\u001b[34m[05/23/2020 12:55:50 INFO 140557052864320] Negative sampling not used\u001b[0m\n",
      "\u001b[34m[05/23/2020 12:55:50 INFO 140557052864320] Replicating 810 random sentences from bucket (1, 1) to size it to multiple of 2048\u001b[0m\n",
      "\u001b[34m[05/23/2020 12:55:50 INFO 140557052864320] Parameters of encoders: [{u'layers': u'auto', u'vocab_size': u'944', u'network': u'pooled_embedding', u'vocab_file': u'', u'cnn_filter_width': u'3', u'token_embedding_dim': u'300', u'max_seq_len': u'1', u'freeze_pretrained_embedding': u'true', u'pretrained_embedding_file': u''}, {u'layers': u'auto', u'vocab_size': u'1684', u'network': u'pooled_embedding', u'vocab_file': u'', u'cnn_filter_width': u'3', u'token_embedding_dim': u'300', u'max_seq_len': u'1', u'freeze_pretrained_embedding': u'true', u'pretrained_embedding_file': u''}]\u001b[0m\n",
      "\u001b[34m[05/23/2020 12:55:50 INFO 140557052864320] Inconsistent enc_dim and token_embedding_dim found for token-embedding-encoder: 2048 vs 300. Setting token embedding dim to be 2048\u001b[0m\n",
      "\u001b[34m[05/23/2020 12:55:50 INFO 140557052864320] Inconsistent enc_dim and token_embedding_dim found for token-embedding-encoder: 2048 vs 300. Setting token embedding dim to be 2048\u001b[0m\n",
      "\u001b[34m[05/23/2020 12:55:50 INFO 140557052864320] Encoder configs: [{'vocab_size': 944, 'enc_index': 0, 'pretrained_embedding_file_path': None, 'vocab_dict': None, 'token_embedding_dim': 2048, 'vocab_file': '', 'freeze_pretrained_embedding': True, 'num_layers': 1, 'is_train': True, 'dropout': 0.0, 'pretrained_embedding_file': ''}, {'vocab_size': 1684, 'enc_index': 1, 'pretrained_embedding_file_path': None, 'vocab_dict': None, 'token_embedding_dim': 2048, 'vocab_file': '', 'freeze_pretrained_embedding': True, 'num_layers': 1, 'is_train': True, 'dropout': 0.0, 'pretrained_embedding_file': ''}]\u001b[0m\n",
      "\u001b[34m[05/23/2020 12:55:50 INFO 140557052864320] Config: {'comparator_list': ['hadamard', 'concat', 'abs_diff'], 'epochs': 20, 'mini_batch_size': 2048, 'optimizer': 'adam', 'output_layer': 'softmax', 'token_embedding_storage_type': 'dense', 'mlp_dim': 1024, 'early_stopping_tolerance': 0.01, 'dropout': 0.0, 'bucket_width': 0, 'enc_dim': 2048, 'negative_sampling_rate': 0, 'early_stopping_patience': 3, 'learning_rate': 0.001, 'max_seq_lens': [1, 1], 'tied_token_embedding_weight': False, 'enc_configs': [{'vocab_size': 944, 'enc_index': 0, 'pretrained_embedding_file_path': None, 'vocab_dict': None, 'token_embedding_dim': 2048, 'vocab_file': '', 'freeze_pretrained_embedding': True, 'num_layers': 1, 'is_train': True, 'dropout': 0.0, 'pretrained_embedding_file': ''}, {'vocab_size': 1684, 'enc_index': 1, 'pretrained_embedding_file_path': None, 'vocab_dict': None, 'token_embedding_dim': 2048, 'vocab_file': '', 'freeze_pretrained_embedding': True, 'num_layers': 1, 'is_train': True, 'dropout': 0.0, 'pretrained_embedding_file': ''}], 'mlp_layers': 1, 'weight_decay': 0.0, 'mlp_activation': 'relu', 'num_classes': 2}\u001b[0m\n",
      "\u001b[34m[05/23/2020 12:55:50 INFO 140557052864320] Creating new state\u001b[0m\n",
      "\u001b[34m[05/23/2020 12:55:50 INFO 140557052864320] params {u'comparator_list': u'hadamard, concat, abs_diff', u'enc0_vocab_file': u'', u'output_layer': u'softmax', u'enc0_cnn_filter_width': u'3', u'epochs': u'20', u'mlp_dim': u'1024', u'enc0_freeze_pretrained_embedding': u'true', u'mlp_layers': u'1', u'_num_kv_servers': u'auto', u'weight_decay': 0, u'enc0_pretrained_embedding_file': u'', u'enc0_max_seq_len': u'1', u'token_embedding_storage_type': u'dense', u'enc0_token_embedding_dim': u'300', u'tied_token_embedding_weight': u'false', u'learning_rate': u'0.001', u'enc1_cnn_filter_width': u'3', u'negative_sampling_rate': 0, u'enc0_network': u'pooled_embedding', u'enc1_layers': u'auto', u'early_stopping_patience': u'3', u'optimizer': u'adam', u'enc1_max_seq_len': u'1', u'_tuning_objective_metric': u'', u'early_stopping_tolerance': u'0.01', u'dropout': 0, u'bucket_width': u'0', u'enc_dim': u'2048', 'default_bucket_key': (1, 1), u'enc1_vocab_file': u'', u'enc1_freeze_pretrained_embedding': u'true', u'enc0_layers': u'auto', u'mini_batch_size': u'2048', u'enc1_pretrained_embedding_file': u'', u'num_classes': u'2', u'_num_gpus': u'auto', u'enc1_token_embedding_dim': u'300', u'mlp_activation': u'relu', u'enc1_network': u'pooled_embedding', u'_kvstore': u'device', u'enc1_vocab_size': u'1684', u'enc0_vocab_size': u'944'}\u001b[0m\n",
      "\u001b[34m[05/23/2020 12:55:50 INFO 140557052864320] default_bucket_key (1, 1)\u001b[0m\n",
      "\u001b[34m[05/23/2020 12:55:50 INFO 140557052864320] nvidia-smi took: 0.0251898765564 secs to identify 1 gpus\u001b[0m\n",
      "\u001b[34m[05/23/2020 12:55:50 INFO 140557052864320] Number of GPUs being used: 1\u001b[0m\n",
      "\u001b[34m[05/23/2020 12:55:50 INFO 140557052864320] context [gpu(0)]\u001b[0m\n",
      "\u001b[34m[05/23/2020 12:55:50 INFO 140557052864320] Create Store: device\u001b[0m\n",
      "\u001b[34m[05/23/2020 12:55:50 INFO 140557052864320] Number of GPUs being used: 1\u001b[0m\n",
      "\u001b[34m[05/23/2020 12:55:50 WARNING 140557052864320] dense token embedding is used in a multi-gpu setting...consider changing 'token_embedding_storage_type' to 'row_sparse'\u001b[0m\n",
      "\u001b[34m[05/23/2020 12:55:50 INFO 140557052864320] data_names: ['source', 'target']\u001b[0m\n",
      "\u001b[34m[05/23/2020 12:55:50 INFO 140557052864320] label_names: ['out_layer_label']\u001b[0m\n",
      "\u001b[34m________________________________________________________________________________________________________________________\u001b[0m\n",
      "\u001b[34mLayer (type)                                        Output Shape            Param #     Previous Layer                  \u001b[0m\n",
      "\u001b[34m========================================================================================================================\u001b[0m\n",
      "\u001b[34msource(null)                                        1                       0                                           \u001b[0m\n",
      "\u001b[34m________________________________________________________________________________________________________________________\u001b[0m\n",
      "\u001b[34membed_0(Embedding)                                  1x2048                  0           source                          \u001b[0m\n",
      "\u001b[34m________________________________________________________________________________________________________________________\u001b[0m\n",
      "\u001b[34m_not_equal_scalar0(_not_equal_scalar)               1                       0           source                          \u001b[0m\n",
      "\u001b[34m________________________________________________________________________________________________________________________\u001b[0m\n",
      "\u001b[34mreshape0(Reshape)                                   1x1                     0           _not_equal_scalar0              \u001b[0m\n",
      "\u001b[34m________________________________________________________________________________________________________________________\u001b[0m\n",
      "\u001b[34mbroadcast_mul0(broadcast_mul)                       1x2048                  0           embed_0                         \n",
      "                                                                                        reshape0                        \u001b[0m\n",
      "\u001b[34m________________________________________________________________________________________________________________________\u001b[0m\n",
      "\u001b[34msum0(sum)                                           2048                    0           broadcast_mul0                  \u001b[0m\n",
      "\u001b[34m________________________________________________________________________________________________________________________\u001b[0m\n",
      "\u001b[34msum1(sum)                                           1                       0           reshape0                        \u001b[0m\n",
      "\u001b[34m________________________________________________________________________________________________________________________\u001b[0m\n",
      "\u001b[34mzeros_like0(zeros_like)                             1                       0           sum1                            \u001b[0m\n",
      "\u001b[34m________________________________________________________________________________________________________________________\u001b[0m\n",
      "\u001b[34m_equal0(_equal)                                     1                       0           sum1                            \n",
      "                                                                                        zeros_like0                     \u001b[0m\n",
      "\u001b[34m________________________________________________________________________________________________________________________\u001b[0m\n",
      "\u001b[34m_plus0(elemwise_add)                                1                       0           sum1                            \n",
      "                                                                                        _equal0                         \u001b[0m\n",
      "\u001b[34m________________________________________________________________________________________________________________________\u001b[0m\n",
      "\u001b[34mbroadcast_div0(broadcast_div)                       2048                    0           sum0                            \n",
      "                                                                                        _plus0                          \u001b[0m\n",
      "\u001b[34m________________________________________________________________________________________________________________________\u001b[0m\n",
      "\u001b[34mdropout0(Dropout)                                   2048                    0           broadcast_div0                  \u001b[0m\n",
      "\u001b[34m________________________________________________________________________________________________________________________\u001b[0m\n",
      "\u001b[34membed_1(Embedding)                                  1x2048                  0                                           \u001b[0m\n",
      "\u001b[34m________________________________________________________________________________________________________________________\u001b[0m\n",
      "\u001b[34m_not_equal_scalar1(_not_equal_scalar)               1                       0                                           \u001b[0m\n",
      "\u001b[34m________________________________________________________________________________________________________________________\u001b[0m\n",
      "\u001b[34mreshape1(Reshape)                                   1x1                     0           _not_equal_scalar1              \u001b[0m\n",
      "\u001b[34m________________________________________________________________________________________________________________________\u001b[0m\n",
      "\u001b[34mbroadcast_mul1(broadcast_mul)                       1x2048                  0           embed_1                         \n",
      "                                                                                        reshape1                        \u001b[0m\n",
      "\u001b[34m________________________________________________________________________________________________________________________\u001b[0m\n",
      "\u001b[34msum2(sum)                                           2048                    0           broadcast_mul1                  \u001b[0m\n",
      "\u001b[34m________________________________________________________________________________________________________________________\u001b[0m\n",
      "\u001b[34msum3(sum)                                           1                       0           reshape1                        \u001b[0m\n",
      "\u001b[34m________________________________________________________________________________________________________________________\u001b[0m\n",
      "\u001b[34mzeros_like1(zeros_like)                             1                       0           sum3                            \u001b[0m\n",
      "\u001b[34m________________________________________________________________________________________________________________________\u001b[0m\n",
      "\u001b[34m_equal1(_equal)                                     1                       0           sum3                            \n",
      "                                                                                        zeros_like1                     \u001b[0m\n",
      "\u001b[34m________________________________________________________________________________________________________________________\u001b[0m\n",
      "\u001b[34m_plus1(elemwise_add)                                1                       0           sum3                            \n",
      "                                                                                        _equal1                         \u001b[0m\n",
      "\u001b[34m________________________________________________________________________________________________________________________\u001b[0m\n",
      "\u001b[34mbroadcast_div1(broadcast_div)                       2048                    0           sum2                            \n",
      "                                                                                        _plus1                          \u001b[0m\n",
      "\u001b[34m________________________________________________________________________________________________________________________\u001b[0m\n",
      "\u001b[34mdropout1(Dropout)                                   2048                    0           broadcast_div1                  \u001b[0m\n",
      "\u001b[34m________________________________________________________________________________________________________________________\u001b[0m\n",
      "\u001b[34m_mul0(elemwise_mul)                                 2048                    0           dropout0                        \n",
      "                                                                                        dropout1                        \u001b[0m\n",
      "\u001b[34m________________________________________________________________________________________________________________________\u001b[0m\n",
      "\u001b[34m_minus0(elemwise_sub)                               2048                    0           dropout0                        \n",
      "                                                                                        dropout1                        \u001b[0m\n",
      "\u001b[34m________________________________________________________________________________________________________________________\u001b[0m\n",
      "\u001b[34mabs0(abs)                                           2048                    0           _minus0                         \u001b[0m\n",
      "\u001b[34m________________________________________________________________________________________________________________________\u001b[0m\n",
      "\u001b[34mconcat0(Concat)                                     8192                    0           _mul0                           \n",
      "                                                                                        dropout0                        \n",
      "                                                                                        dropout1                        \n",
      "                                                                                        abs0                            \u001b[0m\n",
      "\u001b[34m________________________________________________________________________________________________________________________\u001b[0m\n",
      "\u001b[34mmlp_fc0(FullyConnected)                             1024                    8389632     concat0                         \u001b[0m\n",
      "\u001b[34m________________________________________________________________________________________________________________________\u001b[0m\n",
      "\u001b[34mactivation0(Activation)                             1024                    0           mlp_fc0                         \u001b[0m\n",
      "\u001b[34m________________________________________________________________________________________________________________________\u001b[0m\n",
      "\u001b[34mdropout2(Dropout)                                   1024                    0           activation0                     \u001b[0m\n",
      "\u001b[34m________________________________________________________________________________________________________________________\u001b[0m\n",
      "\u001b[34moutput_layer(FullyConnected)                        2                       2050        dropout2                        \u001b[0m\n",
      "\u001b[34m________________________________________________________________________________________________________________________\u001b[0m\n",
      "\u001b[34mout_layer(SoftmaxOutput)                            2                       0           output_layer                    \u001b[0m\n",
      "\u001b[34m========================================================================================================================\u001b[0m\n",
      "\u001b[34mTotal params: 8391682\u001b[0m\n",
      "\u001b[34m________________________________________________________________________________________________________________________\u001b[0m\n",
      "\u001b[34m[05/23/2020 12:55:50 INFO 140557052864320] data_shapes [DataDesc[source,(2048, 1),<type 'numpy.float32'>,NTC], DataDesc[target,(2048, 1),<type 'numpy.float32'>,NTC]]\u001b[0m\n",
      "\u001b[34m[05/23/2020 12:55:50 INFO 140557052864320] label_shapes [DataDesc[out_layer_label,(2048,),<type 'numpy.float32'>,NTC]]\u001b[0m\n",
      "\u001b[34m[05/23/2020 12:55:50 INFO 140557052864320] fixed_param_names: []\u001b[0m\n",
      "\u001b[34m[05/23/2020 12:55:50 INFO 140557052864320] Initialized BucketingPlus Module\u001b[0m\n",
      "\u001b[34m[05/23/2020 12:55:55 INFO 140557052864320] arg_params keys for module initialization: []\u001b[0m\n",
      "\u001b[34m[05/23/2020 12:55:55 INFO 140557052864320] all params:['output_layer_weight', 'mlp_fc0_weight', 'mlp_fc0_bias', 'output_layer_bias', 'embed_1_weight', 'embed_0_weight']\u001b[0m\n",
      "\u001b[34m#metrics {\"Metrics\": {\"initialize.time\": {\"count\": 1, \"max\": 4519.7858810424805, \"sum\": 4519.7858810424805, \"min\": 4519.7858810424805}}, \"EndTime\": 1590238555.207215, \"Dimensions\": {\"Host\": \"algo-1\", \"Operation\": \"training\", \"Algorithm\": \"ObjectToVec\"}, \"StartTime\": 1590238547.58585}\n",
      "\u001b[0m\n",
      "\u001b[34m#metrics {\"Metrics\": {\"Max Batches Seen Between Resets\": {\"count\": 1, \"max\": 0, \"sum\": 0.0, \"min\": 0}, \"Number of Batches Since Last Reset\": {\"count\": 1, \"max\": 0, \"sum\": 0.0, \"min\": 0}, \"Number of Records Since Last Reset\": {\"count\": 1, \"max\": 0, \"sum\": 0.0, \"min\": 0}, \"Total Batches Seen\": {\"count\": 1, \"max\": 0, \"sum\": 0.0, \"min\": 0}, \"Total Records Seen\": {\"count\": 1, \"max\": 0, \"sum\": 0.0, \"min\": 0}, \"Max Records Seen Between Resets\": {\"count\": 1, \"max\": 0, \"sum\": 0.0, \"min\": 0}, \"Reset Count\": {\"count\": 1, \"max\": 0, \"sum\": 0.0, \"min\": 0}}, \"EndTime\": 1590238555.207392, \"Dimensions\": {\"Host\": \"algo-1\", \"Meta\": \"init_train_data_iter\", \"Operation\": \"training\", \"Algorithm\": \"ObjectToVec\"}, \"StartTime\": 1590238555.207329}\n",
      "\u001b[0m\n",
      "\u001b[34m[05/23/2020 12:55:59 INFO 140557052864320] **************\u001b[0m\n",
      "\u001b[34m[05/23/2020 12:55:59 INFO 140557052864320] Completed Epoch: 0, time taken: 0:00:04.200942\u001b[0m\n",
      "\u001b[34m[05/23/2020 12:55:59 INFO 140557052864320] Epoch 0 Training metrics:   perplexity: 1.843 cross_entropy: 0.611 accuracy: 0.664 \u001b[0m\n",
      "\u001b[34m[05/23/2020 12:55:59 INFO 140557052864320] #quality_metric: host=algo-1, epoch=0, train cross_entropy <loss>=0.611441500982\u001b[0m\n",
      "\u001b[34m[05/23/2020 12:55:59 INFO 140557052864320] #quality_metric: host=algo-1, epoch=0, train accuracy <score>=0.663628472222\u001b[0m\n",
      "\u001b[34m[05/23/2020 12:55:59 INFO 140557052864320] Epoch 0 Validation metrics: perplexity: 1.789 cross_entropy: 0.582 accuracy: 0.692 \u001b[0m\n",
      "\u001b[34m[05/23/2020 12:55:59 INFO 140557052864320] #quality_metric: host=algo-1, epoch=0, validation cross_entropy <loss>=0.581818199158\u001b[0m\n",
      "\u001b[34m[05/23/2020 12:55:59 INFO 140557052864320] #quality_metric: host=algo-1, epoch=0, validation accuracy <score>=0.6923828125\u001b[0m\n",
      "\u001b[34m[05/23/2020 12:55:59 INFO 140557052864320] **************\u001b[0m\n",
      "\u001b[34m#metrics {\"Metrics\": {\"epochs\": {\"count\": 1, \"max\": 20, \"sum\": 20.0, \"min\": 20}, \"early_stop.time\": {\"count\": 1, \"max\": 0.45800209045410156, \"sum\": 0.45800209045410156, \"min\": 0.45800209045410156}, \"update.time\": {\"count\": 1, \"max\": 4319.4520473480225, \"sum\": 4319.4520473480225, \"min\": 4319.4520473480225}}, \"EndTime\": 1590238559.74803, \"Dimensions\": {\"Host\": \"algo-1\", \"Operation\": \"training\", \"Algorithm\": \"ObjectToVec\"}, \"StartTime\": 1590238555.207285}\n",
      "\u001b[0m\n",
      "\u001b[34m[05/23/2020 12:55:59 INFO 140557052864320] #progress_metric: host=algo-1, completed 5 % of epochs\u001b[0m\n",
      "\u001b[34m#metrics {\"Metrics\": {\"Max Batches Seen Between Resets\": {\"count\": 1, \"max\": 45, \"sum\": 45.0, \"min\": 45}, \"Number of Batches Since Last Reset\": {\"count\": 1, \"max\": 45, \"sum\": 45.0, \"min\": 45}, \"Number of Records Since Last Reset\": {\"count\": 1, \"max\": 92160, \"sum\": 92160.0, \"min\": 92160}, \"Total Batches Seen\": {\"count\": 1, \"max\": 45, \"sum\": 45.0, \"min\": 45}, \"Total Records Seen\": {\"count\": 1, \"max\": 92160, \"sum\": 92160.0, \"min\": 92160}, \"Max Records Seen Between Resets\": {\"count\": 1, \"max\": 92160, \"sum\": 92160.0, \"min\": 92160}, \"Reset Count\": {\"count\": 1, \"max\": 1, \"sum\": 1.0, \"min\": 1}}, \"EndTime\": 1590238559.748315, \"Dimensions\": {\"Host\": \"algo-1\", \"Meta\": \"training_data_iter\", \"Operation\": \"training\", \"Algorithm\": \"ObjectToVec\", \"epoch\": 0}, \"StartTime\": 1590238555.428554}\n",
      "\u001b[0m\n",
      "\u001b[34m[05/23/2020 12:55:59 INFO 140557052864320] #throughput_metric: host=algo-1, train throughput=21333.7822526 records/second\u001b[0m\n",
      "\u001b[34m[05/23/2020 12:56:03 INFO 140557052864320] **************\u001b[0m\n",
      "\u001b[34m[05/23/2020 12:56:03 INFO 140557052864320] Completed Epoch: 1, time taken: 0:00:04.189118\u001b[0m\n",
      "\u001b[34m[05/23/2020 12:56:03 INFO 140557052864320] Epoch 1 Training metrics:   perplexity: 1.721 cross_entropy: 0.543 accuracy: 0.722 \u001b[0m\n",
      "\u001b[34m[05/23/2020 12:56:03 INFO 140557052864320] #quality_metric: host=algo-1, epoch=1, train cross_entropy <loss>=0.54269736343\u001b[0m\n",
      "\u001b[34m[05/23/2020 12:56:03 INFO 140557052864320] #quality_metric: host=algo-1, epoch=1, train accuracy <score>=0.722493489583\u001b[0m\n",
      "\u001b[34m[05/23/2020 12:56:04 INFO 140557052864320] Epoch 1 Validation metrics: perplexity: 1.775 cross_entropy: 0.574 accuracy: 0.702 \u001b[0m\n",
      "\u001b[34m[05/23/2020 12:56:04 INFO 140557052864320] #quality_metric: host=algo-1, epoch=1, validation cross_entropy <loss>=0.573832476139\u001b[0m\n",
      "\u001b[34m[05/23/2020 12:56:04 INFO 140557052864320] #quality_metric: host=algo-1, epoch=1, validation accuracy <score>=0.70244140625\u001b[0m\n",
      "\u001b[34m[05/23/2020 12:56:04 INFO 140557052864320] **************\u001b[0m\n",
      "\u001b[34m#metrics {\"Metrics\": {\"early_stop.time\": {\"count\": 1, \"max\": 3.905057907104492, \"sum\": 3.905057907104492, \"min\": 3.905057907104492}, \"update.time\": {\"count\": 1, \"max\": 4310.465097427368, \"sum\": 4310.465097427368, \"min\": 4310.465097427368}}, \"EndTime\": 1590238564.096869, \"Dimensions\": {\"Host\": \"algo-1\", \"Operation\": \"training\", \"Algorithm\": \"ObjectToVec\"}, \"StartTime\": 1590238559.748134}\n",
      "\u001b[0m\n",
      "\u001b[34m[05/23/2020 12:56:04 INFO 140557052864320] #progress_metric: host=algo-1, completed 10 % of epochs\u001b[0m\n",
      "\u001b[34m#metrics {\"Metrics\": {\"Max Batches Seen Between Resets\": {\"count\": 1, \"max\": 45, \"sum\": 45.0, \"min\": 45}, \"Number of Batches Since Last Reset\": {\"count\": 1, \"max\": 45, \"sum\": 45.0, \"min\": 45}, \"Number of Records Since Last Reset\": {\"count\": 1, \"max\": 92160, \"sum\": 92160.0, \"min\": 92160}, \"Total Batches Seen\": {\"count\": 1, \"max\": 90, \"sum\": 90.0, \"min\": 90}, \"Total Records Seen\": {\"count\": 1, \"max\": 184320, \"sum\": 184320.0, \"min\": 184320}, \"Max Records Seen Between Resets\": {\"count\": 1, \"max\": 92160, \"sum\": 92160.0, \"min\": 92160}, \"Reset Count\": {\"count\": 1, \"max\": 2, \"sum\": 2.0, \"min\": 2}}, \"EndTime\": 1590238564.097174, \"Dimensions\": {\"Host\": \"algo-1\", \"Meta\": \"training_data_iter\", \"Operation\": \"training\", \"Algorithm\": \"ObjectToVec\", \"epoch\": 1}, \"StartTime\": 1590238559.786379}\n",
      "\u001b[0m\n",
      "\u001b[34m[05/23/2020 12:56:04 INFO 140557052864320] #throughput_metric: host=algo-1, train throughput=21378.093481 records/second\u001b[0m\n",
      "\u001b[34m[05/23/2020 12:56:08 INFO 140557052864320] **************\u001b[0m\n",
      "\u001b[34m[05/23/2020 12:56:08 INFO 140557052864320] Completed Epoch: 2, time taken: 0:00:04.119819\u001b[0m\n",
      "\u001b[34m[05/23/2020 12:56:08 INFO 140557052864320] Epoch 2 Training metrics:   perplexity: 1.638 cross_entropy: 0.494 accuracy: 0.760 \u001b[0m\n",
      "\u001b[34m[05/23/2020 12:56:08 INFO 140557052864320] #quality_metric: host=algo-1, epoch=2, train cross_entropy <loss>=0.493538366424\u001b[0m\n",
      "\u001b[34m[05/23/2020 12:56:08 INFO 140557052864320] #quality_metric: host=algo-1, epoch=2, train accuracy <score>=0.759874131944\u001b[0m\n",
      "\u001b[34m[05/23/2020 12:56:08 INFO 140557052864320] Epoch 2 Validation metrics: perplexity: 1.841 cross_entropy: 0.610 accuracy: 0.687 \u001b[0m\n",
      "\u001b[34m[05/23/2020 12:56:08 INFO 140557052864320] #quality_metric: host=algo-1, epoch=2, validation cross_entropy <loss>=0.610267210007\u001b[0m\n",
      "\u001b[34m[05/23/2020 12:56:08 INFO 140557052864320] #quality_metric: host=algo-1, epoch=2, validation accuracy <score>=0.6869140625\u001b[0m\n",
      "\u001b[34m[05/23/2020 12:56:08 INFO 140557052864320] **************\u001b[0m\n",
      "\u001b[34m#metrics {\"Metrics\": {\"early_stop.time\": {\"count\": 1, \"max\": 0.02384185791015625, \"sum\": 0.02384185791015625, \"min\": 0.02384185791015625}, \"update.time\": {\"count\": 1, \"max\": 4236.616134643555, \"sum\": 4236.616134643555, \"min\": 4236.616134643555}}, \"EndTime\": 1590238568.441535, \"Dimensions\": {\"Host\": \"algo-1\", \"Operation\": \"training\", \"Algorithm\": \"ObjectToVec\"}, \"StartTime\": 1590238564.096949}\n",
      "\u001b[0m\n",
      "\u001b[34m[05/23/2020 12:56:08 INFO 140557052864320] #progress_metric: host=algo-1, completed 15 % of epochs\u001b[0m\n",
      "\u001b[34m#metrics {\"Metrics\": {\"Max Batches Seen Between Resets\": {\"count\": 1, \"max\": 45, \"sum\": 45.0, \"min\": 45}, \"Number of Batches Since Last Reset\": {\"count\": 1, \"max\": 45, \"sum\": 45.0, \"min\": 45}, \"Number of Records Since Last Reset\": {\"count\": 1, \"max\": 92160, \"sum\": 92160.0, \"min\": 92160}, \"Total Batches Seen\": {\"count\": 1, \"max\": 135, \"sum\": 135.0, \"min\": 135}, \"Total Records Seen\": {\"count\": 1, \"max\": 276480, \"sum\": 276480.0, \"min\": 276480}, \"Max Records Seen Between Resets\": {\"count\": 1, \"max\": 92160, \"sum\": 92160.0, \"min\": 92160}, \"Reset Count\": {\"count\": 1, \"max\": 3, \"sum\": 3.0, \"min\": 3}}, \"EndTime\": 1590238568.441783, \"Dimensions\": {\"Host\": \"algo-1\", \"Meta\": \"training_data_iter\", \"Operation\": \"training\", \"Algorithm\": \"ObjectToVec\", \"epoch\": 2}, \"StartTime\": 1590238564.204888}\n",
      "\u001b[0m\n",
      "\u001b[34m[05/23/2020 12:56:08 INFO 140557052864320] #throughput_metric: host=algo-1, train throughput=21750.8744104 records/second\u001b[0m\n",
      "\u001b[34m[05/23/2020 12:56:12 INFO 140557052864320] **************\u001b[0m\n",
      "\u001b[34m[05/23/2020 12:56:12 INFO 140557052864320] Completed Epoch: 3, time taken: 0:00:04.131245\u001b[0m\n",
      "\u001b[34m[05/23/2020 12:56:12 INFO 140557052864320] Epoch 3 Training metrics:   perplexity: 1.323 cross_entropy: 0.280 accuracy: 0.891 \u001b[0m\n",
      "\u001b[34m[05/23/2020 12:56:12 INFO 140557052864320] #quality_metric: host=algo-1, epoch=3, train cross_entropy <loss>=0.279919483264\u001b[0m\n",
      "\u001b[34m[05/23/2020 12:56:12 INFO 140557052864320] #quality_metric: host=algo-1, epoch=3, train accuracy <score>=0.891362847222\u001b[0m\n",
      "\u001b[34m[05/23/2020 12:56:12 INFO 140557052864320] Epoch 3 Validation metrics: perplexity: 2.263 cross_entropy: 0.817 accuracy: 0.673 \u001b[0m\n",
      "\u001b[34m[05/23/2020 12:56:12 INFO 140557052864320] #quality_metric: host=algo-1, epoch=3, validation cross_entropy <loss>=0.816592347622\u001b[0m\n",
      "\u001b[34m[05/23/2020 12:56:12 INFO 140557052864320] #quality_metric: host=algo-1, epoch=3, validation accuracy <score>=0.67255859375\u001b[0m\n",
      "\u001b[34m[05/23/2020 12:56:12 INFO 140557052864320] **************\u001b[0m\n",
      "\u001b[34m[05/23/2020 12:56:12 INFO 140557052864320] patience losses: [0.5818181991577148, 0.5738324761390686, 0.6102672100067139]\u001b[0m\n",
      "\u001b[34m[05/23/2020 12:56:12 INFO 140557052864320] min patience losses: 0.573832476139\u001b[0m\n",
      "\u001b[34m[05/23/2020 12:56:12 INFO 140557052864320] current loss: 0.816592347622\u001b[0m\n",
      "\u001b[34m[05/23/2020 12:56:12 INFO 140557052864320] absolute loss difference: 0.242759871483\u001b[0m\n",
      "\u001b[34m[05/23/2020 12:56:12 INFO 140557052864320] Bad epoch: loss has not improved (enough). Bad count:1\u001b[0m\n",
      "\u001b[34m#metrics {\"Metrics\": {\"early_stop.time\": {\"count\": 1, \"max\": 0.5228519439697266, \"sum\": 0.5228519439697266, \"min\": 0.5228519439697266}, \"update.time\": {\"count\": 1, \"max\": 4248.185873031616, \"sum\": 4248.185873031616, \"min\": 4248.185873031616}}, \"EndTime\": 1590238572.693797, \"Dimensions\": {\"Host\": \"algo-1\", \"Operation\": \"training\", \"Algorithm\": \"ObjectToVec\"}, \"StartTime\": 1590238568.441611}\n",
      "\u001b[0m\n",
      "\u001b[34m[05/23/2020 12:56:12 INFO 140557052864320] #progress_metric: host=algo-1, completed 20 % of epochs\u001b[0m\n",
      "\u001b[34m#metrics {\"Metrics\": {\"Max Batches Seen Between Resets\": {\"count\": 1, \"max\": 45, \"sum\": 45.0, \"min\": 45}, \"Number of Batches Since Last Reset\": {\"count\": 1, \"max\": 45, \"sum\": 45.0, \"min\": 45}, \"Number of Records Since Last Reset\": {\"count\": 1, \"max\": 92160, \"sum\": 92160.0, \"min\": 92160}, \"Total Batches Seen\": {\"count\": 1, \"max\": 180, \"sum\": 180.0, \"min\": 180}, \"Total Records Seen\": {\"count\": 1, \"max\": 368640, \"sum\": 368640.0, \"min\": 368640}, \"Max Records Seen Between Resets\": {\"count\": 1, \"max\": 92160, \"sum\": 92160.0, \"min\": 92160}, \"Reset Count\": {\"count\": 1, \"max\": 4, \"sum\": 4.0, \"min\": 4}}, \"EndTime\": 1590238572.69406, \"Dimensions\": {\"Host\": \"algo-1\", \"Meta\": \"training_data_iter\", \"Operation\": \"training\", \"Algorithm\": \"ObjectToVec\", \"epoch\": 3}, \"StartTime\": 1590238568.445588}\n",
      "\u001b[0m\n",
      "\u001b[34m[05/23/2020 12:56:12 INFO 140557052864320] #throughput_metric: host=algo-1, train throughput=21691.841664 records/second\u001b[0m\n",
      "\u001b[34m[05/23/2020 12:56:16 INFO 140557052864320] **************\u001b[0m\n",
      "\u001b[34m[05/23/2020 12:56:16 INFO 140557052864320] Completed Epoch: 4, time taken: 0:00:04.131033\u001b[0m\n",
      "\u001b[34m[05/23/2020 12:56:16 INFO 140557052864320] Epoch 4 Training metrics:   perplexity: 1.057 cross_entropy: 0.056 accuracy: 0.987 \u001b[0m\n",
      "\u001b[34m[05/23/2020 12:56:16 INFO 140557052864320] #quality_metric: host=algo-1, epoch=4, train cross_entropy <loss>=0.0559011891484\u001b[0m\n",
      "\u001b[34m[05/23/2020 12:56:16 INFO 140557052864320] #quality_metric: host=algo-1, epoch=4, train accuracy <score>=0.987413194444\u001b[0m\n",
      "\u001b[34m[05/23/2020 12:56:16 INFO 140557052864320] Epoch 4 Validation metrics: perplexity: 2.702 cross_entropy: 0.994 accuracy: 0.691 \u001b[0m\n",
      "\u001b[34m[05/23/2020 12:56:16 INFO 140557052864320] #quality_metric: host=algo-1, epoch=4, validation cross_entropy <loss>=0.99384663105\u001b[0m\n",
      "\u001b[34m[05/23/2020 12:56:16 INFO 140557052864320] #quality_metric: host=algo-1, epoch=4, validation accuracy <score>=0.69130859375\u001b[0m\n",
      "\u001b[34m[05/23/2020 12:56:16 INFO 140557052864320] **************\u001b[0m\n",
      "\u001b[34m[05/23/2020 12:56:16 INFO 140557052864320] patience losses: [0.5738324761390686, 0.6102672100067139, 0.8165923476219177]\u001b[0m\n",
      "\u001b[34m[05/23/2020 12:56:16 INFO 140557052864320] min patience losses: 0.573832476139\u001b[0m\n",
      "\u001b[34m[05/23/2020 12:56:16 INFO 140557052864320] current loss: 0.99384663105\u001b[0m\n",
      "\u001b[34m[05/23/2020 12:56:16 INFO 140557052864320] absolute loss difference: 0.420014154911\u001b[0m\n",
      "\u001b[34m[05/23/2020 12:56:16 INFO 140557052864320] Bad epoch: loss has not improved (enough). Bad count:2\u001b[0m\n",
      "\u001b[34m#metrics {\"Metrics\": {\"early_stop.time\": {\"count\": 1, \"max\": 0.4830360412597656, \"sum\": 0.4830360412597656, \"min\": 0.4830360412597656}, \"update.time\": {\"count\": 1, \"max\": 4250.098943710327, \"sum\": 4250.098943710327, \"min\": 4250.098943710327}}, \"EndTime\": 1590238576.948111, \"Dimensions\": {\"Host\": \"algo-1\", \"Operation\": \"training\", \"Algorithm\": \"ObjectToVec\"}, \"StartTime\": 1590238572.693892}\n",
      "\u001b[0m\n",
      "\u001b[34m[05/23/2020 12:56:16 INFO 140557052864320] #progress_metric: host=algo-1, completed 25 % of epochs\u001b[0m\n",
      "\u001b[34m#metrics {\"Metrics\": {\"Max Batches Seen Between Resets\": {\"count\": 1, \"max\": 45, \"sum\": 45.0, \"min\": 45}, \"Number of Batches Since Last Reset\": {\"count\": 1, \"max\": 45, \"sum\": 45.0, \"min\": 45}, \"Number of Records Since Last Reset\": {\"count\": 1, \"max\": 92160, \"sum\": 92160.0, \"min\": 92160}, \"Total Batches Seen\": {\"count\": 1, \"max\": 225, \"sum\": 225.0, \"min\": 225}, \"Total Records Seen\": {\"count\": 1, \"max\": 460800, \"sum\": 460800.0, \"min\": 460800}, \"Max Records Seen Between Resets\": {\"count\": 1, \"max\": 92160, \"sum\": 92160.0, \"min\": 92160}, \"Reset Count\": {\"count\": 1, \"max\": 5, \"sum\": 5.0, \"min\": 5}}, \"EndTime\": 1590238576.948376, \"Dimensions\": {\"Host\": \"algo-1\", \"Meta\": \"training_data_iter\", \"Operation\": \"training\", \"Algorithm\": \"ObjectToVec\", \"epoch\": 4}, \"StartTime\": 1590238572.697996}\n",
      "\u001b[0m\n",
      "\u001b[34m[05/23/2020 12:56:16 INFO 140557052864320] #throughput_metric: host=algo-1, train throughput=21682.0627952 records/second\u001b[0m\n",
      "\u001b[34m[05/23/2020 12:56:21 INFO 140557052864320] **************\u001b[0m\n",
      "\u001b[34m[05/23/2020 12:56:21 INFO 140557052864320] Completed Epoch: 5, time taken: 0:00:04.149312\u001b[0m\n",
      "\u001b[34m[05/23/2020 12:56:21 INFO 140557052864320] Epoch 5 Training metrics:   perplexity: 1.010 cross_entropy: 0.010 accuracy: 0.999 \u001b[0m\n",
      "\u001b[34m[05/23/2020 12:56:21 INFO 140557052864320] #quality_metric: host=algo-1, epoch=5, train cross_entropy <loss>=0.00958665200613\u001b[0m\n",
      "\u001b[34m[05/23/2020 12:56:21 INFO 140557052864320] #quality_metric: host=algo-1, epoch=5, train accuracy <score>=0.999197048611\u001b[0m\n",
      "\u001b[34m[05/23/2020 12:56:21 INFO 140557052864320] Epoch 5 Validation metrics: perplexity: 2.952 cross_entropy: 1.083 accuracy: 0.696 \u001b[0m\n",
      "\u001b[34m[05/23/2020 12:56:21 INFO 140557052864320] #quality_metric: host=algo-1, epoch=5, validation cross_entropy <loss>=1.08260293007\u001b[0m\n",
      "\u001b[34m[05/23/2020 12:56:21 INFO 140557052864320] #quality_metric: host=algo-1, epoch=5, validation accuracy <score>=0.69560546875\u001b[0m\n",
      "\u001b[34m[05/23/2020 12:56:21 INFO 140557052864320] **************\u001b[0m\n",
      "\u001b[34m[05/23/2020 12:56:21 INFO 140557052864320] patience losses: [0.6102672100067139, 0.8165923476219177, 0.9938466310501098]\u001b[0m\n",
      "\u001b[34m[05/23/2020 12:56:21 INFO 140557052864320] min patience losses: 0.610267210007\u001b[0m\n",
      "\u001b[34m[05/23/2020 12:56:21 INFO 140557052864320] current loss: 1.08260293007\u001b[0m\n",
      "\u001b[34m[05/23/2020 12:56:21 INFO 140557052864320] absolute loss difference: 0.472335720062\u001b[0m\n",
      "\u001b[34m[05/23/2020 12:56:21 INFO 140557052864320] Bad epoch: loss has not improved (enough). Bad count:3\u001b[0m\n",
      "\u001b[34m#metrics {\"Metrics\": {\"early_stop.time\": {\"count\": 1, \"max\": 0.47278404235839844, \"sum\": 0.47278404235839844, \"min\": 0.47278404235839844}, \"update.time\": {\"count\": 1, \"max\": 4265.501976013184, \"sum\": 4265.501976013184, \"min\": 4265.501976013184}}, \"EndTime\": 1590238581.21777, \"Dimensions\": {\"Host\": \"algo-1\", \"Operation\": \"training\", \"Algorithm\": \"ObjectToVec\"}, \"StartTime\": 1590238576.948198}\n",
      "\u001b[0m\n",
      "\u001b[34m[05/23/2020 12:56:21 INFO 140557052864320] #progress_metric: host=algo-1, completed 30 % of epochs\u001b[0m\n",
      "\u001b[34m#metrics {\"Metrics\": {\"Max Batches Seen Between Resets\": {\"count\": 1, \"max\": 45, \"sum\": 45.0, \"min\": 45}, \"Number of Batches Since Last Reset\": {\"count\": 1, \"max\": 45, \"sum\": 45.0, \"min\": 45}, \"Number of Records Since Last Reset\": {\"count\": 1, \"max\": 92160, \"sum\": 92160.0, \"min\": 92160}, \"Total Batches Seen\": {\"count\": 1, \"max\": 270, \"sum\": 270.0, \"min\": 270}, \"Total Records Seen\": {\"count\": 1, \"max\": 552960, \"sum\": 552960.0, \"min\": 552960}, \"Max Records Seen Between Resets\": {\"count\": 1, \"max\": 92160, \"sum\": 92160.0, \"min\": 92160}, \"Reset Count\": {\"count\": 1, \"max\": 6, \"sum\": 6.0, \"min\": 6}}, \"EndTime\": 1590238581.218043, \"Dimensions\": {\"Host\": \"algo-1\", \"Meta\": \"training_data_iter\", \"Operation\": \"training\", \"Algorithm\": \"ObjectToVec\", \"epoch\": 5}, \"StartTime\": 1590238576.952248}\n",
      "\u001b[0m\n",
      "\u001b[34m[05/23/2020 12:56:21 INFO 140557052864320] #throughput_metric: host=algo-1, train throughput=21603.7858773 records/second\u001b[0m\n",
      "\u001b[34m[05/23/2020 12:56:25 INFO 140557052864320] **************\u001b[0m\n",
      "\u001b[34m[05/23/2020 12:56:25 INFO 140557052864320] Completed Epoch: 6, time taken: 0:00:04.139638\u001b[0m\n",
      "\u001b[34m[05/23/2020 12:56:25 INFO 140557052864320] Epoch 6 Training metrics:   perplexity: 1.002 cross_entropy: 0.002 accuracy: 1.000 \u001b[0m\n",
      "\u001b[34m[05/23/2020 12:56:25 INFO 140557052864320] #quality_metric: host=algo-1, epoch=6, train cross_entropy <loss>=0.00226500928402\u001b[0m\n",
      "\u001b[34m[05/23/2020 12:56:25 INFO 140557052864320] #quality_metric: host=algo-1, epoch=6, train accuracy <score>=0.999978298611\u001b[0m\n",
      "\u001b[34m[05/23/2020 12:56:25 INFO 140557052864320] Epoch 6 Validation metrics: perplexity: 3.129 cross_entropy: 1.141 accuracy: 0.696 \u001b[0m\n",
      "\u001b[34m[05/23/2020 12:56:25 INFO 140557052864320] #quality_metric: host=algo-1, epoch=6, validation cross_entropy <loss>=1.14059729576\u001b[0m\n",
      "\u001b[34m[05/23/2020 12:56:25 INFO 140557052864320] #quality_metric: host=algo-1, epoch=6, validation accuracy <score>=0.6962890625\u001b[0m\n",
      "\u001b[34m[05/23/2020 12:56:25 INFO 140557052864320] **************\u001b[0m\n",
      "\u001b[34m[05/23/2020 12:56:25 INFO 140557052864320] patience losses: [0.8165923476219177, 0.9938466310501098, 1.0826029300689697]\u001b[0m\n",
      "\u001b[34m[05/23/2020 12:56:25 INFO 140557052864320] min patience losses: 0.816592347622\u001b[0m\n",
      "\u001b[34m[05/23/2020 12:56:25 INFO 140557052864320] current loss: 1.14059729576\u001b[0m\n",
      "\u001b[34m[05/23/2020 12:56:25 INFO 140557052864320] absolute loss difference: 0.324004948139\u001b[0m\n",
      "\u001b[34m[05/23/2020 12:56:25 INFO 140557052864320] Bad epoch: loss has not improved (enough). Bad count:4\u001b[0m\n",
      "\u001b[34m[05/23/2020 12:56:25 INFO 140557052864320] Bad epochs exceeded patience. Stopping training early!\u001b[0m\n",
      "\u001b[34m[05/23/2020 12:56:25 INFO 140557052864320] Early stopping criterion met! Stopping training at epoch: 6\u001b[0m\n",
      "\u001b[34m#metrics {\"Metrics\": {\"early_stop.time\": {\"count\": 1, \"max\": 0.6000995635986328, \"sum\": 0.6000995635986328, \"min\": 0.6000995635986328}, \"update.time\": {\"count\": 1, \"max\": 4260.12110710144, \"sum\": 4260.12110710144, \"min\": 4260.12110710144}}, \"EndTime\": 1590238585.48195, \"Dimensions\": {\"Host\": \"algo-1\", \"Operation\": \"training\", \"Algorithm\": \"ObjectToVec\"}, \"StartTime\": 1590238581.217861}\n",
      "\u001b[0m\n",
      "\u001b[34m[05/23/2020 12:56:25 INFO 140557052864320] Early stop condition met. Stopping training.\u001b[0m\n",
      "\u001b[34m[05/23/2020 12:56:25 INFO 140557052864320] #progress_metric: host=algo-1, completed 100 % epochs\u001b[0m\n",
      "\u001b[34m#metrics {\"Metrics\": {\"Max Batches Seen Between Resets\": {\"count\": 1, \"max\": 45, \"sum\": 45.0, \"min\": 45}, \"Number of Batches Since Last Reset\": {\"count\": 1, \"max\": 45, \"sum\": 45.0, \"min\": 45}, \"Number of Records Since Last Reset\": {\"count\": 1, \"max\": 92160, \"sum\": 92160.0, \"min\": 92160}, \"Total Batches Seen\": {\"count\": 1, \"max\": 315, \"sum\": 315.0, \"min\": 315}, \"Total Records Seen\": {\"count\": 1, \"max\": 645120, \"sum\": 645120.0, \"min\": 645120}, \"Max Records Seen Between Resets\": {\"count\": 1, \"max\": 92160, \"sum\": 92160.0, \"min\": 92160}, \"Reset Count\": {\"count\": 1, \"max\": 7, \"sum\": 7.0, \"min\": 7}}, \"EndTime\": 1590238585.482328, \"Dimensions\": {\"Host\": \"algo-1\", \"Meta\": \"training_data_iter\", \"Operation\": \"training\", \"Algorithm\": \"ObjectToVec\", \"epoch\": 6}, \"StartTime\": 1590238581.221807}\n",
      "\u001b[0m\n",
      "\u001b[34m[05/23/2020 12:56:25 INFO 140557052864320] #throughput_metric: host=algo-1, train throughput=21630.4568015 records/second\u001b[0m\n",
      "\u001b[34m[05/23/2020 12:56:25 WARNING 140557052864320] wait_for_all_workers will not sync workers since the kv store is not running distributed\u001b[0m\n",
      "\u001b[34m[05/23/2020 12:56:25 INFO 140557052864320] Best model based on epoch 1. Best loss: 0.574\u001b[0m\n",
      "\u001b[34m#metrics {\"Metrics\": {\"finalize.time\": {\"count\": 1, \"max\": 0.9050369262695312, \"sum\": 0.9050369262695312, \"min\": 0.9050369262695312}}, \"EndTime\": 1590238585.483575, \"Dimensions\": {\"Host\": \"algo-1\", \"Operation\": \"training\", \"Algorithm\": \"ObjectToVec\"}, \"StartTime\": 1590238585.482045}\n",
      "\u001b[0m\n",
      "\u001b[34m[05/23/2020 12:56:25 INFO 140557052864320] Serializing model to /opt/ml/model/model_algo-1\u001b[0m\n",
      "\u001b[34m[05/23/2020 12:56:25 INFO 140557052864320] Saved checkpoint to \"/tmp/tmpWiXH0C/state-0001.params\"\u001b[0m\n",
      "\u001b[34m[05/23/2020 12:56:25 INFO 140557052864320] Test data is not provided.\u001b[0m\n",
      "\u001b[34m#metrics {\"Metrics\": {\"totaltime\": {\"count\": 1, \"max\": 38434.229135513306, \"sum\": 38434.229135513306, \"min\": 38434.229135513306}, \"model.serialize.time\": {\"count\": 1, \"max\": 223.52194786071777, \"sum\": 223.52194786071777, \"min\": 223.52194786071777}, \"setuptime\": {\"count\": 1, \"max\": 269.0761089324951, \"sum\": 269.0761089324951, \"min\": 269.0761089324951}}, \"EndTime\": 1590238585.713365, \"Dimensions\": {\"Host\": \"algo-1\", \"Operation\": \"training\", \"Algorithm\": \"ObjectToVec\"}, \"StartTime\": 1590238585.483628}\n",
      "\u001b[0m\n",
      "\n",
      "2020-05-23 12:56:41 Uploading - Uploading generated training model\n",
      "2020-05-23 12:56:41 Completed - Training job completed\n",
      "Training seconds: 125\n",
      "Billable seconds: 125\n"
     ]
    }
   ],
   "source": [
    "## get estimator\n",
    "classifier = sagemaker.estimator.Estimator(\n",
    "    container,\n",
    "    role, \n",
    "    train_instance_count=1, \n",
    "    train_instance_type='ml.p2.xlarge',\n",
    "    output_path=output_path,\n",
    "    sagemaker_session=sess)\n",
    "\n",
    "## set hyperparameters\n",
    "classifier.set_hyperparameters(**hyperparameters_c)\n",
    "\n",
    "## train, tune, and test the model\n",
    "classifier.fit(input_paths)"
   ]
  },
  {
   "cell_type": "markdown",
   "metadata": {},
   "source": [
    "Again, we can create, deploy, and validate the model after training"
   ]
  },
  {
   "cell_type": "code",
   "execution_count": 103,
   "metadata": {},
   "outputs": [
    {
     "name": "stdout",
     "output_type": "stream",
     "text": [
      "--------------!"
     ]
    }
   ],
   "source": [
    "classification_model = classifier.create_model(\n",
    "    serializer=json_serializer,\n",
    "    deserializer=json_deserializer,\n",
    "    content_type='application/json')\n",
    "\n",
    "predictor_2 = classification_model.deploy(initial_instance_count=1, instance_type='ml.m4.xlarge')"
   ]
  },
  {
   "cell_type": "code",
   "execution_count": 104,
   "metadata": {},
   "outputs": [],
   "source": [
    "valid_c_data, valid_c_label = data_list_to_inference_format(\n",
    "    copy.deepcopy(validation_data_list), \n",
    "    label_thres=3, binarize=True)\n",
    "\n",
    "predictions = predictor_2.predict(valid_c_data)"
   ]
  },
  {
   "cell_type": "code",
   "execution_count": 105,
   "metadata": {},
   "outputs": [
    {
     "name": "stdout",
     "output_type": "stream",
     "text": [
      "The accuracy on the binarized validation set is 0.703\n"
     ]
    }
   ],
   "source": [
    "def get_class_accuracy(res, labels, thres):\n",
    "    if type(res) is dict:\n",
    "        res = res['predictions']\n",
    "    assert len(res)==len(labels), 'result and label length mismatch!'\n",
    "    accuracy = 0\n",
    "    for row, label in zip(res, labels):\n",
    "        if type(row) is dict:\n",
    "            if row['scores'][1] > thres:\n",
    "                prediction = 1\n",
    "            else: \n",
    "                prediction = 0\n",
    "            if label > thres:\n",
    "                label = 1\n",
    "            else:\n",
    "                label = 0\n",
    "            accuracy += 1 - (prediction - label)**2\n",
    "    return accuracy / float(len(res))\n",
    "\n",
    "print(\"The accuracy on the binarized validation set is %.3f\" %get_class_accuracy(predictions, valid_c_label, 0.5))"
   ]
  },
  {
   "cell_type": "markdown",
   "metadata": {},
   "source": [
    "The accuracy on validation set you would get should be approximately 0.704."
   ]
  },
  {
   "cell_type": "markdown",
   "metadata": {},
   "source": [
    "## Movie retrieval in the embedding space\n",
    "\n",
    "Since *Object2Vec* transforms user and movie ID's into embeddings as part of the training process. After training, it obtains user and movie embeddings in the left and right encoders, respectively. Intuitively, the embeddings should be tuned by the algorithm in a way that facilitates the supervised learning task: since for a specific user, similar movies should have similar ratings, we expect that similar movies should be **close-by** in the embedding space.\n",
    "\n",
    "In this section, we demonstrate how to find the nearest-neighbor (in Euclidean distance) of a given movie ID, among all movie ID's."
   ]
  },
  {
   "cell_type": "code",
   "execution_count": 106,
   "metadata": {},
   "outputs": [],
   "source": [
    "def get_movie_embedding_dict(movie_ids, trained_model):\n",
    "    input_instances = list()\n",
    "    for s_id in movie_ids:\n",
    "        input_instances.append({'in1': [s_id]})\n",
    "    data = {'instances': input_instances}\n",
    "    movie_embeddings = trained_model.predict(data)\n",
    "    embedding_dict = {}\n",
    "    for s_id, row in zip(movie_ids, movie_embeddings['predictions']):\n",
    "        embedding_dict[s_id] = np.array(row['embeddings'])\n",
    "    return embedding_dict\n",
    "\n",
    "\n",
    "def load_movie_id_name_map(item_file):\n",
    "    movieID_name_map = {}\n",
    "    with open(item_file, 'r', encoding=\"ISO-8859-1\") as f:\n",
    "        for row in f.readlines():\n",
    "            row = row.strip()\n",
    "            split = row.split('|')\n",
    "            movie_id = split[0]\n",
    "            movie_name = split[1]\n",
    "            sparse_tags = split[-19:]\n",
    "            movieID_name_map[int(movie_id)] = movie_name \n",
    "    return movieID_name_map\n",
    "\n",
    "            \n",
    "def get_nn_of_movie(movie_id, candidate_movie_ids, embedding_dict):\n",
    "    movie_emb = embedding_dict[movie_id]\n",
    "    min_dist = float('Inf')\n",
    "    best_id = candidate_movie_ids[0]\n",
    "    for idx, m_id in enumerate(candidate_movie_ids):\n",
    "        candidate_emb = embedding_dict[m_id]\n",
    "        curr_dist = np.linalg.norm(candidate_emb - movie_emb)\n",
    "        if curr_dist < min_dist:\n",
    "            best_id = m_id\n",
    "            min_dist = curr_dist\n",
    "    return best_id, min_dist\n",
    "\n",
    "\n",
    "def get_unique_movie_ids(data_list):\n",
    "    unique_movie_ids = set()\n",
    "    for row in data_list:\n",
    "        unique_movie_ids.add(row['in1'][0])\n",
    "    return list(unique_movie_ids)"
   ]
  },
  {
   "cell_type": "code",
   "execution_count": 107,
   "metadata": {},
   "outputs": [],
   "source": [
    "train_data_list = load_csv_data(train_path, '\\t', verbose=False)\n",
    "\n",
    "unique_movie_ids = get_unique_movie_ids(train_data_list)\n",
    "\n",
    "embedding_dict = get_movie_embedding_dict(unique_movie_ids, predictor_2)\n",
    "\n",
    "candidate_movie_ids = unique_movie_ids.copy()"
   ]
  },
  {
   "cell_type": "markdown",
   "metadata": {},
   "source": [
    "Using the script below, you can check out what is the closest movie to any movie in the data set. Last time we ran it, the closest movie to `Terminator, The (1984)` in the embedding space was `Die Hard (1988)`. Note that, the result will likely differ slightly across different runs of the algorithm, due to randomness in initialization of model parameters.\n",
    "\n",
    "- Just plug in the movie id you want to examine \n",
    "   - For example, the movie ID for Terminator is 195; you can find the movie name and ID pair in the `u.item` file\n",
    "- Note that, the result will likely differ across different runs of the algorithm, due to inherent randomness."
   ]
  },
  {
   "cell_type": "code",
   "execution_count": 108,
   "metadata": {
    "tags": [
     "parameters"
    ]
   },
   "outputs": [],
   "source": [
    "movie_id_to_examine = '195' # Customize the movie ID you want to examine"
   ]
  },
  {
   "cell_type": "code",
   "execution_count": 109,
   "metadata": {},
   "outputs": [],
   "source": [
    "candidate_movie_ids.remove(movie_id_to_examine)"
   ]
  },
  {
   "cell_type": "code",
   "execution_count": 110,
   "metadata": {},
   "outputs": [
    {
     "ename": "KeyError",
     "evalue": "'195'",
     "output_type": "error",
     "traceback": [
      "\u001b[0;31m\u001b[0m",
      "\u001b[0;31mKeyError\u001b[0mTraceback (most recent call last)",
      "\u001b[0;32m<ipython-input-110-aadd37fb2a10>\u001b[0m in \u001b[0;36m<module>\u001b[0;34m()\u001b[0m\n\u001b[0;32m----> 1\u001b[0;31m \u001b[0mbest_id\u001b[0m\u001b[0;34m,\u001b[0m \u001b[0mmin_dist\u001b[0m \u001b[0;34m=\u001b[0m \u001b[0mget_nn_of_movie\u001b[0m\u001b[0;34m(\u001b[0m\u001b[0mmovie_id_to_examine\u001b[0m\u001b[0;34m,\u001b[0m \u001b[0mcandidate_movie_ids\u001b[0m\u001b[0;34m,\u001b[0m \u001b[0membedding_dict\u001b[0m\u001b[0;34m)\u001b[0m\u001b[0;34m\u001b[0m\u001b[0m\n\u001b[0m\u001b[1;32m      2\u001b[0m \u001b[0mprint\u001b[0m\u001b[0;34m(\u001b[0m\u001b[0mbest_id\u001b[0m\u001b[0;34m)\u001b[0m\u001b[0;34m\u001b[0m\u001b[0m\n\u001b[1;32m      3\u001b[0m \u001b[0mprint\u001b[0m\u001b[0;34m(\u001b[0m\u001b[0mmin_dist\u001b[0m\u001b[0;34m)\u001b[0m\u001b[0;34m\u001b[0m\u001b[0m\n",
      "\u001b[0;32m<ipython-input-106-20527024679b>\u001b[0m in \u001b[0;36mget_nn_of_movie\u001b[0;34m(movie_id, candidate_movie_ids, embedding_dict)\u001b[0m\n\u001b[1;32m     25\u001b[0m \u001b[0;34m\u001b[0m\u001b[0m\n\u001b[1;32m     26\u001b[0m \u001b[0;32mdef\u001b[0m \u001b[0mget_nn_of_movie\u001b[0m\u001b[0;34m(\u001b[0m\u001b[0mmovie_id\u001b[0m\u001b[0;34m,\u001b[0m \u001b[0mcandidate_movie_ids\u001b[0m\u001b[0;34m,\u001b[0m \u001b[0membedding_dict\u001b[0m\u001b[0;34m)\u001b[0m\u001b[0;34m:\u001b[0m\u001b[0;34m\u001b[0m\u001b[0m\n\u001b[0;32m---> 27\u001b[0;31m     \u001b[0mmovie_emb\u001b[0m \u001b[0;34m=\u001b[0m \u001b[0membedding_dict\u001b[0m\u001b[0;34m[\u001b[0m\u001b[0mmovie_id\u001b[0m\u001b[0;34m]\u001b[0m\u001b[0;34m\u001b[0m\u001b[0m\n\u001b[0m\u001b[1;32m     28\u001b[0m     \u001b[0mmin_dist\u001b[0m \u001b[0;34m=\u001b[0m \u001b[0mfloat\u001b[0m\u001b[0;34m(\u001b[0m\u001b[0;34m'Inf'\u001b[0m\u001b[0;34m)\u001b[0m\u001b[0;34m\u001b[0m\u001b[0m\n\u001b[1;32m     29\u001b[0m     \u001b[0mbest_id\u001b[0m \u001b[0;34m=\u001b[0m \u001b[0mcandidate_movie_ids\u001b[0m\u001b[0;34m[\u001b[0m\u001b[0;36m0\u001b[0m\u001b[0;34m]\u001b[0m\u001b[0;34m\u001b[0m\u001b[0m\n",
      "\u001b[0;31mKeyError\u001b[0m: '195'"
     ]
    }
   ],
   "source": [
    "best_id, min_dist = get_nn_of_movie(movie_id_to_examine, candidate_movie_ids, embedding_dict)\n",
    "print(best_id)\n",
    "print(min_dist)"
   ]
  },
  {
   "cell_type": "code",
   "execution_count": 109,
   "metadata": {},
   "outputs": [
    {
     "ename": "ValueError",
     "evalue": "list.remove(x): x not in list",
     "output_type": "error",
     "traceback": [
      "\u001b[0;31m\u001b[0m",
      "\u001b[0;31mValueError\u001b[0mTraceback (most recent call last)",
      "\u001b[0;32m<ipython-input-109-7ae5fca18b54>\u001b[0m in \u001b[0;36m<module>\u001b[0;34m()\u001b[0m\n\u001b[0;32m----> 1\u001b[0;31m \u001b[0mcandidate_movie_ids\u001b[0m\u001b[0;34m.\u001b[0m\u001b[0mremove\u001b[0m\u001b[0;34m(\u001b[0m\u001b[0mmovie_id_to_examine\u001b[0m\u001b[0;34m)\u001b[0m\u001b[0;34m\u001b[0m\u001b[0m\n\u001b[0m\u001b[1;32m      2\u001b[0m \u001b[0mbest_id\u001b[0m\u001b[0;34m,\u001b[0m \u001b[0mmin_dist\u001b[0m \u001b[0;34m=\u001b[0m \u001b[0mget_nn_of_movie\u001b[0m\u001b[0;34m(\u001b[0m\u001b[0mmovie_id_to_examine\u001b[0m\u001b[0;34m,\u001b[0m \u001b[0mcandidate_movie_ids\u001b[0m\u001b[0;34m,\u001b[0m \u001b[0membedding_dict\u001b[0m\u001b[0;34m)\u001b[0m\u001b[0;34m\u001b[0m\u001b[0m\n\u001b[1;32m      3\u001b[0m \u001b[0mmovieID_name_map\u001b[0m \u001b[0;34m=\u001b[0m \u001b[0mload_movie_id_name_map\u001b[0m\u001b[0;34m(\u001b[0m\u001b[0;34m'ml-100k/u.item'\u001b[0m\u001b[0;34m)\u001b[0m\u001b[0;34m\u001b[0m\u001b[0m\n\u001b[1;32m      4\u001b[0m print('The closest movie to {} in the embedding space is {}'.format(movieID_name_map[movie_id_to_examine],\n\u001b[1;32m      5\u001b[0m                                                                   movieID_name_map[best_id]))\n",
      "\u001b[0;31mValueError\u001b[0m: list.remove(x): x not in list"
     ]
    }
   ],
   "source": [
    "movieID_name_map = load_movie_id_name_map('ml-100k/u.item')\n",
    "\n",
    "print('The closest movie to {} in the embedding space is {}'.format(movieID_name_map[movie_id_to_examine],\n",
    "                                                                  movieID_name_map[best_id]))\n",
    "candidate_movie_ids.append(movie_id_to_examine)"
   ]
  },
  {
   "cell_type": "markdown",
   "metadata": {},
   "source": [
    "It is recommended to always delete the endpoints used for hosting the model"
   ]
  },
  {
   "cell_type": "code",
   "execution_count": 111,
   "metadata": {},
   "outputs": [],
   "source": [
    "## clean up\n",
    "sess.delete_endpoint(predictor.endpoint)\n",
    "sess.delete_endpoint(predictor_2.endpoint)"
   ]
  },
  {
   "cell_type": "code",
   "execution_count": null,
   "metadata": {},
   "outputs": [],
   "source": []
  }
 ],
 "metadata": {
  "celltoolbar": "Tags",
  "kernelspec": {
   "display_name": "conda_python3",
   "language": "python",
   "name": "conda_python3"
  },
  "language_info": {
   "codemirror_mode": {
    "name": "ipython",
    "version": 3
   },
   "file_extension": ".py",
   "mimetype": "text/x-python",
   "name": "python",
   "nbconvert_exporter": "python",
   "pygments_lexer": "ipython3",
   "version": "3.6.5-final"
  }
 },
 "nbformat": 4,
 "nbformat_minor": 4
}