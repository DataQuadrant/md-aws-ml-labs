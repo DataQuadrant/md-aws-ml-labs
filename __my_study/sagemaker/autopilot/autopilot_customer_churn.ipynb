{
 "cells": [
  {
   "cell_type": "markdown",
   "metadata": {},
   "source": [
    "# Customer Churn Prediction with Amazon SageMaker Autopilot\n",
    "_**Using AutoPilot to Predict Mobile Customer Departure**_\n",
    "\n",
    "---\n",
    "\n",
    "---\n",
    "\n",
    "Kernel `Python 3 (Data Science)` works well with this notebook.\n",
    "\n",
    "## Contents\n",
    "\n",
    "1. [Introduction](#Introduction)\n",
    "1. [Setup](#Setup)\n",
    "1. [Data](#Data)\n",
    "1. [Train](#Settingup)\n",
    "1. [Autopilot Results](#Results)\n",
    "1. [Host](#Host)\n",
    "1. [Cleanup](#Cleanup)\n",
    "\n",
    "\n",
    "---\n",
    "\n",
    "## Introduction\n",
    "\n",
    "Amazon SageMaker Autopilot is an automated machine learning (commonly referred to as AutoML) solution for tabular datasets. You can use SageMaker Autopilot in different ways: on autopilot (hence the name) or with human guidance, without code through SageMaker Studio, or using the AWS SDKs. This notebook, as a first glimpse, will use the AWS SDKs to simply create and deploy a machine learning model.\n",
    "\n",
    "Losing customers is costly for any business.  Identifying unhappy customers early on gives you a chance to offer them incentives to stay.  This notebook describes using machine learning (ML) for the automated identification of unhappy customers, also known as customer churn prediction. ML models rarely give perfect predictions though, so this notebook is also about how to incorporate the relative costs of prediction mistakes when determining the financial outcome of using ML.\n",
    "\n",
    "We use an example of churn that is familiar to all of us–leaving a mobile phone operator.  Seems like I can always find fault with my provider du jour! And if my provider knows that I’m thinking of leaving, it can offer timely incentives–I can always use a phone upgrade or perhaps have a new feature activated–and I might just stick around. Incentives are often much more cost effective than losing and reacquiring a customer.\n",
    "\n",
    "---\n",
    "## Setup\n",
    "\n",
    "_This notebook was created and tested on an ml.m4.xlarge notebook instance._\n",
    "\n",
    "Let's start by specifying:\n",
    "\n",
    "- The S3 bucket and prefix that you want to use for training and model data.  This should be within the same region as the Notebook Instance, training, and hosting.\n",
    "- The IAM role arn used to give training and hosting access to your data. See the documentation for how to create these.  Note, if more than one role is required for notebook instances, training, and/or hosting, please replace the boto regexp with a the appropriate full IAM role arn string(s)."
   ]
  },
  {
   "cell_type": "code",
   "execution_count": 9,
   "metadata": {
    "isConfigCell": true,
    "tags": [
     "parameters"
    ]
   },
   "outputs": [],
   "source": [
    "import sagemaker\n",
    "import boto3\n",
    "from sagemaker import get_execution_role\n",
    "\n",
    "region = boto3.Session().region_name\n",
    "\n",
    "session = sagemaker.Session()\n",
    "\n",
    "# You can modify the following to use a bucket of your choosing\n",
    "# bucket = session.default_bucket()\n",
    "bucket = 'md-backup-bucket-01'\n",
    "prefix = 'DEMO-autopilot-churn'\n",
    "\n",
    "# role = get_execution_role()\n",
    "role = 'arn:aws:iam::558157414092:role/service-role/AmazonSageMaker-ExecutionRole-20200523T082014'\n",
    "\n",
    "# This is the client we will use to interact with SageMaker AutoPilot\n",
    "sm = boto3.Session().client(service_name='sagemaker',region_name=region)"
   ]
  },
  {
   "cell_type": "markdown",
   "metadata": {},
   "source": [
    "Next, we'll import the Python libraries we'll need for the remainder of the exercise."
   ]
  },
  {
   "cell_type": "code",
   "execution_count": 10,
   "metadata": {},
   "outputs": [],
   "source": [
    "import pandas as pd\n",
    "import numpy as np\n",
    "import matplotlib.pyplot as plt\n",
    "import io\n",
    "import os\n",
    "import sys\n",
    "import time\n",
    "import json\n",
    "from IPython.display import display\n",
    "from time import strftime, gmtime\n",
    "import sagemaker\n",
    "from sagemaker.predictor import csv_serializer"
   ]
  },
  {
   "cell_type": "markdown",
   "metadata": {},
   "source": [
    "---\n",
    "## Data\n",
    "\n",
    "Mobile operators have historical records on which customers ultimately ended up churning and which continued using the service. We can use this historical information to construct an ML model of one mobile operator’s churn using a process called training. After training the model, we can pass the profile information of an arbitrary customer (the same profile information that we used to train the model) to the model, and have the model predict whether this customer is going to churn. Of course, we expect the model to make mistakes–after all, predicting the future is tricky business! But I’ll also show how to deal with prediction errors.\n",
    "\n",
    "The dataset we use is publicly available and was mentioned in the book [Discovering Knowledge in Data](https://www.amazon.com/dp/0470908742/) by Daniel T. Larose. It is attributed by the author to the University of California Irvine Repository of Machine Learning Datasets.  Let's download and read that dataset in now:"
   ]
  },
  {
   "cell_type": "code",
   "execution_count": 11,
   "metadata": {},
   "outputs": [
    {
     "output_type": "stream",
     "name": "stdout",
     "text": "--2020-05-28 18:40:32--  http://dataminingconsultant.com/DKD2e_data_sets.zip\nResolving dataminingconsultant.com (dataminingconsultant.com)...160.153.91.162\nConnecting to dataminingconsultant.com (dataminingconsultant.com)|160.153.91.162|:80...connected.\nHTTP request sent, awaiting response...200 OK\nLength: 1003616 (980K) [application/zip]\nSaving to: ‘DKD2e_data_sets.zip.1’\n\nDKD2e_data_sets.zip 100%[===================>] 980.09K   285KB/s    in 3.4s    \n\n2020-05-28 18:40:35 (285 KB/s) - ‘DKD2e_data_sets.zip.1’ saved [1003616/1003616]\n\nArchive:  DKD2e_data_sets.zip\n extracting: Data sets/adult.zip     \n  inflating: Data sets/cars.txt      \n  inflating: Data sets/cars2.txt     \n  inflating: Data sets/cereals.CSV   \n  inflating: Data sets/churn.txt     \n  inflating: Data sets/ClassifyRisk  \n  inflating: Data sets/ClassifyRisk - Missing.txt  \n extracting: Data sets/DKD2e data sets.zip  \n  inflating: Data sets/nn1.txt       \n"
    }
   ],
   "source": [
    "!wget http://dataminingconsultant.com/DKD2e_data_sets.zip\n",
    "!unzip -o DKD2e_data_sets.zip"
   ]
  },
  {
   "cell_type": "markdown",
   "metadata": {},
   "source": [
    "### Upload the dataset to S3\n",
    "\n",
    "Before you run Autopilot on the dataset, first perform a check of the dataset to make sure that it has no obvious errors. The Autopilot process can take long time, and it's generally a good practice to inspect the dataset before you start a job. This particular dataset is small, so you can inspect it in the notebook instance itself. If you have a larger dataset that will not fit in a notebook instance memory, inspect the dataset offline using a big data analytics tool like Apache Spark. [Deequ](https://github.com/awslabs/deequ) is a library built on top of Apache Spark that can be helpful for performing checks on large datasets. Autopilot is capable of handling datasets up to 5 GB.\n",
    "\n",
    "Read the data into a Pandas data frame and take a look."
   ]
  },
  {
   "cell_type": "code",
   "execution_count": 12,
   "metadata": {},
   "outputs": [
    {
     "output_type": "execute_result",
     "data": {
      "text/plain": "     State  Account Length  Area Code     Phone Int'l Plan VMail Plan  \\\n0       KS             128        415  382-4657         no        yes   \n1       OH             107        415  371-7191         no        yes   \n2       NJ             137        415  358-1921         no         no   \n3       OH              84        408  375-9999        yes         no   \n4       OK              75        415  330-6626        yes         no   \n5       AL             118        510  391-8027        yes         no   \n6       MA             121        510  355-9993         no        yes   \n7       MO             147        415  329-9001        yes         no   \n8       LA             117        408  335-4719         no         no   \n9       WV             141        415  330-8173        yes        yes   \n10      IN              65        415  329-6603         no         no   \n11      RI              74        415  344-9403         no         no   \n12      IA             168        408  363-1107         no         no   \n13      MT              95        510  394-8006         no         no   \n14      IA              62        415  366-9238         no         no   \n15      NY             161        415  351-7269         no         no   \n16      ID              85        408  350-8884         no        yes   \n17      VT              93        510  386-2923         no         no   \n18      VA              76        510  356-2992         no        yes   \n19      TX              73        415  373-2782         no         no   \n20      FL             147        415  396-5800         no         no   \n21      CO              77        408  393-7984         no         no   \n22      AZ             130        415  358-1958         no         no   \n23      SC             111        415  350-2565         no         no   \n24      VA             132        510  343-4696         no         no   \n25      NE             174        415  331-3698         no         no   \n26      WY              57        408  357-3817         no        yes   \n27      MT              54        408  418-6412         no         no   \n28      MO              20        415  353-2630         no         no   \n29      HI              49        510  410-7789         no         no   \n...    ...             ...        ...       ...        ...        ...   \n3303    WI             114        415  373-7308         no        yes   \n3304    IL              71        510  330-7137        yes         no   \n3305    IN              58        415  406-8445         no        yes   \n3306    AL             106        408  404-5283         no        yes   \n3307    OK             172        408  398-3632         no         no   \n3308    IA              45        415  399-5763         no         no   \n3309    VT             100        408  340-9449        yes         no   \n3310    NY              94        415  363-1123         no         no   \n3311    LA             128        415  361-2170         no         no   \n3312    SC             181        408  406-6304         no         no   \n3313    ID             127        408  392-5090         no         no   \n3314    MO              89        415  373-7713         no         no   \n3315    ME             149        415  392-1376         no        yes   \n3316    MS             103        510  390-6388         no        yes   \n3317    SD             163        415  379-7290        yes         no   \n3318    OK              52        415  397-9928         no         no   \n3319    WY              89        415  378-6924         no         no   \n3320    GA             122        510  411-5677        yes         no   \n3321    VT              60        415  400-2738         no         no   \n3322    MD              62        408  409-1856         no         no   \n3323    IN             117        415  362-5899         no         no   \n3324    WV             159        415  377-1164         no         no   \n3325    OH              78        408  368-8555         no         no   \n3326    OH              96        415  347-6812         no         no   \n3327    SC              79        415  348-3830         no         no   \n3328    AZ             192        415  414-4276         no        yes   \n3329    WV              68        415  370-3271         no         no   \n3330    RI              28        510  328-8230         no         no   \n3331    CT             184        510  364-6381        yes         no   \n3332    TN              74        415  400-4344         no        yes   \n\n      VMail Message  Day Mins  Day Calls  Day Charge  Eve Mins  Eve Calls  \\\n0                25     265.1        110       45.07     197.4         99   \n1                26     161.6        123       27.47     195.5        103   \n2                 0     243.4        114       41.38     121.2        110   \n3                 0     299.4         71       50.90      61.9         88   \n4                 0     166.7        113       28.34     148.3        122   \n5                 0     223.4         98       37.98     220.6        101   \n6                24     218.2         88       37.09     348.5        108   \n7                 0     157.0         79       26.69     103.1         94   \n8                 0     184.5         97       31.37     351.6         80   \n9                37     258.6         84       43.96     222.0        111   \n10                0     129.1        137       21.95     228.5         83   \n11                0     187.7        127       31.91     163.4        148   \n12                0     128.8         96       21.90     104.9         71   \n13                0     156.6         88       26.62     247.6         75   \n14                0     120.7         70       20.52     307.2         76   \n15                0     332.9         67       56.59     317.8         97   \n16               27     196.4        139       33.39     280.9         90   \n17                0     190.7        114       32.42     218.2        111   \n18               33     189.7         66       32.25     212.8         65   \n19                0     224.4         90       38.15     159.5         88   \n20                0     155.1        117       26.37     239.7         93   \n21                0      62.4         89       10.61     169.9        121   \n22                0     183.0        112       31.11      72.9         99   \n23                0     110.4        103       18.77     137.3        102   \n24                0      81.1         86       13.79     245.2         72   \n25                0     124.3         76       21.13     277.1        112   \n26               39     213.0        115       36.21     191.1        112   \n27                0     134.3         73       22.83     155.5        100   \n28                0     190.0        109       32.30     258.2         84   \n29                0     119.3        117       20.28     215.1        109   \n...             ...       ...        ...         ...       ...        ...   \n3303             26     137.1         88       23.31     155.7        125   \n3304              0     186.1        114       31.64     198.6        140   \n3305             22     224.1        127       38.10     238.8         85   \n3306             29      83.6        131       14.21     203.9        131   \n3307              0     203.9        109       34.66     234.0        123   \n3308              0     211.3         87       35.92     165.7         97   \n3309              0     219.4        112       37.30     225.7        102   \n3310              0     190.4         91       32.37      92.0        107   \n3311              0     147.7         94       25.11     283.3         83   \n3312              0     229.9        130       39.08     144.4         93   \n3313              0     102.8        128       17.48     143.7         95   \n3314              0     178.7         81       30.38     233.7         74   \n3315             18     148.5        106       25.25     114.5        106   \n3316             29     164.1        111       27.90     219.1         96   \n3317              0     197.2         90       33.52     188.5        113   \n3318              0     124.9        131       21.23     300.5        118   \n3319              0     115.4         99       19.62     209.9        115   \n3320              0     140.0        101       23.80     196.4         77   \n3321              0     193.9        118       32.96      85.0        110   \n3322              0     321.1        105       54.59     265.5        122   \n3323              0     118.4        126       20.13     249.3         97   \n3324              0     169.8        114       28.87     197.7        105   \n3325              0     193.4         99       32.88     116.9         88   \n3326              0     106.6        128       18.12     284.8         87   \n3327              0     134.7         98       22.90     189.7         68   \n3328             36     156.2         77       26.55     215.5        126   \n3329              0     231.1         57       39.29     153.4         55   \n3330              0     180.8        109       30.74     288.8         58   \n3331              0     213.8        105       36.35     159.6         84   \n3332             25     234.4        113       39.85     265.9         82   \n\n      Eve Charge  Night Mins  Night Calls  Night Charge  Intl Mins  \\\n0          16.78       244.7           91         11.01       10.0   \n1          16.62       254.4          103         11.45       13.7   \n2          10.30       162.6          104          7.32       12.2   \n3           5.26       196.9           89          8.86        6.6   \n4          12.61       186.9          121          8.41       10.1   \n5          18.75       203.9          118          9.18        6.3   \n6          29.62       212.6          118          9.57        7.5   \n7           8.76       211.8           96          9.53        7.1   \n8          29.89       215.8           90          9.71        8.7   \n9          18.87       326.4           97         14.69       11.2   \n10         19.42       208.8          111          9.40       12.7   \n11         13.89       196.0           94          8.82        9.1   \n12          8.92       141.1          128          6.35       11.2   \n13         21.05       192.3          115          8.65       12.3   \n14         26.11       203.0           99          9.14       13.1   \n15         27.01       160.6          128          7.23        5.4   \n16         23.88        89.3           75          4.02       13.8   \n17         18.55       129.6          121          5.83        8.1   \n18         18.09       165.7          108          7.46       10.0   \n19         13.56       192.8           74          8.68       13.0   \n20         20.37       208.8          133          9.40       10.6   \n21         14.44       209.6           64          9.43        5.7   \n22          6.20       181.8           78          8.18        9.5   \n23         11.67       189.6          105          8.53        7.7   \n24         20.84       237.0          115         10.67       10.3   \n25         23.55       250.7          115         11.28       15.5   \n26         16.24       182.7          115          8.22        9.5   \n27         13.22       102.1           68          4.59       14.7   \n28         21.95       181.5          102          8.17        6.3   \n29         18.28       178.7           90          8.04       11.1   \n...          ...         ...          ...           ...        ...   \n3303       13.23       247.6           94         11.14       11.5   \n3304       16.88       206.5           80          9.29       13.8   \n3305       20.30       174.2           86          7.84       11.5   \n3306       17.33       229.5           73         10.33        8.1   \n3307       19.89       160.7           65          7.23       17.8   \n3308       14.08       265.9           72         11.97       13.3   \n3309       19.18       255.3           95         11.49       12.0   \n3310        7.82       224.8          108         10.12       13.6   \n3311       24.08       188.3          124          8.47        6.9   \n3312       12.27       262.4          110         11.81       14.2   \n3313       12.21       191.4           97          8.61       10.0   \n3314       19.86       131.9          120          5.94        9.1   \n3315        9.73       178.3           98          8.02        6.5   \n3316       18.62       220.3          108          9.91       12.3   \n3317       16.02       211.1           94          9.50        7.8   \n3318       25.54       192.5          106          8.66       11.6   \n3319       17.84       280.9          112         12.64       15.9   \n3320       16.69       120.1          133          5.40        9.7   \n3321        7.23       210.1          134          9.45       13.2   \n3322       22.57       180.5           72          8.12       11.5   \n3323       21.19       227.0           56         10.22       13.6   \n3324       16.80       193.7           82          8.72       11.6   \n3325        9.94       243.3          109         10.95        9.3   \n3326       24.21       178.9           92          8.05       14.9   \n3327       16.12       221.4          128          9.96       11.8   \n3328       18.32       279.1           83         12.56        9.9   \n3329       13.04       191.3          123          8.61        9.6   \n3330       24.55       191.9           91          8.64       14.1   \n3331       13.57       139.2          137          6.26        5.0   \n3332       22.60       241.4           77         10.86       13.7   \n\n      Intl Calls  Intl Charge  CustServ Calls  Churn?  \n0              3         2.70               1  False.  \n1              3         3.70               1  False.  \n2              5         3.29               0  False.  \n3              7         1.78               2  False.  \n4              3         2.73               3  False.  \n5              6         1.70               0  False.  \n6              7         2.03               3  False.  \n7              6         1.92               0  False.  \n8              4         2.35               1  False.  \n9              5         3.02               0  False.  \n10             6         3.43               4   True.  \n11             5         2.46               0  False.  \n12             2         3.02               1  False.  \n13             5         3.32               3  False.  \n14             6         3.54               4  False.  \n15             9         1.46               4   True.  \n16             4         3.73               1  False.  \n17             3         2.19               3  False.  \n18             5         2.70               1  False.  \n19             2         3.51               1  False.  \n20             4         2.86               0  False.  \n21             6         1.54               5   True.  \n22            19         2.57               0  False.  \n23             6         2.08               2  False.  \n24             2         2.78               0  False.  \n25             5         4.19               3  False.  \n26             3         2.57               0  False.  \n27             4         3.97               3  False.  \n28             6         1.70               0  False.  \n29             1         3.00               1  False.  \n...          ...          ...             ...     ...  \n3303           7         3.11               2  False.  \n3304           5         3.73               4   True.  \n3305           7         3.11               2  False.  \n3306           3         2.19               1  False.  \n3307           4         4.81               4  False.  \n3308           6         3.59               1  False.  \n3309           4         3.24               4  False.  \n3310          17         3.67               2  False.  \n3311           5         1.86               2  False.  \n3312           4         3.83               2  False.  \n3313           5         2.70               1  False.  \n3314           4         2.46               1  False.  \n3315           4         1.76               0  False.  \n3316           9         3.32               0  False.  \n3317           8         2.11               1  False.  \n3318           4         3.13               2  False.  \n3319           6         4.29               3  False.  \n3320           4         2.62               4   True.  \n3321           8         3.56               3  False.  \n3322           2         3.11               4   True.  \n3323           3         3.67               5   True.  \n3324           4         3.13               1  False.  \n3325           4         2.51               2  False.  \n3326           7         4.02               1  False.  \n3327           5         3.19               2  False.  \n3328           6         2.67               2  False.  \n3329           4         2.59               3  False.  \n3330           6         3.81               2  False.  \n3331          10         1.35               2  False.  \n3332           4         3.70               0  False.  \n\n[3333 rows x 21 columns]",
      "text/html": "<div>\n<style scoped>\n    .dataframe tbody tr th:only-of-type {\n        vertical-align: middle;\n    }\n\n    .dataframe tbody tr th {\n        vertical-align: top;\n    }\n\n    .dataframe thead th {\n        text-align: right;\n    }\n</style>\n<table border=\"1\" class=\"dataframe\">\n  <thead>\n    <tr style=\"text-align: right;\">\n      <th></th>\n      <th>State</th>\n      <th>Account Length</th>\n      <th>Area Code</th>\n      <th>Phone</th>\n      <th>Int'l Plan</th>\n      <th>VMail Plan</th>\n      <th>VMail Message</th>\n      <th>Day Mins</th>\n      <th>Day Calls</th>\n      <th>Day Charge</th>\n      <th>Eve Mins</th>\n      <th>Eve Calls</th>\n      <th>Eve Charge</th>\n      <th>Night Mins</th>\n      <th>Night Calls</th>\n      <th>Night Charge</th>\n      <th>Intl Mins</th>\n      <th>Intl Calls</th>\n      <th>Intl Charge</th>\n      <th>CustServ Calls</th>\n      <th>Churn?</th>\n    </tr>\n  </thead>\n  <tbody>\n    <tr>\n      <th>0</th>\n      <td>KS</td>\n      <td>128</td>\n      <td>415</td>\n      <td>382-4657</td>\n      <td>no</td>\n      <td>yes</td>\n      <td>25</td>\n      <td>265.1</td>\n      <td>110</td>\n      <td>45.07</td>\n      <td>197.4</td>\n      <td>99</td>\n      <td>16.78</td>\n      <td>244.7</td>\n      <td>91</td>\n      <td>11.01</td>\n      <td>10.0</td>\n      <td>3</td>\n      <td>2.70</td>\n      <td>1</td>\n      <td>False.</td>\n    </tr>\n    <tr>\n      <th>1</th>\n      <td>OH</td>\n      <td>107</td>\n      <td>415</td>\n      <td>371-7191</td>\n      <td>no</td>\n      <td>yes</td>\n      <td>26</td>\n      <td>161.6</td>\n      <td>123</td>\n      <td>27.47</td>\n      <td>195.5</td>\n      <td>103</td>\n      <td>16.62</td>\n      <td>254.4</td>\n      <td>103</td>\n      <td>11.45</td>\n      <td>13.7</td>\n      <td>3</td>\n      <td>3.70</td>\n      <td>1</td>\n      <td>False.</td>\n    </tr>\n    <tr>\n      <th>2</th>\n      <td>NJ</td>\n      <td>137</td>\n      <td>415</td>\n      <td>358-1921</td>\n      <td>no</td>\n      <td>no</td>\n      <td>0</td>\n      <td>243.4</td>\n      <td>114</td>\n      <td>41.38</td>\n      <td>121.2</td>\n      <td>110</td>\n      <td>10.30</td>\n      <td>162.6</td>\n      <td>104</td>\n      <td>7.32</td>\n      <td>12.2</td>\n      <td>5</td>\n      <td>3.29</td>\n      <td>0</td>\n      <td>False.</td>\n    </tr>\n    <tr>\n      <th>3</th>\n      <td>OH</td>\n      <td>84</td>\n      <td>408</td>\n      <td>375-9999</td>\n      <td>yes</td>\n      <td>no</td>\n      <td>0</td>\n      <td>299.4</td>\n      <td>71</td>\n      <td>50.90</td>\n      <td>61.9</td>\n      <td>88</td>\n      <td>5.26</td>\n      <td>196.9</td>\n      <td>89</td>\n      <td>8.86</td>\n      <td>6.6</td>\n      <td>7</td>\n      <td>1.78</td>\n      <td>2</td>\n      <td>False.</td>\n    </tr>\n    <tr>\n      <th>4</th>\n      <td>OK</td>\n      <td>75</td>\n      <td>415</td>\n      <td>330-6626</td>\n      <td>yes</td>\n      <td>no</td>\n      <td>0</td>\n      <td>166.7</td>\n      <td>113</td>\n      <td>28.34</td>\n      <td>148.3</td>\n      <td>122</td>\n      <td>12.61</td>\n      <td>186.9</td>\n      <td>121</td>\n      <td>8.41</td>\n      <td>10.1</td>\n      <td>3</td>\n      <td>2.73</td>\n      <td>3</td>\n      <td>False.</td>\n    </tr>\n    <tr>\n      <th>5</th>\n      <td>AL</td>\n      <td>118</td>\n      <td>510</td>\n      <td>391-8027</td>\n      <td>yes</td>\n      <td>no</td>\n      <td>0</td>\n      <td>223.4</td>\n      <td>98</td>\n      <td>37.98</td>\n      <td>220.6</td>\n      <td>101</td>\n      <td>18.75</td>\n      <td>203.9</td>\n      <td>118</td>\n      <td>9.18</td>\n      <td>6.3</td>\n      <td>6</td>\n      <td>1.70</td>\n      <td>0</td>\n      <td>False.</td>\n    </tr>\n    <tr>\n      <th>6</th>\n      <td>MA</td>\n      <td>121</td>\n      <td>510</td>\n      <td>355-9993</td>\n      <td>no</td>\n      <td>yes</td>\n      <td>24</td>\n      <td>218.2</td>\n      <td>88</td>\n      <td>37.09</td>\n      <td>348.5</td>\n      <td>108</td>\n      <td>29.62</td>\n      <td>212.6</td>\n      <td>118</td>\n      <td>9.57</td>\n      <td>7.5</td>\n      <td>7</td>\n      <td>2.03</td>\n      <td>3</td>\n      <td>False.</td>\n    </tr>\n    <tr>\n      <th>7</th>\n      <td>MO</td>\n      <td>147</td>\n      <td>415</td>\n      <td>329-9001</td>\n      <td>yes</td>\n      <td>no</td>\n      <td>0</td>\n      <td>157.0</td>\n      <td>79</td>\n      <td>26.69</td>\n      <td>103.1</td>\n      <td>94</td>\n      <td>8.76</td>\n      <td>211.8</td>\n      <td>96</td>\n      <td>9.53</td>\n      <td>7.1</td>\n      <td>6</td>\n      <td>1.92</td>\n      <td>0</td>\n      <td>False.</td>\n    </tr>\n    <tr>\n      <th>8</th>\n      <td>LA</td>\n      <td>117</td>\n      <td>408</td>\n      <td>335-4719</td>\n      <td>no</td>\n      <td>no</td>\n      <td>0</td>\n      <td>184.5</td>\n      <td>97</td>\n      <td>31.37</td>\n      <td>351.6</td>\n      <td>80</td>\n      <td>29.89</td>\n      <td>215.8</td>\n      <td>90</td>\n      <td>9.71</td>\n      <td>8.7</td>\n      <td>4</td>\n      <td>2.35</td>\n      <td>1</td>\n      <td>False.</td>\n    </tr>\n    <tr>\n      <th>9</th>\n      <td>WV</td>\n      <td>141</td>\n      <td>415</td>\n      <td>330-8173</td>\n      <td>yes</td>\n      <td>yes</td>\n      <td>37</td>\n      <td>258.6</td>\n      <td>84</td>\n      <td>43.96</td>\n      <td>222.0</td>\n      <td>111</td>\n      <td>18.87</td>\n      <td>326.4</td>\n      <td>97</td>\n      <td>14.69</td>\n      <td>11.2</td>\n      <td>5</td>\n      <td>3.02</td>\n      <td>0</td>\n      <td>False.</td>\n    </tr>\n    <tr>\n      <th>10</th>\n      <td>IN</td>\n      <td>65</td>\n      <td>415</td>\n      <td>329-6603</td>\n      <td>no</td>\n      <td>no</td>\n      <td>0</td>\n      <td>129.1</td>\n      <td>137</td>\n      <td>21.95</td>\n      <td>228.5</td>\n      <td>83</td>\n      <td>19.42</td>\n      <td>208.8</td>\n      <td>111</td>\n      <td>9.40</td>\n      <td>12.7</td>\n      <td>6</td>\n      <td>3.43</td>\n      <td>4</td>\n      <td>True.</td>\n    </tr>\n    <tr>\n      <th>11</th>\n      <td>RI</td>\n      <td>74</td>\n      <td>415</td>\n      <td>344-9403</td>\n      <td>no</td>\n      <td>no</td>\n      <td>0</td>\n      <td>187.7</td>\n      <td>127</td>\n      <td>31.91</td>\n      <td>163.4</td>\n      <td>148</td>\n      <td>13.89</td>\n      <td>196.0</td>\n      <td>94</td>\n      <td>8.82</td>\n      <td>9.1</td>\n      <td>5</td>\n      <td>2.46</td>\n      <td>0</td>\n      <td>False.</td>\n    </tr>\n    <tr>\n      <th>12</th>\n      <td>IA</td>\n      <td>168</td>\n      <td>408</td>\n      <td>363-1107</td>\n      <td>no</td>\n      <td>no</td>\n      <td>0</td>\n      <td>128.8</td>\n      <td>96</td>\n      <td>21.90</td>\n      <td>104.9</td>\n      <td>71</td>\n      <td>8.92</td>\n      <td>141.1</td>\n      <td>128</td>\n      <td>6.35</td>\n      <td>11.2</td>\n      <td>2</td>\n      <td>3.02</td>\n      <td>1</td>\n      <td>False.</td>\n    </tr>\n    <tr>\n      <th>13</th>\n      <td>MT</td>\n      <td>95</td>\n      <td>510</td>\n      <td>394-8006</td>\n      <td>no</td>\n      <td>no</td>\n      <td>0</td>\n      <td>156.6</td>\n      <td>88</td>\n      <td>26.62</td>\n      <td>247.6</td>\n      <td>75</td>\n      <td>21.05</td>\n      <td>192.3</td>\n      <td>115</td>\n      <td>8.65</td>\n      <td>12.3</td>\n      <td>5</td>\n      <td>3.32</td>\n      <td>3</td>\n      <td>False.</td>\n    </tr>\n    <tr>\n      <th>14</th>\n      <td>IA</td>\n      <td>62</td>\n      <td>415</td>\n      <td>366-9238</td>\n      <td>no</td>\n      <td>no</td>\n      <td>0</td>\n      <td>120.7</td>\n      <td>70</td>\n      <td>20.52</td>\n      <td>307.2</td>\n      <td>76</td>\n      <td>26.11</td>\n      <td>203.0</td>\n      <td>99</td>\n      <td>9.14</td>\n      <td>13.1</td>\n      <td>6</td>\n      <td>3.54</td>\n      <td>4</td>\n      <td>False.</td>\n    </tr>\n    <tr>\n      <th>15</th>\n      <td>NY</td>\n      <td>161</td>\n      <td>415</td>\n      <td>351-7269</td>\n      <td>no</td>\n      <td>no</td>\n      <td>0</td>\n      <td>332.9</td>\n      <td>67</td>\n      <td>56.59</td>\n      <td>317.8</td>\n      <td>97</td>\n      <td>27.01</td>\n      <td>160.6</td>\n      <td>128</td>\n      <td>7.23</td>\n      <td>5.4</td>\n      <td>9</td>\n      <td>1.46</td>\n      <td>4</td>\n      <td>True.</td>\n    </tr>\n    <tr>\n      <th>16</th>\n      <td>ID</td>\n      <td>85</td>\n      <td>408</td>\n      <td>350-8884</td>\n      <td>no</td>\n      <td>yes</td>\n      <td>27</td>\n      <td>196.4</td>\n      <td>139</td>\n      <td>33.39</td>\n      <td>280.9</td>\n      <td>90</td>\n      <td>23.88</td>\n      <td>89.3</td>\n      <td>75</td>\n      <td>4.02</td>\n      <td>13.8</td>\n      <td>4</td>\n      <td>3.73</td>\n      <td>1</td>\n      <td>False.</td>\n    </tr>\n    <tr>\n      <th>17</th>\n      <td>VT</td>\n      <td>93</td>\n      <td>510</td>\n      <td>386-2923</td>\n      <td>no</td>\n      <td>no</td>\n      <td>0</td>\n      <td>190.7</td>\n      <td>114</td>\n      <td>32.42</td>\n      <td>218.2</td>\n      <td>111</td>\n      <td>18.55</td>\n      <td>129.6</td>\n      <td>121</td>\n      <td>5.83</td>\n      <td>8.1</td>\n      <td>3</td>\n      <td>2.19</td>\n      <td>3</td>\n      <td>False.</td>\n    </tr>\n    <tr>\n      <th>18</th>\n      <td>VA</td>\n      <td>76</td>\n      <td>510</td>\n      <td>356-2992</td>\n      <td>no</td>\n      <td>yes</td>\n      <td>33</td>\n      <td>189.7</td>\n      <td>66</td>\n      <td>32.25</td>\n      <td>212.8</td>\n      <td>65</td>\n      <td>18.09</td>\n      <td>165.7</td>\n      <td>108</td>\n      <td>7.46</td>\n      <td>10.0</td>\n      <td>5</td>\n      <td>2.70</td>\n      <td>1</td>\n      <td>False.</td>\n    </tr>\n    <tr>\n      <th>19</th>\n      <td>TX</td>\n      <td>73</td>\n      <td>415</td>\n      <td>373-2782</td>\n      <td>no</td>\n      <td>no</td>\n      <td>0</td>\n      <td>224.4</td>\n      <td>90</td>\n      <td>38.15</td>\n      <td>159.5</td>\n      <td>88</td>\n      <td>13.56</td>\n      <td>192.8</td>\n      <td>74</td>\n      <td>8.68</td>\n      <td>13.0</td>\n      <td>2</td>\n      <td>3.51</td>\n      <td>1</td>\n      <td>False.</td>\n    </tr>\n    <tr>\n      <th>20</th>\n      <td>FL</td>\n      <td>147</td>\n      <td>415</td>\n      <td>396-5800</td>\n      <td>no</td>\n      <td>no</td>\n      <td>0</td>\n      <td>155.1</td>\n      <td>117</td>\n      <td>26.37</td>\n      <td>239.7</td>\n      <td>93</td>\n      <td>20.37</td>\n      <td>208.8</td>\n      <td>133</td>\n      <td>9.40</td>\n      <td>10.6</td>\n      <td>4</td>\n      <td>2.86</td>\n      <td>0</td>\n      <td>False.</td>\n    </tr>\n    <tr>\n      <th>21</th>\n      <td>CO</td>\n      <td>77</td>\n      <td>408</td>\n      <td>393-7984</td>\n      <td>no</td>\n      <td>no</td>\n      <td>0</td>\n      <td>62.4</td>\n      <td>89</td>\n      <td>10.61</td>\n      <td>169.9</td>\n      <td>121</td>\n      <td>14.44</td>\n      <td>209.6</td>\n      <td>64</td>\n      <td>9.43</td>\n      <td>5.7</td>\n      <td>6</td>\n      <td>1.54</td>\n      <td>5</td>\n      <td>True.</td>\n    </tr>\n    <tr>\n      <th>22</th>\n      <td>AZ</td>\n      <td>130</td>\n      <td>415</td>\n      <td>358-1958</td>\n      <td>no</td>\n      <td>no</td>\n      <td>0</td>\n      <td>183.0</td>\n      <td>112</td>\n      <td>31.11</td>\n      <td>72.9</td>\n      <td>99</td>\n      <td>6.20</td>\n      <td>181.8</td>\n      <td>78</td>\n      <td>8.18</td>\n      <td>9.5</td>\n      <td>19</td>\n      <td>2.57</td>\n      <td>0</td>\n      <td>False.</td>\n    </tr>\n    <tr>\n      <th>23</th>\n      <td>SC</td>\n      <td>111</td>\n      <td>415</td>\n      <td>350-2565</td>\n      <td>no</td>\n      <td>no</td>\n      <td>0</td>\n      <td>110.4</td>\n      <td>103</td>\n      <td>18.77</td>\n      <td>137.3</td>\n      <td>102</td>\n      <td>11.67</td>\n      <td>189.6</td>\n      <td>105</td>\n      <td>8.53</td>\n      <td>7.7</td>\n      <td>6</td>\n      <td>2.08</td>\n      <td>2</td>\n      <td>False.</td>\n    </tr>\n    <tr>\n      <th>24</th>\n      <td>VA</td>\n      <td>132</td>\n      <td>510</td>\n      <td>343-4696</td>\n      <td>no</td>\n      <td>no</td>\n      <td>0</td>\n      <td>81.1</td>\n      <td>86</td>\n      <td>13.79</td>\n      <td>245.2</td>\n      <td>72</td>\n      <td>20.84</td>\n      <td>237.0</td>\n      <td>115</td>\n      <td>10.67</td>\n      <td>10.3</td>\n      <td>2</td>\n      <td>2.78</td>\n      <td>0</td>\n      <td>False.</td>\n    </tr>\n    <tr>\n      <th>25</th>\n      <td>NE</td>\n      <td>174</td>\n      <td>415</td>\n      <td>331-3698</td>\n      <td>no</td>\n      <td>no</td>\n      <td>0</td>\n      <td>124.3</td>\n      <td>76</td>\n      <td>21.13</td>\n      <td>277.1</td>\n      <td>112</td>\n      <td>23.55</td>\n      <td>250.7</td>\n      <td>115</td>\n      <td>11.28</td>\n      <td>15.5</td>\n      <td>5</td>\n      <td>4.19</td>\n      <td>3</td>\n      <td>False.</td>\n    </tr>\n    <tr>\n      <th>26</th>\n      <td>WY</td>\n      <td>57</td>\n      <td>408</td>\n      <td>357-3817</td>\n      <td>no</td>\n      <td>yes</td>\n      <td>39</td>\n      <td>213.0</td>\n      <td>115</td>\n      <td>36.21</td>\n      <td>191.1</td>\n      <td>112</td>\n      <td>16.24</td>\n      <td>182.7</td>\n      <td>115</td>\n      <td>8.22</td>\n      <td>9.5</td>\n      <td>3</td>\n      <td>2.57</td>\n      <td>0</td>\n      <td>False.</td>\n    </tr>\n    <tr>\n      <th>27</th>\n      <td>MT</td>\n      <td>54</td>\n      <td>408</td>\n      <td>418-6412</td>\n      <td>no</td>\n      <td>no</td>\n      <td>0</td>\n      <td>134.3</td>\n      <td>73</td>\n      <td>22.83</td>\n      <td>155.5</td>\n      <td>100</td>\n      <td>13.22</td>\n      <td>102.1</td>\n      <td>68</td>\n      <td>4.59</td>\n      <td>14.7</td>\n      <td>4</td>\n      <td>3.97</td>\n      <td>3</td>\n      <td>False.</td>\n    </tr>\n    <tr>\n      <th>28</th>\n      <td>MO</td>\n      <td>20</td>\n      <td>415</td>\n      <td>353-2630</td>\n      <td>no</td>\n      <td>no</td>\n      <td>0</td>\n      <td>190.0</td>\n      <td>109</td>\n      <td>32.30</td>\n      <td>258.2</td>\n      <td>84</td>\n      <td>21.95</td>\n      <td>181.5</td>\n      <td>102</td>\n      <td>8.17</td>\n      <td>6.3</td>\n      <td>6</td>\n      <td>1.70</td>\n      <td>0</td>\n      <td>False.</td>\n    </tr>\n    <tr>\n      <th>29</th>\n      <td>HI</td>\n      <td>49</td>\n      <td>510</td>\n      <td>410-7789</td>\n      <td>no</td>\n      <td>no</td>\n      <td>0</td>\n      <td>119.3</td>\n      <td>117</td>\n      <td>20.28</td>\n      <td>215.1</td>\n      <td>109</td>\n      <td>18.28</td>\n      <td>178.7</td>\n      <td>90</td>\n      <td>8.04</td>\n      <td>11.1</td>\n      <td>1</td>\n      <td>3.00</td>\n      <td>1</td>\n      <td>False.</td>\n    </tr>\n    <tr>\n      <th>...</th>\n      <td>...</td>\n      <td>...</td>\n      <td>...</td>\n      <td>...</td>\n      <td>...</td>\n      <td>...</td>\n      <td>...</td>\n      <td>...</td>\n      <td>...</td>\n      <td>...</td>\n      <td>...</td>\n      <td>...</td>\n      <td>...</td>\n      <td>...</td>\n      <td>...</td>\n      <td>...</td>\n      <td>...</td>\n      <td>...</td>\n      <td>...</td>\n      <td>...</td>\n      <td>...</td>\n    </tr>\n    <tr>\n      <th>3303</th>\n      <td>WI</td>\n      <td>114</td>\n      <td>415</td>\n      <td>373-7308</td>\n      <td>no</td>\n      <td>yes</td>\n      <td>26</td>\n      <td>137.1</td>\n      <td>88</td>\n      <td>23.31</td>\n      <td>155.7</td>\n      <td>125</td>\n      <td>13.23</td>\n      <td>247.6</td>\n      <td>94</td>\n      <td>11.14</td>\n      <td>11.5</td>\n      <td>7</td>\n      <td>3.11</td>\n      <td>2</td>\n      <td>False.</td>\n    </tr>\n    <tr>\n      <th>3304</th>\n      <td>IL</td>\n      <td>71</td>\n      <td>510</td>\n      <td>330-7137</td>\n      <td>yes</td>\n      <td>no</td>\n      <td>0</td>\n      <td>186.1</td>\n      <td>114</td>\n      <td>31.64</td>\n      <td>198.6</td>\n      <td>140</td>\n      <td>16.88</td>\n      <td>206.5</td>\n      <td>80</td>\n      <td>9.29</td>\n      <td>13.8</td>\n      <td>5</td>\n      <td>3.73</td>\n      <td>4</td>\n      <td>True.</td>\n    </tr>\n    <tr>\n      <th>3305</th>\n      <td>IN</td>\n      <td>58</td>\n      <td>415</td>\n      <td>406-8445</td>\n      <td>no</td>\n      <td>yes</td>\n      <td>22</td>\n      <td>224.1</td>\n      <td>127</td>\n      <td>38.10</td>\n      <td>238.8</td>\n      <td>85</td>\n      <td>20.30</td>\n      <td>174.2</td>\n      <td>86</td>\n      <td>7.84</td>\n      <td>11.5</td>\n      <td>7</td>\n      <td>3.11</td>\n      <td>2</td>\n      <td>False.</td>\n    </tr>\n    <tr>\n      <th>3306</th>\n      <td>AL</td>\n      <td>106</td>\n      <td>408</td>\n      <td>404-5283</td>\n      <td>no</td>\n      <td>yes</td>\n      <td>29</td>\n      <td>83.6</td>\n      <td>131</td>\n      <td>14.21</td>\n      <td>203.9</td>\n      <td>131</td>\n      <td>17.33</td>\n      <td>229.5</td>\n      <td>73</td>\n      <td>10.33</td>\n      <td>8.1</td>\n      <td>3</td>\n      <td>2.19</td>\n      <td>1</td>\n      <td>False.</td>\n    </tr>\n    <tr>\n      <th>3307</th>\n      <td>OK</td>\n      <td>172</td>\n      <td>408</td>\n      <td>398-3632</td>\n      <td>no</td>\n      <td>no</td>\n      <td>0</td>\n      <td>203.9</td>\n      <td>109</td>\n      <td>34.66</td>\n      <td>234.0</td>\n      <td>123</td>\n      <td>19.89</td>\n      <td>160.7</td>\n      <td>65</td>\n      <td>7.23</td>\n      <td>17.8</td>\n      <td>4</td>\n      <td>4.81</td>\n      <td>4</td>\n      <td>False.</td>\n    </tr>\n    <tr>\n      <th>3308</th>\n      <td>IA</td>\n      <td>45</td>\n      <td>415</td>\n      <td>399-5763</td>\n      <td>no</td>\n      <td>no</td>\n      <td>0</td>\n      <td>211.3</td>\n      <td>87</td>\n      <td>35.92</td>\n      <td>165.7</td>\n      <td>97</td>\n      <td>14.08</td>\n      <td>265.9</td>\n      <td>72</td>\n      <td>11.97</td>\n      <td>13.3</td>\n      <td>6</td>\n      <td>3.59</td>\n      <td>1</td>\n      <td>False.</td>\n    </tr>\n    <tr>\n      <th>3309</th>\n      <td>VT</td>\n      <td>100</td>\n      <td>408</td>\n      <td>340-9449</td>\n      <td>yes</td>\n      <td>no</td>\n      <td>0</td>\n      <td>219.4</td>\n      <td>112</td>\n      <td>37.30</td>\n      <td>225.7</td>\n      <td>102</td>\n      <td>19.18</td>\n      <td>255.3</td>\n      <td>95</td>\n      <td>11.49</td>\n      <td>12.0</td>\n      <td>4</td>\n      <td>3.24</td>\n      <td>4</td>\n      <td>False.</td>\n    </tr>\n    <tr>\n      <th>3310</th>\n      <td>NY</td>\n      <td>94</td>\n      <td>415</td>\n      <td>363-1123</td>\n      <td>no</td>\n      <td>no</td>\n      <td>0</td>\n      <td>190.4</td>\n      <td>91</td>\n      <td>32.37</td>\n      <td>92.0</td>\n      <td>107</td>\n      <td>7.82</td>\n      <td>224.8</td>\n      <td>108</td>\n      <td>10.12</td>\n      <td>13.6</td>\n      <td>17</td>\n      <td>3.67</td>\n      <td>2</td>\n      <td>False.</td>\n    </tr>\n    <tr>\n      <th>3311</th>\n      <td>LA</td>\n      <td>128</td>\n      <td>415</td>\n      <td>361-2170</td>\n      <td>no</td>\n      <td>no</td>\n      <td>0</td>\n      <td>147.7</td>\n      <td>94</td>\n      <td>25.11</td>\n      <td>283.3</td>\n      <td>83</td>\n      <td>24.08</td>\n      <td>188.3</td>\n      <td>124</td>\n      <td>8.47</td>\n      <td>6.9</td>\n      <td>5</td>\n      <td>1.86</td>\n      <td>2</td>\n      <td>False.</td>\n    </tr>\n    <tr>\n      <th>3312</th>\n      <td>SC</td>\n      <td>181</td>\n      <td>408</td>\n      <td>406-6304</td>\n      <td>no</td>\n      <td>no</td>\n      <td>0</td>\n      <td>229.9</td>\n      <td>130</td>\n      <td>39.08</td>\n      <td>144.4</td>\n      <td>93</td>\n      <td>12.27</td>\n      <td>262.4</td>\n      <td>110</td>\n      <td>11.81</td>\n      <td>14.2</td>\n      <td>4</td>\n      <td>3.83</td>\n      <td>2</td>\n      <td>False.</td>\n    </tr>\n    <tr>\n      <th>3313</th>\n      <td>ID</td>\n      <td>127</td>\n      <td>408</td>\n      <td>392-5090</td>\n      <td>no</td>\n      <td>no</td>\n      <td>0</td>\n      <td>102.8</td>\n      <td>128</td>\n      <td>17.48</td>\n      <td>143.7</td>\n      <td>95</td>\n      <td>12.21</td>\n      <td>191.4</td>\n      <td>97</td>\n      <td>8.61</td>\n      <td>10.0</td>\n      <td>5</td>\n      <td>2.70</td>\n      <td>1</td>\n      <td>False.</td>\n    </tr>\n    <tr>\n      <th>3314</th>\n      <td>MO</td>\n      <td>89</td>\n      <td>415</td>\n      <td>373-7713</td>\n      <td>no</td>\n      <td>no</td>\n      <td>0</td>\n      <td>178.7</td>\n      <td>81</td>\n      <td>30.38</td>\n      <td>233.7</td>\n      <td>74</td>\n      <td>19.86</td>\n      <td>131.9</td>\n      <td>120</td>\n      <td>5.94</td>\n      <td>9.1</td>\n      <td>4</td>\n      <td>2.46</td>\n      <td>1</td>\n      <td>False.</td>\n    </tr>\n    <tr>\n      <th>3315</th>\n      <td>ME</td>\n      <td>149</td>\n      <td>415</td>\n      <td>392-1376</td>\n      <td>no</td>\n      <td>yes</td>\n      <td>18</td>\n      <td>148.5</td>\n      <td>106</td>\n      <td>25.25</td>\n      <td>114.5</td>\n      <td>106</td>\n      <td>9.73</td>\n      <td>178.3</td>\n      <td>98</td>\n      <td>8.02</td>\n      <td>6.5</td>\n      <td>4</td>\n      <td>1.76</td>\n      <td>0</td>\n      <td>False.</td>\n    </tr>\n    <tr>\n      <th>3316</th>\n      <td>MS</td>\n      <td>103</td>\n      <td>510</td>\n      <td>390-6388</td>\n      <td>no</td>\n      <td>yes</td>\n      <td>29</td>\n      <td>164.1</td>\n      <td>111</td>\n      <td>27.90</td>\n      <td>219.1</td>\n      <td>96</td>\n      <td>18.62</td>\n      <td>220.3</td>\n      <td>108</td>\n      <td>9.91</td>\n      <td>12.3</td>\n      <td>9</td>\n      <td>3.32</td>\n      <td>0</td>\n      <td>False.</td>\n    </tr>\n    <tr>\n      <th>3317</th>\n      <td>SD</td>\n      <td>163</td>\n      <td>415</td>\n      <td>379-7290</td>\n      <td>yes</td>\n      <td>no</td>\n      <td>0</td>\n      <td>197.2</td>\n      <td>90</td>\n      <td>33.52</td>\n      <td>188.5</td>\n      <td>113</td>\n      <td>16.02</td>\n      <td>211.1</td>\n      <td>94</td>\n      <td>9.50</td>\n      <td>7.8</td>\n      <td>8</td>\n      <td>2.11</td>\n      <td>1</td>\n      <td>False.</td>\n    </tr>\n    <tr>\n      <th>3318</th>\n      <td>OK</td>\n      <td>52</td>\n      <td>415</td>\n      <td>397-9928</td>\n      <td>no</td>\n      <td>no</td>\n      <td>0</td>\n      <td>124.9</td>\n      <td>131</td>\n      <td>21.23</td>\n      <td>300.5</td>\n      <td>118</td>\n      <td>25.54</td>\n      <td>192.5</td>\n      <td>106</td>\n      <td>8.66</td>\n      <td>11.6</td>\n      <td>4</td>\n      <td>3.13</td>\n      <td>2</td>\n      <td>False.</td>\n    </tr>\n    <tr>\n      <th>3319</th>\n      <td>WY</td>\n      <td>89</td>\n      <td>415</td>\n      <td>378-6924</td>\n      <td>no</td>\n      <td>no</td>\n      <td>0</td>\n      <td>115.4</td>\n      <td>99</td>\n      <td>19.62</td>\n      <td>209.9</td>\n      <td>115</td>\n      <td>17.84</td>\n      <td>280.9</td>\n      <td>112</td>\n      <td>12.64</td>\n      <td>15.9</td>\n      <td>6</td>\n      <td>4.29</td>\n      <td>3</td>\n      <td>False.</td>\n    </tr>\n    <tr>\n      <th>3320</th>\n      <td>GA</td>\n      <td>122</td>\n      <td>510</td>\n      <td>411-5677</td>\n      <td>yes</td>\n      <td>no</td>\n      <td>0</td>\n      <td>140.0</td>\n      <td>101</td>\n      <td>23.80</td>\n      <td>196.4</td>\n      <td>77</td>\n      <td>16.69</td>\n      <td>120.1</td>\n      <td>133</td>\n      <td>5.40</td>\n      <td>9.7</td>\n      <td>4</td>\n      <td>2.62</td>\n      <td>4</td>\n      <td>True.</td>\n    </tr>\n    <tr>\n      <th>3321</th>\n      <td>VT</td>\n      <td>60</td>\n      <td>415</td>\n      <td>400-2738</td>\n      <td>no</td>\n      <td>no</td>\n      <td>0</td>\n      <td>193.9</td>\n      <td>118</td>\n      <td>32.96</td>\n      <td>85.0</td>\n      <td>110</td>\n      <td>7.23</td>\n      <td>210.1</td>\n      <td>134</td>\n      <td>9.45</td>\n      <td>13.2</td>\n      <td>8</td>\n      <td>3.56</td>\n      <td>3</td>\n      <td>False.</td>\n    </tr>\n    <tr>\n      <th>3322</th>\n      <td>MD</td>\n      <td>62</td>\n      <td>408</td>\n      <td>409-1856</td>\n      <td>no</td>\n      <td>no</td>\n      <td>0</td>\n      <td>321.1</td>\n      <td>105</td>\n      <td>54.59</td>\n      <td>265.5</td>\n      <td>122</td>\n      <td>22.57</td>\n      <td>180.5</td>\n      <td>72</td>\n      <td>8.12</td>\n      <td>11.5</td>\n      <td>2</td>\n      <td>3.11</td>\n      <td>4</td>\n      <td>True.</td>\n    </tr>\n    <tr>\n      <th>3323</th>\n      <td>IN</td>\n      <td>117</td>\n      <td>415</td>\n      <td>362-5899</td>\n      <td>no</td>\n      <td>no</td>\n      <td>0</td>\n      <td>118.4</td>\n      <td>126</td>\n      <td>20.13</td>\n      <td>249.3</td>\n      <td>97</td>\n      <td>21.19</td>\n      <td>227.0</td>\n      <td>56</td>\n      <td>10.22</td>\n      <td>13.6</td>\n      <td>3</td>\n      <td>3.67</td>\n      <td>5</td>\n      <td>True.</td>\n    </tr>\n    <tr>\n      <th>3324</th>\n      <td>WV</td>\n      <td>159</td>\n      <td>415</td>\n      <td>377-1164</td>\n      <td>no</td>\n      <td>no</td>\n      <td>0</td>\n      <td>169.8</td>\n      <td>114</td>\n      <td>28.87</td>\n      <td>197.7</td>\n      <td>105</td>\n      <td>16.80</td>\n      <td>193.7</td>\n      <td>82</td>\n      <td>8.72</td>\n      <td>11.6</td>\n      <td>4</td>\n      <td>3.13</td>\n      <td>1</td>\n      <td>False.</td>\n    </tr>\n    <tr>\n      <th>3325</th>\n      <td>OH</td>\n      <td>78</td>\n      <td>408</td>\n      <td>368-8555</td>\n      <td>no</td>\n      <td>no</td>\n      <td>0</td>\n      <td>193.4</td>\n      <td>99</td>\n      <td>32.88</td>\n      <td>116.9</td>\n      <td>88</td>\n      <td>9.94</td>\n      <td>243.3</td>\n      <td>109</td>\n      <td>10.95</td>\n      <td>9.3</td>\n      <td>4</td>\n      <td>2.51</td>\n      <td>2</td>\n      <td>False.</td>\n    </tr>\n    <tr>\n      <th>3326</th>\n      <td>OH</td>\n      <td>96</td>\n      <td>415</td>\n      <td>347-6812</td>\n      <td>no</td>\n      <td>no</td>\n      <td>0</td>\n      <td>106.6</td>\n      <td>128</td>\n      <td>18.12</td>\n      <td>284.8</td>\n      <td>87</td>\n      <td>24.21</td>\n      <td>178.9</td>\n      <td>92</td>\n      <td>8.05</td>\n      <td>14.9</td>\n      <td>7</td>\n      <td>4.02</td>\n      <td>1</td>\n      <td>False.</td>\n    </tr>\n    <tr>\n      <th>3327</th>\n      <td>SC</td>\n      <td>79</td>\n      <td>415</td>\n      <td>348-3830</td>\n      <td>no</td>\n      <td>no</td>\n      <td>0</td>\n      <td>134.7</td>\n      <td>98</td>\n      <td>22.90</td>\n      <td>189.7</td>\n      <td>68</td>\n      <td>16.12</td>\n      <td>221.4</td>\n      <td>128</td>\n      <td>9.96</td>\n      <td>11.8</td>\n      <td>5</td>\n      <td>3.19</td>\n      <td>2</td>\n      <td>False.</td>\n    </tr>\n    <tr>\n      <th>3328</th>\n      <td>AZ</td>\n      <td>192</td>\n      <td>415</td>\n      <td>414-4276</td>\n      <td>no</td>\n      <td>yes</td>\n      <td>36</td>\n      <td>156.2</td>\n      <td>77</td>\n      <td>26.55</td>\n      <td>215.5</td>\n      <td>126</td>\n      <td>18.32</td>\n      <td>279.1</td>\n      <td>83</td>\n      <td>12.56</td>\n      <td>9.9</td>\n      <td>6</td>\n      <td>2.67</td>\n      <td>2</td>\n      <td>False.</td>\n    </tr>\n    <tr>\n      <th>3329</th>\n      <td>WV</td>\n      <td>68</td>\n      <td>415</td>\n      <td>370-3271</td>\n      <td>no</td>\n      <td>no</td>\n      <td>0</td>\n      <td>231.1</td>\n      <td>57</td>\n      <td>39.29</td>\n      <td>153.4</td>\n      <td>55</td>\n      <td>13.04</td>\n      <td>191.3</td>\n      <td>123</td>\n      <td>8.61</td>\n      <td>9.6</td>\n      <td>4</td>\n      <td>2.59</td>\n      <td>3</td>\n      <td>False.</td>\n    </tr>\n    <tr>\n      <th>3330</th>\n      <td>RI</td>\n      <td>28</td>\n      <td>510</td>\n      <td>328-8230</td>\n      <td>no</td>\n      <td>no</td>\n      <td>0</td>\n      <td>180.8</td>\n      <td>109</td>\n      <td>30.74</td>\n      <td>288.8</td>\n      <td>58</td>\n      <td>24.55</td>\n      <td>191.9</td>\n      <td>91</td>\n      <td>8.64</td>\n      <td>14.1</td>\n      <td>6</td>\n      <td>3.81</td>\n      <td>2</td>\n      <td>False.</td>\n    </tr>\n    <tr>\n      <th>3331</th>\n      <td>CT</td>\n      <td>184</td>\n      <td>510</td>\n      <td>364-6381</td>\n      <td>yes</td>\n      <td>no</td>\n      <td>0</td>\n      <td>213.8</td>\n      <td>105</td>\n      <td>36.35</td>\n      <td>159.6</td>\n      <td>84</td>\n      <td>13.57</td>\n      <td>139.2</td>\n      <td>137</td>\n      <td>6.26</td>\n      <td>5.0</td>\n      <td>10</td>\n      <td>1.35</td>\n      <td>2</td>\n      <td>False.</td>\n    </tr>\n    <tr>\n      <th>3332</th>\n      <td>TN</td>\n      <td>74</td>\n      <td>415</td>\n      <td>400-4344</td>\n      <td>no</td>\n      <td>yes</td>\n      <td>25</td>\n      <td>234.4</td>\n      <td>113</td>\n      <td>39.85</td>\n      <td>265.9</td>\n      <td>82</td>\n      <td>22.60</td>\n      <td>241.4</td>\n      <td>77</td>\n      <td>10.86</td>\n      <td>13.7</td>\n      <td>4</td>\n      <td>3.70</td>\n      <td>0</td>\n      <td>False.</td>\n    </tr>\n  </tbody>\n</table>\n<p>3333 rows × 21 columns</p>\n</div>"
     },
     "metadata": {},
     "execution_count": 12
    }
   ],
   "source": [
    "churn = pd.read_csv('./Data sets/churn.txt')\n",
    "pd.set_option('display.max_columns', 500)\n",
    "churn"
   ]
  },
  {
   "cell_type": "markdown",
   "metadata": {},
   "source": [
    "By modern standards, it’s a relatively small dataset, with only 3,333 records, where each record uses 21 attributes to describe the profile of a customer of an unknown US mobile operator. The attributes are:\n",
    "\n",
    "- `State`: the US state in which the customer resides, indicated by a two-letter abbreviation; for example, OH or NJ\n",
    "- `Account Length`: the number of days that this account has been active\n",
    "- `Area Code`: the three-digit area code of the corresponding customer’s phone number\n",
    "- `Phone`: the remaining seven-digit phone number\n",
    "- `Int’l Plan`: whether the customer has an international calling plan: yes/no\n",
    "- `VMail Plan`: whether the customer has a voice mail feature: yes/no\n",
    "- `VMail Message`: presumably the average number of voice mail messages per month\n",
    "- `Day Mins`: the total number of calling minutes used during the day\n",
    "- `Day Calls`: the total number of calls placed during the day\n",
    "- `Day Charge`: the billed cost of daytime calls\n",
    "- `Eve Mins, Eve Calls, Eve Charge`: the billed cost for calls placed during the evening\n",
    "- `Night Mins`, `Night Calls`, `Night Charge`: the billed cost for calls placed during nighttime\n",
    "- `Intl Mins`, `Intl Calls`, `Intl Charge`: the billed cost for international calls\n",
    "- `CustServ Calls`: the number of calls placed to Customer Service\n",
    "- `Churn?`: whether the customer left the service: true/false\n",
    "\n",
    "The last attribute, `Churn?`, is known as the target attribute–the attribute that we want the ML model to predict."
   ]
  },
  {
   "cell_type": "markdown",
   "metadata": {},
   "source": [
    "### Reserve some data for calling inference on the model\n",
    "\n",
    "Divide the data into training and testing splits. The training split is used by SageMaker Autopilot. The testing split is reserved to perform inference using the suggested model."
   ]
  },
  {
   "cell_type": "code",
   "execution_count": 13,
   "metadata": {},
   "outputs": [],
   "source": [
    "train_data = churn.sample(frac=0.8,random_state=200)\n",
    "\n",
    "test_data = churn.drop(train_data.index)\n",
    "\n",
    "test_data_no_target = test_data.drop(columns=['Churn?'])"
   ]
  },
  {
   "cell_type": "markdown",
   "metadata": {},
   "source": [
    "Now we'll upload these files to S3."
   ]
  },
  {
   "cell_type": "code",
   "execution_count": 14,
   "metadata": {},
   "outputs": [],
   "source": [
    "train_file = 'train_data.csv';\n",
    "train_data.to_csv(train_file, index=False, header=True)\n",
    "\n",
    "train_data_s3_path = session.upload_data(\n",
    "    bucket=bucket,\n",
    "    path=train_file, \n",
    "    key_prefix=prefix + \"/train\")\n",
    "\n"
   ]
  },
  {
   "cell_type": "code",
   "execution_count": 15,
   "metadata": {},
   "outputs": [
    {
     "output_type": "stream",
     "name": "stdout",
     "text": "Train data uploaded to: s3://md-backup-bucket-01/DEMO-autopilot-churn/train/train_data.csv\n"
    }
   ],
   "source": [
    "print('Train data uploaded to: ' + train_data_s3_path)"
   ]
  },
  {
   "cell_type": "code",
   "execution_count": 16,
   "metadata": {},
   "outputs": [
    {
     "output_type": "stream",
     "name": "stdout",
     "text": "Test data uploaded to: s3://md-backup-bucket-01/DEMO-autopilot-churn/test/test_data.csv\n"
    }
   ],
   "source": [
    "\n",
    "\n",
    "test_file = 'test_data.csv';\n",
    "test_data_no_target.to_csv(test_file, index=False, header=False)\n",
    "test_data_s3_path = session.upload_data(\n",
    "    bucket=bucket,\n",
    "    path=test_file, \n",
    "    key_prefix=prefix + \"/test\")\n",
    "    \n",
    "print('Test data uploaded to: ' + test_data_s3_path)"
   ]
  },
  {
   "cell_type": "markdown",
   "metadata": {},
   "source": [
    "---\n",
    "## Setting up the SageMaker Autopilot Job<a name=\"Settingup\"></a>\n",
    "\n",
    "After uploading the dataset to Amazon S3, you can invoke Autopilot to find the best ML pipeline to train a model on this dataset. \n",
    "\n",
    "The required inputs for invoking a Autopilot job are:\n",
    "* Amazon S3 location for input dataset and for all output artifacts\n",
    "* Name of the column of the dataset you want to predict (`Churn?` in this case) \n",
    "* An IAM role\n",
    "\n",
    "Currently Autopilot supports only tabular datasets in CSV format. Either all files should have a header row, or the first file of the dataset, when sorted in alphabetical/lexical order by name, is expected to have a header row."
   ]
  },
  {
   "cell_type": "code",
   "execution_count": 17,
   "metadata": {},
   "outputs": [],
   "source": [
    "input_data_config = [{\n",
    "      'DataSource': {\n",
    "        'S3DataSource': {\n",
    "          'S3DataType': 'S3Prefix',\n",
    "          'S3Uri': 's3://{}/{}/train'.format(bucket,prefix)\n",
    "        }\n",
    "      },\n",
    "      'TargetAttributeName': 'Churn?'\n",
    "    }\n",
    "  ]\n",
    "\n",
    "output_data_config = {\n",
    "    'S3OutputPath': 's3://{}/{}/output'.format(bucket,prefix)\n",
    "  }"
   ]
  },
  {
   "cell_type": "markdown",
   "metadata": {},
   "source": [
    "You can also specify the type of problem you want to solve with your dataset (`Regression, MulticlassClassification, BinaryClassification`). In case you are not sure, SageMaker Autopilot will infer the problem type based on statistics of the target column (the column you want to predict). \n",
    "\n",
    "Because the target attribute, ```Churn?```, is binary, our model will be performing binary prediction, also known as binary classification. In this example we will let AutoPilot infer the type of problem for us.\n",
    "\n",
    "You have the option to limit the running time of a SageMaker Autopilot job by providing either the maximum number of pipeline evaluations or candidates (one pipeline evaluation is called a `Candidate` because it generates a candidate model) or providing the total time allocated for the overall Autopilot job. Under default settings, this job takes about four hours to run. This varies between runs because of the nature of the exploratory process Autopilot uses to find optimal training parameters."
   ]
  },
  {
   "cell_type": "markdown",
   "metadata": {},
   "source": [
    "### Launching the SageMaker Autopilot Job<a name=\"Launching\"></a>\n",
    "\n",
    "You can now launch the Autopilot job by calling the `create_auto_ml_job` API. We limit the number of candidates to 20 so that the job finishes in a few minutes."
   ]
  },
  {
   "cell_type": "code",
   "execution_count": 18,
   "metadata": {},
   "outputs": [
    {
     "output_type": "stream",
     "name": "stdout",
     "text": "AutoMLJobName: automl-churn-28-18-46-57\n"
    },
    {
     "output_type": "execute_result",
     "data": {
      "text/plain": "{'AutoMLJobArn': 'arn:aws:sagemaker:us-east-2:558157414092:automl-job/automl-churn-28-18-46-57',\n 'ResponseMetadata': {'RequestId': '5fd113ea-35d2-4967-a7da-a796d91188df',\n  'HTTPStatusCode': 200,\n  'HTTPHeaders': {'x-amzn-requestid': '5fd113ea-35d2-4967-a7da-a796d91188df',\n   'content-type': 'application/x-amz-json-1.1',\n   'content-length': '95',\n   'date': 'Thu, 28 May 2020 18:46:57 GMT'},\n  'RetryAttempts': 0}}"
     },
     "metadata": {},
     "execution_count": 18
    }
   ],
   "source": [
    "from time import gmtime, strftime, sleep\n",
    "timestamp_suffix = strftime('%d-%H-%M-%S', gmtime())\n",
    "\n",
    "auto_ml_job_name = 'automl-churn-' + timestamp_suffix\n",
    "print('AutoMLJobName: ' + auto_ml_job_name)\n",
    "\n",
    "sm.create_auto_ml_job(AutoMLJobName=auto_ml_job_name,\n",
    "                      InputDataConfig=input_data_config,\n",
    "                      OutputDataConfig=output_data_config,\n",
    "                      AutoMLJobConfig={'CompletionCriteria':\n",
    "                                       {'MaxCandidates': 20}\n",
    "                                      },\n",
    "                      RoleArn=role)"
   ]
  },
  {
   "cell_type": "markdown",
   "metadata": {},
   "source": [
    "### Tracking SageMaker Autopilot job progress<a name=\"Tracking\"></a>\n",
    "SageMaker Autopilot job consists of the following high-level steps : \n",
    "* Analyzing Data, where the dataset is analyzed and Autopilot comes up with a list of ML pipelines that should be tried out on the dataset. The dataset is also split into train and validation sets.\n",
    "* Feature Engineering, where Autopilot performs feature transformation on individual features of the dataset as well as at an aggregate level.\n",
    "* Model Tuning, where the top performing pipeline is selected along with the optimal hyperparameters for the training algorithm (the last stage of the pipeline). "
   ]
  },
  {
   "cell_type": "code",
   "execution_count": 19,
   "metadata": {},
   "outputs": [
    {
     "output_type": "stream",
     "name": "stdout",
     "text": "JobStatus - Secondary Status\n------------------------------\nInProgress - AnalyzingData\nInProgress - AnalyzingData\nInProgress - AnalyzingData\nInProgress - AnalyzingData\nInProgress - AnalyzingData\nInProgress - AnalyzingData\nInProgress - AnalyzingData\nInProgress - AnalyzingData\nInProgress - AnalyzingData\nInProgress - AnalyzingData\nInProgress - AnalyzingData\nInProgress - AnalyzingData\nInProgress - AnalyzingData\nInProgress - FeatureEngineering\nInProgress - FeatureEngineering\nInProgress - FeatureEngineering\nInProgress - FeatureEngineering\nInProgress - FeatureEngineering\nInProgress - FeatureEngineering\nInProgress - FeatureEngineering\nInProgress - FeatureEngineering\nInProgress - FeatureEngineering\nInProgress - FeatureEngineering\nInProgress - FeatureEngineering\nInProgress - FeatureEngineering\nInProgress - FeatureEngineering\nInProgress - FeatureEngineering\nInProgress - FeatureEngineering\nInProgress - FeatureEngineering\nInProgress - FeatureEngineering\nInProgress - FeatureEngineering\nInProgress - FeatureEngineering\nInProgress - FeatureEngineering\nInProgress - FeatureEngineering\nInProgress - FeatureEngineering\nInProgress - FeatureEngineering\nInProgress - FeatureEngineering\nInProgress - FeatureEngineering\nInProgress - FeatureEngineering\nInProgress - FeatureEngineering\nInProgress - FeatureEngineering\nInProgress - ModelTuning\nInProgress - ModelTuning\nInProgress - ModelTuning\nInProgress - ModelTuning\nInProgress - ModelTuning\nInProgress - ModelTuning\nInProgress - ModelTuning\nInProgress - ModelTuning\nInProgress - ModelTuning\nInProgress - ModelTuning\nInProgress - ModelTuning\nInProgress - ModelTuning\nInProgress - ModelTuning\nInProgress - ModelTuning\nCompleted - MaxCandidatesReached\n"
    }
   ],
   "source": [
    "print ('JobStatus - Secondary Status')\n",
    "print('------------------------------')\n",
    "\n",
    "\n",
    "describe_response = sm.describe_auto_ml_job(AutoMLJobName=auto_ml_job_name)\n",
    "print (describe_response['AutoMLJobStatus'] + \" - \" + describe_response['AutoMLJobSecondaryStatus'])\n",
    "job_run_status = describe_response['AutoMLJobStatus']\n",
    "    \n",
    "while job_run_status not in ('Failed', 'Completed', 'Stopped'):\n",
    "    describe_response = sm.describe_auto_ml_job(AutoMLJobName=auto_ml_job_name)\n",
    "    job_run_status = describe_response['AutoMLJobStatus']\n",
    "    \n",
    "    print (describe_response['AutoMLJobStatus'] + \" - \" + describe_response['AutoMLJobSecondaryStatus'])\n",
    "    sleep(30)"
   ]
  },
  {
   "cell_type": "markdown",
   "metadata": {
    "toc-hr-collapsed": true
   },
   "source": [
    "---\n",
    "## Results\n",
    "\n",
    "Now use the describe_auto_ml_job API to look up the best candidate selected by the SageMaker Autopilot job. "
   ]
  },
  {
   "cell_type": "code",
   "execution_count": 21,
   "metadata": {},
   "outputs": [
    {
     "output_type": "execute_result",
     "data": {
      "text/plain": "{'AutoMLJobName': 'automl-churn-28-18-46-57',\n 'AutoMLJobArn': 'arn:aws:sagemaker:us-east-2:558157414092:automl-job/automl-churn-28-18-46-57',\n 'InputDataConfig': [{'DataSource': {'S3DataSource': {'S3DataType': 'S3Prefix',\n     'S3Uri': 's3://md-backup-bucket-01/DEMO-autopilot-churn/train'}},\n   'TargetAttributeName': 'Churn?'}],\n 'OutputDataConfig': {'S3OutputPath': 's3://md-backup-bucket-01/DEMO-autopilot-churn/output'},\n 'RoleArn': 'arn:aws:iam::558157414092:role/service-role/AmazonSageMaker-ExecutionRole-20200523T082014',\n 'AutoMLJobConfig': {'CompletionCriteria': {'MaxCandidates': 20}},\n 'CreationTime': datetime.datetime(2020, 5, 28, 18, 46, 57, 996000, tzinfo=tzlocal()),\n 'EndTime': datetime.datetime(2020, 5, 28, 19, 14, 37, 589000, tzinfo=tzlocal()),\n 'LastModifiedTime': datetime.datetime(2020, 5, 28, 19, 14, 37, 615000, tzinfo=tzlocal()),\n 'BestCandidate': {'CandidateName': 'tuning-job-1-86bce3e4bc0d4ad7b8-015-df8483b9',\n  'FinalAutoMLJobObjectiveMetric': {'MetricName': 'validation:accuracy',\n   'Value': 0.9548019766807556},\n  'ObjectiveStatus': 'Succeeded',\n  'CandidateSteps': [{'CandidateStepType': 'AWS::SageMaker::ProcessingJob',\n    'CandidateStepArn': 'arn:aws:sagemaker:us-east-2:558157414092:processing-job/db-1-b9fe84349274451fa7024793e9a7f03aa31682ff7c384a02aa84062eea',\n    'CandidateStepName': 'db-1-b9fe84349274451fa7024793e9a7f03aa31682ff7c384a02aa84062eea'},\n   {'CandidateStepType': 'AWS::SageMaker::TrainingJob',\n    'CandidateStepArn': 'arn:aws:sagemaker:us-east-2:558157414092:training-job/automl-chu-dpp5-1-92d129c1a1c646fa944b4f10643223907ca810796c134',\n    'CandidateStepName': 'automl-chu-dpp5-1-92d129c1a1c646fa944b4f10643223907ca810796c134'},\n   {'CandidateStepType': 'AWS::SageMaker::TransformJob',\n    'CandidateStepArn': 'arn:aws:sagemaker:us-east-2:558157414092:transform-job/automl-chu-dpp5-rpb-1-b3e4fd920cee41789a38cfd3ffc01aaca85f431b1',\n    'CandidateStepName': 'automl-chu-dpp5-rpb-1-b3e4fd920cee41789a38cfd3ffc01aaca85f431b1'},\n   {'CandidateStepType': 'AWS::SageMaker::TrainingJob',\n    'CandidateStepArn': 'arn:aws:sagemaker:us-east-2:558157414092:training-job/tuning-job-1-86bce3e4bc0d4ad7b8-015-df8483b9',\n    'CandidateStepName': 'tuning-job-1-86bce3e4bc0d4ad7b8-015-df8483b9'}],\n  'CandidateStatus': 'Completed',\n  'InferenceContainers': [{'Image': '257758044811.dkr.ecr.us-east-2.amazonaws.com/sagemaker-sklearn-automl:0.1.0-cpu-py3',\n    'ModelDataUrl': 's3://md-backup-bucket-01/DEMO-autopilot-churn/output/automl-churn-28-18-46-57/data-processor-models/automl-chu-dpp5-1-92d129c1a1c646fa944b4f10643223907ca810796c134/output/model.tar.gz',\n    'Environment': {'AUTOML_SPARSE_ENCODE_RECORDIO_PROTOBUF': '1',\n     'AUTOML_TRANSFORM_MODE': 'feature-transform',\n     'SAGEMAKER_DEFAULT_INVOCATIONS_ACCEPT': 'application/x-recordio-protobuf',\n     'SAGEMAKER_PROGRAM': 'sagemaker_serve',\n     'SAGEMAKER_SUBMIT_DIRECTORY': '/opt/ml/model/sagemaker_serve.py'}},\n   {'Image': '257758044811.dkr.ecr.us-east-2.amazonaws.com/sagemaker-xgboost:0.90-1-cpu-py3',\n    'ModelDataUrl': 's3://md-backup-bucket-01/DEMO-autopilot-churn/output/automl-churn-28-18-46-57/tuning/automl-chu-dpp5-xgb/tuning-job-1-86bce3e4bc0d4ad7b8-015-df8483b9/output/model.tar.gz',\n    'Environment': {'MAX_CONTENT_LENGTH': '20971520',\n     'SAGEMAKER_DEFAULT_INVOCATIONS_ACCEPT': 'text/csv'}},\n   {'Image': '257758044811.dkr.ecr.us-east-2.amazonaws.com/sagemaker-sklearn-automl:0.1.0-cpu-py3',\n    'ModelDataUrl': 's3://md-backup-bucket-01/DEMO-autopilot-churn/output/automl-churn-28-18-46-57/data-processor-models/automl-chu-dpp5-1-92d129c1a1c646fa944b4f10643223907ca810796c134/output/model.tar.gz',\n    'Environment': {'AUTOML_TRANSFORM_MODE': 'inverse-label-transform',\n     'SAGEMAKER_DEFAULT_INVOCATIONS_ACCEPT': 'text/csv',\n     'SAGEMAKER_PROGRAM': 'sagemaker_serve',\n     'SAGEMAKER_SUBMIT_DIRECTORY': '/opt/ml/model/sagemaker_serve.py'}}],\n  'CreationTime': datetime.datetime(2020, 5, 28, 19, 12, 27, tzinfo=tzlocal()),\n  'EndTime': datetime.datetime(2020, 5, 28, 19, 13, 17, tzinfo=tzlocal()),\n  'LastModifiedTime': datetime.datetime(2020, 5, 28, 19, 14, 36, 831000, tzinfo=tzlocal())},\n 'AutoMLJobStatus': 'Completed',\n 'AutoMLJobSecondaryStatus': 'MaxCandidatesReached',\n 'GenerateCandidateDefinitionsOnly': False,\n 'AutoMLJobArtifacts': {'CandidateDefinitionNotebookLocation': 's3://md-backup-bucket-01/DEMO-autopilot-churn/output/automl-churn-28-18-46-57/sagemaker-automl-candidates/pr-1-a84c0e93398a451f9105696fba594b5f305e20801c544c849cd2e7ad54/notebooks/SageMakerAutopilotCandidateDefinitionNotebook.ipynb',\n  'DataExplorationNotebookLocation': 's3://md-backup-bucket-01/DEMO-autopilot-churn/output/automl-churn-28-18-46-57/sagemaker-automl-candidates/pr-1-a84c0e93398a451f9105696fba594b5f305e20801c544c849cd2e7ad54/notebooks/SageMakerAutopilotDataExplorationNotebook.ipynb'},\n 'ResolvedAttributes': {'AutoMLJobObjective': {'MetricName': 'Accuracy'},\n  'ProblemType': 'BinaryClassification',\n  'CompletionCriteria': {'MaxCandidates': 20,\n   'MaxRuntimePerTrainingJobInSeconds': 86400,\n   'MaxAutoMLJobRuntimeInSeconds': 2592000}},\n 'ResponseMetadata': {'RequestId': 'a9f026ae-9165-4544-b9c9-d6953cf67d64',\n  'HTTPStatusCode': 200,\n  'HTTPHeaders': {'x-amzn-requestid': 'a9f026ae-9165-4544-b9c9-d6953cf67d64',\n   'content-type': 'application/x-amz-json-1.1',\n   'content-length': '4481',\n   'date': 'Thu, 28 May 2020 19:17:18 GMT'},\n  'RetryAttempts': 0}}"
     },
     "metadata": {},
     "execution_count": 21
    }
   ],
   "source": [
    "auto_ml_job = sm.describe_auto_ml_job(AutoMLJobName=auto_ml_job_name)\n",
    "auto_ml_job"
   ]
  },
  {
   "cell_type": "code",
   "execution_count": 22,
   "metadata": {},
   "outputs": [
    {
     "output_type": "stream",
     "name": "stdout",
     "text": "{'CandidateName': 'tuning-job-1-86bce3e4bc0d4ad7b8-015-df8483b9', 'FinalAutoMLJobObjectiveMetric': {'MetricName': 'validation:accuracy', 'Value': 0.9548019766807556}, 'ObjectiveStatus': 'Succeeded', 'CandidateSteps': [{'CandidateStepType': 'AWS::SageMaker::ProcessingJob', 'CandidateStepArn': 'arn:aws:sagemaker:us-east-2:558157414092:processing-job/db-1-b9fe84349274451fa7024793e9a7f03aa31682ff7c384a02aa84062eea', 'CandidateStepName': 'db-1-b9fe84349274451fa7024793e9a7f03aa31682ff7c384a02aa84062eea'}, {'CandidateStepType': 'AWS::SageMaker::TrainingJob', 'CandidateStepArn': 'arn:aws:sagemaker:us-east-2:558157414092:training-job/automl-chu-dpp5-1-92d129c1a1c646fa944b4f10643223907ca810796c134', 'CandidateStepName': 'automl-chu-dpp5-1-92d129c1a1c646fa944b4f10643223907ca810796c134'}, {'CandidateStepType': 'AWS::SageMaker::TransformJob', 'CandidateStepArn': 'arn:aws:sagemaker:us-east-2:558157414092:transform-job/automl-chu-dpp5-rpb-1-b3e4fd920cee41789a38cfd3ffc01aaca85f431b1', 'CandidateStepName': 'automl-chu-dpp5-rpb-1-b3e4fd920cee41789a38cfd3ffc01aaca85f431b1'}, {'CandidateStepType': 'AWS::SageMaker::TrainingJob', 'CandidateStepArn': 'arn:aws:sagemaker:us-east-2:558157414092:training-job/tuning-job-1-86bce3e4bc0d4ad7b8-015-df8483b9', 'CandidateStepName': 'tuning-job-1-86bce3e4bc0d4ad7b8-015-df8483b9'}], 'CandidateStatus': 'Completed', 'InferenceContainers': [{'Image': '257758044811.dkr.ecr.us-east-2.amazonaws.com/sagemaker-sklearn-automl:0.1.0-cpu-py3', 'ModelDataUrl': 's3://md-backup-bucket-01/DEMO-autopilot-churn/output/automl-churn-28-18-46-57/data-processor-models/automl-chu-dpp5-1-92d129c1a1c646fa944b4f10643223907ca810796c134/output/model.tar.gz', 'Environment': {'AUTOML_SPARSE_ENCODE_RECORDIO_PROTOBUF': '1', 'AUTOML_TRANSFORM_MODE': 'feature-transform', 'SAGEMAKER_DEFAULT_INVOCATIONS_ACCEPT': 'application/x-recordio-protobuf', 'SAGEMAKER_PROGRAM': 'sagemaker_serve', 'SAGEMAKER_SUBMIT_DIRECTORY': '/opt/ml/model/sagemaker_serve.py'}}, {'Image': '257758044811.dkr.ecr.us-east-2.amazonaws.com/sagemaker-xgboost:0.90-1-cpu-py3', 'ModelDataUrl': 's3://md-backup-bucket-01/DEMO-autopilot-churn/output/automl-churn-28-18-46-57/tuning/automl-chu-dpp5-xgb/tuning-job-1-86bce3e4bc0d4ad7b8-015-df8483b9/output/model.tar.gz', 'Environment': {'MAX_CONTENT_LENGTH': '20971520', 'SAGEMAKER_DEFAULT_INVOCATIONS_ACCEPT': 'text/csv'}}, {'Image': '257758044811.dkr.ecr.us-east-2.amazonaws.com/sagemaker-sklearn-automl:0.1.0-cpu-py3', 'ModelDataUrl': 's3://md-backup-bucket-01/DEMO-autopilot-churn/output/automl-churn-28-18-46-57/data-processor-models/automl-chu-dpp5-1-92d129c1a1c646fa944b4f10643223907ca810796c134/output/model.tar.gz', 'Environment': {'AUTOML_TRANSFORM_MODE': 'inverse-label-transform', 'SAGEMAKER_DEFAULT_INVOCATIONS_ACCEPT': 'text/csv', 'SAGEMAKER_PROGRAM': 'sagemaker_serve', 'SAGEMAKER_SUBMIT_DIRECTORY': '/opt/ml/model/sagemaker_serve.py'}}], 'CreationTime': datetime.datetime(2020, 5, 28, 19, 12, 27, tzinfo=tzlocal()), 'EndTime': datetime.datetime(2020, 5, 28, 19, 13, 17, tzinfo=tzlocal()), 'LastModifiedTime': datetime.datetime(2020, 5, 28, 19, 14, 36, 831000, tzinfo=tzlocal())}\n\n\nCandidateName: tuning-job-1-86bce3e4bc0d4ad7b8-015-df8483b9\nFinalAutoMLJobObjectiveMetricName: validation:accuracy\nFinalAutoMLJobObjectiveMetricValue: 0.9548019766807556\n"
    }
   ],
   "source": [
    "best_candidate = sm.describe_auto_ml_job(AutoMLJobName=auto_ml_job_name)['BestCandidate']\n",
    "best_candidate_name = best_candidate['CandidateName']\n",
    "\n",
    "print(best_candidate)\n",
    "print('\\n')\n",
    "print(\"CandidateName: \" + best_candidate_name)\n",
    "print(\"FinalAutoMLJobObjectiveMetricName: \" + best_candidate['FinalAutoMLJobObjectiveMetric']['MetricName'])\n",
    "print(\"FinalAutoMLJobObjectiveMetricValue: \" + str(best_candidate['FinalAutoMLJobObjectiveMetric']['Value']))"
   ]
  },
  {
   "cell_type": "markdown",
   "metadata": {},
   "source": [
    "Due to some randomness in the algorithms involved, different runs will provide slightly different results, but accuracy will be around or above $93\\%$, which is a good result."
   ]
  },
  {
   "cell_type": "markdown",
   "metadata": {},
   "source": [
    "---\n",
    "## Host\n",
    "\n",
    "Now that we've trained the algorithm, let's create a model and deploy it to a hosted endpoint."
   ]
  },
  {
   "cell_type": "code",
   "execution_count": 23,
   "metadata": {},
   "outputs": [],
   "source": [
    "timestamp_suffix = strftime('%d-%H-%M-%S', gmtime())\n",
    "model_name = best_candidate_name + timestamp_suffix + \"-model\"\n",
    "model_arn = sm.create_model(Containers=best_candidate['InferenceContainers'],\n",
    "                            ModelName=model_name,\n",
    "                            ExecutionRoleArn=role)\n",
    "\n",
    "epc_name = best_candidate_name + timestamp_suffix + \"-epc\"\n",
    "ep_config = sm.create_endpoint_config(EndpointConfigName = epc_name,\n",
    "                                      ProductionVariants=[{'InstanceType': 'ml.m5.2xlarge',\n",
    "                                                           'InitialInstanceCount': 1,\n",
    "                                                           'ModelName': model_name,\n",
    "                                                           'VariantName': 'main'}])\n",
    "\n",
    "ep_name = best_candidate_name + timestamp_suffix + \"-ep\"\n",
    "create_endpoint_response = sm.create_endpoint(EndpointName=ep_name,\n",
    "                                              EndpointConfigName=epc_name)"
   ]
  },
  {
   "cell_type": "code",
   "execution_count": 24,
   "metadata": {},
   "outputs": [],
   "source": [
    "sm.get_waiter('endpoint_in_service').wait(EndpointName=ep_name)"
   ]
  },
  {
   "cell_type": "markdown",
   "metadata": {},
   "source": [
    "### Evaluate\n",
    "\n",
    "Now that we have a hosted endpoint running, we can make real-time predictions from our model very easily, simply by making an http POST request.  But first, we'll need to setup serializers and deserializers for passing our `test_data` NumPy arrays to the model behind the endpoint."
   ]
  },
  {
   "cell_type": "code",
   "execution_count": 25,
   "metadata": {},
   "outputs": [
    {
     "output_type": "stream",
     "name": "stdout",
     "text": "Accuracy: 0.9565217391304348\n"
    }
   ],
   "source": [
    "from io import StringIO\n",
    "from sagemaker.predictor import RealTimePredictor\n",
    "from sagemaker.content_types import CONTENT_TYPE_CSV\n",
    "\n",
    "\n",
    "predictor = RealTimePredictor(\n",
    "    endpoint=ep_name,\n",
    "    sagemaker_session=session,\n",
    "    content_type=CONTENT_TYPE_CSV,\n",
    "    accept=CONTENT_TYPE_CSV)\n",
    "\n",
    "# Remove the target column from the test data\n",
    "test_data_inference = test_data.drop('Churn?', axis=1)\n",
    "\n",
    "# Obtain predictions from SageMaker endpoint\n",
    "prediction = predictor.predict(test_data_inference.to_csv(sep=',', header=False, index=False)).decode('utf-8')\n",
    "\n",
    "# Load prediction in pandas and compare to ground truth\n",
    "prediction_df = pd.read_csv(StringIO(prediction), header=None)\n",
    "accuracy = (test_data.reset_index()['Churn?'] == prediction_df[0]).sum() / len(test_data_inference)\n",
    "print('Accuracy: {}'.format(accuracy))"
   ]
  },
  {
   "cell_type": "markdown",
   "metadata": {},
   "source": [
    "---\n",
    "## Cleanup\n",
    "\n",
    "The Autopilot job creates many underlying artifacts such as dataset splits, preprocessing scripts, or preprocessed data, etc. This code, when un-commented, deletes them. This operation deletes all the generated models and the auto-generated notebooks as well. "
   ]
  },
  {
   "cell_type": "code",
   "execution_count": null,
   "metadata": {},
   "outputs": [],
   "source": [
    "#s3 = boto3.resource('s3')\n",
    "#s3_bucket = s3.Bucket(bucket)\n",
    "\n",
    "#job_outputs_prefix = '{}/output/{}'.format(prefix, auto_ml_job_name)\n",
    "#s3_bucket.objects.filter(Prefix=job_outputs_prefix).delete()"
   ]
  },
  {
   "cell_type": "markdown",
   "metadata": {},
   "source": [
    "Finally, we delete the endpoint and associated resources."
   ]
  },
  {
   "cell_type": "code",
   "execution_count": 26,
   "metadata": {},
   "outputs": [
    {
     "output_type": "execute_result",
     "data": {
      "text/plain": "{'ResponseMetadata': {'RequestId': 'b8a2cf33-f31f-4ae3-934e-4ea5e4d7ef17',\n  'HTTPStatusCode': 200,\n  'HTTPHeaders': {'x-amzn-requestid': 'b8a2cf33-f31f-4ae3-934e-4ea5e4d7ef17',\n   'content-type': 'application/x-amz-json-1.1',\n   'content-length': '0',\n   'date': 'Thu, 28 May 2020 19:59:35 GMT'},\n  'RetryAttempts': 0}}"
     },
     "metadata": {},
     "execution_count": 26
    }
   ],
   "source": [
    "sm.delete_endpoint(EndpointName=ep_name)\n",
    "sm.delete_endpoint_config(EndpointConfigName=epc_name)\n",
    "sm.delete_model(ModelName=model_name)"
   ]
  },
  {
   "cell_type": "code",
   "execution_count": null,
   "metadata": {},
   "outputs": [],
   "source": []
  }
 ],
 "metadata": {
  "celltoolbar": "Tags",
  "instance_type": "ml.t3.medium",
  "kernelspec": {
   "display_name": "conda_python3",
   "language": "python",
   "name": "conda_python3"
  },
  "language_info": {
   "codemirror_mode": {
    "name": "ipython",
    "version": 3
   },
   "file_extension": ".py",
   "mimetype": "text/x-python",
   "name": "python",
   "nbconvert_exporter": "python",
   "pygments_lexer": "ipython3",
   "version": "3.6.5-final"
  },
  "notice": "Copyright 2017 Amazon.com, Inc. or its affiliates. All Rights Reserved.  Licensed under the Apache License, Version 2.0 (the \"License\"). You may not use this file except in compliance with the License. A copy of the License is located at http://aws.amazon.com/apache2.0/ or in the \"license\" file accompanying this file. This file is distributed on an \"AS IS\" BASIS, WITHOUT WARRANTIES OR CONDITIONS OF ANY KIND, either express or implied. See the License for the specific language governing permissions and limitations under the License."
 },
 "nbformat": 4,
 "nbformat_minor": 4
}