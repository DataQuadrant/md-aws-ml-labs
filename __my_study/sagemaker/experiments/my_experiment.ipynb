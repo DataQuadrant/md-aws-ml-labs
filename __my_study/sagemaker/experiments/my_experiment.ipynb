{
 "nbformat": 4,
 "nbformat_minor": 2,
 "metadata": {
  "language_info": {
   "name": "python",
   "codemirror_mode": {
    "name": "ipython",
    "version": 3
   },
   "version": "3.6.5-final"
  },
  "orig_nbformat": 2,
  "file_extension": ".py",
  "mimetype": "text/x-python",
  "name": "python",
  "npconvert_exporter": "python",
  "pygments_lexer": "ipython3",
  "version": 3,
  "kernelspec": {
   "name": "conda_python3",
   "display_name": "conda_python3"
  }
 },
 "cells": [
  {
   "cell_type": "code",
   "execution_count": 1,
   "metadata": {},
   "outputs": [
    {
     "name": "stdout",
     "output_type": "stream",
     "text": "Collecting sagemaker-experiments\n  Downloading sagemaker_experiments-0.1.14-py3-none-any.whl (35 kB)\nCollecting boto3>=1.12.8\n  Downloading boto3-1.13.21-py2.py3-none-any.whl (128 kB)\n\u001b[K     |████████████████████████████████| 128 kB 3.6 MB/s \n\u001b[?25hRequirement already satisfied: s3transfer<0.4.0,>=0.3.0 in /home/ec2-user/anaconda3/envs/python3/lib/python3.6/site-packages (from boto3>=1.12.8->sagemaker-experiments) (0.3.1)\nCollecting botocore<1.17.0,>=1.16.21\n  Downloading botocore-1.16.21-py2.py3-none-any.whl (6.2 MB)\n\u001b[K     |████████████████████████████████| 6.2 MB 5.3 MB/s \n\u001b[?25hRequirement already satisfied: jmespath<1.0.0,>=0.7.1 in /home/ec2-user/anaconda3/envs/python3/lib/python3.6/site-packages (from boto3>=1.12.8->sagemaker-experiments) (0.9.4)\nRequirement already satisfied: python-dateutil<3.0.0,>=2.1 in /home/ec2-user/anaconda3/envs/python3/lib/python3.6/site-packages (from botocore<1.17.0,>=1.16.21->boto3>=1.12.8->sagemaker-experiments) (2.7.3)\nRequirement already satisfied: urllib3<1.26,>=1.20; python_version != \"3.4\" in /home/ec2-user/anaconda3/envs/python3/lib/python3.6/site-packages (from botocore<1.17.0,>=1.16.21->boto3>=1.12.8->sagemaker-experiments) (1.23)\nRequirement already satisfied: docutils<0.16,>=0.10 in /home/ec2-user/anaconda3/envs/python3/lib/python3.6/site-packages (from botocore<1.17.0,>=1.16.21->boto3>=1.12.8->sagemaker-experiments) (0.14)\nRequirement already satisfied: six>=1.5 in /home/ec2-user/anaconda3/envs/python3/lib/python3.6/site-packages (from python-dateutil<3.0.0,>=2.1->botocore<1.17.0,>=1.16.21->boto3>=1.12.8->sagemaker-experiments) (1.11.0)\nInstalling collected packages: botocore, boto3, sagemaker-experiments\n  Attempting uninstall: botocore\n    Found existing installation: botocore 1.14.5\n    Uninstalling botocore-1.14.5:\n      Successfully uninstalled botocore-1.14.5\n  Attempting uninstall: boto3\n    Found existing installation: boto3 1.11.5\n    Uninstalling boto3-1.11.5:\n      Successfully uninstalled boto3-1.11.5\nSuccessfully installed boto3-1.13.21 botocore-1.16.21 sagemaker-experiments-0.1.14\n"
    }
   ],
   "source": [
    "import sys\n",
    "! {sys.prefix}/bin/pip install sagemaker-experiments"
   ]
  },
  {
   "cell_type": "code",
   "execution_count": 2,
   "metadata": {},
   "outputs": [],
   "source": [
    "import sagemaker\n",
    "from sagemaker import get_execution_role\n",
    "from sagemaker.session import Session\n",
    "from sagemaker.analytics import ExperimentAnalytics\n",
    "\n",
    "from smexperiments.experiment import Experiment\n",
    "from smexperiments.trial import Trial\n",
    "from smexperiments.trial_component import TrialComponent\n",
    "from smexperiments.tracker import Tracker"
   ]
  },
  {
   "cell_type": "code",
   "execution_count": 3,
   "metadata": {},
   "outputs": [
    {
     "ename": "NameError",
     "evalue": "name 'sm' is not defined",
     "output_type": "error",
     "traceback": [
      "\u001b[0;31m---------------------------------------------------------------------------\u001b[0m",
      "\u001b[0;31mNameError\u001b[0m                                 Traceback (most recent call last)",
      "\u001b[0;32m<ipython-input-3-bbdaa0077586>\u001b[0m in \u001b[0;36m<module>\u001b[0;34m()\u001b[0m\n\u001b[0;32m----> 1\u001b[0;31m \u001b[0;32mwith\u001b[0m \u001b[0mTracker\u001b[0m\u001b[0;34m.\u001b[0m\u001b[0mcreate\u001b[0m\u001b[0;34m(\u001b[0m\u001b[0mdisplay_name\u001b[0m\u001b[0;34m=\u001b[0m\u001b[0;34m\"Preprocessing\"\u001b[0m\u001b[0;34m,\u001b[0m \u001b[0msagemaker_boto_client\u001b[0m\u001b[0;34m=\u001b[0m\u001b[0msm\u001b[0m\u001b[0;34m)\u001b[0m \u001b[0;32mas\u001b[0m \u001b[0mtracker\u001b[0m\u001b[0;34m:\u001b[0m\u001b[0;34m\u001b[0m\u001b[0m\n\u001b[0m\u001b[1;32m      2\u001b[0m     tracker.log_parameters({\n\u001b[1;32m      3\u001b[0m         \u001b[0;34m\"normalization_mean\"\u001b[0m\u001b[0;34m:\u001b[0m \u001b[0;36m0.1307\u001b[0m\u001b[0;34m,\u001b[0m\u001b[0;34m\u001b[0m\u001b[0m\n\u001b[1;32m      4\u001b[0m         \u001b[0;34m\"normalization_std\"\u001b[0m\u001b[0;34m:\u001b[0m \u001b[0;36m0.3081\u001b[0m\u001b[0;34m,\u001b[0m\u001b[0;34m\u001b[0m\u001b[0m\n\u001b[1;32m      5\u001b[0m     })\n",
      "\u001b[0;31mNameError\u001b[0m: name 'sm' is not defined"
     ]
    }
   ],
   "source": [
    "with Tracker.create(display_name=\"Preprocessing\", sagemaker_boto_client=sm) as tracker:\n",
    "    tracker.log_parameters({\n",
    "        \"normalization_mean\": 0.1307,\n",
    "        \"normalization_std\": 0.3081,\n",
    "    })\n",
    "    tracker.log_input(name=\"mnist-dataset\", media_type=\"s3/uri\", value=inputs)"
   ]
  },
  {
   "cell_type": "code",
   "execution_count": null,
   "metadata": {},
   "outputs": [],
   "source": []
  }
 ]
}