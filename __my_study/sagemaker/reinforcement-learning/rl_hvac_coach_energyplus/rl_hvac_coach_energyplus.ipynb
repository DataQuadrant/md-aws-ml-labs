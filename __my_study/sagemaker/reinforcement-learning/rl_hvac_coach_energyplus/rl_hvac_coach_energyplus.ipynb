{
 "cells": [
  {
   "cell_type": "markdown",
   "metadata": {},
   "source": [
    "# HVAC with Amazon SageMaker RL\n",
    "\n",
    "---\n",
    "## Introduction\n",
    "\n",
    "\n",
    "HVAC stands for Heating, Ventilation and Air Conditioning and is responsible for keeping us warm and comfortable indoors.  HVAC takes up a whopping 50% of the energy in a building and accounts for 40% of energy use in the US [1, 2]. Several control system optimizations have been proposed to reduce energy usage while ensuring thermal comfort.\n",
    "\n",
    "Modern buildings collect data about the weather, occupancy and equipment use. All of this can be used to optimize HVAC energy usage. Reinforcement Learning (RL) is a good fit because it can learn how to interact with the environment and identify strategies to limit wasted energy. Several recent research efforts have shown that RL can reduce HVAC energy consumption by 15-20% [3, 4].\n",
    "\n",
    "As training an RL algorithm in a real HVAC system can take time to converge as well as potentially lead to hazardous settings as the agent explores its state space, we turn to a simulator to train the agent. [EnergyPlus](https://energyplus.net/) is an open source, state of the art HVAC simulator from the US Department of Energy. We use a simple example with this simulator to showcase how we can train an RL model easily with Amazon SageMaker RL.\n",
    "\n",
    "<br>\n",
    "\n",
    "<img width=\"85%\" src=\"images/datacenter_env.png\" />\n",
    "\n",
    "<br>\n",
    "\n",
    "1. Objective: Control the data center HVAC system to reduce energy consumption while ensuring the room temperature stays within specified limits.\n",
    "2. Environment: We have a small single room datacenter that the HVAC system is cooling to ensure the compute equipment works properly. We will train our RL agent to control this HVAC system for one day subject to weather conditions in San Francisco.  The agent takes actions every 5 minutes for a 24 hour period. Hence, the episode is a fixed 120 steps. \n",
    "3. State: The outdoor temperature, outdoor humidity and indoor room temperature.\n",
    "4. Action: The agent can set the heating and cooling setpoints. The cooling setpoint tells the HVAC system that it should start cooling the room if the room temperature goes above this setpoint. Likewise, the HVAC systems starts heating if the room temperature goes below the heating setpoint.\n",
    "5. Reward: The rewards has two components which are added together with coefficients: \n",
    "    1. It is proportional to the energy consumed by the HVAC system.\n",
    "    2. It gets a large penalty when the room temperature exceeds pre-specified lower or upper limits (as defined in `data_center_env.py`).\n",
    "\n",
    "References\n",
    "\n",
    "1. [sciencedirect.com](https://www.sciencedirect.com/science/article/pii/S0378778807001016)\n",
    "2. [environment.gov.au](https://www.environment.gov.au/system/files/energy/files/hvac-factsheet-energy-breakdown.pdf)\n",
    "3. Wei, Tianshu, Yanzhi Wang, and Qi Zhu. \"Deep reinforcement learning for building hvac control.\" In Proceedings of the 54th Annual Design Automation Conference 2017, p. 22. ACM, 2017.\n",
    "4. Zhang, Zhiang, and Khee Poh Lam. \"Practical implementation and evaluation of deep reinforcement learning control for a radiant heating system.\" In Proceedings of the 5th Conference on Systems for Built Environments, pp. 148-157. ACM, 2018."
   ]
  },
  {
   "cell_type": "markdown",
   "metadata": {},
   "source": [
    "## Pre-requisites \n",
    "\n",
    "### Imports\n",
    "\n",
    "To get started, we'll import the Python libraries we need, set up the environment with a few prerequisites for permissions and configurations."
   ]
  },
  {
   "cell_type": "code",
   "execution_count": 1,
   "metadata": {
    "scrolled": true
   },
   "outputs": [],
   "source": [
    "import sagemaker\n",
    "import boto3\n",
    "import sys\n",
    "import os\n",
    "import glob\n",
    "import re\n",
    "import subprocess\n",
    "import numpy as np\n",
    "from IPython.display import HTML\n",
    "import time\n",
    "from time import gmtime, strftime\n",
    "sys.path.append(\"../common\")\n",
    "from misc import get_execution_role, wait_for_s3_object\n",
    "from docker_utils import build_and_push_docker_image\n",
    "from sagemaker.rl import RLEstimator, RLToolkit, RLFramework"
   ]
  },
  {
   "cell_type": "markdown",
   "metadata": {},
   "source": [
    "### Setup S3 bucket\n",
    "\n",
    "Create a reference to the default S3 bucket that will be used for model outputs."
   ]
  },
  {
   "cell_type": "code",
   "execution_count": 14,
   "metadata": {},
   "outputs": [
    {
     "name": "stdout",
     "output_type": "stream",
     "text": [
      "S3 bucket path: s3://sagemaker-us-east-2-868024899531/\n"
     ]
    }
   ],
   "source": [
    "sage_session = sagemaker.session.Session()\n",
    "s3_bucket = sage_session.default_bucket()  \n",
    "s3_output_path = 's3://{}/'.format(s3_bucket)\n",
    "print(\"S3 bucket path: {}\".format(s3_output_path))"
   ]
  },
  {
   "cell_type": "markdown",
   "metadata": {},
   "source": [
    "### Define Variables \n",
    "\n",
    "We define a job below that's used to identify our jobs."
   ]
  },
  {
   "cell_type": "code",
   "execution_count": 15,
   "metadata": {},
   "outputs": [],
   "source": [
    "# create unique job name \n",
    "job_name_prefix = 'rl-hvac'"
   ]
  },
  {
   "cell_type": "markdown",
   "metadata": {},
   "source": [
    "### Configure settings\n",
    "\n",
    "You can run your RL training jobs locally on the SageMaker notebook instance or on SageMaker training. In both of these scenarios, you can run in either 'local' (where you run the commands) or 'SageMaker' mode (on SageMaker training instances). 'local' mode uses the SageMaker Python SDK to run your code in Docker containers locally. It can speed up iterative testing and debugging while using the same familiar Python SDK interface. Just set `local_mode = True`. And when you're ready move to 'SageMaker' mode to scale things up."
   ]
  },
  {
   "cell_type": "code",
   "execution_count": 16,
   "metadata": {},
   "outputs": [],
   "source": [
    "# run local (on this machine)?\n",
    "# or on sagemaker training instances?\n",
    "local_mode = True\n",
    "\n",
    "if local_mode:\n",
    "    instance_type = 'local'\n",
    "else:\n",
    "    # choose a larger instance to avoid running out of memory\n",
    "    instance_type = \"ml.m4.4xlarge\""
   ]
  },
  {
   "cell_type": "code",
   "execution_count": 22,
   "metadata": {},
   "outputs": [],
   "source": [
    "instance_type = \"ml.m4.4xlarge\""
   ]
  },
  {
   "cell_type": "markdown",
   "metadata": {},
   "source": [
    "### Create an IAM role\n",
    "\n",
    "Either get the execution role when running from a SageMaker notebook instance `role = sagemaker.get_execution_role()` or, when running from local notebook instance, use utils method `role = get_execution_role()` to create an execution role."
   ]
  },
  {
   "cell_type": "code",
   "execution_count": 17,
   "metadata": {},
   "outputs": [
    {
     "name": "stderr",
     "output_type": "stream",
     "text": [
      "Couldn't call 'get_role' to get Role ARN from role name md-labs to get Role path.\n"
     ]
    },
    {
     "name": "stdout",
     "output_type": "stream",
     "text": [
      "Using IAM role arn: arn:aws:iam::868024899531:role/service-role/AmazonSageMaker-ExecutionRole-20200208T092301\n"
     ]
    }
   ],
   "source": [
    "try:\n",
    "    role = sagemaker.get_execution_role()\n",
    "except:\n",
    "    role = get_execution_role()\n",
    "\n",
    "print(\"Using IAM role arn: {}\".format(role))"
   ]
  },
  {
   "cell_type": "markdown",
   "metadata": {},
   "source": [
    "### Install docker for `local` mode\n",
    "\n",
    "In order to work in `local` mode, you need to have docker installed. When running from your local machine, please make sure that you have docker or docker-compose (for local CPU machines) and nvidia-docker (for local GPU machines) installed. Alternatively, when running from a SageMaker notebook instance, you can simply run the following script to install dependencies.\n",
    "\n",
    "Note, you can only run a single local notebook at one time."
   ]
  },
  {
   "cell_type": "code",
   "execution_count": 18,
   "metadata": {},
   "outputs": [
    {
     "name": "stdout",
     "output_type": "stream",
     "text": [
      "The user has root access.\n",
      "Error: argument \"agent\" is wrong: table id value is invalid\n",
      "\n"
     ]
    }
   ],
   "source": [
    "# Only run from SageMaker notebook instance\n",
    "if local_mode:\n",
    "    !/bin/bash ../common/setup.sh"
   ]
  },
  {
   "cell_type": "markdown",
   "metadata": {},
   "source": [
    "## Build docker container\n",
    "\n",
    "Since we're working with a custom environment with custom dependencies, we create our own container for training. We:\n",
    "\n",
    "1. Fetch the base MXNet and Coach container image,\n",
    "2. Install EnergyPlus and its dependencies on top,\n",
    "3. Upload the new container image to AWS ECR."
   ]
  },
  {
   "cell_type": "code",
   "execution_count": 19,
   "metadata": {},
   "outputs": [
    {
     "name": "stdout",
     "output_type": "stream",
     "text": [
      "WARNING! Using --password via the CLI is insecure. Use --password-stdin.\n",
      "WARNING! Your password will be stored unencrypted in /home/ec2-user/.docker/config.json.\n",
      "Configure a credential helper to remove this warning. See\n",
      "https://docs.docker.com/engine/reference/commandline/login/#credentials-store\n",
      "\n",
      "Login Succeeded\n",
      "Logged into ECR\n",
      "Building docker image sagemaker-hvac-coach-cpu from Dockerfile\n",
      "$ docker build -t sagemaker-hvac-coach-cpu -f Dockerfile . --build-arg CPU_OR_GPU=cpu --build-arg AWS_REGION=us-east-2\n",
      "Sending build context to Docker daemon  8.422MB\n",
      "Step 1/15 : ARG CPU_OR_GPU\n",
      "Step 2/15 : ARG AWS_REGION\n",
      "Step 3/15 : FROM 520713654638.dkr.ecr.${AWS_REGION}.amazonaws.com/sagemaker-rl-mxnet:coach0.11.0-${CPU_OR_GPU}-py3\n",
      " ---> a6bb63857d82\n",
      "Step 4/15 : RUN pip install -U pip\n",
      " ---> Using cache\n",
      " ---> 187a02b7d11d\n",
      "Step 5/15 : ENV ENERGYPLUS_VERSION 8.8.0\n",
      " ---> Using cache\n",
      " ---> f7528e9eee2a\n",
      "Step 6/15 : ENV ENERGYPLUS_TAG v8.8.0\n",
      " ---> Using cache\n",
      " ---> 439bd494b972\n",
      "Step 7/15 : ENV ENERGYPLUS_SHA 7c3bbe4830\n",
      " ---> Using cache\n",
      " ---> e73daa2ceef6\n",
      "Step 8/15 : ENV ENERGYPLUS_INSTALL_VERSION 8-8-0\n",
      " ---> Using cache\n",
      " ---> ba70314fb138\n",
      "Step 9/15 : ENV ENERGYPLUS_DOWNLOAD_BASE_URL https://github.com/NREL/EnergyPlus/releases/download/$ENERGYPLUS_TAG\n",
      " ---> Using cache\n",
      " ---> f073686d9d22\n",
      "Step 10/15 : ENV ENERGYPLUS_DOWNLOAD_FILENAME EnergyPlus-$ENERGYPLUS_VERSION-$ENERGYPLUS_SHA-Linux-x86_64.sh\n",
      " ---> Using cache\n",
      " ---> 0e7230c512bc\n",
      "Step 11/15 : ENV ENERGYPLUS_DOWNLOAD_URL $ENERGYPLUS_DOWNLOAD_BASE_URL/$ENERGYPLUS_DOWNLOAD_FILENAME\n",
      " ---> Using cache\n",
      " ---> b9710558155a\n",
      "Step 12/15 : RUN apt-get update && apt-get install -y openjdk-8-jdk openjdk-8-jre\n",
      " ---> Using cache\n",
      " ---> 4848c73e6ffb\n",
      "Step 13/15 : RUN apt-get update && apt-get install -y ca-certificates curl     && curl -SLO $ENERGYPLUS_DOWNLOAD_URL     && chmod +x $ENERGYPLUS_DOWNLOAD_FILENAME     && echo \"y\\r\" | ./$ENERGYPLUS_DOWNLOAD_FILENAME     && rm $ENERGYPLUS_DOWNLOAD_FILENAME     && cd /usr/local/EnergyPlus-$ENERGYPLUS_INSTALL_VERSION     PostProcess/EP-Compare PreProcess/FMUParser PreProcess/ParametricPreProcessor PreProcess/IDFVersionUpdater\n",
      " ---> Using cache\n",
      " ---> 7178b3655656\n",
      "Step 14/15 : WORKDIR /opt/ml\n",
      " ---> Using cache\n",
      " ---> 46176935e135\n",
      "Step 15/15 : ENV SAGEMAKER_TRAINING_COMMAND /opt/ml/code/sagemaker-train.sh\n",
      " ---> Using cache\n",
      " ---> 8485a9a326b6\n",
      "Successfully built 8485a9a326b6\n",
      "Successfully tagged sagemaker-hvac-coach-cpu:latest\n",
      "Done building docker image sagemaker-hvac-coach-cpu\n",
      "ECR repository already exists: sagemaker-hvac-coach-cpu\n",
      "WARNING! Using --password via the CLI is insecure. Use --password-stdin.\n",
      "WARNING! Your password will be stored unencrypted in /home/ec2-user/.docker/config.json.\n",
      "Configure a credential helper to remove this warning. See\n",
      "https://docs.docker.com/engine/reference/commandline/login/#credentials-store\n",
      "\n",
      "Login Succeeded\n",
      "Logged into ECR\n",
      "$ docker tag sagemaker-hvac-coach-cpu 868024899531.dkr.ecr.us-east-2.amazonaws.com/sagemaker-hvac-coach-cpu\n",
      "Pushing docker image to ECR repository 868024899531.dkr.ecr.us-east-2.amazonaws.com/sagemaker-hvac-coach-cpu\n",
      "\n",
      "$ docker push 868024899531.dkr.ecr.us-east-2.amazonaws.com/sagemaker-hvac-coach-cpu\n",
      "The push refers to repository [868024899531.dkr.ecr.us-east-2.amazonaws.com/sagemaker-hvac-coach-cpu]\n",
      "c9fd5ab859d9: Preparing\n",
      "cf8cfab70dce: Preparing\n",
      "8fcb43529cf5: Preparing\n",
      "5fd7012ea307: Preparing\n",
      "9913c2216d17: Preparing\n",
      "2eb2e363cac2: Preparing\n",
      "36cb14e2633d: Preparing\n",
      "86527af4b29c: Preparing\n",
      "da3a1ff3c030: Preparing\n",
      "f81dd668ca24: Preparing\n",
      "57a57ac6bfcc: Preparing\n",
      "231edd59b442: Preparing\n",
      "c9d538eea156: Preparing\n",
      "2eb2e363cac2: Waiting\n",
      "f81dd668ca24: Waiting\n",
      "57a57ac6bfcc: Waiting\n",
      "36cb14e2633d: Waiting\n",
      "86527af4b29c: Waiting\n",
      "231edd59b442: Waiting\n",
      "da3a1ff3c030: Waiting\n",
      "5763ef3ebbee: Preparing\n",
      "f1524aa288cf: Preparing\n",
      "c9d538eea156: Waiting\n",
      "5763ef3ebbee: Waiting\n",
      "a7d2d8176521: Preparing\n",
      "8b0def9d22f3: Preparing\n",
      "3db5746c911a: Preparing\n",
      "819a824caf70: Preparing\n",
      "647265b9d8bc: Preparing\n",
      "41c002c8a6fd: Preparing\n",
      "819a824caf70: Waiting\n",
      "647265b9d8bc: Waiting\n",
      "41c002c8a6fd: Waiting\n",
      "8b0def9d22f3: Waiting\n",
      "f1524aa288cf: Waiting\n",
      "a7d2d8176521: Waiting\n",
      "5fd7012ea307: Layer already exists\n",
      "9913c2216d17: Layer already exists\n",
      "cf8cfab70dce: Layer already exists\n",
      "c9fd5ab859d9: Layer already exists\n",
      "8fcb43529cf5: Layer already exists\n",
      "2eb2e363cac2: Layer already exists\n",
      "86527af4b29c: Layer already exists\n",
      "36cb14e2633d: Layer already exists\n",
      "da3a1ff3c030: Layer already exists\n",
      "f81dd668ca24: Layer already exists\n",
      "57a57ac6bfcc: Layer already exists\n",
      "f1524aa288cf: Layer already exists\n",
      "c9d538eea156: Layer already exists\n",
      "231edd59b442: Layer already exists\n",
      "5763ef3ebbee: Layer already exists\n",
      "a7d2d8176521: Layer already exists\n",
      "8b0def9d22f3: Layer already exists\n",
      "819a824caf70: Layer already exists\n",
      "3db5746c911a: Layer already exists\n",
      "647265b9d8bc: Layer already exists\n",
      "41c002c8a6fd: Layer already exists\n",
      "latest: digest: sha256:a610aa725fae854ed8746934a0ffe697bf9692d222841e73516f360655d36bb2 size: 4727\n",
      "Done pushing 868024899531.dkr.ecr.us-east-2.amazonaws.com/sagemaker-hvac-coach-cpu\n",
      "Using ECR image 868024899531.dkr.ecr.us-east-2.amazonaws.com/sagemaker-hvac-coach-cpu\n"
     ]
    }
   ],
   "source": [
    "cpu_or_gpu = 'gpu' if instance_type.startswith('ml.p') else 'cpu'\n",
    "repository_short_name = \"sagemaker-hvac-coach-%s\" % cpu_or_gpu\n",
    "docker_build_args = {\n",
    "    'CPU_OR_GPU': cpu_or_gpu, \n",
    "    'AWS_REGION': boto3.Session().region_name,\n",
    "}\n",
    "custom_image_name = build_and_push_docker_image(repository_short_name, build_args=docker_build_args)\n",
    "print(\"Using ECR image %s\" % custom_image_name)"
   ]
  },
  {
   "cell_type": "markdown",
   "metadata": {},
   "source": [
    "## Setup the environment\n",
    "\n",
    "The environment is defined in a Python file called `data_center_env.py` and for SageMaker training jobs, the file will be uploaded inside the `/src` directory.\n",
    "\n",
    "The environment implements the init(), step() and reset() functions that describe how the environment behaves. This is consistent with Open AI Gym interfaces for defining an environment.\n",
    "\n",
    "1. `init()` - initialize the environment in a pre-defined state\n",
    "2. `step()` - take an action on the environment\n",
    "3. `reset()` - restart the environment on a new episode"
   ]
  },
  {
   "cell_type": "markdown",
   "metadata": {},
   "source": [
    "## Configure the presets for RL algorithm \n",
    "\n",
    "The presets that configure the RL training jobs are defined in the “preset-energy-plus-clipped-ppo.py” file which is also uploaded as part of the `/src` directory. Using the preset file, you can define agent parameters to select the specific agent algorithm. You can also set the environment parameters, define the schedule and visualization parameters, and define the graph manager. The schedule presets will define the number of heat up steps, periodic evaluation steps, training steps between evaluations, etc.\n",
    "\n",
    "All of these can be overridden at run-time by specifying the `RLCOACH_PRESET` hyperparameter. Additionally, it can be used to define custom hyperparameters."
   ]
  },
  {
   "cell_type": "code",
   "execution_count": null,
   "metadata": {},
   "outputs": [],
   "source": [
    "!pygmentize src/preset-energy-plus-clipped-ppo.py"
   ]
  },
  {
   "cell_type": "markdown",
   "metadata": {},
   "source": [
    "## Write the Training Code \n",
    "\n",
    "The training code is written in the file “train-coach.py” which is uploaded in the /src directory. \n",
    "First import the environment files and the preset files, and then define the main() function. "
   ]
  },
  {
   "cell_type": "code",
   "execution_count": null,
   "metadata": {},
   "outputs": [],
   "source": [
    "!pygmentize src/train-coach.py"
   ]
  },
  {
   "cell_type": "markdown",
   "metadata": {},
   "source": [
    "## Train the RL model using the Python SDK Script mode\n",
    "\n",
    "If you are using local mode, the training will run on the notebook instance. When using SageMaker for training, you can select a GPU or CPU instance. The RLEstimator is used for training RL jobs. \n",
    "\n",
    "1. Specify the source directory where the environment, presets and training code is uploaded.\n",
    "2. Specify the entry point as the training code \n",
    "3. Specify the choice of RL toolkit and framework. This automatically resolves to the ECR path for the RL Container. \n",
    "4. Define the training parameters such as the instance count, job name, S3 path for output and job name. \n",
    "5. Specify the hyperparameters for the RL agent algorithm. The RLCOACH_PRESET can be used to specify the RL agent algorithm you want to use. \n",
    "6. [optional] Define the metrics definitions that you are interested in capturing in your logs. These can also be visualized in CloudWatch and SageMaker Notebooks. "
   ]
  },
  {
   "cell_type": "code",
   "execution_count": 23,
   "metadata": {},
   "outputs": [
    {
     "name": "stdout",
     "output_type": "stream",
     "text": [
      "2020-02-10 01:18:37 Starting - Starting the training job...\n",
      "2020-02-10 01:18:38 Starting - Launching requested ML instances...\n",
      "2020-02-10 01:19:34 Starting - Preparing the instances for training......\n",
      "2020-02-10 01:20:38 Downloading - Downloading input data...\n",
      "2020-02-10 01:20:49 Training - Downloading the training image.....\u001b[34mbash: cannot set terminal process group (-1): Inappropriate ioctl for device\u001b[0m\n",
      "\u001b[34mbash: no job control in this shell\u001b[0m\n",
      "\u001b[34m2020-02-10 01:21:48,198 sagemaker-containers INFO     Imported framework sagemaker_mxnet_container.training\u001b[0m\n",
      "\u001b[34m2020-02-10 01:21:48,201 sagemaker-containers INFO     No GPUs detected (normal if no gpus installed)\u001b[0m\n",
      "\u001b[34m2020-02-10 01:21:48,216 sagemaker_mxnet_container.training INFO     MXNet training environment: {'SM_HOSTS': '[\"algo-1\"]', 'SM_MODULE_DIR': 's3://sagemaker-us-east-2-868024899531/rl-hvac-2020-02-10-01-18-31-391/source/sourcedir.tar.gz', 'SM_INPUT_CONFIG_DIR': '/opt/ml/input/config', 'SM_MODEL_DIR': '/opt/ml/model', 'SM_MODULE_NAME': 'train-coach', 'SM_USER_ARGS': '[\"--save_model\",\"1\"]', 'SM_NUM_CPUS': '16', 'SM_USER_ENTRY_POINT': 'train-coach.py', 'SM_NUM_GPUS': '0', 'SM_RESOURCE_CONFIG': '{\"current_host\":\"algo-1\",\"hosts\":[\"algo-1\"],\"network_interface_name\":\"eth0\"}', 'SM_INPUT_DIR': '/opt/ml/input', 'SM_CURRENT_HOST': 'algo-1', 'SM_CHANNELS': '[]', 'SM_OUTPUT_DIR': '/opt/ml/output', 'SM_FRAMEWORK_PARAMS': '{\"sagemaker_estimator\":\"RLEstimator\"}', 'SM_OUTPUT_DATA_DIR': '/opt/ml/output/data', 'SM_NETWORK_INTERFACE_NAME': 'eth0', 'SM_INPUT_DATA_CONFIG': '{}', 'SM_OUTPUT_INTERMEDIATE_DIR': '/opt/ml/output/intermediate', 'SM_HPS': '{\"save_model\":1}', 'SM_FRAMEWORK_MODULE': 'sagemaker_mxnet_container.training:main', 'SM_HP_SAVE_MODEL': '1', 'SM_TRAINING_ENV': '{\"additional_framework_parameters\":{\"sagemaker_estimator\":\"RLEstimator\"},\"channel_input_dirs\":{},\"current_host\":\"algo-1\",\"framework_module\":\"sagemaker_mxnet_container.training:main\",\"hosts\":[\"algo-1\"],\"hyperparameters\":{\"save_model\":1},\"input_config_dir\":\"/opt/ml/input/config\",\"input_data_config\":{},\"input_dir\":\"/opt/ml/input\",\"job_name\":\"rl-hvac-2020-02-10-01-18-31-391\",\"log_level\":20,\"model_dir\":\"/opt/ml/model\",\"module_dir\":\"s3://sagemaker-us-east-2-868024899531/rl-hvac-2020-02-10-01-18-31-391/source/sourcedir.tar.gz\",\"module_name\":\"train-coach\",\"network_interface_name\":\"eth0\",\"num_cpus\":16,\"num_gpus\":0,\"output_data_dir\":\"/opt/ml/output/data\",\"output_dir\":\"/opt/ml/output\",\"output_intermediate_dir\":\"/opt/ml/output/intermediate\",\"resource_config\":{\"current_host\":\"algo-1\",\"hosts\":[\"algo-1\"],\"network_interface_name\":\"eth0\"},\"user_entry_point\":\"train-coach.py\"}', 'SM_LOG_LEVEL': '20'}\u001b[0m\n",
      "\u001b[34m2020-02-10 01:21:48,410 sagemaker-containers INFO     Module train-coach does not provide a setup.py. \u001b[0m\n",
      "\u001b[34mGenerating setup.py\u001b[0m\n",
      "\u001b[34m2020-02-10 01:21:48,410 sagemaker-containers INFO     Generating setup.cfg\u001b[0m\n",
      "\u001b[34m2020-02-10 01:21:48,411 sagemaker-containers INFO     Generating MANIFEST.in\u001b[0m\n",
      "\u001b[34m2020-02-10 01:21:48,411 sagemaker-containers INFO     Installing module with the following command:\u001b[0m\n",
      "\u001b[34m/usr/bin/python -m pip install -U . \u001b[0m\n",
      "\u001b[34mProcessing /opt/ml/code\u001b[0m\n",
      "\u001b[34mBuilding wheels for collected packages: train-coach\n",
      "  Building wheel for train-coach (setup.py): started\n",
      "  Building wheel for train-coach (setup.py): finished with status 'done'\n",
      "  Created wheel for train-coach: filename=train_coach-1.0.0-py2.py3-none-any.whl size=859552 sha256=67155d2a14b366a8b8dd624ba3c440d9008d92c7e12c3ddfc953918d3919b031\n",
      "  Stored in directory: /tmp/pip-ephem-wheel-cache-br3beb_v/wheels/3a/31/97/63e40a89fe32612d98fce05fcda53a2c9f903588f27638048c\u001b[0m\n",
      "\u001b[34mSuccessfully built train-coach\u001b[0m\n",
      "\u001b[34mInstalling collected packages: train-coach\u001b[0m\n",
      "\u001b[34mSuccessfully installed train-coach-1.0.0\u001b[0m\n",
      "\u001b[34m2020-02-10 01:21:50,435 sagemaker-containers INFO     No GPUs detected (normal if no gpus installed)\u001b[0m\n",
      "\u001b[34m2020-02-10 01:21:50,449 sagemaker-containers INFO     Invoking user script\n",
      "\u001b[0m\n",
      "\u001b[34mTraining Env:\n",
      "\u001b[0m\n",
      "\u001b[34m{\n",
      "    \"framework_module\": \"sagemaker_mxnet_container.training:main\",\n",
      "    \"input_data_config\": {},\n",
      "    \"network_interface_name\": \"eth0\",\n",
      "    \"module_dir\": \"s3://sagemaker-us-east-2-868024899531/rl-hvac-2020-02-10-01-18-31-391/source/sourcedir.tar.gz\",\n",
      "    \"input_config_dir\": \"/opt/ml/input/config\",\n",
      "    \"current_host\": \"algo-1\",\n",
      "    \"input_dir\": \"/opt/ml/input\",\n",
      "    \"model_dir\": \"/opt/ml/model\",\n",
      "    \"channel_input_dirs\": {},\n",
      "    \"additional_framework_parameters\": {\n",
      "        \"sagemaker_estimator\": \"RLEstimator\"\n",
      "    },\n",
      "    \"hosts\": [\n",
      "        \"algo-1\"\n",
      "    ],\n",
      "    \"num_cpus\": 16,\n",
      "    \"resource_config\": {\n",
      "        \"current_host\": \"algo-1\",\n",
      "        \"hosts\": [\n",
      "            \"algo-1\"\n",
      "        ],\n",
      "        \"network_interface_name\": \"eth0\"\n",
      "    },\n",
      "    \"output_dir\": \"/opt/ml/output\",\n",
      "    \"module_name\": \"train-coach\",\n",
      "    \"log_level\": 20,\n",
      "    \"job_name\": \"rl-hvac-2020-02-10-01-18-31-391\",\n",
      "    \"output_intermediate_dir\": \"/opt/ml/output/intermediate\",\n",
      "    \"output_data_dir\": \"/opt/ml/output/data\",\n",
      "    \"num_gpus\": 0,\n",
      "    \"hyperparameters\": {\n",
      "        \"save_model\": 1\n",
      "    },\n",
      "    \"user_entry_point\": \"train-coach.py\"\u001b[0m\n",
      "\u001b[34m}\n",
      "\u001b[0m\n",
      "\u001b[34mEnvironment variables:\n",
      "\u001b[0m\n",
      "\u001b[34mSM_HOSTS=[\"algo-1\"]\u001b[0m\n",
      "\u001b[34mSM_MODULE_DIR=s3://sagemaker-us-east-2-868024899531/rl-hvac-2020-02-10-01-18-31-391/source/sourcedir.tar.gz\u001b[0m\n",
      "\u001b[34mSM_INPUT_CONFIG_DIR=/opt/ml/input/config\u001b[0m\n",
      "\u001b[34mSM_MODEL_DIR=/opt/ml/model\u001b[0m\n",
      "\u001b[34mSM_MODULE_NAME=train-coach\u001b[0m\n",
      "\u001b[34mSM_USER_ARGS=[\"--save_model\",\"1\"]\u001b[0m\n",
      "\u001b[34mSM_USER_ENTRY_POINT=train-coach.py\u001b[0m\n",
      "\u001b[34mSM_RESOURCE_CONFIG={\"current_host\":\"algo-1\",\"hosts\":[\"algo-1\"],\"network_interface_name\":\"eth0\"}\u001b[0m\n",
      "\u001b[34mSM_INPUT_DIR=/opt/ml/input\u001b[0m\n",
      "\u001b[34mSM_NUM_CPUS=16\u001b[0m\n",
      "\u001b[34mSM_CHANNELS=[]\u001b[0m\n",
      "\u001b[34mSM_OUTPUT_DIR=/opt/ml/output\u001b[0m\n",
      "\u001b[34mSM_FRAMEWORK_PARAMS={\"sagemaker_estimator\":\"RLEstimator\"}\u001b[0m\n",
      "\u001b[34mSM_NUM_GPUS=0\u001b[0m\n",
      "\u001b[34mSM_NETWORK_INTERFACE_NAME=eth0\u001b[0m\n",
      "\u001b[34mSM_INPUT_DATA_CONFIG={}\u001b[0m\n",
      "\u001b[34mSM_OUTPUT_INTERMEDIATE_DIR=/opt/ml/output/intermediate\u001b[0m\n",
      "\u001b[34mSM_HPS={\"save_model\":1}\u001b[0m\n",
      "\u001b[34mSM_FRAMEWORK_MODULE=sagemaker_mxnet_container.training:main\u001b[0m\n",
      "\u001b[34mPYTHONPATH=/usr/local/bin:/usr/lib/python35.zip:/usr/lib/python3.5:/usr/lib/python3.5/plat-x86_64-linux-gnu:/usr/lib/python3.5/lib-dynload:/usr/local/lib/python3.5/dist-packages:/usr/lib/python3/dist-packages\u001b[0m\n",
      "\u001b[34mSM_HP_SAVE_MODEL=1\u001b[0m\n",
      "\u001b[34mSM_CURRENT_HOST=algo-1\u001b[0m\n",
      "\u001b[34mSM_TRAINING_ENV={\"additional_framework_parameters\":{\"sagemaker_estimator\":\"RLEstimator\"},\"channel_input_dirs\":{},\"current_host\":\"algo-1\",\"framework_module\":\"sagemaker_mxnet_container.training:main\",\"hosts\":[\"algo-1\"],\"hyperparameters\":{\"save_model\":1},\"input_config_dir\":\"/opt/ml/input/config\",\"input_data_config\":{},\"input_dir\":\"/opt/ml/input\",\"job_name\":\"rl-hvac-2020-02-10-01-18-31-391\",\"log_level\":20,\"model_dir\":\"/opt/ml/model\",\"module_dir\":\"s3://sagemaker-us-east-2-868024899531/rl-hvac-2020-02-10-01-18-31-391/source/sourcedir.tar.gz\",\"module_name\":\"train-coach\",\"network_interface_name\":\"eth0\",\"num_cpus\":16,\"num_gpus\":0,\"output_data_dir\":\"/opt/ml/output/data\",\"output_dir\":\"/opt/ml/output\",\"output_intermediate_dir\":\"/opt/ml/output/intermediate\",\"resource_config\":{\"current_host\":\"algo-1\",\"hosts\":[\"algo-1\"],\"network_interface_name\":\"eth0\"},\"user_entry_point\":\"train-coach.py\"}\u001b[0m\n",
      "\u001b[34mSM_LOG_LEVEL=20\u001b[0m\n",
      "\u001b[34mSM_OUTPUT_DATA_DIR=/opt/ml/output/data\n",
      "\u001b[0m\n",
      "\u001b[34mInvoking script with the following command:\n",
      "\u001b[0m\n",
      "\u001b[34m/usr/bin/python -m train-coach --save_model 1\n",
      "\n",
      "\u001b[0m\n",
      "\u001b[34m#033[93mWarning: failed to import the following packages - tensorflow#033[0m\u001b[0m\n",
      "\u001b[34mLoading preset preset-energy-plus-clipped-ppo from /opt/ml/code\u001b[0m\n",
      "\u001b[34m## Creating graph - name: BasicRLGraphManager\u001b[0m\n",
      "\u001b[34mStarting a new simulation..\u001b[0m\n",
      "\u001b[34mSetting BCVTB_HOME to  /opt/ml/code/eplus/envs/bcvtb\u001b[0m\n",
      "\u001b[34mUsing E+ executable: /usr/local/EnergyPlus-8-8-0/energyplus\u001b[0m\n",
      "\u001b[34mUsing IDF file: /opt/ml/code/eplus/envs/buildings/1ZoneDataCenter/1ZoneDataCenter.idf\u001b[0m\n",
      "\u001b[34mCreating E+ Process: /usr/local/EnergyPlus-8-8-0/energyplus -w /opt/ml/code/eplus/envs/weather/USA_CA_San.Francisco.Intl.AP.724940_TMY3.epw /opt/ml/code/eplus/envs/buildings/1ZoneDataCenter/1ZoneDataCenter.idf\u001b[0m\n",
      "\u001b[34mStarted waiting for connection on localhost 37435\u001b[0m\n",
      "\u001b[34mGot connection from Host 127.0.0.1 Port 52990\u001b[0m\n",
      "\n",
      "2020-02-10 01:21:46 Training - Training image download completed. Training in progress.\u001b[34mDay:  1\u001b[0m\n",
      "\u001b[34m## Creating agent - name: agent\u001b[0m\n",
      "\u001b[34mRequested devices [gpu(0)] not available. Default to CPU context.\u001b[0m\n",
      "\u001b[34mRequested devices [gpu(0)] not available. Default to CPU context.\u001b[0m\n",
      "\u001b[34m/usr/local/lib/python3.5/dist-packages/mxnet/gluon/block.py:303: UserWarning: \"PPOHead._loss\" is an unregistered container with Blocks. Note that Blocks inside the list, tuple or dict will not be registered automatically. Make sure to register them using register_child() or switching to nn.Sequential/nn.HybridSequential instead. \n",
      "  ret.update(cld.collect_params(select=select))\u001b[0m\n",
      "\u001b[34m/usr/local/lib/python3.5/dist-packages/mxnet/gluon/block.py:303: UserWarning: \"PPOHead._loss\" is an unregistered container with Blocks. Note that Blocks inside the list, tuple or dict will not be registered automatically. Make sure to register them using register_child() or switching to nn.Sequential/nn.HybridSequential instead. \n",
      "  ret.update(cld.collect_params(select=select))\u001b[0m\n",
      "\u001b[34m/usr/local/lib/python3.5/dist-packages/mxnet/gluon/block.py:303: UserWarning: \"PPOHead._loss\" is an unregistered container with Blocks. Note that Blocks inside the list, tuple or dict will not be registered automatically. Make sure to register them using register_child() or switching to nn.Sequential/nn.HybridSequential instead. \n",
      "  ret.update(cld.collect_params(select=select))\u001b[0m\n",
      "\u001b[34m## Starting to improve simple_rl_graph task index 0\u001b[0m\n",
      "\u001b[34mClosing the old simulation and socket.\u001b[0m\n",
      "\u001b[34mClosing E+\u001b[0m\n",
      "\u001b[34mError: No digits were found in getIntCheckError.\u001b[0m\n",
      "\u001b[34mFurther characters after number: \n",
      "\u001b[0m\n",
      "\u001b[34mSending EXIT_FAILURE = : 1\u001b[0m\n",
      "\u001b[34mStarting a new simulation..\u001b[0m\n",
      "\u001b[34mError: The server closed the socket while the client was reading.\u001b[0m\n",
      "\u001b[34mSetting BCVTB_HOME to  /opt/ml/code/eplus/envs/bcvtb\u001b[0m\n",
      "\u001b[34mUsing E+ executable: /usr/local/EnergyPlus-8-8-0/energyplus\u001b[0m\n",
      "\u001b[34mUsing IDF file: /opt/ml/code/eplus/envs/buildings/1ZoneDataCenter/1ZoneDataCenter.idf\u001b[0m\n",
      "\u001b[34mCreating E+ Process: /usr/local/EnergyPlus-8-8-0/energyplus -w /opt/ml/code/eplus/envs/weather/USA_CA_San.Francisco.Intl.AP.724940_TMY3.epw /opt/ml/code/eplus/envs/buildings/1ZoneDataCenter/1ZoneDataCenter.idf\u001b[0m\n",
      "\u001b[34mStarted waiting for connection on localhost 45271\u001b[0m\n",
      "\u001b[34mGot connection from Host 127.0.0.1 Port 44688\u001b[0m\n",
      "\u001b[34mDay:  1\u001b[0m\n",
      "\u001b[34mCheckpoint> Saving in path=['/opt/ml/output/data/checkpoint/0_Step-1.ckpt.main_level.agent.main.online.onnx', '/opt/ml/output/data/checkpoint/0_Step-1.ckpt.main_level.agent.main.online']\u001b[0m\n",
      "\u001b[34mSimulation Finished. No output\u001b[0m\n",
      "\u001b[34mFinished simulation\u001b[0m\n",
      "\u001b[34mLast action:  [34.90116299  9.939581  ]\u001b[0m\n",
      "\u001b[34mLast reward:  -458.7715123249121\u001b[0m\n",
      "\u001b[34mClosing E+\u001b[0m\n",
      "\u001b[34mTraining> Name=main_level/agent, Worker=0, Episode=1, Total reward=-11147.19, Steps=288, Training iteration=0\u001b[0m\n",
      "\u001b[34mStarting a new simulation..\u001b[0m\n",
      "\u001b[34mSetting BCVTB_HOME to  /opt/ml/code/eplus/envs/bcvtb\u001b[0m\n",
      "\u001b[34mUsing E+ executable: /usr/local/EnergyPlus-8-8-0/energyplus\u001b[0m\n",
      "\u001b[34mUsing IDF file: /opt/ml/code/eplus/envs/buildings/1ZoneDataCenter/1ZoneDataCenter.idf\u001b[0m\n",
      "\u001b[34mCreating E+ Process: /usr/local/EnergyPlus-8-8-0/energyplus -w /opt/ml/code/eplus/envs/weather/USA_CA_San.Francisco.Intl.AP.724940_TMY3.epw /opt/ml/code/eplus/envs/buildings/1ZoneDataCenter/1ZoneDataCenter.idf\u001b[0m\n",
      "\u001b[34mStarted waiting for connection on localhost 44283\u001b[0m\n",
      "\u001b[34mGot connection from Host 127.0.0.1 Port 40158\u001b[0m\n",
      "\u001b[34mDay:  1\u001b[0m\n",
      "\u001b[34mCheckpoint> Saving in path=['/opt/ml/output/data/checkpoint/1_Step-289.ckpt.main_level.agent.main.online.onnx', '/opt/ml/output/data/checkpoint/1_Step-289.ckpt.main_level.agent.main.online']\u001b[0m\n",
      "\u001b[34mSimulation Finished. No output\u001b[0m\n",
      "\u001b[34mFinished simulation\u001b[0m\n",
      "\u001b[34mLast action:  [31.64676659  5.33080852]\u001b[0m\n",
      "\u001b[34mLast reward:  -0.2842584467986887\u001b[0m\n",
      "\u001b[34mClosing E+\u001b[0m\n",
      "\u001b[34mTraining> Name=main_level/agent, Worker=0, Episode=2, Total reward=-10513.08, Steps=576, Training iteration=0\u001b[0m\n",
      "\u001b[34mStarting a new simulation..\u001b[0m\n",
      "\u001b[34mSetting BCVTB_HOME to  /opt/ml/code/eplus/envs/bcvtb\u001b[0m\n",
      "\u001b[34mUsing E+ executable: /usr/local/EnergyPlus-8-8-0/energyplus\u001b[0m\n",
      "\u001b[34mUsing IDF file: /opt/ml/code/eplus/envs/buildings/1ZoneDataCenter/1ZoneDataCenter.idf\u001b[0m\n",
      "\u001b[34mCreating E+ Process: /usr/local/EnergyPlus-8-8-0/energyplus -w /opt/ml/code/eplus/envs/weather/USA_CA_San.Francisco.Intl.AP.724940_TMY3.epw /opt/ml/code/eplus/envs/buildings/1ZoneDataCenter/1ZoneDataCenter.idf\u001b[0m\n",
      "\u001b[34mStarted waiting for connection on localhost 33473\u001b[0m\n",
      "\u001b[34mGot connection from Host 127.0.0.1 Port 53456\u001b[0m\n",
      "\u001b[34mDay:  1\u001b[0m\n",
      "\u001b[34mCheckpoint> Saving in path=['/opt/ml/output/data/checkpoint/2_Step-577.ckpt.main_level.agent.main.online.onnx', '/opt/ml/output/data/checkpoint/2_Step-577.ckpt.main_level.agent.main.online']\u001b[0m\n",
      "\u001b[34mSimulation Finished. No output\u001b[0m\n",
      "\u001b[34mFinished simulation\u001b[0m\n",
      "\u001b[34mLast action:  [21.60296348 11.61383904]\u001b[0m\n",
      "\u001b[34mLast reward:  -0.4134927923277071\u001b[0m\n",
      "\u001b[34mClosing E+\u001b[0m\n",
      "\u001b[34mTraining> Name=main_level/agent, Worker=0, Episode=3, Total reward=-12986.51, Steps=864, Training iteration=0\u001b[0m\n",
      "\u001b[34mStarting a new simulation..\u001b[0m\n",
      "\u001b[34mSetting BCVTB_HOME to  /opt/ml/code/eplus/envs/bcvtb\u001b[0m\n",
      "\u001b[34mUsing E+ executable: /usr/local/EnergyPlus-8-8-0/energyplus\u001b[0m\n",
      "\u001b[34mUsing IDF file: /opt/ml/code/eplus/envs/buildings/1ZoneDataCenter/1ZoneDataCenter.idf\u001b[0m\n",
      "\u001b[34mCreating E+ Process: /usr/local/EnergyPlus-8-8-0/energyplus -w /opt/ml/code/eplus/envs/weather/USA_CA_San.Francisco.Intl.AP.724940_TMY3.epw /opt/ml/code/eplus/envs/buildings/1ZoneDataCenter/1ZoneDataCenter.idf\u001b[0m\n",
      "\u001b[34mStarted waiting for connection on localhost 40543\u001b[0m\n",
      "\u001b[34mGot connection from Host 127.0.0.1 Port 54440\u001b[0m\n",
      "\u001b[34mDay:  1\u001b[0m\n",
      "\u001b[34mCheckpoint> Saving in path=['/opt/ml/output/data/checkpoint/3_Step-865.ckpt.main_level.agent.main.online.onnx', '/opt/ml/output/data/checkpoint/3_Step-865.ckpt.main_level.agent.main.online']\u001b[0m\n",
      "\u001b[34m## agent: Starting evaluation phase\u001b[0m\n",
      "\u001b[34mClosing the old simulation and socket.\u001b[0m\n",
      "\u001b[34mClosing E+\u001b[0m\n",
      "\u001b[34mError: No digits were found in getIntCheckError.\u001b[0m\n",
      "\u001b[34mFurther characters after number: \n",
      "\u001b[0m\n",
      "\u001b[34mSending EXIT_FAILURE = : 1\u001b[0m\n",
      "\u001b[34mStarting a new simulation..\u001b[0m\n",
      "\u001b[34mError: The server closed the socket while the client was reading.\u001b[0m\n",
      "\u001b[34mSetting BCVTB_HOME to  /opt/ml/code/eplus/envs/bcvtb\u001b[0m\n",
      "\u001b[34mUsing E+ executable: /usr/local/EnergyPlus-8-8-0/energyplus\u001b[0m\n",
      "\u001b[34mUsing IDF file: /opt/ml/code/eplus/envs/buildings/1ZoneDataCenter/1ZoneDataCenter.idf\u001b[0m\n",
      "\u001b[34mCreating E+ Process: /usr/local/EnergyPlus-8-8-0/energyplus -w /opt/ml/code/eplus/envs/weather/USA_CA_San.Francisco.Intl.AP.724940_TMY3.epw /opt/ml/code/eplus/envs/buildings/1ZoneDataCenter/1ZoneDataCenter.idf\u001b[0m\n",
      "\u001b[34mStarted waiting for connection on localhost 51547\u001b[0m\n",
      "\u001b[34mGot connection from Host 127.0.0.1 Port 56430\u001b[0m\n",
      "\u001b[34m/usr/local/lib/python3.5/dist-packages/mxnet/gluon/block.py:303: UserWarning: \"PPOHead._loss\" is an unregistered container with Blocks. Note that Blocks inside the list, tuple or dict will not be registered automatically. Make sure to register them using register_child() or switching to nn.Sequential/nn.HybridSequential instead. \n",
      "  ret.update(cld.collect_params(select=select))\u001b[0m\n",
      "\u001b[34mDay:  1\u001b[0m\n",
      "\u001b[34mSimulation Finished. No output\u001b[0m\n",
      "\u001b[34mFinished simulation\u001b[0m\n",
      "\u001b[34mLast action:  [20.  5.]\u001b[0m\n",
      "\u001b[34mLast reward:  -0.3179013449088295\u001b[0m\n",
      "\u001b[34mClosing E+\u001b[0m\n",
      "\u001b[34mTesting> Name=main_level/agent, Worker=0, Episode=3, Total reward=-89.89, Steps=1000, Training iteration=0\u001b[0m\n",
      "\u001b[34mStarting a new simulation..\u001b[0m\n",
      "\u001b[34mSetting BCVTB_HOME to  /opt/ml/code/eplus/envs/bcvtb\u001b[0m\n",
      "\u001b[34mUsing E+ executable: /usr/local/EnergyPlus-8-8-0/energyplus\u001b[0m\n",
      "\u001b[34mUsing IDF file: /opt/ml/code/eplus/envs/buildings/1ZoneDataCenter/1ZoneDataCenter.idf\u001b[0m\n",
      "\u001b[34mCreating E+ Process: /usr/local/EnergyPlus-8-8-0/energyplus -w /opt/ml/code/eplus/envs/weather/USA_CA_San.Francisco.Intl.AP.724940_TMY3.epw /opt/ml/code/eplus/envs/buildings/1ZoneDataCenter/1ZoneDataCenter.idf\u001b[0m\n",
      "\u001b[34mStarted waiting for connection on localhost 51001\u001b[0m\n",
      "\u001b[34mGot connection from Host 127.0.0.1 Port 37612\u001b[0m\n",
      "\u001b[34mDay:  1\u001b[0m\n",
      "\u001b[34mSimulation Finished. No output\u001b[0m\n",
      "\u001b[34mFinished simulation\u001b[0m\n",
      "\u001b[34mLast action:  [20.          6.25165977]\u001b[0m\n",
      "\u001b[34mLast reward:  -0.29451739164238033\u001b[0m\n",
      "\u001b[34mClosing E+\u001b[0m\n",
      "\u001b[34mTesting> Name=main_level/agent, Worker=0, Episode=3, Total reward=-88.99, Steps=1000, Training iteration=0\u001b[0m\n",
      "\u001b[34m## agent: Finished evaluation phase. Success rate = 0.0, Avg Total Reward = -89.44\u001b[0m\n",
      "\u001b[34mStarting a new simulation..\u001b[0m\n",
      "\u001b[34mSetting BCVTB_HOME to  /opt/ml/code/eplus/envs/bcvtb\u001b[0m\n",
      "\u001b[34mUsing E+ executable: /usr/local/EnergyPlus-8-8-0/energyplus\u001b[0m\n",
      "\u001b[34mUsing IDF file: /opt/ml/code/eplus/envs/buildings/1ZoneDataCenter/1ZoneDataCenter.idf\u001b[0m\n",
      "\u001b[34mCreating E+ Process: /usr/local/EnergyPlus-8-8-0/energyplus -w /opt/ml/code/eplus/envs/weather/USA_CA_San.Francisco.Intl.AP.724940_TMY3.epw /opt/ml/code/eplus/envs/buildings/1ZoneDataCenter/1ZoneDataCenter.idf\u001b[0m\n",
      "\u001b[34mStarted waiting for connection on localhost 51391\u001b[0m\n",
      "\u001b[34mGot connection from Host 127.0.0.1 Port 34550\u001b[0m\n",
      "\u001b[34mDay:  1\u001b[0m\n",
      "\u001b[34mCheckpoint> Saving in path=['/opt/ml/output/data/checkpoint/4_Step-1001.ckpt.main_level.agent.main.online.onnx', '/opt/ml/output/data/checkpoint/4_Step-1001.ckpt.main_level.agent.main.online']\u001b[0m\n",
      "\u001b[34mSimulation Finished. No output\u001b[0m\n",
      "\u001b[34mFinished simulation\u001b[0m\n",
      "\u001b[34mLast action:  [26.42270426 12.88191648]\u001b[0m\n",
      "\u001b[34mLast reward:  -0.6919708834196505\u001b[0m\n",
      "\u001b[34mClosing E+\u001b[0m\n",
      "\u001b[34mTraining> Name=main_level/agent, Worker=0, Episode=4, Total reward=-11202.43, Steps=1288, Training iteration=0\u001b[0m\n",
      "\u001b[34m/usr/local/lib/python3.5/dist-packages/rl_coach/architectures/mxnet_components/heads/head.py:95: UserWarning: Parameter clippedppolosscontinuous0_kl_coefficient is not used by any computation. Is this intended?\n",
      "  outputs = super(HeadLoss, self).forward(*args)\u001b[0m\n",
      "\u001b[34mPolicy training> Surrogate loss=-0.056835636496543884, KL divergence=[0.], Entropy=[0.], training epoch=0, learning_rate=0.0003\u001b[0m\n",
      "\u001b[34mPolicy training> Surrogate loss=-0.06019438058137894, KL divergence=[0.], Entropy=[0.], training epoch=1, learning_rate=0.0003\u001b[0m\n",
      "\u001b[34mPolicy training> Surrogate loss=-0.08364369720220566, KL divergence=[0.], Entropy=[0.], training epoch=2, learning_rate=0.0003\u001b[0m\n",
      "\u001b[34mPolicy training> Surrogate loss=-0.09159921854734421, KL divergence=[0.], Entropy=[0.], training epoch=3, learning_rate=0.0003\u001b[0m\n",
      "\u001b[34mPolicy training> Surrogate loss=-0.09956800192594528, KL divergence=[0.], Entropy=[0.], training epoch=4, learning_rate=0.0003\u001b[0m\n",
      "\u001b[34mPolicy training> Surrogate loss=-0.09723865985870361, KL divergence=[0.], Entropy=[0.], training epoch=5, learning_rate=0.0003\u001b[0m\n",
      "\u001b[34mPolicy training> Surrogate loss=-0.10125193744897842, KL divergence=[0.], Entropy=[0.], training epoch=6, learning_rate=0.0003\u001b[0m\n",
      "\u001b[34mPolicy training> Surrogate loss=-0.0961739793419838, KL divergence=[0.], Entropy=[0.], training epoch=7, learning_rate=0.0003\u001b[0m\n",
      "\u001b[34mPolicy training> Surrogate loss=-0.0909925177693367, KL divergence=[0.], Entropy=[0.], training epoch=8, learning_rate=0.0003\u001b[0m\n",
      "\u001b[34mPolicy training> Surrogate loss=-0.09787620604038239, KL divergence=[0.], Entropy=[0.], training epoch=9, learning_rate=0.0003\u001b[0m\n",
      "\u001b[34mStarting a new simulation..\u001b[0m\n",
      "\u001b[34mSetting BCVTB_HOME to  /opt/ml/code/eplus/envs/bcvtb\u001b[0m\n",
      "\u001b[34mUsing E+ executable: /usr/local/EnergyPlus-8-8-0/energyplus\u001b[0m\n",
      "\u001b[34mUsing IDF file: /opt/ml/code/eplus/envs/buildings/1ZoneDataCenter/1ZoneDataCenter.idf\u001b[0m\n",
      "\u001b[34mCreating E+ Process: /usr/local/EnergyPlus-8-8-0/energyplus -w /opt/ml/code/eplus/envs/weather/USA_CA_San.Francisco.Intl.AP.724940_TMY3.epw /opt/ml/code/eplus/envs/buildings/1ZoneDataCenter/1ZoneDataCenter.idf\u001b[0m\n",
      "\u001b[34mStarted waiting for connection on localhost 54673\u001b[0m\n",
      "\u001b[34mGot connection from Host 127.0.0.1 Port 51182\u001b[0m\n",
      "\u001b[34mDay:  1\u001b[0m\n",
      "\u001b[34mCheckpoint> Saving in path=['/opt/ml/output/data/checkpoint/5_Step-1289.ckpt.main_level.agent.main.online.onnx', '/opt/ml/output/data/checkpoint/5_Step-1289.ckpt.main_level.agent.main.online']\u001b[0m\n",
      "\u001b[34mSimulation Finished. No output\u001b[0m\n",
      "\u001b[34mFinished simulation\u001b[0m\n",
      "\u001b[34mLast action:  [31.86863768  7.57313629]\u001b[0m\n",
      "\u001b[34mLast reward:  -0.1715673786198974\u001b[0m\n",
      "\u001b[34mClosing E+\u001b[0m\n",
      "\u001b[34mTraining> Name=main_level/agent, Worker=0, Episode=5, Total reward=-10334.54, Steps=1576, Training iteration=1\u001b[0m\n",
      "\u001b[34mStarting a new simulation..\u001b[0m\n",
      "\u001b[34mSetting BCVTB_HOME to  /opt/ml/code/eplus/envs/bcvtb\u001b[0m\n",
      "\u001b[34mUsing E+ executable: /usr/local/EnergyPlus-8-8-0/energyplus\u001b[0m\n",
      "\u001b[34mUsing IDF file: /opt/ml/code/eplus/envs/buildings/1ZoneDataCenter/1ZoneDataCenter.idf\u001b[0m\n",
      "\u001b[34mCreating E+ Process: /usr/local/EnergyPlus-8-8-0/energyplus -w /opt/ml/code/eplus/envs/weather/USA_CA_San.Francisco.Intl.AP.724940_TMY3.epw /opt/ml/code/eplus/envs/buildings/1ZoneDataCenter/1ZoneDataCenter.idf\u001b[0m\n",
      "\u001b[34mStarted waiting for connection on localhost 40773\u001b[0m\n",
      "\u001b[34mGot connection from Host 127.0.0.1 Port 33866\u001b[0m\n",
      "\u001b[34mDay:  1\u001b[0m\n",
      "\u001b[34mCheckpoint> Saving in path=['/opt/ml/output/data/checkpoint/6_Step-1577.ckpt.main_level.agent.main.online.onnx', '/opt/ml/output/data/checkpoint/6_Step-1577.ckpt.main_level.agent.main.online']\u001b[0m\n",
      "\u001b[34mSimulation Finished. No output\u001b[0m\n",
      "\u001b[34mFinished simulation\u001b[0m\n",
      "\u001b[34mLast action:  [29.19124814 15.92795889]\u001b[0m\n",
      "\u001b[34mLast reward:  -0.5823276846545082\u001b[0m\n",
      "\u001b[34mClosing E+\u001b[0m\n",
      "\u001b[34mTraining> Name=main_level/agent, Worker=0, Episode=6, Total reward=-12317.13, Steps=1864, Training iteration=1\u001b[0m\n",
      "\u001b[34mStarting a new simulation..\u001b[0m\n",
      "\u001b[34mSetting BCVTB_HOME to  /opt/ml/code/eplus/envs/bcvtb\u001b[0m\n",
      "\u001b[34mUsing E+ executable: /usr/local/EnergyPlus-8-8-0/energyplus\u001b[0m\n",
      "\u001b[34mUsing IDF file: /opt/ml/code/eplus/envs/buildings/1ZoneDataCenter/1ZoneDataCenter.idf\u001b[0m\n",
      "\u001b[34mCreating E+ Process: /usr/local/EnergyPlus-8-8-0/energyplus -w /opt/ml/code/eplus/envs/weather/USA_CA_San.Francisco.Intl.AP.724940_TMY3.epw /opt/ml/code/eplus/envs/buildings/1ZoneDataCenter/1ZoneDataCenter.idf\u001b[0m\n",
      "\u001b[34mStarted waiting for connection on localhost 60041\u001b[0m\n",
      "\u001b[34mGot connection from Host 127.0.0.1 Port 37934\u001b[0m\n",
      "\u001b[34mDay:  1\u001b[0m\n",
      "\u001b[34mCheckpoint> Saving in path=['/opt/ml/output/data/checkpoint/7_Step-1865.ckpt.main_level.agent.main.online.onnx', '/opt/ml/output/data/checkpoint/7_Step-1865.ckpt.main_level.agent.main.online']\u001b[0m\n",
      "\u001b[34m## agent: Starting evaluation phase\u001b[0m\n",
      "\u001b[34mClosing the old simulation and socket.\u001b[0m\n",
      "\u001b[34mClosing E+\u001b[0m\n",
      "\u001b[34mError: No digits were found in getIntCheckError.\u001b[0m\n",
      "\u001b[34mFurther characters after number: \n",
      "\u001b[0m\n",
      "\u001b[34mSending EXIT_FAILURE = : 1\u001b[0m\n",
      "\u001b[34mStarting a new simulation..\u001b[0m\n",
      "\u001b[34mError: The server closed the socket while the client was reading.\u001b[0m\n",
      "\u001b[34mSetting BCVTB_HOME to  /opt/ml/code/eplus/envs/bcvtb\u001b[0m\n",
      "\u001b[34mUsing E+ executable: /usr/local/EnergyPlus-8-8-0/energyplus\u001b[0m\n",
      "\u001b[34mUsing IDF file: /opt/ml/code/eplus/envs/buildings/1ZoneDataCenter/1ZoneDataCenter.idf\u001b[0m\n",
      "\u001b[34mCreating E+ Process: /usr/local/EnergyPlus-8-8-0/energyplus -w /opt/ml/code/eplus/envs/weather/USA_CA_San.Francisco.Intl.AP.724940_TMY3.epw /opt/ml/code/eplus/envs/buildings/1ZoneDataCenter/1ZoneDataCenter.idf\u001b[0m\n",
      "\u001b[34mStarted waiting for connection on localhost 48303\u001b[0m\n",
      "\u001b[34mGot connection from Host 127.0.0.1 Port 49316\u001b[0m\n",
      "\u001b[34mDay:  1\u001b[0m\n",
      "\u001b[34mSimulation Finished. No output\u001b[0m\n",
      "\u001b[34mFinished simulation\u001b[0m\n",
      "\u001b[34mLast action:  [20.  5.]\u001b[0m\n",
      "\u001b[34mLast reward:  -0.29728954539734215\u001b[0m\n",
      "\u001b[34mClosing E+\u001b[0m\n",
      "\u001b[34mTesting> Name=main_level/agent, Worker=0, Episode=6, Total reward=-100.44, Steps=2000, Training iteration=1\u001b[0m\n",
      "\u001b[34mStarting a new simulation..\u001b[0m\n",
      "\u001b[34mSetting BCVTB_HOME to  /opt/ml/code/eplus/envs/bcvtb\u001b[0m\n",
      "\u001b[34mUsing E+ executable: /usr/local/EnergyPlus-8-8-0/energyplus\u001b[0m\n",
      "\u001b[34mUsing IDF file: /opt/ml/code/eplus/envs/buildings/1ZoneDataCenter/1ZoneDataCenter.idf\u001b[0m\n",
      "\u001b[34mCreating E+ Process: /usr/local/EnergyPlus-8-8-0/energyplus -w /opt/ml/code/eplus/envs/weather/USA_CA_San.Francisco.Intl.AP.724940_TMY3.epw /opt/ml/code/eplus/envs/buildings/1ZoneDataCenter/1ZoneDataCenter.idf\u001b[0m\n",
      "\u001b[34mStarted waiting for connection on localhost 35665\u001b[0m\n",
      "\u001b[34mGot connection from Host 127.0.0.1 Port 38412\u001b[0m\n",
      "\n",
      "2020-02-10 01:24:20 Uploading - Uploading generated training model\n",
      "2020-02-10 01:24:20 Completed - Training job completed\n",
      "\u001b[34mDay:  1\u001b[0m\n",
      "\u001b[34mSimulation Finished. No output\u001b[0m\n",
      "\u001b[34mFinished simulation\u001b[0m\n",
      "\u001b[34mLast action:  [20.          5.55116597]\u001b[0m\n",
      "\u001b[34mLast reward:  -0.2972860019486142\u001b[0m\n",
      "\u001b[34mClosing E+\u001b[0m\n",
      "\u001b[34mTesting> Name=main_level/agent, Worker=0, Episode=6, Total reward=-100.13, Steps=2000, Training iteration=1\u001b[0m\n",
      "\u001b[34m## agent: Finished evaluation phase. Success rate = 0.0, Avg Total Reward = -100.28\u001b[0m\n",
      "\u001b[34mONNX correction applied to continuous PPO agent.\u001b[0m\n",
      "\u001b[34m2020-02-10 01:24:08,186 sagemaker-containers INFO     Reporting training SUCCESS\u001b[0m\n",
      "Training seconds: 222\n",
      "Billable seconds: 222\n",
      "Training job: rl-hvac-2020-02-10-01-18-31-391\n",
      "CPU times: user 1.46 s, sys: 141 ms, total: 1.6 s\n",
      "Wall time: 6min 3s\n"
     ]
    }
   ],
   "source": [
    "%%time\n",
    "estimator = RLEstimator(entry_point=\"train-coach.py\",\n",
    "                        source_dir='src',\n",
    "                        dependencies=[\"../common/sagemaker_rl\"],\n",
    "                        image_name=custom_image_name,\n",
    "                        role=role,\n",
    "                        train_instance_type=instance_type,\n",
    "                        train_instance_count=1,\n",
    "                        output_path=s3_output_path,\n",
    "                        base_job_name=job_name_prefix,\n",
    "                        hyperparameters = {\n",
    "                            'save_model': 1\n",
    "                        }\n",
    "                    )\n",
    "\n",
    "estimator.fit(wait=local_mode)\n",
    "job_name = estimator.latest_training_job.job_name\n",
    "print(\"Training job: %s\" % job_name)"
   ]
  },
  {
   "cell_type": "markdown",
   "metadata": {},
   "source": [
    "## Store intermediate training output and model checkpoints \n",
    "\n",
    "The output from the training job above is stored on S3. The intermediate folder contains gifs and metadata of the training."
   ]
  },
  {
   "cell_type": "code",
   "execution_count": null,
   "metadata": {},
   "outputs": [],
   "source": [
    "s3_url = \"s3://{}/{}\".format(s3_bucket,job_name)\n",
    "\n",
    "if local_mode:\n",
    "    output_tar_key = \"{}/output.tar.gz\".format(job_name)\n",
    "else:\n",
    "    output_tar_key = \"{}/output/output.tar.gz\".format(job_name)\n",
    "\n",
    "intermediate_folder_key = \"{}/output/intermediate/\".format(job_name)\n",
    "output_url = \"s3://{}/{}\".format(s3_bucket, output_tar_key)\n",
    "intermediate_url = \"s3://{}/{}\".format(s3_bucket, intermediate_folder_key)\n",
    "\n",
    "print(\"S3 job path: {}\".format(s3_url))\n",
    "print(\"Output.tar.gz location: {}\".format(output_url))\n",
    "print(\"Intermediate folder path: {}\".format(intermediate_url))\n",
    "    \n",
    "tmp_dir = \"/tmp/{}\".format(job_name)\n",
    "os.system(\"mkdir {}\".format(tmp_dir))\n",
    "print(\"Create local folder {}\".format(tmp_dir))"
   ]
  },
  {
   "cell_type": "markdown",
   "metadata": {},
   "source": [
    "## Visualization"
   ]
  },
  {
   "cell_type": "markdown",
   "metadata": {},
   "source": [
    "### Plot metrics for training job\n",
    "We can pull the reward metric of the training and plot it to see the performance of the model over time."
   ]
  },
  {
   "cell_type": "code",
   "execution_count": null,
   "metadata": {},
   "outputs": [],
   "source": [
    "%matplotlib inline\n",
    "import pandas as pd\n",
    "\n",
    "csv_file_name = \"worker_0.simple_rl_graph.main_level.main_level.agent_0.csv\"\n",
    "key = os.path.join(intermediate_folder_key, csv_file_name)\n",
    "wait_for_s3_object(s3_bucket, key, tmp_dir)\n",
    "\n",
    "csv_file = \"{}/{}\".format(tmp_dir, csv_file_name)\n",
    "df = pd.read_csv(csv_file)\n",
    "df = df.dropna(subset=['Training Reward'])\n",
    "x_axis = 'Episode #'\n",
    "y_axis = 'Training Reward'\n",
    "\n",
    "plt = df.plot(x=x_axis,y=y_axis, figsize=(12,5), legend=True, style='b-')\n",
    "plt.set_ylabel(y_axis);\n",
    "plt.set_xlabel(x_axis);"
   ]
  },
  {
   "cell_type": "markdown",
   "metadata": {},
   "source": [
    "## Evaluation of RL models\n",
    "\n",
    "We use the last checkpointed model to run evaluation for the RL Agent. \n",
    "\n",
    "### Load checkpointed model\n",
    "\n",
    "Checkpointed data from the previously trained models will be passed on for evaluation / inference in the checkpoint channel. In local mode, we can simply use the local directory, whereas in the SageMaker mode, it needs to be moved to S3 first."
   ]
  },
  {
   "cell_type": "code",
   "execution_count": null,
   "metadata": {
    "scrolled": true
   },
   "outputs": [],
   "source": [
    "wait_for_s3_object(s3_bucket, output_tar_key, tmp_dir)  \n",
    "\n",
    "if not os.path.isfile(\"{}/output.tar.gz\".format(tmp_dir)):\n",
    "    raise FileNotFoundError(\"File output.tar.gz not found\")\n",
    "os.system(\"tar -xvzf {}/output.tar.gz -C {}\".format(tmp_dir, tmp_dir))\n",
    "\n",
    "if local_mode:\n",
    "    checkpoint_dir = \"{}/data/checkpoint\".format(tmp_dir)\n",
    "else:\n",
    "    checkpoint_dir = \"{}/checkpoint\".format(tmp_dir)\n",
    "\n",
    "print(\"Checkpoint directory {}\".format(checkpoint_dir))"
   ]
  },
  {
   "cell_type": "code",
   "execution_count": null,
   "metadata": {},
   "outputs": [],
   "source": [
    "if local_mode:\n",
    "    checkpoint_path = 'file://{}'.format(checkpoint_dir)\n",
    "    print(\"Local checkpoint file path: {}\".format(checkpoint_path))\n",
    "else:\n",
    "    checkpoint_path = \"s3://{}/{}/checkpoint/\".format(s3_bucket, job_name)\n",
    "    if not os.listdir(checkpoint_dir):\n",
    "        raise FileNotFoundError(\"Checkpoint files not found under the path\")\n",
    "    os.system(\"aws s3 cp --recursive {} {}\".format(checkpoint_dir, checkpoint_path))\n",
    "    print(\"S3 checkpoint file path: {}\".format(checkpoint_path))"
   ]
  },
  {
   "cell_type": "markdown",
   "metadata": {},
   "source": [
    "### Run the evaluation step\n",
    "\n",
    "Use the checkpointed model to run the evaluation step. "
   ]
  },
  {
   "cell_type": "code",
   "execution_count": null,
   "metadata": {},
   "outputs": [],
   "source": [
    "estimator_eval = RLEstimator(entry_point=\"evaluate-coach.py\",\n",
    "                             source_dir='src',\n",
    "                             dependencies=[\"common/sagemaker_rl\"],\n",
    "                             image_name=custom_image_name,\n",
    "                             role=role,\n",
    "                             train_instance_type=instance_type,\n",
    "                             train_instance_count=1,\n",
    "                             output_path=s3_output_path,\n",
    "                             base_job_name=job_name_prefix,\n",
    "                             hyperparameters = {\n",
    "                                 \"RLCOACH_PRESET\": \"preset-energy-plus-clipped-ppo\",\n",
    "                                 \"evaluate_steps\": 288*2, #2 episodes, i.e. 2 days\n",
    "                             }\n",
    "                            )\n",
    "\n",
    "estimator_eval.fit({'checkpoint': checkpoint_path})"
   ]
  },
  {
   "cell_type": "markdown",
   "metadata": {},
   "source": [
    "# Model deployment"
   ]
  },
  {
   "cell_type": "markdown",
   "metadata": {},
   "source": [
    "Since we specified MXNet when configuring the RLEstimator, the MXNet deployment container will be used for hosting."
   ]
  },
  {
   "cell_type": "code",
   "execution_count": null,
   "metadata": {},
   "outputs": [],
   "source": [
    "predictor = estimator.deploy(initial_instance_count=1,\n",
    "                             instance_type=instance_type,\n",
    "                             entry_point='deploy-mxnet-coach.py')"
   ]
  },
  {
   "cell_type": "markdown",
   "metadata": {},
   "source": [
    "We can test the endpoint with a samples observation, where the current room temperature is high. Since the environment vector was of the form `[outdoor_temperature, outdoor_humidity, indoor_humidity]` and we used observation normalization in our preset, we choose an observation of `[0, 0, 2]`. Since we're deploying a PPO model, our model returns both state value and actions."
   ]
  },
  {
   "cell_type": "code",
   "execution_count": null,
   "metadata": {},
   "outputs": [],
   "source": [
    "action, action_mean, action_std = predictor.predict(np.array([0., 0., 2.,]))\n",
    "action_mean"
   ]
  },
  {
   "cell_type": "markdown",
   "metadata": {},
   "source": [
    "We can see heating and cooling setpoints are returned from the model, and these can be used to control the HVAC system for efficient energy usage. More training iterations will help improve the model further."
   ]
  },
  {
   "cell_type": "markdown",
   "metadata": {},
   "source": [
    "### Clean up endpoint"
   ]
  },
  {
   "cell_type": "code",
   "execution_count": null,
   "metadata": {},
   "outputs": [],
   "source": [
    "predictor.delete_endpoint()"
   ]
  },
  {
   "cell_type": "code",
   "execution_count": null,
   "metadata": {},
   "outputs": [],
   "source": []
  }
 ],
 "metadata": {
  "anaconda-cloud": {},
  "kernelspec": {
   "display_name": "conda_python3",
   "language": "python",
   "name": "conda_python3"
  },
  "language_info": {
   "codemirror_mode": {
    "name": "ipython",
    "version": 3
   },
   "file_extension": ".py",
   "mimetype": "text/x-python",
   "name": "python",
   "nbconvert_exporter": "python",
   "pygments_lexer": "ipython3",
   "version": "3.6.5"
  },
  "notice": "Copyright 2018 Amazon.com, Inc. or its affiliates. All Rights Reserved. Licensed under the Apache License, Version 2.0 (the \"License\"). You may not use this file except in compliance with the License. A copy of the License is located at http://aws.amazon.com/apache2.0/ or in the \"license\" file accompanying this file. This file is distributed on an \"AS IS\" BASIS, WITHOUT WARRANTIES OR CONDITIONS OF ANY KIND, either express or implied. See the License for the specific language governing permissions and limitations under the License.",
  "widgets": {
   "application/vnd.jupyter.widget-state+json": {
    "state": {},
    "version_major": 2,
    "version_minor": 0
   }
  }
 },
 "nbformat": 4,
 "nbformat_minor": 4
}