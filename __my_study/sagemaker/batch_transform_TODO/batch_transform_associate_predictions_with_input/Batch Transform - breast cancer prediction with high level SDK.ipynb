{
 "cells": [
  {
   "cell_type": "markdown",
   "metadata": {
    "nbpresent": {
     "id": "42b5e80b-ad1d-4335-a1f7-10a91127e3dc"
    }
   },
   "source": [
    "# Amazon SageMaker Batch Transform: Associate prediction results with their corresponding input records\n",
    "_**Use SageMaker's XGBoost to train a binary classification model and for a list of tumors in batch file, predict if each is malignant**_\n",
    "\n",
    "_**It also shows how to use the input output joining / filter feature in Batch transform in details**_\n",
    "\n",
    "---\n",
    "\n",
    "\n",
    "\n",
    "## Background\n",
    "This purpose of this notebook is to train a model using SageMaker's XGBoost and UCI's breast cancer diagnostic data set to illustrate at how to run batch inferences and how to use the Batch Transform I/O join feature. UCI's breast cancer diagnostic data set is available at https://archive.ics.uci.edu/ml/datasets/Breast+Cancer+Wisconsin+%28Diagnostic%29. The data set is also available on Kaggle at https://www.kaggle.com/uciml/breast-cancer-wisconsin-data. The purpose here is to use this data set to build a predictve model of whether a breast mass image indicates benign or malignant tumor. \n",
    "\n",
    "\n",
    "\n",
    "---\n",
    "\n",
    "## Setup\n",
    "\n",
    "Let's start by specifying:\n",
    "\n",
    "* The SageMaker role arn used to give training and batch transform access to your data. The snippet below will use the same role used by your SageMaker notebook instance. Otherwise, specify the full ARN of a role with the SageMakerFullAccess policy attached.\n",
    "* The S3 bucket that you want to use for training and storing model objects."
   ]
  },
  {
   "cell_type": "code",
   "execution_count": 7,
   "metadata": {
    "isConfigCell": true,
    "nbpresent": {
     "id": "6427e831-8f89-45c0-b150-0b134397d79a"
    }
   },
   "outputs": [],
   "source": [
    "import os\n",
    "import boto3\n",
    "import sagemaker\n",
    "\n",
    "# role = sagemaker.get_execution_role()\n",
    "role = 'arn:aws:iam::868024899531:role/service-role/AmazonSageMaker-ExecutionRole-20200530T112594'\n",
    "sess = sagemaker.Session()\n",
    "\n",
    "bucket=sess.default_bucket()\n",
    "bucket='md-labs-bucket'\n",
    "prefix = 'md-labsbreast-cancer-prediction-xgboost' # place to upload training files within the bucket"
   ]
  },
  {
   "cell_type": "markdown",
   "metadata": {
    "nbpresent": {
     "id": "142777ae-c072-448e-b941-72bc75735d01"
    }
   },
   "source": [
    "---\n",
    "## Data preparation\n",
    "\n",
    "Data Source: https://archive.ics.uci.edu/ml/machine-learning-databases/breast-cancer-wisconsin/wdbc.data\n",
    "        https://www.kaggle.com/uciml/breast-cancer-wisconsin-data\n",
    "\n",
    "Let's download the data and save it in the local folder with the name data.csv and take a look at it."
   ]
  },
  {
   "cell_type": "code",
   "execution_count": 8,
   "metadata": {
    "nbpresent": {
     "id": "f8976dad-6897-4c7e-8c95-ae2f53070ef5"
    }
   },
   "outputs": [
    {
     "output_type": "execute_result",
     "data": {
      "text/plain": "          id diagnosis  radius_mean  texture_mean  perimeter_mean  area_mean  \\\n537   919812         B        11.69         24.44           76.37      406.4   \n282    89122         M        19.40         18.18          127.20     1145.0   \n74   8610175         B        12.31         16.52           79.19      470.9   \n276  8911230         B        11.33         14.16           71.79      396.6   \n389    90312         M        19.55         23.21          128.90     1174.0   \n198   877486         M        19.18         22.49          127.50     1148.0   \n411   905520         B        11.04         16.83           70.92      373.2   \n377  9013579         B        13.46         28.21           85.89      562.1   \n\n     smoothness_mean  compactness_mean  concavity_mean  concave points_mean  \\\n537          0.12360           0.15520        0.045150             0.045310   \n282          0.10370           0.14420        0.162600             0.094640   \n74           0.09172           0.06829        0.033720             0.022720   \n276          0.09379           0.03872        0.001487             0.003333   \n389          0.10100           0.13180        0.185600             0.102100   \n198          0.08523           0.14280        0.111400             0.067720   \n411          0.10770           0.07804        0.030460             0.024800   \n377          0.07517           0.04726        0.012710             0.011170   \n\n     ...  radius_worst  texture_worst  perimeter_worst  area_worst  \\\n537  ...         12.98          32.19            86.12       487.7   \n282  ...         23.79          28.65           152.40      1628.0   \n74   ...         14.11          23.21            89.71       611.1   \n276  ...         12.20          18.99            77.37       458.0   \n389  ...         20.82          30.44           142.00      1313.0   \n198  ...         23.36          32.06           166.40      1688.0   \n411  ...         12.41          26.44            79.93       471.4   \n377  ...         14.69          35.63            97.11       680.6   \n\n     smoothness_worst  compactness_worst  concavity_worst  \\\n537            0.1768            0.32510         0.139500   \n282            0.1518            0.37490         0.431600   \n74             0.1176            0.18430         0.170300   \n276            0.1259            0.07348         0.004955   \n389            0.1251            0.24140         0.382900   \n198            0.1322            0.56010         0.386500   \n411            0.1369            0.14820         0.106700   \n377            0.1108            0.14570         0.079340   \n\n     concave points_worst  symmetry_worst  fractal_dimension_worst  \n537               0.13080          0.2803                  0.09970  \n282               0.22520          0.3590                  0.07787  \n74                0.08660          0.2618                  0.07609  \n276               0.01111          0.2758                  0.06386  \n389               0.18250          0.2576                  0.07602  \n198               0.17080          0.3193                  0.09221  \n411               0.07431          0.2998                  0.07881  \n377               0.05781          0.2694                  0.07061  \n\n[8 rows x 32 columns]",
      "text/html": "<div>\n<style scoped>\n    .dataframe tbody tr th:only-of-type {\n        vertical-align: middle;\n    }\n\n    .dataframe tbody tr th {\n        vertical-align: top;\n    }\n\n    .dataframe thead th {\n        text-align: right;\n    }\n</style>\n<table border=\"1\" class=\"dataframe\">\n  <thead>\n    <tr style=\"text-align: right;\">\n      <th></th>\n      <th>id</th>\n      <th>diagnosis</th>\n      <th>radius_mean</th>\n      <th>texture_mean</th>\n      <th>perimeter_mean</th>\n      <th>area_mean</th>\n      <th>smoothness_mean</th>\n      <th>compactness_mean</th>\n      <th>concavity_mean</th>\n      <th>concave points_mean</th>\n      <th>...</th>\n      <th>radius_worst</th>\n      <th>texture_worst</th>\n      <th>perimeter_worst</th>\n      <th>area_worst</th>\n      <th>smoothness_worst</th>\n      <th>compactness_worst</th>\n      <th>concavity_worst</th>\n      <th>concave points_worst</th>\n      <th>symmetry_worst</th>\n      <th>fractal_dimension_worst</th>\n    </tr>\n  </thead>\n  <tbody>\n    <tr>\n      <th>537</th>\n      <td>919812</td>\n      <td>B</td>\n      <td>11.69</td>\n      <td>24.44</td>\n      <td>76.37</td>\n      <td>406.4</td>\n      <td>0.12360</td>\n      <td>0.15520</td>\n      <td>0.045150</td>\n      <td>0.045310</td>\n      <td>...</td>\n      <td>12.98</td>\n      <td>32.19</td>\n      <td>86.12</td>\n      <td>487.7</td>\n      <td>0.1768</td>\n      <td>0.32510</td>\n      <td>0.139500</td>\n      <td>0.13080</td>\n      <td>0.2803</td>\n      <td>0.09970</td>\n    </tr>\n    <tr>\n      <th>282</th>\n      <td>89122</td>\n      <td>M</td>\n      <td>19.40</td>\n      <td>18.18</td>\n      <td>127.20</td>\n      <td>1145.0</td>\n      <td>0.10370</td>\n      <td>0.14420</td>\n      <td>0.162600</td>\n      <td>0.094640</td>\n      <td>...</td>\n      <td>23.79</td>\n      <td>28.65</td>\n      <td>152.40</td>\n      <td>1628.0</td>\n      <td>0.1518</td>\n      <td>0.37490</td>\n      <td>0.431600</td>\n      <td>0.22520</td>\n      <td>0.3590</td>\n      <td>0.07787</td>\n    </tr>\n    <tr>\n      <th>74</th>\n      <td>8610175</td>\n      <td>B</td>\n      <td>12.31</td>\n      <td>16.52</td>\n      <td>79.19</td>\n      <td>470.9</td>\n      <td>0.09172</td>\n      <td>0.06829</td>\n      <td>0.033720</td>\n      <td>0.022720</td>\n      <td>...</td>\n      <td>14.11</td>\n      <td>23.21</td>\n      <td>89.71</td>\n      <td>611.1</td>\n      <td>0.1176</td>\n      <td>0.18430</td>\n      <td>0.170300</td>\n      <td>0.08660</td>\n      <td>0.2618</td>\n      <td>0.07609</td>\n    </tr>\n    <tr>\n      <th>276</th>\n      <td>8911230</td>\n      <td>B</td>\n      <td>11.33</td>\n      <td>14.16</td>\n      <td>71.79</td>\n      <td>396.6</td>\n      <td>0.09379</td>\n      <td>0.03872</td>\n      <td>0.001487</td>\n      <td>0.003333</td>\n      <td>...</td>\n      <td>12.20</td>\n      <td>18.99</td>\n      <td>77.37</td>\n      <td>458.0</td>\n      <td>0.1259</td>\n      <td>0.07348</td>\n      <td>0.004955</td>\n      <td>0.01111</td>\n      <td>0.2758</td>\n      <td>0.06386</td>\n    </tr>\n    <tr>\n      <th>389</th>\n      <td>90312</td>\n      <td>M</td>\n      <td>19.55</td>\n      <td>23.21</td>\n      <td>128.90</td>\n      <td>1174.0</td>\n      <td>0.10100</td>\n      <td>0.13180</td>\n      <td>0.185600</td>\n      <td>0.102100</td>\n      <td>...</td>\n      <td>20.82</td>\n      <td>30.44</td>\n      <td>142.00</td>\n      <td>1313.0</td>\n      <td>0.1251</td>\n      <td>0.24140</td>\n      <td>0.382900</td>\n      <td>0.18250</td>\n      <td>0.2576</td>\n      <td>0.07602</td>\n    </tr>\n    <tr>\n      <th>198</th>\n      <td>877486</td>\n      <td>M</td>\n      <td>19.18</td>\n      <td>22.49</td>\n      <td>127.50</td>\n      <td>1148.0</td>\n      <td>0.08523</td>\n      <td>0.14280</td>\n      <td>0.111400</td>\n      <td>0.067720</td>\n      <td>...</td>\n      <td>23.36</td>\n      <td>32.06</td>\n      <td>166.40</td>\n      <td>1688.0</td>\n      <td>0.1322</td>\n      <td>0.56010</td>\n      <td>0.386500</td>\n      <td>0.17080</td>\n      <td>0.3193</td>\n      <td>0.09221</td>\n    </tr>\n    <tr>\n      <th>411</th>\n      <td>905520</td>\n      <td>B</td>\n      <td>11.04</td>\n      <td>16.83</td>\n      <td>70.92</td>\n      <td>373.2</td>\n      <td>0.10770</td>\n      <td>0.07804</td>\n      <td>0.030460</td>\n      <td>0.024800</td>\n      <td>...</td>\n      <td>12.41</td>\n      <td>26.44</td>\n      <td>79.93</td>\n      <td>471.4</td>\n      <td>0.1369</td>\n      <td>0.14820</td>\n      <td>0.106700</td>\n      <td>0.07431</td>\n      <td>0.2998</td>\n      <td>0.07881</td>\n    </tr>\n    <tr>\n      <th>377</th>\n      <td>9013579</td>\n      <td>B</td>\n      <td>13.46</td>\n      <td>28.21</td>\n      <td>85.89</td>\n      <td>562.1</td>\n      <td>0.07517</td>\n      <td>0.04726</td>\n      <td>0.012710</td>\n      <td>0.011170</td>\n      <td>...</td>\n      <td>14.69</td>\n      <td>35.63</td>\n      <td>97.11</td>\n      <td>680.6</td>\n      <td>0.1108</td>\n      <td>0.14570</td>\n      <td>0.079340</td>\n      <td>0.05781</td>\n      <td>0.2694</td>\n      <td>0.07061</td>\n    </tr>\n  </tbody>\n</table>\n<p>8 rows × 32 columns</p>\n</div>"
     },
     "metadata": {},
     "execution_count": 8
    }
   ],
   "source": [
    "import pandas as pd\n",
    "import numpy as np\n",
    "\n",
    "data = pd.read_csv('https://archive.ics.uci.edu/ml/machine-learning-databases/breast-cancer-wisconsin/wdbc.data', header = None)\n",
    "\n",
    "# specify columns extracted from wbdc.names\n",
    "data.columns = [\"id\",\"diagnosis\",\"radius_mean\",\"texture_mean\",\"perimeter_mean\",\"area_mean\",\"smoothness_mean\",\n",
    "                \"compactness_mean\",\"concavity_mean\",\"concave points_mean\",\"symmetry_mean\",\"fractal_dimension_mean\",\n",
    "                \"radius_se\",\"texture_se\",\"perimeter_se\",\"area_se\",\"smoothness_se\",\"compactness_se\",\"concavity_se\",\n",
    "                \"concave points_se\",\"symmetry_se\",\"fractal_dimension_se\",\"radius_worst\",\"texture_worst\",\n",
    "                \"perimeter_worst\",\"area_worst\",\"smoothness_worst\",\"compactness_worst\",\"concavity_worst\",\n",
    "                \"concave points_worst\",\"symmetry_worst\",\"fractal_dimension_worst\"] \n",
    "\n",
    "# save the data\n",
    "data.to_csv(\"data.csv\", sep=',', index=False)\n",
    "\n",
    "data.sample(8)\n"
   ]
  },
  {
   "cell_type": "markdown",
   "metadata": {},
   "source": [
    "#### Key observations:\n",
    "* The data has 569 observations and 32 columns.\n",
    "* The first field is the 'id' attribute that we will want to drop before batch inference and add to the final inference output next to the probability of malignancy.\n",
    "* Second field, 'diagnosis', is an indicator of the actual diagnosis ('M' = Malignant; 'B' = Benign).\n",
    "* There are 30 other numeric features that we will use for training and inferencing."
   ]
  },
  {
   "cell_type": "markdown",
   "metadata": {},
   "source": [
    "Let's replace the M/B diagnosis with a 1/0 boolean value. "
   ]
  },
  {
   "cell_type": "code",
   "execution_count": 9,
   "metadata": {},
   "outputs": [
    {
     "output_type": "execute_result",
     "data": {
      "text/plain": "           id  diagnosis  radius_mean  texture_mean  perimeter_mean  \\\n410    905502          0       11.360         17.57           72.49   \n528    918192          0       13.940         13.17           90.31   \n199    877500          1       14.450         20.22           94.49   \n222   8812844          0       10.180         17.53           65.12   \n373    901288          1       20.640         17.35          134.80   \n86   86135501          1       14.480         21.46           94.25   \n421    906564          0       14.690         13.98           98.22   \n557    925236          0        9.423         27.88           59.26   \n\n     area_mean  smoothness_mean  compactness_mean  concavity_mean  \\\n410      399.8          0.08858           0.05313         0.02783   \n528      594.2          0.12480           0.09755         0.10100   \n199      642.7          0.09872           0.12060         0.11800   \n222      313.1          0.10610           0.08502         0.01768   \n373     1335.0          0.09446           0.10760         0.15270   \n86       648.2          0.09444           0.09947         0.12040   \n421      656.1          0.10310           0.18360         0.14500   \n557      271.3          0.08123           0.04971         0.00000   \n\n     concave points_mean  ...  radius_worst  texture_worst  perimeter_worst  \\\n410              0.02100  ...         13.05          36.32            85.07   \n528              0.06615  ...         14.62          15.38            94.52   \n199              0.05980  ...         18.33          30.12           117.90   \n222              0.01915  ...         11.17          22.84            71.94   \n373              0.08941  ...         25.37          23.17           166.80   \n86               0.04938  ...         16.21          29.25           108.40   \n421              0.06300  ...         16.46          18.34           114.10   \n557              0.00000  ...         10.49          34.24            66.50   \n\n     area_worst  smoothness_worst  compactness_worst  concavity_worst  \\\n410       521.3            0.1453            0.16220          0.18110   \n528       653.3            0.1394            0.13640          0.15590   \n199      1044.0            0.1552            0.40560          0.49670   \n222       375.6            0.1406            0.14400          0.06572   \n373      1946.0            0.1562            0.30550          0.41590   \n86        808.9            0.1306            0.19760          0.33490   \n421       809.2            0.1312            0.36350          0.32190   \n557       330.6            0.1073            0.07158          0.00000   \n\n     concave points_worst  symmetry_worst  fractal_dimension_worst  \n410               0.08698          0.2973                  0.07745  \n528               0.10150          0.2160                  0.07253  \n199               0.18380          0.4753                  0.10130  \n222               0.05575          0.3055                  0.08797  \n373               0.21120          0.2689                  0.07055  \n86                0.12250          0.3020                  0.06846  \n421               0.11080          0.2827                  0.09208  \n557               0.00000          0.2475                  0.06969  \n\n[8 rows x 32 columns]",
      "text/html": "<div>\n<style scoped>\n    .dataframe tbody tr th:only-of-type {\n        vertical-align: middle;\n    }\n\n    .dataframe tbody tr th {\n        vertical-align: top;\n    }\n\n    .dataframe thead th {\n        text-align: right;\n    }\n</style>\n<table border=\"1\" class=\"dataframe\">\n  <thead>\n    <tr style=\"text-align: right;\">\n      <th></th>\n      <th>id</th>\n      <th>diagnosis</th>\n      <th>radius_mean</th>\n      <th>texture_mean</th>\n      <th>perimeter_mean</th>\n      <th>area_mean</th>\n      <th>smoothness_mean</th>\n      <th>compactness_mean</th>\n      <th>concavity_mean</th>\n      <th>concave points_mean</th>\n      <th>...</th>\n      <th>radius_worst</th>\n      <th>texture_worst</th>\n      <th>perimeter_worst</th>\n      <th>area_worst</th>\n      <th>smoothness_worst</th>\n      <th>compactness_worst</th>\n      <th>concavity_worst</th>\n      <th>concave points_worst</th>\n      <th>symmetry_worst</th>\n      <th>fractal_dimension_worst</th>\n    </tr>\n  </thead>\n  <tbody>\n    <tr>\n      <th>410</th>\n      <td>905502</td>\n      <td>0</td>\n      <td>11.360</td>\n      <td>17.57</td>\n      <td>72.49</td>\n      <td>399.8</td>\n      <td>0.08858</td>\n      <td>0.05313</td>\n      <td>0.02783</td>\n      <td>0.02100</td>\n      <td>...</td>\n      <td>13.05</td>\n      <td>36.32</td>\n      <td>85.07</td>\n      <td>521.3</td>\n      <td>0.1453</td>\n      <td>0.16220</td>\n      <td>0.18110</td>\n      <td>0.08698</td>\n      <td>0.2973</td>\n      <td>0.07745</td>\n    </tr>\n    <tr>\n      <th>528</th>\n      <td>918192</td>\n      <td>0</td>\n      <td>13.940</td>\n      <td>13.17</td>\n      <td>90.31</td>\n      <td>594.2</td>\n      <td>0.12480</td>\n      <td>0.09755</td>\n      <td>0.10100</td>\n      <td>0.06615</td>\n      <td>...</td>\n      <td>14.62</td>\n      <td>15.38</td>\n      <td>94.52</td>\n      <td>653.3</td>\n      <td>0.1394</td>\n      <td>0.13640</td>\n      <td>0.15590</td>\n      <td>0.10150</td>\n      <td>0.2160</td>\n      <td>0.07253</td>\n    </tr>\n    <tr>\n      <th>199</th>\n      <td>877500</td>\n      <td>1</td>\n      <td>14.450</td>\n      <td>20.22</td>\n      <td>94.49</td>\n      <td>642.7</td>\n      <td>0.09872</td>\n      <td>0.12060</td>\n      <td>0.11800</td>\n      <td>0.05980</td>\n      <td>...</td>\n      <td>18.33</td>\n      <td>30.12</td>\n      <td>117.90</td>\n      <td>1044.0</td>\n      <td>0.1552</td>\n      <td>0.40560</td>\n      <td>0.49670</td>\n      <td>0.18380</td>\n      <td>0.4753</td>\n      <td>0.10130</td>\n    </tr>\n    <tr>\n      <th>222</th>\n      <td>8812844</td>\n      <td>0</td>\n      <td>10.180</td>\n      <td>17.53</td>\n      <td>65.12</td>\n      <td>313.1</td>\n      <td>0.10610</td>\n      <td>0.08502</td>\n      <td>0.01768</td>\n      <td>0.01915</td>\n      <td>...</td>\n      <td>11.17</td>\n      <td>22.84</td>\n      <td>71.94</td>\n      <td>375.6</td>\n      <td>0.1406</td>\n      <td>0.14400</td>\n      <td>0.06572</td>\n      <td>0.05575</td>\n      <td>0.3055</td>\n      <td>0.08797</td>\n    </tr>\n    <tr>\n      <th>373</th>\n      <td>901288</td>\n      <td>1</td>\n      <td>20.640</td>\n      <td>17.35</td>\n      <td>134.80</td>\n      <td>1335.0</td>\n      <td>0.09446</td>\n      <td>0.10760</td>\n      <td>0.15270</td>\n      <td>0.08941</td>\n      <td>...</td>\n      <td>25.37</td>\n      <td>23.17</td>\n      <td>166.80</td>\n      <td>1946.0</td>\n      <td>0.1562</td>\n      <td>0.30550</td>\n      <td>0.41590</td>\n      <td>0.21120</td>\n      <td>0.2689</td>\n      <td>0.07055</td>\n    </tr>\n    <tr>\n      <th>86</th>\n      <td>86135501</td>\n      <td>1</td>\n      <td>14.480</td>\n      <td>21.46</td>\n      <td>94.25</td>\n      <td>648.2</td>\n      <td>0.09444</td>\n      <td>0.09947</td>\n      <td>0.12040</td>\n      <td>0.04938</td>\n      <td>...</td>\n      <td>16.21</td>\n      <td>29.25</td>\n      <td>108.40</td>\n      <td>808.9</td>\n      <td>0.1306</td>\n      <td>0.19760</td>\n      <td>0.33490</td>\n      <td>0.12250</td>\n      <td>0.3020</td>\n      <td>0.06846</td>\n    </tr>\n    <tr>\n      <th>421</th>\n      <td>906564</td>\n      <td>0</td>\n      <td>14.690</td>\n      <td>13.98</td>\n      <td>98.22</td>\n      <td>656.1</td>\n      <td>0.10310</td>\n      <td>0.18360</td>\n      <td>0.14500</td>\n      <td>0.06300</td>\n      <td>...</td>\n      <td>16.46</td>\n      <td>18.34</td>\n      <td>114.10</td>\n      <td>809.2</td>\n      <td>0.1312</td>\n      <td>0.36350</td>\n      <td>0.32190</td>\n      <td>0.11080</td>\n      <td>0.2827</td>\n      <td>0.09208</td>\n    </tr>\n    <tr>\n      <th>557</th>\n      <td>925236</td>\n      <td>0</td>\n      <td>9.423</td>\n      <td>27.88</td>\n      <td>59.26</td>\n      <td>271.3</td>\n      <td>0.08123</td>\n      <td>0.04971</td>\n      <td>0.00000</td>\n      <td>0.00000</td>\n      <td>...</td>\n      <td>10.49</td>\n      <td>34.24</td>\n      <td>66.50</td>\n      <td>330.6</td>\n      <td>0.1073</td>\n      <td>0.07158</td>\n      <td>0.00000</td>\n      <td>0.00000</td>\n      <td>0.2475</td>\n      <td>0.06969</td>\n    </tr>\n  </tbody>\n</table>\n<p>8 rows × 32 columns</p>\n</div>"
     },
     "metadata": {},
     "execution_count": 9
    }
   ],
   "source": [
    "data['diagnosis']=data['diagnosis'].apply(lambda x: ((x ==\"M\"))+0)\n",
    "data.sample(8)"
   ]
  },
  {
   "cell_type": "markdown",
   "metadata": {},
   "source": [
    "Let's split the data as follows: 80% for training, 10% for validation and let's set 10% aside for our batch inference job. In addition, let's drop the 'id' field on the training set and validation set as 'id' is not a training feature. For our batch set however, we keep the 'id' feature. We'll want to filter it out prior to running our inferences so that the input data features match the ones of training set and then ultimately, we'll want to join it with inference result. We are however dropping the diagnosis attribute for the batch set since this is what we'll try to predict."
   ]
  },
  {
   "cell_type": "code",
   "execution_count": 10,
   "metadata": {},
   "outputs": [],
   "source": [
    "#data split in three sets, training, validation and batch inference\n",
    "rand_split = np.random.rand(len(data))\n",
    "train_list = rand_split < 0.8\n",
    "val_list = (rand_split >= 0.8) & (rand_split < 0.9)\n",
    "batch_list = rand_split >= 0.9\n",
    "\n",
    "data_train = data[train_list].drop(['id'],axis=1)\n",
    "data_val = data[val_list].drop(['id'],axis=1)\n",
    "data_batch = data[batch_list].drop(['diagnosis'],axis=1)\n",
    "data_batch_noID = data_batch.drop(['id'],axis=1)\n"
   ]
  },
  {
   "cell_type": "markdown",
   "metadata": {
    "nbpresent": {
     "id": "ff9d10f9-b611-423b-80da-6dcdafd1c8b9"
    }
   },
   "source": [
    "Let's upload those data sets in S3"
   ]
  },
  {
   "cell_type": "code",
   "execution_count": 12,
   "metadata": {
    "nbpresent": {
     "id": "cd8e3431-79d9-40b6-91d1-d67cd61894e7"
    }
   },
   "outputs": [
    {
     "output_type": "execute_result",
     "data": {
      "text/plain": "'s3://md-labs-bucket/md-labsbreast-cancer-prediction-xgboost/batch/batch_data_noID.csv'"
     },
     "metadata": {},
     "execution_count": 12
    }
   ],
   "source": [
    "train_file = 'train_data.csv'\n",
    "data_train.to_csv(train_file,index=False,header=False)\n",
    "sess.upload_data(train_file, key_prefix='{}/train'.format(prefix), bucket=bucket)\n",
    "\n",
    "validation_file = 'validation_data.csv'\n",
    "data_val.to_csv(validation_file,index=False,header=False)\n",
    "sess.upload_data(validation_file, key_prefix='{}/validation'.format(prefix), bucket=bucket)\n",
    "\n",
    "batch_file = 'batch_data.csv'\n",
    "data_batch.to_csv(batch_file,index=False,header=False)\n",
    "sess.upload_data(batch_file, key_prefix='{}/batch'.format(prefix), bucket=bucket)\n",
    "    \n",
    "batch_file_noID = 'batch_data_noID.csv'\n",
    "data_batch_noID.to_csv(batch_file_noID,index=False,header=False)\n",
    "sess.upload_data(batch_file_noID, key_prefix='{}/batch'.format(prefix), bucket=bucket)\n"
   ]
  },
  {
   "cell_type": "markdown",
   "metadata": {
    "nbpresent": {
     "id": "71cbcebd-a2a5-419e-8e50-b2bc0909f564"
    }
   },
   "source": [
    "---\n",
    "\n",
    "## Training job and model creation"
   ]
  },
  {
   "cell_type": "markdown",
   "metadata": {
    "collapsed": true,
    "nbpresent": {
     "id": "bd113b8e-adc1-4091-a26f-a426149fe604"
    }
   },
   "source": [
    "The below cell uses the [SageMaker Python SDK](https://github.com/aws/sagemaker-python-sdk) to kick off the training job using both our training set and validation set. Not that the objective is set to 'binary:logistic' which trains a model to output a probability between 0 and 1 (here the probability of a tumor being malignant)."
   ]
  },
  {
   "cell_type": "code",
   "execution_count": null,
   "metadata": {
    "nbpresent": {
     "id": "f3b125ad-a2d5-464c-8cfa-bd203034eee4"
    }
   },
   "outputs": [],
   "source": [
    "%%time\n",
    "from time import gmtime, strftime\n",
    "from sagemaker.amazon.amazon_estimator import get_image_uri\n",
    "\n",
    "\n",
    "job_name = 'xgb-' + strftime(\"%Y-%m-%d-%H-%M-%S\", gmtime())\n",
    "output_location = 's3://{}/{}/output/{}'.format(bucket, prefix, job_name)\n",
    "image = get_image_uri(boto3.Session().region_name, 'xgboost')\n",
    "\n",
    "sm_estimator = sagemaker.estimator.Estimator(image,\n",
    "                                             role,\n",
    "                                             train_instance_count=1,\n",
    "                                             train_instance_type='ml.m5.4xlarge',\n",
    "                                             train_volume_size=50,\n",
    "                                             input_mode='File',\n",
    "                                             output_path=output_location,\n",
    "                                             sagemaker_session=sess)\n",
    "\n",
    "sm_estimator.set_hyperparameters(objective=\"binary:logistic\",\n",
    "                                 max_depth=5,\n",
    "                                 eta=0.2,\n",
    "                                 gamma=4,\n",
    "                                 min_child_weight=6,\n",
    "                                 subsample=0.8,\n",
    "                                 silent=0,\n",
    "                                 num_round=100)\n",
    "`\n",
    "train_data = sagemaker.session.s3_input('s3://{}/{}/train'.format(bucket, prefix), distribution='FullyReplicated', \n",
    "                                        content_type='text/csv', s3_data_type='S3Prefix')\n",
    "validation_data = sagemaker.session.s3_input('s3://{}/{}/validation'.format(bucket, prefix), distribution='FullyReplicated', \n",
    "                                             content_type='text/csv', s3_data_type='S3Prefix')\n",
    "data_channels = {'train': train_data, 'validation': validation_data}\n",
    "\n",
    "\n",
    "# Start training by calling the fit method in the estimator\n",
    "sm_estimator.fit(inputs=data_channels, logs=True)"
   ]
  },
  {
   "cell_type": "markdown",
   "metadata": {
    "collapsed": true,
    "nbpresent": {
     "id": "397fb60a-c48b-453f-88ea-4d832b70c919"
    }
   },
   "source": [
    "---\n",
    "\n",
    "## Batch Transform\n",
    "\n",
    "In SageMaker Batch Transform, we introduced 3 new attributes - __input_filter__, __join_source__ and __output_filter__. In the below cell, we use the [SageMaker Python SDK](https://github.com/aws/sagemaker-python-sdk) to kick-off several Batch Transform jobs using different configurations of these 3 new attributes. Please refer to [this page](https://docs.aws.amazon.com/sagemaker/latest/dg/batch-transform-data-processing.html) to learn more about how to use them.\n",
    "\n",
    "\n"
   ]
  },
  {
   "cell_type": "markdown",
   "metadata": {},
   "source": [
    "#### 1. Create a transform job with the default configurations\n",
    "Let's first skip these 3 new attributes and inspect the inference results. We'll use it as a baseline to compare to the results with data processing."
   ]
  },
  {
   "cell_type": "code",
   "execution_count": null,
   "metadata": {},
   "outputs": [],
   "source": [
    "%%time\n",
    "\n",
    "sm_transformer = sm_estimator.transformer(1, 'ml.m4.xlarge')\n",
    "\n",
    "# start a transform job\n",
    "input_location = 's3://{}/{}/batch/{}'.format(bucket, prefix, batch_file_noID) # use input data without ID column\n",
    "sm_transformer.transform(input_location, split_type='Line')\n",
    "sm_transformer.wait()"
   ]
  },
  {
   "cell_type": "markdown",
   "metadata": {},
   "source": [
    "Let's inspect the output of the Batch Transform job in S3. It should show the list probabilities of tumors being malignant."
   ]
  },
  {
   "cell_type": "code",
   "execution_count": null,
   "metadata": {},
   "outputs": [],
   "source": [
    "import json\n",
    "import io\n",
    "from urllib.parse import urlparse\n",
    "\n",
    "def get_csv_output_from_s3(s3uri, file_name):\n",
    "    parsed_url = urlparse(s3uri)\n",
    "    bucket_name = parsed_url.netloc\n",
    "    prefix = parsed_url.path[1:]\n",
    "    s3 = boto3.resource('s3')\n",
    "    obj = s3.Object(bucket_name, '{}/{}'.format(prefix, file_name))\n",
    "    return obj.get()[\"Body\"].read().decode('utf-8')    \n",
    "\n"
   ]
  },
  {
   "cell_type": "code",
   "execution_count": null,
   "metadata": {},
   "outputs": [],
   "source": [
    "output = get_csv_output_from_s3(sm_transformer.output_path, '{}.out'.format(batch_file_noID))\n",
    "output_df = pd.read_csv(io.StringIO(output), sep=\",\", header=None)\n",
    "output_df.head(8)"
   ]
  },
  {
   "cell_type": "markdown",
   "metadata": {},
   "source": [
    "#### 2. Join the input and the prediction results \n",
    "Now, let's associate the prediction results with their corresponding input records. We can also use the __input_filter__ to exclude the ID column easily and there's no need to have a separate file in S3.\n",
    "\n",
    "* Set __input_filter__ to \"$[1:]\": indicates that we are excluding column 0 (the 'ID') before processing the inferences and keeping everything from column 1 to the last column (all the features or predictors)  \n",
    "  \n",
    "  \n",
    "* Set __join_source__ to \"Input\": indicates our desire to join the input data with the inference results  \n",
    "\n",
    "* Leave __output_filter__ to default ('$'), indicating that the joined input and inference results be will saved as output."
   ]
  },
  {
   "cell_type": "code",
   "execution_count": null,
   "metadata": {},
   "outputs": [],
   "source": [
    "# content_type / accept and split_type / assemble_with are required to use IO joining feature\n",
    "sm_transformer.assemble_with = 'Line'\n",
    "sm_transformer.accept = 'text/csv'\n",
    "\n",
    "# start a transform job\n",
    "input_location = 's3://{}/{}/batch/{}'.format(bucket, prefix, batch_file) # use input data with ID column cause InputFilter will filter it out\n",
    "sm_transformer.transform(input_location, split_type='Line', content_type='text/csv', input_filter='$[1:]', join_source='Input')\n",
    "sm_transformer.wait()\n",
    "\n"
   ]
  },
  {
   "cell_type": "markdown",
   "metadata": {},
   "source": [
    "Let's inspect the output of the Batch Transform job in S3. It should show the list of tumors identified by their original feature columns and their corresponding probabilities of being malignant."
   ]
  },
  {
   "cell_type": "code",
   "execution_count": null,
   "metadata": {},
   "outputs": [],
   "source": [
    "output = get_csv_output_from_s3(sm_transformer.output_path, '{}.out'.format(batch_file))\n",
    "output_df = pd.read_csv(io.StringIO(output), sep=\",\", header=None)\n",
    "output_df.head(8)\n"
   ]
  },
  {
   "cell_type": "markdown",
   "metadata": {},
   "source": [
    "#### 3. Update the output filter to keep only ID and prediction results\n",
    "Let's change __output_filter__ to \"$[0,-1]\", indicating that when presenting the output, we only want to keep column 0 (the 'ID') and the last column (the inference result i.e. the probability of a given tumor to be malignant)"
   ]
  },
  {
   "cell_type": "code",
   "execution_count": null,
   "metadata": {},
   "outputs": [],
   "source": [
    "# start another transform job\n",
    "sm_transformer.transform(input_location, split_type='Line', content_type='text/csv', input_filter='$[1:]', join_source='Input', output_filter='$[0,-1]')\n",
    "sm_transformer.wait()\n",
    "\n"
   ]
  },
  {
   "cell_type": "markdown",
   "metadata": {},
   "source": [
    "Now, let's inspect the output of the Batch Transform job in S3 again. It should show 2 columns: the ID and their corresponding probabilities of being malignant."
   ]
  },
  {
   "cell_type": "code",
   "execution_count": null,
   "metadata": {},
   "outputs": [],
   "source": [
    "output = get_csv_output_from_s3(sm_transformer.output_path, '{}.out'.format(batch_file))\n",
    "output_df = pd.read_csv(io.StringIO(output), sep=\",\", header=None)\n",
    "output_df.head(8)"
   ]
  },
  {
   "cell_type": "markdown",
   "metadata": {},
   "source": [
    "In summary, we can use newly introduced 3 attributes - __input_filter__, __join_source__, __output_filter__ to \n",
    "1. Filter / select useful features from the input dataset. e.g. exclude ID columns.\n",
    "2. Associate the prediction results with their corresponding input records.\n",
    "3. Filter the original or joined results before saving to S3. e.g. keep ID and probability columns only."
   ]
  }
 ],
 "metadata": {
  "kernelspec": {
   "display_name": "conda_python3",
   "language": "python",
   "name": "conda_python3"
  },
  "language_info": {
   "codemirror_mode": {
    "name": "ipython",
    "version": 3
   },
   "file_extension": ".py",
   "mimetype": "text/x-python",
   "name": "python",
   "nbconvert_exporter": "python",
   "pygments_lexer": "ipython3",
   "version": "3.6.5-final"
  },
  "notice": "Copyright 2017 Amazon.com, Inc. or its affiliates. All Rights Reserved.  Licensed under the Apache License, Version 2.0 (the License). You may not use this file except in compliance with the License. A copy of the License is located at http://aws.amazon.com/apache2.0/ or in the license file accompanying this file. This file is distributed on an AS IS BASIS, WITHOUT WARRANTIES OR CONDITIONS OF ANY KIND, either express or implied. See the License for the specific language governing permissions and limitations under the License."
 },
 "nbformat": 4,
 "nbformat_minor": 2
}