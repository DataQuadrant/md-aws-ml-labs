{
 "cells": [
  {
   "cell_type": "markdown",
   "metadata": {},
   "source": [
    "# Bring Your Own Model (k-means)\n",
    "\n",
    "Reference:  \n",
    "https://github.com/awslabs/amazon-sagemaker-examples/blob/master/advanced_functionality/kmeans_bring_your_own_model/kmeans_bring_your_own_model.ipynb\n",
    "\n"
   ]
  },
  {
   "cell_type": "code",
   "execution_count": null,
   "metadata": {},
   "outputs": [],
   "source": []
  },
  {
   "cell_type": "code",
   "execution_count": 2,
   "metadata": {},
   "outputs": [
    {
     "name": "stdout",
     "output_type": "stream",
     "text": [
      "Solving environment: done\n",
      "\n",
      "\n",
      "==> WARNING: A newer version of conda exists. <==\n",
      "  current version: 4.5.12\n",
      "  latest version: 4.8.2\n",
      "\n",
      "Please update conda by running\n",
      "\n",
      "    $ conda update -n base conda\n",
      "\n",
      "\n",
      "\n",
      "## Package Plan ##\n",
      "\n",
      "  environment location: /home/ec2-user/anaconda3/envs/mxnet_p36\n",
      "\n",
      "  added / updated specs: \n",
      "    - mxnet\n",
      "\n",
      "\n",
      "The following packages will be downloaded:\n",
      "\n",
      "    package                    |            build\n",
      "    ---------------------------|-----------------\n",
      "    xorg-libice-1.0.10         |       h516909a_0          57 KB  conda-forge\n",
      "    harfbuzz-1.9.0             |    he243708_1001         957 KB  conda-forge\n",
      "    xorg-xextproto-7.3.0       |    h14c3975_1002          27 KB  conda-forge\n",
      "    blas-2.14                  |         openblas          10 KB  conda-forge\n",
      "    x264-1!152.20180806        |       h14c3975_0         1.4 MB  conda-forge\n",
      "    xorg-libx11-1.6.9          |       h516909a_0         918 KB  conda-forge\n",
      "    jasper-2.0.14              |       habb8e15_1         1.2 MB  conda-forge\n",
      "    openh264-1.8.0             |    hdbcaa40_1000         1.4 MB  conda-forge\n",
      "    lz4-c-1.8.3                |    he1b5a44_1001         187 KB  conda-forge\n",
      "    gnutls-3.5.19              |       h2a4e5f8_1         1.9 MB  conda-forge\n",
      "    bzip2-1.0.8                |       h516909a_2         396 KB  conda-forge\n",
      "    matplotlib-3.1.1           |           py36_0           6 KB  conda-forge\n",
      "    xorg-kbproto-1.0.7         |    h14c3975_1002          26 KB  conda-forge\n",
      "    gmp-6.1.2                  |    hf484d3e_1000         751 KB  conda-forge\n",
      "    xorg-inputproto-2.3.2      |    h14c3975_1002          18 KB  conda-forge\n",
      "    ffmpeg-4.0.2               |       ha0c5888_2        62.1 MB  conda-forge\n",
      "    xorg-libxext-1.3.4         |       h516909a_0          51 KB  conda-forge\n",
      "    graphite2-1.3.13           |    hf484d3e_1000         109 KB  conda-forge\n",
      "    pixman-0.34.0              |    h14c3975_1003         595 KB  conda-forge\n",
      "    xorg-libsm-1.2.3           |    h84519dc_1000          25 KB  conda-forge\n",
      "    xorg-libxi-1.7.10          |       h516909a_0          45 KB  conda-forge\n",
      "    nettle-3.3                 |                0         3.1 MB  conda-forge\n",
      "    hdf5-1.10.2                |       hc401514_3         4.8 MB  conda-forge\n",
      "    mxnet-1.5.0                |       hea8a0af_0           5 KB  defaults\n",
      "    libglu-9.0.0               |    hf484d3e_1000         405 KB  conda-forge\n",
      "    py-mxnet-1.5.0             |   py36hc738527_0         1.3 MB  defaults\n",
      "    freeglut-3.0.0             |    hf484d3e_1005         256 KB  conda-forge\n",
      "    cairo-1.14.12              |    h80bd089_1005         1.4 MB  conda-forge\n",
      "    xorg-xproto-7.0.31         |    h14c3975_1007          72 KB  conda-forge\n",
      "    liblapacke-3.8.0           |      14_openblas          10 KB  conda-forge\n",
      "    libopencv-3.4.2            |       hb342d67_1        40.4 MB  defaults\n",
      "    libmxnet-1.5.0             |openblas_ha1db078_0        24.0 MB  defaults\n",
      "    matplotlib-base-3.1.1      |   py36hfd891ef_0         6.7 MB  conda-forge\n",
      "    _mutex_mxnet-0.0.30        |         openblas           2 KB  defaults\n",
      "    xorg-renderproto-0.11.1    |    h14c3975_1002           8 KB  conda-forge\n",
      "    zstd-1.4.4                 |       h3b9ef0a_1         989 KB  conda-forge\n",
      "    libtiff-4.1.0              |       hc3755c2_3         568 KB  conda-forge\n",
      "    xorg-libxfixes-5.0.3       |    h516909a_1004          17 KB  conda-forge\n",
      "    xorg-fixesproto-5.0        |    h14c3975_1002           8 KB  conda-forge\n",
      "    xorg-libxrender-0.9.10     |    h516909a_1002          31 KB  conda-forge\n",
      "    ------------------------------------------------------------\n",
      "                                           Total:       156.1 MB\n",
      "\n",
      "The following NEW packages will be INSTALLED:\n",
      "\n",
      "    _mutex_mxnet:     0.0.30-openblas           defaults   \n",
      "    blas:             2.14-openblas             conda-forge\n",
      "    bzip2:            1.0.8-h516909a_2          conda-forge\n",
      "    cairo:            1.14.12-h80bd089_1005     conda-forge\n",
      "    ffmpeg:           4.0.2-ha0c5888_2          conda-forge\n",
      "    freeglut:         3.0.0-hf484d3e_1005       conda-forge\n",
      "    gmp:              6.1.2-hf484d3e_1000       conda-forge\n",
      "    gnutls:           3.5.19-h2a4e5f8_1         conda-forge\n",
      "    graphite2:        1.3.13-hf484d3e_1000      conda-forge\n",
      "    harfbuzz:         1.9.0-he243708_1001       conda-forge\n",
      "    hdf5:             1.10.2-hc401514_3         conda-forge\n",
      "    jasper:           2.0.14-habb8e15_1         conda-forge\n",
      "    libgfortran:      3.0.0-1                   conda-forge\n",
      "    libglu:           9.0.0-hf484d3e_1000       conda-forge\n",
      "    liblapacke:       3.8.0-14_openblas         conda-forge\n",
      "    libmxnet:         1.5.0-openblas_ha1db078_0 defaults   \n",
      "    libopencv:        3.4.2-hb342d67_1          defaults   \n",
      "    libtiff:          4.1.0-hc3755c2_3          conda-forge\n",
      "    lz4-c:            1.8.3-he1b5a44_1001       conda-forge\n",
      "    matplotlib-base:  3.1.1-py36hfd891ef_0      conda-forge\n",
      "    mxnet:            1.5.0-hea8a0af_0          defaults   \n",
      "    nettle:           3.3-0                     conda-forge\n",
      "    openh264:         1.8.0-hdbcaa40_1000       conda-forge\n",
      "    pixman:           0.34.0-h14c3975_1003      conda-forge\n",
      "    py-mxnet:         1.5.0-py36hc738527_0      defaults   \n",
      "    x264:             1!152.20180806-h14c3975_0 conda-forge\n",
      "    xorg-fixesproto:  5.0-h14c3975_1002         conda-forge\n",
      "    xorg-inputproto:  2.3.2-h14c3975_1002       conda-forge\n",
      "    xorg-kbproto:     1.0.7-h14c3975_1002       conda-forge\n",
      "    xorg-libice:      1.0.10-h516909a_0         conda-forge\n",
      "    xorg-libsm:       1.2.3-h84519dc_1000       conda-forge\n",
      "    xorg-libx11:      1.6.9-h516909a_0          conda-forge\n",
      "    xorg-libxext:     1.3.4-h516909a_0          conda-forge\n",
      "    xorg-libxfixes:   5.0.3-h516909a_1004       conda-forge\n",
      "    xorg-libxi:       1.7.10-h516909a_0         conda-forge\n",
      "    xorg-libxrender:  0.9.10-h516909a_1002      conda-forge\n",
      "    xorg-renderproto: 0.11.1-h14c3975_1002      conda-forge\n",
      "    xorg-xextproto:   7.3.0-h14c3975_1002       conda-forge\n",
      "    xorg-xproto:      7.0.31-h14c3975_1007      conda-forge\n",
      "    zstd:             1.4.4-h3b9ef0a_1          conda-forge\n",
      "\n",
      "The following packages will be UPDATED:\n",
      "\n",
      "    fontconfig:       2.13.0-hd36ec8e_5         conda-forge --> 2.13.1-he4413a7_1000 conda-forge\n",
      "    freetype:         2.8.1-hfa320df_1          conda-forge --> 2.10.0-he983fc9_1    conda-forge\n",
      "    matplotlib:       2.2.2-py36h0e671d2_0      defaults    --> 3.1.1-py36_0         conda-forge\n",
      "\n",
      "The following packages will be DOWNGRADED:\n",
      "\n",
      "    pyqt:             5.6.0-py36h13b7fb3_1008   conda-forge --> 4.11.4-py36_3        conda-forge\n",
      "    qt:               5.6.2-h974d657_12         defaults    --> 4.8.7-3              defaults   \n",
      "    sip:              4.18.1-py36hf484d3e_1000  conda-forge --> 4.18-py36_1          conda-forge\n",
      "\n",
      "\n",
      "Downloading and Extracting Packages\n",
      "xorg-libice-1.0.10   | 57 KB     | ##################################### | 100% \n",
      "harfbuzz-1.9.0       | 957 KB    | ##################################### | 100% \n",
      "xorg-xextproto-7.3.0 | 27 KB     | ##################################### | 100% \n",
      "blas-2.14            | 10 KB     | ##################################### | 100% \n",
      "x264-1!152.20180806  | 1.4 MB    | ##################################### | 100% \n",
      "xorg-libx11-1.6.9    | 918 KB    | ##################################### | 100% \n",
      "jasper-2.0.14        | 1.2 MB    | ##################################### | 100% \n",
      "openh264-1.8.0       | 1.4 MB    | ##################################### | 100% \n",
      "lz4-c-1.8.3          | 187 KB    | ##################################### | 100% \n",
      "gnutls-3.5.19        | 1.9 MB    | ##################################### | 100% \n",
      "bzip2-1.0.8          | 396 KB    | ##################################### | 100% \n",
      "matplotlib-3.1.1     | 6 KB      | ##################################### | 100% \n",
      "xorg-kbproto-1.0.7   | 26 KB     | ##################################### | 100% \n",
      "gmp-6.1.2            | 751 KB    | ##################################### | 100% \n",
      "xorg-inputproto-2.3. | 18 KB     | ##################################### | 100% \n",
      "ffmpeg-4.0.2         | 62.1 MB   | ##################################### | 100% \n",
      "xorg-libxext-1.3.4   | 51 KB     | ##################################### | 100% \n",
      "graphite2-1.3.13     | 109 KB    | ##################################### | 100% \n",
      "pixman-0.34.0        | 595 KB    | ##################################### | 100% \n",
      "xorg-libsm-1.2.3     | 25 KB     | ##################################### | 100% \n",
      "xorg-libxi-1.7.10    | 45 KB     | ##################################### | 100% \n",
      "nettle-3.3           | 3.1 MB    | ##################################### | 100% \n",
      "hdf5-1.10.2          | 4.8 MB    | ##################################### | 100% \n",
      "mxnet-1.5.0          | 5 KB      | ##################################### | 100% \n",
      "libglu-9.0.0         | 405 KB    | ##################################### | 100% \n",
      "py-mxnet-1.5.0       | 1.3 MB    | ##################################### | 100% \n",
      "freeglut-3.0.0       | 256 KB    | ##################################### | 100% \n",
      "cairo-1.14.12        | 1.4 MB    | ##################################### | 100% \n",
      "xorg-xproto-7.0.31   | 72 KB     | ##################################### | 100% \n",
      "liblapacke-3.8.0     | 10 KB     | ##################################### | 100% \n",
      "libopencv-3.4.2      | 40.4 MB   | ##################################### | 100% \n",
      "libmxnet-1.5.0       | 24.0 MB   | ##################################### | 100% \n",
      "matplotlib-base-3.1. | 6.7 MB    | ##################################### | 100% \n",
      "_mutex_mxnet-0.0.30  | 2 KB      | ##################################### | 100% \n",
      "xorg-renderproto-0.1 | 8 KB      | ##################################### | 100% \n",
      "zstd-1.4.4           | 989 KB    | ##################################### | 100% \n",
      "libtiff-4.1.0        | 568 KB    | ##################################### | 100% \n",
      "xorg-libxfixes-5.0.3 | 17 KB     | ##################################### | 100% \n",
      "xorg-fixesproto-5.0  | 8 KB      | ##################################### | 100% \n",
      "xorg-libxrender-0.9. | 31 KB     | ##################################### | 100% \n",
      "Preparing transaction: done\n",
      "Verifying transaction: done\n",
      "Executing transaction: done\n"
     ]
    }
   ],
   "source": [
    "import sys\n",
    "!conda install --yes --prefix {sys.prefix} mxnet"
   ]
  },
  {
   "cell_type": "code",
   "execution_count": 3,
   "metadata": {},
   "outputs": [],
   "source": [
    "import mxnet as mx"
   ]
  },
  {
   "cell_type": "code",
   "execution_count": 7,
   "metadata": {},
   "outputs": [],
   "source": [
    "import numpy as np\n",
    "import sklearn.cluster\n",
    "import pickle\n",
    "import gzip\n",
    "import urllib.request\n",
    "import json\n",
    "import mxnet as mx\n",
    "import boto3\n",
    "import time\n",
    "import io\n",
    "import os"
   ]
  },
  {
   "cell_type": "code",
   "execution_count": 8,
   "metadata": {},
   "outputs": [],
   "source": [
    "import boto3\n",
    "import re\n",
    " \n",
    "from sagemaker import get_execution_role"
   ]
  },
  {
   "cell_type": "code",
   "execution_count": 9,
   "metadata": {},
   "outputs": [],
   "source": [
    "bucket = 'md-ml-labs-bucket'\n",
    "prefix = 'sage-02-kmeans-byoc'"
   ]
  },
  {
   "cell_type": "code",
   "execution_count": 29,
   "metadata": {},
   "outputs": [
    {
     "name": "stdout",
     "output_type": "stream",
     "text": [
      "Resolved SageMaker IAM Role to: {'Path': '/service-role/', 'RoleName': 'AmazonSageMaker-ExecutionRole-20200201T085431', 'RoleId': 'AROA4UGSQ27F7UPXXYEND', 'Arn': 'arn:aws:iam::868024899531:role/service-role/AmazonSageMaker-ExecutionRole-20200201T085431', 'CreateDate': datetime.datetime(2020, 2, 1, 14, 54, 12, tzinfo=tzlocal()), 'AssumeRolePolicyDocument': {'Version': '2012-10-17', 'Statement': [{'Effect': 'Allow', 'Principal': {'Service': 'sagemaker.amazonaws.com'}, 'Action': 'sts:AssumeRole'}]}, 'Description': 'SageMaker execution role created from the SageMaker AWS Management Console.', 'MaxSessionDuration': 3600}\n",
      "arn:aws:iam::868024899531:role/service-role/AmazonSageMaker-ExecutionRole-20200201T085431\n"
     ]
    }
   ],
   "source": [
    "# use this if running sagemaker locally\n",
    "def resolve_sm_role():\n",
    "    client = boto3.client('iam', region_name='us-east-2')\n",
    "    response_roles = client.list_roles(\n",
    "        PathPrefix='/',\n",
    "        # Marker='string',\n",
    "        MaxItems=999\n",
    "    )\n",
    "    for role in response_roles['Roles']:\n",
    "        if role['RoleName'].startswith('AmazonSageMaker-ExecutionRole-'):\n",
    "            print('Resolved SageMaker IAM Role to: ' + str(role))\n",
    "            return role['Arn']\n",
    "    raise Exception('Could not resolve what should be the SageMaker role to be used')\n",
    "\n",
    "# this is the role created by sagemaker notebook on aws\n",
    "role_arn = resolve_sm_role()\n",
    "role = role_arn\n",
    "print(role_arn)\n"
   ]
  },
  {
   "cell_type": "markdown",
   "metadata": {},
   "source": [
    "# Get The Data"
   ]
  },
  {
   "cell_type": "code",
   "execution_count": 11,
   "metadata": {},
   "outputs": [],
   "source": [
    "urllib.request.urlretrieve(\"http://deeplearning.net/data/mnist/mnist.pkl.gz\", \"./data/mnist.pkl.gz\")\n",
    "f = gzip.open('./data/mnist.pkl.gz', 'rb')"
   ]
  },
  {
   "cell_type": "code",
   "execution_count": 12,
   "metadata": {},
   "outputs": [],
   "source": [
    "# pickle reference: \n",
    "# https://docs.python.org/3/library/pickle.html\n",
    "\n",
    "# data is already organised in train, validation and testing sets\n",
    "train_set, valid_set, test_set = pickle.load(f, encoding='latin1')\n",
    "f.close()"
   ]
  },
  {
   "cell_type": "code",
   "execution_count": 13,
   "metadata": {},
   "outputs": [
    {
     "data": {
      "text/plain": [
       "(array([[0., 0., 0., ..., 0., 0., 0.],\n",
       "        [0., 0., 0., ..., 0., 0., 0.],\n",
       "        [0., 0., 0., ..., 0., 0., 0.],\n",
       "        ...,\n",
       "        [0., 0., 0., ..., 0., 0., 0.],\n",
       "        [0., 0., 0., ..., 0., 0., 0.],\n",
       "        [0., 0., 0., ..., 0., 0., 0.]], dtype=float32),\n",
       " array([5, 0, 4, ..., 8, 4, 8]))"
      ]
     },
     "execution_count": 13,
     "metadata": {},
     "output_type": "execute_result"
    }
   ],
   "source": [
    "train_set"
   ]
  },
  {
   "cell_type": "code",
   "execution_count": 15,
   "metadata": {},
   "outputs": [
    {
     "data": {
      "text/plain": [
       "tuple"
      ]
     },
     "execution_count": 15,
     "metadata": {},
     "output_type": "execute_result"
    }
   ],
   "source": [
    "type(train_set)"
   ]
  },
  {
   "cell_type": "markdown",
   "metadata": {},
   "source": [
    "# Train Localy"
   ]
  },
  {
   "cell_type": "code",
   "execution_count": 16,
   "metadata": {},
   "outputs": [],
   "source": [
    "# sklearn.cluster.KMeans reference: \n",
    "# https://scikit-learn.org/stable/modules/generated/sklearn.cluster.KMeans.html\n",
    "\n",
    "kmeans = sklearn.cluster.KMeans(n_clusters=10).fit(train_set[0])"
   ]
  },
  {
   "cell_type": "markdown",
   "metadata": {},
   "source": [
    "# Convert to MXNet NDArray"
   ]
  },
  {
   "cell_type": "code",
   "execution_count": 17,
   "metadata": {},
   "outputs": [],
   "source": [
    "# we asked to clusterize the data in 10 clusters\n",
    "# data has 784 dimensions (one for each pixel in images)\n",
    "# the result of kmeans is a NumPy are 10 by 784\n",
    "# this is stored in kmeans.cluster_centers_\n",
    "\n",
    "centroids = mx.ndarray.array(kmeans.cluster_centers_)"
   ]
  },
  {
   "cell_type": "code",
   "execution_count": 19,
   "metadata": {},
   "outputs": [
    {
     "data": {
      "text/plain": [
       "[\n",
       " [[0. 0. 0. ... 0. 0. 0.]\n",
       "  [0. 0. 0. ... 0. 0. 0.]\n",
       "  [0. 0. 0. ... 0. 0. 0.]\n",
       "  ...\n",
       "  [0. 0. 0. ... 0. 0. 0.]\n",
       "  [0. 0. 0. ... 0. 0. 0.]\n",
       "  [0. 0. 0. ... 0. 0. 0.]]\n",
       " <NDArray 10x784 @cpu(0)>]"
      ]
     },
     "execution_count": 19,
     "metadata": {},
     "output_type": "execute_result"
    }
   ],
   "source": [
    "[centroids]"
   ]
  },
  {
   "cell_type": "code",
   "execution_count": 17,
   "metadata": {},
   "outputs": [],
   "source": [
    "# model_algo-1 is a standardised name where model should be saved\n",
    "mx.ndarray.save('./data-kmeans/model_algo-1', [centroids])"
   ]
  },
  {
   "cell_type": "code",
   "execution_count": 20,
   "metadata": {},
   "outputs": [
    {
     "name": "stdout",
     "output_type": "stream",
     "text": [
      "./data-kmeans/model_algo-1\n"
     ]
    }
   ],
   "source": [
    "!tar czvf ./data-kmeans/model.tar.gz ./data-kmeans/model_algo-1 "
   ]
  },
  {
   "cell_type": "code",
   "execution_count": 22,
   "metadata": {},
   "outputs": [],
   "source": [
    "# upload to s3\n",
    "boto3.Session().resource('s3').Bucket(bucket).Object(os.path.join(prefix, 'model.tar.gz')).upload_file('./data/model.tar.gz')"
   ]
  },
  {
   "cell_type": "markdown",
   "metadata": {},
   "source": [
    "# Host"
   ]
  },
  {
   "cell_type": "code",
   "execution_count": 23,
   "metadata": {},
   "outputs": [
    {
     "data": {
      "text/plain": [
       "'DEMO-kmeans-byom-2020-02-01-22-38-25'"
      ]
     },
     "execution_count": 23,
     "metadata": {},
     "output_type": "execute_result"
    }
   ],
   "source": [
    "# create a name for our model host container that should be unique\n",
    "\n",
    "from sagemaker.amazon.amazon_estimator import get_image_uri\n",
    "kmeans_model = 'DEMO-kmeans-byom-' + time.strftime(\"%Y-%m-%d-%H-%M-%S\", time.gmtime())\n",
    "kmeans_model"
   ]
  },
  {
   "cell_type": "code",
   "execution_count": 25,
   "metadata": {},
   "outputs": [
    {
     "data": {
      "text/plain": [
       "'404615174143.dkr.ecr.us-east-2.amazonaws.com/kmeans:1'"
      ]
     },
     "execution_count": 25,
     "metadata": {},
     "output_type": "execute_result"
    }
   ],
   "source": [
    "sm = boto3.client('sagemaker')\n",
    "\n",
    "# reference get_image_uri:\n",
    "# https://github.com/aws/sagemaker-python-sdk/blob/master/src/sagemaker/amazon/amazon_estimator.py\n",
    "# description: Return algorithm image URI for the given AWS region, repository name, and repository version\n",
    "container = get_image_uri(boto3.Session().region_name, 'kmeans')\n",
    "container"
   ]
  },
  {
   "cell_type": "code",
   "execution_count": 30,
   "metadata": {},
   "outputs": [
    {
     "name": "stdout",
     "output_type": "stream",
     "text": [
      "arn:aws:sagemaker:us-east-2:868024899531:model/demo-kmeans-byom-2020-02-01-22-38-25\n"
     ]
    }
   ],
   "source": [
    "# reference create_model:\n",
    "# https://boto3.amazonaws.com/v1/documentation/api/latest/reference/services/sagemaker.html#SageMaker.Client.create_model\n",
    "\n",
    "# create hosting inference for model\n",
    "create_model_response = sm.create_model(\n",
    "    ModelName=kmeans_model,\n",
    "    ExecutionRoleArn=role,\n",
    "    PrimaryContainer={\n",
    "        'Image': container,\n",
    "        'ModelDataUrl': 's3://{}/{}/model.tar.gz'.format(bucket, prefix)})\n",
    "\n",
    "print(create_model_response['ModelArn'])"
   ]
  },
  {
   "cell_type": "code",
   "execution_count": 31,
   "metadata": {},
   "outputs": [
    {
     "name": "stdout",
     "output_type": "stream",
     "text": [
      "DEMO-kmeans-byom-endpoint-config-2020-02-01-23-04-22\n"
     ]
    }
   ],
   "source": [
    "kmeans_endpoint_config = 'DEMO-kmeans-byom-endpoint-config-' + time.strftime(\"%Y-%m-%d-%H-%M-%S\", time.gmtime())\n",
    "print(kmeans_endpoint_config)"
   ]
  },
  {
   "cell_type": "code",
   "execution_count": 32,
   "metadata": {},
   "outputs": [],
   "source": [
    "create_endpoint_config_response = sm.create_endpoint_config(\n",
    "    EndpointConfigName=kmeans_endpoint_config,\n",
    "    ProductionVariants=[{\n",
    "        'InstanceType': 'ml.m4.xlarge',\n",
    "        'InitialInstanceCount': 1,\n",
    "        'ModelName': kmeans_model,\n",
    "        'VariantName': 'AllTraffic'}])"
   ]
  },
  {
   "cell_type": "code",
   "execution_count": 34,
   "metadata": {},
   "outputs": [
    {
     "name": "stdout",
     "output_type": "stream",
     "text": [
      "{'EndpointConfigArn': 'arn:aws:sagemaker:us-east-2:868024899531:endpoint-config/demo-kmeans-byom-endpoint-config-2020-02-01-23-04-22', 'ResponseMetadata': {'RequestId': '6bc29094-76a4-4d73-b39f-c43ce0466599', 'HTTPStatusCode': 200, 'HTTPHeaders': {'x-amzn-requestid': '6bc29094-76a4-4d73-b39f-c43ce0466599', 'content-type': 'application/x-amz-json-1.1', 'content-length': '133', 'date': 'Sat, 01 Feb 2020 23:05:27 GMT'}, 'RetryAttempts': 0}}\n"
     ]
    }
   ],
   "source": [
    "print(create_endpoint_config_response)"
   ]
  },
  {
   "cell_type": "code",
   "execution_count": 35,
   "metadata": {},
   "outputs": [
    {
     "name": "stdout",
     "output_type": "stream",
     "text": [
      "Endpoint Config Arn: arn:aws:sagemaker:us-east-2:868024899531:endpoint-config/demo-kmeans-byom-endpoint-config-2020-02-01-23-04-22\n"
     ]
    }
   ],
   "source": [
    "print(\"Endpoint Config Arn: \" + create_endpoint_config_response['EndpointConfigArn'])"
   ]
  },
  {
   "cell_type": "code",
   "execution_count": 41,
   "metadata": {},
   "outputs": [
    {
     "name": "stdout",
     "output_type": "stream",
     "text": [
      "DEMO-kmeans-byom-endpoint-202002012325\n"
     ]
    }
   ],
   "source": [
    "kmeans_endpoint = 'DEMO-kmeans-byom-endpoint-' + time.strftime(\"%Y%m%d%H%M\", time.gmtime())\n",
    "print(kmeans_endpoint)"
   ]
  },
  {
   "cell_type": "code",
   "execution_count": 42,
   "metadata": {},
   "outputs": [
    {
     "name": "stdout",
     "output_type": "stream",
     "text": [
      "arn:aws:sagemaker:us-east-2:868024899531:endpoint/demo-kmeans-byom-endpoint-202002012325\n"
     ]
    }
   ],
   "source": [
    "# it would take a few minutes until the endpoint is up\n",
    "create_endpoint_response = sm.create_endpoint(\n",
    "    EndpointName=kmeans_endpoint,\n",
    "    EndpointConfigName=kmeans_endpoint_config)\n",
    "\n",
    "print(create_endpoint_response['EndpointArn'])"
   ]
  },
  {
   "cell_type": "code",
   "execution_count": 43,
   "metadata": {},
   "outputs": [
    {
     "name": "stdout",
     "output_type": "stream",
     "text": [
      "Status: Creating\n"
     ]
    }
   ],
   "source": [
    "# status will be \"Creating\" during the end point creation\n",
    "# create_endpoint is anynchronous, ir returns imediatley, while the endpoint is in creation mode\n",
    "resp = sm.describe_endpoint(EndpointName=kmeans_endpoint)\n",
    "status = resp['EndpointStatus']\n",
    "print(\"Status: \" + status)"
   ]
  },
  {
   "cell_type": "code",
   "execution_count": null,
   "metadata": {},
   "outputs": [],
   "source": [
    "%%time\n",
    "# we call wait because create_endpoint is an asynchronous method\n",
    "\n",
    "# reference get_waiter:\n",
    "# https://boto3.amazonaws.com/v1/documentation/api/latest/reference/services/sagemaker.html#SageMaker.Client.get_waiter\n",
    "\n",
    "sm.get_waiter('endpoint_in_service').wait(EndpointName=kmeans_endpoint)\n",
    "\n",
    "# failed maybe because doesnt have permissions"
   ]
  },
  {
   "cell_type": "code",
   "execution_count": null,
   "metadata": {},
   "outputs": [],
   "source": [
    "# should get here after endpoint is created\n",
    "resp = sm.describe_endpoint(EndpointName=kmeans_endpoint)\n",
    "status = resp['EndpointStatus']\n",
    "print(\"Arn: \" + resp['EndpointArn'])\n",
    "print(\"Status: \" + status)\n",
    "\n",
    "if status != 'InService':\n",
    "    raise Exception('Endpoint creation did not succeed')"
   ]
  },
  {
   "cell_type": "markdown",
   "metadata": {},
   "source": [
    "# Validation"
   ]
  },
  {
   "cell_type": "code",
   "execution_count": null,
   "metadata": {},
   "outputs": [],
   "source": []
  },
  {
   "cell_type": "code",
   "execution_count": null,
   "metadata": {},
   "outputs": [],
   "source": []
  }
 ],
 "metadata": {
  "file_extension": ".py",
  "kernelspec": {
   "display_name": "conda_mxnet_p36",
   "language": "python",
   "name": "conda_mxnet_p36"
  },
  "language_info": {
   "codemirror_mode": {
    "name": "ipython",
    "version": 3
   },
   "file_extension": ".py",
   "mimetype": "text/x-python",
   "name": "python",
   "nbconvert_exporter": "python",
   "pygments_lexer": "ipython3",
   "version": "3.6.5"
  },
  "mimetype": "text/x-python",
  "name": "python",
  "npconvert_exporter": "python",
  "pygments_lexer": "ipython3",
  "version": 3
 },
 "nbformat": 4,
 "nbformat_minor": 4
}
