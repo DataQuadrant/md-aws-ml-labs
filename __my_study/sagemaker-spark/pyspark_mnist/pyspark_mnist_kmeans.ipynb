{
 "cells": [
  {
   "cell_type": "markdown",
   "metadata": {},
   "source": [
    "# SageMaker PySpark K-Means Clustering MNIST Example\n",
    "\n",
    "1. [Introduction](#Introduction)\n",
    "2. [Setup](#Setup)\n",
    "3. [Loading the Data](#Loading-the-Data)\n",
    "4. [Training with K-Means and Hosting a Model](#Training-with-K-Means-and-Hosting-a-Model)\n",
    "5. [Inference](#Inference)\n",
    "8. [Re-using existing endpoints or models to create a SageMakerModel](#Re-using-existing-endpoints-or-models-to-create-SageMakerModel)\n",
    "9. [Clean-up](#Clean-up)\n",
    "10. [More on SageMaker Spark](#More-on-SageMaker-Spark)\n",
    "\n",
    "## Introduction\n",
    "This notebook will show how to cluster handwritten digits through the SageMaker PySpark library. \n",
    "\n",
    "We will manipulate data through Spark using a SparkSession, and then use the SageMaker Spark library to interact with SageMaker for training and inference. \n",
    "We will first train on SageMaker using K-Means clustering on the MNIST dataset. Then, we will see how to re-use models from existing endpoints and from a model stored on S3 in order to only run inference. \n",
    "\n",
    "You can visit SageMaker Spark's GitHub repository at https://github.com/aws/sagemaker-spark to learn more about SageMaker Spark.\n",
    "\n",
    "This notebook was created and tested on an ml.m4.xlarge notebook instance."
   ]
  },
  {
   "cell_type": "markdown",
   "metadata": {},
   "source": [
    "## Setup\n",
    "\n",
    "First, we import the necessary modules and create the `SparkSession` with the SageMaker-Spark dependencies attached. "
   ]
  },
  {
   "cell_type": "code",
   "execution_count": 1,
   "metadata": {
    "scrolled": true
   },
   "outputs": [],
   "source": [
    "import os\n",
    "import boto3"
   ]
  },
  {
   "cell_type": "code",
   "execution_count": 2,
   "metadata": {
    "scrolled": true
   },
   "outputs": [],
   "source": [
    "from pyspark import SparkContext, SparkConf\n",
    "from pyspark.sql import SparkSession"
   ]
  },
  {
   "cell_type": "code",
   "execution_count": 3,
   "metadata": {},
   "outputs": [
    {
     "name": "stdout",
     "output_type": "stream",
     "text": [
      "{\n",
      "    \"Reservations\": [\n",
      "        {\n",
      "            \"Groups\": [],\n",
      "            \"Instances\": [\n",
      "                {\n",
      "                    \"AmiLaunchIndex\": 0,\n",
      "                    \"ImageId\": \"ami-0fc61db8544a617ed\",\n",
      "                    \"InstanceId\": \"i-0457e1534a17cb941\",\n",
      "                    \"InstanceType\": \"t2.micro\",\n",
      "                    \"KeyName\": \"stan.petaway\",\n",
      "                    \"LaunchTime\": \"2020-03-12T04:13:10.000Z\",\n",
      "                    \"Monitoring\": {\n",
      "                        \"State\": \"disabled\"\n",
      "                    },\n",
      "                    \"Placement\": {\n",
      "                        \"AvailabilityZone\": \"us-east-1a\",\n",
      "                        \"GroupName\": \"\",\n",
      "                        \"Tenancy\": \"default\"\n",
      "                    },\n",
      "                    \"PrivateDnsName\": \"ip-10-0-0-58.ec2.internal\",\n",
      "                    \"PrivateIpAddress\": \"10.0.0.58\",\n",
      "                    \"ProductCodes\": [],\n",
      "                    \"PublicDnsName\": \"\",\n",
      "                    \"State\": {\n",
      "                        \"Code\": 80,\n",
      "                        \"Name\": \"stopped\"\n",
      "                    },\n",
      "                    \"StateTransitionReason\": \"User initiated (2020-03-12 04:37:39 GMT)\",\n",
      "                    \"SubnetId\": \"subnet-047a1579ad709ff4d\",\n",
      "                    \"VpcId\": \"vpc-09909b3960674079d\",\n",
      "                    \"Architecture\": \"x86_64\",\n",
      "                    \"BlockDeviceMappings\": [\n",
      "                        {\n",
      "                            \"DeviceName\": \"/dev/xvda\",\n",
      "                            \"Ebs\": {\n",
      "                                \"AttachTime\": \"2020-03-12T04:13:11.000Z\",\n",
      "                                \"DeleteOnTermination\": true,\n",
      "                                \"Status\": \"attached\",\n",
      "                                \"VolumeId\": \"vol-0604c28ebd7d53302\"\n",
      "                            }\n",
      "                        }\n",
      "                    ],\n",
      "                    \"ClientToken\": \"\",\n",
      "                    \"EbsOptimized\": false,\n",
      "                    \"EnaSupport\": true,\n",
      "                    \"Hypervisor\": \"xen\",\n",
      "                    \"NetworkInterfaces\": [\n",
      "                        {\n",
      "                            \"Attachment\": {\n",
      "                                \"AttachTime\": \"2020-03-12T04:13:10.000Z\",\n",
      "                                \"AttachmentId\": \"eni-attach-05e8a575d826097b3\",\n",
      "                                \"DeleteOnTermination\": true,\n",
      "                                \"DeviceIndex\": 0,\n",
      "                                \"Status\": \"attached\"\n",
      "                            },\n",
      "                            \"Description\": \"Primary network interface\",\n",
      "                            \"Groups\": [\n",
      "                                {\n",
      "                                    \"GroupName\": \"launch-wizard-6\",\n",
      "                                    \"GroupId\": \"sg-0fa2fa2123d460de2\"\n",
      "                                }\n",
      "                            ],\n",
      "                            \"Ipv6Addresses\": [],\n",
      "                            \"MacAddress\": \"0e:21:de:e9:98:73\",\n",
      "                            \"NetworkInterfaceId\": \"eni-09fe6461c2545abaa\",\n",
      "                            \"OwnerId\": \"868024899531\",\n",
      "                            \"PrivateDnsName\": \"ip-10-0-0-58.ec2.internal\",\n",
      "                            \"PrivateIpAddress\": \"10.0.0.58\",\n",
      "                            \"PrivateIpAddresses\": [\n",
      "                                {\n",
      "                                    \"Primary\": true,\n",
      "                                    \"PrivateDnsName\": \"ip-10-0-0-58.ec2.internal\",\n",
      "                                    \"PrivateIpAddress\": \"10.0.0.58\"\n",
      "                                }\n",
      "                            ],\n",
      "                            \"SourceDestCheck\": true,\n",
      "                            \"Status\": \"in-use\",\n",
      "                            \"SubnetId\": \"subnet-047a1579ad709ff4d\",\n",
      "                            \"VpcId\": \"vpc-09909b3960674079d\",\n",
      "                            \"InterfaceType\": \"interface\"\n",
      "                        }\n",
      "                    ],\n",
      "                    \"RootDeviceName\": \"/dev/xvda\",\n",
      "                    \"RootDeviceType\": \"ebs\",\n",
      "                    \"SecurityGroups\": [\n",
      "                        {\n",
      "                            \"GroupName\": \"launch-wizard-6\",\n",
      "                            \"GroupId\": \"sg-0fa2fa2123d460de2\"\n",
      "                        }\n",
      "                    ],\n",
      "                    \"SourceDestCheck\": true,\n",
      "                    \"StateReason\": {\n",
      "                        \"Code\": \"Client.UserInitiatedShutdown\",\n",
      "                        \"Message\": \"Client.UserInitiatedShutdown: User initiated shutdown\"\n",
      "                    },\n",
      "                    \"VirtualizationType\": \"hvm\",\n",
      "                    \"CpuOptions\": {\n",
      "                        \"CoreCount\": 1,\n",
      "                        \"ThreadsPerCore\": 1\n",
      "                    },\n",
      "                    \"CapacityReservationSpecification\": {\n",
      "                        \"CapacityReservationPreference\": \"open\"\n",
      "                    },\n",
      "                    \"HibernationOptions\": {\n",
      "                        \"Configured\": false\n",
      "                    },\n",
      "                    \"MetadataOptions\": {\n",
      "                        \"State\": \"applied\",\n",
      "                        \"HttpTokens\": \"optional\",\n",
      "                        \"HttpPutResponseHopLimit\": 1,\n",
      "                        \"HttpEndpoint\": \"enabled\"\n",
      "                    }\n",
      "                }\n",
      "            ],\n",
      "            \"OwnerId\": \"868024899531\",\n",
      "            \"ReservationId\": \"r-0b671e381a797bdd4\"\n",
      "        },\n",
      "        {\n",
      "            \"Groups\": [],\n",
      "            \"Instances\": [\n",
      "                {\n",
      "                    \"AmiLaunchIndex\": 0,\n",
      "                    \"ImageId\": \"ami-0a887e401f7654935\",\n",
      "                    \"InstanceId\": \"i-059ba755611f43cce\",\n",
      "                    \"InstanceType\": \"t2.micro\",\n",
      "                    \"KeyName\": \"travis.m.smith\",\n",
      "                    \"LaunchTime\": \"2020-03-09T16:46:32.000Z\",\n",
      "                    \"Monitoring\": {\n",
      "                        \"State\": \"disabled\"\n",
      "                    },\n",
      "                    \"Placement\": {\n",
      "                        \"AvailabilityZone\": \"us-east-1d\",\n",
      "                        \"GroupName\": \"\",\n",
      "                        \"Tenancy\": \"default\"\n",
      "                    },\n",
      "                    \"PrivateDnsName\": \"ip-10-0-0-169.ec2.internal\",\n",
      "                    \"PrivateIpAddress\": \"10.0.0.169\",\n",
      "                    \"ProductCodes\": [],\n",
      "                    \"PublicDnsName\": \"ec2-3-82-52-100.compute-1.amazonaws.com\",\n",
      "                    \"PublicIpAddress\": \"3.82.52.100\",\n",
      "                    \"State\": {\n",
      "                        \"Code\": 16,\n",
      "                        \"Name\": \"running\"\n",
      "                    },\n",
      "                    \"StateTransitionReason\": \"\",\n",
      "                    \"SubnetId\": \"subnet-01b38c922fab586d6\",\n",
      "                    \"VpcId\": \"vpc-0504dde03fbcb3289\",\n",
      "                    \"Architecture\": \"x86_64\",\n",
      "                    \"BlockDeviceMappings\": [\n",
      "                        {\n",
      "                            \"DeviceName\": \"/dev/xvda\",\n",
      "                            \"Ebs\": {\n",
      "                                \"AttachTime\": \"2020-03-09T16:46:33.000Z\",\n",
      "                                \"DeleteOnTermination\": true,\n",
      "                                \"Status\": \"attached\",\n",
      "                                \"VolumeId\": \"vol-0e1acca585d1bf73c\"\n",
      "                            }\n",
      "                        }\n",
      "                    ],\n",
      "                    \"ClientToken\": \"\",\n",
      "                    \"EbsOptimized\": false,\n",
      "                    \"EnaSupport\": true,\n",
      "                    \"Hypervisor\": \"xen\",\n",
      "                    \"NetworkInterfaces\": [\n",
      "                        {\n",
      "                            \"Association\": {\n",
      "                                \"IpOwnerId\": \"amazon\",\n",
      "                                \"PublicDnsName\": \"ec2-3-82-52-100.compute-1.amazonaws.com\",\n",
      "                                \"PublicIp\": \"3.82.52.100\"\n",
      "                            },\n",
      "                            \"Attachment\": {\n",
      "                                \"AttachTime\": \"2020-03-09T16:46:32.000Z\",\n",
      "                                \"AttachmentId\": \"eni-attach-00729b0cab18dbc8c\",\n",
      "                                \"DeleteOnTermination\": true,\n",
      "                                \"DeviceIndex\": 0,\n",
      "                                \"Status\": \"attached\"\n",
      "                            },\n",
      "                            \"Description\": \"Primary network interface\",\n",
      "                            \"Groups\": [\n",
      "                                {\n",
      "                                    \"GroupName\": \"default\",\n",
      "                                    \"GroupId\": \"sg-02d8c935846c18310\"\n",
      "                                }\n",
      "                            ],\n",
      "                            \"Ipv6Addresses\": [],\n",
      "                            \"MacAddress\": \"0a:a1:db:7a:de:3b\",\n",
      "                            \"NetworkInterfaceId\": \"eni-0708374470d72ac87\",\n",
      "                            \"OwnerId\": \"868024899531\",\n",
      "                            \"PrivateDnsName\": \"ip-10-0-0-169.ec2.internal\",\n",
      "                            \"PrivateIpAddress\": \"10.0.0.169\",\n",
      "                            \"PrivateIpAddresses\": [\n",
      "                                {\n",
      "                                    \"Association\": {\n",
      "                                        \"IpOwnerId\": \"amazon\",\n",
      "                                        \"PublicDnsName\": \"ec2-3-82-52-100.compute-1.amazonaws.com\",\n",
      "                                        \"PublicIp\": \"3.82.52.100\"\n",
      "                                    },\n",
      "                                    \"Primary\": true,\n",
      "                                    \"PrivateDnsName\": \"ip-10-0-0-169.ec2.internal\",\n",
      "                                    \"PrivateIpAddress\": \"10.0.0.169\"\n",
      "                                }\n",
      "                            ],\n",
      "                            \"SourceDestCheck\": true,\n",
      "                            \"Status\": \"in-use\",\n",
      "                            \"SubnetId\": \"subnet-01b38c922fab586d6\",\n",
      "                            \"VpcId\": \"vpc-0504dde03fbcb3289\",\n",
      "                            \"InterfaceType\": \"interface\"\n",
      "                        }\n",
      "                    ],\n",
      "                    \"RootDeviceName\": \"/dev/xvda\",\n",
      "                    \"RootDeviceType\": \"ebs\",\n",
      "                    \"SecurityGroups\": [\n",
      "                        {\n",
      "                            \"GroupName\": \"default\",\n",
      "                            \"GroupId\": \"sg-02d8c935846c18310\"\n",
      "                        }\n",
      "                    ],\n",
      "                    \"SourceDestCheck\": true,\n",
      "                    \"VirtualizationType\": \"hvm\",\n",
      "                    \"CpuOptions\": {\n",
      "                        \"CoreCount\": 1,\n",
      "                        \"ThreadsPerCore\": 1\n",
      "                    },\n",
      "                    \"CapacityReservationSpecification\": {\n",
      "                        \"CapacityReservationPreference\": \"open\"\n",
      "                    },\n",
      "                    \"HibernationOptions\": {\n",
      "                        \"Configured\": false\n",
      "                    },\n",
      "                    \"MetadataOptions\": {\n",
      "                        \"State\": \"applied\",\n",
      "                        \"HttpTokens\": \"optional\",\n",
      "                        \"HttpPutResponseHopLimit\": 1,\n",
      "                        \"HttpEndpoint\": \"enabled\"\n",
      "                    }\n",
      "                }\n",
      "            ],\n",
      "            \"OwnerId\": \"868024899531\",\n",
      "            \"ReservationId\": \"r-07c0d1d4451261674\"\n",
      "        },\n",
      "        {\n",
      "            \"Groups\": [],\n",
      "            \"Instances\": [\n",
      "                {\n",
      "                    \"AmiLaunchIndex\": 0,\n",
      "                    \"ImageId\": \"ami-02aff222fe70acebb\",\n",
      "                    \"InstanceId\": \"i-02dcfd50e52385ef1\",\n",
      "                    \"InstanceType\": \"t2.small\",\n",
      "                    \"KeyName\": \"saif.s\",\n",
      "                    \"LaunchTime\": \"2020-03-11T17:19:29.000Z\",\n",
      "                    \"Monitoring\": {\n",
      "                        \"State\": \"disabled\"\n",
      "                    },\n",
      "                    \"Placement\": {\n",
      "                        \"AvailabilityZone\": \"us-east-1d\",\n",
      "                        \"GroupName\": \"\",\n",
      "                        \"Tenancy\": \"default\"\n",
      "                    },\n",
      "                    \"PrivateDnsName\": \"ip-10-0-0-64.ec2.internal\",\n",
      "                    \"PrivateIpAddress\": \"10.0.0.64\",\n",
      "                    \"ProductCodes\": [],\n",
      "                    \"PublicDnsName\": \"ec2-54-90-231-167.compute-1.amazonaws.com\",\n",
      "                    \"PublicIpAddress\": \"54.90.231.167\",\n",
      "                    \"State\": {\n",
      "                        \"Code\": 16,\n",
      "                        \"Name\": \"running\"\n",
      "                    },\n",
      "                    \"StateTransitionReason\": \"\",\n",
      "                    \"SubnetId\": \"subnet-01b38c922fab586d6\",\n",
      "                    \"VpcId\": \"vpc-0504dde03fbcb3289\",\n",
      "                    \"Architecture\": \"x86_64\",\n",
      "                    \"BlockDeviceMappings\": [\n",
      "                        {\n",
      "                            \"DeviceName\": \"/dev/xvda\",\n",
      "                            \"Ebs\": {\n",
      "                                \"AttachTime\": \"2020-03-11T17:19:30.000Z\",\n",
      "                                \"DeleteOnTermination\": true,\n",
      "                                \"Status\": \"attached\",\n",
      "                                \"VolumeId\": \"vol-0839776c1d740113b\"\n",
      "                            }\n",
      "                        }\n",
      "                    ],\n",
      "                    \"ClientToken\": \"\",\n",
      "                    \"EbsOptimized\": false,\n",
      "                    \"EnaSupport\": true,\n",
      "                    \"Hypervisor\": \"xen\",\n",
      "                    \"IamInstanceProfile\": {\n",
      "                        \"Arn\": \"arn:aws:iam::868024899531:instance-profile/SaifDemoEc2AdminRole\",\n",
      "                        \"Id\": \"AIPA4UGSQ27FSE6IWA6P4\"\n",
      "                    },\n",
      "                    \"NetworkInterfaces\": [\n",
      "                        {\n",
      "                            \"Association\": {\n",
      "                                \"IpOwnerId\": \"amazon\",\n",
      "                                \"PublicDnsName\": \"ec2-54-90-231-167.compute-1.amazonaws.com\",\n",
      "                                \"PublicIp\": \"54.90.231.167\"\n",
      "                            },\n",
      "                            \"Attachment\": {\n",
      "                                \"AttachTime\": \"2020-03-11T17:19:29.000Z\",\n",
      "                                \"AttachmentId\": \"eni-attach-0a13cd464970b07a1\",\n",
      "                                \"DeleteOnTermination\": true,\n",
      "                                \"DeviceIndex\": 0,\n",
      "                                \"Status\": \"attached\"\n",
      "                            },\n",
      "                            \"Description\": \"Primary network interface\",\n",
      "                            \"Groups\": [\n",
      "                                {\n",
      "                                    \"GroupName\": \"launch-wizard-3\",\n",
      "                                    \"GroupId\": \"sg-0b913d023ea42e8b6\"\n",
      "                                }\n",
      "                            ],\n",
      "                            \"Ipv6Addresses\": [],\n",
      "                            \"MacAddress\": \"0a:b4:ab:ed:ec:2f\",\n",
      "                            \"NetworkInterfaceId\": \"eni-0b8b83f5752084950\",\n",
      "                            \"OwnerId\": \"868024899531\",\n",
      "                            \"PrivateDnsName\": \"ip-10-0-0-64.ec2.internal\",\n",
      "                            \"PrivateIpAddress\": \"10.0.0.64\",\n",
      "                            \"PrivateIpAddresses\": [\n",
      "                                {\n",
      "                                    \"Association\": {\n",
      "                                        \"IpOwnerId\": \"amazon\",\n",
      "                                        \"PublicDnsName\": \"ec2-54-90-231-167.compute-1.amazonaws.com\",\n",
      "                                        \"PublicIp\": \"54.90.231.167\"\n",
      "                                    },\n",
      "                                    \"Primary\": true,\n",
      "                                    \"PrivateDnsName\": \"ip-10-0-0-64.ec2.internal\",\n",
      "                                    \"PrivateIpAddress\": \"10.0.0.64\"\n",
      "                                }\n",
      "                            ],\n",
      "                            \"SourceDestCheck\": true,\n",
      "                            \"Status\": \"in-use\",\n",
      "                            \"SubnetId\": \"subnet-01b38c922fab586d6\",\n",
      "                            \"VpcId\": \"vpc-0504dde03fbcb3289\",\n",
      "                            \"InterfaceType\": \"interface\"\n",
      "                        }\n",
      "                    ],\n",
      "                    \"RootDeviceName\": \"/dev/xvda\",\n",
      "                    \"RootDeviceType\": \"ebs\",\n",
      "                    \"SecurityGroups\": [\n",
      "                        {\n",
      "                            \"GroupName\": \"launch-wizard-3\",\n",
      "                            \"GroupId\": \"sg-0b913d023ea42e8b6\"\n",
      "                        }\n",
      "                    ],\n",
      "                    \"SourceDestCheck\": true,\n",
      "                    \"VirtualizationType\": \"hvm\",\n",
      "                    \"CpuOptions\": {\n",
      "                        \"CoreCount\": 1,\n",
      "                        \"ThreadsPerCore\": 1\n",
      "                    },\n",
      "                    \"CapacityReservationSpecification\": {\n",
      "                        \"CapacityReservationPreference\": \"open\"\n",
      "                    },\n",
      "                    \"HibernationOptions\": {\n",
      "                        \"Configured\": false\n",
      "                    },\n",
      "                    \"MetadataOptions\": {\n",
      "                        \"State\": \"applied\",\n",
      "                        \"HttpTokens\": \"optional\",\n",
      "                        \"HttpPutResponseHopLimit\": 1,\n",
      "                        \"HttpEndpoint\": \"enabled\"\n",
      "                    }\n",
      "                }\n",
      "            ],\n",
      "            \"OwnerId\": \"868024899531\",\n",
      "            \"ReservationId\": \"r-00c2ee002a218b183\"\n",
      "        }\n",
      "    ]\n",
      "}\n"
     ]
    }
   ],
   "source": [
    "! aws ec2 describe-instances"
   ]
  },
  {
   "cell_type": "code",
   "execution_count": null,
   "metadata": {},
   "outputs": [],
   "source": [
    "import sys\n",
    "! {sys.prefix}/bin/pip install sagemaker_pyspark"
   ]
  },
  {
   "cell_type": "code",
   "execution_count": 4,
   "metadata": {
    "scrolled": true
   },
   "outputs": [],
   "source": [
    "import sagemaker\n",
    "from sagemaker import get_execution_role\n",
    "import sagemaker_pyspark"
   ]
  },
  {
   "cell_type": "code",
   "execution_count": 5,
   "metadata": {},
   "outputs": [
    {
     "name": "stdout",
     "output_type": "stream",
     "text": [
      "arn:aws:iam::868024899531:role/service-role/AmazonSageMaker-ExecutionRole-20200312T110900\n"
     ]
    }
   ],
   "source": [
    "def resolve_sm_role():\n",
    "    client = boto3.client('iam', region_name='us-east-2')\n",
    "    response_roles = client.list_roles(\n",
    "        PathPrefix='/',\n",
    "        # Marker='string',\n",
    "        MaxItems=999\n",
    "    )\n",
    "    for role in response_roles['Roles']:\n",
    "        if role['RoleName'].startswith('AmazonSageMaker-ExecutionRole-'):\n",
    "            return role['Arn']\n",
    "    raise Exception('Could not resolve what should be the SageMaker role to be used')\n",
    "\n",
    "# this is the role created by sagemaker notebook on aws\n",
    "role_arn = resolve_sm_role()\n",
    "print(role_arn)\n",
    "role=role_arn"
   ]
  },
  {
   "cell_type": "code",
   "execution_count": 6,
   "metadata": {
    "scrolled": true
   },
   "outputs": [
    {
     "data": {
      "text/plain": [
       "['/home/ec2-user/anaconda3/envs/python3/lib/python3.6/site-packages/sagemaker_pyspark/jars/aws-java-sdk-sagemaker-1.11.613.jar',\n",
       " '/home/ec2-user/anaconda3/envs/python3/lib/python3.6/site-packages/sagemaker_pyspark/jars/aws-java-sdk-sagemakerruntime-1.11.613.jar',\n",
       " '/home/ec2-user/anaconda3/envs/python3/lib/python3.6/site-packages/sagemaker_pyspark/jars/aws-java-sdk-s3-1.11.613.jar',\n",
       " '/home/ec2-user/anaconda3/envs/python3/lib/python3.6/site-packages/sagemaker_pyspark/jars/hadoop-common-2.8.1.jar',\n",
       " '/home/ec2-user/anaconda3/envs/python3/lib/python3.6/site-packages/sagemaker_pyspark/jars/aws-java-sdk-core-1.11.613.jar',\n",
       " '/home/ec2-user/anaconda3/envs/python3/lib/python3.6/site-packages/sagemaker_pyspark/jars/hadoop-aws-2.8.1.jar',\n",
       " '/home/ec2-user/anaconda3/envs/python3/lib/python3.6/site-packages/sagemaker_pyspark/jars/hadoop-auth-2.8.1.jar',\n",
       " '/home/ec2-user/anaconda3/envs/python3/lib/python3.6/site-packages/sagemaker_pyspark/jars/aws-java-sdk-kms-1.11.613.jar',\n",
       " '/home/ec2-user/anaconda3/envs/python3/lib/python3.6/site-packages/sagemaker_pyspark/jars/hadoop-annotations-2.8.1.jar',\n",
       " '/home/ec2-user/anaconda3/envs/python3/lib/python3.6/site-packages/sagemaker_pyspark/jars/sagemaker-spark_2.11-spark_2.2.0-1.2.8.jar',\n",
       " '/home/ec2-user/anaconda3/envs/python3/lib/python3.6/site-packages/sagemaker_pyspark/jars/aws-java-sdk-sts-1.11.613.jar',\n",
       " '/home/ec2-user/anaconda3/envs/python3/lib/python3.6/site-packages/sagemaker_pyspark/jars/htrace-core4-4.0.1-incubating.jar']"
      ]
     },
     "execution_count": 6,
     "metadata": {},
     "output_type": "execute_result"
    }
   ],
   "source": [
    "# role = get_execution_role()\n",
    "\n",
    "# Configure Spark to use the SageMaker Spark dependency jars\n",
    "jars = sagemaker_pyspark.classpath_jars()\n",
    "jars"
   ]
  },
  {
   "cell_type": "code",
   "execution_count": 7,
   "metadata": {
    "scrolled": true
   },
   "outputs": [
    {
     "data": {
      "text/plain": [
       "'/home/ec2-user/anaconda3/envs/python3/lib/python3.6/site-packages/sagemaker_pyspark/jars/aws-java-sdk-sagemaker-1.11.613.jar:/home/ec2-user/anaconda3/envs/python3/lib/python3.6/site-packages/sagemaker_pyspark/jars/aws-java-sdk-sagemakerruntime-1.11.613.jar:/home/ec2-user/anaconda3/envs/python3/lib/python3.6/site-packages/sagemaker_pyspark/jars/aws-java-sdk-s3-1.11.613.jar:/home/ec2-user/anaconda3/envs/python3/lib/python3.6/site-packages/sagemaker_pyspark/jars/hadoop-common-2.8.1.jar:/home/ec2-user/anaconda3/envs/python3/lib/python3.6/site-packages/sagemaker_pyspark/jars/aws-java-sdk-core-1.11.613.jar:/home/ec2-user/anaconda3/envs/python3/lib/python3.6/site-packages/sagemaker_pyspark/jars/hadoop-aws-2.8.1.jar:/home/ec2-user/anaconda3/envs/python3/lib/python3.6/site-packages/sagemaker_pyspark/jars/hadoop-auth-2.8.1.jar:/home/ec2-user/anaconda3/envs/python3/lib/python3.6/site-packages/sagemaker_pyspark/jars/aws-java-sdk-kms-1.11.613.jar:/home/ec2-user/anaconda3/envs/python3/lib/python3.6/site-packages/sagemaker_pyspark/jars/hadoop-annotations-2.8.1.jar:/home/ec2-user/anaconda3/envs/python3/lib/python3.6/site-packages/sagemaker_pyspark/jars/sagemaker-spark_2.11-spark_2.2.0-1.2.8.jar:/home/ec2-user/anaconda3/envs/python3/lib/python3.6/site-packages/sagemaker_pyspark/jars/aws-java-sdk-sts-1.11.613.jar:/home/ec2-user/anaconda3/envs/python3/lib/python3.6/site-packages/sagemaker_pyspark/jars/htrace-core4-4.0.1-incubating.jar'"
      ]
     },
     "execution_count": 7,
     "metadata": {},
     "output_type": "execute_result"
    }
   ],
   "source": [
    "classpath = \":\".join(sagemaker_pyspark.classpath_jars())\n",
    "classpath"
   ]
  },
  {
   "cell_type": "markdown",
   "metadata": {},
   "source": [
    "## See the SageMaker Spark Github to learn how to connect to EMR from a notebook instance\n",
    "[https://github.com/aws/sagemaker-spark] (https://github.com/aws/sagemaker-spark\n",
    "    "
   ]
  },
  {
   "cell_type": "code",
   "execution_count": 8,
   "metadata": {
    "scrolled": true
   },
   "outputs": [
    {
     "data": {
      "text/html": [
       "\n",
       "            <div>\n",
       "                <p><b>SparkSession - in-memory</b></p>\n",
       "                \n",
       "        <div>\n",
       "            <p><b>SparkContext</b></p>\n",
       "\n",
       "            <p><a href=\"http://sagemaker-nb:4040\">Spark UI</a></p>\n",
       "\n",
       "            <dl>\n",
       "              <dt>Version</dt>\n",
       "                <dd><code>v2.4.4</code></dd>\n",
       "              <dt>Master</dt>\n",
       "                <dd><code>local[*]</code></dd>\n",
       "              <dt>AppName</dt>\n",
       "                <dd><code>pyspark-shell</code></dd>\n",
       "            </dl>\n",
       "        </div>\n",
       "        \n",
       "            </div>\n",
       "        "
      ],
      "text/plain": [
       "<pyspark.sql.session.SparkSession at 0x7f72609fa0b8>"
      ]
     },
     "execution_count": 8,
     "metadata": {},
     "output_type": "execute_result"
    }
   ],
   "source": [
    "# See the SageMaker Spark Github to learn how to connect to EMR from a notebook instance\n",
    "# https://github.com/aws/sagemaker-spark\n",
    "spark = SparkSession.builder.config(\"spark.driver.extraClassPath\", classpath)\\\n",
    "    .master(\"local[*]\").getOrCreate()\n",
    "    \n",
    "spark"
   ]
  },
  {
   "cell_type": "markdown",
   "metadata": {},
   "source": [
    "## Loading the Data\n",
    "\n",
    "Now, we load the MNIST dataset into a Spark Dataframe, which dataset is available in LibSVM format at\n",
    "\n",
    "`s3://sagemaker-sample-data-[region]/spark/mnist/`\n",
    "\n",
    "where `[region]` is replaced with a supported AWS region, such as us-east-1.\n",
    "\n",
    "In order to train and make inferences our input DataFrame must have a column of Doubles (named \"label\" by default) and a column of Vectors of Doubles (named \"features\" by default).\n",
    "\n",
    "Spark's LibSVM DataFrameReader loads a DataFrame already suitable for training and inference.\n",
    "\n",
    "Here, we load into a DataFrame in the SparkSession running on the local Notebook Instance, but you can connect your Notebook Instance to a remote Spark cluster for heavier workloads. Starting from EMR 5.11.0, SageMaker Spark is pre-installed on EMR Spark clusters. For more on connecting your SageMaker Notebook Instance to a remote EMR cluster, please see [this blog post](https://aws.amazon.com/blogs/machine-learning/build-amazon-sagemaker-notebooks-backed-by-spark-in-amazon-emr/)."
   ]
  },
  {
   "cell_type": "code",
   "execution_count": 9,
   "metadata": {},
   "outputs": [
    {
     "data": {
      "text/plain": [
       "'us-east-1'"
      ]
     },
     "execution_count": 9,
     "metadata": {},
     "output_type": "execute_result"
    }
   ],
   "source": [
    "import boto3\n",
    "\n",
    "region = boto3.Session().region_name\n",
    "region"
   ]
  },
  {
   "cell_type": "code",
   "execution_count": 10,
   "metadata": {},
   "outputs": [],
   "source": [
    "spark._jsc.hadoopConfiguration().set('fs.s3a.endpoint', 's3.{}.amazonaws.com'.format(region))"
   ]
  },
  {
   "cell_type": "code",
   "execution_count": 11,
   "metadata": {},
   "outputs": [
    {
     "ename": "Py4JJavaError",
     "evalue": "An error occurred while calling o39.load.\n: java.io.InterruptedIOException: doesBucketExist on sagemaker-sample-data-us-east-1: com.amazonaws.AmazonClientException: No AWS Credentials provided by BasicAWSCredentialsProvider EnvironmentVariableCredentialsProvider SharedInstanceProfileCredentialsProvider : com.amazonaws.SdkClientException: Unable to load credentials from service endpoint\n\tat org.apache.hadoop.fs.s3a.S3AUtils.translateException(S3AUtils.java:125)\n\tat org.apache.hadoop.fs.s3a.S3AFileSystem.verifyBucketExists(S3AFileSystem.java:288)\n\tat org.apache.hadoop.fs.s3a.S3AFileSystem.initialize(S3AFileSystem.java:236)\n\tat org.apache.hadoop.fs.FileSystem.createFileSystem(FileSystem.java:2811)\n\tat org.apache.hadoop.fs.FileSystem.access$200(FileSystem.java:100)\n\tat org.apache.hadoop.fs.FileSystem$Cache.getInternal(FileSystem.java:2848)\n\tat org.apache.hadoop.fs.FileSystem$Cache.get(FileSystem.java:2830)\n\tat org.apache.hadoop.fs.FileSystem.get(FileSystem.java:389)\n\tat org.apache.hadoop.fs.Path.getFileSystem(Path.java:356)\n\tat org.apache.spark.sql.execution.datasources.DataSource$$anonfun$org$apache$spark$sql$execution$datasources$DataSource$$checkAndGlobPathIfNecessary$1.apply(DataSource.scala:547)\n\tat org.apache.spark.sql.execution.datasources.DataSource$$anonfun$org$apache$spark$sql$execution$datasources$DataSource$$checkAndGlobPathIfNecessary$1.apply(DataSource.scala:545)\n\tat scala.collection.TraversableLike$$anonfun$flatMap$1.apply(TraversableLike.scala:241)\n\tat scala.collection.TraversableLike$$anonfun$flatMap$1.apply(TraversableLike.scala:241)\n\tat scala.collection.immutable.List.foreach(List.scala:392)\n\tat scala.collection.TraversableLike$class.flatMap(TraversableLike.scala:241)\n\tat scala.collection.immutable.List.flatMap(List.scala:355)\n\tat org.apache.spark.sql.execution.datasources.DataSource.org$apache$spark$sql$execution$datasources$DataSource$$checkAndGlobPathIfNecessary(DataSource.scala:545)\n\tat org.apache.spark.sql.execution.datasources.DataSource.resolveRelation(DataSource.scala:359)\n\tat org.apache.spark.sql.DataFrameReader.loadV1Source(DataFrameReader.scala:223)\n\tat org.apache.spark.sql.DataFrameReader.load(DataFrameReader.scala:211)\n\tat org.apache.spark.sql.DataFrameReader.load(DataFrameReader.scala:178)\n\tat sun.reflect.NativeMethodAccessorImpl.invoke0(Native Method)\n\tat sun.reflect.NativeMethodAccessorImpl.invoke(NativeMethodAccessorImpl.java:62)\n\tat sun.reflect.DelegatingMethodAccessorImpl.invoke(DelegatingMethodAccessorImpl.java:43)\n\tat java.lang.reflect.Method.invoke(Method.java:498)\n\tat py4j.reflection.MethodInvoker.invoke(MethodInvoker.java:244)\n\tat py4j.reflection.ReflectionEngine.invoke(ReflectionEngine.java:357)\n\tat py4j.Gateway.invoke(Gateway.java:282)\n\tat py4j.commands.AbstractCommand.invokeMethod(AbstractCommand.java:132)\n\tat py4j.commands.CallCommand.execute(CallCommand.java:79)\n\tat py4j.GatewayConnection.run(GatewayConnection.java:238)\n\tat java.lang.Thread.run(Thread.java:748)\nCaused by: com.amazonaws.AmazonClientException: No AWS Credentials provided by BasicAWSCredentialsProvider EnvironmentVariableCredentialsProvider SharedInstanceProfileCredentialsProvider : com.amazonaws.SdkClientException: Unable to load credentials from service endpoint\n\tat org.apache.hadoop.fs.s3a.AWSCredentialProviderList.getCredentials(AWSCredentialProviderList.java:151)\n\tat com.amazonaws.http.AmazonHttpClient$RequestExecutor.getCredentialsFromContext(AmazonHttpClient.java:1225)\n\tat com.amazonaws.http.AmazonHttpClient$RequestExecutor.runBeforeRequestHandlers(AmazonHttpClient.java:801)\n\tat com.amazonaws.http.AmazonHttpClient$RequestExecutor.doExecute(AmazonHttpClient.java:751)\n\tat com.amazonaws.http.AmazonHttpClient$RequestExecutor.executeWithTimer(AmazonHttpClient.java:744)\n\tat com.amazonaws.http.AmazonHttpClient$RequestExecutor.execute(AmazonHttpClient.java:726)\n\tat com.amazonaws.http.AmazonHttpClient$RequestExecutor.access$500(AmazonHttpClient.java:686)\n\tat com.amazonaws.http.AmazonHttpClient$RequestExecutionBuilderImpl.execute(AmazonHttpClient.java:668)\n\tat com.amazonaws.http.AmazonHttpClient.execute(AmazonHttpClient.java:532)\n\tat com.amazonaws.http.AmazonHttpClient.execute(AmazonHttpClient.java:512)\n\tat com.amazonaws.services.s3.AmazonS3Client.invoke(AmazonS3Client.java:4921)\n\tat com.amazonaws.services.s3.AmazonS3Client.invoke(AmazonS3Client.java:4867)\n\tat com.amazonaws.services.s3.AmazonS3Client.headBucket(AmazonS3Client.java:1394)\n\tat com.amazonaws.services.s3.AmazonS3Client.doesBucketExist(AmazonS3Client.java:1333)\n\tat org.apache.hadoop.fs.s3a.S3AFileSystem.verifyBucketExists(S3AFileSystem.java:276)\n\t... 30 more\nCaused by: com.amazonaws.SdkClientException: Unable to load credentials from service endpoint\n\tat com.amazonaws.auth.EC2CredentialsFetcher.handleError(EC2CredentialsFetcher.java:183)\n\tat com.amazonaws.auth.EC2CredentialsFetcher.fetchCredentials(EC2CredentialsFetcher.java:162)\n\tat com.amazonaws.auth.EC2CredentialsFetcher.getCredentials(EC2CredentialsFetcher.java:82)\n\tat com.amazonaws.auth.InstanceProfileCredentialsProvider.getCredentials(InstanceProfileCredentialsProvider.java:172)\n\tat org.apache.hadoop.fs.s3a.AWSCredentialProviderList.getCredentials(AWSCredentialProviderList.java:129)\n\t... 44 more\nCaused by: java.net.SocketTimeoutException: connect timed out\n\tat java.net.PlainSocketImpl.socketConnect(Native Method)\n\tat java.net.AbstractPlainSocketImpl.doConnect(AbstractPlainSocketImpl.java:350)\n\tat java.net.AbstractPlainSocketImpl.connectToAddress(AbstractPlainSocketImpl.java:206)\n\tat java.net.AbstractPlainSocketImpl.connect(AbstractPlainSocketImpl.java:188)\n\tat java.net.SocksSocketImpl.connect(SocksSocketImpl.java:392)\n\tat java.net.Socket.connect(Socket.java:607)\n\tat sun.net.NetworkClient.doConnect(NetworkClient.java:175)\n\tat sun.net.www.http.HttpClient.openServer(HttpClient.java:463)\n\tat sun.net.www.http.HttpClient.openServer(HttpClient.java:558)\n\tat sun.net.www.http.HttpClient.<init>(HttpClient.java:242)\n\tat sun.net.www.http.HttpClient.New(HttpClient.java:339)\n\tat sun.net.www.http.HttpClient.New(HttpClient.java:357)\n\tat sun.net.www.protocol.http.HttpURLConnection.getNewHttpClient(HttpURLConnection.java:1226)\n\tat sun.net.www.protocol.http.HttpURLConnection.plainConnect0(HttpURLConnection.java:1205)\n\tat sun.net.www.protocol.http.HttpURLConnection.plainConnect(HttpURLConnection.java:1056)\n\tat sun.net.www.protocol.http.HttpURLConnection.connect(HttpURLConnection.java:990)\n\tat com.amazonaws.internal.ConnectionUtils.connectToEndpoint(ConnectionUtils.java:54)\n\tat com.amazonaws.internal.EC2CredentialsUtils.readResource(EC2CredentialsUtils.java:113)\n\tat com.amazonaws.internal.EC2CredentialsUtils.readResource(EC2CredentialsUtils.java:82)\n\tat com.amazonaws.auth.InstanceProfileCredentialsProvider$InstanceMetadataCredentialsEndpointProvider.getCredentialsEndpoint(InstanceProfileCredentialsProvider.java:197)\n\tat com.amazonaws.auth.EC2CredentialsFetcher.fetchCredentials(EC2CredentialsFetcher.java:122)\n\t... 47 more\n",
     "output_type": "error",
     "traceback": [
      "\u001b[0;31m\u001b[0m",
      "\u001b[0;31mPy4JJavaError\u001b[0mTraceback (most recent call last)",
      "\u001b[0;32m<ipython-input-11-988cabdfae3b>\u001b[0m in \u001b[0;36m<module>\u001b[0;34m()\u001b[0m\n\u001b[0;32m----> 1\u001b[0;31m \u001b[0mtrainingData\u001b[0m \u001b[0;34m=\u001b[0m \u001b[0mspark\u001b[0m\u001b[0;34m.\u001b[0m\u001b[0mread\u001b[0m\u001b[0;34m.\u001b[0m\u001b[0mformat\u001b[0m\u001b[0;34m(\u001b[0m\u001b[0;34m'libsvm'\u001b[0m\u001b[0;34m)\u001b[0m    \u001b[0;34m.\u001b[0m\u001b[0moption\u001b[0m\u001b[0;34m(\u001b[0m\u001b[0;34m'numFeatures'\u001b[0m\u001b[0;34m,\u001b[0m \u001b[0;34m'784'\u001b[0m\u001b[0;34m)\u001b[0m    \u001b[0;34m.\u001b[0m\u001b[0mload\u001b[0m\u001b[0;34m(\u001b[0m\u001b[0;34m's3a://sagemaker-sample-data-{}/spark/mnist/train/'\u001b[0m\u001b[0;34m.\u001b[0m\u001b[0mformat\u001b[0m\u001b[0;34m(\u001b[0m\u001b[0mregion\u001b[0m\u001b[0;34m)\u001b[0m\u001b[0;34m)\u001b[0m\u001b[0;34m\u001b[0m\u001b[0m\n\u001b[0m\u001b[1;32m      2\u001b[0m \u001b[0;34m\u001b[0m\u001b[0m\n\u001b[1;32m      3\u001b[0m \u001b[0mtrainingData\u001b[0m\u001b[0;34m.\u001b[0m\u001b[0mshow\u001b[0m\u001b[0;34m(\u001b[0m\u001b[0;34m)\u001b[0m\u001b[0;34m\u001b[0m\u001b[0m\n",
      "\u001b[0;32m/usr/local/spark/python/pyspark/sql/readwriter.py\u001b[0m in \u001b[0;36mload\u001b[0;34m(self, path, format, schema, **options)\u001b[0m\n\u001b[1;32m    164\u001b[0m         \u001b[0mself\u001b[0m\u001b[0;34m.\u001b[0m\u001b[0moptions\u001b[0m\u001b[0;34m(\u001b[0m\u001b[0;34m**\u001b[0m\u001b[0moptions\u001b[0m\u001b[0;34m)\u001b[0m\u001b[0;34m\u001b[0m\u001b[0m\n\u001b[1;32m    165\u001b[0m         \u001b[0;32mif\u001b[0m \u001b[0misinstance\u001b[0m\u001b[0;34m(\u001b[0m\u001b[0mpath\u001b[0m\u001b[0;34m,\u001b[0m \u001b[0mbasestring\u001b[0m\u001b[0;34m)\u001b[0m\u001b[0;34m:\u001b[0m\u001b[0;34m\u001b[0m\u001b[0m\n\u001b[0;32m--> 166\u001b[0;31m             \u001b[0;32mreturn\u001b[0m \u001b[0mself\u001b[0m\u001b[0;34m.\u001b[0m\u001b[0m_df\u001b[0m\u001b[0;34m(\u001b[0m\u001b[0mself\u001b[0m\u001b[0;34m.\u001b[0m\u001b[0m_jreader\u001b[0m\u001b[0;34m.\u001b[0m\u001b[0mload\u001b[0m\u001b[0;34m(\u001b[0m\u001b[0mpath\u001b[0m\u001b[0;34m)\u001b[0m\u001b[0;34m)\u001b[0m\u001b[0;34m\u001b[0m\u001b[0m\n\u001b[0m\u001b[1;32m    167\u001b[0m         \u001b[0;32melif\u001b[0m \u001b[0mpath\u001b[0m \u001b[0;32mis\u001b[0m \u001b[0;32mnot\u001b[0m \u001b[0;32mNone\u001b[0m\u001b[0;34m:\u001b[0m\u001b[0;34m\u001b[0m\u001b[0m\n\u001b[1;32m    168\u001b[0m             \u001b[0;32mif\u001b[0m \u001b[0mtype\u001b[0m\u001b[0;34m(\u001b[0m\u001b[0mpath\u001b[0m\u001b[0;34m)\u001b[0m \u001b[0;34m!=\u001b[0m \u001b[0mlist\u001b[0m\u001b[0;34m:\u001b[0m\u001b[0;34m\u001b[0m\u001b[0m\n",
      "\u001b[0;32m/usr/local/spark/python/lib/py4j-0.10.7-src.zip/py4j/java_gateway.py\u001b[0m in \u001b[0;36m__call__\u001b[0;34m(self, *args)\u001b[0m\n\u001b[1;32m   1255\u001b[0m         \u001b[0manswer\u001b[0m \u001b[0;34m=\u001b[0m \u001b[0mself\u001b[0m\u001b[0;34m.\u001b[0m\u001b[0mgateway_client\u001b[0m\u001b[0;34m.\u001b[0m\u001b[0msend_command\u001b[0m\u001b[0;34m(\u001b[0m\u001b[0mcommand\u001b[0m\u001b[0;34m)\u001b[0m\u001b[0;34m\u001b[0m\u001b[0m\n\u001b[1;32m   1256\u001b[0m         return_value = get_return_value(\n\u001b[0;32m-> 1257\u001b[0;31m             answer, self.gateway_client, self.target_id, self.name)\n\u001b[0m\u001b[1;32m   1258\u001b[0m \u001b[0;34m\u001b[0m\u001b[0m\n\u001b[1;32m   1259\u001b[0m         \u001b[0;32mfor\u001b[0m \u001b[0mtemp_arg\u001b[0m \u001b[0;32min\u001b[0m \u001b[0mtemp_args\u001b[0m\u001b[0;34m:\u001b[0m\u001b[0;34m\u001b[0m\u001b[0m\n",
      "\u001b[0;32m/usr/local/spark/python/pyspark/sql/utils.py\u001b[0m in \u001b[0;36mdeco\u001b[0;34m(*a, **kw)\u001b[0m\n\u001b[1;32m     61\u001b[0m     \u001b[0;32mdef\u001b[0m \u001b[0mdeco\u001b[0m\u001b[0;34m(\u001b[0m\u001b[0;34m*\u001b[0m\u001b[0ma\u001b[0m\u001b[0;34m,\u001b[0m \u001b[0;34m**\u001b[0m\u001b[0mkw\u001b[0m\u001b[0;34m)\u001b[0m\u001b[0;34m:\u001b[0m\u001b[0;34m\u001b[0m\u001b[0m\n\u001b[1;32m     62\u001b[0m         \u001b[0;32mtry\u001b[0m\u001b[0;34m:\u001b[0m\u001b[0;34m\u001b[0m\u001b[0m\n\u001b[0;32m---> 63\u001b[0;31m             \u001b[0;32mreturn\u001b[0m \u001b[0mf\u001b[0m\u001b[0;34m(\u001b[0m\u001b[0;34m*\u001b[0m\u001b[0ma\u001b[0m\u001b[0;34m,\u001b[0m \u001b[0;34m**\u001b[0m\u001b[0mkw\u001b[0m\u001b[0;34m)\u001b[0m\u001b[0;34m\u001b[0m\u001b[0m\n\u001b[0m\u001b[1;32m     64\u001b[0m         \u001b[0;32mexcept\u001b[0m \u001b[0mpy4j\u001b[0m\u001b[0;34m.\u001b[0m\u001b[0mprotocol\u001b[0m\u001b[0;34m.\u001b[0m\u001b[0mPy4JJavaError\u001b[0m \u001b[0;32mas\u001b[0m \u001b[0me\u001b[0m\u001b[0;34m:\u001b[0m\u001b[0;34m\u001b[0m\u001b[0m\n\u001b[1;32m     65\u001b[0m             \u001b[0ms\u001b[0m \u001b[0;34m=\u001b[0m \u001b[0me\u001b[0m\u001b[0;34m.\u001b[0m\u001b[0mjava_exception\u001b[0m\u001b[0;34m.\u001b[0m\u001b[0mtoString\u001b[0m\u001b[0;34m(\u001b[0m\u001b[0;34m)\u001b[0m\u001b[0;34m\u001b[0m\u001b[0m\n",
      "\u001b[0;32m/usr/local/spark/python/lib/py4j-0.10.7-src.zip/py4j/protocol.py\u001b[0m in \u001b[0;36mget_return_value\u001b[0;34m(answer, gateway_client, target_id, name)\u001b[0m\n\u001b[1;32m    326\u001b[0m                 raise Py4JJavaError(\n\u001b[1;32m    327\u001b[0m                     \u001b[0;34m\"An error occurred while calling {0}{1}{2}.\\n\"\u001b[0m\u001b[0;34m.\u001b[0m\u001b[0;34m\u001b[0m\u001b[0m\n\u001b[0;32m--> 328\u001b[0;31m                     format(target_id, \".\", name), value)\n\u001b[0m\u001b[1;32m    329\u001b[0m             \u001b[0;32melse\u001b[0m\u001b[0;34m:\u001b[0m\u001b[0;34m\u001b[0m\u001b[0m\n\u001b[1;32m    330\u001b[0m                 raise Py4JError(\n",
      "\u001b[0;31mPy4JJavaError\u001b[0m: An error occurred while calling o39.load.\n: java.io.InterruptedIOException: doesBucketExist on sagemaker-sample-data-us-east-1: com.amazonaws.AmazonClientException: No AWS Credentials provided by BasicAWSCredentialsProvider EnvironmentVariableCredentialsProvider SharedInstanceProfileCredentialsProvider : com.amazonaws.SdkClientException: Unable to load credentials from service endpoint\n\tat org.apache.hadoop.fs.s3a.S3AUtils.translateException(S3AUtils.java:125)\n\tat org.apache.hadoop.fs.s3a.S3AFileSystem.verifyBucketExists(S3AFileSystem.java:288)\n\tat org.apache.hadoop.fs.s3a.S3AFileSystem.initialize(S3AFileSystem.java:236)\n\tat org.apache.hadoop.fs.FileSystem.createFileSystem(FileSystem.java:2811)\n\tat org.apache.hadoop.fs.FileSystem.access$200(FileSystem.java:100)\n\tat org.apache.hadoop.fs.FileSystem$Cache.getInternal(FileSystem.java:2848)\n\tat org.apache.hadoop.fs.FileSystem$Cache.get(FileSystem.java:2830)\n\tat org.apache.hadoop.fs.FileSystem.get(FileSystem.java:389)\n\tat org.apache.hadoop.fs.Path.getFileSystem(Path.java:356)\n\tat org.apache.spark.sql.execution.datasources.DataSource$$anonfun$org$apache$spark$sql$execution$datasources$DataSource$$checkAndGlobPathIfNecessary$1.apply(DataSource.scala:547)\n\tat org.apache.spark.sql.execution.datasources.DataSource$$anonfun$org$apache$spark$sql$execution$datasources$DataSource$$checkAndGlobPathIfNecessary$1.apply(DataSource.scala:545)\n\tat scala.collection.TraversableLike$$anonfun$flatMap$1.apply(TraversableLike.scala:241)\n\tat scala.collection.TraversableLike$$anonfun$flatMap$1.apply(TraversableLike.scala:241)\n\tat scala.collection.immutable.List.foreach(List.scala:392)\n\tat scala.collection.TraversableLike$class.flatMap(TraversableLike.scala:241)\n\tat scala.collection.immutable.List.flatMap(List.scala:355)\n\tat org.apache.spark.sql.execution.datasources.DataSource.org$apache$spark$sql$execution$datasources$DataSource$$checkAndGlobPathIfNecessary(DataSource.scala:545)\n\tat org.apache.spark.sql.execution.datasources.DataSource.resolveRelation(DataSource.scala:359)\n\tat org.apache.spark.sql.DataFrameReader.loadV1Source(DataFrameReader.scala:223)\n\tat org.apache.spark.sql.DataFrameReader.load(DataFrameReader.scala:211)\n\tat org.apache.spark.sql.DataFrameReader.load(DataFrameReader.scala:178)\n\tat sun.reflect.NativeMethodAccessorImpl.invoke0(Native Method)\n\tat sun.reflect.NativeMethodAccessorImpl.invoke(NativeMethodAccessorImpl.java:62)\n\tat sun.reflect.DelegatingMethodAccessorImpl.invoke(DelegatingMethodAccessorImpl.java:43)\n\tat java.lang.reflect.Method.invoke(Method.java:498)\n\tat py4j.reflection.MethodInvoker.invoke(MethodInvoker.java:244)\n\tat py4j.reflection.ReflectionEngine.invoke(ReflectionEngine.java:357)\n\tat py4j.Gateway.invoke(Gateway.java:282)\n\tat py4j.commands.AbstractCommand.invokeMethod(AbstractCommand.java:132)\n\tat py4j.commands.CallCommand.execute(CallCommand.java:79)\n\tat py4j.GatewayConnection.run(GatewayConnection.java:238)\n\tat java.lang.Thread.run(Thread.java:748)\nCaused by: com.amazonaws.AmazonClientException: No AWS Credentials provided by BasicAWSCredentialsProvider EnvironmentVariableCredentialsProvider SharedInstanceProfileCredentialsProvider : com.amazonaws.SdkClientException: Unable to load credentials from service endpoint\n\tat org.apache.hadoop.fs.s3a.AWSCredentialProviderList.getCredentials(AWSCredentialProviderList.java:151)\n\tat com.amazonaws.http.AmazonHttpClient$RequestExecutor.getCredentialsFromContext(AmazonHttpClient.java:1225)\n\tat com.amazonaws.http.AmazonHttpClient$RequestExecutor.runBeforeRequestHandlers(AmazonHttpClient.java:801)\n\tat com.amazonaws.http.AmazonHttpClient$RequestExecutor.doExecute(AmazonHttpClient.java:751)\n\tat com.amazonaws.http.AmazonHttpClient$RequestExecutor.executeWithTimer(AmazonHttpClient.java:744)\n\tat com.amazonaws.http.AmazonHttpClient$RequestExecutor.execute(AmazonHttpClient.java:726)\n\tat com.amazonaws.http.AmazonHttpClient$RequestExecutor.access$500(AmazonHttpClient.java:686)\n\tat com.amazonaws.http.AmazonHttpClient$RequestExecutionBuilderImpl.execute(AmazonHttpClient.java:668)\n\tat com.amazonaws.http.AmazonHttpClient.execute(AmazonHttpClient.java:532)\n\tat com.amazonaws.http.AmazonHttpClient.execute(AmazonHttpClient.java:512)\n\tat com.amazonaws.services.s3.AmazonS3Client.invoke(AmazonS3Client.java:4921)\n\tat com.amazonaws.services.s3.AmazonS3Client.invoke(AmazonS3Client.java:4867)\n\tat com.amazonaws.services.s3.AmazonS3Client.headBucket(AmazonS3Client.java:1394)\n\tat com.amazonaws.services.s3.AmazonS3Client.doesBucketExist(AmazonS3Client.java:1333)\n\tat org.apache.hadoop.fs.s3a.S3AFileSystem.verifyBucketExists(S3AFileSystem.java:276)\n\t... 30 more\nCaused by: com.amazonaws.SdkClientException: Unable to load credentials from service endpoint\n\tat com.amazonaws.auth.EC2CredentialsFetcher.handleError(EC2CredentialsFetcher.java:183)\n\tat com.amazonaws.auth.EC2CredentialsFetcher.fetchCredentials(EC2CredentialsFetcher.java:162)\n\tat com.amazonaws.auth.EC2CredentialsFetcher.getCredentials(EC2CredentialsFetcher.java:82)\n\tat com.amazonaws.auth.InstanceProfileCredentialsProvider.getCredentials(InstanceProfileCredentialsProvider.java:172)\n\tat org.apache.hadoop.fs.s3a.AWSCredentialProviderList.getCredentials(AWSCredentialProviderList.java:129)\n\t... 44 more\nCaused by: java.net.SocketTimeoutException: connect timed out\n\tat java.net.PlainSocketImpl.socketConnect(Native Method)\n\tat java.net.AbstractPlainSocketImpl.doConnect(AbstractPlainSocketImpl.java:350)\n\tat java.net.AbstractPlainSocketImpl.connectToAddress(AbstractPlainSocketImpl.java:206)\n\tat java.net.AbstractPlainSocketImpl.connect(AbstractPlainSocketImpl.java:188)\n\tat java.net.SocksSocketImpl.connect(SocksSocketImpl.java:392)\n\tat java.net.Socket.connect(Socket.java:607)\n\tat sun.net.NetworkClient.doConnect(NetworkClient.java:175)\n\tat sun.net.www.http.HttpClient.openServer(HttpClient.java:463)\n\tat sun.net.www.http.HttpClient.openServer(HttpClient.java:558)\n\tat sun.net.www.http.HttpClient.<init>(HttpClient.java:242)\n\tat sun.net.www.http.HttpClient.New(HttpClient.java:339)\n\tat sun.net.www.http.HttpClient.New(HttpClient.java:357)\n\tat sun.net.www.protocol.http.HttpURLConnection.getNewHttpClient(HttpURLConnection.java:1226)\n\tat sun.net.www.protocol.http.HttpURLConnection.plainConnect0(HttpURLConnection.java:1205)\n\tat sun.net.www.protocol.http.HttpURLConnection.plainConnect(HttpURLConnection.java:1056)\n\tat sun.net.www.protocol.http.HttpURLConnection.connect(HttpURLConnection.java:990)\n\tat com.amazonaws.internal.ConnectionUtils.connectToEndpoint(ConnectionUtils.java:54)\n\tat com.amazonaws.internal.EC2CredentialsUtils.readResource(EC2CredentialsUtils.java:113)\n\tat com.amazonaws.internal.EC2CredentialsUtils.readResource(EC2CredentialsUtils.java:82)\n\tat com.amazonaws.auth.InstanceProfileCredentialsProvider$InstanceMetadataCredentialsEndpointProvider.getCredentialsEndpoint(InstanceProfileCredentialsProvider.java:197)\n\tat com.amazonaws.auth.EC2CredentialsFetcher.fetchCredentials(EC2CredentialsFetcher.java:122)\n\t... 47 more\n"
     ]
    }
   ],
   "source": [
    "trainingData = spark.read.format('libsvm')\\\n",
    "    .option('numFeatures', '784')\\\n",
    "    .load('s3a://sagemaker-sample-data-{}/spark/mnist/train/'.format(region))\n",
    "\n",
    "trainingData.show()"
   ]
  },
  {
   "cell_type": "code",
   "execution_count": null,
   "metadata": {},
   "outputs": [],
   "source": [
    "testData = spark.read.format('libsvm')\\\n",
    "    .option('numFeatures', '784')\\\n",
    "    .load('s3a://sagemaker-sample-data-{}/spark/mnist/test/'.format(region))\n",
    "\n",
    "testData.show()"
   ]
  },
  {
   "cell_type": "markdown",
   "metadata": {},
   "source": [
    "MNIST images are 28x28, resulting in 784 pixels. The dataset consists of images of digits going from 0 to 9, representing 10 classes. \n",
    "\n",
    "In each row:\n",
    "* The `label` column identifies the image's label. For example, if the image of the handwritten number is the digit 5, the label value is 5.\n",
    "* The `features` column stores a vector (`org.apache.spark.ml.linalg.Vector`) of `Double` values. The length of the vector is 784, as each image consists of 784 pixels. Those pixels are the features we will use. \n",
    "\n",
    "\n",
    "\n",
    "As we are interested in clustering the images of digits, the number of pixels represents the feature vector, while the number of classes represents the number of clusters we want to find. "
   ]
  },
  {
   "cell_type": "markdown",
   "metadata": {},
   "source": [
    "## Training with K-Means and Hosting a Model\n",
    "Now we create a KMeansSageMakerEstimator, which uses the KMeans Amazon SageMaker Algorithm to train on our input data, and uses the KMeans Amazon SageMaker model image to host our model.\n",
    "\n",
    "Calling fit() on this estimator will train our model on Amazon SageMaker, and then create an Amazon SageMaker Endpoint to host our model.\n",
    "\n",
    "We can then use the SageMakerModel returned by this call to fit() to transform Dataframes using our hosted model.\n",
    "\n",
    "The following cell runs a training job and creates an endpoint to host the resulting model, so this cell can take up to twenty minutes to complete."
   ]
  },
  {
   "cell_type": "code",
   "execution_count": null,
   "metadata": {},
   "outputs": [],
   "source": [
    "from sagemaker_pyspark import IAMRole\n",
    "from sagemaker_pyspark.algorithms import KMeansSageMakerEstimator\n",
    "from sagemaker_pyspark import RandomNamePolicyFactory\n",
    "\n",
    "# Create K-Means Estimator\n",
    "kmeans_estimator = KMeansSageMakerEstimator(\n",
    "    sagemakerRole = IAMRole(role),\n",
    "    trainingInstanceType = 'ml.m4.xlarge', # Instance type to train K-means on SageMaker\n",
    "    trainingInstanceCount = 1,\n",
    "    endpointInstanceType = 'ml.t2.large', # Instance type to serve model (endpoint) for inference\n",
    "    endpointInitialInstanceCount = 1,\n",
    "    namePolicyFactory = RandomNamePolicyFactory(\"sparksm-1a-\")) # All the resources created are prefixed with sparksm-1\n",
    "\n",
    "# Set parameters for K-Means\n",
    "kmeans_estimator.setFeatureDim(784)\n",
    "kmeans_estimator.setK(10)\n",
    "\n",
    "# Train\n",
    "initialModel = kmeans_estimator.fit(trainingData)"
   ]
  },
  {
   "cell_type": "markdown",
   "metadata": {},
   "source": [
    "To put this `KMeansSageMakerEstimator` back into context, let's look at the below architecture that shows what actually runs on the notebook instance and on SageMaker."
   ]
  },
  {
   "cell_type": "markdown",
   "metadata": {},
   "source": [
    "![Hey](img/sagemaker-spark-kmeans-architecture.png)"
   ]
  },
  {
   "cell_type": "markdown",
   "metadata": {},
   "source": [
    "We'll need the name of the SageMaker endpoint hosting the K-Means model later on. This information can be accessed directly within the `SageMakerModel`. "
   ]
  },
  {
   "cell_type": "code",
   "execution_count": null,
   "metadata": {},
   "outputs": [],
   "source": [
    "initialModelEndpointName = initialModel.endpointName\n",
    "print(initialModelEndpointName)"
   ]
  },
  {
   "cell_type": "markdown",
   "metadata": {},
   "source": [
    "## Inference\n",
    "\n",
    "Now we transform our DataFrame.\n",
    "To do this, we serialize each row's \"features\" Vector of Doubles into a Protobuf format for inference against the Amazon SageMaker Endpoint. We deserialize the Protobuf responses back into our DataFrame. This serialization and deserialization is handled automatically by the `transform()` method:"
   ]
  },
  {
   "cell_type": "code",
   "execution_count": null,
   "metadata": {},
   "outputs": [],
   "source": [
    "# Run inference on the test data and show some results\n",
    "transformedData = initialModel.transform(testData)\n",
    "\n",
    "transformedData.show()"
   ]
  },
  {
   "cell_type": "markdown",
   "metadata": {},
   "source": [
    "How well did the algorithm perform? Let us display the digits from each of the clusters and manually inspect the results:"
   ]
  },
  {
   "cell_type": "code",
   "execution_count": null,
   "metadata": {
    "scrolled": true
   },
   "outputs": [],
   "source": [
    "from pyspark.sql.types import DoubleType\n",
    "import matplotlib.pyplot as plt\n",
    "import numpy as np\n",
    "import string\n",
    "\n",
    "# Helper function to display a digit\n",
    "def showDigit(img, caption='', xlabel='', subplot=None):\n",
    "    if subplot==None:\n",
    "        _,(subplot)=plt.subplots(1,1)\n",
    "    imgr=img.reshape((28,28))\n",
    "    subplot.axes.get_xaxis().set_ticks([])\n",
    "    subplot.axes.get_yaxis().set_ticks([])\n",
    "    plt.title(caption)\n",
    "    plt.xlabel(xlabel)\n",
    "    subplot.imshow(imgr, cmap='gray')\n",
    "    \n",
    "def displayClusters(data):\n",
    "    images = np.array(data.select(\"features\").cache().take(250))\n",
    "    clusters = data.select(\"closest_cluster\").cache().take(250)\n",
    "\n",
    "    for cluster in range(10):\n",
    "        print('\\n\\n\\nCluster {}:'.format(string.ascii_uppercase[cluster]))\n",
    "        digits = [ img for l, img in zip(clusters, images) if int(l.closest_cluster) == cluster ]\n",
    "        height=((len(digits)-1)//5)+1\n",
    "        width=5\n",
    "        plt.rcParams[\"figure.figsize\"] = (width,height)\n",
    "        _, subplots = plt.subplots(height, width)\n",
    "        subplots=np.ndarray.flatten(subplots)\n",
    "        for subplot, image in zip(subplots, digits):\n",
    "            showDigit(image, subplot=subplot)\n",
    "        for subplot in subplots[len(digits):]:\n",
    "            subplot.axis('off')\n",
    "\n",
    "        plt.show()\n",
    "        \n",
    "displayClusters(transformedData)"
   ]
  },
  {
   "cell_type": "markdown",
   "metadata": {},
   "source": [
    "Now that we've seen how to use Spark to load data and SageMaker to train and infer on it, we will look into creating pipelines consisting of multiple algorithms, both from SageMaker-provided algorithms as well as from Spark MLlib. "
   ]
  },
  {
   "cell_type": "markdown",
   "metadata": {},
   "source": [
    "## Re-using existing endpoints or models to create `SageMakerModel`\n",
    "\n",
    "SageMaker Spark supports connecting a `SageMakerModel` to an existing SageMaker endpoint, or to an Endpoint created by reference to model data in S3, or to a previously completed Training Job.\n",
    "\n",
    "This allows you to use SageMaker Spark just for model hosting and inference on Spark-scale DataFrames without running a new Training Job.\n",
    "\n",
    "### Endpoint re-use\n",
    "\n",
    "Here we will connect to the initial endpoint we created by using it's unique name. The endpoint name can either be retrieved by the console or in in the `endpointName` parameter of the model you created. In our case, we saved this early on in a variable by accessing the parameter."
   ]
  },
  {
   "cell_type": "code",
   "execution_count": null,
   "metadata": {},
   "outputs": [],
   "source": [
    "ENDPOINT_NAME = initialModelEndpointName\n",
    "print(ENDPOINT_NAME)"
   ]
  },
  {
   "cell_type": "markdown",
   "metadata": {},
   "source": [
    "Once you have the name of the endpoint, we need to make sure that no endpoint will be created as we are attaching to an existing endpoint. This is done using `endpointCreationPolicy` field with a value of `EndpointCreationPolicy.DO_NOT_CREATE`. As we are using an endpoint serving a K-Means model, we also need to use the `KMeansProtobufResponseRowDeserializer` so that the output of the endpoint on SageMaker will be deserialized in the right way and passed on back to Spark in a DataFrame with the right columns. "
   ]
  },
  {
   "cell_type": "code",
   "execution_count": null,
   "metadata": {},
   "outputs": [],
   "source": [
    "from sagemaker_pyspark import SageMakerModel\n",
    "from sagemaker_pyspark import EndpointCreationPolicy\n",
    "from sagemaker_pyspark.transformation.serializers import ProtobufRequestRowSerializer\n",
    "from sagemaker_pyspark.transformation.deserializers import KMeansProtobufResponseRowDeserializer\n",
    "\n",
    "attachedModel = SageMakerModel(\n",
    "    existingEndpointName = ENDPOINT_NAME,\n",
    "    endpointCreationPolicy = EndpointCreationPolicy.DO_NOT_CREATE,\n",
    "    endpointInstanceType = None, # Required\n",
    "    endpointInitialInstanceCount = None, # Required\n",
    "    requestRowSerializer = ProtobufRequestRowSerializer(featuresColumnName = \"features\"), # Optional: already default value\n",
    "    responseRowDeserializer = KMeansProtobufResponseRowDeserializer( # Optional: already default values\n",
    "      distance_to_cluster_column_name = \"distance_to_cluster\",\n",
    "      closest_cluster_column_name = \"closest_cluster\")\n",
    ")"
   ]
  },
  {
   "cell_type": "markdown",
   "metadata": {},
   "source": [
    "As the data we are passing through the model is using the default columns naming for both the input to the model (`features`) and for the ouput of the model (`distance_to_cluster_column_name` and `closest_cluster_column_name`), we do not need to specify the names of the columns in the serializer and deserializer. If your column naming is different, it's possible to define the name of the columns as shown above in the `requestRowSerializer` and `responseRowDeserializer`. "
   ]
  },
  {
   "cell_type": "markdown",
   "metadata": {},
   "source": [
    "It is also possible to use the `SageMakerModel.fromEndpoint` method to perform the same as above. "
   ]
  },
  {
   "cell_type": "code",
   "execution_count": null,
   "metadata": {},
   "outputs": [],
   "source": [
    "transformedData2 = attachedModel.transform(testData)\n",
    "transformedData2.show()"
   ]
  },
  {
   "cell_type": "markdown",
   "metadata": {},
   "source": [
    "### Create model and endpoint from model data\n",
    "\n",
    "You can create a SageMakerModel and an Endpoint by referring directly to your model data in S3. To do this, you need the path to where the model is saved (in our case on S3), as well as the role and the inference image to use. In our case, we use the model data from the initial model, consisting of a simple K-Means model. We can retrieve the necessary information from the model variable, or through the console. "
   ]
  },
  {
   "cell_type": "code",
   "execution_count": null,
   "metadata": {},
   "outputs": [],
   "source": [
    "from sagemaker_pyspark import S3DataPath\n",
    "\n",
    "MODEL_S3_PATH = S3DataPath(initialModel.modelPath.bucket, initialModel.modelPath.objectPath)\n",
    "MODEL_ROLE_ARN = initialModel.modelExecutionRoleARN\n",
    "MODEL_IMAGE_PATH = initialModel.modelImage\n",
    "\n",
    "print(MODEL_S3_PATH.bucket + MODEL_S3_PATH.objectPath)\n",
    "print(MODEL_ROLE_ARN)\n",
    "print(MODEL_IMAGE_PATH)"
   ]
  },
  {
   "cell_type": "markdown",
   "metadata": {},
   "source": [
    "Similar to how we created a model from a running endpoint, we specify the model data information using `modelPath`, `modelExecutionRoleARN`, `modelImage`. This method is more akin to creating a `SageMakerEstimator`, where among others you specify the endpoint information. "
   ]
  },
  {
   "cell_type": "code",
   "execution_count": null,
   "metadata": {},
   "outputs": [],
   "source": [
    "from sagemaker_pyspark import RandomNamePolicy\n",
    "\n",
    "retrievedModel = SageMakerModel(\n",
    "    modelPath = MODEL_S3_PATH,\n",
    "    modelExecutionRoleARN = MODEL_ROLE_ARN,\n",
    "    modelImage = MODEL_IMAGE_PATH,\n",
    "    endpointInstanceType = \"ml.t2.medium\",\n",
    "    endpointInitialInstanceCount = 1,\n",
    "    requestRowSerializer = ProtobufRequestRowSerializer(), \n",
    "    responseRowDeserializer = KMeansProtobufResponseRowDeserializer(),\n",
    "    namePolicy = RandomNamePolicy(\"sparksm-1b-\"), \n",
    "    endpointCreationPolicy = EndpointCreationPolicy.CREATE_ON_TRANSFORM\n",
    ")"
   ]
  },
  {
   "cell_type": "markdown",
   "metadata": {},
   "source": [
    "It is also possible to use the `SageMakerModel.fromModelS3Path` method that takes the same parameters and produces the same model. "
   ]
  },
  {
   "cell_type": "code",
   "execution_count": null,
   "metadata": {},
   "outputs": [],
   "source": [
    "transformedData3 = retrievedModel.transform(testData)\n",
    "transformedData3.show()"
   ]
  },
  {
   "cell_type": "markdown",
   "metadata": {},
   "source": [
    "### Create model and endpoint from job training data\n",
    "\n",
    "You can create a SageMakerModel and an Endpoint by referring to a previously-completed training job. Only difference with the model data from S3 is that instead of providing the model data, you provide the `trainingJobName`. "
   ]
  },
  {
   "cell_type": "code",
   "execution_count": null,
   "metadata": {
    "tags": [
     "parameters"
    ]
   },
   "outputs": [],
   "source": [
    "TRAINING_JOB_NAME = \"<YOUR_TRAINING_JOB_NAME>\"\n",
    "MODEL_ROLE_ARN = initialModel.modelExecutionRoleARN\n",
    "MODEL_IMAGE_PATH = initialModel.modelImage"
   ]
  },
  {
   "cell_type": "code",
   "execution_count": null,
   "metadata": {},
   "outputs": [],
   "source": [
    "modelFromJob = SageMakerModel.fromTrainingJob(\n",
    "    trainingJobName = TRAINING_JOB_NAME,\n",
    "    modelExecutionRoleARN = MODEL_ROLE_ARN,\n",
    "    modelImage = MODEL_IMAGE_PATH,\n",
    "    endpointInstanceType = \"ml.t2.medium\",\n",
    "    endpointInitialInstanceCount = 1,\n",
    "    requestRowSerializer = ProtobufRequestRowSerializer(), \n",
    "    responseRowDeserializer = KMeansProtobufResponseRowDeserializer(),\n",
    "    namePolicy = RandomNamePolicy(\"sparksm-1c-\"),\n",
    "    endpointCreationPolicy = EndpointCreationPolicy.CREATE_ON_TRANSFORM\n",
    ")"
   ]
  },
  {
   "cell_type": "code",
   "execution_count": null,
   "metadata": {},
   "outputs": [],
   "source": [
    "transformedData4 = modelFromJob.transform(testData)\n",
    "transformedData4.show()"
   ]
  },
  {
   "cell_type": "markdown",
   "metadata": {},
   "source": [
    "## Clean-up"
   ]
  },
  {
   "cell_type": "markdown",
   "metadata": {},
   "source": [
    "Since we don't need to make any more inferences, now we delete the resources (endpoints, models, configurations, etc):"
   ]
  },
  {
   "cell_type": "code",
   "execution_count": null,
   "metadata": {},
   "outputs": [],
   "source": [
    "# Delete the resources\n",
    "from sagemaker_pyspark import SageMakerResourceCleanup\n",
    "\n",
    "def cleanUp(model):\n",
    "    resource_cleanup = SageMakerResourceCleanup(model.sagemakerClient)\n",
    "    resource_cleanup.deleteResources(model.getCreatedResources())\n",
    "\n",
    "# Don't forget to include any models or pipeline models that you created in the notebook\n",
    "models = [initialModel, retrievedModel, modelFromJob]\n",
    "\n",
    "# Delete regular SageMakerModels\n",
    "for m in models:\n",
    "    cleanUp(m)"
   ]
  },
  {
   "cell_type": "markdown",
   "metadata": {},
   "source": [
    "## More on SageMaker Spark\n",
    "\n",
    "The SageMaker Spark Github repository has more about SageMaker Spark, including how to use SageMaker Spark using the Scala SDK: https://github.com/aws/sagemaker-spark\n"
   ]
  }
 ],
 "metadata": {
  "celltoolbar": "Tags",
  "kernelspec": {
   "display_name": "conda_python3",
   "language": "python",
   "name": "conda_python3"
  },
  "language_info": {
   "codemirror_mode": {
    "name": "ipython",
    "version": 3
   },
   "file_extension": ".py",
   "mimetype": "text/x-python",
   "name": "python",
   "nbconvert_exporter": "python",
   "pygments_lexer": "ipython3",
   "version": "3.6.5"
  },
  "notice": "Copyright 2018 Amazon.com, Inc. or its affiliates. All Rights Reserved.  Licensed under the Apache License, Version 2.0 (the \"License\"). You may not use this file except in compliance with the License. A copy of the License is located at http://aws.amazon.com/apache2.0/ or in the \"license\" file accompanying this file. This file is distributed on an \"AS IS\" BASIS, WITHOUT WARRANTIES OR CONDITIONS OF ANY KIND, either express or implied. See the License for the specific language governing permissions and limitations under the License."
 },
 "nbformat": 4,
 "nbformat_minor": 4
}
