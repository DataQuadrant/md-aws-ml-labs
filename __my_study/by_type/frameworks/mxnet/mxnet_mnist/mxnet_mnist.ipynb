{
 "cells": [
  {
   "cell_type": "markdown",
   "execution_count": null,
   "metadata": {},
   "outputs": [],
   "source": [
    "# Training and hosting SageMaker Models using the Apache MXNet Module API\n",
    "\n",
    "The [SageMaker Python SDK](https://sagemaker.readthedocs.io/en/stable) makes it easy to train and deploy Apache MXNet models. In this example, we train a simple neural network using the Apache MXNet [Module API](https://mxnet.apache.org/api/python/module/module.html) and the MNIST dataset. The MNIST dataset is widely used for handwritten digit classification, and consists of 70,000 labeled 28x28 pixel grayscale images of hand-written digits. The dataset is split into 60,000 training images and 10,000 test images. There are 10 classes (one for each of the 10 digits). The task at hand is to train a model using the 60,000 training images and subsequently test its classification accuracy on the 10,000 test images.\n",
    "\n",
    "### Setup\n",
    "\n",
    "First we define a few variables that are needed later in this example."
   ]
  },
  {
   "cell_type": "code",
   "execution_count": 1,
   "metadata": {},
   "outputs": [],
   "source": [
    "from sagemaker import get_execution_role\n",
    "from sagemaker.session import Session\n",
    "\n",
    "# S3 bucket for saving code and model artifacts.\n",
    "# Feel free to specify a different bucket here if you wish.\n",
    "# bucket = Session().default_bucket()\n",
    "bucket = 'md-labs-bucket'\n",
    "\n",
    "# Bucket location where your custom code will be saved in the tar.gz format.\n",
    "custom_code_upload_location = 's3://{}/md-labs-mxnet-framework/code'.format(bucket)\n",
    "\n",
    "# Bucket location where results of model training are saved.\n",
    "model_artifacts_location = 's3://{}/md-labs-mxnet-framework/artifacts'.format(bucket)\n",
    "\n",
    "# IAM execution role that gives SageMaker access to resources in your AWS account.\n",
    "# We can use the SageMaker Python SDK to get the role from our notebook environment. \n",
    "# role = get_execution_role()\n",
    "role = 'arn:aws:iam::868024899531:role/service-role/AmazonSageMaker-ExecutionRole-20200530T112594'"
   ]
  },
  {
   "cell_type": "markdown",
   "execution_count": null,
   "metadata": {},
   "outputs": [],
   "source": [
    "### The training script\n",
    "\n",
    "The `mnist.py` script provides all the code we need for training and hosting a SageMaker model. The script also checkpoints the model at the end of every epoch and saves the model graph, params and optimizer state in the folder `/opt/ml/checkpoints`. If the folder path does not exist then it skips checkpointing. The script we use is adaptated from Apache MXNet [MNIST tutorial](https://mxnet.incubator.apache.org/tutorials/python/mnist.html).\n",
    "\n"
   ]
  },
  {
   "cell_type": "code",
   "execution_count": null,
   "metadata": {},
   "outputs": [],
   "source": [
    "!pygmentize mnist.py"
   ]
  },
  {
   "cell_type": "markdown",
   "execution_count": null,
   "metadata": {},
   "outputs": [],
   "source": [
    "### SageMaker's MXNet estimator class"
   ]
  },
  {
   "cell_type": "markdown",
   "execution_count": null,
   "metadata": {},
   "outputs": [],
   "source": [
    "The SageMaker ```MXNet``` estimator allows us to run single machine or distributed training in SageMaker, using CPU or GPU-based instances.\n",
    "\n",
    "When we create the estimator, we pass in the filename of our training script, the name of our IAM execution role, and the S3 locations we defined in the setup section. We also provide a few other parameters. ``train_instance_count`` and ``train_instance_type`` determine the number and type of SageMaker instances that will be used for the training job. The ``hyperparameters`` parameter is a ``dict`` of values that will be passed to your training script -- you can see how to access these values in the ``mnist.py`` script above.\n",
    "\n",
    "For this example, we will choose one ``ml.m4.xlarge`` instance."
   ]
  },
  {
   "cell_type": "code",
   "execution_count": 2,
   "metadata": {},
   "outputs": [],
   "source": [
    "from sagemaker.mxnet import MXNet\n",
    "\n",
    "mnist_estimator = MXNet(entry_point='mnist.py',\n",
    "                        role=role,\n",
    "                        output_path=model_artifacts_location,\n",
    "                        code_location=custom_code_upload_location,\n",
    "                        train_instance_count=1,\n",
    "                        train_instance_type='ml.m4.xlarge',\n",
    "                        framework_version='1.4.1',\n",
    "                        py_version='py3',\n",
    "                        distributions={'parameter_server': {'enabled': True}},\n",
    "                        hyperparameters={'learning-rate': 0.1})"
   ]
  },
  {
   "cell_type": "markdown",
   "execution_count": null,
   "metadata": {},
   "outputs": [],
   "source": [
    "### Running the Training Job"
   ]
  },
  {
   "cell_type": "markdown",
   "execution_count": null,
   "metadata": {},
   "outputs": [],
   "source": [
    "After we've constructed our MXNet object, we can fit it using data stored in S3. Below we run SageMaker training on two input channels: **train** and **test**.\n",
    "\n",
    "During training, SageMaker makes this data stored in S3 available in the local filesystem where the mnist script is running. The ```mnist.py``` script simply loads the train and test data from disk."
   ]
  },
  {
   "cell_type": "code",
   "execution_count": 3,
   "metadata": {},
   "outputs": [
    {
     "name": "stdout",
     "output_type": "stream",
     "text": "2020-06-03 15:07:14 Starting - Starting the training job...\n2020-06-03 15:07:17 Starting - Launching requested ML instances......\n2020-06-03 15:08:22 Starting - Preparing the instances for training...\n2020-06-03 15:09:11 Downloading - Downloading input data...\n2020-06-03 15:09:35 Training - Downloading the training image..\u001b[34m2020-06-03 15:09:59,077 sagemaker-containers INFO     Imported framework sagemaker_mxnet_container.training\u001b[0m\n\u001b[34m2020-06-03 15:09:59,081 sagemaker-containers INFO     No GPUs detected (normal if no gpus installed)\u001b[0m\n\u001b[34m2020-06-03 15:09:59,095 sagemaker_mxnet_container.training INFO     MXNet training environment: {'SM_HOSTS': '[\"algo-1\"]', 'SM_NETWORK_INTERFACE_NAME': 'eth0', 'SM_HPS': '{\"learning-rate\":0.1}', 'SM_USER_ENTRY_POINT': 'mnist.py', 'SM_FRAMEWORK_PARAMS': '{\"sagemaker_parameter_server_enabled\":true}', 'SM_RESOURCE_CONFIG': '{\"current_host\":\"algo-1\",\"hosts\":[\"algo-1\"],\"network_interface_name\":\"eth0\"}', 'SM_INPUT_DATA_CONFIG': '{\"test\":{\"RecordWrapperType\":\"None\",\"S3DistributionType\":\"FullyReplicated\",\"TrainingInputMode\":\"File\"},\"train\":{\"RecordWrapperType\":\"None\",\"S3DistributionType\":\"FullyReplicated\",\"TrainingInputMode\":\"File\"}}', 'SM_OUTPUT_DATA_DIR': '/opt/ml/output/data', 'SM_CHANNELS': '[\"test\",\"train\"]', 'SM_CURRENT_HOST': 'algo-1', 'SM_MODULE_NAME': 'mnist', 'SM_LOG_LEVEL': '20', 'SM_FRAMEWORK_MODULE': 'sagemaker_mxnet_container.training:main', 'SM_INPUT_DIR': '/opt/ml/input', 'SM_INPUT_CONFIG_DIR': '/opt/ml/input/config', 'SM_OUTPUT_DIR': '/opt/ml/output', 'SM_NUM_CPUS': '4', 'SM_NUM_GPUS': '0', 'SM_MODEL_DIR': '/opt/ml/model', 'SM_MODULE_DIR': 's3://md-labs-bucket/md-labs-mxnet-framework/code/mxnet-training-2020-06-03-15-07-13-979/source/sourcedir.tar.gz', 'SM_TRAINING_ENV': '{\"additional_framework_parameters\":{\"sagemaker_parameter_server_enabled\":true},\"channel_input_dirs\":{\"test\":\"/opt/ml/input/data/test\",\"train\":\"/opt/ml/input/data/train\"},\"current_host\":\"algo-1\",\"framework_module\":\"sagemaker_mxnet_container.training:main\",\"hosts\":[\"algo-1\"],\"hyperparameters\":{\"learning-rate\":0.1},\"input_config_dir\":\"/opt/ml/input/config\",\"input_data_config\":{\"test\":{\"RecordWrapperType\":\"None\",\"S3DistributionType\":\"FullyReplicated\",\"TrainingInputMode\":\"File\"},\"train\":{\"RecordWrapperType\":\"None\",\"S3DistributionType\":\"FullyReplicated\",\"TrainingInputMode\":\"File\"}},\"input_dir\":\"/opt/ml/input\",\"is_master\":true,\"job_name\":\"mxnet-training-2020-06-03-15-07-13-979\",\"log_level\":20,\"master_hostname\":\"algo-1\",\"model_dir\":\"/opt/ml/model\",\"module_dir\":\"s3://md-labs-bucket/md-labs-mxnet-framework/code/mxnet-training-2020-06-03-15-07-13-979/source/sourcedir.tar.gz\",\"module_name\":\"mnist\",\"network_interface_name\":\"eth0\",\"num_cpus\":4,\"num_gpus\":0,\"output_data_dir\":\"/opt/ml/output/data\",\"output_dir\":\"/opt/ml/output\",\"output_intermediate_dir\":\"/opt/ml/output/intermediate\",\"resource_config\":{\"current_host\":\"algo-1\",\"hosts\":[\"algo-1\"],\"network_interface_name\":\"eth0\"},\"user_entry_point\":\"mnist.py\"}', 'SM_USER_ARGS': '[\"--learning-rate\",\"0.1\"]', 'SM_OUTPUT_INTERMEDIATE_DIR': '/opt/ml/output/intermediate', 'SM_CHANNEL_TEST': '/opt/ml/input/data/test', 'SM_CHANNEL_TRAIN': '/opt/ml/input/data/train', 'SM_HP_LEARNING-RATE': '0.1'}\u001b[0m\n\u001b[34m2020-06-03 15:09:59,101 sagemaker_mxnet_container.training INFO     Starting distributed training task\u001b[0m\n\u001b[34m2020-06-03 15:09:59,418 sagemaker-containers INFO     Module mnist does not provide a setup.py. \u001b[0m\n\u001b[34mGenerating setup.py\u001b[0m\n\u001b[34m2020-06-03 15:09:59,419 sagemaker-containers INFO     Generating setup.cfg\u001b[0m\n\u001b[34m2020-06-03 15:09:59,419 sagemaker-containers INFO     Generating MANIFEST.in\u001b[0m\n\u001b[34m2020-06-03 15:09:59,419 sagemaker-containers INFO     Installing module with the following command:\u001b[0m\n\u001b[34m/usr/local/bin/python3.6 -m pip install -U . \u001b[0m\n\u001b[34mProcessing /opt/ml/code\u001b[0m\n\u001b[34mInstalling collected packages: mnist\n  Running setup.py install for mnist: started\n    Running setup.py install for mnist: finished with status 'done'\u001b[0m\n\u001b[34mSuccessfully installed mnist-1.0.0\u001b[0m\n\u001b[34mWARNING: You are using pip version 19.1.1, however version 20.1.1 is available.\u001b[0m\n\u001b[34mYou should consider upgrading via the 'pip install --upgrade pip' command.\u001b[0m\n\u001b[34m2020-06-03 15:10:01,771 sagemaker-containers INFO     No GPUs detected (normal if no gpus installed)\u001b[0m\n\u001b[34m2020-06-03 15:10:01,787 sagemaker-containers INFO     Invoking user script\n\u001b[0m\n\u001b[34mTraining Env:\n\u001b[0m\n\u001b[34m{\n    \"additional_framework_parameters\": {\n        \"sagemaker_parameter_server_enabled\": true\n    },\n    \"channel_input_dirs\": {\n        \"test\": \"/opt/ml/input/data/test\",\n        \"train\": \"/opt/ml/input/data/train\"\n    },\n    \"current_host\": \"algo-1\",\n    \"framework_module\": \"sagemaker_mxnet_container.training:main\",\n    \"hosts\": [\n        \"algo-1\"\n    ],\n    \"hyperparameters\": {\n        \"learning-rate\": 0.1\n    },\n    \"input_config_dir\": \"/opt/ml/input/config\",\n    \"input_data_config\": {\n        \"test\": {\n            \"TrainingInputMode\": \"File\",\n            \"S3DistributionType\": \"FullyReplicated\",\n            \"RecordWrapperType\": \"None\"\n        },\n        \"train\": {\n            \"TrainingInputMode\": \"File\",\n            \"S3DistributionType\": \"FullyReplicated\",\n            \"RecordWrapperType\": \"None\"\n        }\n    },\n    \"input_dir\": \"/opt/ml/input\",\n    \"is_master\": true,\n    \"job_name\": \"mxnet-training-2020-06-03-15-07-13-979\",\n    \"log_level\": 20,\n    \"master_hostname\": \"algo-1\",\n    \"model_dir\": \"/opt/ml/model\",\n    \"module_dir\": \"s3://md-labs-bucket/md-labs-mxnet-framework/code/mxnet-training-2020-06-03-15-07-13-979/source/sourcedir.tar.gz\",\n    \"module_name\": \"mnist\",\n    \"network_interface_name\": \"eth0\",\n    \"num_cpus\": 4,\n    \"num_gpus\": 0,\n    \"output_data_dir\": \"/opt/ml/output/data\",\n    \"output_dir\": \"/opt/ml/output\",\n    \"output_intermediate_dir\": \"/opt/ml/output/intermediate\",\n    \"resource_config\": {\n        \"current_host\": \"algo-1\",\n        \"hosts\": [\n            \"algo-1\"\n        ],\n        \"network_interface_name\": \"eth0\"\n    },\n    \"user_entry_point\": \"mnist.py\"\u001b[0m\n\u001b[34m}\n\u001b[0m\n\u001b[34mEnvironment variables:\n\u001b[0m\n\u001b[34mSM_HOSTS=[\"algo-1\"]\u001b[0m\n\u001b[34mSM_NETWORK_INTERFACE_NAME=eth0\u001b[0m\n\u001b[34mSM_HPS={\"learning-rate\":0.1}\u001b[0m\n\u001b[34mSM_USER_ENTRY_POINT=mnist.py\u001b[0m\n\u001b[34mSM_FRAMEWORK_PARAMS={\"sagemaker_parameter_server_enabled\":true}\u001b[0m\n\u001b[34mSM_RESOURCE_CONFIG={\"current_host\":\"algo-1\",\"hosts\":[\"algo-1\"],\"network_interface_name\":\"eth0\"}\u001b[0m\n\u001b[34mSM_INPUT_DATA_CONFIG={\"test\":{\"RecordWrapperType\":\"None\",\"S3DistributionType\":\"FullyReplicated\",\"TrainingInputMode\":\"File\"},\"train\":{\"RecordWrapperType\":\"None\",\"S3DistributionType\":\"FullyReplicated\",\"TrainingInputMode\":\"File\"}}\u001b[0m\n\u001b[34mSM_OUTPUT_DATA_DIR=/opt/ml/output/data\u001b[0m\n\u001b[34mSM_CHANNELS=[\"test\",\"train\"]\u001b[0m\n\u001b[34mSM_CURRENT_HOST=algo-1\u001b[0m\n\u001b[34mSM_MODULE_NAME=mnist\u001b[0m\n\u001b[34mSM_LOG_LEVEL=20\u001b[0m\n\u001b[34mSM_FRAMEWORK_MODULE=sagemaker_mxnet_container.training:main\u001b[0m\n\u001b[34mSM_INPUT_DIR=/opt/ml/input\u001b[0m\n\u001b[34mSM_INPUT_CONFIG_DIR=/opt/ml/input/config\u001b[0m\n\u001b[34mSM_OUTPUT_DIR=/opt/ml/output\u001b[0m\n\u001b[34mSM_NUM_CPUS=4\u001b[0m\n\u001b[34mSM_NUM_GPUS=0\u001b[0m\n\u001b[34mSM_MODEL_DIR=/opt/ml/model\u001b[0m\n\u001b[34mSM_MODULE_DIR=s3://md-labs-bucket/md-labs-mxnet-framework/code/mxnet-training-2020-06-03-15-07-13-979/source/sourcedir.tar.gz\u001b[0m\n\u001b[34mSM_TRAINING_ENV={\"additional_framework_parameters\":{\"sagemaker_parameter_server_enabled\":true},\"channel_input_dirs\":{\"test\":\"/opt/ml/input/data/test\",\"train\":\"/opt/ml/input/data/train\"},\"current_host\":\"algo-1\",\"framework_module\":\"sagemaker_mxnet_container.training:main\",\"hosts\":[\"algo-1\"],\"hyperparameters\":{\"learning-rate\":0.1},\"input_config_dir\":\"/opt/ml/input/config\",\"input_data_config\":{\"test\":{\"RecordWrapperType\":\"None\",\"S3DistributionType\":\"FullyReplicated\",\"TrainingInputMode\":\"File\"},\"train\":{\"RecordWrapperType\":\"None\",\"S3DistributionType\":\"FullyReplicated\",\"TrainingInputMode\":\"File\"}},\"input_dir\":\"/opt/ml/input\",\"is_master\":true,\"job_name\":\"mxnet-training-2020-06-03-15-07-13-979\",\"log_level\":20,\"master_hostname\":\"algo-1\",\"model_dir\":\"/opt/ml/model\",\"module_dir\":\"s3://md-labs-bucket/md-labs-mxnet-framework/code/mxnet-training-2020-06-03-15-07-13-979/source/sourcedir.tar.gz\",\"module_name\":\"mnist\",\"network_interface_name\":\"eth0\",\"num_cpus\":4,\"num_gpus\":0,\"output_data_dir\":\"/opt/ml/output/data\",\"output_dir\":\"/opt/ml/output\",\"output_intermediate_dir\":\"/opt/ml/output/intermediate\",\"resource_config\":{\"current_host\":\"algo-1\",\"hosts\":[\"algo-1\"],\"network_interface_name\":\"eth0\"},\"user_entry_point\":\"mnist.py\"}\u001b[0m\n\u001b[34mSM_USER_ARGS=[\"--learning-rate\",\"0.1\"]\u001b[0m\n\u001b[34mSM_OUTPUT_INTERMEDIATE_DIR=/opt/ml/output/intermediate\u001b[0m\n\u001b[34mSM_CHANNEL_TEST=/opt/ml/input/data/test\u001b[0m\n\u001b[34mSM_CHANNEL_TRAIN=/opt/ml/input/data/train\u001b[0m\n\u001b[34mSM_HP_LEARNING-RATE=0.1\u001b[0m\n\u001b[34mPYTHONPATH=/usr/local/bin:/usr/local/lib/python36.zip:/usr/local/lib/python3.6:/usr/local/lib/python3.6/lib-dynload:/usr/local/lib/python3.6/site-packages\n\u001b[0m\n\u001b[34mInvoking script with the following command:\n\u001b[0m\n\u001b[34m/usr/local/bin/python3.6 -m mnist --learning-rate 0.1\n\n\u001b[0m\n\u001b[34mINFO:root:Epoch[0] Batch [0-100]#011Speed: 46433.33 samples/sec#011accuracy=0.113168\u001b[0m\n\u001b[34mINFO:root:Epoch[0] Batch [100-200]#011Speed: 51311.49 samples/sec#011accuracy=0.109700\u001b[0m\n\u001b[34mINFO:root:Epoch[0] Batch [200-300]#011Speed: 56247.51 samples/sec#011accuracy=0.113200\u001b[0m\n\u001b[34mINFO:root:Epoch[0] Batch [300-400]#011Speed: 59152.69 samples/sec#011accuracy=0.108800\u001b[0m\n\u001b[34mINFO:root:Epoch[0] Batch [400-500]#011Speed: 59921.20 samples/sec#011accuracy=0.115600\u001b[0m\n\u001b[34mINFO:root:Epoch[0] Train-accuracy=0.132917\u001b[0m\n\u001b[34mINFO:root:Epoch[0] Time cost=1.139\u001b[0m\n\u001b[34mINFO:root:Epoch[0] Validation-accuracy=0.340900\u001b[0m\n\u001b[34mINFO:root:Epoch[1] Batch [0-100]#011Speed: 54133.18 samples/sec#011accuracy=0.472178\u001b[0m\n\u001b[34mINFO:root:Epoch[1] Batch [100-200]#011Speed: 52596.25 samples/sec#011accuracy=0.675900\u001b[0m\n\u001b[34mINFO:root:Epoch[1] Batch [200-300]#011Speed: 56675.57 samples/sec#011accuracy=0.767300\u001b[0m\n\n2020-06-03 15:09:58 Training - Training image download completed. Training in progress.\u001b[34mINFO:root:Epoch[1] Batch [300-400]#011Speed: 56861.74 samples/sec#011accuracy=0.804500\u001b[0m\n\u001b[34mINFO:root:Epoch[1] Batch [400-500]#011Speed: 60355.00 samples/sec#011accuracy=0.825100\u001b[0m\n\u001b[34mINFO:root:Epoch[1] Train-accuracy=0.729633\u001b[0m\n\u001b[34mINFO:root:Epoch[1] Time cost=1.060\u001b[0m\n\u001b[34mINFO:root:Epoch[1] Validation-accuracy=0.856600\u001b[0m\n\u001b[34mINFO:root:Epoch[2] Batch [0-100]#011Speed: 46633.02 samples/sec#011accuracy=0.866139\u001b[0m\n\u001b[34mINFO:root:Epoch[2] Batch [100-200]#011Speed: 58047.99 samples/sec#011accuracy=0.870800\u001b[0m\n\u001b[34mINFO:root:Epoch[2] Batch [200-300]#011Speed: 49150.64 samples/sec#011accuracy=0.885800\u001b[0m\n\u001b[34mINFO:root:Epoch[2] Batch [300-400]#011Speed: 62679.01 samples/sec#011accuracy=0.894000\u001b[0m\n\u001b[34mINFO:root:Epoch[2] Batch [400-500]#011Speed: 63324.97 samples/sec#011accuracy=0.904900\u001b[0m\n\u001b[34mINFO:root:Epoch[2] Train-accuracy=0.889483\u001b[0m\n\u001b[34mINFO:root:Epoch[2] Time cost=1.116\u001b[0m\n\u001b[34mINFO:root:Epoch[2] Validation-accuracy=0.915100\u001b[0m\n\u001b[34mINFO:root:Epoch[3] Batch [0-100]#011Speed: 39112.29 samples/sec#011accuracy=0.916040\u001b[0m\n\u001b[34mINFO:root:Epoch[3] Batch [100-200]#011Speed: 56766.78 samples/sec#011accuracy=0.925500\u001b[0m\n\u001b[34mINFO:root:Epoch[3] Batch [200-300]#011Speed: 55995.35 samples/sec#011accuracy=0.930100\u001b[0m\n\u001b[34mINFO:root:Epoch[3] Batch [300-400]#011Speed: 53617.98 samples/sec#011accuracy=0.927800\u001b[0m\n\u001b[34mINFO:root:Epoch[3] Batch [400-500]#011Speed: 55732.41 samples/sec#011accuracy=0.933700\u001b[0m\n\u001b[34mINFO:root:Epoch[3] Train-accuracy=0.929133\u001b[0m\n\u001b[34mINFO:root:Epoch[3] Time cost=1.173\u001b[0m\n\u001b[34mINFO:root:Epoch[3] Validation-accuracy=0.940500\u001b[0m\n\u001b[34mINFO:root:Epoch[4] Batch [0-100]#011Speed: 45156.90 samples/sec#011accuracy=0.943564\u001b[0m\n\u001b[34mINFO:root:Epoch[4] Batch [100-200]#011Speed: 49722.29 samples/sec#011accuracy=0.941700\u001b[0m\n\u001b[34mINFO:root:Epoch[4] Batch [200-300]#011Speed: 53263.03 samples/sec#011accuracy=0.943100\u001b[0m\n\u001b[34mINFO:root:Epoch[4] Batch [300-400]#011Speed: 55114.53 samples/sec#011accuracy=0.945700\u001b[0m\n\u001b[34mINFO:root:Epoch[4] Batch [400-500]#011Speed: 56828.46 samples/sec#011accuracy=0.950500\u001b[0m\n\u001b[34mINFO:root:Epoch[4] Train-accuracy=0.945950\u001b[0m\n\u001b[34mINFO:root:Epoch[4] Time cost=1.150\u001b[0m\n\u001b[34mINFO:root:Epoch[4] Validation-accuracy=0.952700\u001b[0m\n\u001b[34mINFO:root:Epoch[5] Batch [0-100]#011Speed: 46691.52 samples/sec#011accuracy=0.955149\u001b[0m\n\u001b[34mINFO:root:Epoch[5] Batch [100-200]#011Speed: 50901.81 samples/sec#011accuracy=0.954600\u001b[0m\n\u001b[34mINFO:root:Epoch[5] Batch [200-300]#011Speed: 53447.65 samples/sec#011accuracy=0.956300\u001b[0m\n\u001b[34mINFO:root:Epoch[5] Batch [300-400]#011Speed: 58613.23 samples/sec#011accuracy=0.951800\u001b[0m\n\u001b[34mINFO:root:Epoch[5] Batch [400-500]#011Speed: 54311.16 samples/sec#011accuracy=0.960600\u001b[0m\n\u001b[34mINFO:root:Epoch[5] Train-accuracy=0.956750\u001b[0m\n\u001b[34mINFO:root:Epoch[5] Time cost=1.153\u001b[0m\n\u001b[34mINFO:root:Epoch[5] Validation-accuracy=0.958200\u001b[0m\n\u001b[34mINFO:root:Epoch[6] Batch [0-100]#011Speed: 46038.03 samples/sec#011accuracy=0.961683\u001b[0m\n\u001b[34mINFO:root:Epoch[6] Batch [100-200]#011Speed: 53123.93 samples/sec#011accuracy=0.961600\u001b[0m\n\u001b[34mINFO:root:Epoch[6] Batch [200-300]#011Speed: 46781.35 samples/sec#011accuracy=0.963500\u001b[0m\n\u001b[34mINFO:root:Epoch[6] Batch [300-400]#011Speed: 60063.38 samples/sec#011accuracy=0.966100\u001b[0m\n\u001b[34mINFO:root:Epoch[6] Batch [400-500]#011Speed: 58649.21 samples/sec#011accuracy=0.961700\u001b[0m\n\u001b[34mINFO:root:Epoch[6] Train-accuracy=0.963300\u001b[0m\n\u001b[34mINFO:root:Epoch[6] Time cost=1.150\u001b[0m\n\u001b[34mINFO:root:Epoch[6] Validation-accuracy=0.961100\u001b[0m\n\u001b[34mINFO:root:Epoch[7] Batch [0-100]#011Speed: 47222.57 samples/sec#011accuracy=0.970990\u001b[0m\n\u001b[34mINFO:root:Epoch[7] Batch [100-200]#011Speed: 58074.67 samples/sec#011accuracy=0.969200\u001b[0m\n\u001b[34mINFO:root:Epoch[7] Batch [200-300]#011Speed: 54458.40 samples/sec#011accuracy=0.966700\u001b[0m\n\u001b[34mINFO:root:Epoch[7] Batch [300-400]#011Speed: 56029.09 samples/sec#011accuracy=0.968000\u001b[0m\n\u001b[34mINFO:root:Epoch[7] Batch [400-500]#011Speed: 54520.90 samples/sec#011accuracy=0.970000\u001b[0m\n\u001b[34mINFO:root:Epoch[7] Train-accuracy=0.968633\u001b[0m\n\u001b[34mINFO:root:Epoch[7] Time cost=1.116\u001b[0m\n\u001b[34mINFO:root:Epoch[7] Validation-accuracy=0.955500\u001b[0m\n\u001b[34mINFO:root:Epoch[8] Batch [0-100]#011Speed: 44756.33 samples/sec#011accuracy=0.974455\u001b[0m\n\u001b[34mINFO:root:Epoch[8] Batch [100-200]#011Speed: 59942.01 samples/sec#011accuracy=0.974700\u001b[0m\n\u001b[34mINFO:root:Epoch[8] Batch [200-300]#011Speed: 50936.61 samples/sec#011accuracy=0.971800\u001b[0m\n\u001b[34mINFO:root:Epoch[8] Batch [300-400]#011Speed: 55364.21 samples/sec#011accuracy=0.971600\u001b[0m\n\u001b[34mINFO:root:Epoch[8] Batch [400-500]#011Speed: 51427.07 samples/sec#011accuracy=0.970500\u001b[0m\n\u001b[34mINFO:root:Epoch[8] Train-accuracy=0.972433\u001b[0m\n\u001b[34mINFO:root:Epoch[8] Time cost=1.185\u001b[0m\n\u001b[34mINFO:root:Epoch[8] Validation-accuracy=0.968200\u001b[0m\n\u001b[34mINFO:root:Epoch[9] Batch [0-100]#011Speed: 48328.77 samples/sec#011accuracy=0.975941\u001b[0m\n\u001b[34mINFO:root:Epoch[9] Batch [100-200]#011Speed: 52522.75 samples/sec#011accuracy=0.976700\u001b[0m\n\u001b[34mINFO:root:Epoch[9] Batch [200-300]#011Speed: 56609.02 samples/sec#011accuracy=0.975400\u001b[0m\n\u001b[34mINFO:root:Epoch[9] Batch [300-400]#011Speed: 55226.21 samples/sec#011accuracy=0.974700\u001b[0m\n\u001b[34mINFO:root:Epoch[9] Batch [400-500]#011Speed: 46399.63 samples/sec#011accuracy=0.974000\u001b[0m\n\u001b[34mINFO:root:Epoch[9] Train-accuracy=0.975517\u001b[0m\n\u001b[34mINFO:root:Epoch[9] Time cost=1.173\u001b[0m\n\u001b[34mINFO:root:Epoch[9] Validation-accuracy=0.971300\u001b[0m\n\u001b[34m2020-06-03 15:10:19,832 sagemaker-containers INFO     Reporting training SUCCESS\u001b[0m\n\n2020-06-03 15:10:30 Uploading - Uploading generated training model\n2020-06-03 15:10:30 Completed - Training job completed\nTraining seconds: 79\nBillable seconds: 79\nCPU times: user 551 ms, sys: 85.5 ms, total: 636 ms\nWall time: 3min 50s\n"
    }
   ],
   "source": [
    "%%time\n",
    "import boto3\n",
    "\n",
    "region = boto3.Session().region_name\n",
    "train_data_location = 's3://sagemaker-sample-data-{}/mxnet/mnist/train'.format(region)\n",
    "test_data_location = 's3://sagemaker-sample-data-{}/mxnet/mnist/test'.format(region)\n",
    "\n",
    "mnist_estimator.fit({'train': train_data_location, 'test': test_data_location})"
   ]
  },
  {
   "cell_type": "markdown",
   "execution_count": null,
   "metadata": {},
   "outputs": [],
   "source": [
    "### Opimtize your model with Neo API\n",
    "Neo API allows to optimize our model for a specific hardware type. When calling compile_model() function, we specify the target instance family (C5) as well as the S3 bucket to which the compiled model would be stored.\n",
    "\n",
    "#### Important. If the following command result in a permission error, scroll up and locate the value of execution role returned by get_execution_role(). The role must have access to the S3 bucket specified in output_path."
   ]
  },
  {
   "cell_type": "code",
   "execution_count": null,
   "metadata": {},
   "outputs": [],
   "source": [
    "neo_optimize = False\n",
    "compiled_model = mnist_estimator\n",
    "if mnist_estimator.create_model().check_neo_region(boto3.Session().region_name) is False:\n",
    "    print('Neo is not currently supported in', boto3.Session().region_name)\n",
    "else:\n",
    "    output_path = '/'.join(mnist_estimator.output_path.split('/')[:-1])\n",
    "    neo_optimize = True\n",
    "    compiled_model = mnist_estimator.compile_model(target_instance_family='ml_m4', \n",
    "                                                   input_shape={'data':[1, 784]},\n",
    "                                                   role=role,\n",
    "                                                   output_path=output_path)"
   ]
  },
  {
   "cell_type": "markdown",
   "execution_count": null,
   "metadata": {},
   "outputs": [],
   "source": [
    "### Creating an inference Endpoint\n",
    "\n",
    "After training, we use the ``MXNet estimator`` object to build and deploy an ``MXNetPredictor``. This creates a Sagemaker **Endpoint** -- a hosted prediction service that we can use to perform inference. \n",
    "\n",
    "The arguments to the ``deploy`` function allow us to set the number and type of instances that will be used for the Endpoint. These do not need to be the same as the values we used for the training job. For example, you can train a model on a set of GPU-based instances, and then deploy the Endpoint to a fleet of CPU-based instances. Here we will deploy the model to a single ``ml.m4.xlarge`` instance."
   ]
  },
  {
   "cell_type": "code",
   "execution_count": null,
   "metadata": {},
   "outputs": [],
   "source": [
    "%%time\n",
    "\n",
    "predictor = compiled_model.deploy(initial_instance_count=1,\n",
    "                                   instance_type='ml.m4.xlarge')"
   ]
  },
  {
   "cell_type": "code",
   "execution_count": null,
   "metadata": {},
   "outputs": [],
   "source": [
    "import io\n",
    "import numpy as np\n",
    "def numpy_bytes_serializer(data):\n",
    "    f = io.BytesIO()\n",
    "    np.save(f, data)\n",
    "    f.seek(0)\n",
    "    return f.read()\n",
    "\n",
    "if neo_optimize is True:\n",
    "    predictor.content_type = 'application/vnd+python.numpy+binary'\n",
    "    predictor.serializer = numpy_bytes_serializer"
   ]
  },
  {
   "cell_type": "markdown",
   "execution_count": null,
   "metadata": {},
   "outputs": [],
   "source": [
    "The request handling behavior of the Endpoint is determined by the ``mnist.py`` script. In this case, the script doesn't include any request handling functions, so the Endpoint will use the default handlers provided by SageMaker. These default handlers allow us to perform inference on input data encoded as a multi-dimensional JSON array.\n",
    "\n",
    "### Making an inference request\n",
    "\n",
    "Now that our Endpoint is deployed and we have a ``predictor`` object, we can use it to classify handwritten digits.\n",
    "\n",
    "To see inference in action, draw a digit in the image box below. The pixel data from your drawing will be loaded into a ``data`` variable in this notebook. \n",
    "\n",
    "*Note: after drawing the image, you'll need to move to the next notebook cell.*"
   ]
  },
  {
   "cell_type": "code",
   "execution_count": 4,
   "metadata": {},
   "outputs": [
    {
     "data": {
      "text/html": "<script type=\"text/Javascript\">\n    var pixels = [];\n    for (var i = 0; i < 28*28; i++) pixels[i] = 0;\n    var click = 0;\n\n    var canvas = document.querySelector(\"canvas\");\n    canvas.addEventListener(\"mousemove\", function(e){\n        if (e.buttons == 1) {\n            click = 1;\n            canvas.getContext(\"2d\").fillStyle = \"rgb(0,0,0)\";\n            canvas.getContext(\"2d\").fillRect(e.offsetX, e.offsetY, 8, 8);\n            x = Math.floor(e.offsetY * 0.2);\n            y = Math.floor(e.offsetX * 0.2) + 1;\n            for (var dy = 0; dy < 2; dy++){\n                for (var dx = 0; dx < 2; dx++){\n                    if ((x + dx < 28) && (y + dy < 28)){\n                        pixels[(y+dy)+(x+dx)*28] = 1;\n                    }\n                }\n            }\n        } else {\n            if (click == 1) set_value();\n            click = 0;\n        }\n    });\n    function clear_value(){\n        canvas.getContext(\"2d\").fillStyle = \"rgb(255,255,255)\";\n        canvas.getContext(\"2d\").fillRect(0, 0, 140, 140);\n        for (var i = 0; i < 28*28; i++) pixels[i] = 0;\n    }\n    \n    function set_value(){\n        var result = \"[[\"\n        for (var i = 0; i < 28; i++) {\n            result += \"[\"\n            for (var j = 0; j < 28; j++) {\n                result += pixels [i * 28 + j]\n                if (j < 27) {\n                    result += \", \"\n                }\n            }\n            result += \"]\"\n            if (i < 27) {\n                result += \", \"\n            }\n        }\n        result += \"]]\"\n        var kernel = IPython.notebook.kernel;\n        kernel.execute(\"data = \" + result)\n    }\n</script>\n<table>\n<td style=\"border-style: none;\">\n<div style=\"border: solid 2px #666; width: 143px; height: 144px;\">\n<canvas width=\"140\" height=\"140\"></canvas>\n</div></td>\n<td style=\"border-style: none;\">\n<button onclick=\"clear_value()\">Clear</button>\n</td>\n</table>\n\n<!-- This work has been modified from the original and is licensed under the Apache 2.0 License. -->\n\n<!--\n                                     Apache License\n                           Version 2.0, January 2004\n                        http://www.apache.org/licenses/\n\n   TERMS AND CONDITIONS FOR USE, REPRODUCTION, AND DISTRIBUTION\n\n   1. Definitions.\n\n      \"License\" shall mean the terms and conditions for use, reproduction,\n      and distribution as defined by Sections 1 through 9 of this document.\n\n      \"Licensor\" shall mean the copyright owner or entity authorized by\n      the copyright owner that is granting the License.\n\n      \"Legal Entity\" shall mean the union of the acting entity and all\n      other entities that control, are controlled by, or are under common\n      control with that entity. For the purposes of this definition,\n      \"control\" means (i) the power, direct or indirect, to cause the\n      direction or management of such entity, whether by contract or\n      otherwise, or (ii) ownership of fifty percent (50%) or more of the\n      outstanding shares, or (iii) beneficial ownership of such entity.\n\n      \"You\" (or \"Your\") shall mean an individual or Legal Entity\n      exercising permissions granted by this License.\n\n      \"Source\" form shall mean the preferred form for making modifications,\n      including but not limited to software source code, documentation\n      source, and configuration files.\n\n      \"Object\" form shall mean any form resulting from mechanical\n      transformation or translation of a Source form, including but\n      not limited to compiled object code, generated documentation,\n      and conversions to other media types.\n\n      \"Work\" shall mean the work of authorship, whether in Source or\n      Object form, made available under the License, as indicated by a\n      copyright notice that is included in or attached to the work\n      (an example is provided in the Appendix below).\n\n      \"Derivative Works\" shall mean any work, whether in Source or Object\n      form, that is based on (or derived from) the Work and for which the\n      editorial revisions, annotations, elaborations, or other modifications\n      represent, as a whole, an original work of authorship. For the purposes\n      of this License, Derivative Works shall not include works that remain\n      separable from, or merely link (or bind by name) to the interfaces of,\n      the Work and Derivative Works thereof.\n\n      \"Contribution\" shall mean any work of authorship, including\n      the original version of the Work and any modifications or additions\n      to that Work or Derivative Works thereof, that is intentionally\n      submitted to Licensor for inclusion in the Work by the copyright owner\n      or by an individual or Legal Entity authorized to submit on behalf of\n      the copyright owner. For the purposes of this definition, \"submitted\"\n      means any form of electronic, verbal, or written communication sent\n      to the Licensor or its representatives, including but not limited to\n      communication on electronic mailing lists, source code control systems,\n      and issue tracking systems that are managed by, or on behalf of, the\n      Licensor for the purpose of discussing and improving the Work, but\n      excluding communication that is conspicuously marked or otherwise\n      designated in writing by the copyright owner as \"Not a Contribution.\"\n\n      \"Contributor\" shall mean Licensor and any individual or Legal Entity\n      on behalf of whom a Contribution has been received by Licensor and\n      subsequently incorporated within the Work.\n\n   2. Grant of Copyright License. Subject to the terms and conditions of\n      this License, each Contributor hereby grants to You a perpetual,\n      worldwide, non-exclusive, no-charge, royalty-free, irrevocable\n      copyright license to reproduce, prepare Derivative Works of,\n      publicly display, publicly perform, sublicense, and distribute the\n      Work and such Derivative Works in Source or Object form.\n\n   3. Grant of Patent License. Subject to the terms and conditions of\n      this License, each Contributor hereby grants to You a perpetual,\n      worldwide, non-exclusive, no-charge, royalty-free, irrevocable\n      (except as stated in this section) patent license to make, have made,\n      use, offer to sell, sell, import, and otherwise transfer the Work,\n      where such license applies only to those patent claims licensable\n      by such Contributor that are necessarily infringed by their\n      Contribution(s) alone or by combination of their Contribution(s)\n      with the Work to which such Contribution(s) was submitted. If You\n      institute patent litigation against any entity (including a\n      cross-claim or counterclaim in a lawsuit) alleging that the Work\n      or a Contribution incorporated within the Work constitutes direct\n      or contributory patent infringement, then any patent licenses\n      granted to You under this License for that Work shall terminate\n      as of the date such litigation is filed.\n\n   4. Redistribution. You may reproduce and distribute copies of the\n      Work or Derivative Works thereof in any medium, with or without\n      modifications, and in Source or Object form, provided that You\n      meet the following conditions:\n\n      (a) You must give any other recipients of the Work or\n          Derivative Works a copy of this License; and\n\n      (b) You must cause any modified files to carry prominent notices\n          stating that You changed the files; and\n\n      (c) You must retain, in the Source form of any Derivative Works\n          that You distribute, all copyright, patent, trademark, and\n          attribution notices from the Source form of the Work,\n          excluding those notices that do not pertain to any part of\n          the Derivative Works; and\n\n      (d) If the Work includes a \"NOTICE\" text file as part of its\n          distribution, then any Derivative Works that You distribute must\n          include a readable copy of the attribution notices contained\n          within such NOTICE file, excluding those notices that do not\n          pertain to any part of the Derivative Works, in at least one\n          of the following places: within a NOTICE text file distributed\n          as part of the Derivative Works; within the Source form or\n          documentation, if provided along with the Derivative Works; or,\n          within a display generated by the Derivative Works, if and\n          wherever such third-party notices normally appear. The contents\n          of the NOTICE file are for informational purposes only and\n          do not modify the License. You may add Your own attribution\n          notices within Derivative Works that You distribute, alongside\n          or as an addendum to the NOTICE text from the Work, provided\n          that such additional attribution notices cannot be construed\n          as modifying the License.\n\n      You may add Your own copyright statement to Your modifications and\n      may provide additional or different license terms and conditions\n      for use, reproduction, or distribution of Your modifications, or\n      for any such Derivative Works as a whole, provided Your use,\n      reproduction, and distribution of the Work otherwise complies with\n      the conditions stated in this License.\n\n   5. Submission of Contributions. Unless You explicitly state otherwise,\n      any Contribution intentionally submitted for inclusion in the Work\n      by You to the Licensor shall be under the terms and conditions of\n      this License, without any additional terms or conditions.\n      Notwithstanding the above, nothing herein shall supersede or modify\n      the terms of any separate license agreement you may have executed\n      with Licensor regarding such Contributions.\n\n   6. Trademarks. This License does not grant permission to use the trade\n      names, trademarks, service marks, or product names of the Licensor,\n      except as required for reasonable and customary use in describing the\n      origin of the Work and reproducing the content of the NOTICE file.\n\n   7. Disclaimer of Warranty. Unless required by applicable law or\n      agreed to in writing, Licensor provides the Work (and each\n      Contributor provides its Contributions) on an \"AS IS\" BASIS,\n      WITHOUT WARRANTIES OR CONDITIONS OF ANY KIND, either express or\n      implied, including, without limitation, any warranties or conditions\n      of TITLE, NON-INFRINGEMENT, MERCHANTABILITY, or FITNESS FOR A\n      PARTICULAR PURPOSE. You are solely responsible for determining the\n      appropriateness of using or redistributing the Work and assume any\n      risks associated with Your exercise of permissions under this License.\n\n   8. Limitation of Liability. In no event and under no legal theory,\n      whether in tort (including negligence), contract, or otherwise,\n      unless required by applicable law (such as deliberate and grossly\n      negligent acts) or agreed to in writing, shall any Contributor be\n      liable to You for damages, including any direct, indirect, special,\n      incidental, or consequential damages of any character arising as a\n      result of this License or out of the use or inability to use the\n      Work (including but not limited to damages for loss of goodwill,\n      work stoppage, computer failure or malfunction, or any and all\n      other commercial damages or losses), even if such Contributor\n      has been advised of the possibility of such damages.\n\n   9. Accepting Warranty or Additional Liability. While redistributing\n      the Work or Derivative Works thereof, You may choose to offer,\n      and charge a fee for, acceptance of support, warranty, indemnity,\n      or other liability obligations and/or rights consistent with this\n      License. However, in accepting such obligations, You may act only\n      on Your own behalf and on Your sole responsibility, not on behalf\n      of any other Contributor, and only if You agree to indemnify,\n      defend, and hold each Contributor harmless for any liability\n      incurred by, or claims asserted against, such Contributor by reason\n      of your accepting any such warranty or additional liability.\n\n   END OF TERMS AND CONDITIONS\n\n   APPENDIX: How to apply the Apache License to your work.\n\n      To apply the Apache License to your work, attach the following\n      boilerplate notice, with the fields enclosed by brackets \"{}\"\n      replaced with your own identifying information. (Don't include\n      the brackets!)  The text should be enclosed in the appropriate\n      comment syntax for the file format. We also recommend that a\n      file or class name and description of purpose be included on the\n      same \"printed page\" as the copyright notice for easier\n      identification within third-party archives.\n\n   Copyright {yyyy} {name of copyright owner}\n\n   Licensed under the Apache License, Version 2.0 (the \"License\");\n   you may not use this file except in compliance with the License.\n   You may obtain a copy of the License at\n\n       http://www.apache.org/licenses/LICENSE-2.0\n\n   Unless required by applicable law or agreed to in writing, software\n   distributed under the License is distributed on an \"AS IS\" BASIS,\n   WITHOUT WARRANTIES OR CONDITIONS OF ANY KIND, either express or implied.\n   See the License for the specific language governing permissions and\n   limitations under the License.\n-->\n\n\n\n\n",
      "text/plain": "<IPython.core.display.HTML object>"
     },
     "execution_count": 4,
     "metadata": {},
     "output_type": "execute_result"
    }
   ],
   "source": [
    "from IPython.display import HTML\n",
    "HTML(open(\"input.html\").read())"
   ]
  },
  {
   "cell_type": "markdown",
   "execution_count": null,
   "metadata": {},
   "outputs": [],
   "source": [
    "Now we can use the ``predictor`` object to classify the handwritten digit:"
   ]
  },
  {
   "cell_type": "code",
   "execution_count": null,
   "metadata": {
    "scrolled": true
   },
   "outputs": [],
   "source": [
    "response = predictor.predict(data)\n",
    "print('Raw prediction result:')\n",
    "if neo_optimize is False:\n",
    "    response = response[0]\n",
    "print(response)\n",
    "\n",
    "labeled_predictions = list(zip(range(10), response))\n",
    "print('Labeled predictions: ')\n",
    "print(labeled_predictions)\n",
    "\n",
    "labeled_predictions.sort(key=lambda label_and_prob: 1.0 - label_and_prob[1])\n",
    "print('Most likely answer: {}'.format(labeled_predictions[0]))"
   ]
  },
  {
   "cell_type": "markdown",
   "execution_count": null,
   "metadata": {
    "collapsed": true
   },
   "outputs": [],
   "source": [
    "# (Optional) Delete the Endpoint\n",
    "\n",
    "After you have finished with this example, remember to delete the prediction endpoint to release the instance(s) associated with it."
   ]
  },
  {
   "cell_type": "code",
   "execution_count": null,
   "metadata": {},
   "outputs": [],
   "source": [
    "print(\"Endpoint name: \" + predictor.endpoint)"
   ]
  },
  {
   "cell_type": "code",
   "execution_count": null,
   "metadata": {},
   "outputs": [],
   "source": [
    "import sagemaker\n",
    "\n",
    "predictor.delete_endpoint()"
   ]
  }
 ],
 "metadata": {
  "kernelspec": {
   "display_name": "conda_mxnet_p36",
   "language": "python",
   "name": "conda_mxnet_p36"
  },
  "language_info": {
   "codemirror_mode": {
    "name": "ipython",
    "version": 3
   },
   "file_extension": ".py",
   "mimetype": "text/x-python",
   "name": "python",
   "nbconvert_exporter": "python",
   "pygments_lexer": "ipython3",
   "version": "3.6.5"
  },
  "notice": "Copyright 2017 Amazon.com, Inc. or its affiliates. All Rights Reserved.  Licensed under the Apache License, Version 2.0 (the \"License\"). You may not use this file except in compliance with the License. A copy of the License is located at http://aws.amazon.com/apache2.0/ or in the \"license\" file accompanying this file. This file is distributed on an \"AS IS\" BASIS, WITHOUT WARRANTIES OR CONDITIONS OF ANY KIND, either express or implied. See the License for the specific language governing permissions and limitations under the License."
 },
 "nbformat": 4,
 "nbformat_minor": 2
}