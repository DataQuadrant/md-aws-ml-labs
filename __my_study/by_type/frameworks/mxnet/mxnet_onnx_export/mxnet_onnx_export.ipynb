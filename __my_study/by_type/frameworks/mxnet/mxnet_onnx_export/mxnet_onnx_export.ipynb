{
 "cells": [
  {
   "cell_type": "markdown",
   "metadata": {},
   "source": [
    "## Exporting ONNX Models with MXNet\n",
    "\n",
    "The [Open Neural Network Exchange](https://onnx.ai/) (ONNX) is an open format for representing deep learning models with an extensible computation graph model, definitions of built-in operators, and standard data types. Starting with MXNet 1.3, models trained using MXNet can now be saved as ONNX models.\n",
    "\n",
    "In this example, we show how to train a model on Amazon SageMaker and save it as an ONNX model. This notebook is based on the [MXNet MNIST notebook](https://github.com/awslabs/amazon-sagemaker-examples/blob/master/sagemaker-python-sdk/mxnet_mnist/mxnet_mnist.ipynb) and the [MXNet example for exporting to ONNX](https://mxnet.incubator.apache.org/tutorials/onnx/export_mxnet_to_onnx.html)."
   ]
  },
  {
   "cell_type": "markdown",
   "metadata": {},
   "source": [
    "### Setup\n",
    "\n",
    "First we need to define a few variables that we'll need later in the example."
   ]
  },
  {
   "cell_type": "code",
   "execution_count": null,
   "metadata": {},
   "outputs": [],
   "source": [
    "import boto3\n",
    "\n",
    "# from sagemaker import get_execution_role\n",
    "from sagemaker.session import Session\n",
    "\n",
    "# AWS region\n",
    "region = boto3.Session().region_name\n",
    "\n",
    "# S3 bucket for saving code and model artifacts.\n",
    "# Feel free to specify a different bucket here if you wish.\n",
    "# bucket = Session().default_bucket()\n",
    "bucket = 'md-labs-bucket'\n",
    "\n",
    "# Location to save your custom code in tar.gz format.\n",
    "custom_code_upload_location = 's3://{}/customcode/mxnet'.format(bucket)\n",
    "\n",
    "# Location where results of model training are saved.\n",
    "model_artifacts_location = 's3://{}/artifacts'.format(bucket)\n",
    "\n",
    "# IAM execution role that gives SageMaker access to resources in your AWS account.\n",
    "# We can use the SageMaker Python SDK to get the role from our notebook environment. \n",
    "# role = get_execution_role()\n",
    "role = 'arn:aws:iam::868024899531:role/service-role/AmazonSageMaker-ExecutionRole-20200530T112594'"
   ]
  },
  {
   "cell_type": "markdown",
   "metadata": {},
   "source": [
    "### The training script\n",
    "\n",
    "The ``mnist.py`` script provides all the code we need for training and hosting a SageMaker model. The script we will use is adaptated from Apache MXNet [MNIST tutorial](https://mxnet.incubator.apache.org/tutorials/python/mnist.html)."
   ]
  },
  {
   "cell_type": "code",
   "execution_count": 1,
   "metadata": {},
   "outputs": [
    {
     "name": "stdout",
     "output_type": "stream",
     "text": "\u001b[34mimport\u001b[39;49;00m \u001b[04m\u001b[36margparse\u001b[39;49;00m\n\u001b[34mimport\u001b[39;49;00m \u001b[04m\u001b[36mgzip\u001b[39;49;00m\n\u001b[34mimport\u001b[39;49;00m \u001b[04m\u001b[36mjson\u001b[39;49;00m\n\u001b[34mimport\u001b[39;49;00m \u001b[04m\u001b[36mlogging\u001b[39;49;00m\n\u001b[34mimport\u001b[39;49;00m \u001b[04m\u001b[36mos\u001b[39;49;00m\n\u001b[34mimport\u001b[39;49;00m \u001b[04m\u001b[36mtempfile\u001b[39;49;00m\n\u001b[34mimport\u001b[39;49;00m \u001b[04m\u001b[36mshutil\u001b[39;49;00m\n\u001b[34mimport\u001b[39;49;00m \u001b[04m\u001b[36mstruct\u001b[39;49;00m\n\n\u001b[34mimport\u001b[39;49;00m \u001b[04m\u001b[36mmxnet\u001b[39;49;00m \u001b[34mas\u001b[39;49;00m \u001b[04m\u001b[36mmx\u001b[39;49;00m\n\u001b[34mfrom\u001b[39;49;00m \u001b[04m\u001b[36mmxnet\u001b[39;49;00m\u001b[04m\u001b[36m.\u001b[39;49;00m\u001b[04m\u001b[36mcontrib\u001b[39;49;00m \u001b[34mimport\u001b[39;49;00m onnx \u001b[34mas\u001b[39;49;00m onnx_mxnet\n\u001b[34mimport\u001b[39;49;00m \u001b[04m\u001b[36mnumpy\u001b[39;49;00m \u001b[34mas\u001b[39;49;00m \u001b[04m\u001b[36mnp\u001b[39;49;00m\n\n\u001b[34mfrom\u001b[39;49;00m \u001b[04m\u001b[36msagemaker_mxnet_container\u001b[39;49;00m\u001b[04m\u001b[36m.\u001b[39;49;00m\u001b[04m\u001b[36mtraining_utils\u001b[39;49;00m \u001b[34mimport\u001b[39;49;00m scheduler_host\n\n\n\u001b[34mdef\u001b[39;49;00m \u001b[32mload_data\u001b[39;49;00m(path):\n    \u001b[34mwith\u001b[39;49;00m gzip.open(find_file(path, \u001b[33m\"\u001b[39;49;00m\u001b[33mlabels.gz\u001b[39;49;00m\u001b[33m\"\u001b[39;49;00m)) \u001b[34mas\u001b[39;49;00m flbl:\n        struct.unpack(\u001b[33m\"\u001b[39;49;00m\u001b[33m>II\u001b[39;49;00m\u001b[33m\"\u001b[39;49;00m, flbl.read(\u001b[34m8\u001b[39;49;00m))\n        labels = np.fromstring(flbl.read(), dtype=np.int8)\n    \u001b[34mwith\u001b[39;49;00m gzip.open(find_file(path, \u001b[33m\"\u001b[39;49;00m\u001b[33mimages.gz\u001b[39;49;00m\u001b[33m\"\u001b[39;49;00m)) \u001b[34mas\u001b[39;49;00m fimg:\n        _, _, rows, cols = struct.unpack(\u001b[33m\"\u001b[39;49;00m\u001b[33m>IIII\u001b[39;49;00m\u001b[33m\"\u001b[39;49;00m, fimg.read(\u001b[34m16\u001b[39;49;00m))\n        images = np.fromstring(fimg.read(), dtype=np.uint8).reshape(\u001b[36mlen\u001b[39;49;00m(labels), rows, cols)\n        images = images.reshape(images.shape[\u001b[34m0\u001b[39;49;00m], \u001b[34m1\u001b[39;49;00m, \u001b[34m28\u001b[39;49;00m, \u001b[34m28\u001b[39;49;00m).astype(np.float32) / \u001b[34m255\u001b[39;49;00m\n    \u001b[34mreturn\u001b[39;49;00m labels, images\n\n\n\u001b[34mdef\u001b[39;49;00m \u001b[32mfind_file\u001b[39;49;00m(root_path, file_name):\n    \u001b[34mfor\u001b[39;49;00m root, dirs, files \u001b[35min\u001b[39;49;00m os.walk(root_path):\n        \u001b[34mif\u001b[39;49;00m file_name \u001b[35min\u001b[39;49;00m files:\n            \u001b[34mreturn\u001b[39;49;00m os.path.join(root, file_name)\n\n\n\u001b[34mdef\u001b[39;49;00m \u001b[32mbuild_graph\u001b[39;49;00m():\n    data = mx.sym.var(\u001b[33m'\u001b[39;49;00m\u001b[33mdata\u001b[39;49;00m\u001b[33m'\u001b[39;49;00m)\n    data = mx.sym.flatten(data=data)\n    fc1 = mx.sym.FullyConnected(data=data, num_hidden=\u001b[34m128\u001b[39;49;00m)\n    act1 = mx.sym.Activation(data=fc1, act_type=\u001b[33m\"\u001b[39;49;00m\u001b[33mrelu\u001b[39;49;00m\u001b[33m\"\u001b[39;49;00m)\n    fc2 = mx.sym.FullyConnected(data=act1, num_hidden=\u001b[34m64\u001b[39;49;00m)\n    act2 = mx.sym.Activation(data=fc2, act_type=\u001b[33m\"\u001b[39;49;00m\u001b[33mrelu\u001b[39;49;00m\u001b[33m\"\u001b[39;49;00m)\n    fc3 = mx.sym.FullyConnected(data=act2, num_hidden=\u001b[34m10\u001b[39;49;00m)\n    \u001b[34mreturn\u001b[39;49;00m mx.sym.SoftmaxOutput(data=fc3, name=\u001b[33m'\u001b[39;49;00m\u001b[33msoftmax\u001b[39;49;00m\u001b[33m'\u001b[39;49;00m)\n\n\n\u001b[34mdef\u001b[39;49;00m \u001b[32mget_training_context\u001b[39;49;00m(num_gpus):\n    \u001b[34mif\u001b[39;49;00m num_gpus:\n        \u001b[34mreturn\u001b[39;49;00m [mx.gpu(i) \u001b[34mfor\u001b[39;49;00m i \u001b[35min\u001b[39;49;00m \u001b[36mrange\u001b[39;49;00m(num_gpus)]\n    \u001b[34melse\u001b[39;49;00m:\n        \u001b[34mreturn\u001b[39;49;00m mx.cpu()\n\n\n\u001b[34mdef\u001b[39;49;00m \u001b[32mtrain\u001b[39;49;00m(batch_size, epochs, learning_rate, num_gpus, training_channel, testing_channel,\n          hosts, current_host, model_dir):\n    (train_labels, train_images) = load_data(training_channel)\n    (test_labels, test_images) = load_data(testing_channel)\n    CHECKPOINTS_DIR = \u001b[33m'\u001b[39;49;00m\u001b[33m/opt/ml/checkpoints\u001b[39;49;00m\u001b[33m'\u001b[39;49;00m\n    checkpoints_enabled = os.path.exists(CHECKPOINTS_DIR)\n\n    \u001b[37m# Data parallel training - shard the data so each host\u001b[39;49;00m\n    \u001b[37m# only trains on a subset of the total data.\u001b[39;49;00m\n    shard_size = \u001b[36mlen\u001b[39;49;00m(train_images) // \u001b[36mlen\u001b[39;49;00m(hosts)\n    \u001b[34mfor\u001b[39;49;00m i, host \u001b[35min\u001b[39;49;00m \u001b[36menumerate\u001b[39;49;00m(hosts):\n        \u001b[34mif\u001b[39;49;00m host == current_host:\n            start = shard_size * i\n            end = start + shard_size\n            \u001b[34mbreak\u001b[39;49;00m\n\n    train_iter = mx.io.NDArrayIter(train_images[start:end], train_labels[start:end], batch_size,\n                                   shuffle=\u001b[34mTrue\u001b[39;49;00m)\n    val_iter = mx.io.NDArrayIter(test_images, test_labels, batch_size)\n\n    logging.getLogger().setLevel(logging.DEBUG)\n\n    kvstore = \u001b[33m'\u001b[39;49;00m\u001b[33mlocal\u001b[39;49;00m\u001b[33m'\u001b[39;49;00m \u001b[34mif\u001b[39;49;00m \u001b[36mlen\u001b[39;49;00m(hosts) == \u001b[34m1\u001b[39;49;00m \u001b[34melse\u001b[39;49;00m \u001b[33m'\u001b[39;49;00m\u001b[33mdist_sync\u001b[39;49;00m\u001b[33m'\u001b[39;49;00m\n\n    mlp_model = mx.mod.Module(symbol=build_graph(),\n                              context=get_training_context(num_gpus))\n\n    checkpoint_callback = \u001b[34mNone\u001b[39;49;00m\n    \u001b[34mif\u001b[39;49;00m checkpoints_enabled:\n        \u001b[37m# Create a checkpoint callback that checkpoints the model params and the optimizer state after every epoch at the given path.\u001b[39;49;00m\n        checkpoint_callback = mx.callback.module_checkpoint(mlp_model,\n                                                            CHECKPOINTS_DIR + \u001b[33m\"\u001b[39;49;00m\u001b[33m/mnist\u001b[39;49;00m\u001b[33m\"\u001b[39;49;00m,\n                                                            period=\u001b[34m1\u001b[39;49;00m,\n                                                            save_optimizer_states=\u001b[34mTrue\u001b[39;49;00m)\n    mlp_model.fit(train_iter,\n                  eval_data=val_iter,\n                  kvstore=kvstore,\n                  optimizer=\u001b[33m'\u001b[39;49;00m\u001b[33msgd\u001b[39;49;00m\u001b[33m'\u001b[39;49;00m,\n                  optimizer_params={\u001b[33m'\u001b[39;49;00m\u001b[33mlearning_rate\u001b[39;49;00m\u001b[33m'\u001b[39;49;00m: learning_rate},\n                  eval_metric=\u001b[33m'\u001b[39;49;00m\u001b[33macc\u001b[39;49;00m\u001b[33m'\u001b[39;49;00m,\n                  epoch_end_callback  = checkpoint_callback,\n                  batch_end_callback=mx.callback.Speedometer(batch_size, \u001b[34m100\u001b[39;49;00m),\n                  num_epoch=epochs)\n\n    \u001b[34mif\u001b[39;49;00m current_host == scheduler_host(hosts):\n        save(model_dir, mlp_model)\n\n\n\u001b[34mdef\u001b[39;49;00m \u001b[32msave\u001b[39;49;00m(model_dir, model):\n    tmp_dir = tempfile.mkdtemp()\n\n    symbol_file = os.path.join(tmp_dir, \u001b[33m'\u001b[39;49;00m\u001b[33mmodel-symbol.json\u001b[39;49;00m\u001b[33m'\u001b[39;49;00m)\n    params_file = os.path.join(tmp_dir, \u001b[33m'\u001b[39;49;00m\u001b[33mmodel-0000.params\u001b[39;49;00m\u001b[33m'\u001b[39;49;00m)\n\n    model.symbol.save(symbol_file)\n    model.save_params(params_file)\n\n    data_shapes = [[dim \u001b[34mfor\u001b[39;49;00m dim \u001b[35min\u001b[39;49;00m data_desc.shape] \u001b[34mfor\u001b[39;49;00m data_desc \u001b[35min\u001b[39;49;00m model.data_shapes]\n    output_path = os.path.join(model_dir, \u001b[33m'\u001b[39;49;00m\u001b[33mmodel.onnx\u001b[39;49;00m\u001b[33m'\u001b[39;49;00m)\n\n    onnx_mxnet.export_model(symbol_file, params_file, data_shapes, np.float32, output_path)\n\n    shutil.rmtree(tmp_dir)\n\n\n\u001b[34mdef\u001b[39;49;00m \u001b[32mparse_args\u001b[39;49;00m():\n    parser = argparse.ArgumentParser()\n\n    parser.add_argument(\u001b[33m'\u001b[39;49;00m\u001b[33m--batch-size\u001b[39;49;00m\u001b[33m'\u001b[39;49;00m, \u001b[36mtype\u001b[39;49;00m=\u001b[36mint\u001b[39;49;00m, default=\u001b[34m100\u001b[39;49;00m)\n    parser.add_argument(\u001b[33m'\u001b[39;49;00m\u001b[33m--epochs\u001b[39;49;00m\u001b[33m'\u001b[39;49;00m, \u001b[36mtype\u001b[39;49;00m=\u001b[36mint\u001b[39;49;00m, default=\u001b[34m10\u001b[39;49;00m)\n    parser.add_argument(\u001b[33m'\u001b[39;49;00m\u001b[33m--learning-rate\u001b[39;49;00m\u001b[33m'\u001b[39;49;00m, \u001b[36mtype\u001b[39;49;00m=\u001b[36mfloat\u001b[39;49;00m, default=\u001b[34m0.1\u001b[39;49;00m)\n\n    parser.add_argument(\u001b[33m'\u001b[39;49;00m\u001b[33m--model-dir\u001b[39;49;00m\u001b[33m'\u001b[39;49;00m, \u001b[36mtype\u001b[39;49;00m=\u001b[36mstr\u001b[39;49;00m, default=os.environ[\u001b[33m'\u001b[39;49;00m\u001b[33mSM_MODEL_DIR\u001b[39;49;00m\u001b[33m'\u001b[39;49;00m])\n    parser.add_argument(\u001b[33m'\u001b[39;49;00m\u001b[33m--train\u001b[39;49;00m\u001b[33m'\u001b[39;49;00m, \u001b[36mtype\u001b[39;49;00m=\u001b[36mstr\u001b[39;49;00m, default=os.environ[\u001b[33m'\u001b[39;49;00m\u001b[33mSM_CHANNEL_TRAIN\u001b[39;49;00m\u001b[33m'\u001b[39;49;00m])\n    parser.add_argument(\u001b[33m'\u001b[39;49;00m\u001b[33m--test\u001b[39;49;00m\u001b[33m'\u001b[39;49;00m, \u001b[36mtype\u001b[39;49;00m=\u001b[36mstr\u001b[39;49;00m, default=os.environ[\u001b[33m'\u001b[39;49;00m\u001b[33mSM_CHANNEL_TEST\u001b[39;49;00m\u001b[33m'\u001b[39;49;00m])\n\n    parser.add_argument(\u001b[33m'\u001b[39;49;00m\u001b[33m--current-host\u001b[39;49;00m\u001b[33m'\u001b[39;49;00m, \u001b[36mtype\u001b[39;49;00m=\u001b[36mstr\u001b[39;49;00m, default=os.environ[\u001b[33m'\u001b[39;49;00m\u001b[33mSM_CURRENT_HOST\u001b[39;49;00m\u001b[33m'\u001b[39;49;00m])\n    parser.add_argument(\u001b[33m'\u001b[39;49;00m\u001b[33m--hosts\u001b[39;49;00m\u001b[33m'\u001b[39;49;00m, \u001b[36mtype\u001b[39;49;00m=\u001b[36mlist\u001b[39;49;00m, default=json.loads(os.environ[\u001b[33m'\u001b[39;49;00m\u001b[33mSM_HOSTS\u001b[39;49;00m\u001b[33m'\u001b[39;49;00m]))\n\n    \u001b[34mreturn\u001b[39;49;00m parser.parse_args()\n\n\n\u001b[34mif\u001b[39;49;00m \u001b[31m__name__\u001b[39;49;00m == \u001b[33m'\u001b[39;49;00m\u001b[33m__main__\u001b[39;49;00m\u001b[33m'\u001b[39;49;00m:\n    args = parse_args()\n    num_gpus = \u001b[36mint\u001b[39;49;00m(os.environ[\u001b[33m'\u001b[39;49;00m\u001b[33mSM_NUM_GPUS\u001b[39;49;00m\u001b[33m'\u001b[39;49;00m])\n\n    train(args.batch_size, args.epochs, args.learning_rate, num_gpus, args.train, args.test,\n          args.hosts, args.current_host, args.model_dir)\n"
    }
   ],
   "source": [
    "!pygmentize mnist.py"
   ]
  },
  {
   "cell_type": "markdown",
   "metadata": {},
   "source": [
    "### Exporting to ONNX\n",
    "\n",
    "The important part of this script can be found in the `save` method. This is where the ONNX model is exported:\n",
    "\n",
    "```python\n",
    "import os\n",
    "\n",
    "from mxnet.contrib import onnx as onnx_mxnet\n",
    "import numpy as np\n",
    "\n",
    "def save(model_dir, model):\n",
    "    symbol_file = os.path.join(model_dir, 'model-symbol.json')\n",
    "    params_file = os.path.join(model_dir, 'model-0000.params')\n",
    "\n",
    "    model.symbol.save(symbol_file)\n",
    "    model.save_params(params_file)\n",
    "\n",
    "    data_shapes = [[dim for dim in data_desc.shape] for data_desc in model.data_shapes]\n",
    "    output_path = os.path.join(model_dir, 'model.onnx')\n",
    "    \n",
    "    onnx_mxnet.export_model(symbol_file, params_file, data_shapes, np.float32, output_path)\n",
    "```\n",
    "\n",
    "The last line in that method, `onnx_mxnet.export_model`, saves the model in the ONNX format. We pass the following arguments:\n",
    "\n",
    "* `symbol_file`: path to the saved input symbol file\n",
    "* `params_file`: path to the saved input params file\n",
    "* `data_shapes`: list of the input shapes\n",
    "* `np.float32`: input data type\n",
    "* `output_path`: path to save the generated ONNX file\n",
    "\n",
    "For more information, see the [MXNet Documentation](https://mxnet.incubator.apache.org/api/python/contrib/onnx.html#mxnet.contrib.onnx.mx2onnx.export_model.export_model)."
   ]
  },
  {
   "cell_type": "markdown",
   "metadata": {},
   "source": [
    "### Training the model\n",
    "\n",
    "With the training script written to export an ONNX model, the rest of training process looks like any other Amazon SageMaker training job using MXNet. For a more in-depth explanation of these steps, see the [MXNet MNIST notebook](https://github.com/awslabs/amazon-sagemaker-examples/blob/master/sagemaker-python-sdk/mxnet_mnist/mxnet_mnist.ipynb)."
   ]
  },
  {
   "cell_type": "code",
   "execution_count": null,
   "metadata": {},
   "outputs": [],
   "source": [
    "from sagemaker.mxnet import MXNet\n",
    "\n",
    "mnist_estimator = MXNet(entry_point='mnist.py',\n",
    "                        role=role,\n",
    "                        output_path=model_artifacts_location,\n",
    "                        code_location=custom_code_upload_location,\n",
    "                        train_instance_count=1,\n",
    "                        train_instance_type='ml.m4.xlarge',\n",
    "                        framework_version='1.6.0',\n",
    "                        py_version='py3',\n",
    "                        hyperparameters={'learning-rate': 0.1})\n",
    "\n",
    "train_data_location = 's3://sagemaker-sample-data-{}/mxnet/mnist/train'.format(region)\n",
    "test_data_location = 's3://sagemaker-sample-data-{}/mxnet/mnist/test'.format(region)\n",
    "\n",
    "mnist_estimator.fit({'train': train_data_location, 'test': test_data_location})"
   ]
  },
  {
   "cell_type": "markdown",
   "metadata": {},
   "source": [
    "### Next steps\n",
    "\n",
    "Now that we have an ONNX model, we can deploy it to an endpoint in the same way we do in the [MXNet MNIST notebook](https://github.com/awslabs/amazon-sagemaker-examples/blob/master/sagemaker-python-sdk/mxnet_mnist/mxnet_mnist.ipynb).\n",
    "\n",
    "For examples on how to write a `model_fn` to load the ONNX model, please refer to:\n",
    "* the [MXNet ONNX Super Resolution notebook](https://github.com/awslabs/amazon-sagemaker-examples/tree/master/sagemaker-python-sdk/mxnet_onnx_superresolution)\n",
    "* the [MXNet documentation](https://mxnet.incubator.apache.org/api/python/contrib/onnx.html#mxnet.contrib.onnx.onnx2mx.import_model.import_model)"
   ]
  }
 ],
 "metadata": {
  "kernelspec": {
   "display_name": "conda_mxnet_p36",
   "language": "python",
   "name": "conda_mxnet_p36"
  },
  "language_info": {
   "codemirror_mode": {
    "name": "ipython",
    "version": 3
   },
   "file_extension": ".py",
   "mimetype": "text/x-python",
   "name": "python",
   "nbconvert_exporter": "python",
   "pygments_lexer": "ipython3",
   "version": "3.6.5"
  }
 },
 "nbformat": 4,
 "nbformat_minor": 2
}