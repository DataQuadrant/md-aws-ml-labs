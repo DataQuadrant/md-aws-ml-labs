{
 "cells": [
  {
   "cell_type": "markdown",
   "metadata": {},
   "source": [
    "# Amazon SageMaker Model Monitor\n",
    "This notebook shows how to:\n",
    "* Host a machine learning model in Amazon SageMaker and capture inference requests, results, and metadata \n",
    "* Analyze a training dataset to generate baseline constraints\n",
    "* Monitor a live endpoint for violations against constraints\n",
    "\n",
    "---\n",
    "## Background\n",
    "\n",
    "Amazon SageMaker provides every developer and data scientist with the ability to build, train, and deploy machine learning models quickly. Amazon SageMaker is a fully-managed service that encompasses the entire machine learning workflow. You can label and prepare your data, choose an algorithm, train a model, and then tune and optimize it for deployment. You can deploy your models to production with Amazon SageMaker to make predictions and lower costs than was previously possible.\n",
    "\n",
    "In addition, Amazon SageMaker enables you to capture the input, output and metadata for invocations of the models that you deploy. It also enables you to analyze the data and monitor its quality. In this notebook, you learn how Amazon SageMaker enables these capabilities.\n",
    "\n",
    "---\n",
    "## Setup\n",
    "\n",
    "To get started, make sure you have these prerequisites completed.\n",
    "\n",
    "* Specify an AWS Region to host your model.\n",
    "* An IAM role ARN exists that is used to give Amazon SageMaker access to your data in Amazon Simple Storage Service (Amazon S3). See the documentation for how to fine tune the permissions needed. \n",
    "* Create an S3 bucket used to store the data used to train your model, any additional model data, and the data captured from model invocations. For demonstration purposes, you are using the same bucket for these. In reality, you might want to separate them with different security policies."
   ]
  },
  {
   "cell_type": "code",
   "execution_count": 1,
   "metadata": {},
   "outputs": [
    {
     "name": "stdout",
     "output_type": "stream",
     "text": "RoleArn: arn:aws:iam::868024899531:role/service-role/AmazonSageMaker-ExecutionRole-20200530T112594\nDemo Bucket: md-labs-bucket\nCapture path: s3://md-labs-bucket/md-labs-model-inference-monitoring/datacapture\nReport path: s3://md-labs-bucket/md-labs-model-inference-monitoring/reports\nPreproc Code path: s3://md-labs-bucket/md-labs-model-inference-monitoring/code/preprocessor.py\nPostproc Code path: s3://md-labs-bucket/md-labs-model-inference-monitoring/code/postprocessor.py\nCPU times: user 862 ms, sys: 602 ms, total: 1.46 s\nWall time: 721 ms\n"
    }
   ],
   "source": [
    "%%time\n",
    "\n",
    "# Handful of configuration\n",
    "\n",
    "import os\n",
    "import boto3\n",
    "import re\n",
    "import json\n",
    "from sagemaker import get_execution_role, session\n",
    "\n",
    "region= boto3.Session().region_name\n",
    "\n",
    "# role = get_execution_role()\n",
    "role = 'arn:aws:iam::868024899531:role/service-role/AmazonSageMaker-ExecutionRole-20200530T112594'\n",
    "print(\"RoleArn: {}\".format(role))\n",
    "\n",
    "# You can use a different bucket, but make sure the role you chose for this notebook\n",
    "# has the s3:PutObject permissions. This is the bucket into which the data is captured\n",
    "# bucket =  session.Session(boto3.Session()).default_bucket()\n",
    "bucket = 'md-labs-bucket'\n",
    "print(\"Demo Bucket: {}\".format(bucket))\n",
    "prefix = 'md-labs-model-inference-monitoring'\n",
    "\n",
    "data_capture_prefix = '{}/datacapture'.format(prefix)\n",
    "s3_capture_upload_path = 's3://{}/{}'.format(bucket, data_capture_prefix)\n",
    "reports_prefix = '{}/reports'.format(prefix)\n",
    "s3_report_path = 's3://{}/{}'.format(bucket,reports_prefix)\n",
    "code_prefix = '{}/code'.format(prefix)\n",
    "s3_code_preprocessor_uri = 's3://{}/{}/{}'.format(bucket,code_prefix, 'preprocessor.py')\n",
    "s3_code_postprocessor_uri = 's3://{}/{}/{}'.format(bucket,code_prefix, 'postprocessor.py')\n",
    "\n",
    "print(\"Capture path: {}\".format(s3_capture_upload_path))\n",
    "print(\"Report path: {}\".format(s3_report_path))\n",
    "print(\"Preproc Code path: {}\".format(s3_code_preprocessor_uri))\n",
    "print(\"Postproc Code path: {}\".format(s3_code_postprocessor_uri))"
   ]
  },
  {
   "cell_type": "markdown",
   "metadata": {},
   "source": [
    "You can quickly verify that the execution role for this notebook has the necessary permissions to proceed. Put a simple test object into the S3 bucket you speciﬁed above. If this command fails, update the role to have `s3:PutObject` permission on the bucket and try again."
   ]
  },
  {
   "cell_type": "code",
   "execution_count": 2,
   "metadata": {},
   "outputs": [
    {
     "name": "stdout",
     "output_type": "stream",
     "text": "Success! You are all set to proceed.\n"
    }
   ],
   "source": [
    "# Upload some test files\n",
    "boto3.Session().resource('s3').Bucket(bucket).Object(\"test_upload/test.txt\").upload_file('test_data/upload-test-file.txt')\n",
    "print(\"Success! You are all set to proceed.\")"
   ]
  },
  {
   "cell_type": "markdown",
   "metadata": {},
   "source": [
    "# PART A: Capturing real-time inference data from Amazon SageMaker endpoints\n",
    "Create an endpoint to showcase the data capture capability in action.\n",
    "\n",
    "### Upload the pre-trained model to Amazon S3\n",
    "This code uploads a pre-trained XGBoost model that is ready for you to deploy. This model was trained using the XGB Churn Prediction Notebook in SageMaker. You can also use your own pre-trained model in this step. If you already have a pretrained model in Amazon S3, you can add it instead by specifying the s3_key."
   ]
  },
  {
   "cell_type": "code",
   "execution_count": 3,
   "metadata": {},
   "outputs": [],
   "source": [
    "model_file = open(\"model/xgb-churn-prediction-model.tar.gz\", 'rb')\n",
    "s3_key = os.path.join(prefix, 'xgb-churn-prediction-model.tar.gz')\n",
    "boto3.Session().resource('s3').Bucket(bucket).Object(s3_key).upload_fileobj(model_file)"
   ]
  },
  {
   "cell_type": "markdown",
   "metadata": {},
   "source": [
    "### Deploy the model to Amazon SageMaker\n",
    "Start with deploying a pre-trained churn prediction model. Here, you create the model object with the image and model data."
   ]
  },
  {
   "cell_type": "code",
   "execution_count": 4,
   "metadata": {},
   "outputs": [],
   "source": [
    "from time import gmtime, strftime\n",
    "from sagemaker.model import Model\n",
    "from sagemaker.amazon.amazon_estimator import get_image_uri\n",
    "\n",
    "model_name = \"md-labs-xgb-churn-pred-model-monitor-\" + strftime(\"%Y-%m-%d-%H-%M-%S\", gmtime())\n",
    "model_url = 'https://{}.s3-{}.amazonaws.com/{}/xgb-churn-prediction-model.tar.gz'.format(bucket, region, prefix)\n",
    "image_uri = get_image_uri(boto3.Session().region_name, 'xgboost', '0.90-1')\n",
    "\n",
    "model = Model(image=image_uri, model_data=model_url, role=role)"
   ]
  },
  {
   "cell_type": "markdown",
   "metadata": {},
   "source": [
    "To enable data capture for monitoring the model data quality, you specify the new capture option called `DataCaptureConfig`. You can capture the request payload, the response payload or both with this configuration. The capture config applies to all variants. Go ahead with the deployment."
   ]
  },
  {
   "cell_type": "code",
   "execution_count": 5,
   "metadata": {},
   "outputs": [
    {
     "name": "stdout",
     "output_type": "stream",
     "text": "EndpointName=md-labs-xgb-churn-pred-model-monitor-2020-06-04-22-17-04\n-------------!"
    }
   ],
   "source": [
    "from sagemaker.model_monitor import DataCaptureConfig\n",
    "\n",
    "endpoint_name = 'md-labs-xgb-churn-pred-model-monitor-' + strftime(\"%Y-%m-%d-%H-%M-%S\", gmtime())\n",
    "print(\"EndpointName={}\".format(endpoint_name))\n",
    "\n",
    "data_capture_config = DataCaptureConfig(\n",
    "                        enable_capture=True,\n",
    "                        sampling_percentage=100,\n",
    "                        destination_s3_uri=s3_capture_upload_path)\n",
    "\n",
    "predictor = model.deploy(initial_instance_count=1,\n",
    "                instance_type='ml.m4.xlarge',\n",
    "                endpoint_name=endpoint_name,\n",
    "                data_capture_config=data_capture_config)"
   ]
  },
  {
   "cell_type": "markdown",
   "metadata": {},
   "source": [
    "## Invoke the deployed model\n",
    "\n",
    "You can now send data to this endpoint to get inferences in real time. Because you enabled the data capture in the previous steps, the request and response payload, along with some additional metadata, is saved in the Amazon Simple Storage Service (Amazon S3) location you have specified in the DataCaptureConfig."
   ]
  },
  {
   "cell_type": "markdown",
   "metadata": {},
   "source": [
    "This step invokes the endpoint with included sample data for about 2 minutes. Data is captured based on the sampling percentage specified and the capture continues until the data capture option is turned off."
   ]
  },
  {
   "cell_type": "code",
   "execution_count": 6,
   "metadata": {},
   "outputs": [
    {
     "name": "stdout",
     "output_type": "stream",
     "text": "Sending test traffic to the endpoint md-labs-xgb-churn-pred-model-monitor-2020-06-04-22-17-04. \nPlease wait...\nDone!\n"
    }
   ],
   "source": [
    "from sagemaker.predictor import RealTimePredictor\n",
    "import time\n",
    "\n",
    "predictor = RealTimePredictor(endpoint=endpoint_name,content_type='text/csv')\n",
    "\n",
    "# get a subset of test data for a quick test\n",
    "!head -120 test_data/test-dataset-input-cols.csv > test_data/test_sample.csv\n",
    "print(\"Sending test traffic to the endpoint {}. \\nPlease wait...\".format(endpoint_name))\n",
    "\n",
    "with open('test_data/test_sample.csv', 'r') as f:\n",
    "    for row in f:\n",
    "        payload = row.rstrip('\\n')\n",
    "        response = predictor.predict(data=payload)\n",
    "        time.sleep(0.5)\n",
    "        \n",
    "print(\"Done!\")        "
   ]
  },
  {
   "cell_type": "markdown",
   "metadata": {},
   "source": [
    "## View captured data\n",
    "\n",
    "Now list the data capture files stored in Amazon S3. You should expect to see different files from different time periods organized based on the hour in which the invocation occurred. The format of the Amazon S3 path is:\n",
    "\n",
    "`s3://{destination-bucket-prefix}/{endpoint-name}/{variant-name}/yyyy/mm/dd/hh/filename.jsonl`"
   ]
  },
  {
   "cell_type": "code",
   "execution_count": 7,
   "metadata": {},
   "outputs": [
    {
     "name": "stdout",
     "output_type": "stream",
     "text": "Found Capture Files:\nmd-labs-model-inference-monitoring/datacapture/md-labs-xgb-churn-pred-model-monitor-2020-06-04-22-17-04/AllTraffic/2020/06/04/22/32-38-693-bcc5745c-509a-4e6b-adbf-35f7d79cbf7c.jsonl\n"
    }
   ],
   "source": [
    "s3_client = boto3.Session().client('s3')\n",
    "current_endpoint_capture_prefix = '{}/{}'.format(data_capture_prefix, endpoint_name)\n",
    "result = s3_client.list_objects(Bucket=bucket, Prefix=current_endpoint_capture_prefix)\n",
    "capture_files = [capture_file.get(\"Key\") for capture_file in result.get('Contents')]\n",
    "print(\"Found Capture Files:\")\n",
    "print(\"\\n \".join(capture_files))"
   ]
  },
  {
   "cell_type": "markdown",
   "metadata": {},
   "source": [
    "Next, view the contents of a single capture file. Here you should see all the data captured in an Amazon SageMaker specific JSON-line formatted file. Take a quick peek at the first few lines in the captured file."
   ]
  },
  {
   "cell_type": "code",
   "execution_count": 8,
   "metadata": {},
   "outputs": [
    {
     "name": "stdout",
     "output_type": "stream",
     "text": "{\"captureData\":{\"endpointInput\":{\"observedContentType\":\"text/csv\",\"mode\":\"INPUT\",\"data\":\"186,0.1,137.8,97,187.7,118,146.4,85,8.7,6,1,0.2,0.3,0.4,0.5,0.6,0.7,0.8,0.9,0.10,0.11,0.12,0.13,0.14,0.15,0.16,0.17,1.1,0.18,0.19,0.20,0.21,0.22,0.23,0.24,0.25,0.26,0.27,0.28,0.29,0.30,0.31,0.32,0.33,0.34,0.35,0.36,0.37,0.38,0.39,0.40,0.41,0.42,0.43,0.44,0.45,0.46,0.47,0.48,0.49,0.50,0.51,0.52,0.53,1.2,1.3,0.54,1.4,0.55\",\"encoding\":\"CSV\"},\"endpointOutput\":{\"observedContentType\":\"text/csv; charset=utf-8\",\"mode\":\"OUTPUT\",\"data\":\"0.01584203727543354\",\"encoding\":\"CSV\"}},\"eventMetadata\":{\"eventId\":\"01a4727b-f5e3-4265-8d37-fdb7c6cabb34\",\"inferenceTime\":\"2020-06-04T22:32:38Z\"},\"eventVersion\":\"0\"}\n{\"captureData\":{\"endpointInput\":{\"observedContentType\":\"text/csv\",\"mode\":\"INPUT\",\"data\":\"132,25,113.2,96,269.9,107,229.1,87,7.1,7,2,0,0,0,0,0,0,0,0,0,0,0,0,0,0,0,0,0,0,0,1,0,0,0,0,0,0,0,0,0,0,0,0,0,0,0,0,0,0,0,0,0,0,0,0,0,0,0,0,0,0,0,0,1,0,1,0,0,1\",\"encoding\":\"CSV\"},\"endpointOutput\":{\"observedContentType\":\"text/csv; charset=utf-8\",\"mode\":\"OUTPUT\",\"data\":\"0.01076381653547287\",\"encoding\":\"CSV\"}},\"eventMetadata\":{\"eventId\":\"b0d5f5bd-b0cd-4cdc-8c0e-7ec4e4d95900\",\"inferenceTime\":\"2020-06-04T22:32:39Z\"},\"eventVersion\":\"0\"}\n{\"captureData\":{\"endpointInput\":{\"observedContentType\":\"text/csv\",\"mode\":\"INPUT\",\"data\":\"112,17,183.2,95,252.8,125,156.7,95,9.7,3,0,0,0,0,0,0,0,0,0,0,0,0,0,0,0,0,0,0,0,0,1,0,0,0,0,0,0,0,0,0,0,0,0,0,0,0,0,0,0,0,0,0,0,0,0,0,0,0,0,0,0,0,0,1,0,1,0,0,1\",\"encoding\":\"CSV\"},\"endpointOutput\":{\"observedContentType\":\"text/csv; charset=utf-8\",\"mode\":\"OUTPUT\",\"data\":\"0.008150676265358925\",\"encoding\":\"CSV\"}},\"eventMetadata\":{\"eventId\":\"9d17ced4-6288-416b-bba2-e399738d5d9c\",\"inferenceTime\":\"2020-06-04T22:32:39Z\"},\"eventVersion\":\"0\"}\n{\"captureData\":{\"endpointInput\":{\"observedContentType\":\"text/csv\",\"mode\":\"INPUT\",\"data\":\"91,24,93.5,112,183.4,128,240.7,133,9.9,3,0,0,0,0,0,0,0,0,0,0,1,0,0,0,0,0,0,0,0,0,0,0,0,0,0,0,0,0,0,0,0,0,0,0,0,0,0,0,0,0,0,0,0,0,0,0,0,0,0,0,0,0,0,0,1,0,1,0,1\",\"encoding\":\"CSV\"},\n"
    }
   ],
   "source": [
    "def get_obj_body(obj_key):\n",
    "    return s3_client.get_object(Bucket=bucket, Key=obj_key).get('Body').read().decode(\"utf-8\")\n",
    "\n",
    "capture_file = get_obj_body(capture_files[-1])\n",
    "print(capture_file[:2000])"
   ]
  },
  {
   "cell_type": "markdown",
   "metadata": {},
   "source": [
    "Finally, the contents of a single line is present below in a formatted JSON file so that you can observe a little better."
   ]
  },
  {
   "cell_type": "code",
   "execution_count": 9,
   "metadata": {},
   "outputs": [
    {
     "name": "stdout",
     "output_type": "stream",
     "text": "{\n  \"captureData\": {\n    \"endpointInput\": {\n      \"observedContentType\": \"text/csv\",\n      \"mode\": \"INPUT\",\n      \"data\": \"186,0.1,137.8,97,187.7,118,146.4,85,8.7,6,1,0.2,0.3,0.4,0.5,0.6,0.7,0.8,0.9,0.10,0.11,0.12,0.13,0.14,0.15,0.16,0.17,1.1,0.18,0.19,0.20,0.21,0.22,0.23,0.24,0.25,0.26,0.27,0.28,0.29,0.30,0.31,0.32,0.33,0.34,0.35,0.36,0.37,0.38,0.39,0.40,0.41,0.42,0.43,0.44,0.45,0.46,0.47,0.48,0.49,0.50,0.51,0.52,0.53,1.2,1.3,0.54,1.4,0.55\",\n      \"encoding\": \"CSV\"\n    },\n    \"endpointOutput\": {\n      \"observedContentType\": \"text/csv; charset=utf-8\",\n      \"mode\": \"OUTPUT\",\n      \"data\": \"0.01584203727543354\",\n      \"encoding\": \"CSV\"\n    }\n  },\n  \"eventMetadata\": {\n    \"eventId\": \"01a4727b-f5e3-4265-8d37-fdb7c6cabb34\",\n    \"inferenceTime\": \"2020-06-04T22:32:38Z\"\n  },\n  \"eventVersion\": \"0\"\n}\n"
    }
   ],
   "source": [
    "import json\n",
    "print(json.dumps(json.loads(capture_file.split('\\n')[0]), indent=2))"
   ]
  },
  {
   "cell_type": "markdown",
   "metadata": {},
   "source": [
    "As you can see, each inference request is captured in one line in the jsonl file. The line contains both the input and output merged together. In the example, you provided the ContentType as `text/csv` which is reflected in the `observedContentType` value. Also, you expose the encoding that you used to encode the input and output payloads in the capture format with the `encoding` value.\n",
    "\n",
    "To recap, you observed how you can enable capturing the input or output payloads to an endpoint with a new parameter. You have also observed what the captured format looks like in Amazon S3. Next, continue to explore how Amazon SageMaker helps with monitoring the data collected in Amazon S3."
   ]
  },
  {
   "cell_type": "markdown",
   "metadata": {},
   "source": [
    "# PART B: Model Monitor - Baseling and continuous monitoring"
   ]
  },
  {
   "cell_type": "markdown",
   "metadata": {},
   "source": [
    "In addition to collecting the data, Amazon SageMaker provides the capability for you to monitor and evaluate the data observed by the endpoints. For this:\n",
    "1. Create a baseline with which you compare the realtime traffic. \n",
    "1. Once a baseline is ready, setup a schedule to continously evaluate and compare against the baseline."
   ]
  },
  {
   "cell_type": "markdown",
   "metadata": {},
   "source": [
    "## 1. Constraint suggestion with baseline/training dataset"
   ]
  },
  {
   "cell_type": "markdown",
   "metadata": {},
   "source": [
    "The training dataset with which you trained the model is usually a good baseline dataset. Note that the training dataset data schema and the inference dataset schema should exactly match (i.e. the number and order of the features).\n",
    "\n",
    "From the training dataset you can ask Amazon SageMaker to suggest a set of baseline `constraints` and generate descriptive `statistics` to explore the data. For this example, upload the training dataset that was used to train the pre-trained model included in this example. If you already have it in Amazon S3, you can directly point to it."
   ]
  },
  {
   "cell_type": "code",
   "execution_count": 10,
   "metadata": {},
   "outputs": [
    {
     "name": "stdout",
     "output_type": "stream",
     "text": "Baseline data uri: s3://md-labs-bucket/md-labs-model-inference-monitoring/baselining/data\nBaseline results uri: s3://md-labs-bucket/md-labs-model-inference-monitoring/baselining/results\n"
    }
   ],
   "source": [
    "# copy over the training dataset to Amazon S3 (if you already have it in Amazon S3, you could reuse it)\n",
    "baseline_prefix = prefix + '/baselining'\n",
    "baseline_data_prefix = baseline_prefix + '/data'\n",
    "baseline_results_prefix = baseline_prefix + '/results'\n",
    "\n",
    "baseline_data_uri = 's3://{}/{}'.format(bucket,baseline_data_prefix)\n",
    "baseline_results_uri = 's3://{}/{}'.format(bucket, baseline_results_prefix)\n",
    "print('Baseline data uri: {}'.format(baseline_data_uri))\n",
    "print('Baseline results uri: {}'.format(baseline_results_uri))\n"
   ]
  },
  {
   "cell_type": "code",
   "execution_count": 11,
   "metadata": {},
   "outputs": [],
   "source": [
    "training_data_file = open(\"test_data/training-dataset-with-header.csv\", 'rb')\n",
    "s3_key = os.path.join(baseline_prefix, 'data', 'training-dataset-with-header.csv')\n",
    "boto3.Session().resource('s3').Bucket(bucket).Object(s3_key).upload_fileobj(training_data_file)"
   ]
  },
  {
   "cell_type": "markdown",
   "metadata": {},
   "source": [
    "### Create a baselining job with training dataset"
   ]
  },
  {
   "cell_type": "markdown",
   "metadata": {},
   "source": [
    "Now that you have the training data ready in Amazon S3, start a job to `suggest` constraints. `DefaultModelMonitor.suggest_baseline(..)` starts a `ProcessingJob` using an Amazon SageMaker provided Model Monitor container to generate the constraints."
   ]
  },
  {
   "cell_type": "code",
   "execution_count": 12,
   "metadata": {},
   "outputs": [
    {
     "name": "stdout",
     "output_type": "stream",
     "text": ", 0.0, 0.0, 0.0, 0.0, 0.0, 0.0, 0.0, 0.0, 0.0, 0.0, 0.0, 0.0, 0.0, 0.0, 0.0, 0.0, 0.0, 0.0, 0.0, 0.0, 0.0, 0.0, 0.0, 0.0, 0.0, 0.0, 0.0, 0.0, 0.0, 0.0, 0.0, 0.0, 0.0, 0.0, 0.0, 0.0, 0.0, 0.0, 0.0, 0.0, 0.0, 0.0, 0.0, 0.0, 0.0, 0.0, 0.0, 0.0, 0.0, 0.0, 0.0, 0.0, 0.0, 0.0, 0.0, 0.0, 0.0, 0.0, 0.0, 0.0, 0.0, 0.0, 0.0, 0.0, 0.0, 0.0, 0.0, 0.0, 0.0, 0.0, 0.0, 0.0, 0.0, 0.0, 0.0, 0.0, 0.0, 0.0, 0.0, 0.0, 0.0, 0.0, 0.0, 0.0, 0.0, 0.0, 0.0, 0.0, 0.0, 0.0, 0.0, 0.0, 0.0, 0.0, 0.0, 0.0, 0.0, 0.0, 0.0, 0.0, 0.0, 0.0, 0.0, 0.0, 0.0, 0.0, 0.0, 0.0, 0.0, 0.0, 0.0, 0.0, 0.0, 0.0, 0.0, 0.0, 0.0, 0.0, 0.0, 0.0, 0.0, 0.0, 0.0, 0.0, 0.0, 0.0, 0.0, 0.0, 0.0, 0.0, 0.0, 0.0, 0.0, 0.0, 0.0, 0.0, 0.0, 0.0, 0.0, 0.0, 0.0, 0.0, 0.0, 0.0, 0.0, 0.0, 0.0, 0.0, 0.0, 0.0, 0.0, 0.0, 0.0, 0.0, 0.0, 0.0, 0.0, 0.0, 0.0, 0.0, 0.0, 0.0, 0.0, 0.0, 0.0, 0.0, 0.0, 0.0, 0.0, 0.0, 0.0, 0.0, 0.0, 0.0, 0.0, 0.0, 0.0, 0.0, 0.0, 0.0, 0.0, 0.0, 0.0, 0.0, 0.0, 0.0, 0.0, 0.0, 0.0, 0.0, 0.0, 0.0, 0.0, 0.0, 0.0, 0.0, 0.0, 0.0, 0.0, 0.0, 0.0, 0.0, 0.0, 0.0, 0.0, 0.0, 0.0, 0.0, 0.0, 0.0, 0.0, 0.0, 0.0, 0.0, 0.0, 0.0, 0.0, 0.0, 0.0, 0.0, 0.0, 0.0, 0.0, 0.0, 0.0, 0.0, 0.0, 0.0, 0.0, 0.0, 0.0, 0.0, 0.0, 0.0, 0.0, 0.0, 0.0, 0.0, 0.0, 0.0, 0.0, 0.0, 0.0, 0.0, 0.0, 0.0, 0.0, 0.0, 0.0, 0.0, 0.0, 0.0, 0.0, 0.0, 0.0, 0.0, 0.0, 0.0, 0.0, 0.0, 0.0, 0.0, 0.0, 0.0, 0.0, 0.0, 0.0, 0.0, 0.0, 0.0, 0.0, 0.0, 0.0, 0.0, 0.0, 0.0, 0.0, 0.0, 0.0, 0.0, 0.0, 0.0, 0.0, 0.0, 0.0, 0.0, 0.0, 0.0, 0.0, 0.0, 0.0, 0.0, 0.0, 0.0, 0.0, 0.0, 0.0, 0.0, 0.0, 0.0, 0.0, 0.0, 0.0, 0.0, 0.0, 0.0, 0.0, 0.0, 0.0, 0.0, 0.0, 0.0, 0.0, 0.0, 0.0, 0.0, 0.0, 0.0, 0.0, 0.0, 0.0, 0.0, 0.0, 0.0, 0.0, 0.0, 0.0, 0.0, 0.0, 0.0, 0.0, 0.0, 0.0, 0.0, 0.0, 0.0, 0.0, 0.0, 0.0, 0.0, 0.0, 0.0, 0.0, 0.0, 0.0, 0.0, 0.0, 0.0, 0.0, 0.0, 0.0, 0.0, 0.0, 0.0, 0.0, 0.0, 0.0, 0.0, 0.0, 0.0, 0.0, 0.0, 0.0, 0.0, 0.0, 0.0, 0.0, 0.0, 0.0, 0.0, 0.0, 0.0, 0.0, 0.0, 0.0, 0.0, 0.0, 0.0, 0.0, 0.0, 0.0, 0.0, 0.0, 0.0, 0.0, 0.0, 0.0, 0.0, 0.0, 0.0, 0.0, 0.0, 0.0, 0.0, 0.0, 0.0, 0.0, 0.0, 0.0, 0.0, 0.0, 0.0, 0.0, 0.0, 0.0, 0.0, 0.0, 0.0, 0.0, 0.0, 0.0, 0.0, 0.0, 0.0, 0.0, 0.0, 0.0, 0.0, 0.0, 0.0, 0.0, 0.0, 0.0, 0.0, 0.0, 0.0, 0.0, 0.0, 0.0, 0.0, 0.0, 0.0, 0.0, 0.0, 0.0, 0.0, 0.0, 0.0, 0.0, 0.0, 0.0, 0.0, 0.0, 0.0, 0.0, 0.0, 0.0, 0.0, 0.0, 0.0, 0.0, 0.0, 0.0, 0.0, 0.0, 0.0, 0.0, 0.0, 0.0, 0.0, 0.0, 0.0, 0.0, 0.0, 0.0, 0.0, 0.0, 0.0, 0.0, 0.0, 0.0, 0.0, 0.0, 0.0, 0.0, 0.0, 0.0, 0.0, 0.0, 0.0, 0.0, 0.0, 0.0, 0.0, 0.0, 0.0, 0.0, 0.0, 0.0, 0.0, 0.0, 0.0, 0.0, 0.0, 0.0, 0.0, 0.0, 0.0, 0.0, 0.0, 0.0, 0.0, 0.0, 0.0, 0.0, 0.0, 0.0, 0.0, 0.0, 0.0, 0.0, 0.0, 0.0, 0.0, 0.0, 0.0, 0.0, 0.0, 0.0, 0.0, 0.0, 0.0, 0.0, 0.0, 0.0, 0.0, 0.0, 0.0, 0.0, 0.0, 0.0, 0.0, 0.0, 0.0, 0.0, 0.0, 0.0, 0.0, 0.0, 0.0, 0.0, 0.0, 0.0, 0.0, 0.0, 0.0, 0.0, 0.0, 0.0, 0.0, 0.0, 0.0, 0.0, 0.0, 0.0, 0.0, 0.0, 0.0, 0.0, 0.0, 0.0, 0.0, 0.0, 0.0, 0.0, 0.0, 0.0, 0.0, 0.0, 0.0, 0.0, 0.0, 0.0, 0.0, 0.0, 0.0, 0.0, 0.0, 0.0, 0.0, 0.0, 0.0, 0.0, 0.0, 0.0, 0.0, 0.0, 0.0, 0.0, 0.0, 0.0, 0.0, 0.0, 0.0, 0.0, 0.0, 0.0, 0.0, 0.0, 0.0, 0.0, 0.0, 0.0, 0.0, 0.0, 0.0, 0.0, 0.0, 0.0, 0.0, 0.0, 0.0, 0.0, 0.0, 0.0, 0.0, 0.0, 0.0, 0.0, 0.0, 0.0, 0.0, 0.0, 0.0, 0.0, 0.0, 0.0, 0.0, 0.0, 0.0, 0.0, 0.0, 0.0, 0.0, 0.0, 0.0, 0.0, 0.0, 0.0, 0.0, 0.0, 0.0, 0.0, 0.0, 0.0, 0.0, 0.0, 0.0, 0.0, 0.0, 0.0, 0.0, 0.0, 0.0, 0.0, 0.0, 0.0, 0.0, 0.0, 0.0, 0.0, 0.0, 0.0, 0.0, 0.0, 0.0, 0.0, 0.0, 0.0, 0.0, 0.0, 0.0, 0.0, 0.0, 0.0, 0.0, 0.0, 0.0, 0.0, 0.0, 0.0, 0.0, 0.0, 0.0, 0.0, 0.0, 0.0, 0.0, 0.0, 0.0, 0.0, 0.0, 0.0, 0.0, 0.0, 0.0, 0.0, 0.0, 0.0, 0.0, 0.0, 0.0, 0.0, 0.0, 0.0, 0.0, 0.0, 0.0, 0.0, 0.0, 0.0, 0.0, 0.0, 0.0, 0.0, 0.0, 0.0, 0.0, 0.0, 0.0, 0.0, 0.0, 0.0, 0.0, 0.0, 0.0, 0.0, 0.0, 0.0, 0.0, 0.0, 0.0, 0.0, 0.0, 0.0, 0.0, 0.0, 0.0, 0.0, 0.0, 0.0, 0.0, 0.0, 0.0, 0.0, 0.0, 0.0, 0.0, 0.0, 0.0, 0.0, 0.0, 0.0, 0.0, 0.0, 0.0, 0.0, 0.0, 0.0, 0.0, 0.0, 0.0, 0.0, 0.0, 0.0, 0.0, 0.0, 0.0, 0.0, 0.0, 0.0, 0.0, 0.0, 0.0, 0.0, 0.0, 0.0, 0.0, 0.0, 0.0, 0.0, 0.0, 0.0, 0.0, 0.0, 0.0, 0.0, 0.0, 0.0, 0.0, 0.0, 0.0, 0.0, 0.0, 0.0, 0.0, 0.0, 0.0, 0.0, 0.0, 0.0, 0.0, 0.0, 0.0, 0.0, 0.0, 0.0, 0.0, 0.0, 0.0, 0.0, 0.0, 0.0, 0.0, 0.0, 0.0, 0.0, 0.0, 0.0, 0.0, 0.0, 0.0, 0.0, 0.0, 0.0, 0.0, 0.0, 0.0, 0.0, 0.0, 0.0, 0.0, 0.0, 0.0, 0.0, 0.0, 0.0, 0.0, 0.0, 0.0, 0.0, 0.0, 0.0, 0.0, 0.0, 0.0, 0.0, 0.0, 0.0, 0.0, 0.0, 0.0, 0.0, 0.0, 0.0, 0.0, 0.0, 0.0, 0.0, 0.0, 0.0, 0.0, 0.0, 0.0, 0.0, 0.0, 0.0, 0.0, 0.0, 0.0, 0.0, 0.0, 0.0, 0.0, 0.0, 0.0, 0.0, 0.0, 0.0, 0.0, 0.0, 0.0, 0.0, 0.0, 0.0, 0.0, 0.0, 0.0, 0.0, 0.0, 0.0, 0.0, 0.0, 0.0, 0.0, 0.0, 0.0, 0.0, 0.0, 0.0, 0.0, 0.0, 0.0, 0.0, 0.0, 0.0, 0.0, 0.0, 0.0, 0.0, 0.0, 0.0, 0.0, 0.0, 0.0, 0.0, 0.0, 0.0, 0.0, 0.0, 0.0, 0.0, 0.0, 0.0, 0.0, 0.0, 0.0, 0.0, 0.0, 0.0, 0.0, 0.0, 0.0, 0.0, 0.0, 0.0, 0.0, 0.0, 0.0, 0.0, 0.0, 0.0, 0.0, 0.0, 0.0, 0.0, 0.0, 0.0, 0.0, 0.0, 0.0, 0.0, 0.0, 0.0, 0.0, 0.0, 0.0, 0.0, 0.0, 0.0, 0.0, 0.0, 0.0, 0.0, 0.0, 0.0, 0.0, 0.0, 0.0, 0.0, 0.0, 0.0, 0.0, 0.0, 0.0, 0.0, 0.0, 0.0, 0.0, 0.0, 0.0, 0.0, 0.0, 0.0, 0.0, 0.0, 1.0, 1.0, 1.0, 1.0, 1.0, 1.0, 1.0, 1.0, 1.0, 1.0, 1.0, 1.0, 1.0, 1.0, 1.0, 1.0, 1.0, 1.0, 1.0, 1.0, 1.0, 1.0 ] ]\n          }\n        }\n      }\n    }\n  }, {\n    \"name\" : \"State_KY\",\n    \"inferred_type\" : \"Integral\",\n    \"numerical_statistics\" : {\n      \"common\" : {\n        \"num_present\" : 2333,\n        \"num_missing\" : 0\n      },\n      \"mean\" : 0.018859837119588514,\n      \"sum\" : 44.0,\n      \"std_dev\" : 0.13602993664414845,\n      \"min\" : 0.0,\n      \"max\" : 1.0,\n      \"distribution\" : {\n        \"kll\" : {\n          \"buckets\" : [ {\n            \"lower_bound\" : 0.0,\n            \"upper_bound\" : 0.1,\n            \"count\" : 2289.0\n          }, {\n            \"lower_bound\" : 0.1,\n            \"upper_bound\" : 0.2,\n            \"count\" : 0.0\n          }, {\n            \"lower_bound\" : 0.2,\n            \"upper_bound\" : 0.3,\n            \"count\" : 0.0\n          }, {\n            \"lower_bound\" : 0.3,\n            \"upper_bound\" : 0.4,\n            \"count\" : 0.0\n          }, {\n            \"lower_bound\" : 0.4,\n            \"upper_bound\" : 0.5,\n            \"count\" : 0.0\n          }, {\n            \"lower_bound\" : 0.5,\n            \"upper_bound\" : 0.6,\n            \"count\" : 0.0\n          }, {\n            \"lower_bound\" : 0.6,\n            \"upper_bound\" : 0.7,\n            \"count\" : 0.0\n          }, {\n            \"lower_bound\" : 0.7,\n            \"upper_bound\" : 0.8,\n            \"count\" : 0.0\n          }, {\n            \"lower_bound\" : 0.8,\n            \"upper_bound\" : 0.9,\n            \"count\" : 0.0\n          }, {\n            \"lower_bound\" : 0.9,\n            \"upper_bound\" : 1.0,\n            \"count\" : 44.0\n          } ],\n          \"sketch\" : {\n            \"parameters\" : {\n              \"c\" : 0.64,\n              \"k\" : 2048.0\n            },\n[TRUNCATED MESSAGE] 6571 bytes are truncated.\n          }\n        }\n      }\n    }\n  }, {\n    \"name\" : \"State_LA\",\n    \"inferred_type\" : \"Integral\",\n    \"numerical_statistics\" : {\n      \"common\" : {\n        \"num_present\" : 2333,\n        \"num_missing\" : 0\n      },\n      \"mean\" : 0.017573939134162022,\n      \"sum\" : 41.0,\n      \"std_dev\" : 0.13139671151695853,\n      \"min\" : 0.0,\n      \"max\" : 1.0,\n      \"distribution\" : {\n        \"kll\" : {\n          \"buckets\" : [ {\n            \"lower_bound\" : 0.0,\n            \"upper_bound\" : 0.1,\n            \"count\" : 2292.0\n          }, {\n            \"lower_bound\" : 0.1,\n            \"upper_bound\" : 0.2,\n            \"count\" : 0.0\n          }, {\n            \"lower_bound\" : 0.2,\n            \"upper_bound\" : 0.3,\n            \"count\" : 0.0\n          }, {\n            \"lower_bound\" : 0.3,\n            \"upper_bound\" : 0.4,\n            \"count\" : 0.0\n          }, {\n            \"lower_bound\" : 0.4,\n            \"upper_bound\" : 0.5,\n            \"count\" : 0.0\n          }, {\n            \"lower_bound\" : 0.5,\n            \"upper_bound\" : 0.6,\n            \"count\" : 0.0\n          }, {\n            \"lower_bound\" : 0.6,\n            \"upper_bound\" : 0.7,\n            \"count\" : 0.0\n          }, {\n            \"lower_bound\" : 0.7,\n            \"upper_bound\" : 0.8,\n            \"count\" : 0.0\n          }, {\n            \"lower_bound\" : 0.8,\n            \"upper_bound\" : 0.9,\n            \"count\" : 0.0\n          }, {\n            \"lower_bound\" : 0.9,\n            \"upper_bound\" : 1.0,\n            \"count\" : 41.0\n          } ],\n          \"sketch\" : {\n            \"parameters\" : {\n              \"c\" : 0.64,\n              \"k\" : 2048.0\n            },\n[TRUNCATED MESSAGE] 6571 bytes are truncated.\n          }\n        }\n      }\n    }\n  }, {\n    \"name\" : \"State_MA\",\n    \"inferred_type\" : \"Integral\",\n    \"numerical_statistics\" : {\n      \"common\" : {\n        \"num_present\" : 2333,\n        \"num_missing\" : 0\n      },\n      \"mean\" : 0.015430775825117874,\n      \"sum\" : 36.0,\n      \"std_dev\" : 0.12325853715890375,\n      \"min\" : 0.0,\n      \"max\" : 1.0,\n      \"distribution\" : {\n        \"kll\" : {\n          \"buckets\" : [ {\n            \"lower_bound\" : 0.0,\n            \"upper_bound\" : 0.1,\n            \"count\" : 2298.0\n          }, {\n            \"lower_bound\" : 0.1,\n            \"upper_bound\" : 0.2,\n            \"count\" : 0.0\n          }, {\n            \"lower_bound\" : 0.2,\n            \"upper_bound\" : 0.3,\n            \"count\" : 0.0\n          }, {\n            \"lower_bound\" : 0.3,\n            \"upper_bound\" : 0.4,\n            \"count\" : 0.0\n          }, {\n            \"lower_bound\" : 0.4,\n            \"upper_bound\" : 0.5,\n            \"count\" : 0.0\n          }, {\n            \"lower_bound\" : 0.5,\n            \"upper_bound\" : 0.6,\n            \"count\" : 0.0\n          }, {\n            \"lower_bound\" : 0.6,\n            \"upper_bound\" : 0.7,\n            \"count\" : 0.0\n          }, {\n            \"lower_bound\" : 0.7,\n            \"upper_bound\" : 0.8,\n            \"count\" : 0.0\n          }, {\n            \"lower_bound\" : 0.8,\n            \"upper_bound\" : 0.9,\n            \"count\" : 0.0\n          }, {\n            \"lower_bound\" : 0.9,\n            \"upper_bound\" : 1.0,\n            \"count\" : 35.0\n          } ],\n          \"sketch\" : {\n            \"parameters\" : {\n              \"c\" : 0.64,\n              \"k\" : 2048.0\n            },\n[TRUNCATED MESSAGE] 6571 bytes are truncated.\n          }\n        }\n      }\n    }\n  }, {\n    \"name\" : \"State_MD\",\n    \"inferred_type\" : \"Integral\",\n    \"numerical_statistics\" : {\n      \"common\" : {\n        \"num_present\" : 2333,\n        \"num_missing\" : 0\n      },\n      \"mean\" : 0.020574367766823833,\n      \"sum\" : 48.0,\n      \"std_dev\" : 0.1419544404300876,\n      \"min\" : 0.0,\n      \"max\" : 1.0,\n      \"distribution\" : {\n        \"kll\" : {\n          \"buckets\" : [ {\n            \"lower_bound\" : 0.0,\n            \"upper_bound\" : 0.1,\n            \"count\" : 2285.0\n          }, {\n            \"lower_bound\" : 0.1,\n            \"upper_bound\" : 0.2,\n            \"count\" : 0.0\n          }, {\n            \"lower_bound\" : 0.2,\n            \"upper_bound\" : 0.3,\n            \"count\" : 0.0\n          }, {\n            \"lower_bound\" : 0.3,\n            \"upper_bound\" : 0.4,\n            \"count\" : 0.0\n          }, {\n            \"lower_bound\" : 0.4,\n            \"upper_bound\" : 0.5,\n            \"count\" : 0.0\n          }, {\n            \"lower_bound\" : 0.5,\n            \"upper_bound\" : 0.6,\n            \"count\" : 0.0\n          }, {\n            \"lower_bound\" : 0.6,\n            \"upper_bound\" : 0.7,\n            \"count\" : 0.0\n          }, {\n            \"lower_bound\" : 0.7,\n            \"upper_bound\" : 0.8,\n            \"count\" : 0.0\n          }, {\n            \"lower_bound\" : 0.8,\n            \"upper_bound\" : 0.9,\n            \"count\" : 0.0\n          }, {\n            \"lower_bound\" : 0.9,\n            \"upper_bound\" : 1.0,\n            \"count\" : 48.0\n          } ],\n          \"sketch\" : {\n            \"parameters\" : {\n              \"c\" : 0.64,\n              \"k\" : 2048.0\n            },\n[TRUNCATED MESSAGE] 6571 bytes are truncated.\n          }\n        }\n      }\n    }\n  }, {\n    \"name\" : \"State_ME\",\n    \"inferred_type\" : \"Integral\",\n    \"numerical_statistics\" : {\n      \"common\" : {\n        \"num_present\" : 2333,\n        \"num_missing\" : 0\n      },\n      \"mean\" : 0.017573939134162022,\n      \"sum\" : 41.0,\n      \"std_dev\" : 0.1313967115169584,\n      \"min\" : 0.0,\n      \"max\" : 1.0,\n      \"distribution\" : {\n        \"kll\" : {\n          \"buckets\" : [ {\n            \"lower_bound\" : 0.0,\n            \"upper_bound\" : 0.1,\n          }\u001b[0m\n\u001b[34m}\u001b[0m\n\u001b[34m2020-06-04 22:40:37 INFO  FileUtil:29 - Write to file statistics.json at path /opt/ml/processing/output.\u001b[0m\n\u001b[34m2020-06-04 22:40:37 INFO  BlockManagerInfo:54 - Removed broadcast_12_piece0 on algo-1:34415 in memory (size: 24.9 KB, free: 5.8 GB)\u001b[0m\n\u001b[34m2020-06-04 22:40:37 INFO  ContextCleaner:54 - Cleaned accumulator 339\u001b[0m\n\u001b[34m2020-06-04 22:40:37 INFO  ContextCleaner:54 - Cleaned accumulator 184\u001b[0m\n\u001b[34m2020-06-04 22:40:37 INFO  ContextCleaner:54 - Cleaned accumulator 174\u001b[0m\n\u001b[34m2020-06-04 22:40:37 INFO  ContextCleaner:54 - Cleaned accumulator 325\u001b[0m\n\u001b[34m2020-06-04 22:40:37 INFO  ContextCleaner:54 - Cleaned accumulator 242\u001b[0m\n\u001b[34m2020-06-04 22:40:37 INFO  ContextCleaner:54 - Cleaned accumulator 198\u001b[0m\n\u001b[34m2020-06-04 22:40:37 INFO  ContextCleaner:54 - Cleaned accumulator 202\u001b[0m\n\u001b[34m2020-06-04 22:40:37 INFO  ContextCleaner:54 - Cleaned accumulator 289\u001b[0m\n\u001b[34m2020-06-04 22:40:37 INFO  ContextCleaner:54 - Cleaned accumulator 194\u001b[0m\n\u001b[34m2020-06-04 22:40:37 INFO  ContextCleaner:54 - Cleaned accumulator 237\u001b[0m\n\u001b[34m2020-06-04 22:40:37 INFO  ContextCleaner:54 - Cleaned accumulator 180\u001b[0m\n\u001b[34m2020-06-04 22:40:37 INFO  ContextCleaner:54 - Cleaned accumulator 215\u001b[0m\n\u001b[34m2020-06-04 22:40:37 INFO  ContextCleaner:54 - Cleaned accumulator 209\u001b[0m\n\u001b[34m2020-06-04 22:40:37 INFO  ContextCleaner:54 - Cleaned accumulator 213\u001b[0m\n\u001b[34m2020-06-04 22:40:37 INFO  ContextCleaner:54 - Cleaned accumulator 133\u001b[0m\n\u001b[34m2020-06-04 22:40:37 INFO  ContextCleaner:54 - Cleaned accumulator 208\u001b[0m\n\u001b[34m2020-06-04 22:40:37 INFO  ContextCleaner:54 - Cleaned accumulator 195\u001b[0m\n\u001b[34m2020-06-04 22:40:37 INFO  ContextCleaner:54 - Cleaned accumulator 225\u001b[0m\n\u001b[34m2020-06-04 22:40:37 INFO  ContextCleaner:54 - Cleaned accumulator 256\u001b[0m\n\u001b[34m2020-06-04 22:40:37 INFO  ContextCleaner:54 - Cleaned accumulator 277\u001b[0m\n\u001b[34m2020-06-04 22:40:37 INFO  ContextCleaner:54 - Cleaned accumulator 217\u001b[0m\n\u001b[34m2020-06-04 22:40:37 INFO  ContextCleaner:54 - Cleaned accumulator 331\u001b[0m\n\u001b[34m2020-06-04 22:40:37 INFO  ContextCleaner:54 - Cleaned accumulator 183\u001b[0m\n\u001b[34m2020-06-04 22:40:37 INFO  ContextCleaner:54 - Cleaned accumulator 263\u001b[0m\n\u001b[34m2020-06-04 22:40:37 INFO  ContextCleaner:54 - Cleaned accumulator 317\u001b[0m\n\u001b[34m2020-06-04 22:40:37 INFO  ContextCleaner:54 - Cleaned accumulator 326\u001b[0m\n\u001b[34m2020-06-04 22:40:37 INFO  ContextCleaner:54 - Cleaned shuffle 3\u001b[0m\n\u001b[34m2020-06-04 22:40:37 INFO  ContextCleaner:54 - Cleaned accumulator 251\u001b[0m\n\u001b[34m2020-06-04 22:40:37 INFO  ContextCleaner:54 - Cleaned accumulator 181\u001b[0m\n\u001b[34m2020-06-04 22:40:37 INFO  ContextCleaner:54 - Cleaned accumulator 240\u001b[0m\n\u001b[34m2020-06-04 22:40:37 INFO  ContextCleaner:54 - Cleaned accumulator 307\u001b[0m\n\u001b[34m2020-06-04 22:40:37 INFO  ContextCleaner:54 - Cleaned accumulator 264\u001b[0m\n\u001b[34m2020-06-04 22:40:37 INFO  ContextCleaner:54 - Cleaned accumulator 299\u001b[0m\n\u001b[34m2020-06-04 22:40:37 INFO  ContextCleaner:54 - Cleaned accumulator 281\u001b[0m\n\u001b[34m2020-06-04 22:40:37 INFO  ContextCleaner:54 - Cleaned accumulator 305\u001b[0m\n\u001b[34m2020-06-04 22:40:37 INFO  ContextCleaner:54 - Cleaned accumulator 311\u001b[0m\n\u001b[34m2020-06-04 22:40:37 INFO  ContextCleaner:54 - Cleaned accumulator 220\u001b[0m\n\u001b[34m2020-06-04 22:40:37 INFO  ContextCleaner:54 - Cleaned accumulator 173\u001b[0m\n\u001b[34m2020-06-04 22:40:37 INFO  ContextCleaner:54 - Cleaned accumulator 168\u001b[0m\n\u001b[34m2020-06-04 22:40:37 INFO  ContextCleaner:54 - Cleaned accumulator 328\u001b[0m\n\u001b[34m2020-06-04 22:40:37 INFO  ContextCleaner:54 - Cleaned accumulator 239\u001b[0m\n\u001b[34m2020-06-04 22:40:37 INFO  ContextCleaner:54 - Cleaned accumulator 321\u001b[0m\n\u001b[34m2020-06-04 22:40:37 INFO  ContextCleaner:54 - Cleaned accumulator 275\u001b[0m\n\u001b[34m2020-06-04 22:40:37 INFO  ContextCleaner:54 - Cleaned accumulator 302\u001b[0m\n\u001b[34m2020-06-04 22:40:37 INFO  ContextCleaner:54 - Cleaned accumulator 319\u001b[0m\n\u001b[34m2020-06-04 22:40:37 INFO  ContextCleaner:54 - Cleaned accumulator 177\u001b[0m\n\u001b[34m2020-06-04 22:40:37 INFO  ContextCleaner:54 - Cleaned accumulator 170\u001b[0m\n\u001b[34m2020-06-04 22:40:37 INFO  ContextCleaner:54 - Cleaned accumulator 186\u001b[0m\n\u001b[34m2020-06-04 22:40:37 INFO  ContextCleaner:54 - Cleaned accumulator 165\u001b[0m\n\u001b[34m2020-06-04 22:40:37 INFO  ContextCleaner:54 - Cleaned accumulator 283\u001b[0m\n\u001b[34m2020-06-04 22:40:37 INFO  ContextCleaner:54 - Cleaned accumulator 197\u001b[0m\n\u001b[34m2020-06-04 22:40:37 INFO  ContextCleaner:54 - Cleaned accumulator 332\u001b[0m\n\u001b[34m2020-06-04 22:40:37 INFO  ContextCleaner:54 - Cleaned accumulator 261\u001b[0m\n\u001b[34m2020-06-04 22:40:37 INFO  ContextCleaner:54 - Cleaned accumulator 210\u001b[0m\n\u001b[34m2020-06-04 22:40:37 INFO  ContextCleaner:54 - Cleaned accumulator 296\u001b[0m\n\u001b[34m2020-06-04 22:40:37 INFO  ContextCleaner:54 - Cleaned accumulator 228\u001b[0m\n\u001b[34m2020-06-04 22:40:37 INFO  ContextCleaner:54 - Cleaned accumulator 164\u001b[0m\n\u001b[34m2020-06-04 22:40:37 INFO  ContextCleaner:54 - Cleaned shuffle 2\u001b[0m\n\u001b[34m2020-06-04 22:40:37 INFO  ContextCleaner:54 - Cleaned accumulator 201\u001b[0m\n\u001b[34m2020-06-04 22:40:37 INFO  ContextCleaner:54 - Cleaned accumulator 219\u001b[0m\n\u001b[34m2020-06-04 22:40:37 INFO  ContextCleaner:54 - Cleaned accumulator 134\u001b[0m\n\u001b[34m2020-06-04 22:40:37 INFO  ContextCleaner:54 - Cleaned accumulator 223\u001b[0m\n\u001b[34m2020-06-04 22:40:37 INFO  ContextCleaner:54 - Cleaned accumulator 241\u001b[0m\n\u001b[34m2020-06-04 22:40:37 INFO  ContextCleaner:54 - Cleaned accumulator 327\u001b[0m\n\u001b[34m2020-06-04 22:40:37 INFO  ContextCleaner:54 - Cleaned accumulator 178\u001b[0m\n\u001b[34m2020-06-04 22:40:37 INFO  ContextCleaner:54 - Cleaned accumulator 333\u001b[0m\n\u001b[34m2020-06-04 22:40:37 INFO  ContextCleaner:54 - Cleaned accumulator 268\u001b[0m\n\u001b[34m2020-06-04 22:40:37 INFO  ContextCleaner:54 - Cleaned accumulator 290\u001b[0m\n\u001b[34m2020-06-04 22:40:37 INFO  ContextCleaner:54 - Cleaned accumulator 232\u001b[0m\n\u001b[34m2020-06-04 22:40:37 INFO  BlockManagerInfo:54 - Removed broadcast_13_piece0 on 10.0.241.132:42697 in memory (size: 3.8 KB, free: 1458.4 MB)\u001b[0m\n\u001b[34m2020-06-04 22:40:37 INFO  BlockManagerInfo:54 - Removed broadcast_13_piece0 on algo-1:34415 in memory (size: 3.8 KB, free: 5.8 GB)\u001b[0m\n\u001b[34m2020-06-04 22:40:37 INFO  YarnClientSchedulerBackend:54 - Interrupting monitor thread\u001b[0m\n\u001b[34m2020-06-04 22:40:37 INFO  YarnClientSchedulerBackend:54 - Shutting down all executors\u001b[0m\n\u001b[34m2020-06-04 22:40:37 INFO  YarnSchedulerBackend$YarnDriverEndpoint:54 - Asking each executor to shut down\u001b[0m\n\u001b[34m2020-06-04 22:40:37 INFO  SchedulerExtensionServices:54 - Stopping SchedulerExtensionServices\u001b[0m\n\u001b[34m(serviceOption=None,\n services=List(),\n started=false)\u001b[0m\n\u001b[34m2020-06-04 22:40:37 INFO  YarnClientSchedulerBackend:54 - Stopped\u001b[0m\n\u001b[34m2020-06-04 22:40:37 INFO  MapOutputTrackerMasterEndpoint:54 - MapOutputTrackerMasterEndpoint stopped!\u001b[0m\n\u001b[34m2020-06-04 22:40:37 INFO  MemoryStore:54 - MemoryStore cleared\u001b[0m\n\u001b[34m2020-06-04 22:40:37 INFO  BlockManager:54 - BlockManager stopped\u001b[0m\n\u001b[34m2020-06-04 22:40:37 INFO  BlockManagerMaster:54 - BlockManagerMaster stopped\u001b[0m\n\u001b[34m2020-06-04 22:40:37 INFO  OutputCommitCoordinator$OutputCommitCoordinatorEndpoint:54 - OutputCommitCoordinator stopped!\u001b[0m\n\u001b[34m2020-06-04 22:40:37 INFO  SparkContext:54 - Successfully stopped SparkContext\u001b[0m\n\u001b[34m2020-06-04 22:40:37 INFO  Main:47 - Completed: Job completed successfully with no violations.\u001b[0m\n\u001b[34m2020-06-04 22:40:37 INFO  Main:115 - Write to file /opt/ml/output/message.\u001b[0m\n\u001b[34m2020-06-04 22:40:37 INFO  ShutdownHookManager:54 - Shutdown hook called\u001b[0m\n\u001b[34m2020-06-04 22:40:37 INFO  ShutdownHookManager:54 - Deleting directory /tmp/spark-529b98ab-8af6-40ac-a2b5-9a2c7204a878\u001b[0m\n\u001b[34m2020-06-04 22:40:37 INFO  ShutdownHookManager:54 - Deleting directory /tmp/spark-c24f893b-7f70-4a2e-aee8-e74105f37d8a\u001b[0m\n\u001b[34m2020-06-04 22:40:38,276 - DefaultDataAnalyzer - INFO - Completed spark-submit with return code : 0\u001b[0m\n\u001b[34m2020-06-04 22:40:38,277 - DefaultDataAnalyzer - INFO - Spark job completed.\u001b[0m\n\n"
    },
    {
     "data": {
      "text/plain": "<sagemaker.processing.ProcessingJob at 0x7fd829ec4da0>"
     },
     "execution_count": 12,
     "metadata": {},
     "output_type": "execute_result"
    }
   ],
   "source": [
    "from sagemaker.model_monitor import DefaultModelMonitor\n",
    "from sagemaker.model_monitor.dataset_format import DatasetFormat\n",
    "\n",
    "my_default_monitor = DefaultModelMonitor(\n",
    "    role=role,\n",
    "    instance_count=1,\n",
    "    instance_type='ml.m5.xlarge',\n",
    "    volume_size_in_gb=20,\n",
    "    max_runtime_in_seconds=3600,\n",
    ")\n",
    "\n",
    "my_default_monitor.suggest_baseline(\n",
    "    baseline_dataset=baseline_data_uri+'/training-dataset-with-header.csv',\n",
    "    dataset_format=DatasetFormat.csv(header=True),\n",
    "    output_s3_uri=baseline_results_uri,\n",
    "    wait=True\n",
    ")"
   ]
  },
  {
   "cell_type": "markdown",
   "metadata": {},
   "source": [
    "### Explore the generated constraints and statistics"
   ]
  },
  {
   "cell_type": "code",
   "execution_count": 13,
   "metadata": {},
   "outputs": [
    {
     "name": "stdout",
     "output_type": "stream",
     "text": "Found Files:\nmd-labs-model-inference-monitoring/baselining/results/constraints.json\n md-labs-model-inference-monitoring/baselining/results/statistics.json\n"
    }
   ],
   "source": [
    "s3_client = boto3.Session().client('s3')\n",
    "result = s3_client.list_objects(Bucket=bucket, Prefix=baseline_results_prefix)\n",
    "report_files = [report_file.get(\"Key\") for report_file in result.get('Contents')]\n",
    "print(\"Found Files:\")\n",
    "print(\"\\n \".join(report_files))"
   ]
  },
  {
   "cell_type": "code",
   "execution_count": 14,
   "metadata": {},
   "outputs": [
    {
     "data": {
      "text/html": "<div>\n<style scoped>\n    .dataframe tbody tr th:only-of-type {\n        vertical-align: middle;\n    }\n\n    .dataframe tbody tr th {\n        vertical-align: top;\n    }\n\n    .dataframe thead th {\n        text-align: right;\n    }\n</style>\n<table border=\"1\" class=\"dataframe\">\n  <thead>\n    <tr style=\"text-align: right;\">\n      <th></th>\n      <th>inferred_type</th>\n      <th>name</th>\n      <th>numerical_statistics.common.num_missing</th>\n      <th>numerical_statistics.common.num_present</th>\n      <th>numerical_statistics.distribution.kll.buckets</th>\n      <th>numerical_statistics.distribution.kll.sketch.data</th>\n      <th>numerical_statistics.distribution.kll.sketch.parameters.c</th>\n      <th>numerical_statistics.distribution.kll.sketch.parameters.k</th>\n      <th>numerical_statistics.max</th>\n      <th>numerical_statistics.mean</th>\n      <th>numerical_statistics.min</th>\n      <th>numerical_statistics.std_dev</th>\n      <th>numerical_statistics.sum</th>\n    </tr>\n  </thead>\n  <tbody>\n    <tr>\n      <th>0</th>\n      <td>Integral</td>\n      <td>Churn</td>\n      <td>0</td>\n      <td>2333</td>\n      <td>[{'lower_bound': 0.0, 'upper_bound': 0.1, 'cou...</td>\n      <td>[[0.0, 0.0, 0.0, 0.0, 0.0, 0.0, 0.0, 0.0, 1.0,...</td>\n      <td>0.64</td>\n      <td>2048.0</td>\n      <td>1.0</td>\n      <td>0.139306</td>\n      <td>0.0</td>\n      <td>0.346265</td>\n      <td>325.0</td>\n    </tr>\n    <tr>\n      <th>1</th>\n      <td>Integral</td>\n      <td>Account Length</td>\n      <td>0</td>\n      <td>2333</td>\n      <td>[{'lower_bound': 1.0, 'upper_bound': 25.2, 'co...</td>\n      <td>[[119.0, 100.0, 111.0, 181.0, 95.0, 104.0, 70....</td>\n      <td>0.64</td>\n      <td>2048.0</td>\n      <td>243.0</td>\n      <td>101.276897</td>\n      <td>1.0</td>\n      <td>39.552442</td>\n      <td>236279.0</td>\n    </tr>\n    <tr>\n      <th>2</th>\n      <td>Integral</td>\n      <td>VMail Message</td>\n      <td>0</td>\n      <td>2333</td>\n      <td>[{'lower_bound': 0.0, 'upper_bound': 5.1, 'cou...</td>\n      <td>[[19.0, 0.0, 0.0, 40.0, 36.0, 0.0, 0.0, 24.0, ...</td>\n      <td>0.64</td>\n      <td>2048.0</td>\n      <td>51.0</td>\n      <td>8.214316</td>\n      <td>0.0</td>\n      <td>13.776908</td>\n      <td>19164.0</td>\n    </tr>\n    <tr>\n      <th>3</th>\n      <td>Fractional</td>\n      <td>Day Mins</td>\n      <td>0</td>\n      <td>2333</td>\n      <td>[{'lower_bound': 0.0, 'upper_bound': 35.08, 'c...</td>\n      <td>[[178.1, 160.3, 197.1, 105.2, 283.1, 113.6, 23...</td>\n      <td>0.64</td>\n      <td>2048.0</td>\n      <td>350.8</td>\n      <td>180.226489</td>\n      <td>0.0</td>\n      <td>53.987179</td>\n      <td>420468.4</td>\n    </tr>\n    <tr>\n      <th>4</th>\n      <td>Integral</td>\n      <td>Day Calls</td>\n      <td>0</td>\n      <td>2333</td>\n      <td>[{'lower_bound': 0.0, 'upper_bound': 16.5, 'co...</td>\n      <td>[[110.0, 138.0, 117.0, 61.0, 112.0, 87.0, 122....</td>\n      <td>0.64</td>\n      <td>2048.0</td>\n      <td>165.0</td>\n      <td>100.259323</td>\n      <td>0.0</td>\n      <td>20.165008</td>\n      <td>233905.0</td>\n    </tr>\n    <tr>\n      <th>5</th>\n      <td>Fractional</td>\n      <td>Eve Mins</td>\n      <td>0</td>\n      <td>2333</td>\n      <td>[{'lower_bound': 31.2, 'upper_bound': 64.26, '...</td>\n      <td>[[212.8, 221.3, 227.8, 341.3, 286.2, 158.6, 29...</td>\n      <td>0.64</td>\n      <td>2048.0</td>\n      <td>361.8</td>\n      <td>200.050107</td>\n      <td>31.2</td>\n      <td>50.015928</td>\n      <td>466716.9</td>\n    </tr>\n    <tr>\n      <th>6</th>\n      <td>Integral</td>\n      <td>Eve Calls</td>\n      <td>0</td>\n      <td>2333</td>\n      <td>[{'lower_bound': 12.0, 'upper_bound': 27.8, 'c...</td>\n      <td>[[100.0, 92.0, 128.0, 79.0, 86.0, 98.0, 112.0,...</td>\n      <td>0.64</td>\n      <td>2048.0</td>\n      <td>170.0</td>\n      <td>99.573939</td>\n      <td>12.0</td>\n      <td>19.675578</td>\n      <td>232306.0</td>\n    </tr>\n    <tr>\n      <th>7</th>\n      <td>Fractional</td>\n      <td>Night Mins</td>\n      <td>0</td>\n      <td>2333</td>\n      <td>[{'lower_bound': 23.2, 'upper_bound': 60.37999...</td>\n      <td>[[226.3, 150.4, 214.0, 165.7, 261.7, 187.7, 20...</td>\n      <td>0.64</td>\n      <td>2048.0</td>\n      <td>395.0</td>\n      <td>201.388598</td>\n      <td>23.2</td>\n      <td>50.627961</td>\n      <td>469839.6</td>\n    </tr>\n    <tr>\n      <th>8</th>\n      <td>Integral</td>\n      <td>Night Calls</td>\n      <td>0</td>\n      <td>2333</td>\n      <td>[{'lower_bound': 42.0, 'upper_bound': 55.3, 'c...</td>\n      <td>[[123.0, 120.0, 101.0, 97.0, 129.0, 87.0, 112....</td>\n      <td>0.64</td>\n      <td>2048.0</td>\n      <td>175.0</td>\n      <td>100.227175</td>\n      <td>42.0</td>\n      <td>19.282029</td>\n      <td>233830.0</td>\n    </tr>\n    <tr>\n      <th>9</th>\n      <td>Fractional</td>\n      <td>Intl Mins</td>\n      <td>0</td>\n      <td>2333</td>\n      <td>[{'lower_bound': 0.0, 'upper_bound': 1.8399999...</td>\n      <td>[[10.0, 11.2, 9.3, 6.3, 11.3, 10.5, 0.0, 9.7, ...</td>\n      <td>0.64</td>\n      <td>2048.0</td>\n      <td>18.4</td>\n      <td>10.253065</td>\n      <td>0.0</td>\n      <td>2.778766</td>\n      <td>23920.4</td>\n    </tr>\n  </tbody>\n</table>\n</div>",
      "text/plain": "  inferred_type            name  numerical_statistics.common.num_missing  \\\n0      Integral           Churn                                        0   \n1      Integral  Account Length                                        0   \n2      Integral   VMail Message                                        0   \n3    Fractional        Day Mins                                        0   \n4      Integral       Day Calls                                        0   \n5    Fractional        Eve Mins                                        0   \n6      Integral       Eve Calls                                        0   \n7    Fractional      Night Mins                                        0   \n8      Integral     Night Calls                                        0   \n9    Fractional       Intl Mins                                        0   \n\n   numerical_statistics.common.num_present  \\\n0                                     2333   \n1                                     2333   \n2                                     2333   \n3                                     2333   \n4                                     2333   \n5                                     2333   \n6                                     2333   \n7                                     2333   \n8                                     2333   \n9                                     2333   \n\n       numerical_statistics.distribution.kll.buckets  \\\n0  [{'lower_bound': 0.0, 'upper_bound': 0.1, 'cou...   \n1  [{'lower_bound': 1.0, 'upper_bound': 25.2, 'co...   \n2  [{'lower_bound': 0.0, 'upper_bound': 5.1, 'cou...   \n3  [{'lower_bound': 0.0, 'upper_bound': 35.08, 'c...   \n4  [{'lower_bound': 0.0, 'upper_bound': 16.5, 'co...   \n5  [{'lower_bound': 31.2, 'upper_bound': 64.26, '...   \n6  [{'lower_bound': 12.0, 'upper_bound': 27.8, 'c...   \n7  [{'lower_bound': 23.2, 'upper_bound': 60.37999...   \n8  [{'lower_bound': 42.0, 'upper_bound': 55.3, 'c...   \n9  [{'lower_bound': 0.0, 'upper_bound': 1.8399999...   \n\n   numerical_statistics.distribution.kll.sketch.data  \\\n0  [[0.0, 0.0, 0.0, 0.0, 0.0, 0.0, 0.0, 0.0, 1.0,...   \n1  [[119.0, 100.0, 111.0, 181.0, 95.0, 104.0, 70....   \n2  [[19.0, 0.0, 0.0, 40.0, 36.0, 0.0, 0.0, 24.0, ...   \n3  [[178.1, 160.3, 197.1, 105.2, 283.1, 113.6, 23...   \n4  [[110.0, 138.0, 117.0, 61.0, 112.0, 87.0, 122....   \n5  [[212.8, 221.3, 227.8, 341.3, 286.2, 158.6, 29...   \n6  [[100.0, 92.0, 128.0, 79.0, 86.0, 98.0, 112.0,...   \n7  [[226.3, 150.4, 214.0, 165.7, 261.7, 187.7, 20...   \n8  [[123.0, 120.0, 101.0, 97.0, 129.0, 87.0, 112....   \n9  [[10.0, 11.2, 9.3, 6.3, 11.3, 10.5, 0.0, 9.7, ...   \n\n   numerical_statistics.distribution.kll.sketch.parameters.c  \\\n0                                               0.64           \n1                                               0.64           \n2                                               0.64           \n3                                               0.64           \n4                                               0.64           \n5                                               0.64           \n6                                               0.64           \n7                                               0.64           \n8                                               0.64           \n9                                               0.64           \n\n   numerical_statistics.distribution.kll.sketch.parameters.k  \\\n0                                             2048.0           \n1                                             2048.0           \n2                                             2048.0           \n3                                             2048.0           \n4                                             2048.0           \n5                                             2048.0           \n6                                             2048.0           \n7                                             2048.0           \n8                                             2048.0           \n9                                             2048.0           \n\n   numerical_statistics.max  numerical_statistics.mean  \\\n0                       1.0                   0.139306   \n1                     243.0                 101.276897   \n2                      51.0                   8.214316   \n3                     350.8                 180.226489   \n4                     165.0                 100.259323   \n5                     361.8                 200.050107   \n6                     170.0                  99.573939   \n7                     395.0                 201.388598   \n8                     175.0                 100.227175   \n9                      18.4                  10.253065   \n\n   numerical_statistics.min  numerical_statistics.std_dev  \\\n0                       0.0                      0.346265   \n1                       1.0                     39.552442   \n2                       0.0                     13.776908   \n3                       0.0                     53.987179   \n4                       0.0                     20.165008   \n5                      31.2                     50.015928   \n6                      12.0                     19.675578   \n7                      23.2                     50.627961   \n8                      42.0                     19.282029   \n9                       0.0                      2.778766   \n\n   numerical_statistics.sum  \n0                     325.0  \n1                  236279.0  \n2                   19164.0  \n3                  420468.4  \n4                  233905.0  \n5                  466716.9  \n6                  232306.0  \n7                  469839.6  \n8                  233830.0  \n9                   23920.4  "
     },
     "execution_count": 14,
     "metadata": {},
     "output_type": "execute_result"
    }
   ],
   "source": [
    "import pandas as pd\n",
    "\n",
    "baseline_job = my_default_monitor.latest_baselining_job\n",
    "schema_df = pd.io.json.json_normalize(baseline_job.baseline_statistics().body_dict[\"features\"])\n",
    "schema_df.head(10)"
   ]
  },
  {
   "cell_type": "code",
   "execution_count": 15,
   "metadata": {},
   "outputs": [
    {
     "data": {
      "text/html": "<div>\n<style scoped>\n    .dataframe tbody tr th:only-of-type {\n        vertical-align: middle;\n    }\n\n    .dataframe tbody tr th {\n        vertical-align: top;\n    }\n\n    .dataframe thead th {\n        text-align: right;\n    }\n</style>\n<table border=\"1\" class=\"dataframe\">\n  <thead>\n    <tr style=\"text-align: right;\">\n      <th></th>\n      <th>completeness</th>\n      <th>inferred_type</th>\n      <th>name</th>\n      <th>num_constraints.is_non_negative</th>\n    </tr>\n  </thead>\n  <tbody>\n    <tr>\n      <th>0</th>\n      <td>1.0</td>\n      <td>Integral</td>\n      <td>Churn</td>\n      <td>True</td>\n    </tr>\n    <tr>\n      <th>1</th>\n      <td>1.0</td>\n      <td>Integral</td>\n      <td>Account Length</td>\n      <td>True</td>\n    </tr>\n    <tr>\n      <th>2</th>\n      <td>1.0</td>\n      <td>Integral</td>\n      <td>VMail Message</td>\n      <td>True</td>\n    </tr>\n    <tr>\n      <th>3</th>\n      <td>1.0</td>\n      <td>Fractional</td>\n      <td>Day Mins</td>\n      <td>True</td>\n    </tr>\n    <tr>\n      <th>4</th>\n      <td>1.0</td>\n      <td>Integral</td>\n      <td>Day Calls</td>\n      <td>True</td>\n    </tr>\n    <tr>\n      <th>5</th>\n      <td>1.0</td>\n      <td>Fractional</td>\n      <td>Eve Mins</td>\n      <td>True</td>\n    </tr>\n    <tr>\n      <th>6</th>\n      <td>1.0</td>\n      <td>Integral</td>\n      <td>Eve Calls</td>\n      <td>True</td>\n    </tr>\n    <tr>\n      <th>7</th>\n      <td>1.0</td>\n      <td>Fractional</td>\n      <td>Night Mins</td>\n      <td>True</td>\n    </tr>\n    <tr>\n      <th>8</th>\n      <td>1.0</td>\n      <td>Integral</td>\n      <td>Night Calls</td>\n      <td>True</td>\n    </tr>\n    <tr>\n      <th>9</th>\n      <td>1.0</td>\n      <td>Fractional</td>\n      <td>Intl Mins</td>\n      <td>True</td>\n    </tr>\n  </tbody>\n</table>\n</div>",
      "text/plain": "   completeness inferred_type            name  num_constraints.is_non_negative\n0           1.0      Integral           Churn                             True\n1           1.0      Integral  Account Length                             True\n2           1.0      Integral   VMail Message                             True\n3           1.0    Fractional        Day Mins                             True\n4           1.0      Integral       Day Calls                             True\n5           1.0    Fractional        Eve Mins                             True\n6           1.0      Integral       Eve Calls                             True\n7           1.0    Fractional      Night Mins                             True\n8           1.0      Integral     Night Calls                             True\n9           1.0    Fractional       Intl Mins                             True"
     },
     "execution_count": 15,
     "metadata": {},
     "output_type": "execute_result"
    }
   ],
   "source": [
    "constraints_df = pd.io.json.json_normalize(baseline_job.suggested_constraints().body_dict[\"features\"])\n",
    "constraints_df.head(10)"
   ]
  },
  {
   "cell_type": "markdown",
   "metadata": {},
   "source": [
    "## 2. Analyzing collected data for data quality issues\n",
    "\n",
    "When you have collected the data above, analyze and monitor the data with Monitoring Schedules"
   ]
  },
  {
   "cell_type": "markdown",
   "metadata": {},
   "source": [
    "### Create a schedule"
   ]
  },
  {
   "cell_type": "code",
   "execution_count": 16,
   "metadata": {},
   "outputs": [],
   "source": [
    "# First, copy over some test scripts to the S3 bucket so that they can be used for pre and post processing\n",
    "boto3.Session().resource('s3').Bucket(bucket).Object(code_prefix+\"/preprocessor.py\").upload_file('preprocessor.py')\n",
    "boto3.Session().resource('s3').Bucket(bucket).Object(code_prefix+\"/postprocessor.py\").upload_file('postprocessor.py')"
   ]
  },
  {
   "cell_type": "markdown",
   "metadata": {},
   "source": [
    "You can create a model monitoring schedule for the endpoint created earlier. Use the baseline resources (constraints and statistics) to compare against the realtime traffic."
   ]
  },
  {
   "cell_type": "code",
   "execution_count": 20,
   "metadata": {},
   "outputs": [
    {
     "name": "stdout",
     "output_type": "stream",
     "text": "\nDeleting Monitoring Schedule with name: md-labs-xgb-churn-pred-model-monitor-schedule-2020-06-04-22-43-30\n"
    },
    {
     "ename": "ClientError",
     "evalue": "An error occurred (ValidationException) when calling the DeleteMonitoringSchedule operation: 1 validation error detected: Value 'md-labs-xgb-churn-pred-model-monitor-schedule-2020-06-04-22-43-30' at 'monitoringScheduleName' failed to satisfy constraint: Member must have length less than or equal to 63",
     "output_type": "error",
     "traceback": [
      "\u001b[0;31m---------------------------------------------------------------------------\u001b[0m",
      "\u001b[0;31mClientError\u001b[0m                               Traceback (most recent call last)",
      "\u001b[0;32m<ipython-input-20-8c790cbbd7be>\u001b[0m in \u001b[0;36m<module>\u001b[0;34m()\u001b[0m\n\u001b[0;32m----> 1\u001b[0;31m \u001b[0mmy_default_monitor\u001b[0m\u001b[0;34m.\u001b[0m\u001b[0mdelete_monitoring_schedule\u001b[0m\u001b[0;34m(\u001b[0m\u001b[0;34m)\u001b[0m\u001b[0;34m\u001b[0m\u001b[0m\n\u001b[0m",
      "\u001b[0;32m~/anaconda3/envs/python3/lib/python3.6/site-packages/sagemaker/model_monitor/model_monitoring.py\u001b[0m in \u001b[0;36mdelete_monitoring_schedule\u001b[0;34m(self)\u001b[0m\n\u001b[1;32m    496\u001b[0m         \u001b[0;34m\"\"\"Deletes the monitoring schedule.\"\"\"\u001b[0m\u001b[0;34m\u001b[0m\u001b[0m\n\u001b[1;32m    497\u001b[0m         self.sagemaker_session.delete_monitoring_schedule(\n\u001b[0;32m--> 498\u001b[0;31m             \u001b[0mmonitoring_schedule_name\u001b[0m\u001b[0;34m=\u001b[0m\u001b[0mself\u001b[0m\u001b[0;34m.\u001b[0m\u001b[0mmonitoring_schedule_name\u001b[0m\u001b[0;34m\u001b[0m\u001b[0m\n\u001b[0m\u001b[1;32m    499\u001b[0m         )\n\u001b[1;32m    500\u001b[0m         \u001b[0mself\u001b[0m\u001b[0;34m.\u001b[0m\u001b[0mmonitoring_schedule_name\u001b[0m \u001b[0;34m=\u001b[0m \u001b[0;32mNone\u001b[0m\u001b[0;34m\u001b[0m\u001b[0m\n",
      "\u001b[0;32m~/anaconda3/envs/python3/lib/python3.6/site-packages/sagemaker/session.py\u001b[0m in \u001b[0;36mdelete_monitoring_schedule\u001b[0;34m(self, monitoring_schedule_name)\u001b[0m\n\u001b[1;32m   1098\u001b[0m         \u001b[0mprint\u001b[0m\u001b[0;34m(\u001b[0m\u001b[0;34m\"Deleting Monitoring Schedule with name: {}\"\u001b[0m\u001b[0;34m.\u001b[0m\u001b[0mformat\u001b[0m\u001b[0;34m(\u001b[0m\u001b[0mmonitoring_schedule_name\u001b[0m\u001b[0;34m)\u001b[0m\u001b[0;34m)\u001b[0m\u001b[0;34m\u001b[0m\u001b[0m\n\u001b[1;32m   1099\u001b[0m         self.sagemaker_client.delete_monitoring_schedule(\n\u001b[0;32m-> 1100\u001b[0;31m             \u001b[0mMonitoringScheduleName\u001b[0m\u001b[0;34m=\u001b[0m\u001b[0mmonitoring_schedule_name\u001b[0m\u001b[0;34m\u001b[0m\u001b[0m\n\u001b[0m\u001b[1;32m   1101\u001b[0m         )\n\u001b[1;32m   1102\u001b[0m \u001b[0;34m\u001b[0m\u001b[0m\n",
      "\u001b[0;32m~/anaconda3/envs/python3/lib/python3.6/site-packages/botocore/client.py\u001b[0m in \u001b[0;36m_api_call\u001b[0;34m(self, *args, **kwargs)\u001b[0m\n\u001b[1;32m    274\u001b[0m                     \"%s() only accepts keyword arguments.\" % py_operation_name)\n\u001b[1;32m    275\u001b[0m             \u001b[0;31m# The \"self\" in this scope is referring to the BaseClient.\u001b[0m\u001b[0;34m\u001b[0m\u001b[0;34m\u001b[0m\u001b[0m\n\u001b[0;32m--> 276\u001b[0;31m             \u001b[0;32mreturn\u001b[0m \u001b[0mself\u001b[0m\u001b[0;34m.\u001b[0m\u001b[0m_make_api_call\u001b[0m\u001b[0;34m(\u001b[0m\u001b[0moperation_name\u001b[0m\u001b[0;34m,\u001b[0m \u001b[0mkwargs\u001b[0m\u001b[0;34m)\u001b[0m\u001b[0;34m\u001b[0m\u001b[0m\n\u001b[0m\u001b[1;32m    277\u001b[0m \u001b[0;34m\u001b[0m\u001b[0m\n\u001b[1;32m    278\u001b[0m         \u001b[0m_api_call\u001b[0m\u001b[0;34m.\u001b[0m\u001b[0m__name__\u001b[0m \u001b[0;34m=\u001b[0m \u001b[0mstr\u001b[0m\u001b[0;34m(\u001b[0m\u001b[0mpy_operation_name\u001b[0m\u001b[0;34m)\u001b[0m\u001b[0;34m\u001b[0m\u001b[0m\n",
      "\u001b[0;32m~/anaconda3/envs/python3/lib/python3.6/site-packages/botocore/client.py\u001b[0m in \u001b[0;36m_make_api_call\u001b[0;34m(self, operation_name, api_params)\u001b[0m\n\u001b[1;32m    584\u001b[0m             \u001b[0merror_code\u001b[0m \u001b[0;34m=\u001b[0m \u001b[0mparsed_response\u001b[0m\u001b[0;34m.\u001b[0m\u001b[0mget\u001b[0m\u001b[0;34m(\u001b[0m\u001b[0;34m\"Error\"\u001b[0m\u001b[0;34m,\u001b[0m \u001b[0;34m{\u001b[0m\u001b[0;34m}\u001b[0m\u001b[0;34m)\u001b[0m\u001b[0;34m.\u001b[0m\u001b[0mget\u001b[0m\u001b[0;34m(\u001b[0m\u001b[0;34m\"Code\"\u001b[0m\u001b[0;34m)\u001b[0m\u001b[0;34m\u001b[0m\u001b[0m\n\u001b[1;32m    585\u001b[0m             \u001b[0merror_class\u001b[0m \u001b[0;34m=\u001b[0m \u001b[0mself\u001b[0m\u001b[0;34m.\u001b[0m\u001b[0mexceptions\u001b[0m\u001b[0;34m.\u001b[0m\u001b[0mfrom_code\u001b[0m\u001b[0;34m(\u001b[0m\u001b[0merror_code\u001b[0m\u001b[0;34m)\u001b[0m\u001b[0;34m\u001b[0m\u001b[0m\n\u001b[0;32m--> 586\u001b[0;31m             \u001b[0;32mraise\u001b[0m \u001b[0merror_class\u001b[0m\u001b[0;34m(\u001b[0m\u001b[0mparsed_response\u001b[0m\u001b[0;34m,\u001b[0m \u001b[0moperation_name\u001b[0m\u001b[0;34m)\u001b[0m\u001b[0;34m\u001b[0m\u001b[0m\n\u001b[0m\u001b[1;32m    587\u001b[0m         \u001b[0;32melse\u001b[0m\u001b[0;34m:\u001b[0m\u001b[0;34m\u001b[0m\u001b[0m\n\u001b[1;32m    588\u001b[0m             \u001b[0;32mreturn\u001b[0m \u001b[0mparsed_response\u001b[0m\u001b[0;34m\u001b[0m\u001b[0m\n",
      "\u001b[0;31mClientError\u001b[0m: An error occurred (ValidationException) when calling the DeleteMonitoringSchedule operation: 1 validation error detected: Value 'md-labs-xgb-churn-pred-model-monitor-schedule-2020-06-04-22-43-30' at 'monitoringScheduleName' failed to satisfy constraint: Member must have length less than or equal to 63"
     ]
    }
   ],
   "source": [
    "my_default_monitor.delete_monitoring_schedule()"
   ]
  },
  {
   "cell_type": "code",
   "execution_count": 21,
   "metadata": {},
   "outputs": [
    {
     "name": "stdout",
     "output_type": "stream",
     "text": "It seems that this object was already used to create an Amazon Model Monitoring Schedule. To create another, first delete the existing one using my_monitor.delete_monitoring_schedule().\n"
    },
    {
     "ename": "ValueError",
     "evalue": "It seems that this object was already used to create an Amazon Model Monitoring Schedule. To create another, first delete the existing one using my_monitor.delete_monitoring_schedule().",
     "output_type": "error",
     "traceback": [
      "\u001b[0;31m---------------------------------------------------------------------------\u001b[0m",
      "\u001b[0;31mValueError\u001b[0m                                Traceback (most recent call last)",
      "\u001b[0;32m<ipython-input-21-ad56340dfdc9>\u001b[0m in \u001b[0;36m<module>\u001b[0;34m()\u001b[0m\n\u001b[1;32m     12\u001b[0m     \u001b[0mconstraints\u001b[0m\u001b[0;34m=\u001b[0m\u001b[0mmy_default_monitor\u001b[0m\u001b[0;34m.\u001b[0m\u001b[0msuggested_constraints\u001b[0m\u001b[0;34m(\u001b[0m\u001b[0;34m)\u001b[0m\u001b[0;34m,\u001b[0m\u001b[0;34m\u001b[0m\u001b[0m\n\u001b[1;32m     13\u001b[0m     \u001b[0mschedule_cron_expression\u001b[0m\u001b[0;34m=\u001b[0m\u001b[0mCronExpressionGenerator\u001b[0m\u001b[0;34m.\u001b[0m\u001b[0mhourly\u001b[0m\u001b[0;34m(\u001b[0m\u001b[0;34m)\u001b[0m\u001b[0;34m,\u001b[0m\u001b[0;34m\u001b[0m\u001b[0m\n\u001b[0;32m---> 14\u001b[0;31m     \u001b[0menable_cloudwatch_metrics\u001b[0m\u001b[0;34m=\u001b[0m\u001b[0;32mTrue\u001b[0m\u001b[0;34m,\u001b[0m\u001b[0;34m\u001b[0m\u001b[0m\n\u001b[0m\u001b[1;32m     15\u001b[0m \u001b[0;34m\u001b[0m\u001b[0m\n\u001b[1;32m     16\u001b[0m )\n",
      "\u001b[0;32m~/anaconda3/envs/python3/lib/python3.6/site-packages/sagemaker/model_monitor/model_monitoring.py\u001b[0m in \u001b[0;36mcreate_monitoring_schedule\u001b[0;34m(self, endpoint_input, record_preprocessor_script, post_analytics_processor_script, output_s3_uri, constraints, statistics, monitor_schedule_name, schedule_cron_expression, enable_cloudwatch_metrics)\u001b[0m\n\u001b[1;32m   1213\u001b[0m             )\n\u001b[1;32m   1214\u001b[0m             \u001b[0mprint\u001b[0m\u001b[0;34m(\u001b[0m\u001b[0mmessage\u001b[0m\u001b[0;34m)\u001b[0m\u001b[0;34m\u001b[0m\u001b[0m\n\u001b[0;32m-> 1215\u001b[0;31m             \u001b[0;32mraise\u001b[0m \u001b[0mValueError\u001b[0m\u001b[0;34m(\u001b[0m\u001b[0mmessage\u001b[0m\u001b[0;34m)\u001b[0m\u001b[0;34m\u001b[0m\u001b[0m\n\u001b[0m\u001b[1;32m   1216\u001b[0m \u001b[0;34m\u001b[0m\u001b[0m\n\u001b[1;32m   1217\u001b[0m         self.monitoring_schedule_name = self._generate_monitoring_schedule_name(\n",
      "\u001b[0;31mValueError\u001b[0m: It seems that this object was already used to create an Amazon Model Monitoring Schedule. To create another, first delete the existing one using my_monitor.delete_monitoring_schedule()."
     ]
    }
   ],
   "source": [
    "from sagemaker.model_monitor import CronExpressionGenerator\n",
    "from time import gmtime, strftime\n",
    "\n",
    "mon_schedule_name = 'md-labs-xgb-churn-' + strftime(\"%Y-%m-%d-%H-%M-%S\", gmtime())\n",
    "my_default_monitor.create_monitoring_schedule(\n",
    "    monitor_schedule_name=mon_schedule_name,\n",
    "    endpoint_input=predictor.endpoint,\n",
    "    #record_preprocessor_script=pre_processor_script,\n",
    "    post_analytics_processor_script=s3_code_postprocessor_uri,\n",
    "    output_s3_uri=s3_report_path,\n",
    "    statistics=my_default_monitor.baseline_statistics(),\n",
    "    constraints=my_default_monitor.suggested_constraints(),\n",
    "    schedule_cron_expression=CronExpressionGenerator.hourly(),\n",
    "    enable_cloudwatch_metrics=True,\n",
    "\n",
    ")"
   ]
  },
  {
   "cell_type": "markdown",
   "metadata": {},
   "source": [
    "### Start generating some artificial traffic\n",
    "The cell below starts a thread to send some traffic to the endpoint. Note that you need to stop the kernel to terminate this thread. If there is no traffic, the monitoring jobs are marked as `Failed` since there is no data to process."
   ]
  },
  {
   "cell_type": "code",
   "execution_count": 22,
   "metadata": {},
   "outputs": [],
   "source": [
    "from threading import Thread\n",
    "from time import sleep\n",
    "import time\n",
    "\n",
    "endpoint_name=predictor.endpoint\n",
    "runtime_client = boto3.client('runtime.sagemaker')\n",
    "\n",
    "# (just repeating code from above for convenience/ able to run this section independently)\n",
    "def invoke_endpoint(ep_name, file_name, runtime_client):\n",
    "    with open(file_name, 'r') as f:\n",
    "        for row in f:\n",
    "            payload = row.rstrip('\\n')\n",
    "            response = runtime_client.invoke_endpoint(EndpointName=ep_name,\n",
    "                                          ContentType='text/csv', \n",
    "                                          Body=payload)\n",
    "            response['Body'].read()\n",
    "            time.sleep(1)\n",
    "            \n",
    "def invoke_endpoint_forever():\n",
    "    while True:\n",
    "        invoke_endpoint(endpoint_name, 'test_data/test-dataset-input-cols.csv', runtime_client)\n",
    "        \n",
    "thread = Thread(target = invoke_endpoint_forever)\n",
    "thread.start()\n",
    "\n",
    "# Note that you need to stop the kernel to stop the invocations"
   ]
  },
  {
   "cell_type": "markdown",
   "metadata": {},
   "source": [
    "### Describe and inspect the schedule\n",
    "Once you describe, observe that the MonitoringScheduleStatus changes to Scheduled."
   ]
  },
  {
   "cell_type": "code",
   "execution_count": 23,
   "metadata": {},
   "outputs": [
    {
     "ename": "ClientError",
     "evalue": "An error occurred (ValidationException) when calling the DescribeMonitoringSchedule operation: 1 validation error detected: Value 'md-labs-xgb-churn-pred-model-monitor-schedule-2020-06-04-22-43-30' at 'monitoringScheduleName' failed to satisfy constraint: Member must have length less than or equal to 63",
     "output_type": "error",
     "traceback": [
      "\u001b[0;31m---------------------------------------------------------------------------\u001b[0m",
      "\u001b[0;31mClientError\u001b[0m                               Traceback (most recent call last)",
      "\u001b[0;32m<ipython-input-23-c793f6c25109>\u001b[0m in \u001b[0;36m<module>\u001b[0;34m()\u001b[0m\n\u001b[0;32m----> 1\u001b[0;31m \u001b[0mdesc_schedule_result\u001b[0m \u001b[0;34m=\u001b[0m \u001b[0mmy_default_monitor\u001b[0m\u001b[0;34m.\u001b[0m\u001b[0mdescribe_schedule\u001b[0m\u001b[0;34m(\u001b[0m\u001b[0;34m)\u001b[0m\u001b[0;34m\u001b[0m\u001b[0m\n\u001b[0m\u001b[1;32m      2\u001b[0m \u001b[0mprint\u001b[0m\u001b[0;34m(\u001b[0m\u001b[0;34m'Schedule status: {}'\u001b[0m\u001b[0;34m.\u001b[0m\u001b[0mformat\u001b[0m\u001b[0;34m(\u001b[0m\u001b[0mdesc_schedule_result\u001b[0m\u001b[0;34m[\u001b[0m\u001b[0;34m'MonitoringScheduleStatus'\u001b[0m\u001b[0;34m]\u001b[0m\u001b[0;34m)\u001b[0m\u001b[0;34m)\u001b[0m\u001b[0;34m\u001b[0m\u001b[0m\n",
      "\u001b[0;32m~/anaconda3/envs/python3/lib/python3.6/site-packages/sagemaker/model_monitor/model_monitoring.py\u001b[0m in \u001b[0;36mdescribe_schedule\u001b[0;34m(self)\u001b[0m\n\u001b[1;32m    599\u001b[0m         \"\"\"\n\u001b[1;32m    600\u001b[0m         return self.sagemaker_session.describe_monitoring_schedule(\n\u001b[0;32m--> 601\u001b[0;31m             \u001b[0mmonitoring_schedule_name\u001b[0m\u001b[0;34m=\u001b[0m\u001b[0mself\u001b[0m\u001b[0;34m.\u001b[0m\u001b[0mmonitoring_schedule_name\u001b[0m\u001b[0;34m\u001b[0m\u001b[0m\n\u001b[0m\u001b[1;32m    602\u001b[0m         )\n\u001b[1;32m    603\u001b[0m \u001b[0;34m\u001b[0m\u001b[0m\n",
      "\u001b[0;32m~/anaconda3/envs/python3/lib/python3.6/site-packages/sagemaker/session.py\u001b[0m in \u001b[0;36mdescribe_monitoring_schedule\u001b[0;34m(self, monitoring_schedule_name)\u001b[0m\n\u001b[1;32m   1113\u001b[0m         \"\"\"\n\u001b[1;32m   1114\u001b[0m         return self.sagemaker_client.describe_monitoring_schedule(\n\u001b[0;32m-> 1115\u001b[0;31m             \u001b[0mMonitoringScheduleName\u001b[0m\u001b[0;34m=\u001b[0m\u001b[0mmonitoring_schedule_name\u001b[0m\u001b[0;34m\u001b[0m\u001b[0m\n\u001b[0m\u001b[1;32m   1116\u001b[0m         )\n\u001b[1;32m   1117\u001b[0m \u001b[0;34m\u001b[0m\u001b[0m\n",
      "\u001b[0;32m~/anaconda3/envs/python3/lib/python3.6/site-packages/botocore/client.py\u001b[0m in \u001b[0;36m_api_call\u001b[0;34m(self, *args, **kwargs)\u001b[0m\n\u001b[1;32m    274\u001b[0m                     \"%s() only accepts keyword arguments.\" % py_operation_name)\n\u001b[1;32m    275\u001b[0m             \u001b[0;31m# The \"self\" in this scope is referring to the BaseClient.\u001b[0m\u001b[0;34m\u001b[0m\u001b[0;34m\u001b[0m\u001b[0m\n\u001b[0;32m--> 276\u001b[0;31m             \u001b[0;32mreturn\u001b[0m \u001b[0mself\u001b[0m\u001b[0;34m.\u001b[0m\u001b[0m_make_api_call\u001b[0m\u001b[0;34m(\u001b[0m\u001b[0moperation_name\u001b[0m\u001b[0;34m,\u001b[0m \u001b[0mkwargs\u001b[0m\u001b[0;34m)\u001b[0m\u001b[0;34m\u001b[0m\u001b[0m\n\u001b[0m\u001b[1;32m    277\u001b[0m \u001b[0;34m\u001b[0m\u001b[0m\n\u001b[1;32m    278\u001b[0m         \u001b[0m_api_call\u001b[0m\u001b[0;34m.\u001b[0m\u001b[0m__name__\u001b[0m \u001b[0;34m=\u001b[0m \u001b[0mstr\u001b[0m\u001b[0;34m(\u001b[0m\u001b[0mpy_operation_name\u001b[0m\u001b[0;34m)\u001b[0m\u001b[0;34m\u001b[0m\u001b[0m\n",
      "\u001b[0;32m~/anaconda3/envs/python3/lib/python3.6/site-packages/botocore/client.py\u001b[0m in \u001b[0;36m_make_api_call\u001b[0;34m(self, operation_name, api_params)\u001b[0m\n\u001b[1;32m    584\u001b[0m             \u001b[0merror_code\u001b[0m \u001b[0;34m=\u001b[0m \u001b[0mparsed_response\u001b[0m\u001b[0;34m.\u001b[0m\u001b[0mget\u001b[0m\u001b[0;34m(\u001b[0m\u001b[0;34m\"Error\"\u001b[0m\u001b[0;34m,\u001b[0m \u001b[0;34m{\u001b[0m\u001b[0;34m}\u001b[0m\u001b[0;34m)\u001b[0m\u001b[0;34m.\u001b[0m\u001b[0mget\u001b[0m\u001b[0;34m(\u001b[0m\u001b[0;34m\"Code\"\u001b[0m\u001b[0;34m)\u001b[0m\u001b[0;34m\u001b[0m\u001b[0m\n\u001b[1;32m    585\u001b[0m             \u001b[0merror_class\u001b[0m \u001b[0;34m=\u001b[0m \u001b[0mself\u001b[0m\u001b[0;34m.\u001b[0m\u001b[0mexceptions\u001b[0m\u001b[0;34m.\u001b[0m\u001b[0mfrom_code\u001b[0m\u001b[0;34m(\u001b[0m\u001b[0merror_code\u001b[0m\u001b[0;34m)\u001b[0m\u001b[0;34m\u001b[0m\u001b[0m\n\u001b[0;32m--> 586\u001b[0;31m             \u001b[0;32mraise\u001b[0m \u001b[0merror_class\u001b[0m\u001b[0;34m(\u001b[0m\u001b[0mparsed_response\u001b[0m\u001b[0;34m,\u001b[0m \u001b[0moperation_name\u001b[0m\u001b[0;34m)\u001b[0m\u001b[0;34m\u001b[0m\u001b[0m\n\u001b[0m\u001b[1;32m    587\u001b[0m         \u001b[0;32melse\u001b[0m\u001b[0;34m:\u001b[0m\u001b[0;34m\u001b[0m\u001b[0m\n\u001b[1;32m    588\u001b[0m             \u001b[0;32mreturn\u001b[0m \u001b[0mparsed_response\u001b[0m\u001b[0;34m\u001b[0m\u001b[0m\n",
      "\u001b[0;31mClientError\u001b[0m: An error occurred (ValidationException) when calling the DescribeMonitoringSchedule operation: 1 validation error detected: Value 'md-labs-xgb-churn-pred-model-monitor-schedule-2020-06-04-22-43-30' at 'monitoringScheduleName' failed to satisfy constraint: Member must have length less than or equal to 63"
     ]
    }
   ],
   "source": [
    "desc_schedule_result = my_default_monitor.describe_schedule()\n",
    "print('Schedule status: {}'.format(desc_schedule_result['MonitoringScheduleStatus']))"
   ]
  },
  {
   "cell_type": "markdown",
   "metadata": {},
   "source": [
    "### List executions\n",
    "The schedule starts jobs at the previously specified intervals. Here, you list the latest five executions. Note that if you are kicking this off after creating the hourly schedule, you might find the executions empty. You might have to wait until you cross the hour boundary (in UTC) to see executions kick off. The code below has the logic for waiting.\n",
    "\n",
    "Note: Even for an hourly schedule, Amazon SageMaker has a buffer period of 20 minutes to schedule your execution. You might see your execution start in anywhere from zero to ~20 minutes from the hour boundary. This is expected and done for load balancing in the backend."
   ]
  },
  {
   "cell_type": "code",
   "execution_count": 24,
   "metadata": {},
   "outputs": [
    {
     "ename": "ClientError",
     "evalue": "An error occurred (ValidationException) when calling the ListMonitoringExecutions operation: 1 validation error detected: Value 'md-labs-xgb-churn-pred-model-monitor-schedule-2020-06-04-22-43-30' at 'monitoringScheduleName' failed to satisfy constraint: Member must have length less than or equal to 63",
     "output_type": "error",
     "traceback": [
      "\u001b[0;31m---------------------------------------------------------------------------\u001b[0m",
      "\u001b[0;31mClientError\u001b[0m                               Traceback (most recent call last)",
      "\u001b[0;32m<ipython-input-24-53d47bcd26bc>\u001b[0m in \u001b[0;36m<module>\u001b[0;34m()\u001b[0m\n\u001b[0;32m----> 1\u001b[0;31m \u001b[0mmon_executions\u001b[0m \u001b[0;34m=\u001b[0m \u001b[0mmy_default_monitor\u001b[0m\u001b[0;34m.\u001b[0m\u001b[0mlist_executions\u001b[0m\u001b[0;34m(\u001b[0m\u001b[0;34m)\u001b[0m\u001b[0;34m\u001b[0m\u001b[0m\n\u001b[0m\u001b[1;32m      2\u001b[0m \u001b[0mprint\u001b[0m\u001b[0;34m(\u001b[0m\u001b[0;34m\"We created a hourly schedule above and it will kick off executions ON the hour (plus 0 - 20 min buffer.\\nWe will have to wait till we hit the hour...\"\u001b[0m\u001b[0;34m)\u001b[0m\u001b[0;34m\u001b[0m\u001b[0m\n\u001b[1;32m      3\u001b[0m \u001b[0;34m\u001b[0m\u001b[0m\n\u001b[1;32m      4\u001b[0m \u001b[0;32mwhile\u001b[0m \u001b[0mlen\u001b[0m\u001b[0;34m(\u001b[0m\u001b[0mmon_executions\u001b[0m\u001b[0;34m)\u001b[0m \u001b[0;34m==\u001b[0m \u001b[0;36m0\u001b[0m\u001b[0;34m:\u001b[0m\u001b[0;34m\u001b[0m\u001b[0m\n\u001b[1;32m      5\u001b[0m     \u001b[0mprint\u001b[0m\u001b[0;34m(\u001b[0m\u001b[0;34m\"Waiting for the 1st execution to happen...\"\u001b[0m\u001b[0;34m)\u001b[0m\u001b[0;34m\u001b[0m\u001b[0m\n",
      "\u001b[0;32m~/anaconda3/envs/python3/lib/python3.6/site-packages/sagemaker/model_monitor/model_monitoring.py\u001b[0m in \u001b[0;36mlist_executions\u001b[0;34m(self)\u001b[0m\n\u001b[1;32m    616\u001b[0m         \"\"\"\n\u001b[1;32m    617\u001b[0m         monitoring_executions_dict = self.sagemaker_session.list_monitoring_executions(\n\u001b[0;32m--> 618\u001b[0;31m             \u001b[0mmonitoring_schedule_name\u001b[0m\u001b[0;34m=\u001b[0m\u001b[0mself\u001b[0m\u001b[0;34m.\u001b[0m\u001b[0mmonitoring_schedule_name\u001b[0m\u001b[0;34m\u001b[0m\u001b[0m\n\u001b[0m\u001b[1;32m    619\u001b[0m         )\n\u001b[1;32m    620\u001b[0m \u001b[0;34m\u001b[0m\u001b[0m\n",
      "\u001b[0;32m~/anaconda3/envs/python3/lib/python3.6/site-packages/sagemaker/session.py\u001b[0m in \u001b[0;36mlist_monitoring_executions\u001b[0;34m(self, monitoring_schedule_name, sort_by, sort_order, max_results)\u001b[0m\n\u001b[1;32m   1141\u001b[0m             \u001b[0mSortBy\u001b[0m\u001b[0;34m=\u001b[0m\u001b[0msort_by\u001b[0m\u001b[0;34m,\u001b[0m\u001b[0;34m\u001b[0m\u001b[0m\n\u001b[1;32m   1142\u001b[0m             \u001b[0mSortOrder\u001b[0m\u001b[0;34m=\u001b[0m\u001b[0msort_order\u001b[0m\u001b[0;34m,\u001b[0m\u001b[0;34m\u001b[0m\u001b[0m\n\u001b[0;32m-> 1143\u001b[0;31m             \u001b[0mMaxResults\u001b[0m\u001b[0;34m=\u001b[0m\u001b[0mmax_results\u001b[0m\u001b[0;34m,\u001b[0m\u001b[0;34m\u001b[0m\u001b[0m\n\u001b[0m\u001b[1;32m   1144\u001b[0m         )\n\u001b[1;32m   1145\u001b[0m         \u001b[0;32mreturn\u001b[0m \u001b[0mresponse\u001b[0m\u001b[0;34m\u001b[0m\u001b[0m\n",
      "\u001b[0;32m~/anaconda3/envs/python3/lib/python3.6/site-packages/botocore/client.py\u001b[0m in \u001b[0;36m_api_call\u001b[0;34m(self, *args, **kwargs)\u001b[0m\n\u001b[1;32m    274\u001b[0m                     \"%s() only accepts keyword arguments.\" % py_operation_name)\n\u001b[1;32m    275\u001b[0m             \u001b[0;31m# The \"self\" in this scope is referring to the BaseClient.\u001b[0m\u001b[0;34m\u001b[0m\u001b[0;34m\u001b[0m\u001b[0m\n\u001b[0;32m--> 276\u001b[0;31m             \u001b[0;32mreturn\u001b[0m \u001b[0mself\u001b[0m\u001b[0;34m.\u001b[0m\u001b[0m_make_api_call\u001b[0m\u001b[0;34m(\u001b[0m\u001b[0moperation_name\u001b[0m\u001b[0;34m,\u001b[0m \u001b[0mkwargs\u001b[0m\u001b[0;34m)\u001b[0m\u001b[0;34m\u001b[0m\u001b[0m\n\u001b[0m\u001b[1;32m    277\u001b[0m \u001b[0;34m\u001b[0m\u001b[0m\n\u001b[1;32m    278\u001b[0m         \u001b[0m_api_call\u001b[0m\u001b[0;34m.\u001b[0m\u001b[0m__name__\u001b[0m \u001b[0;34m=\u001b[0m \u001b[0mstr\u001b[0m\u001b[0;34m(\u001b[0m\u001b[0mpy_operation_name\u001b[0m\u001b[0;34m)\u001b[0m\u001b[0;34m\u001b[0m\u001b[0m\n",
      "\u001b[0;32m~/anaconda3/envs/python3/lib/python3.6/site-packages/botocore/client.py\u001b[0m in \u001b[0;36m_make_api_call\u001b[0;34m(self, operation_name, api_params)\u001b[0m\n\u001b[1;32m    584\u001b[0m             \u001b[0merror_code\u001b[0m \u001b[0;34m=\u001b[0m \u001b[0mparsed_response\u001b[0m\u001b[0;34m.\u001b[0m\u001b[0mget\u001b[0m\u001b[0;34m(\u001b[0m\u001b[0;34m\"Error\"\u001b[0m\u001b[0;34m,\u001b[0m \u001b[0;34m{\u001b[0m\u001b[0;34m}\u001b[0m\u001b[0;34m)\u001b[0m\u001b[0;34m.\u001b[0m\u001b[0mget\u001b[0m\u001b[0;34m(\u001b[0m\u001b[0;34m\"Code\"\u001b[0m\u001b[0;34m)\u001b[0m\u001b[0;34m\u001b[0m\u001b[0m\n\u001b[1;32m    585\u001b[0m             \u001b[0merror_class\u001b[0m \u001b[0;34m=\u001b[0m \u001b[0mself\u001b[0m\u001b[0;34m.\u001b[0m\u001b[0mexceptions\u001b[0m\u001b[0;34m.\u001b[0m\u001b[0mfrom_code\u001b[0m\u001b[0;34m(\u001b[0m\u001b[0merror_code\u001b[0m\u001b[0;34m)\u001b[0m\u001b[0;34m\u001b[0m\u001b[0m\n\u001b[0;32m--> 586\u001b[0;31m             \u001b[0;32mraise\u001b[0m \u001b[0merror_class\u001b[0m\u001b[0;34m(\u001b[0m\u001b[0mparsed_response\u001b[0m\u001b[0;34m,\u001b[0m \u001b[0moperation_name\u001b[0m\u001b[0;34m)\u001b[0m\u001b[0;34m\u001b[0m\u001b[0m\n\u001b[0m\u001b[1;32m    587\u001b[0m         \u001b[0;32melse\u001b[0m\u001b[0;34m:\u001b[0m\u001b[0;34m\u001b[0m\u001b[0m\n\u001b[1;32m    588\u001b[0m             \u001b[0;32mreturn\u001b[0m \u001b[0mparsed_response\u001b[0m\u001b[0;34m\u001b[0m\u001b[0m\n",
      "\u001b[0;31mClientError\u001b[0m: An error occurred (ValidationException) when calling the ListMonitoringExecutions operation: 1 validation error detected: Value 'md-labs-xgb-churn-pred-model-monitor-schedule-2020-06-04-22-43-30' at 'monitoringScheduleName' failed to satisfy constraint: Member must have length less than or equal to 63"
     ]
    }
   ],
   "source": [
    "mon_executions = my_default_monitor.list_executions()\n",
    "print(\"We created a hourly schedule above and it will kick off executions ON the hour (plus 0 - 20 min buffer.\\nWe will have to wait till we hit the hour...\")\n",
    "\n",
    "while len(mon_executions) == 0:\n",
    "    print(\"Waiting for the 1st execution to happen...\")\n",
    "    time.sleep(60)\n",
    "    mon_executions = my_default_monitor.list_executions()    "
   ]
  },
  {
   "cell_type": "markdown",
   "metadata": {},
   "source": [
    "### Inspect a specific execution (latest execution)\n",
    "In the previous cell, you picked up the latest completed or failed scheduled execution. Here are the possible terminal states and what each of them mean: \n",
    "* Completed - This means the monitoring execution completed and no issues were found in the violations report.\n",
    "* CompletedWithViolations - This means the execution completed, but constraint violations were detected.\n",
    "* Failed - The monitoring execution failed, maybe due to client error (perhaps incorrect role premissions) or infrastructure issues. Further examination of FailureReason and ExitMessage is necessary to identify what exactly happened.\n",
    "* Stopped - job exceeded max runtime or was manually stopped."
   ]
  },
  {
   "cell_type": "code",
   "execution_count": null,
   "metadata": {},
   "outputs": [],
   "source": [
    "latest_execution = mon_executions[-1] # latest execution's index is -1, second to last is -2 and so on..\n",
    "time.sleep(60)\n",
    "latest_execution.wait(logs=False)\n",
    "\n",
    "print(\"Latest execution status: {}\".format(latest_execution.describe()['ProcessingJobStatus']))\n",
    "print(\"Latest execution result: {}\".format(latest_execution.describe()['ExitMessage']))\n",
    "\n",
    "latest_job = latest_execution.describe()\n",
    "if (latest_job['ProcessingJobStatus'] != 'Completed'):\n",
    "        print(\"====STOP==== \\n No completed executions to inspect further. Please wait till an execution completes or investigate previously reported failures.\")"
   ]
  },
  {
   "cell_type": "code",
   "execution_count": null,
   "metadata": {},
   "outputs": [],
   "source": [
    "report_uri=latest_execution.output.destination\n",
    "print('Report Uri: {}'.format(report_uri))"
   ]
  },
  {
   "cell_type": "markdown",
   "metadata": {},
   "source": [
    "### List the generated reports"
   ]
  },
  {
   "cell_type": "code",
   "execution_count": null,
   "metadata": {},
   "outputs": [],
   "source": [
    "from urllib.parse import urlparse\n",
    "s3uri = urlparse(report_uri)\n",
    "report_bucket = s3uri.netloc\n",
    "report_key = s3uri.path.lstrip('/')\n",
    "print('Report bucket: {}'.format(report_bucket))\n",
    "print('Report key: {}'.format(report_key))\n",
    "\n",
    "s3_client = boto3.Session().client('s3')\n",
    "result = s3_client.list_objects(Bucket=report_bucket, Prefix=report_key)\n",
    "report_files = [report_file.get(\"Key\") for report_file in result.get('Contents')]\n",
    "print(\"Found Report Files:\")\n",
    "print(\"\\n \".join(report_files))"
   ]
  },
  {
   "cell_type": "markdown",
   "metadata": {},
   "source": [
    "### Violations report"
   ]
  },
  {
   "cell_type": "markdown",
   "metadata": {},
   "source": [
    "If there are any violations compared to the baseline, they will be listed here."
   ]
  },
  {
   "cell_type": "code",
   "execution_count": null,
   "metadata": {},
   "outputs": [],
   "source": [
    "violations = my_default_monitor.latest_monitoring_constraint_violations()\n",
    "pd.set_option('display.max_colwidth', -1)\n",
    "constraints_df = pd.io.json.json_normalize(violations.body_dict[\"violations\"])\n",
    "constraints_df.head(10)"
   ]
  },
  {
   "cell_type": "markdown",
   "metadata": {},
   "source": [
    "### Other commands\n",
    "We can also start and stop the monitoring schedules."
   ]
  },
  {
   "cell_type": "code",
   "execution_count": null,
   "metadata": {},
   "outputs": [],
   "source": [
    "#my_default_monitor.stop_monitoring_schedule()\n",
    "#my_default_monitor.start_monitoring_schedule()"
   ]
  },
  {
   "cell_type": "markdown",
   "metadata": {},
   "source": [
    "## Delete the resources\n",
    "\n",
    "You can keep your endpoint running to continue capturing data. If you do not plan to collect more data or use this endpoint further, you should delete the endpoint to avoid incurring additional charges. Note that deleting your endpoint does not delete the data that was captured during the model invocations. That data persists in Amazon S3 until you delete it yourself.\n",
    "\n",
    "But before that, you need to delete the schedule first."
   ]
  },
  {
   "cell_type": "code",
   "execution_count": 25,
   "metadata": {},
   "outputs": [
    {
     "name": "stdout",
     "output_type": "stream",
     "text": "\nDeleting Monitoring Schedule with name: md-labs-xgb-churn-pred-model-monitor-schedule-2020-06-04-22-43-30\n"
    },
    {
     "ename": "ClientError",
     "evalue": "An error occurred (ValidationException) when calling the DeleteMonitoringSchedule operation: 1 validation error detected: Value 'md-labs-xgb-churn-pred-model-monitor-schedule-2020-06-04-22-43-30' at 'monitoringScheduleName' failed to satisfy constraint: Member must have length less than or equal to 63",
     "output_type": "error",
     "traceback": [
      "\u001b[0;31m---------------------------------------------------------------------------\u001b[0m",
      "\u001b[0;31mClientError\u001b[0m                               Traceback (most recent call last)",
      "\u001b[0;32m<ipython-input-25-eb50b75e10e8>\u001b[0m in \u001b[0;36m<module>\u001b[0;34m()\u001b[0m\n\u001b[0;32m----> 1\u001b[0;31m \u001b[0mmy_default_monitor\u001b[0m\u001b[0;34m.\u001b[0m\u001b[0mdelete_monitoring_schedule\u001b[0m\u001b[0;34m(\u001b[0m\u001b[0;34m)\u001b[0m\u001b[0;34m\u001b[0m\u001b[0m\n\u001b[0m\u001b[1;32m      2\u001b[0m \u001b[0mtime\u001b[0m\u001b[0;34m.\u001b[0m\u001b[0msleep\u001b[0m\u001b[0;34m(\u001b[0m\u001b[0;36m60\u001b[0m\u001b[0;34m)\u001b[0m \u001b[0;31m# actually wait for the deletion\u001b[0m\u001b[0;34m\u001b[0m\u001b[0m\n",
      "\u001b[0;32m~/anaconda3/envs/python3/lib/python3.6/site-packages/sagemaker/model_monitor/model_monitoring.py\u001b[0m in \u001b[0;36mdelete_monitoring_schedule\u001b[0;34m(self)\u001b[0m\n\u001b[1;32m    496\u001b[0m         \u001b[0;34m\"\"\"Deletes the monitoring schedule.\"\"\"\u001b[0m\u001b[0;34m\u001b[0m\u001b[0m\n\u001b[1;32m    497\u001b[0m         self.sagemaker_session.delete_monitoring_schedule(\n\u001b[0;32m--> 498\u001b[0;31m             \u001b[0mmonitoring_schedule_name\u001b[0m\u001b[0;34m=\u001b[0m\u001b[0mself\u001b[0m\u001b[0;34m.\u001b[0m\u001b[0mmonitoring_schedule_name\u001b[0m\u001b[0;34m\u001b[0m\u001b[0m\n\u001b[0m\u001b[1;32m    499\u001b[0m         )\n\u001b[1;32m    500\u001b[0m         \u001b[0mself\u001b[0m\u001b[0;34m.\u001b[0m\u001b[0mmonitoring_schedule_name\u001b[0m \u001b[0;34m=\u001b[0m \u001b[0;32mNone\u001b[0m\u001b[0;34m\u001b[0m\u001b[0m\n",
      "\u001b[0;32m~/anaconda3/envs/python3/lib/python3.6/site-packages/sagemaker/session.py\u001b[0m in \u001b[0;36mdelete_monitoring_schedule\u001b[0;34m(self, monitoring_schedule_name)\u001b[0m\n\u001b[1;32m   1098\u001b[0m         \u001b[0mprint\u001b[0m\u001b[0;34m(\u001b[0m\u001b[0;34m\"Deleting Monitoring Schedule with name: {}\"\u001b[0m\u001b[0;34m.\u001b[0m\u001b[0mformat\u001b[0m\u001b[0;34m(\u001b[0m\u001b[0mmonitoring_schedule_name\u001b[0m\u001b[0;34m)\u001b[0m\u001b[0;34m)\u001b[0m\u001b[0;34m\u001b[0m\u001b[0m\n\u001b[1;32m   1099\u001b[0m         self.sagemaker_client.delete_monitoring_schedule(\n\u001b[0;32m-> 1100\u001b[0;31m             \u001b[0mMonitoringScheduleName\u001b[0m\u001b[0;34m=\u001b[0m\u001b[0mmonitoring_schedule_name\u001b[0m\u001b[0;34m\u001b[0m\u001b[0m\n\u001b[0m\u001b[1;32m   1101\u001b[0m         )\n\u001b[1;32m   1102\u001b[0m \u001b[0;34m\u001b[0m\u001b[0m\n",
      "\u001b[0;32m~/anaconda3/envs/python3/lib/python3.6/site-packages/botocore/client.py\u001b[0m in \u001b[0;36m_api_call\u001b[0;34m(self, *args, **kwargs)\u001b[0m\n\u001b[1;32m    274\u001b[0m                     \"%s() only accepts keyword arguments.\" % py_operation_name)\n\u001b[1;32m    275\u001b[0m             \u001b[0;31m# The \"self\" in this scope is referring to the BaseClient.\u001b[0m\u001b[0;34m\u001b[0m\u001b[0;34m\u001b[0m\u001b[0m\n\u001b[0;32m--> 276\u001b[0;31m             \u001b[0;32mreturn\u001b[0m \u001b[0mself\u001b[0m\u001b[0;34m.\u001b[0m\u001b[0m_make_api_call\u001b[0m\u001b[0;34m(\u001b[0m\u001b[0moperation_name\u001b[0m\u001b[0;34m,\u001b[0m \u001b[0mkwargs\u001b[0m\u001b[0;34m)\u001b[0m\u001b[0;34m\u001b[0m\u001b[0m\n\u001b[0m\u001b[1;32m    277\u001b[0m \u001b[0;34m\u001b[0m\u001b[0m\n\u001b[1;32m    278\u001b[0m         \u001b[0m_api_call\u001b[0m\u001b[0;34m.\u001b[0m\u001b[0m__name__\u001b[0m \u001b[0;34m=\u001b[0m \u001b[0mstr\u001b[0m\u001b[0;34m(\u001b[0m\u001b[0mpy_operation_name\u001b[0m\u001b[0;34m)\u001b[0m\u001b[0;34m\u001b[0m\u001b[0m\n",
      "\u001b[0;32m~/anaconda3/envs/python3/lib/python3.6/site-packages/botocore/client.py\u001b[0m in \u001b[0;36m_make_api_call\u001b[0;34m(self, operation_name, api_params)\u001b[0m\n\u001b[1;32m    584\u001b[0m             \u001b[0merror_code\u001b[0m \u001b[0;34m=\u001b[0m \u001b[0mparsed_response\u001b[0m\u001b[0;34m.\u001b[0m\u001b[0mget\u001b[0m\u001b[0;34m(\u001b[0m\u001b[0;34m\"Error\"\u001b[0m\u001b[0;34m,\u001b[0m \u001b[0;34m{\u001b[0m\u001b[0;34m}\u001b[0m\u001b[0;34m)\u001b[0m\u001b[0;34m.\u001b[0m\u001b[0mget\u001b[0m\u001b[0;34m(\u001b[0m\u001b[0;34m\"Code\"\u001b[0m\u001b[0;34m)\u001b[0m\u001b[0;34m\u001b[0m\u001b[0m\n\u001b[1;32m    585\u001b[0m             \u001b[0merror_class\u001b[0m \u001b[0;34m=\u001b[0m \u001b[0mself\u001b[0m\u001b[0;34m.\u001b[0m\u001b[0mexceptions\u001b[0m\u001b[0;34m.\u001b[0m\u001b[0mfrom_code\u001b[0m\u001b[0;34m(\u001b[0m\u001b[0merror_code\u001b[0m\u001b[0;34m)\u001b[0m\u001b[0;34m\u001b[0m\u001b[0m\n\u001b[0;32m--> 586\u001b[0;31m             \u001b[0;32mraise\u001b[0m \u001b[0merror_class\u001b[0m\u001b[0;34m(\u001b[0m\u001b[0mparsed_response\u001b[0m\u001b[0;34m,\u001b[0m \u001b[0moperation_name\u001b[0m\u001b[0;34m)\u001b[0m\u001b[0;34m\u001b[0m\u001b[0m\n\u001b[0m\u001b[1;32m    587\u001b[0m         \u001b[0;32melse\u001b[0m\u001b[0;34m:\u001b[0m\u001b[0;34m\u001b[0m\u001b[0m\n\u001b[1;32m    588\u001b[0m             \u001b[0;32mreturn\u001b[0m \u001b[0mparsed_response\u001b[0m\u001b[0;34m\u001b[0m\u001b[0m\n",
      "\u001b[0;31mClientError\u001b[0m: An error occurred (ValidationException) when calling the DeleteMonitoringSchedule operation: 1 validation error detected: Value 'md-labs-xgb-churn-pred-model-monitor-schedule-2020-06-04-22-43-30' at 'monitoringScheduleName' failed to satisfy constraint: Member must have length less than or equal to 63"
     ]
    }
   ],
   "source": [
    "my_default_monitor.delete_monitoring_schedule()\n",
    "time.sleep(60) # actually wait for the deletion"
   ]
  },
  {
   "cell_type": "code",
   "execution_count": 26,
   "metadata": {},
   "outputs": [],
   "source": [
    "predictor.delete_endpoint()"
   ]
  },
  {
   "cell_type": "code",
   "execution_count": 27,
   "metadata": {},
   "outputs": [],
   "source": [
    "predictor.delete_model()"
   ]
  },
  {
   "cell_type": "code",
   "execution_count": null,
   "metadata": {},
   "outputs": [],
   "source": []
  }
 ],
 "metadata": {
  "anaconda-cloud": {},
  "kernelspec": {
   "display_name": "conda_python3",
   "language": "python",
   "name": "conda_python3"
  },
  "language_info": {
   "codemirror_mode": {
    "name": "ipython",
    "version": 3
   },
   "file_extension": ".py",
   "mimetype": "text/x-python",
   "name": "python",
   "nbconvert_exporter": "python",
   "pygments_lexer": "ipython3",
   "version": "3.6.5"
  },
  "notice": "Copyright 2017 Amazon.com, Inc. or its affiliates. All Rights Reserved.  Licensed under the Apache License, Version 2.0 (the \"License\"). You may not use this file except in compliance with the License. A copy of the License is located at http://aws.amazon.com/apache2.0/ or in the \"license\" file accompanying this file. This file is distributed on an \"AS IS\" BASIS, WITHOUT WARRANTIES OR CONDITIONS OF ANY KIND, either express or implied. See the License for the specific language governing permissions and limitations under the License."
 },
 "nbformat": 4,
 "nbformat_minor": 4
}