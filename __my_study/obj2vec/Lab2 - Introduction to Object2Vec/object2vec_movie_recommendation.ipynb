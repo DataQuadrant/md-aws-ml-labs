{
 "cells": [
  {
   "cell_type": "markdown",
   "metadata": {},
   "source": [
    "# An Introduction to SageMaker Object2Vec model for MovieLens recommendations\n",
    "\n",
    "\n",
    "1. [Background](#Background)\n",
    "1. [Data exploration and preparation](#Data-exploration-and-preparation)\n",
    "1. [Rating prediction task](#Rating-prediction-task)\n",
    "1. [Recommendation task](#Recommendation-task)"
   ]
  },
  {
   "cell_type": "markdown",
   "metadata": {},
   "source": [
    "# Background\n",
    "\n",
    "### Object2Vec\n",
    "*Object2Vec* is a highly customizable multi-purpose algorithm that can learn embeddings of pairs of objects. The embeddings are learned such that it preserves their pairwise **similarities** in the original space.\n",
    "- **Similarity** is user-defined: users need to provide the algorithm with pairs of objects that they define as similar (1) or dissimilar (0); alternatively, the users can define similarity in a continuous sense (provide a real-valued similarity score)\n",
    "- The learned embeddings can be used to efficiently compute nearest neighbors of objects, as well as to visualize natural clusters of related objects in the embedding space. In addition, the embeddings can also be used as features of the corresponding objects in downstream supervised tasks such as classification or regression"
   ]
  },
  {
   "cell_type": "markdown",
   "metadata": {},
   "source": [
    "## In this notebook example:\n",
    "We demonstrate how Object2Vec can be used to solve problems arising in recommendation systems. Specifically,\n",
    "\n",
    "- We provide the algorithm with (UserID, MovieID) pairs; for each such pair, we also provide a \"label\" that tells the algorithm whether the user and movie are similar or not\n",
    "\n",
    "     * When the labels are real-valued, we use the algorithm to predict the exact ratings of a movie given a user\n",
    "     * When the labels are binary, we use the algorithm to recommendation movies to users\n",
    "\n",
    "- The diagram below shows the customization of our model to the problem of predicting movie ratings, using a dataset that provides `(UserID, ItemID, Rating)` samples. Here, ratings are real-valued"
   ]
  },
  {
   "cell_type": "markdown",
   "metadata": {},
   "source": [
    "<img style=\"float:middle\" src=\"images/image_ml_rating.png\" width=\"480\">"
   ]
  },
  {
   "cell_type": "markdown",
   "metadata": {},
   "source": [
    "### Dataset\n",
    "We use the MovieLens 100k dataset: https://grouplens.org/datasets/movielens/100k/\n",
    "\n",
    "#### License\n",
    "Please be aware of the following requirements about ackonwledgment, copyright and availability, cited from the [data set description page](http://files.grouplens.org/datasets/movielens/ml-100k-README.txt).\n",
    ">The data set may be used for any research\n",
    "purposes under the following conditions:\n",
    "     * The user may not state or imply any endorsement from the\n",
    "       University of Minnesota or the GroupLens Research Group.\n",
    "     * The user must acknowledge the use of the data set in\n",
    "       publications resulting from the use of the data set\n",
    "       (see below for citation information).\n",
    "     * The user may not redistribute the data without separate\n",
    "       permission.\n",
    "     * The user may not use this information for any commercial or\n",
    "       revenue-bearing purposes without first obtaining permission\n",
    "       from a faculty member of the GroupLens Research Project at the\n",
    "       University of Minnesota.\n",
    "If you have any further questions or comments, please contact GroupLens \\<grouplens-info@cs.umn.edu\\>. "
   ]
  },
  {
   "cell_type": "markdown",
   "metadata": {},
   "source": [
    "### Use cases\n",
    "\n",
    "- Task 1: Rating prediction (regression)\n",
    "- Task 2: Movie recommendation (classification)\n",
    "- Task 3: Nearest-neighbor movie retrieval in the learned embedding space (will do this in a Lambda function)"
   ]
  },
  {
   "cell_type": "markdown",
   "metadata": {},
   "source": [
    "### Before running the notebook\n",
    "- Please use a Python 3 kernel for the notebook (e.g. conda_python3).\n",
    "- Go to S3 and make a note of the name of the bucket you created for this Lab.\n",
    "- Please make sure you have `jsonlines` package installed (if not, you can run the command below to install it)."
   ]
  },
  {
   "cell_type": "code",
   "execution_count": 26,
   "metadata": {},
   "outputs": [],
   "source": [
    "bucket = 'md-labs-ml-bucket' # Replace with your own bucket name"
   ]
  },
  {
   "cell_type": "code",
   "execution_count": 27,
   "metadata": {},
   "outputs": [],
   "source": [
    "# !pip install jsonlines"
   ]
  },
  {
   "cell_type": "code",
   "execution_count": 28,
   "metadata": {},
   "outputs": [
    {
     "name": "stdout",
     "output_type": "stream",
     "text": [
      "/home/ec2-user/anaconda3/envs/python3\n",
      "\u001b[33mWARNING: The directory '/home/ec2-user/.cache/pip' or its parent directory is not owned or is not writable by the current user. The cache has been disabled. Check the permissions and owner of that directory. If executing pip with sudo, you may want sudo's -H flag.\u001b[0m\n",
      "Requirement already satisfied: jsonlines in /home/ec2-user/anaconda3/envs/python3/lib/python3.6/site-packages (1.2.0)\n",
      "Requirement already satisfied: six in /home/ec2-user/anaconda3/envs/python3/lib/python3.6/site-packages (from jsonlines) (1.11.0)\n"
     ]
    }
   ],
   "source": [
    "import sys\n",
    "! echo {sys.prefix}\n",
    "! {sys.prefix}/bin/pip install jsonlines"
   ]
  },
  {
   "cell_type": "markdown",
   "metadata": {},
   "source": [
    "Start by importing the libraries needed to complete the Lab. Please note that customutil is a custom library included with this notebook. It provides utility methods for loading data, transforming data, and writing data. Take a look at the methods in `customutil.py`."
   ]
  },
  {
   "cell_type": "code",
   "execution_count": 29,
   "metadata": {},
   "outputs": [],
   "source": [
    "import os\n",
    "import sys\n",
    "import csv, jsonlines\n",
    "import numpy as np\n",
    "import copy\n",
    "import random\n",
    "import customutil as cu"
   ]
  },
  {
   "cell_type": "code",
   "execution_count": 30,
   "metadata": {},
   "outputs": [],
   "source": [
    "%matplotlib inline\n",
    "import matplotlib.pyplot as plt"
   ]
  },
  {
   "cell_type": "markdown",
   "metadata": {},
   "source": [
    "# Data exploration and preparation\n",
    "Start by downloading the dataset and unzipping it."
   ]
  },
  {
   "cell_type": "code",
   "execution_count": 31,
   "metadata": {},
   "outputs": [
    {
     "name": "stdout",
     "output_type": "stream",
     "text": [
      "Archive:  ml-100k.zip\n",
      "  inflating: k.zip                   \n"
     ]
    },
    {
     "name": "stderr",
     "output_type": "stream",
     "text": [
      "  % Total    % Received % Xferd  Average Speed   Time    Time     Time  Current\n",
      "                                 Dload  Upload   Total   Spent    Left  Speed\n",
      "100 4808k  100 4808k    0     0   350k      0  0:00:13  0:00:13 --:--:--  311k\n",
      "replace ml-100k/allbut.pl? [y]es, [n]o, [A]ll, [N]one, [r]ename: new name: replace ml-100k/mku.sh? [y]es, [n]o, [A]ll, [N]one, [r]ename:  NULL\n",
      "(EOF or read error, treating as \"[N]one\" ...)\n"
     ]
    }
   ],
   "source": [
    "%%bash\n",
    "\n",
    "curl -o ml-100k.zip http://files.grouplens.org/datasets/movielens/ml-100k.zip\n",
    "unzip ml-100k.zip\n",
    "rm ml-100k.zip"
   ]
  },
  {
   "cell_type": "markdown",
   "metadata": {},
   "source": [
    "We want to explore the data from two angles - from a per-user perspective and from a per-movie perspective. To achieve this, use the custom utility methods to:\n",
    "- Load the data from the CSV file\n",
    "- Shuffle the data\n",
    "- Re-format the data into a per-user set and a per-movie set"
   ]
  },
  {
   "cell_type": "code",
   "execution_count": 32,
   "metadata": {},
   "outputs": [
    {
     "name": "stdout",
     "output_type": "stream",
     "text": [
      "In file ml-100k/ua.base, there are 90570 ratings\n",
      "The ratings have mean: 3.52, median: 4.0, and variance: 1.27\n",
      "There are 943 unique users and 1680 unique movies\n",
      "In file ml-100k/ua.test, there are 9430 ratings\n",
      "The ratings have mean: 3.59, median: 4.0, and variance: 1.25\n",
      "There are 943 unique users and 1129 unique movies\n"
     ]
    }
   ],
   "source": [
    "# Set the data paths\n",
    "prefix = 'ml-100k'\n",
    "train_path = os.path.join(prefix, 'ua.base')\n",
    "valid_path = os.path.join(prefix, 'ua.test')\n",
    "\n",
    "# Load data and shuffle\n",
    "train_data_list = cu.load_csv_data(train_path, '\\t')\n",
    "random.shuffle(train_data_list)\n",
    "validation_data_list = cu.load_csv_data(valid_path, '\\t')\n",
    "random.shuffle(validation_data_list)"
   ]
  },
  {
   "cell_type": "code",
   "execution_count": 33,
   "metadata": {},
   "outputs": [],
   "source": [
    "# Create a per-user dataset and a per-movie dataset\n",
    "to_users_dict, to_movies_dict = cu.csv_to_augmented_data_dict(train_path, '\\t')"
   ]
  },
  {
   "cell_type": "markdown",
   "metadata": {},
   "source": [
    "### We perform some data exploration\n",
    "To gain a better understanding of the data we are working with, do some basic data exploration in three steps:\n",
    "1. Calculate some basic stats such as minimum, maximum, and mean to understand how many movies are watched per user, and to understand how many users watch a movie.\n",
    "2. Check if there are users who have watched very few movies, or movies which have been watched by very few users. It could be wise to remove these from the dataset.\n",
    "3. Plot some graphs to visually explore the data."
   ]
  },
  {
   "cell_type": "code",
   "execution_count": 34,
   "metadata": {},
   "outputs": [
    {
     "name": "stdout",
     "output_type": "stream",
     "text": [
      "The min, max, and median 'movies per user' is 10, 727, and 55.0\n"
     ]
    }
   ],
   "source": [
    "# Calculate min, max, median of number of movies per user\n",
    "movies_per_user = [len(val) for key, val in to_users_dict.items()]\n",
    "print(\"The min, max, and median 'movies per user' is {}, {}, and {}\".format(np.amin(movies_per_user),\n",
    "                                                                        np.amax(movies_per_user),\n",
    "                                                                         np.median(movies_per_user)))"
   ]
  },
  {
   "cell_type": "code",
   "execution_count": 35,
   "metadata": {},
   "outputs": [
    {
     "name": "stdout",
     "output_type": "stream",
     "text": [
      "The min, max, and median 'users per movie' is 1, 495, and 25.0\n"
     ]
    }
   ],
   "source": [
    "# Calculate min, max, median of number of users per movie\n",
    "users_per_movie = [len(val) for key, val in to_movies_dict.items()]\n",
    "print(\"The min, max, and median 'users per movie' is {}, {}, and {}\".format(np.amin(users_per_movie),\n",
    "                                                                         np.amax(users_per_movie),\n",
    "                                                                          np.median(users_per_movie)))"
   ]
  },
  {
   "cell_type": "code",
   "execution_count": 36,
   "metadata": {},
   "outputs": [
    {
     "name": "stdout",
     "output_type": "stream",
     "text": [
      "In the training set\n",
      "There are 213 users with no more than 20 movies\n"
     ]
    }
   ],
   "source": [
    "# Calculate how many users have watched less than a certain number of movies\n",
    "count = 0\n",
    "n_movies_lower_bound = 20\n",
    "for n_movies in movies_per_user:\n",
    "    if n_movies <= n_movies_lower_bound:\n",
    "        count += 1\n",
    "print(\"In the training set\")\n",
    "print('There are {} users with no more than {} movies'.format(count, n_movies_lower_bound))"
   ]
  },
  {
   "cell_type": "code",
   "execution_count": 37,
   "metadata": {},
   "outputs": [
    {
     "name": "stdout",
     "output_type": "stream",
     "text": [
      "There are 12 movies with no more than 2 user\n"
     ]
    }
   ],
   "source": [
    "# Calculate how many movies have been watched by less than a certain threshold of users\n",
    "count = 0\n",
    "n_users_lower_bound = 2\n",
    "for n_users in users_per_movie:\n",
    "    if n_users <= n_users_lower_bound:\n",
    "        count += 1\n",
    "print('There are {} movies with no more than {} user'.format(count, n_users_lower_bound))"
   ]
  },
  {
   "cell_type": "code",
   "execution_count": 38,
   "metadata": {},
   "outputs": [
    {
     "data": {
      "text/plain": [
       "Text(0.5, 1.0, 'Movies per user')"
      ]
     },
     "execution_count": 38,
     "metadata": {},
     "output_type": "execute_result"
    },
    {
     "data": {
      "image/png": "[encoded data removed]",
      "text/plain": [
       "<Figure size 432x288 with 1 Axes>"
      ]
     },
     "metadata": {},
     "output_type": "display_data"
    }
   ],
   "source": [
    "# Generate histogram for the number of movies watched per user \n",
    "f = plt.figure(1)\n",
    "plt.hist(movies_per_user)\n",
    "plt.title(\"Movies per user\")"
   ]
  },
  {
   "cell_type": "code",
   "execution_count": 39,
   "metadata": {},
   "outputs": [
    {
     "data": {
      "text/plain": [
       "Text(0.5, 1.0, 'Users per movie')"
      ]
     },
     "execution_count": 39,
     "metadata": {},
     "output_type": "execute_result"
    },
    {
     "data": {
      "image/png": "[encoded data removed]",
      "text/plain": [
       "<Figure size 432x288 with 1 Axes>"
      ]
     },
     "metadata": {},
     "output_type": "display_data"
    }
   ],
   "source": [
    "# Generate histogram for the number of users who watched a movie\n",
    "g = plt.figure(2)\n",
    "plt.hist(users_per_movie)\n",
    "plt.title(\"Users per movie\")"
   ]
  },
  {
   "cell_type": "markdown",
   "metadata": {},
   "source": [
    "Since the number of movies with an extremely small number of users (<3) is negligible compared to the total number of movies, we will not remove movies from the data set (same applies for users)."
   ]
  },
  {
   "cell_type": "markdown",
   "metadata": {},
   "source": [
    "# Rating prediction task \n",
    "In the rating prediction task, the model will predict the rating that a user will give to a movie."
   ]
  },
  {
   "cell_type": "code",
   "execution_count": 40,
   "metadata": {},
   "outputs": [
    {
     "name": "stdout",
     "output_type": "stream",
     "text": [
      "Created train_r.jsonl jsonline file\n",
      "Created validation_r.jsonl jsonline file\n"
     ]
    }
   ],
   "source": [
    "# Save training and validation data locally for rating-prediction (regression) task.\n",
    "cu.write_data_list_to_jsonl(copy.deepcopy(train_data_list), 'train_r.jsonl')\n",
    "cu.write_data_list_to_jsonl(copy.deepcopy(validation_data_list), 'validation_r.jsonl')\n",
    "\n",
    "# Format the validation data for testing in the inference step later.\n",
    "valid_r_data, valid_r_label = cu.data_list_to_inference_format(copy.deepcopy(validation_data_list), binarize=False)"
   ]
  },
  {
   "cell_type": "code",
   "execution_count": 41,
   "metadata": {},
   "outputs": [],
   "source": [
    "# Define a function to evaluate the performance.\n",
    "def get_mse_loss(res, labels):\n",
    "    if type(res) is dict:\n",
    "        res = res['predictions']\n",
    "    assert len(res)==len(labels), 'result and label length mismatch!'\n",
    "    loss = 0\n",
    "    for row, label in zip(res, labels):\n",
    "        if type(row)is dict:\n",
    "            loss += (row['scores'][0]-label)**2\n",
    "        else:\n",
    "            loss += (row-label)**2\n",
    "    return round(loss/float(len(labels)), 2)"
   ]
  },
  {
   "cell_type": "markdown",
   "metadata": {},
   "source": [
    "#### We first test the problem on two baseline algorithms."
   ]
  },
  {
   "cell_type": "markdown",
   "metadata": {},
   "source": [
    "## Baseline 1\n",
    "\n",
    "A naive approach to predict movie ratings on unseen data is to use the global average of the user predictions in the training data"
   ]
  },
  {
   "cell_type": "code",
   "execution_count": 42,
   "metadata": {},
   "outputs": [
    {
     "name": "stdout",
     "output_type": "stream",
     "text": [
      "The Baseline 1 (global rating average) prediction is 3.52\n",
      "The validation mse loss of the Baseline 1 is 1.26\n"
     ]
    }
   ],
   "source": [
    "train_r_label = [row['label'] for row in copy.deepcopy(train_data_list)]\n",
    "\n",
    "bs1_prediction = round(np.mean(train_r_label), 2)\n",
    "print('The Baseline 1 (global rating average) prediction is {}'.format(bs1_prediction))\n",
    "print(\"The validation mse loss of the Baseline 1 is {}\".format(\n",
    "                                     get_mse_loss(len(valid_r_label)*[bs1_prediction], valid_r_label)))"
   ]
  },
  {
   "cell_type": "markdown",
   "metadata": {},
   "source": [
    "## Baseline 2"
   ]
  },
  {
   "cell_type": "markdown",
   "metadata": {},
   "source": [
    "Now we use a better baseline, which is to perform prediction on unseen data based on the user-averaged ratings of movies on training data"
   ]
  },
  {
   "cell_type": "code",
   "execution_count": 43,
   "metadata": {},
   "outputs": [],
   "source": [
    "def bs2_predictor(test_data, user_dict, is_classification=False, thres=3):\n",
    "    test_data = copy.deepcopy(test_data['instances'])\n",
    "    predictions = list()\n",
    "    for row in test_data:\n",
    "        userID = str(row[\"in0\"][0])\n",
    "        # predict movie ID based on local average of user's prediction\n",
    "        local_movies, local_ratings = zip(*user_dict[userID])\n",
    "        local_ratings = [float(score) for score in local_ratings]\n",
    "        predictions.append(np.mean(local_ratings))\n",
    "        if is_classification:\n",
    "            predictions[-1] = int(predictions[-1] > 3)\n",
    "    return predictions"
   ]
  },
  {
   "cell_type": "code",
   "execution_count": 44,
   "metadata": {},
   "outputs": [
    {
     "name": "stdout",
     "output_type": "stream",
     "text": [
      "The validation loss of the Baseline 2 (user-based rating average) is 1.09\n"
     ]
    }
   ],
   "source": [
    "bs2_prediction = bs2_predictor(valid_r_data, to_users_dict, is_classification=False)\n",
    "print(\"The validation loss of the Baseline 2 (user-based rating average) is {}\".format(\n",
    "                                     get_mse_loss(bs2_prediction, valid_r_label)))"
   ]
  },
  {
   "cell_type": "markdown",
   "metadata": {},
   "source": [
    "Next, we will use *Object2Vec* to predict the movie ratings"
   ]
  },
  {
   "cell_type": "markdown",
   "metadata": {},
   "source": [
    "## Model training and inference"
   ]
  },
  {
   "cell_type": "markdown",
   "metadata": {},
   "source": [
    "#### Define S3 bucket that hosts data and model, and upload data to S3"
   ]
  },
  {
   "cell_type": "code",
   "execution_count": 45,
   "metadata": {},
   "outputs": [],
   "source": [
    "import boto3 \n",
    "import os\n",
    " \n",
    "input_prefix = 'object2vec/movielens/input'\n",
    "output_prefix = 'object2vec/movielens/output'"
   ]
  },
  {
   "cell_type": "markdown",
   "metadata": {},
   "source": [
    "#### Upload data to S3 and make data paths"
   ]
  },
  {
   "cell_type": "code",
   "execution_count": 46,
   "metadata": {},
   "outputs": [
    {
     "name": "stdout",
     "output_type": "stream",
     "text": [
      "Resolved SageMaker IAM Role to: {'Path': '/service-role/', 'RoleName': 'AmazonSageMaker-ExecutionRole-20200306T154390', 'RoleId': 'AROA4UGSQ27FSK7GHRDZD', 'Arn': 'arn:aws:iam::868024899531:role/service-role/AmazonSageMaker-ExecutionRole-20200306T154390', 'CreateDate': datetime.datetime(2020, 3, 6, 21, 43, 35, tzinfo=tzlocal()), 'AssumeRolePolicyDocument': {'Version': '2012-10-17', 'Statement': [{'Effect': 'Allow', 'Principal': {'Service': 'sagemaker.amazonaws.com'}, 'Action': 'sts:AssumeRole'}]}, 'Description': 'SageMaker execution role created from the SageMaker AWS Management Console.', 'MaxSessionDuration': 3600}\n",
      "arn:aws:iam::868024899531:role/service-role/AmazonSageMaker-ExecutionRole-20200306T154390\n"
     ]
    }
   ],
   "source": [
    "# # execute this on aws sagemaker\n",
    "# role = get_execution_role()\n",
    "import boto3\n",
    "\n",
    "# use this if running sagemaker locally\n",
    "def resolve_sm_role():\n",
    "    client = boto3.client('iam', region_name='us-east-2')\n",
    "    response_roles = client.list_roles(\n",
    "        PathPrefix='/',\n",
    "        # Marker='string',\n",
    "        MaxItems=999\n",
    "    )\n",
    "    for role in response_roles['Roles']:\n",
    "        if role['RoleName'].startswith('AmazonSageMaker-ExecutionRole-'):\n",
    "            print('Resolved SageMaker IAM Role to: ' + str(role))\n",
    "            return role['Arn']\n",
    "    raise Exception('Could not resolve what should be the SageMaker role to be used')\n",
    "\n",
    "# this is the role created by sagemaker notebook on aws\n",
    "role_arn = resolve_sm_role()\n",
    "print(role_arn)\n",
    "role=role_arn"
   ]
  },
  {
   "cell_type": "code",
   "execution_count": null,
   "metadata": {},
   "outputs": [],
   "source": [
    "# ! aws ec2 describe-instances"
   ]
  },
  {
   "cell_type": "code",
   "execution_count": 47,
   "metadata": {},
   "outputs": [
    {
     "name": "stdout",
     "output_type": "stream",
     "text": [
      "Uploaded train data to s3://md-labs-ml-bucket/object2vec/movielens/input/rating/train/train_r.jsonl and defined input path\n",
      "Uploaded validation data to s3://md-labs-ml-bucket/object2vec/movielens/input/rating/validation/validation_r.jsonl and defined input path\n",
      "Trained model will be saved at s3://md-labs-ml-bucket/object2vec/movielens/output\n"
     ]
    }
   ],
   "source": [
    "from sagemaker.session import s3_input\n",
    "\n",
    "s3_client = boto3.client('s3')\n",
    "input_paths = {}\n",
    "output_path = os.path.join('s3://', bucket, output_prefix)\n",
    "\n",
    "for data_name in ['train', 'validation']:\n",
    "    pre_key = os.path.join(input_prefix, 'rating', f'{data_name}')\n",
    "    fname = '{}_r.jsonl'.format(data_name)\n",
    "    data_path = os.path.join('s3://', bucket, pre_key, fname)\n",
    "    s3_client.upload_file(fname, bucket, os.path.join(pre_key, fname))\n",
    "    input_paths[data_name] = s3_input(data_path, distribution='ShardedByS3Key', content_type='application/jsonlines')\n",
    "    print('Uploaded {} data to {} and defined input path'.format(data_name, data_path))\n",
    "\n",
    "print('Trained model will be saved at', output_path)"
   ]
  },
  {
   "cell_type": "markdown",
   "metadata": {},
   "source": [
    "### Get ObjectToVec algorithm image"
   ]
  },
  {
   "cell_type": "code",
   "execution_count": 48,
   "metadata": {},
   "outputs": [
    {
     "name": "stdout",
     "output_type": "stream",
     "text": [
      "arn:aws:iam::868024899531:role/service-role/AmazonSageMaker-ExecutionRole-20200306T154390\n"
     ]
    }
   ],
   "source": [
    "import sagemaker\n",
    "from sagemaker import get_execution_role\n",
    "\n",
    "sess = sagemaker.Session()\n",
    "\n",
    "# role = get_execution_role()\n",
    "print(role)"
   ]
  },
  {
   "cell_type": "code",
   "execution_count": 49,
   "metadata": {},
   "outputs": [
    {
     "name": "stdout",
     "output_type": "stream",
     "text": [
      "404615174143.dkr.ecr.us-east-2.amazonaws.com/object2vec:1\n"
     ]
    }
   ],
   "source": [
    "## Get docker image of ObjectToVec algorithm\n",
    "from sagemaker.amazon.amazon_estimator import get_image_uri\n",
    "# container = get_image_uri(container = get_image_uri(boto3.Session().region_name, 'object2vec'))\n",
    "# container = get_image_uri(boto3.Session().region_name, 'object2vec')\n",
    "container = get_image_uri(\"us-east-2\", 'object2vec')\n",
    "\n",
    "print(container)"
   ]
  },
  {
   "cell_type": "code",
   "execution_count": 50,
   "metadata": {},
   "outputs": [],
   "source": [
    "# boto3.Session().region_name = \"us-east-2\"\n"
   ]
  },
  {
   "cell_type": "markdown",
   "metadata": {},
   "source": [
    "### Training"
   ]
  },
  {
   "cell_type": "code",
   "execution_count": 51,
   "metadata": {},
   "outputs": [],
   "source": [
    "boto3.setup_default_session(region_name='us-east-2')"
   ]
  },
  {
   "cell_type": "markdown",
   "metadata": {},
   "source": [
    "#### We first define training hyperparameters"
   ]
  },
  {
   "cell_type": "code",
   "execution_count": 52,
   "metadata": {},
   "outputs": [],
   "source": [
    "hyperparameters = {\n",
    "    \"_kvstore\": \"device\",\n",
    "    \"_num_gpus\": \"auto\",\n",
    "    \"_num_kv_servers\": \"auto\",\n",
    "    \"bucket_width\": 0,\n",
    "    \"early_stopping_patience\": 3,\n",
    "    \"early_stopping_tolerance\": 0.01,\n",
    "    \"enc0_cnn_filter_width\": 3,\n",
    "    \"enc0_layers\": \"auto\",\n",
    "    \"enc0_max_seq_len\": 1,\n",
    "    \"enc0_network\": \"pooled_embedding\",\n",
    "    \"enc0_token_embedding_dim\": 300,\n",
    "    \"enc0_vocab_size\": 944,\n",
    "    \"enc1_layers\": \"auto\",\n",
    "    \"enc1_max_seq_len\": 1,\n",
    "    \"enc1_network\": \"pooled_embedding\",\n",
    "    \"enc1_token_embedding_dim\": 300,\n",
    "    \"enc1_vocab_size\": 1684,\n",
    "    \"enc_dim\": 1024,\n",
    "    \"epochs\": 20,\n",
    "    \"learning_rate\": 0.001,\n",
    "    \"mini_batch_size\": 64,\n",
    "    \"mlp_activation\": \"tanh\",\n",
    "    \"mlp_dim\": 256,\n",
    "    \"mlp_layers\": 1,\n",
    "    \"num_classes\": 2,\n",
    "    \"optimizer\": \"adam\",\n",
    "    \"output_layer\": \"mean_squared_error\"\n",
    "}"
   ]
  },
  {
   "cell_type": "code",
   "execution_count": 53,
   "metadata": {},
   "outputs": [
    {
     "name": "stdout",
     "output_type": "stream",
     "text": [
      "2020-03-06 22:14:22 Starting - Starting the training job...\n",
      "2020-03-06 22:14:24 Starting - Launching requested ML instances...\n",
      "2020-03-06 22:15:18 Starting - Preparing the instances for training......\n",
      "2020-03-06 22:16:25 Downloading - Downloading input data\n",
      "2020-03-06 22:16:25 Training - Downloading the training image.........\n",
      "2020-03-06 22:17:51 Training - Training image download completed. Training in progress.\u001b[34mDocker entrypoint called with argument(s): train\u001b[0m\n",
      "\u001b[34mRunning default environment configuration script\u001b[0m\n",
      "\u001b[34m[03/06/2020 22:17:54 INFO 139663432750912] Reading default configuration from /opt/amazon/lib/python2.7/site-packages/algorithm/default-input.json: {u'comparator_list': u'hadamard, concat, abs_diff', u'enc0_vocab_file': u'', u'output_layer': u'softmax', u'enc0_cnn_filter_width': 3, u'epochs': 30, u'mlp_dim': 512, u'enc0_freeze_pretrained_embedding': u'true', u'mlp_layers': 2, u'_num_kv_servers': u'auto', u'weight_decay': 0, u'enc0_pretrained_embedding_file': u'', u'token_embedding_storage_type': u'dense', u'enc0_token_embedding_dim': 300, u'tied_token_embedding_weight': u'false', u'learning_rate': 0.0004, u'enc1_cnn_filter_width': 3, u'negative_sampling_rate': 0, u'enc0_network': u'hcnn', u'enc1_layers': u'auto', u'early_stopping_patience': 3, u'optimizer': u'adam', u'_tuning_objective_metric': u'', u'early_stopping_tolerance': 0.01, u'dropout': 0, u'bucket_width': 0, u'enc_dim': 4096, u'enc1_vocab_file': u'', u'enc1_freeze_pretrained_embedding': u'true', u'enc0_layers': u'auto', u'mini_batch_size': 32, u'enc1_pretrained_embedding_file': u'', u'num_classes': 2, u'_num_gpus': u'auto', u'enc1_token_embedding_dim': 300, u'mlp_activation': u'linear', u'enc1_network': u'enc0', u'_kvstore': u'auto_gpu'}\u001b[0m\n",
      "\u001b[34m[03/06/2020 22:17:54 INFO 139663432750912] Reading provided configuration from /opt/ml/input/config/hyperparameters.json: {u'output_layer': u'mean_squared_error', u'enc0_cnn_filter_width': u'3', u'epochs': u'20', u'mlp_dim': u'256', u'mlp_layers': u'1', u'_num_kv_servers': u'auto', u'mini_batch_size': u'64', u'enc0_token_embedding_dim': u'300', u'enc1_network': u'pooled_embedding', u'enc0_network': u'pooled_embedding', u'enc1_layers': u'auto', u'early_stopping_patience': u'3', u'optimizer': u'adam', u'enc1_max_seq_len': u'1', u'early_stopping_tolerance': u'0.01', u'learning_rate': u'0.001', u'bucket_width': u'0', u'enc_dim': u'1024', u'enc0_layers': u'auto', u'enc0_max_seq_len': u'1', u'num_classes': u'2', u'_num_gpus': u'auto', u'mlp_activation': u'tanh', u'enc1_token_embedding_dim': u'300', u'_kvstore': u'device', u'enc1_vocab_size': u'1684', u'enc0_vocab_size': u'944'}\u001b[0m\n",
      "\u001b[34m[03/06/2020 22:17:54 INFO 139663432750912] Final configuration: {u'comparator_list': u'hadamard, concat, abs_diff', u'enc0_vocab_file': u'', u'output_layer': u'mean_squared_error', u'enc0_cnn_filter_width': u'3', u'epochs': u'20', u'mlp_dim': u'256', u'enc0_freeze_pretrained_embedding': u'true', u'mlp_layers': u'1', u'_num_kv_servers': u'auto', u'weight_decay': 0, u'enc0_pretrained_embedding_file': u'', u'enc0_max_seq_len': u'1', u'token_embedding_storage_type': u'dense', u'enc0_token_embedding_dim': u'300', u'tied_token_embedding_weight': u'false', u'learning_rate': u'0.001', u'enc1_cnn_filter_width': 3, u'negative_sampling_rate': 0, u'enc0_network': u'pooled_embedding', u'enc1_layers': u'auto', u'early_stopping_patience': u'3', u'optimizer': u'adam', u'enc1_max_seq_len': u'1', u'_tuning_objective_metric': u'', u'early_stopping_tolerance': u'0.01', u'dropout': 0, u'bucket_width': u'0', u'enc_dim': u'1024', u'enc1_vocab_file': u'', u'enc1_freeze_pretrained_embedding': u'true', u'enc0_layers': u'auto', u'mini_batch_size': u'64', u'enc1_pretrained_embedding_file': u'', u'num_classes': u'2', u'_num_gpus': u'auto', u'enc1_token_embedding_dim': u'300', u'mlp_activation': u'tanh', u'enc1_network': u'pooled_embedding', u'_kvstore': u'device', u'enc1_vocab_size': u'1684', u'enc0_vocab_size': u'944'}\u001b[0m\n",
      "\u001b[34mProcess 1 is a worker.\u001b[0m\n",
      "\u001b[34m[03/06/2020 22:17:54 INFO 139663432750912] Using default worker.\u001b[0m\n",
      "\u001b[34m[03/06/2020 22:17:54 INFO 139663432750912] Loaded iterator creator application/jsonlines for content type ('application/jsonlines', '1.0')\u001b[0m\n",
      "\u001b[34m[03/06/2020 22:17:54 INFO 139663432750912] create_iter params {u'comparator_list': u'hadamard, concat, abs_diff', u'enc0_vocab_file': u'', u'output_layer': u'mean_squared_error', u'enc0_cnn_filter_width': u'3', u'epochs': u'20', u'mlp_dim': u'256', u'enc0_freeze_pretrained_embedding': u'true', u'mlp_layers': u'1', u'_num_kv_servers': u'auto', u'weight_decay': 0, u'enc0_pretrained_embedding_file': u'', u'enc0_max_seq_len': u'1', u'token_embedding_storage_type': u'dense', u'enc0_token_embedding_dim': u'300', u'tied_token_embedding_weight': u'false', u'learning_rate': u'0.001', u'enc1_cnn_filter_width': 3, u'negative_sampling_rate': 0, u'enc0_network': u'pooled_embedding', u'enc1_layers': u'auto', u'early_stopping_patience': u'3', u'optimizer': u'adam', u'enc1_max_seq_len': u'1', u'_tuning_objective_metric': u'', u'early_stopping_tolerance': u'0.01', u'dropout': 0, u'bucket_width': u'0', u'enc_dim': u'1024', u'enc1_vocab_file': u'', u'enc1_freeze_pretrained_embedding': u'true', u'enc0_layers': u'auto', u'mini_batch_size': u'64', u'enc1_pretrained_embedding_file': u'', u'num_classes': u'2', u'_num_gpus': u'auto', u'enc1_token_embedding_dim': u'300', u'mlp_activation': u'tanh', u'enc1_network': u'pooled_embedding', u'_kvstore': u'device', u'enc1_vocab_size': u'1684', u'enc0_vocab_size': u'944'}\u001b[0m\n",
      "\u001b[34m[03/06/2020 22:17:54 INFO 139663432750912] create_iter content_params {}\u001b[0m\n",
      "\u001b[34m[03/06/2020 22:17:54 INFO 139663432750912] Parameters of encoders: [{u'layers': u'auto', u'vocab_size': u'944', u'network': u'pooled_embedding', u'vocab_file': u'', u'cnn_filter_width': u'3', u'token_embedding_dim': u'300', u'max_seq_len': u'1', u'freeze_pretrained_embedding': u'true', u'pretrained_embedding_file': u''}, {u'layers': u'auto', u'vocab_size': u'1684', u'network': u'pooled_embedding', u'vocab_file': u'', u'cnn_filter_width': 3, u'token_embedding_dim': u'300', u'max_seq_len': u'1', u'freeze_pretrained_embedding': u'true', u'pretrained_embedding_file': u''}]\u001b[0m\n",
      "\u001b[34m[03/06/2020 22:17:54 INFO 139663432750912] output_layer is set to mean_squared_error. Ignoring the hyperparameter 'num_classes'.\u001b[0m\n",
      "\u001b[34m[03/06/2020 22:17:54 INFO 139663432750912] Inconsistent enc_dim and token_embedding_dim found for token-embedding-encoder: 1024 vs 300. Setting token embedding dim to be 1024\u001b[0m\n",
      "\u001b[34m[03/06/2020 22:17:54 INFO 139663432750912] Inconsistent enc_dim and token_embedding_dim found for token-embedding-encoder: 1024 vs 300. Setting token embedding dim to be 1024\u001b[0m\n",
      "\u001b[34m[03/06/2020 22:17:54 INFO 139663432750912] Encoder configs: [{'vocab_size': 944, 'enc_index': 0, 'pretrained_embedding_file_path': None, 'vocab_dict': None, 'token_embedding_dim': 1024, 'vocab_file': '', 'freeze_pretrained_embedding': True, 'num_layers': 1, 'is_train': True, 'dropout': 0.0, 'pretrained_embedding_file': ''}, {'vocab_size': 1684, 'enc_index': 1, 'pretrained_embedding_file_path': None, 'vocab_dict': None, 'token_embedding_dim': 1024, 'vocab_file': '', 'freeze_pretrained_embedding': True, 'num_layers': 1, 'is_train': True, 'dropout': 0.0, 'pretrained_embedding_file': ''}]\u001b[0m\n",
      "\u001b[34m[03/06/2020 22:17:54 INFO 139663432750912] Config: {'comparator_list': ['hadamard', 'concat', 'abs_diff'], 'epochs': 20, 'mini_batch_size': 64, 'optimizer': 'adam', 'output_layer': 'mean_squared_error', 'token_embedding_storage_type': 'dense', 'mlp_dim': 256, 'early_stopping_tolerance': 0.01, 'dropout': 0.0, 'bucket_width': 0, 'enc_dim': 1024, 'negative_sampling_rate': 0, 'early_stopping_patience': 3, 'learning_rate': 0.001, 'max_seq_lens': [1, 1], 'tied_token_embedding_weight': False, 'enc_configs': [{'vocab_size': 944, 'enc_index': 0, 'pretrained_embedding_file_path': None, 'vocab_dict': None, 'token_embedding_dim': 1024, 'vocab_file': '', 'freeze_pretrained_embedding': True, 'num_layers': 1, 'is_train': True, 'dropout': 0.0, 'pretrained_embedding_file': ''}, {'vocab_size': 1684, 'enc_index': 1, 'pretrained_embedding_file_path': None, 'vocab_dict': None, 'token_embedding_dim': 1024, 'vocab_file': '', 'freeze_pretrained_embedding': True, 'num_layers': 1, 'is_train': True, 'dropout': 0.0, 'pretrained_embedding_file': ''}], 'mlp_layers': 1, 'weight_decay': 0.0, 'mlp_activation': 'tanh', 'num_classes': None}\u001b[0m\n",
      "\u001b[34m[03/06/2020 22:17:54 INFO 139663432750912] use bucketing: False\u001b[0m\n",
      "\u001b[34m[03/06/2020 22:17:54 INFO 139663432750912] Creating data iterator for /opt/ml/input/data/train\u001b[0m\n",
      "\u001b[34m[03/06/2020 22:17:57 INFO 139663432750912] Source words: 90570\u001b[0m\n",
      "\u001b[34m[03/06/2020 22:17:57 INFO 139663432750912] Target words: 90570\u001b[0m\n",
      "\u001b[34m[03/06/2020 22:17:57 INFO 139663432750912] Total: 90570 samples in 1 buckets\u001b[0m\n",
      "\u001b[34m[03/06/2020 22:17:57 INFO 139663432750912] Bucket of (1, 1) : 90570 samples in 1415 batches of 64, approx 64.0 words/batch\u001b[0m\n",
      "\u001b[34m[03/06/2020 22:17:57 INFO 139663432750912] 0 sentence pairs discarded\u001b[0m\n",
      "\u001b[34m[03/06/2020 22:17:57 INFO 139663432750912] fill up mode: replicate\u001b[0m\n",
      "\u001b[34m[03/06/2020 22:17:57 INFO 139663432750912] \u001b[0m\n",
      "\u001b[34m[03/06/2020 22:17:57 INFO 139663432750912] Negative sampling not used\u001b[0m\n",
      "\u001b[34m[03/06/2020 22:17:57 INFO 139663432750912] Replicating 54 random sentences from bucket (1, 1) to size it to multiple of 64\u001b[0m\n",
      "\u001b[34m[03/06/2020 22:17:57 INFO 139663432750912] Bucket batch sizes: [BucketBatchSize(batch_size=64, average_words_per_batch=64)]\u001b[0m\n",
      "\u001b[34m[03/06/2020 22:17:57 INFO 139663432750912] create_iter params {u'comparator_list': u'hadamard, concat, abs_diff', u'enc0_vocab_file': u'', u'output_layer': u'mean_squared_error', u'enc0_cnn_filter_width': u'3', u'epochs': u'20', u'mlp_dim': u'256', u'enc0_freeze_pretrained_embedding': u'true', u'mlp_layers': u'1', u'_num_kv_servers': u'auto', u'weight_decay': 0, u'enc0_pretrained_embedding_file': u'', u'enc0_max_seq_len': u'1', u'token_embedding_storage_type': u'dense', u'enc0_token_embedding_dim': u'300', u'tied_token_embedding_weight': u'false', u'learning_rate': u'0.001', u'enc1_cnn_filter_width': 3, u'negative_sampling_rate': 0, u'enc0_network': u'pooled_embedding', u'enc1_layers': u'auto', u'early_stopping_patience': u'3', u'optimizer': u'adam', u'enc1_max_seq_len': u'1', u'_tuning_objective_metric': u'', u'early_stopping_tolerance': u'0.01', u'dropout': 0, u'bucket_width': u'0', u'enc_dim': u'1024', u'enc1_vocab_file': u'', u'enc1_freeze_pretrained_embedding': u'true', u'enc0_layers': u'auto', u'mini_batch_size': u'64', u'enc1_pretrained_embedding_file': u'', u'num_classes': u'2', u'_num_gpus': u'auto', u'enc1_token_embedding_dim': u'300', u'mlp_activation': u'tanh', u'enc1_network': u'pooled_embedding', u'_kvstore': u'device', u'enc1_vocab_size': u'1684', u'enc0_vocab_size': u'944'}\u001b[0m\n",
      "\u001b[34m[03/06/2020 22:17:57 INFO 139663432750912] create_iter content_params {}\u001b[0m\n",
      "\u001b[34m[03/06/2020 22:17:57 INFO 139663432750912] Parameters of encoders: [{u'layers': u'auto', u'vocab_size': u'944', u'network': u'pooled_embedding', u'vocab_file': u'', u'cnn_filter_width': u'3', u'token_embedding_dim': u'300', u'max_seq_len': u'1', u'freeze_pretrained_embedding': u'true', u'pretrained_embedding_file': u''}, {u'layers': u'auto', u'vocab_size': u'1684', u'network': u'pooled_embedding', u'vocab_file': u'', u'cnn_filter_width': 3, u'token_embedding_dim': u'300', u'max_seq_len': u'1', u'freeze_pretrained_embedding': u'true', u'pretrained_embedding_file': u''}]\u001b[0m\n",
      "\u001b[34m[03/06/2020 22:17:57 INFO 139663432750912] output_layer is set to mean_squared_error. Ignoring the hyperparameter 'num_classes'.\u001b[0m\n",
      "\u001b[34m[03/06/2020 22:17:57 INFO 139663432750912] Inconsistent enc_dim and token_embedding_dim found for token-embedding-encoder: 1024 vs 300. Setting token embedding dim to be 1024\u001b[0m\n",
      "\u001b[34m[03/06/2020 22:17:57 INFO 139663432750912] Inconsistent enc_dim and token_embedding_dim found for token-embedding-encoder: 1024 vs 300. Setting token embedding dim to be 1024\u001b[0m\n",
      "\u001b[34m[03/06/2020 22:17:57 INFO 139663432750912] Encoder configs: [{'vocab_size': 944, 'enc_index': 0, 'pretrained_embedding_file_path': None, 'vocab_dict': None, 'token_embedding_dim': 1024, 'vocab_file': '', 'freeze_pretrained_embedding': True, 'num_layers': 1, 'is_train': True, 'dropout': 0.0, 'pretrained_embedding_file': ''}, {'vocab_size': 1684, 'enc_index': 1, 'pretrained_embedding_file_path': None, 'vocab_dict': None, 'token_embedding_dim': 1024, 'vocab_file': '', 'freeze_pretrained_embedding': True, 'num_layers': 1, 'is_train': True, 'dropout': 0.0, 'pretrained_embedding_file': ''}]\u001b[0m\n",
      "\u001b[34m[03/06/2020 22:17:57 INFO 139663432750912] Config: {'comparator_list': ['hadamard', 'concat', 'abs_diff'], 'epochs': 20, 'mini_batch_size': 64, 'optimizer': 'adam', 'output_layer': 'mean_squared_error', 'token_embedding_storage_type': 'dense', 'mlp_dim': 256, 'early_stopping_tolerance': 0.01, 'dropout': 0.0, 'bucket_width': 0, 'enc_dim': 1024, 'negative_sampling_rate': 0, 'early_stopping_patience': 3, 'learning_rate': 0.001, 'max_seq_lens': [1, 1], 'tied_token_embedding_weight': False, 'enc_configs': [{'vocab_size': 944, 'enc_index': 0, 'pretrained_embedding_file_path': None, 'vocab_dict': None, 'token_embedding_dim': 1024, 'vocab_file': '', 'freeze_pretrained_embedding': True, 'num_layers': 1, 'is_train': True, 'dropout': 0.0, 'pretrained_embedding_file': ''}, {'vocab_size': 1684, 'enc_index': 1, 'pretrained_embedding_file_path': None, 'vocab_dict': None, 'token_embedding_dim': 1024, 'vocab_file': '', 'freeze_pretrained_embedding': True, 'num_layers': 1, 'is_train': True, 'dropout': 0.0, 'pretrained_embedding_file': ''}], 'mlp_layers': 1, 'weight_decay': 0.0, 'mlp_activation': 'tanh', 'num_classes': None}\u001b[0m\n",
      "\u001b[34m[03/06/2020 22:17:57 INFO 139663432750912] use bucketing: False\u001b[0m\n",
      "\u001b[34m[03/06/2020 22:17:57 INFO 139663432750912] Creating data iterator for /opt/ml/input/data/validation\u001b[0m\n",
      "\u001b[34m[03/06/2020 22:17:57 INFO 139663432750912] Source words: 9430\u001b[0m\n",
      "\u001b[34m[03/06/2020 22:17:57 INFO 139663432750912] Target words: 9430\u001b[0m\n",
      "\u001b[34m[03/06/2020 22:17:57 INFO 139663432750912] Total: 9430 samples in 1 buckets\u001b[0m\n",
      "\u001b[34m[03/06/2020 22:17:57 INFO 139663432750912] Bucket of (1, 1) : 9430 samples in 147 batches of 64, approx 64.0 words/batch\u001b[0m\n",
      "\u001b[34m[03/06/2020 22:17:57 INFO 139663432750912] 0 sentence pairs discarded\u001b[0m\n",
      "\u001b[34m[03/06/2020 22:17:57 INFO 139663432750912] fill up mode: replicate\u001b[0m\n",
      "\u001b[34m[03/06/2020 22:17:57 INFO 139663432750912] \u001b[0m\n",
      "\u001b[34m[03/06/2020 22:17:57 INFO 139663432750912] Negative sampling not used\u001b[0m\n",
      "\u001b[34m[03/06/2020 22:17:57 INFO 139663432750912] Replicating 42 random sentences from bucket (1, 1) to size it to multiple of 64\u001b[0m\n",
      "\u001b[34m[03/06/2020 22:17:57 INFO 139663432750912] Parameters of encoders: [{u'layers': u'auto', u'vocab_size': u'944', u'network': u'pooled_embedding', u'vocab_file': u'', u'cnn_filter_width': u'3', u'token_embedding_dim': u'300', u'max_seq_len': u'1', u'freeze_pretrained_embedding': u'true', u'pretrained_embedding_file': u''}, {u'layers': u'auto', u'vocab_size': u'1684', u'network': u'pooled_embedding', u'vocab_file': u'', u'cnn_filter_width': 3, u'token_embedding_dim': u'300', u'max_seq_len': u'1', u'freeze_pretrained_embedding': u'true', u'pretrained_embedding_file': u''}]\u001b[0m\n",
      "\u001b[34m[03/06/2020 22:17:57 INFO 139663432750912] output_layer is set to mean_squared_error. Ignoring the hyperparameter 'num_classes'.\u001b[0m\n",
      "\u001b[34m[03/06/2020 22:17:57 INFO 139663432750912] Inconsistent enc_dim and token_embedding_dim found for token-embedding-encoder: 1024 vs 300. Setting token embedding dim to be 1024\u001b[0m\n",
      "\u001b[34m[03/06/2020 22:17:57 INFO 139663432750912] Inconsistent enc_dim and token_embedding_dim found for token-embedding-encoder: 1024 vs 300. Setting token embedding dim to be 1024\u001b[0m\n",
      "\u001b[34m[03/06/2020 22:17:57 INFO 139663432750912] Encoder configs: [{'vocab_size': 944, 'enc_index': 0, 'pretrained_embedding_file_path': None, 'vocab_dict': None, 'token_embedding_dim': 1024, 'vocab_file': '', 'freeze_pretrained_embedding': True, 'num_layers': 1, 'is_train': True, 'dropout': 0.0, 'pretrained_embedding_file': ''}, {'vocab_size': 1684, 'enc_index': 1, 'pretrained_embedding_file_path': None, 'vocab_dict': None, 'token_embedding_dim': 1024, 'vocab_file': '', 'freeze_pretrained_embedding': True, 'num_layers': 1, 'is_train': True, 'dropout': 0.0, 'pretrained_embedding_file': ''}]\u001b[0m\n",
      "\u001b[34m[03/06/2020 22:17:57 INFO 139663432750912] Config: {'comparator_list': ['hadamard', 'concat', 'abs_diff'], 'epochs': 20, 'mini_batch_size': 64, 'optimizer': 'adam', 'output_layer': 'mean_squared_error', 'token_embedding_storage_type': 'dense', 'mlp_dim': 256, 'early_stopping_tolerance': 0.01, 'dropout': 0.0, 'bucket_width': 0, 'enc_dim': 1024, 'negative_sampling_rate': 0, 'early_stopping_patience': 3, 'learning_rate': 0.001, 'max_seq_lens': [1, 1], 'tied_token_embedding_weight': False, 'enc_configs': [{'vocab_size': 944, 'enc_index': 0, 'pretrained_embedding_file_path': None, 'vocab_dict': None, 'token_embedding_dim': 1024, 'vocab_file': '', 'freeze_pretrained_embedding': True, 'num_layers': 1, 'is_train': True, 'dropout': 0.0, 'pretrained_embedding_file': ''}, {'vocab_size': 1684, 'enc_index': 1, 'pretrained_embedding_file_path': None, 'vocab_dict': None, 'token_embedding_dim': 1024, 'vocab_file': '', 'freeze_pretrained_embedding': True, 'num_layers': 1, 'is_train': True, 'dropout': 0.0, 'pretrained_embedding_file': ''}], 'mlp_layers': 1, 'weight_decay': 0.0, 'mlp_activation': 'tanh', 'num_classes': None}\u001b[0m\n",
      "\u001b[34m[03/06/2020 22:17:57 INFO 139663432750912] Creating new state\u001b[0m\n",
      "\u001b[34m[03/06/2020 22:17:57 INFO 139663432750912] params {u'comparator_list': u'hadamard, concat, abs_diff', u'enc0_vocab_file': u'', u'output_layer': u'mean_squared_error', u'enc0_cnn_filter_width': u'3', u'epochs': u'20', u'mlp_dim': u'256', u'enc0_freeze_pretrained_embedding': u'true', u'mlp_layers': u'1', u'_num_kv_servers': u'auto', u'weight_decay': 0, u'enc0_pretrained_embedding_file': u'', u'enc0_max_seq_len': u'1', u'token_embedding_storage_type': u'dense', u'enc0_token_embedding_dim': u'300', u'tied_token_embedding_weight': u'false', u'learning_rate': u'0.001', u'enc1_cnn_filter_width': 3, u'negative_sampling_rate': 0, u'enc0_network': u'pooled_embedding', u'enc1_layers': u'auto', u'early_stopping_patience': u'3', u'optimizer': u'adam', u'enc1_max_seq_len': u'1', u'_tuning_objective_metric': u'', u'early_stopping_tolerance': u'0.01', u'dropout': 0, u'bucket_width': u'0', u'enc_dim': u'1024', 'default_bucket_key': (1, 1), u'enc1_vocab_file': u'', u'enc1_freeze_pretrained_embedding': u'true', u'enc0_layers': u'auto', u'mini_batch_size': u'64', u'enc1_pretrained_embedding_file': u'', u'num_classes': u'2', u'_num_gpus': u'auto', u'enc1_token_embedding_dim': u'300', u'mlp_activation': u'tanh', u'enc1_network': u'pooled_embedding', u'_kvstore': u'device', u'enc1_vocab_size': u'1684', u'enc0_vocab_size': u'944'}\u001b[0m\n",
      "\u001b[34m[03/06/2020 22:17:57 INFO 139663432750912] default_bucket_key (1, 1)\u001b[0m\n",
      "\u001b[34m[03/06/2020 22:17:57 INFO 139663432750912] nvidia-smi took: 0.0502860546112 secs to identify 1 gpus\u001b[0m\n",
      "\u001b[34m[03/06/2020 22:17:57 INFO 139663432750912] Number of GPUs being used: 1\u001b[0m\n",
      "\u001b[34m[03/06/2020 22:17:57 INFO 139663432750912] context [gpu(0)]\u001b[0m\n",
      "\u001b[34m[03/06/2020 22:17:57 INFO 139663432750912] Create Store: device\u001b[0m\n",
      "\u001b[34m[03/06/2020 22:17:57 INFO 139663432750912] Number of GPUs being used: 1\u001b[0m\n",
      "\u001b[34m[03/06/2020 22:17:57 WARNING 139663432750912] dense token embedding is used in a multi-gpu setting...consider changing 'token_embedding_storage_type' to 'row_sparse'\u001b[0m\n",
      "\u001b[34m[03/06/2020 22:17:57 INFO 139663432750912] data_names: ['source', 'target']\u001b[0m\n",
      "\u001b[34m[03/06/2020 22:17:57 INFO 139663432750912] label_names: ['out_layer_label']\u001b[0m\n",
      "\u001b[34m________________________________________________________________________________________________________________________\u001b[0m\n",
      "\u001b[34mLayer (type)                                        Output Shape            Param #     Previous Layer                  \u001b[0m\n",
      "\u001b[34m========================================================================================================================\u001b[0m\n",
      "\u001b[34msource(null)                                        1                       0                                           \u001b[0m\n",
      "\u001b[34m________________________________________________________________________________________________________________________\u001b[0m\n",
      "\u001b[34membed_0(Embedding)                                  1x1024                  0           source                          \u001b[0m\n",
      "\u001b[34m________________________________________________________________________________________________________________________\u001b[0m\n",
      "\u001b[34m_not_equal_scalar0(_not_equal_scalar)               1                       0           source                          \u001b[0m\n",
      "\u001b[34m________________________________________________________________________________________________________________________\u001b[0m\n",
      "\u001b[34mreshape0(Reshape)                                   1x1                     0           _not_equal_scalar0              \u001b[0m\n",
      "\u001b[34m________________________________________________________________________________________________________________________\u001b[0m\n",
      "\u001b[34mbroadcast_mul0(broadcast_mul)                       1x1024                  0           embed_0                         \n",
      "                                                                                        reshape0                        \u001b[0m\n",
      "\u001b[34m________________________________________________________________________________________________________________________\u001b[0m\n",
      "\u001b[34msum0(sum)                                           1024                    0           broadcast_mul0                  \u001b[0m\n",
      "\u001b[34m________________________________________________________________________________________________________________________\u001b[0m\n",
      "\u001b[34msum1(sum)                                           1                       0           reshape0                        \u001b[0m\n",
      "\u001b[34m________________________________________________________________________________________________________________________\u001b[0m\n",
      "\u001b[34mzeros_like0(zeros_like)                             1                       0           sum1                            \u001b[0m\n",
      "\u001b[34m________________________________________________________________________________________________________________________\u001b[0m\n",
      "\u001b[34m_equal0(_equal)                                     1                       0           sum1                            \n",
      "                                                                                        zeros_like0                     \u001b[0m\n",
      "\u001b[34m________________________________________________________________________________________________________________________\u001b[0m\n",
      "\u001b[34m_plus0(elemwise_add)                                1                       0           sum1                            \n",
      "                                                                                        _equal0                         \u001b[0m\n",
      "\u001b[34m________________________________________________________________________________________________________________________\u001b[0m\n",
      "\u001b[34mbroadcast_div0(broadcast_div)                       1024                    0           sum0                            \n",
      "                                                                                        _plus0                          \u001b[0m\n",
      "\u001b[34m________________________________________________________________________________________________________________________\u001b[0m\n",
      "\u001b[34mdropout0(Dropout)                                   1024                    0           broadcast_div0                  \u001b[0m\n",
      "\u001b[34m________________________________________________________________________________________________________________________\u001b[0m\n",
      "\u001b[34membed_1(Embedding)                                  1x1024                  0                                           \u001b[0m\n",
      "\u001b[34m________________________________________________________________________________________________________________________\u001b[0m\n",
      "\u001b[34m_not_equal_scalar1(_not_equal_scalar)               1                       0                                           \u001b[0m\n",
      "\u001b[34m________________________________________________________________________________________________________________________\u001b[0m\n",
      "\u001b[34mreshape1(Reshape)                                   1x1                     0           _not_equal_scalar1              \u001b[0m\n",
      "\u001b[34m________________________________________________________________________________________________________________________\u001b[0m\n",
      "\u001b[34mbroadcast_mul1(broadcast_mul)                       1x1024                  0           embed_1                         \n",
      "                                                                                        reshape1                        \u001b[0m\n",
      "\u001b[34m________________________________________________________________________________________________________________________\u001b[0m\n",
      "\u001b[34msum2(sum)                                           1024                    0           broadcast_mul1                  \u001b[0m\n",
      "\u001b[34m________________________________________________________________________________________________________________________\u001b[0m\n",
      "\u001b[34msum3(sum)                                           1                       0           reshape1                        \u001b[0m\n",
      "\u001b[34m________________________________________________________________________________________________________________________\u001b[0m\n",
      "\u001b[34mzeros_like1(zeros_like)                             1                       0           sum3                            \u001b[0m\n",
      "\u001b[34m________________________________________________________________________________________________________________________\u001b[0m\n",
      "\u001b[34m_equal1(_equal)                                     1                       0           sum3                            \n",
      "                                                                                        zeros_like1                     \u001b[0m\n",
      "\u001b[34m________________________________________________________________________________________________________________________\u001b[0m\n",
      "\u001b[34m_plus1(elemwise_add)                                1                       0           sum3                            \n",
      "                                                                                        _equal1                         \u001b[0m\n",
      "\u001b[34m________________________________________________________________________________________________________________________\u001b[0m\n",
      "\u001b[34mbroadcast_div1(broadcast_div)                       1024                    0           sum2                            \n",
      "                                                                                        _plus1                          \u001b[0m\n",
      "\u001b[34m________________________________________________________________________________________________________________________\u001b[0m\n",
      "\u001b[34mdropout1(Dropout)                                   1024                    0           broadcast_div1                  \u001b[0m\n",
      "\u001b[34m________________________________________________________________________________________________________________________\u001b[0m\n",
      "\u001b[34m_mul0(elemwise_mul)                                 1024                    0           dropout0                        \n",
      "                                                                                        dropout1                        \u001b[0m\n",
      "\u001b[34m________________________________________________________________________________________________________________________\u001b[0m\n",
      "\u001b[34m_minus0(elemwise_sub)                               1024                    0           dropout0                        \n",
      "                                                                                        dropout1                        \u001b[0m\n",
      "\u001b[34m________________________________________________________________________________________________________________________\u001b[0m\n",
      "\u001b[34mabs0(abs)                                           1024                    0           _minus0                         \u001b[0m\n",
      "\u001b[34m________________________________________________________________________________________________________________________\u001b[0m\n",
      "\u001b[34mconcat0(Concat)                                     4096                    0           _mul0                           \n",
      "                                                                                        dropout0                        \n",
      "                                                                                        dropout1                        \n",
      "                                                                                        abs0                            \u001b[0m\n",
      "\u001b[34m________________________________________________________________________________________________________________________\u001b[0m\n",
      "\u001b[34mmlp_fc0(FullyConnected)                             256                     1048832     concat0                         \u001b[0m\n",
      "\u001b[34m________________________________________________________________________________________________________________________\u001b[0m\n",
      "\u001b[34mactivation0(Activation)                             256                     0           mlp_fc0                         \u001b[0m\n",
      "\u001b[34m________________________________________________________________________________________________________________________\u001b[0m\n",
      "\u001b[34mdropout2(Dropout)                                   256                     0           activation0                     \u001b[0m\n",
      "\u001b[34m________________________________________________________________________________________________________________________\u001b[0m\n",
      "\u001b[34moutput_layer(FullyConnected)                        1                       257         dropout2                        \u001b[0m\n",
      "\u001b[34m________________________________________________________________________________________________________________________\u001b[0m\n",
      "\u001b[34mout_layer(LinearRegressionOutput)                   1                       0           output_layer                    \u001b[0m\n",
      "\u001b[34m========================================================================================================================\u001b[0m\n",
      "\u001b[34mTotal params: 1049089\u001b[0m\n",
      "\u001b[34m________________________________________________________________________________________________________________________\u001b[0m\n",
      "\u001b[34m[03/06/2020 22:17:57 INFO 139663432750912] data_shapes [DataDesc[source,(64, 1),<type 'numpy.float32'>,NTC], DataDesc[target,(64, 1),<type 'numpy.float32'>,NTC]]\u001b[0m\n",
      "\u001b[34m[03/06/2020 22:17:57 INFO 139663432750912] label_shapes [DataDesc[out_layer_label,(64,),<type 'numpy.float32'>,NTC]]\u001b[0m\n",
      "\u001b[34m[03/06/2020 22:17:57 INFO 139663432750912] fixed_param_names: []\u001b[0m\n",
      "\u001b[34m[03/06/2020 22:17:57 INFO 139663432750912] Initialized BucketingPlus Module\u001b[0m\n",
      "\u001b[34m[03/06/2020 22:18:01 INFO 139663432750912] arg_params keys for module initialization: []\u001b[0m\n",
      "\u001b[34m[03/06/2020 22:18:01 INFO 139663432750912] all params:['output_layer_weight', 'mlp_fc0_weight', 'mlp_fc0_bias', 'output_layer_bias', 'embed_1_weight', 'embed_0_weight']\u001b[0m\n",
      "\u001b[34m#metrics {\"Metrics\": {\"initialize.time\": {\"count\": 1, \"max\": 3700.263023376465, \"sum\": 3700.263023376465, \"min\": 3700.263023376465}}, \"EndTime\": 1583533081.506512, \"Dimensions\": {\"Host\": \"algo-1\", \"Operation\": \"training\", \"Algorithm\": \"ObjectToVec\"}, \"StartTime\": 1583533074.908959}\n",
      "\u001b[0m\n",
      "\u001b[34m#metrics {\"Metrics\": {\"Max Batches Seen Between Resets\": {\"count\": 1, \"max\": 0, \"sum\": 0.0, \"min\": 0}, \"Number of Batches Since Last Reset\": {\"count\": 1, \"max\": 0, \"sum\": 0.0, \"min\": 0}, \"Number of Records Since Last Reset\": {\"count\": 1, \"max\": 0, \"sum\": 0.0, \"min\": 0}, \"Total Batches Seen\": {\"count\": 1, \"max\": 0, \"sum\": 0.0, \"min\": 0}, \"Total Records Seen\": {\"count\": 1, \"max\": 0, \"sum\": 0.0, \"min\": 0}, \"Max Records Seen Between Resets\": {\"count\": 1, \"max\": 0, \"sum\": 0.0, \"min\": 0}, \"Reset Count\": {\"count\": 1, \"max\": 0, \"sum\": 0.0, \"min\": 0}}, \"EndTime\": 1583533081.506685, \"Dimensions\": {\"Host\": \"algo-1\", \"Meta\": \"init_train_data_iter\", \"Operation\": \"training\", \"Algorithm\": \"ObjectToVec\"}, \"StartTime\": 1583533081.506628}\n",
      "\u001b[0m\n",
      "\u001b[34m[03/06/2020 22:18:01 INFO 139663432750912] Epoch: 0, batches: 100, num_examples: 6400, 14969.6 samples/sec, epoch time so far: 0:00:00.427532\u001b[0m\n",
      "\u001b[34m[03/06/2020 22:18:01 INFO 139663432750912] #011Training metrics: mean_squared_error: 1.662 mean_absolute_error: 1.005 \u001b[0m\n",
      "\u001b[34m[03/06/2020 22:18:02 INFO 139663432750912] Epoch: 0, batches: 200, num_examples: 12800, 15679.6 samples/sec, epoch time so far: 0:00:00.816346\u001b[0m\n",
      "\u001b[34m[03/06/2020 22:18:02 INFO 139663432750912] #011Training metrics: mean_squared_error: 1.389 mean_absolute_error: 0.925 \u001b[0m\n",
      "\u001b[34m[03/06/2020 22:18:02 INFO 139663432750912] Epoch: 0, batches: 300, num_examples: 19200, 15945.8 samples/sec, epoch time so far: 0:00:01.204079\u001b[0m\n",
      "\u001b[34m[03/06/2020 22:18:02 INFO 139663432750912] #011Training metrics: mean_squared_error: 1.268 mean_absolute_error: 0.887 \u001b[0m\n",
      "\u001b[34m[03/06/2020 22:18:03 INFO 139663432750912] Epoch: 0, batches: 400, num_examples: 25600, 16042.1 samples/sec, epoch time so far: 0:00:01.595804\u001b[0m\n",
      "\u001b[34m[03/06/2020 22:18:03 INFO 139663432750912] #011Training metrics: mean_squared_error: 1.206 mean_absolute_error: 0.866 \u001b[0m\n",
      "\u001b[34m[03/06/2020 22:18:03 INFO 139663432750912] Epoch: 0, batches: 500, num_examples: 32000, 16131.1 samples/sec, epoch time so far: 0:00:01.983748\u001b[0m\n",
      "\u001b[34m[03/06/2020 22:18:03 INFO 139663432750912] #011Training metrics: mean_squared_error: 1.167 mean_absolute_error: 0.852 \u001b[0m\n",
      "\u001b[34m[03/06/2020 22:18:03 INFO 139663432750912] Epoch: 0, batches: 600, num_examples: 38400, 16189.3 samples/sec, epoch time so far: 0:00:02.371939\u001b[0m\n",
      "\u001b[34m[03/06/2020 22:18:03 INFO 139663432750912] #011Training metrics: mean_squared_error: 1.140 mean_absolute_error: 0.843 \u001b[0m\n",
      "\u001b[34m[03/06/2020 22:18:04 INFO 139663432750912] Epoch: 0, batches: 700, num_examples: 44800, 16232.2 samples/sec, epoch time so far: 0:00:02.759941\u001b[0m\n",
      "\u001b[34m[03/06/2020 22:18:04 INFO 139663432750912] #011Training metrics: mean_squared_error: 1.116 mean_absolute_error: 0.835 \u001b[0m\n",
      "\u001b[34m[03/06/2020 22:18:04 INFO 139663432750912] Epoch: 0, batches: 800, num_examples: 51200, 16263.4 samples/sec, epoch time so far: 0:00:03.148174\u001b[0m\n",
      "\u001b[34m[03/06/2020 22:18:04 INFO 139663432750912] #011Training metrics: mean_squared_error: 1.096 mean_absolute_error: 0.828 \u001b[0m\n",
      "\u001b[34m[03/06/2020 22:18:05 INFO 139663432750912] Epoch: 0, batches: 900, num_examples: 57600, 16272.1 samples/sec, epoch time so far: 0:00:03.539801\u001b[0m\n",
      "\u001b[34m[03/06/2020 22:18:05 INFO 139663432750912] #011Training metrics: mean_squared_error: 1.076 mean_absolute_error: 0.820 \u001b[0m\n",
      "\u001b[34m[03/06/2020 22:18:05 INFO 139663432750912] Epoch: 0, batches: 1000, num_examples: 64000, 16295.9 samples/sec, epoch time so far: 0:00:03.927359\u001b[0m\n",
      "\u001b[34m[03/06/2020 22:18:05 INFO 139663432750912] #011Training metrics: mean_squared_error: 1.061 mean_absolute_error: 0.814 \u001b[0m\n",
      "\u001b[34m[03/06/2020 22:18:05 INFO 139663432750912] Epoch: 0, batches: 1100, num_examples: 70400, 16306.2 samples/sec, epoch time so far: 0:00:04.317379\u001b[0m\n",
      "\u001b[34m[03/06/2020 22:18:05 INFO 139663432750912] #011Training metrics: mean_squared_error: 1.049 mean_absolute_error: 0.810 \u001b[0m\n",
      "\u001b[34m[03/06/2020 22:18:06 INFO 139663432750912] Epoch: 0, batches: 1200, num_examples: 76800, 16315.0 samples/sec, epoch time so far: 0:00:04.707323\u001b[0m\n",
      "\u001b[34m[03/06/2020 22:18:06 INFO 139663432750912] #011Training metrics: mean_squared_error: 1.038 mean_absolute_error: 0.806 \u001b[0m\n",
      "\u001b[34m[03/06/2020 22:18:06 INFO 139663432750912] Epoch: 0, batches: 1300, num_examples: 83200, 16330.2 samples/sec, epoch time so far: 0:00:05.094864\u001b[0m\n",
      "\u001b[34m[03/06/2020 22:18:06 INFO 139663432750912] #011Training metrics: mean_squared_error: 1.028 mean_absolute_error: 0.802 \u001b[0m\n",
      "\u001b[34m[03/06/2020 22:18:07 INFO 139663432750912] Epoch: 0, batches: 1400, num_examples: 89600, 16264.0 samples/sec, epoch time so far: 0:00:05.509100\u001b[0m\n",
      "\u001b[34m[03/06/2020 22:18:07 INFO 139663432750912] #011Training metrics: mean_squared_error: 1.022 mean_absolute_error: 0.800 \u001b[0m\n",
      "\u001b[34m[03/06/2020 22:18:07 INFO 139663432750912] **************\u001b[0m\n",
      "\u001b[34m[03/06/2020 22:18:07 INFO 139663432750912] Completed Epoch: 0, time taken: 0:00:05.571222\u001b[0m\n",
      "\u001b[34m[03/06/2020 22:18:07 INFO 139663432750912] Epoch 0 Training metrics:   mean_squared_error: 1.020 mean_absolute_error: 0.799 \u001b[0m\n",
      "\u001b[34m[03/06/2020 22:18:07 INFO 139663432750912] #quality_metric: host=algo-1, epoch=0, train mean_squared_error <loss>=1.01989993348\u001b[0m\n",
      "\u001b[34m[03/06/2020 22:18:07 INFO 139663432750912] Epoch 0 Validation metrics: mean_squared_error: 0.972 mean_absolute_error: 0.773 \u001b[0m\n",
      "\u001b[34m[03/06/2020 22:18:07 INFO 139663432750912] #quality_metric: host=algo-1, epoch=0, validation mean_squared_error <loss>=0.972147863459\u001b[0m\n",
      "\u001b[34m[03/06/2020 22:18:07 INFO 139663432750912] **************\u001b[0m\n",
      "\u001b[34m#metrics {\"Metrics\": {\"epochs\": {\"count\": 1, \"max\": 20, \"sum\": 20.0, \"min\": 20}, \"early_stop.time\": {\"count\": 1, \"max\": 0.2968311309814453, \"sum\": 0.2968311309814453, \"min\": 0.2968311309814453}, \"update.time\": {\"count\": 1, \"max\": 5756.451845169067, \"sum\": 5756.451845169067, \"min\": 5756.451845169067}}, \"EndTime\": 1583533087.319072, \"Dimensions\": {\"Host\": \"algo-1\", \"Operation\": \"training\", \"Algorithm\": \"ObjectToVec\"}, \"StartTime\": 1583533081.506584}\n",
      "\u001b[0m\n",
      "\u001b[34m[03/06/2020 22:18:07 INFO 139663432750912] #progress_metric: host=algo-1, completed 5 % of epochs\u001b[0m\n",
      "\u001b[34m#metrics {\"Metrics\": {\"Max Batches Seen Between Resets\": {\"count\": 1, \"max\": 1416, \"sum\": 1416.0, \"min\": 1416}, \"Number of Batches Since Last Reset\": {\"count\": 1, \"max\": 1416, \"sum\": 1416.0, \"min\": 1416}, \"Number of Records Since Last Reset\": {\"count\": 1, \"max\": 90624, \"sum\": 90624.0, \"min\": 90624}, \"Total Batches Seen\": {\"count\": 1, \"max\": 1416, \"sum\": 1416.0, \"min\": 1416}, \"Total Records Seen\": {\"count\": 1, \"max\": 90624, \"sum\": 90624.0, \"min\": 90624}, \"Max Records Seen Between Resets\": {\"count\": 1, \"max\": 90624, \"sum\": 90624.0, \"min\": 90624}, \"Reset Count\": {\"count\": 1, \"max\": 1, \"sum\": 1.0, \"min\": 1}}, \"EndTime\": 1583533087.319336, \"Dimensions\": {\"Host\": \"algo-1\", \"Meta\": \"training_data_iter\", \"Operation\": \"training\", \"Algorithm\": \"ObjectToVec\", \"epoch\": 0}, \"StartTime\": 1583533081.562603}\n",
      "\u001b[0m\n",
      "\u001b[34m[03/06/2020 22:18:07 INFO 139663432750912] #throughput_metric: host=algo-1, train throughput=15741.8678747 records/second\u001b[0m\n",
      "\u001b[34m[03/06/2020 22:18:07 INFO 139663432750912] Epoch: 1, batches: 100, num_examples: 6400, 16569.0 samples/sec, epoch time so far: 0:00:00.386263\u001b[0m\n",
      "\u001b[34m[03/06/2020 22:18:07 INFO 139663432750912] #011Training metrics: mean_squared_error: 0.728 mean_absolute_error: 0.674 \u001b[0m\n",
      "\u001b[34m[03/06/2020 22:18:08 INFO 139663432750912] Epoch: 1, batches: 200, num_examples: 12800, 16493.7 samples/sec, epoch time so far: 0:00:00.776055\u001b[0m\n",
      "\u001b[34m[03/06/2020 22:18:08 INFO 139663432750912] #011Training metrics: mean_squared_error: 0.721 mean_absolute_error: 0.669 \u001b[0m\n",
      "\u001b[34m[03/06/2020 22:18:08 INFO 139663432750912] Epoch: 1, batches: 300, num_examples: 19200, 16488.2 samples/sec, epoch time so far: 0:00:01.164469\u001b[0m\n",
      "\u001b[34m[03/06/2020 22:18:08 INFO 139663432750912] #011Training metrics: mean_squared_error: 0.718 mean_absolute_error: 0.667 \u001b[0m\n",
      "\u001b[34m[03/06/2020 22:18:08 INFO 139663432750912] Epoch: 1, batches: 400, num_examples: 25600, 16481.0 samples/sec, epoch time so far: 0:00:01.553306\u001b[0m\n",
      "\u001b[34m[03/06/2020 22:18:08 INFO 139663432750912] #011Training metrics: mean_squared_error: 0.709 mean_absolute_error: 0.662 \u001b[0m\n",
      "\u001b[34m[03/06/2020 22:18:09 INFO 139663432750912] Epoch: 1, batches: 500, num_examples: 32000, 16080.0 samples/sec, epoch time so far: 0:00:01.990046\u001b[0m\n",
      "\u001b[34m[03/06/2020 22:18:09 INFO 139663432750912] #011Training metrics: mean_squared_error: 0.705 mean_absolute_error: 0.660 \u001b[0m\n",
      "\u001b[34m[03/06/2020 22:18:09 INFO 139663432750912] Epoch: 1, batches: 600, num_examples: 38400, 15974.1 samples/sec, epoch time so far: 0:00:02.403897\u001b[0m\n",
      "\u001b[34m[03/06/2020 22:18:09 INFO 139663432750912] #011Training metrics: mean_squared_error: 0.694 mean_absolute_error: 0.654 \u001b[0m\n",
      "\u001b[34m[03/06/2020 22:18:10 INFO 139663432750912] Epoch: 1, batches: 700, num_examples: 44800, 15934.6 samples/sec, epoch time so far: 0:00:02.811488\u001b[0m\n",
      "\u001b[34m[03/06/2020 22:18:10 INFO 139663432750912] #011Training metrics: mean_squared_error: 0.686 mean_absolute_error: 0.650 \u001b[0m\n",
      "\u001b[34m[03/06/2020 22:18:10 INFO 139663432750912] Epoch: 1, batches: 800, num_examples: 51200, 15959.2 samples/sec, epoch time so far: 0:00:03.208186\u001b[0m\n",
      "\u001b[34m[03/06/2020 22:18:10 INFO 139663432750912] #011Training metrics: mean_squared_error: 0.681 mean_absolute_error: 0.647 \u001b[0m\n",
      "\u001b[34m[03/06/2020 22:18:10 INFO 139663432750912] Epoch: 1, batches: 900, num_examples: 57600, 15807.0 samples/sec, epoch time so far: 0:00:03.643944\u001b[0m\n",
      "\u001b[34m[03/06/2020 22:18:10 INFO 139663432750912] #011Training metrics: mean_squared_error: 0.678 mean_absolute_error: 0.646 \u001b[0m\n",
      "\u001b[34m[03/06/2020 22:18:11 INFO 139663432750912] Epoch: 1, batches: 1000, num_examples: 64000, 15869.2 samples/sec, epoch time so far: 0:00:04.032960\u001b[0m\n",
      "\u001b[34m[03/06/2020 22:18:11 INFO 139663432750912] #011Training metrics: mean_squared_error: 0.675 mean_absolute_error: 0.645 \u001b[0m\n",
      "\u001b[34m[03/06/2020 22:18:11 INFO 139663432750912] Epoch: 1, batches: 1100, num_examples: 70400, 15892.6 samples/sec, epoch time so far: 0:00:04.429721\u001b[0m\n",
      "\u001b[34m[03/06/2020 22:18:11 INFO 139663432750912] #011Training metrics: mean_squared_error: 0.670 mean_absolute_error: 0.643 \u001b[0m\n",
      "\u001b[34m[03/06/2020 22:18:12 INFO 139663432750912] Epoch: 1, batches: 1200, num_examples: 76800, 15887.6 samples/sec, epoch time so far: 0:00:04.833970\u001b[0m\n",
      "\u001b[34m[03/06/2020 22:18:12 INFO 139663432750912] #011Training metrics: mean_squared_error: 0.669 mean_absolute_error: 0.643 \u001b[0m\n",
      "\u001b[34m[03/06/2020 22:18:12 INFO 139663432750912] Epoch: 1, batches: 1300, num_examples: 83200, 15932.7 samples/sec, epoch time so far: 0:00:05.221970\u001b[0m\n",
      "\u001b[34m[03/06/2020 22:18:12 INFO 139663432750912] #011Training metrics: mean_squared_error: 0.665 mean_absolute_error: 0.641 \u001b[0m\n",
      "\u001b[34m[03/06/2020 22:18:12 INFO 139663432750912] Epoch: 1, batches: 1400, num_examples: 89600, 15970.6 samples/sec, epoch time so far: 0:00:05.610292\u001b[0m\n",
      "\u001b[34m[03/06/2020 22:18:12 INFO 139663432750912] #011Training metrics: mean_squared_error: 0.663 mean_absolute_error: 0.640 \u001b[0m\n",
      "\u001b[34m[03/06/2020 22:18:13 INFO 139663432750912] **************\u001b[0m\n",
      "\u001b[34m[03/06/2020 22:18:13 INFO 139663432750912] Completed Epoch: 1, time taken: 0:00:05.673681\u001b[0m\n",
      "\u001b[34m[03/06/2020 22:18:13 INFO 139663432750912] Epoch 1 Training metrics:   mean_squared_error: 0.663 mean_absolute_error: 0.640 \u001b[0m\n",
      "\u001b[34m[03/06/2020 22:18:13 INFO 139663432750912] #quality_metric: host=algo-1, epoch=1, train mean_squared_error <loss>=0.662664205509\u001b[0m\n",
      "\u001b[34m[03/06/2020 22:18:13 INFO 139663432750912] Epoch 1 Validation metrics: mean_squared_error: 0.982 mean_absolute_error: 0.781 \u001b[0m\n",
      "\u001b[34m[03/06/2020 22:18:13 INFO 139663432750912] #quality_metric: host=algo-1, epoch=1, validation mean_squared_error <loss>=0.98197626987\u001b[0m\n",
      "\u001b[34m[03/06/2020 22:18:13 INFO 139663432750912] **************\u001b[0m\n",
      "\u001b[34m#metrics {\"Metrics\": {\"early_stop.time\": {\"count\": 1, \"max\": 0.02288818359375, \"sum\": 0.02288818359375, \"min\": 0.02288818359375}, \"update.time\": {\"count\": 1, \"max\": 5855.223178863525, \"sum\": 5855.223178863525, \"min\": 5855.223178863525}}, \"EndTime\": 1583533093.199912, \"Dimensions\": {\"Host\": \"algo-1\", \"Operation\": \"training\", \"Algorithm\": \"ObjectToVec\"}, \"StartTime\": 1583533087.319147}\n",
      "\u001b[0m\n",
      "\u001b[34m[03/06/2020 22:18:13 INFO 139663432750912] #progress_metric: host=algo-1, completed 10 % of epochs\u001b[0m\n",
      "\u001b[34m#metrics {\"Metrics\": {\"Max Batches Seen Between Resets\": {\"count\": 1, \"max\": 1416, \"sum\": 1416.0, \"min\": 1416}, \"Number of Batches Since Last Reset\": {\"count\": 1, \"max\": 1416, \"sum\": 1416.0, \"min\": 1416}, \"Number of Records Since Last Reset\": {\"count\": 1, \"max\": 90624, \"sum\": 90624.0, \"min\": 90624}, \"Total Batches Seen\": {\"count\": 1, \"max\": 2832, \"sum\": 2832.0, \"min\": 2832}, \"Total Records Seen\": {\"count\": 1, \"max\": 181248, \"sum\": 181248.0, \"min\": 181248}, \"Max Records Seen Between Resets\": {\"count\": 1, \"max\": 90624, \"sum\": 90624.0, \"min\": 90624}, \"Reset Count\": {\"count\": 1, \"max\": 2, \"sum\": 2.0, \"min\": 2}}, \"EndTime\": 1583533093.200194, \"Dimensions\": {\"Host\": \"algo-1\", \"Meta\": \"training_data_iter\", \"Operation\": \"training\", \"Algorithm\": \"ObjectToVec\", \"epoch\": 1}, \"StartTime\": 1583533087.344663}\n",
      "\u001b[0m\n",
      "\u001b[34m[03/06/2020 22:18:13 INFO 139663432750912] #throughput_metric: host=algo-1, train throughput=15476.2927402 records/second\u001b[0m\n",
      "\u001b[34m[03/06/2020 22:18:13 INFO 139663432750912] Epoch: 2, batches: 100, num_examples: 6400, 16580.2 samples/sec, epoch time so far: 0:00:00.386002\u001b[0m\n",
      "\u001b[34m[03/06/2020 22:18:13 INFO 139663432750912] #011Training metrics: mean_squared_error: 0.273 mean_absolute_error: 0.399 \u001b[0m\n",
      "\u001b[34m[03/06/2020 22:18:13 INFO 139663432750912] Epoch: 2, batches: 200, num_examples: 12800, 16504.0 samples/sec, epoch time so far: 0:00:00.775571\u001b[0m\n",
      "\u001b[34m[03/06/2020 22:18:13 INFO 139663432750912] #011Training metrics: mean_squared_error: 0.271 mean_absolute_error: 0.397 \u001b[0m\n",
      "\u001b[34m[03/06/2020 22:18:14 INFO 139663432750912] Epoch: 2, batches: 300, num_examples: 19200, 16513.3 samples/sec, epoch time so far: 0:00:01.162698\u001b[0m\n",
      "\u001b[34m[03/06/2020 22:18:14 INFO 139663432750912] #011Training metrics: mean_squared_error: 0.268 mean_absolute_error: 0.394 \u001b[0m\n",
      "\u001b[34m[03/06/2020 22:18:14 INFO 139663432750912] Epoch: 2, batches: 400, num_examples: 25600, 16484.2 samples/sec, epoch time so far: 0:00:01.553002\u001b[0m\n",
      "\u001b[34m[03/06/2020 22:18:14 INFO 139663432750912] #011Training metrics: mean_squared_error: 0.267 mean_absolute_error: 0.394 \u001b[0m\n",
      "\u001b[34m[03/06/2020 22:18:15 INFO 139663432750912] Epoch: 2, batches: 500, num_examples: 32000, 16487.5 samples/sec, epoch time so far: 0:00:01.940868\u001b[0m\n",
      "\u001b[34m[03/06/2020 22:18:15 INFO 139663432750912] #011Training metrics: mean_squared_error: 0.266 mean_absolute_error: 0.394 \u001b[0m\n",
      "\u001b[34m[03/06/2020 22:18:15 INFO 139663432750912] Epoch: 2, batches: 600, num_examples: 38400, 16480.0 samples/sec, epoch time so far: 0:00:02.330097\u001b[0m\n",
      "\u001b[34m[03/06/2020 22:18:15 INFO 139663432750912] #011Training metrics: mean_squared_error: 0.265 mean_absolute_error: 0.393 \u001b[0m\n",
      "\u001b[34m[03/06/2020 22:18:15 INFO 139663432750912] Epoch: 2, batches: 700, num_examples: 44800, 16481.9 samples/sec, epoch time so far: 0:00:02.718131\u001b[0m\n",
      "\u001b[34m[03/06/2020 22:18:15 INFO 139663432750912] #011Training metrics: mean_squared_error: 0.265 mean_absolute_error: 0.393 \u001b[0m\n",
      "\u001b[34m[03/06/2020 22:18:16 INFO 139663432750912] Epoch: 2, batches: 800, num_examples: 51200, 16462.5 samples/sec, epoch time so far: 0:00:03.110097\u001b[0m\n",
      "\u001b[34m[03/06/2020 22:18:16 INFO 139663432750912] #011Training metrics: mean_squared_error: 0.266 mean_absolute_error: 0.394 \u001b[0m\n",
      "\u001b[34m[03/06/2020 22:18:16 INFO 139663432750912] Epoch: 2, batches: 900, num_examples: 57600, 16466.6 samples/sec, epoch time so far: 0:00:03.497990\u001b[0m\n",
      "\u001b[34m[03/06/2020 22:18:16 INFO 139663432750912] #011Training metrics: mean_squared_error: 0.268 mean_absolute_error: 0.396 \u001b[0m\n",
      "\u001b[34m[03/06/2020 22:18:17 INFO 139663432750912] Epoch: 2, batches: 1000, num_examples: 64000, 16416.0 samples/sec, epoch time so far: 0:00:03.898624\u001b[0m\n",
      "\u001b[34m[03/06/2020 22:18:17 INFO 139663432750912] #011Training metrics: mean_squared_error: 0.269 mean_absolute_error: 0.397 \u001b[0m\n",
      "\u001b[34m[03/06/2020 22:18:17 INFO 139663432750912] Epoch: 2, batches: 1100, num_examples: 70400, 16425.4 samples/sec, epoch time so far: 0:00:04.286037\u001b[0m\n",
      "\u001b[34m[03/06/2020 22:18:17 INFO 139663432750912] #011Training metrics: mean_squared_error: 0.269 mean_absolute_error: 0.397 \u001b[0m\n",
      "\u001b[34m[03/06/2020 22:18:17 INFO 139663432750912] Epoch: 2, batches: 1200, num_examples: 76800, 16431.2 samples/sec, epoch time so far: 0:00:04.674028\u001b[0m\n",
      "\u001b[34m[03/06/2020 22:18:17 INFO 139663432750912] #011Training metrics: mean_squared_error: 0.270 mean_absolute_error: 0.398 \u001b[0m\n",
      "\u001b[34m[03/06/2020 22:18:18 INFO 139663432750912] Epoch: 2, batches: 1300, num_examples: 83200, 16426.2 samples/sec, epoch time so far: 0:00:05.065071\u001b[0m\n",
      "\u001b[34m[03/06/2020 22:18:18 INFO 139663432750912] #011Training metrics: mean_squared_error: 0.272 mean_absolute_error: 0.400 \u001b[0m\n",
      "\u001b[34m[03/06/2020 22:18:18 INFO 139663432750912] Epoch: 2, batches: 1400, num_examples: 89600, 16434.0 samples/sec, epoch time so far: 0:00:05.452127\u001b[0m\n",
      "\u001b[34m[03/06/2020 22:18:18 INFO 139663432750912] #011Training metrics: mean_squared_error: 0.273 mean_absolute_error: 0.401 \u001b[0m\n",
      "\u001b[34m[03/06/2020 22:18:18 INFO 139663432750912] **************\u001b[0m\n",
      "\u001b[34m[03/06/2020 22:18:18 INFO 139663432750912] Completed Epoch: 2, time taken: 0:00:05.514234\u001b[0m\n",
      "\u001b[34m[03/06/2020 22:18:18 INFO 139663432750912] Epoch 2 Training metrics:   mean_squared_error: 0.274 mean_absolute_error: 0.401 \u001b[0m\n",
      "\u001b[34m[03/06/2020 22:18:18 INFO 139663432750912] #quality_metric: host=algo-1, epoch=2, train mean_squared_error <loss>=0.273604382187\u001b[0m\n",
      "\u001b[34m[03/06/2020 22:18:18 INFO 139663432750912] Epoch 2 Validation metrics: mean_squared_error: 0.979 mean_absolute_error: 0.770 \u001b[0m\n",
      "\u001b[34m[03/06/2020 22:18:18 INFO 139663432750912] #quality_metric: host=algo-1, epoch=2, validation mean_squared_error <loss>=0.978657435324\u001b[0m\n",
      "\u001b[34m[03/06/2020 22:18:18 INFO 139663432750912] **************\u001b[0m\n",
      "\u001b[34m#metrics {\"Metrics\": {\"early_stop.time\": {\"count\": 1, \"max\": 0.0209808349609375, \"sum\": 0.0209808349609375, \"min\": 0.0209808349609375}, \"update.time\": {\"count\": 1, \"max\": 5698.892116546631, \"sum\": 5698.892116546631, \"min\": 5698.892116546631}}, \"EndTime\": 1583533098.903381, \"Dimensions\": {\"Host\": \"algo-1\", \"Operation\": \"training\", \"Algorithm\": \"ObjectToVec\"}, \"StartTime\": 1583533093.199999}\n",
      "\u001b[0m\n",
      "\u001b[34m[03/06/2020 22:18:18 INFO 139663432750912] #progress_metric: host=algo-1, completed 15 % of epochs\u001b[0m\n",
      "\u001b[34m#metrics {\"Metrics\": {\"Max Batches Seen Between Resets\": {\"count\": 1, \"max\": 1416, \"sum\": 1416.0, \"min\": 1416}, \"Number of Batches Since Last Reset\": {\"count\": 1, \"max\": 1416, \"sum\": 1416.0, \"min\": 1416}, \"Number of Records Since Last Reset\": {\"count\": 1, \"max\": 90624, \"sum\": 90624.0, \"min\": 90624}, \"Total Batches Seen\": {\"count\": 1, \"max\": 4248, \"sum\": 4248.0, \"min\": 4248}, \"Total Records Seen\": {\"count\": 1, \"max\": 271872, \"sum\": 271872.0, \"min\": 271872}, \"Max Records Seen Between Resets\": {\"count\": 1, \"max\": 90624, \"sum\": 90624.0, \"min\": 90624}, \"Reset Count\": {\"count\": 1, \"max\": 3, \"sum\": 3.0, \"min\": 3}}, \"EndTime\": 1583533098.903643, \"Dimensions\": {\"Host\": \"algo-1\", \"Meta\": \"training_data_iter\", \"Operation\": \"training\", \"Algorithm\": \"ObjectToVec\", \"epoch\": 2}, \"StartTime\": 1583533093.20447}\n",
      "\u001b[0m\n",
      "\u001b[34m[03/06/2020 22:18:18 INFO 139663432750912] #throughput_metric: host=algo-1, train throughput=15900.9059556 records/second\u001b[0m\n",
      "\u001b[34m[03/06/2020 22:18:19 INFO 139663432750912] Epoch: 3, batches: 100, num_examples: 6400, 16521.8 samples/sec, epoch time so far: 0:00:00.387366\u001b[0m\n",
      "\u001b[34m[03/06/2020 22:18:19 INFO 139663432750912] #011Training metrics: mean_squared_error: 0.171 mean_absolute_error: 0.302 \u001b[0m\n",
      "\u001b[34m[03/06/2020 22:18:19 INFO 139663432750912] Epoch: 3, batches: 200, num_examples: 12800, 16519.1 samples/sec, epoch time so far: 0:00:00.774860\u001b[0m\n",
      "\u001b[34m[03/06/2020 22:18:19 INFO 139663432750912] #011Training metrics: mean_squared_error: 0.168 mean_absolute_error: 0.301 \u001b[0m\n",
      "\u001b[34m[03/06/2020 22:18:20 INFO 139663432750912] Epoch: 3, batches: 300, num_examples: 19200, 16519.8 samples/sec, epoch time so far: 0:00:01.162243\u001b[0m\n",
      "\u001b[34m[03/06/2020 22:18:20 INFO 139663432750912] #011Training metrics: mean_squared_error: 0.167 mean_absolute_error: 0.300 \u001b[0m\n",
      "\u001b[34m[03/06/2020 22:18:20 INFO 139663432750912] Epoch: 3, batches: 400, num_examples: 25600, 16492.6 samples/sec, epoch time so far: 0:00:01.552208\u001b[0m\n",
      "\u001b[34m[03/06/2020 22:18:20 INFO 139663432750912] #011Training metrics: mean_squared_error: 0.165 mean_absolute_error: 0.298 \u001b[0m\n",
      "\u001b[34m[03/06/2020 22:18:20 INFO 139663432750912] Epoch: 3, batches: 500, num_examples: 32000, 16493.0 samples/sec, epoch time so far: 0:00:01.940219\u001b[0m\n",
      "\u001b[34m[03/06/2020 22:18:20 INFO 139663432750912] #011Training metrics: mean_squared_error: 0.163 mean_absolute_error: 0.297 \u001b[0m\n",
      "\u001b[34m[03/06/2020 22:18:21 INFO 139663432750912] Epoch: 3, batches: 600, num_examples: 38400, 16424.6 samples/sec, epoch time so far: 0:00:02.337952\u001b[0m\n",
      "\u001b[34m[03/06/2020 22:18:21 INFO 139663432750912] #011Training metrics: mean_squared_error: 0.162 mean_absolute_error: 0.296 \u001b[0m\n",
      "\u001b[34m[03/06/2020 22:18:21 INFO 139663432750912] Epoch: 3, batches: 700, num_examples: 44800, 16435.7 samples/sec, epoch time so far: 0:00:02.725779\u001b[0m\n",
      "\u001b[34m[03/06/2020 22:18:21 INFO 139663432750912] #011Training metrics: mean_squared_error: 0.161 mean_absolute_error: 0.296 \u001b[0m\n",
      "\u001b[34m[03/06/2020 22:18:22 INFO 139663432750912] Epoch: 3, batches: 800, num_examples: 51200, 16350.3 samples/sec, epoch time so far: 0:00:03.131445\u001b[0m\n",
      "\u001b[34m[03/06/2020 22:18:22 INFO 139663432750912] #011Training metrics: mean_squared_error: 0.162 mean_absolute_error: 0.297 \u001b[0m\n",
      "\u001b[34m[03/06/2020 22:18:22 INFO 139663432750912] Epoch: 3, batches: 900, num_examples: 57600, 16360.4 samples/sec, epoch time so far: 0:00:03.520694\u001b[0m\n",
      "\u001b[34m[03/06/2020 22:18:22 INFO 139663432750912] #011Training metrics: mean_squared_error: 0.163 mean_absolute_error: 0.298 \u001b[0m\n",
      "\u001b[34m[03/06/2020 22:18:22 INFO 139663432750912] Epoch: 3, batches: 1000, num_examples: 64000, 16370.4 samples/sec, epoch time so far: 0:00:03.909494\u001b[0m\n",
      "\u001b[34m[03/06/2020 22:18:22 INFO 139663432750912] #011Training metrics: mean_squared_error: 0.162 mean_absolute_error: 0.298 \u001b[0m\n",
      "\u001b[34m[03/06/2020 22:18:23 INFO 139663432750912] Epoch: 3, batches: 1100, num_examples: 70400, 16373.4 samples/sec, epoch time so far: 0:00:04.299651\u001b[0m\n",
      "\u001b[34m[03/06/2020 22:18:23 INFO 139663432750912] #011Training metrics: mean_squared_error: 0.162 mean_absolute_error: 0.299 \u001b[0m\n",
      "\u001b[34m[03/06/2020 22:18:23 INFO 139663432750912] Epoch: 3, batches: 1200, num_examples: 76800, 16379.9 samples/sec, epoch time so far: 0:00:04.688674\u001b[0m\n",
      "\u001b[34m[03/06/2020 22:18:23 INFO 139663432750912] #011Training metrics: mean_squared_error: 0.163 mean_absolute_error: 0.299 \u001b[0m\n",
      "\u001b[34m[03/06/2020 22:18:23 INFO 139663432750912] Epoch: 3, batches: 1300, num_examples: 83200, 16390.6 samples/sec, epoch time so far: 0:00:05.076085\u001b[0m\n",
      "\u001b[34m[03/06/2020 22:18:23 INFO 139663432750912] #011Training metrics: mean_squared_error: 0.164 mean_absolute_error: 0.301 \u001b[0m\n",
      "\u001b[34m[03/06/2020 22:18:24 INFO 139663432750912] Epoch: 3, batches: 1400, num_examples: 89600, 16395.5 samples/sec, epoch time so far: 0:00:05.464911\u001b[0m\n",
      "\u001b[34m[03/06/2020 22:18:24 INFO 139663432750912] #011Training metrics: mean_squared_error: 0.164 mean_absolute_error: 0.302 \u001b[0m\n",
      "\u001b[34m[03/06/2020 22:18:24 INFO 139663432750912] **************\u001b[0m\n",
      "\u001b[34m[03/06/2020 22:18:24 INFO 139663432750912] Completed Epoch: 3, time taken: 0:00:05.526860\u001b[0m\n",
      "\u001b[34m[03/06/2020 22:18:24 INFO 139663432750912] Epoch 3 Training metrics:   mean_squared_error: 0.164 mean_absolute_error: 0.302 \u001b[0m\n",
      "\u001b[34m[03/06/2020 22:18:24 INFO 139663432750912] #quality_metric: host=algo-1, epoch=3, train mean_squared_error <loss>=0.164234995816\u001b[0m\n",
      "\u001b[34m[03/06/2020 22:18:24 INFO 139663432750912] Epoch 3 Validation metrics: mean_squared_error: 0.957 mean_absolute_error: 0.771 \u001b[0m\n",
      "\u001b[34m[03/06/2020 22:18:24 INFO 139663432750912] #quality_metric: host=algo-1, epoch=3, validation mean_squared_error <loss>=0.956579332819\u001b[0m\n",
      "\u001b[34m[03/06/2020 22:18:24 INFO 139663432750912] **************\u001b[0m\n",
      "\u001b[34m[03/06/2020 22:18:24 INFO 139663432750912] patience losses: [0.9721478634589428, 0.981976269870191, 0.9786574353237409]\u001b[0m\n",
      "\u001b[34m[03/06/2020 22:18:24 INFO 139663432750912] min patience losses: 0.972147863459\u001b[0m\n",
      "\u001b[34m[03/06/2020 22:18:24 INFO 139663432750912] current loss: 0.956579332819\u001b[0m\n",
      "\u001b[34m[03/06/2020 22:18:24 INFO 139663432750912] absolute loss difference: 0.0155685306401\u001b[0m\n",
      "\u001b[34m#metrics {\"Metrics\": {\"early_stop.time\": {\"count\": 1, \"max\": 2.376079559326172, \"sum\": 2.376079559326172, \"min\": 2.376079559326172}, \"update.time\": {\"count\": 1, \"max\": 5710.016965866089, \"sum\": 5710.016965866089, \"min\": 5710.016965866089}}, \"EndTime\": 1583533104.617954, \"Dimensions\": {\"Host\": \"algo-1\", \"Operation\": \"training\", \"Algorithm\": \"ObjectToVec\"}, \"StartTime\": 1583533098.903459}\n",
      "\u001b[0m\n",
      "\u001b[34m[03/06/2020 22:18:24 INFO 139663432750912] #progress_metric: host=algo-1, completed 20 % of epochs\u001b[0m\n",
      "\u001b[34m#metrics {\"Metrics\": {\"Max Batches Seen Between Resets\": {\"count\": 1, \"max\": 1416, \"sum\": 1416.0, \"min\": 1416}, \"Number of Batches Since Last Reset\": {\"count\": 1, \"max\": 1416, \"sum\": 1416.0, \"min\": 1416}, \"Number of Records Since Last Reset\": {\"count\": 1, \"max\": 90624, \"sum\": 90624.0, \"min\": 90624}, \"Total Batches Seen\": {\"count\": 1, \"max\": 5664, \"sum\": 5664.0, \"min\": 5664}, \"Total Records Seen\": {\"count\": 1, \"max\": 362496, \"sum\": 362496.0, \"min\": 362496}, \"Max Records Seen Between Resets\": {\"count\": 1, \"max\": 90624, \"sum\": 90624.0, \"min\": 90624}, \"Reset Count\": {\"count\": 1, \"max\": 4, \"sum\": 4.0, \"min\": 4}}, \"EndTime\": 1583533104.618279, \"Dimensions\": {\"Host\": \"algo-1\", \"Meta\": \"training_data_iter\", \"Operation\": \"training\", \"Algorithm\": \"ObjectToVec\", \"epoch\": 3}, \"StartTime\": 1583533098.907914}\n",
      "\u001b[0m\n",
      "\u001b[34m[03/06/2020 22:18:24 INFO 139663432750912] #throughput_metric: host=algo-1, train throughput=15869.7163303 records/second\u001b[0m\n",
      "\u001b[34m[03/06/2020 22:18:25 INFO 139663432750912] Epoch: 4, batches: 100, num_examples: 6400, 16570.8 samples/sec, epoch time so far: 0:00:00.386222\u001b[0m\n",
      "\u001b[34m[03/06/2020 22:18:25 INFO 139663432750912] #011Training metrics: mean_squared_error: 0.119 mean_absolute_error: 0.258 \u001b[0m\n",
      "\u001b[34m[03/06/2020 22:18:25 INFO 139663432750912] Epoch: 4, batches: 200, num_examples: 12800, 16479.7 samples/sec, epoch time so far: 0:00:00.776713\u001b[0m\n",
      "\u001b[34m[03/06/2020 22:18:25 INFO 139663432750912] #011Training metrics: mean_squared_error: 0.115 mean_absolute_error: 0.253 \u001b[0m\n",
      "\u001b[34m[03/06/2020 22:18:25 INFO 139663432750912] Epoch: 4, batches: 300, num_examples: 19200, 16487.6 samples/sec, epoch time so far: 0:00:01.164508\u001b[0m\n",
      "\u001b[34m[03/06/2020 22:18:25 INFO 139663432750912] #011Training metrics: mean_squared_error: 0.113 mean_absolute_error: 0.252 \u001b[0m\n",
      "\u001b[34m[03/06/2020 22:18:26 INFO 139663432750912] Epoch: 4, batches: 400, num_examples: 25600, 16471.7 samples/sec, epoch time so far: 0:00:01.554179\u001b[0m\n",
      "\u001b[34m[03/06/2020 22:18:26 INFO 139663432750912] #011Training metrics: mean_squared_error: 0.112 mean_absolute_error: 0.252 \u001b[0m\n",
      "\u001b[34m[03/06/2020 22:18:26 INFO 139663432750912] Epoch: 4, batches: 500, num_examples: 32000, 16471.8 samples/sec, epoch time so far: 0:00:01.942711\u001b[0m\n",
      "\u001b[34m[03/06/2020 22:18:26 INFO 139663432750912] #011Training metrics: mean_squared_error: 0.111 mean_absolute_error: 0.251 \u001b[0m\n",
      "\u001b[34m[03/06/2020 22:18:26 INFO 139663432750912] Epoch: 4, batches: 600, num_examples: 38400, 16384.7 samples/sec, epoch time so far: 0:00:02.343651\u001b[0m\n",
      "\u001b[34m[03/06/2020 22:18:26 INFO 139663432750912] #011Training metrics: mean_squared_error: 0.111 mean_absolute_error: 0.251 \u001b[0m\n",
      "\u001b[34m[03/06/2020 22:18:27 INFO 139663432750912] Epoch: 4, batches: 700, num_examples: 44800, 16297.5 samples/sec, epoch time so far: 0:00:02.748892\u001b[0m\n",
      "\u001b[34m[03/06/2020 22:18:27 INFO 139663432750912] #011Training metrics: mean_squared_error: 0.111 mean_absolute_error: 0.251 \u001b[0m\n",
      "\u001b[34m[03/06/2020 22:18:27 INFO 139663432750912] Epoch: 4, batches: 800, num_examples: 51200, 16302.8 samples/sec, epoch time so far: 0:00:03.140569\u001b[0m\n",
      "\u001b[34m[03/06/2020 22:18:27 INFO 139663432750912] #011Training metrics: mean_squared_error: 0.111 mean_absolute_error: 0.251 \u001b[0m\n",
      "\u001b[34m[03/06/2020 22:18:28 INFO 139663432750912] Epoch: 4, batches: 900, num_examples: 57600, 16315.0 samples/sec, epoch time so far: 0:00:03.530488\u001b[0m\n",
      "\u001b[34m[03/06/2020 22:18:28 INFO 139663432750912] #011Training metrics: mean_squared_error: 0.110 mean_absolute_error: 0.250 \u001b[0m\n",
      "\u001b[34m[03/06/2020 22:18:28 INFO 139663432750912] Epoch: 4, batches: 1000, num_examples: 64000, 16336.0 samples/sec, epoch time so far: 0:00:03.917738\u001b[0m\n",
      "\u001b[34m[03/06/2020 22:18:28 INFO 139663432750912] #011Training metrics: mean_squared_error: 0.110 mean_absolute_error: 0.250 \u001b[0m\n",
      "\u001b[34m[03/06/2020 22:18:28 INFO 139663432750912] Epoch: 4, batches: 1100, num_examples: 70400, 16352.0 samples/sec, epoch time so far: 0:00:04.305275\u001b[0m\n",
      "\u001b[34m[03/06/2020 22:18:28 INFO 139663432750912] #011Training metrics: mean_squared_error: 0.110 mean_absolute_error: 0.250 \u001b[0m\n",
      "\u001b[34m[03/06/2020 22:18:29 INFO 139663432750912] Epoch: 4, batches: 1200, num_examples: 76800, 16352.8 samples/sec, epoch time so far: 0:00:04.696433\u001b[0m\n",
      "\u001b[34m[03/06/2020 22:18:29 INFO 139663432750912] #011Training metrics: mean_squared_error: 0.110 mean_absolute_error: 0.250 \u001b[0m\n",
      "\u001b[34m[03/06/2020 22:18:29 INFO 139663432750912] Epoch: 4, batches: 1300, num_examples: 83200, 16357.6 samples/sec, epoch time so far: 0:00:05.086323\u001b[0m\n",
      "\u001b[34m[03/06/2020 22:18:29 INFO 139663432750912] #011Training metrics: mean_squared_error: 0.109 mean_absolute_error: 0.250 \u001b[0m\n",
      "\u001b[34m[03/06/2020 22:18:30 INFO 139663432750912] Epoch: 4, batches: 1400, num_examples: 89600, 16365.4 samples/sec, epoch time so far: 0:00:05.474957\u001b[0m\n",
      "\u001b[34m[03/06/2020 22:18:30 INFO 139663432750912] #011Training metrics: mean_squared_error: 0.110 mean_absolute_error: 0.251 \u001b[0m\n",
      "\u001b[34m[03/06/2020 22:18:30 INFO 139663432750912] **************\u001b[0m\n",
      "\u001b[34m[03/06/2020 22:18:30 INFO 139663432750912] Completed Epoch: 4, time taken: 0:00:05.538954\u001b[0m\n",
      "\u001b[34m[03/06/2020 22:18:30 INFO 139663432750912] Epoch 4 Training metrics:   mean_squared_error: 0.110 mean_absolute_error: 0.251 \u001b[0m\n",
      "\u001b[34m[03/06/2020 22:18:30 INFO 139663432750912] #quality_metric: host=algo-1, epoch=4, train mean_squared_error <loss>=0.109750318162\u001b[0m\n",
      "\u001b[34m[03/06/2020 22:18:30 INFO 139663432750912] Epoch 4 Validation metrics: mean_squared_error: 0.945 mean_absolute_error: 0.767 \u001b[0m\n",
      "\u001b[34m[03/06/2020 22:18:30 INFO 139663432750912] #quality_metric: host=algo-1, epoch=4, validation mean_squared_error <loss>=0.94534338608\u001b[0m\n",
      "\u001b[34m[03/06/2020 22:18:30 INFO 139663432750912] **************\u001b[0m\n",
      "\u001b[34m[03/06/2020 22:18:30 INFO 139663432750912] patience losses: [0.981976269870191, 0.9786574353237409, 0.9565793328188561]\u001b[0m\n",
      "\u001b[34m[03/06/2020 22:18:30 INFO 139663432750912] min patience losses: 0.956579332819\u001b[0m\n",
      "\u001b[34m[03/06/2020 22:18:30 INFO 139663432750912] current loss: 0.94534338608\u001b[0m\n",
      "\u001b[34m[03/06/2020 22:18:30 INFO 139663432750912] absolute loss difference: 0.011235946739\u001b[0m\n",
      "\u001b[34m#metrics {\"Metrics\": {\"early_stop.time\": {\"count\": 1, \"max\": 2.516031265258789, \"sum\": 2.516031265258789, \"min\": 2.516031265258789}, \"update.time\": {\"count\": 1, \"max\": 5720.239162445068, \"sum\": 5720.239162445068, \"min\": 5720.239162445068}}, \"EndTime\": 1583533110.360651, \"Dimensions\": {\"Host\": \"algo-1\", \"Operation\": \"training\", \"Algorithm\": \"ObjectToVec\"}, \"StartTime\": 1583533104.618078}\n",
      "\u001b[0m\n",
      "\u001b[34m[03/06/2020 22:18:30 INFO 139663432750912] #progress_metric: host=algo-1, completed 25 % of epochs\u001b[0m\n",
      "\u001b[34m#metrics {\"Metrics\": {\"Max Batches Seen Between Resets\": {\"count\": 1, \"max\": 1416, \"sum\": 1416.0, \"min\": 1416}, \"Number of Batches Since Last Reset\": {\"count\": 1, \"max\": 1416, \"sum\": 1416.0, \"min\": 1416}, \"Number of Records Since Last Reset\": {\"count\": 1, \"max\": 90624, \"sum\": 90624.0, \"min\": 90624}, \"Total Batches Seen\": {\"count\": 1, \"max\": 7080, \"sum\": 7080.0, \"min\": 7080}, \"Total Records Seen\": {\"count\": 1, \"max\": 453120, \"sum\": 453120.0, \"min\": 453120}, \"Max Records Seen Between Resets\": {\"count\": 1, \"max\": 90624, \"sum\": 90624.0, \"min\": 90624}, \"Reset Count\": {\"count\": 1, \"max\": 5, \"sum\": 5.0, \"min\": 5}}, \"EndTime\": 1583533110.36093, \"Dimensions\": {\"Host\": \"algo-1\", \"Meta\": \"training_data_iter\", \"Operation\": \"training\", \"Algorithm\": \"ObjectToVec\", \"epoch\": 4}, \"StartTime\": 1583533104.640385}\n",
      "\u001b[0m\n",
      "\u001b[34m[03/06/2020 22:18:30 INFO 139663432750912] #throughput_metric: host=algo-1, train throughput=15841.4430257 records/second\u001b[0m\n",
      "\u001b[34m[03/06/2020 22:18:30 INFO 139663432750912] Epoch: 5, batches: 100, num_examples: 6400, 16611.8 samples/sec, epoch time so far: 0:00:00.385269\u001b[0m\n",
      "\u001b[34m[03/06/2020 22:18:30 INFO 139663432750912] #011Training metrics: mean_squared_error: 0.091 mean_absolute_error: 0.233 \u001b[0m\n",
      "\u001b[34m[03/06/2020 22:18:31 INFO 139663432750912] Epoch: 5, batches: 200, num_examples: 12800, 16486.0 samples/sec, epoch time so far: 0:00:00.776414\u001b[0m\n",
      "\u001b[34m[03/06/2020 22:18:31 INFO 139663432750912] #011Training metrics: mean_squared_error: 0.090 mean_absolute_error: 0.232 \u001b[0m\n",
      "\u001b[34m[03/06/2020 22:18:31 INFO 139663432750912] Epoch: 5, batches: 300, num_examples: 19200, 16484.6 samples/sec, epoch time so far: 0:00:01.164721\u001b[0m\n",
      "\u001b[34m[03/06/2020 22:18:31 INFO 139663432750912] #011Training metrics: mean_squared_error: 0.090 mean_absolute_error: 0.232 \u001b[0m\n",
      "\u001b[34m[03/06/2020 22:18:31 INFO 139663432750912] Epoch: 5, batches: 400, num_examples: 25600, 16460.2 samples/sec, epoch time so far: 0:00:01.555264\u001b[0m\n",
      "\u001b[34m[03/06/2020 22:18:31 INFO 139663432750912] #011Training metrics: mean_squared_error: 0.089 mean_absolute_error: 0.230 \u001b[0m\n",
      "\u001b[34m[03/06/2020 22:18:32 INFO 139663432750912] Epoch: 5, batches: 500, num_examples: 32000, 16324.0 samples/sec, epoch time so far: 0:00:01.960305\u001b[0m\n",
      "\u001b[34m[03/06/2020 22:18:32 INFO 139663432750912] #011Training metrics: mean_squared_error: 0.088 mean_absolute_error: 0.230 \u001b[0m\n",
      "\u001b[34m[03/06/2020 22:18:32 INFO 139663432750912] Epoch: 5, batches: 600, num_examples: 38400, 16334.3 samples/sec, epoch time so far: 0:00:02.350887\u001b[0m\n",
      "\u001b[34m[03/06/2020 22:18:32 INFO 139663432750912] #011Training metrics: mean_squared_error: 0.088 mean_absolute_error: 0.229 \u001b[0m\n",
      "\u001b[34m[03/06/2020 22:18:33 INFO 139663432750912] Epoch: 5, batches: 700, num_examples: 44800, 16354.2 samples/sec, epoch time so far: 0:00:02.739354\u001b[0m\n",
      "\u001b[34m[03/06/2020 22:18:33 INFO 139663432750912] #011Training metrics: mean_squared_error: 0.087 mean_absolute_error: 0.228 \u001b[0m\n",
      "\u001b[34m[03/06/2020 22:18:33 INFO 139663432750912] Epoch: 5, batches: 800, num_examples: 51200, 16365.8 samples/sec, epoch time so far: 0:00:03.128476\u001b[0m\n",
      "\u001b[34m[03/06/2020 22:18:33 INFO 139663432750912] #011Training metrics: mean_squared_error: 0.087 mean_absolute_error: 0.228 \u001b[0m\n",
      "\u001b[34m[03/06/2020 22:18:33 INFO 139663432750912] Epoch: 5, batches: 900, num_examples: 57600, 16378.1 samples/sec, epoch time so far: 0:00:03.516889\u001b[0m\n",
      "\u001b[34m[03/06/2020 22:18:33 INFO 139663432750912] #011Training metrics: mean_squared_error: 0.086 mean_absolute_error: 0.227 \u001b[0m\n",
      "\u001b[34m[03/06/2020 22:18:34 INFO 139663432750912] Epoch: 5, batches: 1000, num_examples: 64000, 16383.4 samples/sec, epoch time so far: 0:00:03.906397\u001b[0m\n",
      "\u001b[34m[03/06/2020 22:18:34 INFO 139663432750912] #011Training metrics: mean_squared_error: 0.086 mean_absolute_error: 0.227 \u001b[0m\n",
      "\u001b[34m[03/06/2020 22:18:34 INFO 139663432750912] Epoch: 5, batches: 1100, num_examples: 70400, 16390.6 samples/sec, epoch time so far: 0:00:04.295154\u001b[0m\n",
      "\u001b[34m[03/06/2020 22:18:34 INFO 139663432750912] #011Training metrics: mean_squared_error: 0.086 mean_absolute_error: 0.227 \u001b[0m\n",
      "\u001b[34m[03/06/2020 22:18:35 INFO 139663432750912] Epoch: 5, batches: 1200, num_examples: 76800, 16401.0 samples/sec, epoch time so far: 0:00:04.682647\u001b[0m\n",
      "\u001b[34m[03/06/2020 22:18:35 INFO 139663432750912] #011Training metrics: mean_squared_error: 0.087 mean_absolute_error: 0.228 \u001b[0m\n",
      "\u001b[34m[03/06/2020 22:18:35 INFO 139663432750912] Epoch: 5, batches: 1300, num_examples: 83200, 16402.7 samples/sec, epoch time so far: 0:00:05.072348\u001b[0m\n",
      "\u001b[34m[03/06/2020 22:18:35 INFO 139663432750912] #011Training metrics: mean_squared_error: 0.087 mean_absolute_error: 0.228 \u001b[0m\n",
      "\u001b[34m[03/06/2020 22:18:35 INFO 139663432750912] Epoch: 5, batches: 1400, num_examples: 89600, 16401.6 samples/sec, epoch time so far: 0:00:05.462897\u001b[0m\n",
      "\u001b[34m[03/06/2020 22:18:35 INFO 139663432750912] #011Training metrics: mean_squared_error: 0.087 mean_absolute_error: 0.228 \u001b[0m\n",
      "\u001b[34m[03/06/2020 22:18:35 INFO 139663432750912] **************\u001b[0m\n",
      "\u001b[34m[03/06/2020 22:18:35 INFO 139663432750912] Completed Epoch: 5, time taken: 0:00:05.524633\u001b[0m\n",
      "\u001b[34m[03/06/2020 22:18:35 INFO 139663432750912] Epoch 5 Training metrics:   mean_squared_error: 0.087 mean_absolute_error: 0.228 \u001b[0m\n",
      "\u001b[34m[03/06/2020 22:18:35 INFO 139663432750912] #quality_metric: host=algo-1, epoch=5, train mean_squared_error <loss>=0.0865020524831\u001b[0m\n",
      "\u001b[34m[03/06/2020 22:18:36 INFO 139663432750912] Epoch 5 Validation metrics: mean_squared_error: 0.941 mean_absolute_error: 0.761 \u001b[0m\n",
      "\u001b[34m[03/06/2020 22:18:36 INFO 139663432750912] #quality_metric: host=algo-1, epoch=5, validation mean_squared_error <loss>=0.940664926896\u001b[0m\n",
      "\u001b[34m[03/06/2020 22:18:36 INFO 139663432750912] **************\u001b[0m\n",
      "\u001b[34m[03/06/2020 22:18:36 INFO 139663432750912] patience losses: [0.9786574353237409, 0.9565793328188561, 0.9453433860798139]\u001b[0m\n",
      "\u001b[34m[03/06/2020 22:18:36 INFO 139663432750912] min patience losses: 0.94534338608\u001b[0m\n",
      "\u001b[34m[03/06/2020 22:18:36 INFO 139663432750912] current loss: 0.940664926896\u001b[0m\n",
      "\u001b[34m[03/06/2020 22:18:36 INFO 139663432750912] absolute loss difference: 0.00467845918359\u001b[0m\n",
      "\u001b[34m[03/06/2020 22:18:36 INFO 139663432750912] Bad epoch: loss has not improved (enough). Bad count:1\u001b[0m\n",
      "\u001b[34m#metrics {\"Metrics\": {\"early_stop.time\": {\"count\": 1, \"max\": 2.711057662963867, \"sum\": 2.711057662963867, \"min\": 2.711057662963867}, \"update.time\": {\"count\": 1, \"max\": 5714.507102966309, \"sum\": 5714.507102966309, \"min\": 5714.507102966309}}, \"EndTime\": 1583533116.096209, \"Dimensions\": {\"Host\": \"algo-1\", \"Operation\": \"training\", \"Algorithm\": \"ObjectToVec\"}, \"StartTime\": 1583533110.360744}\n",
      "\u001b[0m\n",
      "\u001b[34m[03/06/2020 22:18:36 INFO 139663432750912] #progress_metric: host=algo-1, completed 30 % of epochs\u001b[0m\n",
      "\u001b[34m#metrics {\"Metrics\": {\"Max Batches Seen Between Resets\": {\"count\": 1, \"max\": 1416, \"sum\": 1416.0, \"min\": 1416}, \"Number of Batches Since Last Reset\": {\"count\": 1, \"max\": 1416, \"sum\": 1416.0, \"min\": 1416}, \"Number of Records Since Last Reset\": {\"count\": 1, \"max\": 90624, \"sum\": 90624.0, \"min\": 90624}, \"Total Batches Seen\": {\"count\": 1, \"max\": 8496, \"sum\": 8496.0, \"min\": 8496}, \"Total Records Seen\": {\"count\": 1, \"max\": 543744, \"sum\": 543744.0, \"min\": 543744}, \"Max Records Seen Between Resets\": {\"count\": 1, \"max\": 90624, \"sum\": 90624.0, \"min\": 90624}, \"Reset Count\": {\"count\": 1, \"max\": 6, \"sum\": 6.0, \"min\": 6}}, \"EndTime\": 1583533116.096481, \"Dimensions\": {\"Host\": \"algo-1\", \"Meta\": \"training_data_iter\", \"Operation\": \"training\", \"Algorithm\": \"ObjectToVec\", \"epoch\": 5}, \"StartTime\": 1583533110.381676}\n",
      "\u001b[0m\n",
      "\u001b[34m[03/06/2020 22:18:36 INFO 139663432750912] #throughput_metric: host=algo-1, train throughput=15857.3345164 records/second\u001b[0m\n",
      "\u001b[34m[03/06/2020 22:18:36 INFO 139663432750912] Epoch: 6, batches: 100, num_examples: 6400, 16459.3 samples/sec, epoch time so far: 0:00:00.388837\u001b[0m\n",
      "\u001b[34m[03/06/2020 22:18:36 INFO 139663432750912] #011Training metrics: mean_squared_error: 0.088 mean_absolute_error: 0.228 \u001b[0m\n",
      "\u001b[34m[03/06/2020 22:18:36 INFO 139663432750912] Epoch: 6, batches: 200, num_examples: 12800, 16463.3 samples/sec, epoch time so far: 0:00:00.777489\u001b[0m\n",
      "\u001b[34m[03/06/2020 22:18:36 INFO 139663432750912] #011Training metrics: mean_squared_error: 0.086 mean_absolute_error: 0.225 \u001b[0m\n",
      "\u001b[34m[03/06/2020 22:18:37 INFO 139663432750912] Epoch: 6, batches: 300, num_examples: 19200, 16244.1 samples/sec, epoch time so far: 0:00:01.181971\u001b[0m\n",
      "\u001b[34m[03/06/2020 22:18:37 INFO 139663432750912] #011Training metrics: mean_squared_error: 0.084 mean_absolute_error: 0.224 \u001b[0m\n",
      "\u001b[34m[03/06/2020 22:18:37 INFO 139663432750912] Epoch: 6, batches: 400, num_examples: 25600, 16299.9 samples/sec, epoch time so far: 0:00:01.570562\u001b[0m\n",
      "\u001b[34m[03/06/2020 22:18:37 INFO 139663432750912] #011Training metrics: mean_squared_error: 0.083 mean_absolute_error: 0.222 \u001b[0m\n",
      "\u001b[34m[03/06/2020 22:18:38 INFO 139663432750912] Epoch: 6, batches: 500, num_examples: 32000, 16351.9 samples/sec, epoch time so far: 0:00:01.956958\u001b[0m\n",
      "\u001b[34m[03/06/2020 22:18:38 INFO 139663432750912] #011Training metrics: mean_squared_error: 0.083 mean_absolute_error: 0.222 \u001b[0m\n",
      "\u001b[34m[03/06/2020 22:18:38 INFO 139663432750912] Epoch: 6, batches: 600, num_examples: 38400, 16360.5 samples/sec, epoch time so far: 0:00:02.347122\u001b[0m\n",
      "\u001b[34m[03/06/2020 22:18:38 INFO 139663432750912] #011Training metrics: mean_squared_error: 0.082 mean_absolute_error: 0.221 \u001b[0m\n",
      "\u001b[34m[03/06/2020 22:18:38 INFO 139663432750912] Epoch: 6, batches: 700, num_examples: 44800, 16376.2 samples/sec, epoch time so far: 0:00:02.735679\u001b[0m\n",
      "\u001b[34m[03/06/2020 22:18:38 INFO 139663432750912] #011Training metrics: mean_squared_error: 0.082 mean_absolute_error: 0.221 \u001b[0m\n",
      "\u001b[34m[03/06/2020 22:18:39 INFO 139663432750912] Epoch: 6, batches: 800, num_examples: 51200, 16382.8 samples/sec, epoch time so far: 0:00:03.125238\u001b[0m\n",
      "\u001b[34m[03/06/2020 22:18:39 INFO 139663432750912] #011Training metrics: mean_squared_error: 0.082 mean_absolute_error: 0.221 \u001b[0m\n",
      "\u001b[34m[03/06/2020 22:18:39 INFO 139663432750912] Epoch: 6, batches: 900, num_examples: 57600, 16399.6 samples/sec, epoch time so far: 0:00:03.512281\u001b[0m\n",
      "\u001b[34m[03/06/2020 22:18:39 INFO 139663432750912] #011Training metrics: mean_squared_error: 0.082 mean_absolute_error: 0.221 \u001b[0m\n",
      "\u001b[34m[03/06/2020 22:18:40 INFO 139663432750912] Epoch: 6, batches: 1000, num_examples: 64000, 16407.6 samples/sec, epoch time so far: 0:00:03.900631\u001b[0m\n",
      "\u001b[34m[03/06/2020 22:18:40 INFO 139663432750912] #011Training metrics: mean_squared_error: 0.082 mean_absolute_error: 0.221 \u001b[0m\n",
      "\u001b[34m[03/06/2020 22:18:40 INFO 139663432750912] Epoch: 6, batches: 1100, num_examples: 70400, 16411.0 samples/sec, epoch time so far: 0:00:04.289795\u001b[0m\n",
      "\u001b[34m[03/06/2020 22:18:40 INFO 139663432750912] #011Training metrics: mean_squared_error: 0.082 mean_absolute_error: 0.221 \u001b[0m\n",
      "\u001b[34m[03/06/2020 22:18:40 INFO 139663432750912] Epoch: 6, batches: 1200, num_examples: 76800, 16420.2 samples/sec, epoch time so far: 0:00:04.677174\u001b[0m\n",
      "\u001b[34m[03/06/2020 22:18:40 INFO 139663432750912] #011Training metrics: mean_squared_error: 0.082 mean_absolute_error: 0.221 \u001b[0m\n",
      "\u001b[34m[03/06/2020 22:18:41 INFO 139663432750912] Epoch: 6, batches: 1300, num_examples: 83200, 16420.0 samples/sec, epoch time so far: 0:00:05.066989\u001b[0m\n",
      "\u001b[34m[03/06/2020 22:18:41 INFO 139663432750912] #011Training metrics: mean_squared_error: 0.082 mean_absolute_error: 0.222 \u001b[0m\n",
      "\u001b[34m[03/06/2020 22:18:41 INFO 139663432750912] Epoch: 6, batches: 1400, num_examples: 89600, 16422.4 samples/sec, epoch time so far: 0:00:05.455952\u001b[0m\n",
      "\u001b[34m[03/06/2020 22:18:41 INFO 139663432750912] #011Training metrics: mean_squared_error: 0.082 mean_absolute_error: 0.222 \u001b[0m\n",
      "\u001b[34m[03/06/2020 22:18:41 INFO 139663432750912] **************\u001b[0m\n",
      "\u001b[34m[03/06/2020 22:18:41 INFO 139663432750912] Completed Epoch: 6, time taken: 0:00:05.518000\u001b[0m\n",
      "\u001b[34m[03/06/2020 22:18:41 INFO 139663432750912] Epoch 6 Training metrics:   mean_squared_error: 0.082 mean_absolute_error: 0.222 \u001b[0m\n",
      "\u001b[34m[03/06/2020 22:18:41 INFO 139663432750912] #quality_metric: host=algo-1, epoch=6, train mean_squared_error <loss>=0.0820348330084\u001b[0m\n",
      "\u001b[34m[03/06/2020 22:18:41 INFO 139663432750912] Epoch 6 Validation metrics: mean_squared_error: 0.942 mean_absolute_error: 0.774 \u001b[0m\n",
      "\u001b[34m[03/06/2020 22:18:41 INFO 139663432750912] #quality_metric: host=algo-1, epoch=6, validation mean_squared_error <loss>=0.94166955231\u001b[0m\n",
      "\u001b[34m[03/06/2020 22:18:41 INFO 139663432750912] **************\u001b[0m\n",
      "\u001b[34m[03/06/2020 22:18:41 INFO 139663432750912] patience losses: [0.9565793328188561, 0.9453433860798139, 0.9406649268962242]\u001b[0m\n",
      "\u001b[34m[03/06/2020 22:18:41 INFO 139663432750912] min patience losses: 0.940664926896\u001b[0m\n",
      "\u001b[34m[03/06/2020 22:18:41 INFO 139663432750912] current loss: 0.94166955231\u001b[0m\n",
      "\u001b[34m[03/06/2020 22:18:41 INFO 139663432750912] absolute loss difference: 0.00100462541387\u001b[0m\n",
      "\u001b[34m[03/06/2020 22:18:41 INFO 139663432750912] Bad epoch: loss has not improved (enough). Bad count:2\u001b[0m\n",
      "\u001b[34m#metrics {\"Metrics\": {\"early_stop.time\": {\"count\": 1, \"max\": 0.4620552062988281, \"sum\": 0.4620552062988281, \"min\": 0.4620552062988281}, \"update.time\": {\"count\": 1, \"max\": 5699.419021606445, \"sum\": 5699.419021606445, \"min\": 5699.419021606445}}, \"EndTime\": 1583533121.817888, \"Dimensions\": {\"Host\": \"algo-1\", \"Operation\": \"training\", \"Algorithm\": \"ObjectToVec\"}, \"StartTime\": 1583533116.096312}\n",
      "\u001b[0m\n",
      "\u001b[34m[03/06/2020 22:18:41 INFO 139663432750912] #progress_metric: host=algo-1, completed 35 % of epochs\u001b[0m\n",
      "\u001b[34m#metrics {\"Metrics\": {\"Max Batches Seen Between Resets\": {\"count\": 1, \"max\": 1416, \"sum\": 1416.0, \"min\": 1416}, \"Number of Batches Since Last Reset\": {\"count\": 1, \"max\": 1416, \"sum\": 1416.0, \"min\": 1416}, \"Number of Records Since Last Reset\": {\"count\": 1, \"max\": 90624, \"sum\": 90624.0, \"min\": 90624}, \"Total Batches Seen\": {\"count\": 1, \"max\": 9912, \"sum\": 9912.0, \"min\": 9912}, \"Total Records Seen\": {\"count\": 1, \"max\": 634368, \"sum\": 634368.0, \"min\": 634368}, \"Max Records Seen Between Resets\": {\"count\": 1, \"max\": 90624, \"sum\": 90624.0, \"min\": 90624}, \"Reset Count\": {\"count\": 1, \"max\": 7, \"sum\": 7.0, \"min\": 7}}, \"EndTime\": 1583533121.8182, \"Dimensions\": {\"Host\": \"algo-1\", \"Meta\": \"training_data_iter\", \"Operation\": \"training\", \"Algorithm\": \"ObjectToVec\", \"epoch\": 6}, \"StartTime\": 1583533116.118442}\n",
      "\u001b[0m\n",
      "\u001b[34m[03/06/2020 22:18:41 INFO 139663432750912] #throughput_metric: host=algo-1, train throughput=15899.1952911 records/second\u001b[0m\n",
      "\u001b[34m[03/06/2020 22:18:42 INFO 139663432750912] Epoch: 7, batches: 100, num_examples: 6400, 15533.2 samples/sec, epoch time so far: 0:00:00.412022\u001b[0m\n",
      "\u001b[34m[03/06/2020 22:18:42 INFO 139663432750912] #011Training metrics: mean_squared_error: 0.082 mean_absolute_error: 0.219 \u001b[0m\n",
      "\u001b[34m[03/06/2020 22:18:42 INFO 139663432750912] Epoch: 7, batches: 200, num_examples: 12800, 15822.4 samples/sec, epoch time so far: 0:00:00.808979\u001b[0m\n",
      "\u001b[34m[03/06/2020 22:18:42 INFO 139663432750912] #011Training metrics: mean_squared_error: 0.081 mean_absolute_error: 0.219 \u001b[0m\n",
      "\u001b[34m[03/06/2020 22:18:43 INFO 139663432750912] Epoch: 7, batches: 300, num_examples: 19200, 16025.9 samples/sec, epoch time so far: 0:00:01.198060\u001b[0m\n",
      "\u001b[34m[03/06/2020 22:18:43 INFO 139663432750912] #011Training metrics: mean_squared_error: 0.080 mean_absolute_error: 0.217 \u001b[0m\n",
      "\u001b[34m[03/06/2020 22:18:43 INFO 139663432750912] Epoch: 7, batches: 400, num_examples: 25600, 16127.1 samples/sec, epoch time so far: 0:00:01.587395\u001b[0m\n",
      "\u001b[34m[03/06/2020 22:18:43 INFO 139663432750912] #011Training metrics: mean_squared_error: 0.078 mean_absolute_error: 0.216 \u001b[0m\n",
      "\u001b[34m[03/06/2020 22:18:43 INFO 139663432750912] Epoch: 7, batches: 500, num_examples: 32000, 16202.5 samples/sec, epoch time so far: 0:00:01.975005\u001b[0m\n",
      "\u001b[34m[03/06/2020 22:18:43 INFO 139663432750912] #011Training metrics: mean_squared_error: 0.078 mean_absolute_error: 0.215 \u001b[0m\n",
      "\u001b[34m[03/06/2020 22:18:44 INFO 139663432750912] Epoch: 7, batches: 600, num_examples: 38400, 16249.4 samples/sec, epoch time so far: 0:00:02.363163\u001b[0m\n",
      "\u001b[34m[03/06/2020 22:18:44 INFO 139663432750912] #011Training metrics: mean_squared_error: 0.078 mean_absolute_error: 0.215 \u001b[0m\n",
      "\u001b[34m[03/06/2020 22:18:44 INFO 139663432750912] Epoch: 7, batches: 700, num_examples: 44800, 16278.7 samples/sec, epoch time so far: 0:00:02.752068\u001b[0m\n",
      "\u001b[34m[03/06/2020 22:18:44 INFO 139663432750912] #011Training metrics: mean_squared_error: 0.078 mean_absolute_error: 0.214 \u001b[0m\n",
      "\u001b[34m[03/06/2020 22:18:44 INFO 139663432750912] Epoch: 7, batches: 800, num_examples: 51200, 16306.0 samples/sec, epoch time so far: 0:00:03.139947\u001b[0m\n",
      "\u001b[34m[03/06/2020 22:18:44 INFO 139663432750912] #011Training metrics: mean_squared_error: 0.077 mean_absolute_error: 0.214 \u001b[0m\n",
      "\u001b[34m[03/06/2020 22:18:45 INFO 139663432750912] Epoch: 7, batches: 900, num_examples: 57600, 16310.5 samples/sec, epoch time so far: 0:00:03.531474\u001b[0m\n",
      "\u001b[34m[03/06/2020 22:18:45 INFO 139663432750912] #011Training metrics: mean_squared_error: 0.077 mean_absolute_error: 0.214 \u001b[0m\n",
      "\u001b[34m[03/06/2020 22:18:45 INFO 139663432750912] Epoch: 7, batches: 1000, num_examples: 64000, 16330.5 samples/sec, epoch time so far: 0:00:03.919053\u001b[0m\n",
      "\u001b[34m[03/06/2020 22:18:45 INFO 139663432750912] #011Training metrics: mean_squared_error: 0.077 mean_absolute_error: 0.214 \u001b[0m\n",
      "\u001b[34m[03/06/2020 22:18:46 INFO 139663432750912] Epoch: 7, batches: 1100, num_examples: 70400, 16336.4 samples/sec, epoch time so far: 0:00:04.309392\u001b[0m\n",
      "\u001b[34m[03/06/2020 22:18:46 INFO 139663432750912] #011Training metrics: mean_squared_error: 0.077 mean_absolute_error: 0.214 \u001b[0m\n",
      "\u001b[34m[03/06/2020 22:18:46 INFO 139663432750912] Epoch: 7, batches: 1200, num_examples: 76800, 16346.9 samples/sec, epoch time so far: 0:00:04.698131\u001b[0m\n",
      "\u001b[34m[03/06/2020 22:18:46 INFO 139663432750912] #011Training metrics: mean_squared_error: 0.077 mean_absolute_error: 0.214 \u001b[0m\n",
      "\u001b[34m[03/06/2020 22:18:46 INFO 139663432750912] Epoch: 7, batches: 1300, num_examples: 83200, 16354.6 samples/sec, epoch time so far: 0:00:05.087245\u001b[0m\n",
      "\u001b[34m[03/06/2020 22:18:46 INFO 139663432750912] #011Training metrics: mean_squared_error: 0.077 mean_absolute_error: 0.214 \u001b[0m\n",
      "\u001b[34m[03/06/2020 22:18:47 INFO 139663432750912] Epoch: 7, batches: 1400, num_examples: 89600, 16326.7 samples/sec, epoch time so far: 0:00:05.487939\u001b[0m\n",
      "\u001b[34m[03/06/2020 22:18:47 INFO 139663432750912] #011Training metrics: mean_squared_error: 0.077 mean_absolute_error: 0.214 \u001b[0m\n",
      "\u001b[34m[03/06/2020 22:18:47 INFO 139663432750912] **************\u001b[0m\n",
      "\u001b[34m[03/06/2020 22:18:47 INFO 139663432750912] Completed Epoch: 7, time taken: 0:00:05.550215\u001b[0m\n",
      "\u001b[34m[03/06/2020 22:18:47 INFO 139663432750912] Epoch 7 Training metrics:   mean_squared_error: 0.077 mean_absolute_error: 0.214 \u001b[0m\n",
      "\u001b[34m[03/06/2020 22:18:47 INFO 139663432750912] #quality_metric: host=algo-1, epoch=7, train mean_squared_error <loss>=0.0770330542309\u001b[0m\n",
      "\u001b[34m[03/06/2020 22:18:47 INFO 139663432750912] Epoch 7 Validation metrics: mean_squared_error: 0.931 mean_absolute_error: 0.757 \u001b[0m\n",
      "\u001b[34m[03/06/2020 22:18:47 INFO 139663432750912] #quality_metric: host=algo-1, epoch=7, validation mean_squared_error <loss>=0.931360862142\u001b[0m\n",
      "\u001b[34m[03/06/2020 22:18:47 INFO 139663432750912] **************\u001b[0m\n",
      "\u001b[34m[03/06/2020 22:18:47 INFO 139663432750912] patience losses: [0.9453433860798139, 0.9406649268962242, 0.9416695523100931]\u001b[0m\n",
      "\u001b[34m[03/06/2020 22:18:47 INFO 139663432750912] min patience losses: 0.940664926896\u001b[0m\n",
      "\u001b[34m[03/06/2020 22:18:47 INFO 139663432750912] current loss: 0.931360862142\u001b[0m\n",
      "\u001b[34m[03/06/2020 22:18:47 INFO 139663432750912] absolute loss difference: 0.00930406475389\u001b[0m\n",
      "\u001b[34m[03/06/2020 22:18:47 INFO 139663432750912] Bad epoch: loss has not improved (enough). Bad count:3\u001b[0m\n",
      "\u001b[34m#metrics {\"Metrics\": {\"early_stop.time\": {\"count\": 1, \"max\": 3.2880306243896484, \"sum\": 3.2880306243896484, \"min\": 3.2880306243896484}, \"update.time\": {\"count\": 1, \"max\": 5738.18302154541, \"sum\": 5738.18302154541, \"min\": 5738.18302154541}}, \"EndTime\": 1583533127.56082, \"Dimensions\": {\"Host\": \"algo-1\", \"Operation\": \"training\", \"Algorithm\": \"ObjectToVec\"}, \"StartTime\": 1583533121.81799}\n",
      "\u001b[0m\n",
      "\u001b[34m[03/06/2020 22:18:47 INFO 139663432750912] #progress_metric: host=algo-1, completed 40 % of epochs\u001b[0m\n",
      "\u001b[34m#metrics {\"Metrics\": {\"Max Batches Seen Between Resets\": {\"count\": 1, \"max\": 1416, \"sum\": 1416.0, \"min\": 1416}, \"Number of Batches Since Last Reset\": {\"count\": 1, \"max\": 1416, \"sum\": 1416.0, \"min\": 1416}, \"Number of Records Since Last Reset\": {\"count\": 1, \"max\": 90624, \"sum\": 90624.0, \"min\": 90624}, \"Total Batches Seen\": {\"count\": 1, \"max\": 11328, \"sum\": 11328.0, \"min\": 11328}, \"Total Records Seen\": {\"count\": 1, \"max\": 724992, \"sum\": 724992.0, \"min\": 724992}, \"Max Records Seen Between Resets\": {\"count\": 1, \"max\": 90624, \"sum\": 90624.0, \"min\": 90624}, \"Reset Count\": {\"count\": 1, \"max\": 8, \"sum\": 8.0, \"min\": 8}}, \"EndTime\": 1583533127.561108, \"Dimensions\": {\"Host\": \"algo-1\", \"Meta\": \"training_data_iter\", \"Operation\": \"training\", \"Algorithm\": \"ObjectToVec\", \"epoch\": 7}, \"StartTime\": 1583533121.822615}\n",
      "\u001b[0m\n",
      "\u001b[34m[03/06/2020 22:18:47 INFO 139663432750912] #throughput_metric: host=algo-1, train throughput=15791.9196828 records/second\u001b[0m\n",
      "\u001b[34m[03/06/2020 22:18:47 INFO 139663432750912] Epoch: 8, batches: 100, num_examples: 6400, 16478.2 samples/sec, epoch time so far: 0:00:00.388393\u001b[0m\n",
      "\u001b[34m[03/06/2020 22:18:47 INFO 139663432750912] #011Training metrics: mean_squared_error: 0.071 mean_absolute_error: 0.204 \u001b[0m\n",
      "\u001b[34m[03/06/2020 22:18:48 INFO 139663432750912] Epoch: 8, batches: 200, num_examples: 12800, 16456.1 samples/sec, epoch time so far: 0:00:00.777825\u001b[0m\n",
      "\u001b[34m[03/06/2020 22:18:48 INFO 139663432750912] #011Training metrics: mean_squared_error: 0.067 mean_absolute_error: 0.199 \u001b[0m\n",
      "\u001b[34m[03/06/2020 22:18:48 INFO 139663432750912] Epoch: 8, batches: 300, num_examples: 19200, 16463.2 samples/sec, epoch time so far: 0:00:01.166239\u001b[0m\n",
      "\u001b[34m[03/06/2020 22:18:48 INFO 139663432750912] #011Training metrics: mean_squared_error: 0.067 mean_absolute_error: 0.198 \u001b[0m\n",
      "\u001b[34m[03/06/2020 22:18:49 INFO 139663432750912] Epoch: 8, batches: 400, num_examples: 25600, 16465.1 samples/sec, epoch time so far: 0:00:01.554806\u001b[0m\n",
      "\u001b[34m[03/06/2020 22:18:49 INFO 139663432750912] #011Training metrics: mean_squared_error: 0.067 mean_absolute_error: 0.198 \u001b[0m\n",
      "\u001b[34m[03/06/2020 22:18:49 INFO 139663432750912] Epoch: 8, batches: 500, num_examples: 32000, 16423.6 samples/sec, epoch time so far: 0:00:01.948420\u001b[0m\n",
      "\u001b[34m[03/06/2020 22:18:49 INFO 139663432750912] #011Training metrics: mean_squared_error: 0.067 mean_absolute_error: 0.199 \u001b[0m\n",
      "\u001b[34m[03/06/2020 22:18:49 INFO 139663432750912] Epoch: 8, batches: 600, num_examples: 38400, 16433.7 samples/sec, epoch time so far: 0:00:02.336665\u001b[0m\n",
      "\u001b[34m[03/06/2020 22:18:49 INFO 139663432750912] #011Training metrics: mean_squared_error: 0.066 mean_absolute_error: 0.198 \u001b[0m\n",
      "\u001b[34m[03/06/2020 22:18:50 INFO 139663432750912] Epoch: 8, batches: 700, num_examples: 44800, 16437.3 samples/sec, epoch time so far: 0:00:02.725513\u001b[0m\n",
      "\u001b[34m[03/06/2020 22:18:50 INFO 139663432750912] #011Training metrics: mean_squared_error: 0.066 mean_absolute_error: 0.198 \u001b[0m\n",
      "\u001b[34m[03/06/2020 22:18:50 INFO 139663432750912] Epoch: 8, batches: 800, num_examples: 51200, 16430.7 samples/sec, epoch time so far: 0:00:03.116111\u001b[0m\n",
      "\u001b[34m[03/06/2020 22:18:50 INFO 139663432750912] #011Training metrics: mean_squared_error: 0.066 mean_absolute_error: 0.197 \u001b[0m\n",
      "\u001b[34m[03/06/2020 22:18:51 INFO 139663432750912] Epoch: 8, batches: 900, num_examples: 57600, 16423.3 samples/sec, epoch time so far: 0:00:03.507216\u001b[0m\n",
      "\u001b[34m[03/06/2020 22:18:51 INFO 139663432750912] #011Training metrics: mean_squared_error: 0.065 mean_absolute_error: 0.196 \u001b[0m\n",
      "\u001b[34m[03/06/2020 22:18:51 INFO 139663432750912] Epoch: 8, batches: 1000, num_examples: 64000, 16422.9 samples/sec, epoch time so far: 0:00:03.897005\u001b[0m\n",
      "\u001b[34m[03/06/2020 22:18:51 INFO 139663432750912] #011Training metrics: mean_squared_error: 0.066 mean_absolute_error: 0.196 \u001b[0m\n",
      "\u001b[34m[03/06/2020 22:18:51 INFO 139663432750912] Epoch: 8, batches: 1100, num_examples: 70400, 16425.2 samples/sec, epoch time so far: 0:00:04.286095\u001b[0m\n",
      "\u001b[34m[03/06/2020 22:18:51 INFO 139663432750912] #011Training metrics: mean_squared_error: 0.065 mean_absolute_error: 0.196 \u001b[0m\n",
      "\u001b[34m[03/06/2020 22:18:52 INFO 139663432750912] Epoch: 8, batches: 1200, num_examples: 76800, 16379.2 samples/sec, epoch time so far: 0:00:04.688864\u001b[0m\n",
      "\u001b[34m[03/06/2020 22:18:52 INFO 139663432750912] #011Training metrics: mean_squared_error: 0.066 mean_absolute_error: 0.197 \u001b[0m\n",
      "\u001b[34m[03/06/2020 22:18:52 INFO 139663432750912] Epoch: 8, batches: 1300, num_examples: 83200, 16365.6 samples/sec, epoch time so far: 0:00:05.083821\u001b[0m\n",
      "\u001b[34m[03/06/2020 22:18:52 INFO 139663432750912] #011Training metrics: mean_squared_error: 0.066 mean_absolute_error: 0.197 \u001b[0m\n",
      "\u001b[34m[03/06/2020 22:18:53 INFO 139663432750912] Epoch: 8, batches: 1400, num_examples: 89600, 16365.3 samples/sec, epoch time so far: 0:00:05.475007\u001b[0m\n",
      "\u001b[34m[03/06/2020 22:18:53 INFO 139663432750912] #011Training metrics: mean_squared_error: 0.066 mean_absolute_error: 0.197 \u001b[0m\n",
      "\u001b[34m[03/06/2020 22:18:53 INFO 139663432750912] **************\u001b[0m\n",
      "\u001b[34m[03/06/2020 22:18:53 INFO 139663432750912] Completed Epoch: 8, time taken: 0:00:05.537015\u001b[0m\n",
      "\u001b[34m[03/06/2020 22:18:53 INFO 139663432750912] Epoch 8 Training metrics:   mean_squared_error: 0.066 mean_absolute_error: 0.197 \u001b[0m\n",
      "\u001b[34m[03/06/2020 22:18:53 INFO 139663432750912] #quality_metric: host=algo-1, epoch=8, train mean_squared_error <loss>=0.0656663700517\u001b[0m\n",
      "\u001b[34m[03/06/2020 22:18:53 INFO 139663432750912] Epoch 8 Validation metrics: mean_squared_error: 0.928 mean_absolute_error: 0.758 \u001b[0m\n",
      "\u001b[34m[03/06/2020 22:18:53 INFO 139663432750912] #quality_metric: host=algo-1, epoch=8, validation mean_squared_error <loss>=0.928010649778\u001b[0m\n",
      "\u001b[34m[03/06/2020 22:18:53 INFO 139663432750912] **************\u001b[0m\n",
      "\u001b[34m[03/06/2020 22:18:53 INFO 139663432750912] patience losses: [0.9406649268962242, 0.9416695523100931, 0.9313608621423309]\u001b[0m\n",
      "\u001b[34m[03/06/2020 22:18:53 INFO 139663432750912] min patience losses: 0.931360862142\u001b[0m\n",
      "\u001b[34m[03/06/2020 22:18:53 INFO 139663432750912] current loss: 0.928010649778\u001b[0m\n",
      "\u001b[34m[03/06/2020 22:18:53 INFO 139663432750912] absolute loss difference: 0.00335021236458\u001b[0m\n",
      "\u001b[34m[03/06/2020 22:18:53 INFO 139663432750912] Bad epoch: loss has not improved (enough). Bad count:4\u001b[0m\n",
      "\u001b[34m[03/06/2020 22:18:53 INFO 139663432750912] Bad epochs exceeded patience. Stopping training early!\u001b[0m\n",
      "\u001b[34m[03/06/2020 22:18:53 INFO 139663432750912] Early stopping criterion met! Stopping training at epoch: 8\u001b[0m\n",
      "\u001b[34m#metrics {\"Metrics\": {\"early_stop.time\": {\"count\": 1, \"max\": 2.8619766235351562, \"sum\": 2.8619766235351562, \"min\": 2.8619766235351562}, \"update.time\": {\"count\": 1, \"max\": 5721.941947937012, \"sum\": 5721.941947937012, \"min\": 5721.941947937012}}, \"EndTime\": 1583533133.304236, \"Dimensions\": {\"Host\": \"algo-1\", \"Operation\": \"training\", \"Algorithm\": \"ObjectToVec\"}, \"StartTime\": 1583533127.56092}\n",
      "\u001b[0m\n",
      "\u001b[34m[03/06/2020 22:18:53 INFO 139663432750912] Early stop condition met. Stopping training.\u001b[0m\n",
      "\u001b[34m[03/06/2020 22:18:53 INFO 139663432750912] #progress_metric: host=algo-1, completed 100 % epochs\u001b[0m\n",
      "\u001b[34m#metrics {\"Metrics\": {\"Max Batches Seen Between Resets\": {\"count\": 1, \"max\": 1416, \"sum\": 1416.0, \"min\": 1416}, \"Number of Batches Since Last Reset\": {\"count\": 1, \"max\": 1416, \"sum\": 1416.0, \"min\": 1416}, \"Number of Records Since Last Reset\": {\"count\": 1, \"max\": 90624, \"sum\": 90624.0, \"min\": 90624}, \"Total Batches Seen\": {\"count\": 1, \"max\": 12744, \"sum\": 12744.0, \"min\": 12744}, \"Total Records Seen\": {\"count\": 1, \"max\": 815616, \"sum\": 815616.0, \"min\": 815616}, \"Max Records Seen Between Resets\": {\"count\": 1, \"max\": 90624, \"sum\": 90624.0, \"min\": 90624}, \"Reset Count\": {\"count\": 1, \"max\": 9, \"sum\": 9.0, \"min\": 9}}, \"EndTime\": 1583533133.304578, \"Dimensions\": {\"Host\": \"algo-1\", \"Meta\": \"training_data_iter\", \"Operation\": \"training\", \"Algorithm\": \"ObjectToVec\", \"epoch\": 8}, \"StartTime\": 1583533127.582268}\n",
      "\u001b[0m\n",
      "\u001b[34m[03/06/2020 22:18:53 INFO 139663432750912] #throughput_metric: host=algo-1, train throughput=15836.5562909 records/second\u001b[0m\n",
      "\u001b[34m[03/06/2020 22:18:53 WARNING 139663432750912] wait_for_all_workers will not sync workers since the kv store is not running distributed\u001b[0m\n",
      "\u001b[34m[03/06/2020 22:18:53 INFO 139663432750912] Best model based on epoch 8. Best loss: 0.928\u001b[0m\n",
      "\u001b[34m#metrics {\"Metrics\": {\"finalize.time\": {\"count\": 1, \"max\": 0.9450912475585938, \"sum\": 0.9450912475585938, \"min\": 0.9450912475585938}}, \"EndTime\": 1583533133.30586, \"Dimensions\": {\"Host\": \"algo-1\", \"Operation\": \"training\", \"Algorithm\": \"ObjectToVec\"}, \"StartTime\": 1583533133.304336}\n",
      "\u001b[0m\n",
      "\u001b[34m[03/06/2020 22:18:53 INFO 139663432750912] Serializing model to /opt/ml/model/model_algo-1\u001b[0m\n",
      "\u001b[34m[03/06/2020 22:18:53 INFO 139663432750912] Saved checkpoint to \"/tmp/tmpUgFOFA/state-0001.params\"\u001b[0m\n",
      "\u001b[34m[03/06/2020 22:18:53 INFO 139663432750912] Test data is not provided.\u001b[0m\n",
      "\u001b[34m#metrics {\"Metrics\": {\"totaltime\": {\"count\": 1, \"max\": 58781.9550037384, \"sum\": 58781.9550037384, \"min\": 58781.9550037384}, \"model.serialize.time\": {\"count\": 1, \"max\": 75.21700859069824, \"sum\": 75.21700859069824, \"min\": 75.21700859069824}, \"setuptime\": {\"count\": 1, \"max\": 270.488977432251, \"sum\": 270.488977432251, \"min\": 270.488977432251}}, \"EndTime\": 1583533133.382476, \"Dimensions\": {\"Host\": \"algo-1\", \"Operation\": \"training\", \"Algorithm\": \"ObjectToVec\"}, \"StartTime\": 1583533133.30591}\n",
      "\u001b[0m\n",
      "\n",
      "2020-03-06 22:19:04 Uploading - Uploading generated training model\n",
      "2020-03-06 22:19:04 Completed - Training job completed\n",
      "Training seconds: 165\n",
      "Billable seconds: 165\n"
     ]
    }
   ],
   "source": [
    "## get estimator\n",
    "regressor = sagemaker.estimator.Estimator(container,\n",
    "                                          role, \n",
    "                                          train_instance_count=1, \n",
    "                                          train_instance_type='ml.p2.xlarge',\n",
    "                                          output_path=output_path,\n",
    "                                          sagemaker_session=sess)\n",
    "\n",
    "## set hyperparameters\n",
    "regressor.set_hyperparameters(**hyperparameters)\n",
    "\n",
    "## train the model\n",
    "regressor.fit(input_paths)"
   ]
  },
  {
   "cell_type": "markdown",
   "metadata": {},
   "source": [
    "We have seen that we can upload train (validation) data through the input data channel, and the algorithm will print out train (validation) evaluation metric during training. In addition, the algorithm uses the validation metric to perform early stopping. \n",
    "\n",
    "What if we want to send additional unlabeled data to the algorithm and get predictions from the trained model?\n",
    "This step is called *inference* in the Sagemaker framework. Next, we demonstrate how to use a trained model to perform inference on unseen data points."
   ]
  },
  {
   "cell_type": "markdown",
   "metadata": {},
   "source": [
    "## Inference using trained model"
   ]
  },
  {
   "cell_type": "markdown",
   "metadata": {},
   "source": [
    "Create and deploy the model"
   ]
  },
  {
   "cell_type": "code",
   "execution_count": null,
   "metadata": {},
   "outputs": [],
   "source": [
    "from sagemaker.predictor import json_serializer, json_deserializer\n",
    "\n",
    "# create a model using the trained algorithm\n",
    "regression_model = regressor.create_model(\n",
    "                        serializer=json_serializer,\n",
    "                        deserializer=json_deserializer,\n",
    "                        content_type='application/json',\n",
    "                        name='ratingModel')"
   ]
  },
  {
   "cell_type": "code",
   "execution_count": null,
   "metadata": {},
   "outputs": [],
   "source": [
    "# deploy the model\n",
    "predictor = regression_model.deploy(initial_instance_count=1, instance_type='ml.m4.xlarge')"
   ]
  },
  {
   "cell_type": "markdown",
   "metadata": {},
   "source": [
    "Below we send validation data (without labels) to the deployed endpoint for inference. We will see that the resulting prediction error we get from post-training inference matches the best validation error from the training log in the console above (up to floating point error). If you follow the training instruction and parameter setup, you should get mean squared error on the validation set approximately 0.91."
   ]
  },
  {
   "cell_type": "code",
   "execution_count": null,
   "metadata": {},
   "outputs": [],
   "source": [
    "# Send data to the endpoint to get predictions\n",
    "prediction = predictor.predict(valid_r_data)\n",
    "\n",
    "print(\"The mean squared error on validation set is %.3f\" %get_mse_loss(prediction, valid_r_label))"
   ]
  },
  {
   "cell_type": "markdown",
   "metadata": {},
   "source": [
    "### Comparison against popular libraries\n",
    "\n",
    "Below we provide a chart that compares the performance of *Object2Vec* against several algorithms implemented by popular recommendation system libraries (LibRec https://www.librec.net/ and scikit-surprise http://surpriselib.com/). The error metric we use in the chart is **root mean squared** (RMSE) instead of MSE, so that our result can be compared against the reported results in the aforementioned libraries."
   ]
  },
  {
   "cell_type": "markdown",
   "metadata": {},
   "source": [
    "<img src=\"images/ml-experiment-plot.png\" width=\"400\">"
   ]
  },
  {
   "cell_type": "markdown",
   "metadata": {},
   "source": [
    "# Recommendation task \n",
    "\n",
    "In this section, we showcase how to use *Object2Vec* to recommend movies, using the binarized rating labels. Here, if a movie rating label for a given user is binarized to `1`, then it means that the movie should be recommended to the user; otherwise, the label is binarized to `0`. The binarized data set is already obtained in the preprocessing section, so we will proceed to apply the algorithm."
   ]
  },
  {
   "cell_type": "code",
   "execution_count": null,
   "metadata": {},
   "outputs": [],
   "source": [
    "## Save training and validation data locally for recommendation (classification) task\n",
    "\n",
    "### binarize the data \n",
    "\n",
    "train_c = cu.get_binarized_label(copy.deepcopy(train_data_list), 3.0)\n",
    "valid_c = cu.get_binarized_label(copy.deepcopy(validation_data_list), 3.0)\n",
    "\n",
    "cu.write_data_list_to_jsonl(train_c, 'train_c.jsonl')\n",
    "cu.write_data_list_to_jsonl(valid_c, 'validation_c.jsonl')"
   ]
  },
  {
   "cell_type": "markdown",
   "metadata": {},
   "source": [
    "**We check whether the two classes are balanced after binarization**"
   ]
  },
  {
   "cell_type": "code",
   "execution_count": null,
   "metadata": {},
   "outputs": [],
   "source": [
    "train_c_label = [row['label'] for row in train_c]\n",
    "valid_c_label = [row['label'] for row in valid_c]\n",
    "\n",
    "print(\"There are {} fraction of positive ratings in train_c.jsonl\".format(\n",
    "                                np.count_nonzero(train_c_label)/len(train_c_label)))\n",
    "print(\"There are {} fraction of positive ratings in validation_c.jsonl\".format(\n",
    "                                np.sum(valid_c_label)/len(valid_c_label)))"
   ]
  },
  {
   "cell_type": "markdown",
   "metadata": {},
   "source": [
    "We upload the binarized datasets for classification task to S3"
   ]
  },
  {
   "cell_type": "code",
   "execution_count": null,
   "metadata": {},
   "outputs": [],
   "source": [
    "for data_name in ['train', 'validation']:\n",
    "    fname = '{}_c.jsonl'.format(data_name)\n",
    "    pre_key = os.path.join(input_prefix, 'recommendation', f\"{data_name}\")\n",
    "    data_path = os.path.join('s3://', bucket, pre_key, fname)\n",
    "    s3_client.upload_file(fname, bucket, os.path.join(pre_key, fname))\n",
    "    input_paths[data_name] = s3_input(data_path, distribution='ShardedByS3Key', content_type='application/jsonlines')\n",
    "    print('Uploaded data to {}'.format(data_path))"
   ]
  },
  {
   "cell_type": "markdown",
   "metadata": {},
   "source": [
    "Since we already get the algorithm image from the regression task, we can directly start training"
   ]
  },
  {
   "cell_type": "code",
   "execution_count": null,
   "metadata": {},
   "outputs": [],
   "source": [
    "from sagemaker.session import s3_input\n",
    "\n",
    "hyperparameters_c = {\n",
    "    \"_kvstore\": \"device\",\n",
    "    \"_num_gpus\": \"auto\",\n",
    "    \"_num_kv_servers\": \"auto\",\n",
    "    \"bucket_width\": 0,\n",
    "    \"early_stopping_patience\": 3, \n",
    "    \"early_stopping_tolerance\": 0.01,\n",
    "    \"enc0_cnn_filter_width\": 3,\n",
    "    \"enc0_layers\": \"auto\",\n",
    "    \"enc0_max_seq_len\": 1,\n",
    "    \"enc0_network\": \"pooled_embedding\",\n",
    "    \"enc0_token_embedding_dim\": 300,\n",
    "    \"enc0_vocab_size\": 944,\n",
    "    \"enc1_cnn_filter_width\": 3,\n",
    "    \"enc1_layers\": \"auto\",\n",
    "    \"enc1_max_seq_len\": 1,\n",
    "    \"enc1_network\": \"pooled_embedding\",\n",
    "    \"enc1_token_embedding_dim\": 300,\n",
    "    \"enc1_vocab_size\": 1684,\n",
    "    \"enc_dim\": 2048,\n",
    "    \"epochs\": 20,\n",
    "    \"learning_rate\": 0.001,\n",
    "    \"mini_batch_size\": 2048,\n",
    "    \"mlp_activation\": \"relu\",\n",
    "    \"mlp_dim\": 1024,\n",
    "    \"mlp_layers\": 1,\n",
    "    \"num_classes\": 2,\n",
    "    \"optimizer\": \"adam\",\n",
    "    \"output_layer\": \"softmax\"\n",
    "}"
   ]
  },
  {
   "cell_type": "code",
   "execution_count": null,
   "metadata": {},
   "outputs": [],
   "source": [
    "## get estimator\n",
    "classifier = sagemaker.estimator.Estimator(container,\n",
    "                                    role, \n",
    "                                    train_instance_count=1, \n",
    "                                    train_instance_type='ml.p2.xlarge',\n",
    "                                    output_path=output_path,\n",
    "                                    sagemaker_session=sess)\n",
    "\n",
    "## set hyperparameters\n",
    "classifier.set_hyperparameters(**hyperparameters_c)\n",
    "\n",
    "## train, tune, and test the model\n",
    "classifier.fit(input_paths)"
   ]
  },
  {
   "cell_type": "markdown",
   "metadata": {},
   "source": [
    "Again, we can create, deploy, and validate the model after training"
   ]
  },
  {
   "cell_type": "code",
   "execution_count": null,
   "metadata": {},
   "outputs": [],
   "source": [
    "classification_model = classifier.create_model(\n",
    "                        serializer=json_serializer,\n",
    "                        deserializer=json_deserializer,\n",
    "                        content_type='application/json',\n",
    "                        name='recommendationModel')\n",
    "\n",
    "predictor_2 = classification_model.deploy(initial_instance_count=1, instance_type='ml.m4.xlarge')"
   ]
  },
  {
   "cell_type": "code",
   "execution_count": null,
   "metadata": {},
   "outputs": [],
   "source": [
    "valid_c_data, valid_c_label = cu.data_list_to_inference_format(copy.deepcopy(validation_data_list), \n",
    "                                                            label_thres=3, binarize=True)\n",
    "predictions = predictor_2.predict(valid_c_data)"
   ]
  },
  {
   "cell_type": "code",
   "execution_count": null,
   "metadata": {},
   "outputs": [],
   "source": [
    "\n",
    "print(\"The accuracy on the binarized validation set is %.3f\" %cu.get_class_accuracy(predictions, valid_c_label, 0.5))"
   ]
  },
  {
   "cell_type": "markdown",
   "metadata": {},
   "source": [
    "The accuracy on validation set you would get should be approximately 0.704."
   ]
  },
  {
   "cell_type": "markdown",
   "metadata": {},
   "source": [
    "### Run the following deletion code after finishing the labs."
   ]
  },
  {
   "cell_type": "code",
   "execution_count": null,
   "metadata": {},
   "outputs": [],
   "source": [
    "## clean up\n",
    "sess.delete_endpoint(predictor.endpoint)\n",
    "sess.delete_endpoint(predictor_2.endpoint)"
   ]
  }
 ],
 "metadata": {
  "kernelspec": {
   "display_name": "conda_python3",
   "language": "python",
   "name": "conda_python3"
  },
  "language_info": {
   "codemirror_mode": {
    "name": "ipython",
    "version": 3
   },
   "file_extension": ".py",
   "mimetype": "text/x-python",
   "name": "python",
   "nbconvert_exporter": "python",
   "pygments_lexer": "ipython3",
   "version": "3.6.5"
  }
 },
 "nbformat": 4,
 "nbformat_minor": 4
}
