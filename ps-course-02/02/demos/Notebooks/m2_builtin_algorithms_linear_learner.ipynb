{
 "cells": [
  {
   "cell_type": "markdown",
   "metadata": {
    "collapsed": true
   },
   "source": [
    "# Linear Learner with the MNIST dataset \n",
    "## _**Binary Classifier to check if number is 3 or not.**_"
   ]
  },
  {
   "cell_type": "markdown",
   "metadata": {},
   "source": [
    "### Import packages \n",
    "* io -  module provides the Python interfaces to stream handling.\n",
    "* os -  provides a portable way of using operating system dependent functionality."
   ]
  },
  {
   "cell_type": "code",
   "execution_count": 29,
   "metadata": {
    "collapsed": true
   },
   "outputs": [],
   "source": [
    "import io\n",
    "import os"
   ]
  },
  {
   "cell_type": "markdown",
   "metadata": {
    "collapsed": true
   },
   "source": [
    "### Importing some standard python packages \n",
    "* gzip   - module provides a simple interface to compress and decompress files\n",
    "* pickle - module implements an algorithm for serializing and de-serializing a Python object structure.\n",
    "* numpy  - package for scientific computing with Python.\n",
    "* pandas - module for data manipulation and analysis.\n",
    "* urllib.request    - module defines functions and classes for opening URLs.\n",
    "* matplotlib.pyplot - Provides a MATLAB-like plotting framework."
   ]
  },
  {
   "cell_type": "code",
   "execution_count": 30,
   "metadata": {
    "collapsed": true
   },
   "outputs": [],
   "source": [
    "import gzip\n",
    "import pickle\n",
    "import numpy as np\n",
    "import pandas as pd\n",
    "import urllib.request\n",
    "\n",
    "import matplotlib.pyplot as plt\n",
    "%matplotlib inline"
   ]
  },
  {
   "cell_type": "markdown",
   "metadata": {},
   "source": [
    "### Importing amazon packages\n",
    "* boto3 - The AWS SDK for Python to write software that uses Amazon services like S3 and EC2.\n",
    "* sagemaker - Python SDK for training and deploying machine learning models on Amazon SageMaker.\n",
    "* sagemaker.amazon.common - includes high-level Python library functions to convert the training data\n",
    "* get_execution_role - Return the role ARN whose credentials are used to call the API.\n",
    "* csv_serializer - Defines behavior for serialization of input data.\n",
    "* json_deserializer - Defines behavior for deserialization of result data."
   ]
  },
  {
   "cell_type": "code",
   "execution_count": 31,
   "metadata": {
    "collapsed": true
   },
   "outputs": [],
   "source": [
    "import boto3 \n",
    "import sagemaker\n",
    "import sagemaker.amazon.common as smac\n",
    "from sagemaker import get_execution_role\n",
    "from sagemaker.predictor import csv_serializer, json_deserializer"
   ]
  },
  {
   "cell_type": "markdown",
   "metadata": {
    "collapsed": true
   },
   "source": [
    "## Get the pickled MNIST dataset. \n",
    "* Check if the dataset exists on the machine on which the instance runs\n",
    "* If not, download it from the url specified."
   ]
  },
  {
   "cell_type": "code",
   "execution_count": 4,
   "metadata": {
    "collapsed": true
   },
   "outputs": [],
   "source": [
    "DOWNLOADED_FILENAME = 'mnist.pkl.gz'"
   ]
  },
  {
   "cell_type": "code",
   "execution_count": 5,
   "metadata": {
    "collapsed": true
   },
   "outputs": [],
   "source": [
    "if not os.path.exists(DOWNLOADED_FILENAME):\n",
    "    urllib.request.urlretrieve(\"http://deeplearning.net/data/mnist/mnist.pkl.gz\", DOWNLOADED_FILENAME)"
   ]
  },
  {
   "cell_type": "markdown",
   "metadata": {},
   "source": [
    "## Preprocessing and splitting the dataset \n",
    "\n",
    "* The pickled file represents a tuple of 3 lists : **(training set, validation set, test set)**\n",
    "* Each of the three lists is a tuple: **(list of images, list of class labels)**\n",
    "* Image: Numpy 1-dimensional array of 784 (28 x 28) float values between 0 and 1\n",
    "* Labels: Numbers between 0 and 9 indicating which digit the image represents"
   ]
  },
  {
   "cell_type": "code",
   "execution_count": 10,
   "metadata": {
    "collapsed": true
   },
   "outputs": [],
   "source": [
    "with gzip.open('mnist.pkl.gz', 'rb') as f:\n",
    "    train_set, valid_set, test_set = pickle.load(f, encoding='latin1')"
   ]
  },
  {
   "cell_type": "markdown",
   "metadata": {},
   "source": [
    "### Inspecting the data\n",
    "* Inspect the length and shape of the three tuples and numpy arrays\n",
    "* The tuples contain images and respective labels\n",
    "* Plot an image and inspect its label "
   ]
  },
  {
   "cell_type": "code",
   "execution_count": 12,
   "metadata": {},
   "outputs": [
    {
     "data": {
      "text/plain": [
       "tuple"
      ]
     },
     "execution_count": 12,
     "metadata": {},
     "output_type": "execute_result"
    }
   ],
   "source": [
    "type(train_set)"
   ]
  },
  {
   "cell_type": "code",
   "execution_count": 13,
   "metadata": {},
   "outputs": [
    {
     "name": "stdout",
     "output_type": "stream",
     "text": [
      "2\n"
     ]
    }
   ],
   "source": [
    "print(len(train_set))"
   ]
  },
  {
   "cell_type": "code",
   "execution_count": 9,
   "metadata": {},
   "outputs": [
    {
     "data": {
      "text/plain": [
       "(50000, 784)"
      ]
     },
     "execution_count": 9,
     "metadata": {},
     "output_type": "execute_result"
    }
   ],
   "source": [
    "train_set[0].shape"
   ]
  },
  {
   "cell_type": "code",
   "execution_count": 16,
   "metadata": {},
   "outputs": [
    {
     "data": {
      "text/plain": [
       "(50000,)"
      ]
     },
     "execution_count": 16,
     "metadata": {},
     "output_type": "execute_result"
    }
   ],
   "source": [
    "train_set[1].shape"
   ]
  },
  {
   "cell_type": "code",
   "execution_count": 17,
   "metadata": {},
   "outputs": [
    {
     "data": {
      "text/plain": [
       "50000"
      ]
     },
     "execution_count": 17,
     "metadata": {},
     "output_type": "execute_result"
    }
   ],
   "source": [
    "len(train_set[1])"
   ]
  },
  {
   "cell_type": "code",
   "execution_count": 18,
   "metadata": {},
   "outputs": [
    {
     "data": {
      "text/plain": [
       "array([5, 0, 4, ..., 8, 4, 8])"
      ]
     },
     "execution_count": 18,
     "metadata": {},
     "output_type": "execute_result"
    }
   ],
   "source": [
    "train_set[1]"
   ]
  },
  {
   "cell_type": "code",
   "execution_count": 20,
   "metadata": {},
   "outputs": [
    {
     "name": "stdout",
     "output_type": "stream",
     "text": [
      "(50000, 784)\n",
      "(10000, 784)\n",
      "(10000, 784)\n"
     ]
    }
   ],
   "source": [
    "print(train_set[0].shape)\n",
    "print(valid_set[0].shape)\n",
    "print(test_set[0].shape)"
   ]
  },
  {
   "cell_type": "code",
   "execution_count": 21,
   "metadata": {},
   "outputs": [
    {
     "data": {
      "image/png": "[encoded data removed]",
      "text/plain": [
       "<matplotlib.figure.Figure at 0x7f8d09ac6cf8>"
      ]
     },
     "metadata": {},
     "output_type": "display_data"
    }
   ],
   "source": [
    "def show_digit(img, caption =''):\n",
    "    plt.rcParams[\"figure.figsize\"] = (2,10)\n",
    "    plt.imshow(img.reshape(28,28), cmap=\"Greys\",  interpolation='nearest')\n",
    "    plt.title(caption)\n",
    "    \n",
    "show_digit(train_set[0][30],'This is a {}'.format(train_set[1][30]))"
   ]
  },
  {
   "cell_type": "markdown",
   "metadata": {},
   "source": [
    "### Preprocessing the data\n",
    "* Amazon SageMaker implementation of Linear Learner only takes recordIO-wrapped protobuf\n",
    "* Define arrays to store image vectors and labels in float format"
   ]
  },
  {
   "cell_type": "code",
   "execution_count": 22,
   "metadata": {},
   "outputs": [
    {
     "data": {
      "text/plain": [
       "(50000, 784)"
      ]
     },
     "execution_count": 22,
     "metadata": {},
     "output_type": "execute_result"
    }
   ],
   "source": [
    "vectors = np.array(train_set[0]).astype('float32')\n",
    "vectors.shape"
   ]
  },
  {
   "cell_type": "markdown",
   "metadata": {},
   "source": [
    "#### If a label matches 3, redefine it as 1 and all other labels as 0. "
   ]
  },
  {
   "cell_type": "code",
   "execution_count": 23,
   "metadata": {},
   "outputs": [
    {
     "data": {
      "text/plain": [
       "(50000,)"
      ]
     },
     "execution_count": 23,
     "metadata": {},
     "output_type": "execute_result"
    }
   ],
   "source": [
    "#Storing the labels in the form numpy array with data as type as float32.\n",
    "labels = np.where(train_set[1] == 3, 1, 0).astype('float32')\n",
    "labels.shape"
   ]
  },
  {
   "cell_type": "code",
   "execution_count": 25,
   "metadata": {},
   "outputs": [
    {
     "data": {
      "text/plain": [
       "array([ 0.,  0.,  0.,  0.,  0.,  0.,  0.,  1.,  0.,  0.,  1.,  0.,  1.,\n",
       "        0.,  0.,  0.,  0.,  0.,  0.,  0.], dtype=float32)"
      ]
     },
     "execution_count": 25,
     "metadata": {},
     "output_type": "execute_result"
    }
   ],
   "source": [
    "labels[:20]"
   ]
  },
  {
   "cell_type": "markdown",
   "metadata": {},
   "source": [
    "### Converting input data to recordIO-wrapped protobuf\n",
    "* creating IOBuffer to write the data in memory buffer and store on the tensor\n",
    "* invoke method to convert the training data into the protobuf format\n",
    "* move to the start of the buffer"
   ]
  },
  {
   "cell_type": "code",
   "execution_count": 32,
   "metadata": {
    "collapsed": true
   },
   "outputs": [],
   "source": [
    "buf = io.BytesIO()"
   ]
  },
  {
   "cell_type": "code",
   "execution_count": 33,
   "metadata": {
    "collapsed": true
   },
   "outputs": [],
   "source": [
    "smac.write_numpy_to_dense_tensor(buf, vectors, labels)"
   ]
  },
  {
   "cell_type": "code",
   "execution_count": 34,
   "metadata": {},
   "outputs": [
    {
     "data": {
      "text/plain": [
       "0"
      ]
     },
     "execution_count": 34,
     "metadata": {},
     "output_type": "execute_result"
    }
   ],
   "source": [
    "buf.seek(0)"
   ]
  },
  {
   "cell_type": "markdown",
   "metadata": {},
   "source": [
    "## Move the training data and labels to S3 bucket\n",
    "\n",
    "* Construct bucket path by specifying bucket name and prefix\n",
    "* Define a key, the object reference to the unique identifier within a bucket\n",
    "* Create bucket resource and upload buffer\n",
    "* Set up path where output of our model is stored"
   ]
  },
  {
   "cell_type": "code",
   "execution_count": 35,
   "metadata": {
    "collapsed": true
   },
   "outputs": [],
   "source": [
    "bucket = 'loonybucket'  \n",
    "prefix = 'sagemaker/linear-mnist'  "
   ]
  },
  {
   "cell_type": "code",
   "execution_count": 36,
   "metadata": {
    "collapsed": true
   },
   "outputs": [],
   "source": [
    "key = 'recordio-pb-data'"
   ]
  },
  {
   "cell_type": "code",
   "execution_count": 37,
   "metadata": {
    "collapsed": true
   },
   "outputs": [],
   "source": [
    "resource= boto3.resource('s3')"
   ]
  },
  {
   "cell_type": "code",
   "execution_count": 38,
   "metadata": {
    "collapsed": true
   },
   "outputs": [],
   "source": [
    "bucket_obj=resource.Bucket(bucket)"
   ]
  },
  {
   "cell_type": "code",
   "execution_count": 39,
   "metadata": {
    "collapsed": true
   },
   "outputs": [],
   "source": [
    "object_res=bucket_obj.Object(os.path.join(prefix, 'train', key))"
   ]
  },
  {
   "cell_type": "code",
   "execution_count": 40,
   "metadata": {},
   "outputs": [
    {
     "name": "stdout",
     "output_type": "stream",
     "text": [
      "Uploaded training data location: s3://loonybucket/sagemaker/linear-mnist/train/recordio-pb-data\n"
     ]
    }
   ],
   "source": [
    "train_data_loc = 's3://{}/{}/train/{}'.format(bucket, prefix, key)\n",
    "print('Uploaded training data location: {}'.format(train_data_loc))"
   ]
  },
  {
   "cell_type": "code",
   "execution_count": 41,
   "metadata": {
    "collapsed": true
   },
   "outputs": [],
   "source": [
    "object_res.upload_fileobj(buf)"
   ]
  },
  {
   "cell_type": "code",
   "execution_count": 42,
   "metadata": {},
   "outputs": [
    {
     "name": "stdout",
     "output_type": "stream",
     "text": [
      "Training artifacts will be uploaded to: s3://loonybucket/sagemaker/linear-mnist/output\n"
     ]
    }
   ],
   "source": [
    "output_location = 's3://{}/{}/output'.format(bucket, prefix)\n",
    "print('Training artifacts will be uploaded to: {}'.format(output_location))"
   ]
  },
  {
   "cell_type": "markdown",
   "metadata": {},
   "source": [
    "## Specifying the Algorithm\n",
    "\n",
    "* Get the region of the current notebook instance\n",
    "* Built-in algorithms are specified in containers. Specify the algorithm container to be used. \n",
    "* Instantiate a session to access sagemaker.\n",
    "* Get the role ARN whose credentials are used to call the API to instantiate the estimator\n",
    "* Initialize an Estimator instance and specify the container, role, instance count and type, output location and session"
   ]
  },
  {
   "cell_type": "code",
   "execution_count": 43,
   "metadata": {},
   "outputs": [
    {
     "data": {
      "text/plain": [
       "'us-east-2'"
      ]
     },
     "execution_count": 43,
     "metadata": {},
     "output_type": "execute_result"
    }
   ],
   "source": [
    "region = boto3.Session().region_name\n",
    "region"
   ]
  },
  {
   "cell_type": "code",
   "execution_count": 44,
   "metadata": {
    "collapsed": true
   },
   "outputs": [],
   "source": [
    "containers = {'us-west-2': '174872318107.dkr.ecr.us-west-2.amazonaws.com/linear-learner:latest',\n",
    "              'us-east-1': '382416733822.dkr.ecr.us-east-1.amazonaws.com/linear-learner:latest',\n",
    "              'us-east-2': '404615174143.dkr.ecr.us-east-2.amazonaws.com/linear-learner:latest',\n",
    "              'eu-west-1': '438346466558.dkr.ecr.eu-west-1.amazonaws.com/linear-learner:latest'}\n",
    "container = containers[region]"
   ]
  },
  {
   "cell_type": "code",
   "execution_count": 45,
   "metadata": {
    "collapsed": true
   },
   "outputs": [],
   "source": [
    "sess = sagemaker.Session()"
   ]
  },
  {
   "cell_type": "code",
   "execution_count": 46,
   "metadata": {},
   "outputs": [
    {
     "data": {
      "text/plain": [
       "'arn:aws:iam::324118574079:role/service-role/AmazonSageMaker-ExecutionRole-20180209T192191'"
      ]
     },
     "execution_count": 46,
     "metadata": {},
     "output_type": "execute_result"
    }
   ],
   "source": [
    "role = get_execution_role()\n",
    "role"
   ]
  },
  {
   "cell_type": "code",
   "execution_count": 47,
   "metadata": {
    "collapsed": true
   },
   "outputs": [],
   "source": [
    "linear = sagemaker.estimator.Estimator(container,\n",
    "                                       role, \n",
    "                                       train_instance_count=1, \n",
    "                                       train_instance_type='ml.c4.xlarge',\n",
    "                                       output_path=output_location,\n",
    "                                       sagemaker_session=sess)"
   ]
  },
  {
   "cell_type": "markdown",
   "metadata": {},
   "source": [
    "### Tuning parameters for the performace.\n",
    "* Images are in the dimensions of 28 X 28 = 784.\n",
    "* Predictor type is binary classifier. Other accepted value is regressor.\n",
    "* Set the batch size"
   ]
  },
  {
   "cell_type": "code",
   "execution_count": 48,
   "metadata": {
    "collapsed": true
   },
   "outputs": [],
   "source": [
    "linear.set_hyperparameters(feature_dim=784,\n",
    "                           predictor_type='binary_classifier',\n",
    "                           mini_batch_size=200)"
   ]
  },
  {
   "cell_type": "markdown",
   "metadata": {},
   "source": [
    "## Training and hosting the Model \n",
    "* Train a model using the input training dataset.The fit API calls the Amazon SageMaker CreateTrainingJob API to start model training. The API uses configuration you provided to create the estimator and the specified input training data to send the CreatingTrainingJob request to Amazon SageMaker.This is a synchronous operation. \n",
    "\n",
    "* After the model training successfully completes, call the deploy() method to host the model using the Amazon SageMaker hosting services.\n",
    "* Initialize a predictor object to make prediction requests to an Amazon SageMaker endpoint."
   ]
  },
  {
   "cell_type": "code",
   "execution_count": 49,
   "metadata": {},
   "outputs": [
    {
     "name": "stderr",
     "output_type": "stream",
     "text": [
      "INFO:sagemaker:Creating training-job with name: linear-learner-2018-03-08-11-04-25-096\n"
     ]
    },
    {
     "name": "stdout",
     "output_type": "stream",
     "text": [
      ".....................................................................\n",
      "\u001b[31mDocker entrypoint called with argument(s): train\u001b[0m\n",
      "\u001b[31m[03/08/2018 11:10:01 INFO 139650080663360] Reading default configuration from /opt/amazon/lib/python2.7/site-packages/algorithm/default-input.json: {u'epochs': u'10', u'init_bias': u'0.0', u'lr_scheduler_factor': u'0.99', u'num_calibration_samples': u'10000000', u'_num_kv_servers': u'auto', u'use_bias': u'true', u'num_point_for_scaler': u'10000', u'_log_level': u'info', u'bias_lr_mult': u'10', u'lr_scheduler_step': u'100', u'init_method': u'uniform', u'init_sigma': u'0.01', u'lr_scheduler_minimum_lr': u'0.00001', u'target_recall': u'0.8', u'num_models': u'32', u'early_stopping_patience': u'3', u'momentum': u'0.0', u'unbias_label': u'auto', u'wd': u'0.0', u'optimizer': u'adam', u'early_stopping_tolerance': u'0.001', u'learning_rate': u'auto', u'_kvstore': u'auto', u'normalize_data': u'true', u'binary_classifier_model_selection_criteria': u'accuracy', u'use_lr_scheduler': u'true', u'target_precision': u'0.8', u'force_dense': u'true', u'unbias_data': u'auto', u'init_scale': u'0.07', u'bias_wd_mult': u'0', u'mini_batch_size': u'1000', u'beta_1': u'0.9', u'loss': u'auto', u'beta_2': u'0.999', u'normalize_label': u'auto', u'_num_gpus': u'auto', u'_data_format': u'record', u'positive_example_weight_mult': u'1.0', u'l1': u'0.0'}\u001b[0m\n",
      "\u001b[31m[03/08/2018 11:10:01 INFO 139650080663360] Reading provided configuration from /opt/ml/input/config/hyperparameters.json: {u'feature_dim': u'784', u'mini_batch_size': u'200', u'predictor_type': u'binary_classifier'}\u001b[0m\n",
      "\u001b[31m[03/08/2018 11:10:01 INFO 139650080663360] Final configuration: {u'epochs': u'10', u'feature_dim': u'784', u'init_bias': u'0.0', u'lr_scheduler_factor': u'0.99', u'num_calibration_samples': u'10000000', u'_num_kv_servers': u'auto', u'use_bias': u'true', u'num_point_for_scaler': u'10000', u'_log_level': u'info', u'bias_lr_mult': u'10', u'lr_scheduler_step': u'100', u'init_method': u'uniform', u'init_sigma': u'0.01', u'lr_scheduler_minimum_lr': u'0.00001', u'target_recall': u'0.8', u'num_models': u'32', u'early_stopping_patience': u'3', u'momentum': u'0.0', u'unbias_label': u'auto', u'wd': u'0.0', u'optimizer': u'adam', u'early_stopping_tolerance': u'0.001', u'learning_rate': u'auto', u'_kvstore': u'auto', u'normalize_data': u'true', u'binary_classifier_model_selection_criteria': u'accuracy', u'use_lr_scheduler': u'true', u'target_precision': u'0.8', u'force_dense': u'true', u'unbias_data': u'auto', u'init_scale': u'0.07', u'bias_wd_mult': u'0', u'mini_batch_size': u'200', u'beta_1': u'0.9', u'loss': u'auto', u'beta_2': u'0.999', u'predictor_type': u'binary_classifier', u'normalize_label': u'auto', u'_num_gpus': u'auto', u'_data_format': u'record', u'positive_example_weight_mult': u'1.0', u'l1': u'0.0'}\u001b[0m\n",
      "\u001b[31m[03/08/2018 11:10:01 WARNING 139650080663360] Loggers have already been setup.\u001b[0m\n",
      "\u001b[31m[03/08/2018 11:10:01 INFO 139650080663360] Using default worker.\u001b[0m\n",
      "\u001b[31m[03/08/2018 11:10:01 INFO 139650080663360] Loaded iterator creator application/x-recordio-protobuf for content type ('application/x-recordio-protobuf', '1.0')\u001b[0m\n",
      "\u001b[31m[03/08/2018 11:10:01 INFO 139650080663360] Create Store: local\u001b[0m\n",
      "\u001b[31m[03/08/2018 11:10:01 WARNING 139650080663360] wait_for_all_workers will not sync workers since the kv store is not running distributed\u001b[0m\n",
      "\u001b[31m[03/08/2018 11:10:01 INFO 139650080663360] nvidia-smi took: 0.025171995163 secs to identify 0 gpus\u001b[0m\n",
      "\u001b[31m[03/08/2018 11:10:01 INFO 139650080663360] Number of GPUs being used: 0\u001b[0m\n",
      "\u001b[31m#metrics {\"Metrics\": {\"Max Batches Seen Between Resets\": {\"count\": 1, \"max\": 51, \"sum\": 51.0, \"min\": 51}, \"Number of Batches Since Last Reset\": {\"count\": 1, \"max\": 0, \"sum\": 0.0, \"min\": 0}, \"Number of Records Since Last Reset\": {\"count\": 1, \"max\": 0, \"sum\": 0.0, \"min\": 0}, \"Total Batches Seen\": {\"count\": 1, \"max\": 52, \"sum\": 52.0, \"min\": 52}, \"Total Records Seen\": {\"count\": 1, \"max\": 10400, \"sum\": 10400.0, \"min\": 10400}, \"Max Records Seen Between Resets\": {\"count\": 1, \"max\": 10200, \"sum\": 10200.0, \"min\": 10200}, \"Reset Count\": {\"count\": 1, \"max\": 2, \"sum\": 2.0, \"min\": 2}}, \"EndTime\": 1520507402.013971, \"Dimensions\": {\"Host\": \"algo-1\", \"Meta\": \"init_train_data_iter\", \"Operation\": \"training\", \"Algorithm\": \"Linear Learner\"}, \"StartTime\": 1520507402.013941}\n",
      "\u001b[0m\n",
      "\u001b[31m#metrics {\"Metrics\": {\"training_binary_classification_cross_entropy\": {\"count\": 1, \"max\": 0.19161118818283082, \"sum\": 0.19161118818283082, \"min\": 0.19161118818283082}, \"validation_binary_classification_cross_entropy\": {\"count\": 1, \"max\": -Infinity, \"sum\": NaN, \"min\": Infinity}}, \"EndTime\": 1520507408.81471, \"Dimensions\": {\"model\": 0, \"Host\": \"algo-1\", \"Operation\": \"training\", \"Algorithm\": \"Linear Learner\", \"epoch\": 1}, \"StartTime\": 1520507408.814627}\n",
      "\u001b[0m\n",
      "\u001b[31m#metrics {\"Metrics\": {\"training_binary_classification_cross_entropy\": {\"count\": 1, \"max\": 0.18694493951797486, \"sum\": 0.18694493951797486, \"min\": 0.18694493951797486}, \"validation_binary_classification_cross_entropy\": {\"count\": 1, \"max\": -Infinity, \"sum\": NaN, \"min\": Infinity}}, \"EndTime\": 1520507408.814789, \"Dimensions\": {\"model\": 1, \"Host\": \"algo-1\", \"Operation\": \"training\", \"Algorithm\": \"Linear Learner\", \"epoch\": 1}, \"StartTime\": 1520507408.814773}\n",
      "\u001b[0m\n",
      "\u001b[31m#metrics {\"Metrics\": {\"training_binary_classification_cross_entropy\": {\"count\": 1, \"max\": 0.19651571786880492, \"sum\": 0.19651571786880492, \"min\": 0.19651571786880492}, \"validation_binary_classification_cross_entropy\": {\"count\": 1, \"max\": -Infinity, \"sum\": NaN, \"min\": Infinity}}, \"EndTime\": 1520507408.814858, \"Dimensions\": {\"model\": 2, \"Host\": \"algo-1\", \"Operation\": \"training\", \"Algorithm\": \"Linear Learner\", \"epoch\": 1}, \"StartTime\": 1520507408.814838}\n",
      "\u001b[0m\n",
      "\u001b[31m#metrics {\"Metrics\": {\"training_binary_classification_cross_entropy\": {\"count\": 1, \"max\": 0.18941398199081422, \"sum\": 0.18941398199081422, \"min\": 0.18941398199081422}, \"validation_binary_classification_cross_entropy\": {\"count\": 1, \"max\": -Infinity, \"sum\": NaN, \"min\": Infinity}}, \"EndTime\": 1520507408.814917, \"Dimensions\": {\"model\": 3, \"Host\": \"algo-1\", \"Operation\": \"training\", \"Algorithm\": \"Linear Learner\", \"epoch\": 1}, \"StartTime\": 1520507408.814897}\n",
      "\u001b[0m\n",
      "\u001b[31m#metrics {\"Metrics\": {\"training_binary_classification_cross_entropy\": {\"count\": 1, \"max\": 0.3281262235832214, \"sum\": 0.3281262235832214, \"min\": 0.3281262235832214}, \"validation_binary_classification_cross_entropy\": {\"count\": 1, \"max\": -Infinity, \"sum\": NaN, \"min\": Infinity}}, \"EndTime\": 1520507408.814969, \"Dimensions\": {\"model\": 4, \"Host\": \"algo-1\", \"Operation\": \"training\", \"Algorithm\": \"Linear Learner\", \"epoch\": 1}, \"StartTime\": 1520507408.81495}\n",
      "\u001b[0m\n",
      "\u001b[31m#metrics {\"Metrics\": {\"training_binary_classification_cross_entropy\": {\"count\": 1, \"max\": 0.3312694663143158, \"sum\": 0.3312694663143158, \"min\": 0.3312694663143158}, \"validation_binary_classification_cross_entropy\": {\"count\": 1, \"max\": -Infinity, \"sum\": NaN, \"min\": Infinity}}, \"EndTime\": 1520507408.815036, \"Dimensions\": {\"model\": 5, \"Host\": \"algo-1\", \"Operation\": \"training\", \"Algorithm\": \"Linear Learner\", \"epoch\": 1}, \"StartTime\": 1520507408.815016}\n",
      "\u001b[0m\n",
      "\u001b[31m#metrics {\"Metrics\": {\"training_binary_classification_cross_entropy\": {\"count\": 1, \"max\": 0.32371176354408265, \"sum\": 0.32371176354408265, \"min\": 0.32371176354408265}, \"validation_binary_classification_cross_entropy\": {\"count\": 1, \"max\": -Infinity, \"sum\": NaN, \"min\": Infinity}}, \"EndTime\": 1520507408.815098, \"Dimensions\": {\"model\": 6, \"Host\": \"algo-1\", \"Operation\": \"training\", \"Algorithm\": \"Linear Learner\", \"epoch\": 1}, \"StartTime\": 1520507408.815078}\n",
      "\u001b[0m\n",
      "\u001b[31m#metrics {\"Metrics\": {\"training_binary_classification_cross_entropy\": {\"count\": 1, \"max\": 0.3315824611377716, \"sum\": 0.3315824611377716, \"min\": 0.3315824611377716}, \"validation_binary_classification_cross_entropy\": {\"count\": 1, \"max\": -Infinity, \"sum\": NaN, \"min\": Infinity}}, \"EndTime\": 1520507408.815152, \"Dimensions\": {\"model\": 7, \"Host\": \"algo-1\", \"Operation\": \"training\", \"Algorithm\": \"Linear Learner\", \"epoch\": 1}, \"StartTime\": 1520507408.815133}\n",
      "\u001b[0m\n",
      "\u001b[31m#metrics {\"Metrics\": {\"training_binary_classification_cross_entropy\": {\"count\": 1, \"max\": 0.18596098917007448, \"sum\": 0.18596098917007448, \"min\": 0.18596098917007448}, \"validation_binary_classification_cross_entropy\": {\"count\": 1, \"max\": -Infinity, \"sum\": NaN, \"min\": Infinity}}, \"EndTime\": 1520507408.815204, \"Dimensions\": {\"model\": 8, \"Host\": \"algo-1\", \"Operation\": \"training\", \"Algorithm\": \"Linear Learner\", \"epoch\": 1}, \"StartTime\": 1520507408.815185}\n",
      "\u001b[0m\n",
      "\u001b[31m#metrics {\"Metrics\": {\"training_binary_classification_cross_entropy\": {\"count\": 1, \"max\": 0.1798103388595581, \"sum\": 0.1798103388595581, \"min\": 0.1798103388595581}, \"validation_binary_classification_cross_entropy\": {\"count\": 1, \"max\": -Infinity, \"sum\": NaN, \"min\": Infinity}}, \"EndTime\": 1520507408.815266, \"Dimensions\": {\"model\": 9, \"Host\": \"algo-1\", \"Operation\": \"training\", \"Algorithm\": \"Linear Learner\", \"epoch\": 1}, \"StartTime\": 1520507408.815248}\n",
      "\u001b[0m\n",
      "\u001b[31m#metrics {\"Metrics\": {\"training_binary_classification_cross_entropy\": {\"count\": 1, \"max\": 0.18387125122070314, \"sum\": 0.18387125122070314, \"min\": 0.18387125122070314}, \"validation_binary_classification_cross_entropy\": {\"count\": 1, \"max\": -Infinity, \"sum\": NaN, \"min\": Infinity}}, \"EndTime\": 1520507408.815335, \"Dimensions\": {\"model\": 10, \"Host\": \"algo-1\", \"Operation\": \"training\", \"Algorithm\": \"Linear Learner\", \"epoch\": 1}, \"StartTime\": 1520507408.815315}\n",
      "\u001b[0m\n",
      "\u001b[31m#metrics {\"Metrics\": {\"training_binary_classification_cross_entropy\": {\"count\": 1, \"max\": 0.18383632593154908, \"sum\": 0.18383632593154908, \"min\": 0.18383632593154908}, \"validation_binary_classification_cross_entropy\": {\"count\": 1, \"max\": -Infinity, \"sum\": NaN, \"min\": Infinity}}, \"EndTime\": 1520507408.815398, \"Dimensions\": {\"model\": 11, \"Host\": \"algo-1\", \"Operation\": \"training\", \"Algorithm\": \"Linear Learner\", \"epoch\": 1}, \"StartTime\": 1520507408.815377}\n",
      "\u001b[0m\n",
      "\u001b[31m#metrics {\"Metrics\": {\"training_binary_classification_cross_entropy\": {\"count\": 1, \"max\": 0.31251291073322296, \"sum\": 0.31251291073322296, \"min\": 0.31251291073322296}, \"validation_binary_classification_cross_entropy\": {\"count\": 1, \"max\": -Infinity, \"sum\": NaN, \"min\": Infinity}}, \"EndTime\": 1520507408.815468, \"Dimensions\": {\"model\": 12, \"Host\": \"algo-1\", \"Operation\": \"training\", \"Algorithm\": \"Linear Learner\", \"epoch\": 1}, \"StartTime\": 1520507408.815447}\n",
      "\u001b[0m\n",
      "\u001b[31m#metrics {\"Metrics\": {\"training_binary_classification_cross_entropy\": {\"count\": 1, \"max\": 0.31783805080890654, \"sum\": 0.31783805080890654, \"min\": 0.31783805080890654}, \"validation_binary_classification_cross_entropy\": {\"count\": 1, \"max\": -Infinity, \"sum\": NaN, \"min\": Infinity}}, \"EndTime\": 1520507408.815539, \"Dimensions\": {\"model\": 13, \"Host\": \"algo-1\", \"Operation\": \"training\", \"Algorithm\": \"Linear Learner\", \"epoch\": 1}, \"StartTime\": 1520507408.815518}\n",
      "\u001b[0m\n",
      "\u001b[31m#metrics {\"Metrics\": {\"training_binary_classification_cross_entropy\": {\"count\": 1, \"max\": 0.29953233486175534, \"sum\": 0.29953233486175534, \"min\": 0.29953233486175534}, \"validation_binary_classification_cross_entropy\": {\"count\": 1, \"max\": -Infinity, \"sum\": NaN, \"min\": Infinity}}, \"EndTime\": 1520507408.815606, \"Dimensions\": {\"model\": 14, \"Host\": \"algo-1\", \"Operation\": \"training\", \"Algorithm\": \"Linear Learner\", \"epoch\": 1}, \"StartTime\": 1520507408.815586}\n",
      "\u001b[0m\n",
      "\u001b[31m#metrics {\"Metrics\": {\"training_binary_classification_cross_entropy\": {\"count\": 1, \"max\": 0.3304906762075424, \"sum\": 0.3304906762075424, \"min\": 0.3304906762075424}, \"validation_binary_classification_cross_entropy\": {\"count\": 1, \"max\": -Infinity, \"sum\": NaN, \"min\": Infinity}}, \"EndTime\": 1520507408.81568, \"Dimensions\": {\"model\": 15, \"Host\": \"algo-1\", \"Operation\": \"training\", \"Algorithm\": \"Linear Learner\", \"epoch\": 1}, \"StartTime\": 1520507408.815659}\n",
      "\u001b[0m\n",
      "\u001b[31m#metrics {\"Metrics\": {\"training_binary_classification_cross_entropy\": {\"count\": 1, \"max\": 0.20945425453186034, \"sum\": 0.20945425453186034, \"min\": 0.20945425453186034}, \"validation_binary_classification_cross_entropy\": {\"count\": 1, \"max\": -Infinity, \"sum\": NaN, \"min\": Infinity}}, \"EndTime\": 1520507408.81575, \"Dimensions\": {\"model\": 16, \"Host\": \"algo-1\", \"Operation\": \"training\", \"Algorithm\": \"Linear Learner\", \"epoch\": 1}, \"StartTime\": 1520507408.81573}\n",
      "\u001b[0m\n",
      "\u001b[31m#metrics {\"Metrics\": {\"training_binary_classification_cross_entropy\": {\"count\": 1, \"max\": 0.20809615283966065, \"sum\": 0.20809615283966065, \"min\": 0.20809615283966065}, \"validation_binary_classification_cross_entropy\": {\"count\": 1, \"max\": -Infinity, \"sum\": NaN, \"min\": Infinity}}, \"EndTime\": 1520507408.815841, \"Dimensions\": {\"model\": 17, \"Host\": \"algo-1\", \"Operation\": \"training\", \"Algorithm\": \"Linear Learner\", \"epoch\": 1}, \"StartTime\": 1520507408.815819}\n",
      "\u001b[0m\n",
      "\u001b[31m#metrics {\"Metrics\": {\"training_binary_classification_cross_entropy\": {\"count\": 1, \"max\": 0.20838165451049806, \"sum\": 0.20838165451049806, \"min\": 0.20838165451049806}, \"validation_binary_classification_cross_entropy\": {\"count\": 1, \"max\": -Infinity, \"sum\": NaN, \"min\": Infinity}}, \"EndTime\": 1520507408.815911, \"Dimensions\": {\"model\": 18, \"Host\": \"algo-1\", \"Operation\": \"training\", \"Algorithm\": \"Linear Learner\", \"epoch\": 1}, \"StartTime\": 1520507408.815891}\n",
      "\u001b[0m\n",
      "\u001b[31m#metrics {\"Metrics\": {\"training_binary_classification_cross_entropy\": {\"count\": 1, \"max\": 0.2090717943572998, \"sum\": 0.2090717943572998, \"min\": 0.2090717943572998}, \"validation_binary_classification_cross_entropy\": {\"count\": 1, \"max\": -Infinity, \"sum\": NaN, \"min\": Infinity}}, \"EndTime\": 1520507408.81598, \"Dimensions\": {\"model\": 19, \"Host\": \"algo-1\", \"Operation\": \"training\", \"Algorithm\": \"Linear Learner\", \"epoch\": 1}, \"StartTime\": 1520507408.815961}\n",
      "\u001b[0m\n",
      "\u001b[31m#metrics {\"Metrics\": {\"training_binary_classification_cross_entropy\": {\"count\": 1, \"max\": 0.22790312461853027, \"sum\": 0.22790312461853027, \"min\": 0.22790312461853027}, \"validation_binary_classification_cross_entropy\": {\"count\": 1, \"max\": -Infinity, \"sum\": NaN, \"min\": Infinity}}, \"EndTime\": 1520507408.816044, \"Dimensions\": {\"model\": 20, \"Host\": \"algo-1\", \"Operation\": \"training\", \"Algorithm\": \"Linear Learner\", \"epoch\": 1}, \"StartTime\": 1520507408.816023}\n",
      "\u001b[0m\n",
      "\u001b[31m#metrics {\"Metrics\": {\"training_binary_classification_cross_entropy\": {\"count\": 1, \"max\": 0.23158665756225585, \"sum\": 0.23158665756225585, \"min\": 0.23158665756225585}, \"validation_binary_classification_cross_entropy\": {\"count\": 1, \"max\": -Infinity, \"sum\": NaN, \"min\": Infinity}}, \"EndTime\": 1520507408.816105, \"Dimensions\": {\"model\": 21, \"Host\": \"algo-1\", \"Operation\": \"training\", \"Algorithm\": \"Linear Learner\", \"epoch\": 1}, \"StartTime\": 1520507408.816086}\n",
      "\u001b[0m\n",
      "\u001b[31m#metrics {\"Metrics\": {\"training_binary_classification_cross_entropy\": {\"count\": 1, \"max\": 0.2288388847351074, \"sum\": 0.2288388847351074, \"min\": 0.2288388847351074}, \"validation_binary_classification_cross_entropy\": {\"count\": 1, \"max\": -Infinity, \"sum\": NaN, \"min\": Infinity}}, \"EndTime\": 1520507408.816154, \"Dimensions\": {\"model\": 22, \"Host\": \"algo-1\", \"Operation\": \"training\", \"Algorithm\": \"Linear Learner\", \"epoch\": 1}, \"StartTime\": 1520507408.816136}\n",
      "\u001b[0m\n",
      "\u001b[31m#metrics {\"Metrics\": {\"training_binary_classification_cross_entropy\": {\"count\": 1, \"max\": 0.23473799884796143, \"sum\": 0.23473799884796143, \"min\": 0.23473799884796143}, \"validation_binary_classification_cross_entropy\": {\"count\": 1, \"max\": -Infinity, \"sum\": NaN, \"min\": Infinity}}, \"EndTime\": 1520507408.816224, \"Dimensions\": {\"model\": 23, \"Host\": \"algo-1\", \"Operation\": \"training\", \"Algorithm\": \"Linear Learner\", \"epoch\": 1}, \"StartTime\": 1520507408.816202}\n",
      "\u001b[0m\n",
      "\u001b[31m#metrics {\"Metrics\": {\"training_binary_classification_cross_entropy\": {\"count\": 1, \"max\": 0.3470549629211426, \"sum\": 0.3470549629211426, \"min\": 0.3470549629211426}, \"validation_binary_classification_cross_entropy\": {\"count\": 1, \"max\": -Infinity, \"sum\": NaN, \"min\": Infinity}}, \"EndTime\": 1520507408.816297, \"Dimensions\": {\"model\": 24, \"Host\": \"algo-1\", \"Operation\": \"training\", \"Algorithm\": \"Linear Learner\", \"epoch\": 1}, \"StartTime\": 1520507408.816276}\n",
      "\u001b[0m\n",
      "\u001b[31m#metrics {\"Metrics\": {\"training_binary_classification_cross_entropy\": {\"count\": 1, \"max\": 0.34611249366760255, \"sum\": 0.34611249366760255, \"min\": 0.34611249366760255}, \"validation_binary_classification_cross_entropy\": {\"count\": 1, \"max\": -Infinity, \"sum\": NaN, \"min\": Infinity}}, \"EndTime\": 1520507408.816367, \"Dimensions\": {\"model\": 25, \"Host\": \"algo-1\", \"Operation\": \"training\", \"Algorithm\": \"Linear Learner\", \"epoch\": 1}, \"StartTime\": 1520507408.816346}\n",
      "\u001b[0m\n",
      "\u001b[31m#metrics {\"Metrics\": {\"training_binary_classification_cross_entropy\": {\"count\": 1, \"max\": 0.3455180044555664, \"sum\": 0.3455180044555664, \"min\": 0.3455180044555664}, \"validation_binary_classification_cross_entropy\": {\"count\": 1, \"max\": -Infinity, \"sum\": NaN, \"min\": Infinity}}, \"EndTime\": 1520507408.816439, \"Dimensions\": {\"model\": 26, \"Host\": \"algo-1\", \"Operation\": \"training\", \"Algorithm\": \"Linear Learner\", \"epoch\": 1}, \"StartTime\": 1520507408.816418}\n",
      "\u001b[0m\n",
      "\u001b[31m#metrics {\"Metrics\": {\"training_binary_classification_cross_entropy\": {\"count\": 1, \"max\": 0.34700455459594726, \"sum\": 0.34700455459594726, \"min\": 0.34700455459594726}, \"validation_binary_classification_cross_entropy\": {\"count\": 1, \"max\": -Infinity, \"sum\": NaN, \"min\": Infinity}}, \"EndTime\": 1520507408.816508, \"Dimensions\": {\"model\": 27, \"Host\": \"algo-1\", \"Operation\": \"training\", \"Algorithm\": \"Linear Learner\", \"epoch\": 1}, \"StartTime\": 1520507408.816488}\n",
      "\u001b[0m\n",
      "\u001b[31m#metrics {\"Metrics\": {\"training_binary_classification_cross_entropy\": {\"count\": 1, \"max\": 0.3336235955810547, \"sum\": 0.3336235955810547, \"min\": 0.3336235955810547}, \"validation_binary_classification_cross_entropy\": {\"count\": 1, \"max\": -Infinity, \"sum\": NaN, \"min\": Infinity}}, \"EndTime\": 1520507408.816566, \"Dimensions\": {\"model\": 28, \"Host\": \"algo-1\", \"Operation\": \"training\", \"Algorithm\": \"Linear Learner\", \"epoch\": 1}, \"StartTime\": 1520507408.816551}\n",
      "\u001b[0m\n",
      "\u001b[31m#metrics {\"Metrics\": {\"training_binary_classification_cross_entropy\": {\"count\": 1, \"max\": 0.3359369156646729, \"sum\": 0.3359369156646729, \"min\": 0.3359369156646729}, \"validation_binary_classification_cross_entropy\": {\"count\": 1, \"max\": -Infinity, \"sum\": NaN, \"min\": Infinity}}, \"EndTime\": 1520507408.8166, \"Dimensions\": {\"model\": 29, \"Host\": \"algo-1\", \"Operation\": \"training\", \"Algorithm\": \"Linear Learner\", \"epoch\": 1}, \"StartTime\": 1520507408.81659}\n",
      "\u001b[0m\n",
      "\u001b[31m#metrics {\"Metrics\": {\"training_binary_classification_cross_entropy\": {\"count\": 1, \"max\": 0.33524003570556643, \"sum\": 0.33524003570556643, \"min\": 0.33524003570556643}, \"validation_binary_classification_cross_entropy\": {\"count\": 1, \"max\": -Infinity, \"sum\": NaN, \"min\": Infinity}}, \"EndTime\": 1520507408.816636, \"Dimensions\": {\"model\": 30, \"Host\": \"algo-1\", \"Operation\": \"training\", \"Algorithm\": \"Linear Learner\", \"epoch\": 1}, \"StartTime\": 1520507408.81662}\n",
      "\u001b[0m\n",
      "\u001b[31m#metrics {\"Metrics\": {\"training_binary_classification_cross_entropy\": {\"count\": 1, \"max\": 0.3348203285217285, \"sum\": 0.3348203285217285, \"min\": 0.3348203285217285}, \"validation_binary_classification_cross_entropy\": {\"count\": 1, \"max\": -Infinity, \"sum\": NaN, \"min\": Infinity}}, \"EndTime\": 1520507408.816682, \"Dimensions\": {\"model\": 31, \"Host\": \"algo-1\", \"Operation\": \"training\", \"Algorithm\": \"Linear Learner\", \"epoch\": 1}, \"StartTime\": 1520507408.816668}\n",
      "\u001b[0m\n",
      "\u001b[31m[03/08/2018 11:10:08 INFO 139650080663360] Epoch 1: Loss improved.  Updating best model\u001b[0m\n",
      "\u001b[31m#metrics {\"Metrics\": {\"Max Batches Seen Between Resets\": {\"count\": 1, \"max\": 250, \"sum\": 250.0, \"min\": 250}, \"Number of Batches Since Last Reset\": {\"count\": 1, \"max\": 250, \"sum\": 250.0, \"min\": 250}, \"Number of Records Since Last Reset\": {\"count\": 1, \"max\": 50000, \"sum\": 50000.0, \"min\": 50000}, \"Total Batches Seen\": {\"count\": 1, \"max\": 302, \"sum\": 302.0, \"min\": 302}, \"Total Records Seen\": {\"count\": 1, \"max\": 60400, \"sum\": 60400.0, \"min\": 60400}, \"Max Records Seen Between Resets\": {\"count\": 1, \"max\": 50000, \"sum\": 50000.0, \"min\": 50000}, \"Reset Count\": {\"count\": 1, \"max\": 3, \"sum\": 3.0, \"min\": 3}}, \"EndTime\": 1520507408.81765, \"Dimensions\": {\"Host\": \"algo-1\", \"Meta\": \"training_data_iter\", \"Operation\": \"training\", \"Algorithm\": \"Linear Learner\", \"epoch\": 0}, \"StartTime\": 1520507408.817621}\n",
      "\u001b[0m\n"
     ]
    },
    {
     "name": "stdout",
     "output_type": "stream",
     "text": [
      "\u001b[31m#metrics {\"Metrics\": {\"training_binary_classification_cross_entropy\": {\"count\": 1, \"max\": 0.09646111627578735, \"sum\": 0.09646111627578735, \"min\": 0.09646111627578735}, \"validation_binary_classification_cross_entropy\": {\"count\": 1, \"max\": -Infinity, \"sum\": NaN, \"min\": Infinity}}, \"EndTime\": 1520507415.341246, \"Dimensions\": {\"model\": 0, \"Host\": \"algo-1\", \"Operation\": \"training\", \"Algorithm\": \"Linear Learner\", \"epoch\": 2}, \"StartTime\": 1520507415.341172}\n",
      "\u001b[0m\n",
      "\u001b[31m#metrics {\"Metrics\": {\"training_binary_classification_cross_entropy\": {\"count\": 1, \"max\": 0.09569513759613037, \"sum\": 0.09569513759613037, \"min\": 0.09569513759613037}, \"validation_binary_classification_cross_entropy\": {\"count\": 1, \"max\": -Infinity, \"sum\": NaN, \"min\": Infinity}}, \"EndTime\": 1520507415.341322, \"Dimensions\": {\"model\": 1, \"Host\": \"algo-1\", \"Operation\": \"training\", \"Algorithm\": \"Linear Learner\", \"epoch\": 2}, \"StartTime\": 1520507415.341306}\n",
      "\u001b[0m\n",
      "\u001b[31m#metrics {\"Metrics\": {\"training_binary_classification_cross_entropy\": {\"count\": 1, \"max\": 0.09657997903823852, \"sum\": 0.09657997903823852, \"min\": 0.09657997903823852}, \"validation_binary_classification_cross_entropy\": {\"count\": 1, \"max\": -Infinity, \"sum\": NaN, \"min\": Infinity}}, \"EndTime\": 1520507415.341408, \"Dimensions\": {\"model\": 2, \"Host\": \"algo-1\", \"Operation\": \"training\", \"Algorithm\": \"Linear Learner\", \"epoch\": 2}, \"StartTime\": 1520507415.341368}\n",
      "\u001b[0m\n",
      "\u001b[31m#metrics {\"Metrics\": {\"training_binary_classification_cross_entropy\": {\"count\": 1, \"max\": 0.09643596515655517, \"sum\": 0.09643596515655517, \"min\": 0.09643596515655517}, \"validation_binary_classification_cross_entropy\": {\"count\": 1, \"max\": -Infinity, \"sum\": NaN, \"min\": Infinity}}, \"EndTime\": 1520507415.341462, \"Dimensions\": {\"model\": 3, \"Host\": \"algo-1\", \"Operation\": \"training\", \"Algorithm\": \"Linear Learner\", \"epoch\": 2}, \"StartTime\": 1520507415.341445}\n",
      "\u001b[0m\n",
      "\u001b[31m#metrics {\"Metrics\": {\"training_binary_classification_cross_entropy\": {\"count\": 1, \"max\": 0.2455395299744606, \"sum\": 0.2455395299744606, \"min\": 0.2455395299744606}, \"validation_binary_classification_cross_entropy\": {\"count\": 1, \"max\": -Infinity, \"sum\": NaN, \"min\": Infinity}}, \"EndTime\": 1520507415.341521, \"Dimensions\": {\"model\": 4, \"Host\": \"algo-1\", \"Operation\": \"training\", \"Algorithm\": \"Linear Learner\", \"epoch\": 2}, \"StartTime\": 1520507415.3415}\n",
      "\u001b[0m\n",
      "\u001b[31m#metrics {\"Metrics\": {\"training_binary_classification_cross_entropy\": {\"count\": 1, \"max\": 0.3100266162824631, \"sum\": 0.3100266162824631, \"min\": 0.3100266162824631}, \"validation_binary_classification_cross_entropy\": {\"count\": 1, \"max\": -Infinity, \"sum\": NaN, \"min\": Infinity}}, \"EndTime\": 1520507415.341595, \"Dimensions\": {\"model\": 5, \"Host\": \"algo-1\", \"Operation\": \"training\", \"Algorithm\": \"Linear Learner\", \"epoch\": 2}, \"StartTime\": 1520507415.341575}\n",
      "\u001b[0m\n",
      "\u001b[31m#metrics {\"Metrics\": {\"training_binary_classification_cross_entropy\": {\"count\": 1, \"max\": 0.2558353227210045, \"sum\": 0.2558353227210045, \"min\": 0.2558353227210045}, \"validation_binary_classification_cross_entropy\": {\"count\": 1, \"max\": -Infinity, \"sum\": NaN, \"min\": Infinity}}, \"EndTime\": 1520507415.341662, \"Dimensions\": {\"model\": 6, \"Host\": \"algo-1\", \"Operation\": \"training\", \"Algorithm\": \"Linear Learner\", \"epoch\": 2}, \"StartTime\": 1520507415.341641}\n",
      "\u001b[0m\n",
      "\u001b[31m#metrics {\"Metrics\": {\"training_binary_classification_cross_entropy\": {\"count\": 1, \"max\": 0.31080160106658933, \"sum\": 0.31080160106658933, \"min\": 0.31080160106658933}, \"validation_binary_classification_cross_entropy\": {\"count\": 1, \"max\": -Infinity, \"sum\": NaN, \"min\": Infinity}}, \"EndTime\": 1520507415.341736, \"Dimensions\": {\"model\": 7, \"Host\": \"algo-1\", \"Operation\": \"training\", \"Algorithm\": \"Linear Learner\", \"epoch\": 2}, \"StartTime\": 1520507415.341706}\n",
      "\u001b[0m\n",
      "\u001b[31m#metrics {\"Metrics\": {\"training_binary_classification_cross_entropy\": {\"count\": 1, \"max\": 0.09644889492034912, \"sum\": 0.09644889492034912, \"min\": 0.09644889492034912}, \"validation_binary_classification_cross_entropy\": {\"count\": 1, \"max\": -Infinity, \"sum\": NaN, \"min\": Infinity}}, \"EndTime\": 1520507415.341802, \"Dimensions\": {\"model\": 8, \"Host\": \"algo-1\", \"Operation\": \"training\", \"Algorithm\": \"Linear Learner\", \"epoch\": 2}, \"StartTime\": 1520507415.341782}\n",
      "\u001b[0m\n",
      "\u001b[31m#metrics {\"Metrics\": {\"training_binary_classification_cross_entropy\": {\"count\": 1, \"max\": 0.09603337505340576, \"sum\": 0.09603337505340576, \"min\": 0.09603337505340576}, \"validation_binary_classification_cross_entropy\": {\"count\": 1, \"max\": -Infinity, \"sum\": NaN, \"min\": Infinity}}, \"EndTime\": 1520507415.341869, \"Dimensions\": {\"model\": 9, \"Host\": \"algo-1\", \"Operation\": \"training\", \"Algorithm\": \"Linear Learner\", \"epoch\": 2}, \"StartTime\": 1520507415.341848}\n",
      "\u001b[0m\n",
      "\u001b[31m#metrics {\"Metrics\": {\"training_binary_classification_cross_entropy\": {\"count\": 1, \"max\": 0.09633557626724243, \"sum\": 0.09633557626724243, \"min\": 0.09633557626724243}, \"validation_binary_classification_cross_entropy\": {\"count\": 1, \"max\": -Infinity, \"sum\": NaN, \"min\": Infinity}}, \"EndTime\": 1520507415.341944, \"Dimensions\": {\"model\": 10, \"Host\": \"algo-1\", \"Operation\": \"training\", \"Algorithm\": \"Linear Learner\", \"epoch\": 2}, \"StartTime\": 1520507415.341924}\n",
      "\u001b[0m\n",
      "\u001b[31m#metrics {\"Metrics\": {\"training_binary_classification_cross_entropy\": {\"count\": 1, \"max\": 0.09584274292945862, \"sum\": 0.09584274292945862, \"min\": 0.09584274292945862}, \"validation_binary_classification_cross_entropy\": {\"count\": 1, \"max\": -Infinity, \"sum\": NaN, \"min\": Infinity}}, \"EndTime\": 1520507415.342007, \"Dimensions\": {\"model\": 11, \"Host\": \"algo-1\", \"Operation\": \"training\", \"Algorithm\": \"Linear Learner\", \"epoch\": 2}, \"StartTime\": 1520507415.341988}\n",
      "\u001b[0m\n",
      "\u001b[31m#metrics {\"Metrics\": {\"training_binary_classification_cross_entropy\": {\"count\": 1, \"max\": 0.23077402092933655, \"sum\": 0.23077402092933655, \"min\": 0.23077402092933655}, \"validation_binary_classification_cross_entropy\": {\"count\": 1, \"max\": -Infinity, \"sum\": NaN, \"min\": Infinity}}, \"EndTime\": 1520507415.342071, \"Dimensions\": {\"model\": 12, \"Host\": \"algo-1\", \"Operation\": \"training\", \"Algorithm\": \"Linear Learner\", \"epoch\": 2}, \"StartTime\": 1520507415.342051}\n",
      "\u001b[0m\n",
      "\u001b[31m#metrics {\"Metrics\": {\"training_binary_classification_cross_entropy\": {\"count\": 1, \"max\": 0.27907868923187257, \"sum\": 0.27907868923187257, \"min\": 0.27907868923187257}, \"validation_binary_classification_cross_entropy\": {\"count\": 1, \"max\": -Infinity, \"sum\": NaN, \"min\": Infinity}}, \"EndTime\": 1520507415.342136, \"Dimensions\": {\"model\": 13, \"Host\": \"algo-1\", \"Operation\": \"training\", \"Algorithm\": \"Linear Learner\", \"epoch\": 2}, \"StartTime\": 1520507415.342116}\n",
      "\u001b[0m\n",
      "\u001b[31m#metrics {\"Metrics\": {\"training_binary_classification_cross_entropy\": {\"count\": 1, \"max\": 0.2269996008014679, \"sum\": 0.2269996008014679, \"min\": 0.2269996008014679}, \"validation_binary_classification_cross_entropy\": {\"count\": 1, \"max\": -Infinity, \"sum\": NaN, \"min\": Infinity}}, \"EndTime\": 1520507415.342202, \"Dimensions\": {\"model\": 14, \"Host\": \"algo-1\", \"Operation\": \"training\", \"Algorithm\": \"Linear Learner\", \"epoch\": 2}, \"StartTime\": 1520507415.342182}\n",
      "\u001b[0m\n",
      "\u001b[31m#metrics {\"Metrics\": {\"training_binary_classification_cross_entropy\": {\"count\": 1, \"max\": 0.2906877766609192, \"sum\": 0.2906877766609192, \"min\": 0.2906877766609192}, \"validation_binary_classification_cross_entropy\": {\"count\": 1, \"max\": -Infinity, \"sum\": NaN, \"min\": Infinity}}, \"EndTime\": 1520507415.342255, \"Dimensions\": {\"model\": 15, \"Host\": \"algo-1\", \"Operation\": \"training\", \"Algorithm\": \"Linear Learner\", \"epoch\": 2}, \"StartTime\": 1520507415.342235}\n",
      "\u001b[0m\n",
      "\u001b[31m#metrics {\"Metrics\": {\"training_binary_classification_cross_entropy\": {\"count\": 1, \"max\": 0.16500559658050537, \"sum\": 0.16500559658050537, \"min\": 0.16500559658050537}, \"validation_binary_classification_cross_entropy\": {\"count\": 1, \"max\": -Infinity, \"sum\": NaN, \"min\": Infinity}}, \"EndTime\": 1520507415.342307, \"Dimensions\": {\"model\": 16, \"Host\": \"algo-1\", \"Operation\": \"training\", \"Algorithm\": \"Linear Learner\", \"epoch\": 2}, \"StartTime\": 1520507415.342287}\n",
      "\u001b[0m\n",
      "\u001b[31m#metrics {\"Metrics\": {\"training_binary_classification_cross_entropy\": {\"count\": 1, \"max\": 0.16600389904022217, \"sum\": 0.16600389904022217, \"min\": 0.16600389904022217}, \"validation_binary_classification_cross_entropy\": {\"count\": 1, \"max\": -Infinity, \"sum\": NaN, \"min\": Infinity}}, \"EndTime\": 1520507415.342366, \"Dimensions\": {\"model\": 17, \"Host\": \"algo-1\", \"Operation\": \"training\", \"Algorithm\": \"Linear Learner\", \"epoch\": 2}, \"StartTime\": 1520507415.342347}\n",
      "\u001b[0m\n",
      "\u001b[31m#metrics {\"Metrics\": {\"training_binary_classification_cross_entropy\": {\"count\": 1, \"max\": 0.16504126445770265, \"sum\": 0.16504126445770265, \"min\": 0.16504126445770265}, \"validation_binary_classification_cross_entropy\": {\"count\": 1, \"max\": -Infinity, \"sum\": NaN, \"min\": Infinity}}, \"EndTime\": 1520507415.342431, \"Dimensions\": {\"model\": 18, \"Host\": \"algo-1\", \"Operation\": \"training\", \"Algorithm\": \"Linear Learner\", \"epoch\": 2}, \"StartTime\": 1520507415.342412}\n",
      "\u001b[0m\n",
      "\u001b[31m#metrics {\"Metrics\": {\"training_binary_classification_cross_entropy\": {\"count\": 1, \"max\": 0.16584099102020264, \"sum\": 0.16584099102020264, \"min\": 0.16584099102020264}, \"validation_binary_classification_cross_entropy\": {\"count\": 1, \"max\": -Infinity, \"sum\": NaN, \"min\": Infinity}}, \"EndTime\": 1520507415.342499, \"Dimensions\": {\"model\": 19, \"Host\": \"algo-1\", \"Operation\": \"training\", \"Algorithm\": \"Linear Learner\", \"epoch\": 2}, \"StartTime\": 1520507415.342479}\n",
      "\u001b[0m\n",
      "\u001b[31m#metrics {\"Metrics\": {\"training_binary_classification_cross_entropy\": {\"count\": 1, \"max\": 0.19564047676086427, \"sum\": 0.19564047676086427, \"min\": 0.19564047676086427}, \"validation_binary_classification_cross_entropy\": {\"count\": 1, \"max\": -Infinity, \"sum\": NaN, \"min\": Infinity}}, \"EndTime\": 1520507415.342569, \"Dimensions\": {\"model\": 20, \"Host\": \"algo-1\", \"Operation\": \"training\", \"Algorithm\": \"Linear Learner\", \"epoch\": 2}, \"StartTime\": 1520507415.342549}\n",
      "\u001b[0m\n",
      "\u001b[31m#metrics {\"Metrics\": {\"training_binary_classification_cross_entropy\": {\"count\": 1, \"max\": 0.21597870239257813, \"sum\": 0.21597870239257813, \"min\": 0.21597870239257813}, \"validation_binary_classification_cross_entropy\": {\"count\": 1, \"max\": -Infinity, \"sum\": NaN, \"min\": Infinity}}, \"EndTime\": 1520507415.342624, \"Dimensions\": {\"model\": 21, \"Host\": \"algo-1\", \"Operation\": \"training\", \"Algorithm\": \"Linear Learner\", \"epoch\": 2}, \"StartTime\": 1520507415.342605}\n",
      "\u001b[0m\n",
      "\u001b[31m#metrics {\"Metrics\": {\"training_binary_classification_cross_entropy\": {\"count\": 1, \"max\": 0.19745751266479492, \"sum\": 0.19745751266479492, \"min\": 0.19745751266479492}, \"validation_binary_classification_cross_entropy\": {\"count\": 1, \"max\": -Infinity, \"sum\": NaN, \"min\": Infinity}}, \"EndTime\": 1520507415.34269, \"Dimensions\": {\"model\": 22, \"Host\": \"algo-1\", \"Operation\": \"training\", \"Algorithm\": \"Linear Learner\", \"epoch\": 2}, \"StartTime\": 1520507415.34267}\n",
      "\u001b[0m\n",
      "\u001b[31m#metrics {\"Metrics\": {\"training_binary_classification_cross_entropy\": {\"count\": 1, \"max\": 0.21744918533325194, \"sum\": 0.21744918533325194, \"min\": 0.21744918533325194}, \"validation_binary_classification_cross_entropy\": {\"count\": 1, \"max\": -Infinity, \"sum\": NaN, \"min\": Infinity}}, \"EndTime\": 1520507415.342757, \"Dimensions\": {\"model\": 23, \"Host\": \"algo-1\", \"Operation\": \"training\", \"Algorithm\": \"Linear Learner\", \"epoch\": 2}, \"StartTime\": 1520507415.342736}\n",
      "\u001b[0m\n",
      "\u001b[31m#metrics {\"Metrics\": {\"training_binary_classification_cross_entropy\": {\"count\": 1, \"max\": 0.3220455300140381, \"sum\": 0.3220455300140381, \"min\": 0.3220455300140381}, \"validation_binary_classification_cross_entropy\": {\"count\": 1, \"max\": -Infinity, \"sum\": NaN, \"min\": Infinity}}, \"EndTime\": 1520507415.342822, \"Dimensions\": {\"model\": 24, \"Host\": \"algo-1\", \"Operation\": \"training\", \"Algorithm\": \"Linear Learner\", \"epoch\": 2}, \"StartTime\": 1520507415.342802}\n",
      "\u001b[0m\n",
      "\u001b[31m#metrics {\"Metrics\": {\"training_binary_classification_cross_entropy\": {\"count\": 1, \"max\": 0.32202838890075686, \"sum\": 0.32202838890075686, \"min\": 0.32202838890075686}, \"validation_binary_classification_cross_entropy\": {\"count\": 1, \"max\": -Infinity, \"sum\": NaN, \"min\": Infinity}}, \"EndTime\": 1520507415.342884, \"Dimensions\": {\"model\": 25, \"Host\": \"algo-1\", \"Operation\": \"training\", \"Algorithm\": \"Linear Learner\", \"epoch\": 2}, \"StartTime\": 1520507415.342868}\n",
      "\u001b[0m\n",
      "\u001b[31m#metrics {\"Metrics\": {\"training_binary_classification_cross_entropy\": {\"count\": 1, \"max\": 0.3220706317138672, \"sum\": 0.3220706317138672, \"min\": 0.3220706317138672}, \"validation_binary_classification_cross_entropy\": {\"count\": 1, \"max\": -Infinity, \"sum\": NaN, \"min\": Infinity}}, \"EndTime\": 1520507415.342933, \"Dimensions\": {\"model\": 26, \"Host\": \"algo-1\", \"Operation\": \"training\", \"Algorithm\": \"Linear Learner\", \"epoch\": 2}, \"StartTime\": 1520507415.342918}\n",
      "\u001b[0m\n",
      "\u001b[31m#metrics {\"Metrics\": {\"training_binary_classification_cross_entropy\": {\"count\": 1, \"max\": 0.3220748748779297, \"sum\": 0.3220748748779297, \"min\": 0.3220748748779297}, \"validation_binary_classification_cross_entropy\": {\"count\": 1, \"max\": -Infinity, \"sum\": NaN, \"min\": Infinity}}, \"EndTime\": 1520507415.342981, \"Dimensions\": {\"model\": 27, \"Host\": \"algo-1\", \"Operation\": \"training\", \"Algorithm\": \"Linear Learner\", \"epoch\": 2}, \"StartTime\": 1520507415.342965}\n",
      "\u001b[0m\n",
      "\u001b[31m#metrics {\"Metrics\": {\"training_binary_classification_cross_entropy\": {\"count\": 1, \"max\": 0.3242503500366211, \"sum\": 0.3242503500366211, \"min\": 0.3242503500366211}, \"validation_binary_classification_cross_entropy\": {\"count\": 1, \"max\": -Infinity, \"sum\": NaN, \"min\": Infinity}}, \"EndTime\": 1520507415.343047, \"Dimensions\": {\"model\": 28, \"Host\": \"algo-1\", \"Operation\": \"training\", \"Algorithm\": \"Linear Learner\", \"epoch\": 2}, \"StartTime\": 1520507415.343026}\n",
      "\u001b[0m\n",
      "\u001b[31m#metrics {\"Metrics\": {\"training_binary_classification_cross_entropy\": {\"count\": 1, \"max\": 0.32472467666625976, \"sum\": 0.32472467666625976, \"min\": 0.32472467666625976}, \"validation_binary_classification_cross_entropy\": {\"count\": 1, \"max\": -Infinity, \"sum\": NaN, \"min\": Infinity}}, \"EndTime\": 1520507415.343112, \"Dimensions\": {\"model\": 29, \"Host\": \"algo-1\", \"Operation\": \"training\", \"Algorithm\": \"Linear Learner\", \"epoch\": 2}, \"StartTime\": 1520507415.343092}\n",
      "\u001b[0m\n",
      "\u001b[31m#metrics {\"Metrics\": {\"training_binary_classification_cross_entropy\": {\"count\": 1, \"max\": 0.32420438064575197, \"sum\": 0.32420438064575197, \"min\": 0.32420438064575197}, \"validation_binary_classification_cross_entropy\": {\"count\": 1, \"max\": -Infinity, \"sum\": NaN, \"min\": Infinity}}, \"EndTime\": 1520507415.343176, \"Dimensions\": {\"model\": 30, \"Host\": \"algo-1\", \"Operation\": \"training\", \"Algorithm\": \"Linear Learner\", \"epoch\": 2}, \"StartTime\": 1520507415.343156}\n",
      "\u001b[0m\n",
      "\u001b[31m#metrics {\"Metrics\": {\"training_binary_classification_cross_entropy\": {\"count\": 1, \"max\": 0.324645246963501, \"sum\": 0.324645246963501, \"min\": 0.324645246963501}, \"validation_binary_classification_cross_entropy\": {\"count\": 1, \"max\": -Infinity, \"sum\": NaN, \"min\": Infinity}}, \"EndTime\": 1520507415.343241, \"Dimensions\": {\"model\": 31, \"Host\": \"algo-1\", \"Operation\": \"training\", \"Algorithm\": \"Linear Learner\", \"epoch\": 2}, \"StartTime\": 1520507415.343221}\n",
      "\u001b[0m\n",
      "\u001b[31m[03/08/2018 11:10:15 INFO 139650080663360] Epoch 2: Loss improved.  Updating best model\u001b[0m\n",
      "\u001b[31m#metrics {\"Metrics\": {\"Max Batches Seen Between Resets\": {\"count\": 1, \"max\": 250, \"sum\": 250.0, \"min\": 250}, \"Number of Batches Since Last Reset\": {\"count\": 1, \"max\": 250, \"sum\": 250.0, \"min\": 250}, \"Number of Records Since Last Reset\": {\"count\": 1, \"max\": 50000, \"sum\": 50000.0, \"min\": 50000}, \"Total Batches Seen\": {\"count\": 1, \"max\": 552, \"sum\": 552.0, \"min\": 552}, \"Total Records Seen\": {\"count\": 1, \"max\": 110400, \"sum\": 110400.0, \"min\": 110400}, \"Max Records Seen Between Resets\": {\"count\": 1, \"max\": 50000, \"sum\": 50000.0, \"min\": 50000}, \"Reset Count\": {\"count\": 1, \"max\": 4, \"sum\": 4.0, \"min\": 4}}, \"EndTime\": 1520507415.344153, \"Dimensions\": {\"Host\": \"algo-1\", \"Meta\": \"training_data_iter\", \"Operation\": \"training\", \"Algorithm\": \"Linear Learner\", \"epoch\": 1}, \"StartTime\": 1520507415.344122}\n",
      "\u001b[0m\n"
     ]
    },
    {
     "name": "stdout",
     "output_type": "stream",
     "text": [
      "\u001b[31m#metrics {\"Metrics\": {\"training_binary_classification_cross_entropy\": {\"count\": 1, \"max\": 0.08908711588859558, \"sum\": 0.08908711588859558, \"min\": 0.08908711588859558}, \"validation_binary_classification_cross_entropy\": {\"count\": 1, \"max\": -Infinity, \"sum\": NaN, \"min\": Infinity}}, \"EndTime\": 1520507421.974529, \"Dimensions\": {\"model\": 0, \"Host\": \"algo-1\", \"Operation\": \"training\", \"Algorithm\": \"Linear Learner\", \"epoch\": 3}, \"StartTime\": 1520507421.974454}\n",
      "\u001b[0m\n",
      "\u001b[31m#metrics {\"Metrics\": {\"training_binary_classification_cross_entropy\": {\"count\": 1, \"max\": 0.08985158941268921, \"sum\": 0.08985158941268921, \"min\": 0.08985158941268921}, \"validation_binary_classification_cross_entropy\": {\"count\": 1, \"max\": -Infinity, \"sum\": NaN, \"min\": Infinity}}, \"EndTime\": 1520507421.974605, \"Dimensions\": {\"model\": 1, \"Host\": \"algo-1\", \"Operation\": \"training\", \"Algorithm\": \"Linear Learner\", \"epoch\": 3}, \"StartTime\": 1520507421.97459}\n",
      "\u001b[0m\n",
      "\u001b[31m#metrics {\"Metrics\": {\"training_binary_classification_cross_entropy\": {\"count\": 1, \"max\": 0.08942786509513855, \"sum\": 0.08942786509513855, \"min\": 0.08942786509513855}, \"validation_binary_classification_cross_entropy\": {\"count\": 1, \"max\": -Infinity, \"sum\": NaN, \"min\": Infinity}}, \"EndTime\": 1520507421.974672, \"Dimensions\": {\"model\": 2, \"Host\": \"algo-1\", \"Operation\": \"training\", \"Algorithm\": \"Linear Learner\", \"epoch\": 3}, \"StartTime\": 1520507421.974651}\n",
      "\u001b[0m\n",
      "\u001b[31m#metrics {\"Metrics\": {\"training_binary_classification_cross_entropy\": {\"count\": 1, \"max\": 0.0899170691871643, \"sum\": 0.0899170691871643, \"min\": 0.0899170691871643}, \"validation_binary_classification_cross_entropy\": {\"count\": 1, \"max\": -Infinity, \"sum\": NaN, \"min\": Infinity}}, \"EndTime\": 1520507421.974727, \"Dimensions\": {\"model\": 3, \"Host\": \"algo-1\", \"Operation\": \"training\", \"Algorithm\": \"Linear Learner\", \"epoch\": 3}, \"StartTime\": 1520507421.974708}\n",
      "\u001b[0m\n",
      "\u001b[31m#metrics {\"Metrics\": {\"training_binary_classification_cross_entropy\": {\"count\": 1, \"max\": 0.20680230503082275, \"sum\": 0.20680230503082275, \"min\": 0.20680230503082275}, \"validation_binary_classification_cross_entropy\": {\"count\": 1, \"max\": -Infinity, \"sum\": NaN, \"min\": Infinity}}, \"EndTime\": 1520507421.97478, \"Dimensions\": {\"model\": 4, \"Host\": \"algo-1\", \"Operation\": \"training\", \"Algorithm\": \"Linear Learner\", \"epoch\": 3}, \"StartTime\": 1520507421.974761}\n",
      "\u001b[0m\n",
      "\u001b[31m#metrics {\"Metrics\": {\"training_binary_classification_cross_entropy\": {\"count\": 1, \"max\": 0.3085077045440674, \"sum\": 0.3085077045440674, \"min\": 0.3085077045440674}, \"validation_binary_classification_cross_entropy\": {\"count\": 1, \"max\": -Infinity, \"sum\": NaN, \"min\": Infinity}}, \"EndTime\": 1520507421.974845, \"Dimensions\": {\"model\": 5, \"Host\": \"algo-1\", \"Operation\": \"training\", \"Algorithm\": \"Linear Learner\", \"epoch\": 3}, \"StartTime\": 1520507421.974825}\n",
      "\u001b[0m\n",
      "\u001b[31m#metrics {\"Metrics\": {\"training_binary_classification_cross_entropy\": {\"count\": 1, \"max\": 0.2181082716369629, \"sum\": 0.2181082716369629, \"min\": 0.2181082716369629}, \"validation_binary_classification_cross_entropy\": {\"count\": 1, \"max\": -Infinity, \"sum\": NaN, \"min\": Infinity}}, \"EndTime\": 1520507421.974901, \"Dimensions\": {\"model\": 6, \"Host\": \"algo-1\", \"Operation\": \"training\", \"Algorithm\": \"Linear Learner\", \"epoch\": 3}, \"StartTime\": 1520507421.974882}\n",
      "\u001b[0m\n",
      "\u001b[31m#metrics {\"Metrics\": {\"training_binary_classification_cross_entropy\": {\"count\": 1, \"max\": 0.3203446155548096, \"sum\": 0.3203446155548096, \"min\": 0.3203446155548096}, \"validation_binary_classification_cross_entropy\": {\"count\": 1, \"max\": -Infinity, \"sum\": NaN, \"min\": Infinity}}, \"EndTime\": 1520507421.974952, \"Dimensions\": {\"model\": 7, \"Host\": \"algo-1\", \"Operation\": \"training\", \"Algorithm\": \"Linear Learner\", \"epoch\": 3}, \"StartTime\": 1520507421.974933}\n",
      "\u001b[0m\n",
      "\u001b[31m#metrics {\"Metrics\": {\"training_binary_classification_cross_entropy\": {\"count\": 1, \"max\": 0.09057365977287292, \"sum\": 0.09057365977287292, \"min\": 0.09057365977287292}, \"validation_binary_classification_cross_entropy\": {\"count\": 1, \"max\": -Infinity, \"sum\": NaN, \"min\": Infinity}}, \"EndTime\": 1520507421.975013, \"Dimensions\": {\"model\": 8, \"Host\": \"algo-1\", \"Operation\": \"training\", \"Algorithm\": \"Linear Learner\", \"epoch\": 3}, \"StartTime\": 1520507421.974995}\n",
      "\u001b[0m\n",
      "\u001b[31m#metrics {\"Metrics\": {\"training_binary_classification_cross_entropy\": {\"count\": 1, \"max\": 0.09230608048439026, \"sum\": 0.09230608048439026, \"min\": 0.09230608048439026}, \"validation_binary_classification_cross_entropy\": {\"count\": 1, \"max\": -Infinity, \"sum\": NaN, \"min\": Infinity}}, \"EndTime\": 1520507421.975064, \"Dimensions\": {\"model\": 9, \"Host\": \"algo-1\", \"Operation\": \"training\", \"Algorithm\": \"Linear Learner\", \"epoch\": 3}, \"StartTime\": 1520507421.975045}\n",
      "\u001b[0m\n",
      "\u001b[31m#metrics {\"Metrics\": {\"training_binary_classification_cross_entropy\": {\"count\": 1, \"max\": 0.09060481049537658, \"sum\": 0.09060481049537658, \"min\": 0.09060481049537658}, \"validation_binary_classification_cross_entropy\": {\"count\": 1, \"max\": -Infinity, \"sum\": NaN, \"min\": Infinity}}, \"EndTime\": 1520507421.975118, \"Dimensions\": {\"model\": 10, \"Host\": \"algo-1\", \"Operation\": \"training\", \"Algorithm\": \"Linear Learner\", \"epoch\": 3}, \"StartTime\": 1520507421.975099}\n",
      "\u001b[0m\n",
      "\u001b[31m#metrics {\"Metrics\": {\"training_binary_classification_cross_entropy\": {\"count\": 1, \"max\": 0.09208497263908386, \"sum\": 0.09208497263908386, \"min\": 0.09208497263908386}, \"validation_binary_classification_cross_entropy\": {\"count\": 1, \"max\": -Infinity, \"sum\": NaN, \"min\": Infinity}}, \"EndTime\": 1520507421.97517, \"Dimensions\": {\"model\": 11, \"Host\": \"algo-1\", \"Operation\": \"training\", \"Algorithm\": \"Linear Learner\", \"epoch\": 3}, \"StartTime\": 1520507421.975151}\n",
      "\u001b[0m\n",
      "\u001b[31m#metrics {\"Metrics\": {\"training_binary_classification_cross_entropy\": {\"count\": 1, \"max\": 0.2022577990245819, \"sum\": 0.2022577990245819, \"min\": 0.2022577990245819}, \"validation_binary_classification_cross_entropy\": {\"count\": 1, \"max\": -Infinity, \"sum\": NaN, \"min\": Infinity}}, \"EndTime\": 1520507421.975241, \"Dimensions\": {\"model\": 12, \"Host\": \"algo-1\", \"Operation\": \"training\", \"Algorithm\": \"Linear Learner\", \"epoch\": 3}, \"StartTime\": 1520507421.975222}\n",
      "\u001b[0m\n",
      "\u001b[31m#metrics {\"Metrics\": {\"training_binary_classification_cross_entropy\": {\"count\": 1, \"max\": 0.277993344078064, \"sum\": 0.277993344078064, \"min\": 0.277993344078064}, \"validation_binary_classification_cross_entropy\": {\"count\": 1, \"max\": -Infinity, \"sum\": NaN, \"min\": Infinity}}, \"EndTime\": 1520507421.97529, \"Dimensions\": {\"model\": 13, \"Host\": \"algo-1\", \"Operation\": \"training\", \"Algorithm\": \"Linear Learner\", \"epoch\": 3}, \"StartTime\": 1520507421.975271}\n",
      "\u001b[0m\n",
      "\u001b[31m#metrics {\"Metrics\": {\"training_binary_classification_cross_entropy\": {\"count\": 1, \"max\": 0.1980992223072052, \"sum\": 0.1980992223072052, \"min\": 0.1980992223072052}, \"validation_binary_classification_cross_entropy\": {\"count\": 1, \"max\": -Infinity, \"sum\": NaN, \"min\": Infinity}}, \"EndTime\": 1520507421.975342, \"Dimensions\": {\"model\": 14, \"Host\": \"algo-1\", \"Operation\": \"training\", \"Algorithm\": \"Linear Learner\", \"epoch\": 3}, \"StartTime\": 1520507421.975324}\n",
      "\u001b[0m\n",
      "\u001b[31m#metrics {\"Metrics\": {\"training_binary_classification_cross_entropy\": {\"count\": 1, \"max\": 0.287702552280426, \"sum\": 0.287702552280426, \"min\": 0.287702552280426}, \"validation_binary_classification_cross_entropy\": {\"count\": 1, \"max\": -Infinity, \"sum\": NaN, \"min\": Infinity}}, \"EndTime\": 1520507421.97541, \"Dimensions\": {\"model\": 15, \"Host\": \"algo-1\", \"Operation\": \"training\", \"Algorithm\": \"Linear Learner\", \"epoch\": 3}, \"StartTime\": 1520507421.97539}\n",
      "\u001b[0m\n",
      "\u001b[31m#metrics {\"Metrics\": {\"training_binary_classification_cross_entropy\": {\"count\": 1, \"max\": 0.16464475631713868, \"sum\": 0.16464475631713868, \"min\": 0.16464475631713868}, \"validation_binary_classification_cross_entropy\": {\"count\": 1, \"max\": -Infinity, \"sum\": NaN, \"min\": Infinity}}, \"EndTime\": 1520507421.975473, \"Dimensions\": {\"model\": 16, \"Host\": \"algo-1\", \"Operation\": \"training\", \"Algorithm\": \"Linear Learner\", \"epoch\": 3}, \"StartTime\": 1520507421.975453}\n",
      "\u001b[0m\n",
      "\u001b[31m#metrics {\"Metrics\": {\"training_binary_classification_cross_entropy\": {\"count\": 1, \"max\": 0.16589229568481445, \"sum\": 0.16589229568481445, \"min\": 0.16589229568481445}, \"validation_binary_classification_cross_entropy\": {\"count\": 1, \"max\": -Infinity, \"sum\": NaN, \"min\": Infinity}}, \"EndTime\": 1520507421.975537, \"Dimensions\": {\"model\": 17, \"Host\": \"algo-1\", \"Operation\": \"training\", \"Algorithm\": \"Linear Learner\", \"epoch\": 3}, \"StartTime\": 1520507421.975517}\n",
      "\u001b[0m\n",
      "\u001b[31m#metrics {\"Metrics\": {\"training_binary_classification_cross_entropy\": {\"count\": 1, \"max\": 0.16466051456451417, \"sum\": 0.16466051456451417, \"min\": 0.16466051456451417}, \"validation_binary_classification_cross_entropy\": {\"count\": 1, \"max\": -Infinity, \"sum\": NaN, \"min\": Infinity}}, \"EndTime\": 1520507421.9756, \"Dimensions\": {\"model\": 18, \"Host\": \"algo-1\", \"Operation\": \"training\", \"Algorithm\": \"Linear Learner\", \"epoch\": 3}, \"StartTime\": 1520507421.97558}\n",
      "\u001b[0m\n",
      "\u001b[31m#metrics {\"Metrics\": {\"training_binary_classification_cross_entropy\": {\"count\": 1, \"max\": 0.1658729672241211, \"sum\": 0.1658729672241211, \"min\": 0.1658729672241211}, \"validation_binary_classification_cross_entropy\": {\"count\": 1, \"max\": -Infinity, \"sum\": NaN, \"min\": Infinity}}, \"EndTime\": 1520507421.975664, \"Dimensions\": {\"model\": 19, \"Host\": \"algo-1\", \"Operation\": \"training\", \"Algorithm\": \"Linear Learner\", \"epoch\": 3}, \"StartTime\": 1520507421.975648}\n",
      "\u001b[0m\n",
      "\u001b[31m#metrics {\"Metrics\": {\"training_binary_classification_cross_entropy\": {\"count\": 1, \"max\": 0.19153173347473146, \"sum\": 0.19153173347473146, \"min\": 0.19153173347473146}, \"validation_binary_classification_cross_entropy\": {\"count\": 1, \"max\": -Infinity, \"sum\": NaN, \"min\": Infinity}}, \"EndTime\": 1520507421.975716, \"Dimensions\": {\"model\": 20, \"Host\": \"algo-1\", \"Operation\": \"training\", \"Algorithm\": \"Linear Learner\", \"epoch\": 3}, \"StartTime\": 1520507421.975701}\n",
      "\u001b[0m\n",
      "\u001b[31m#metrics {\"Metrics\": {\"training_binary_classification_cross_entropy\": {\"count\": 1, \"max\": 0.21535624607086182, \"sum\": 0.21535624607086182, \"min\": 0.21535624607086182}, \"validation_binary_classification_cross_entropy\": {\"count\": 1, \"max\": -Infinity, \"sum\": NaN, \"min\": Infinity}}, \"EndTime\": 1520507421.975784, \"Dimensions\": {\"model\": 21, \"Host\": \"algo-1\", \"Operation\": \"training\", \"Algorithm\": \"Linear Learner\", \"epoch\": 3}, \"StartTime\": 1520507421.97575}\n",
      "\u001b[0m\n",
      "\u001b[31m#metrics {\"Metrics\": {\"training_binary_classification_cross_entropy\": {\"count\": 1, \"max\": 0.1915659380722046, \"sum\": 0.1915659380722046, \"min\": 0.1915659380722046}, \"validation_binary_classification_cross_entropy\": {\"count\": 1, \"max\": -Infinity, \"sum\": NaN, \"min\": Infinity}}, \"EndTime\": 1520507421.975844, \"Dimensions\": {\"model\": 22, \"Host\": \"algo-1\", \"Operation\": \"training\", \"Algorithm\": \"Linear Learner\", \"epoch\": 3}, \"StartTime\": 1520507421.975824}\n",
      "\u001b[0m\n",
      "\u001b[31m#metrics {\"Metrics\": {\"training_binary_classification_cross_entropy\": {\"count\": 1, \"max\": 0.2156818870162964, \"sum\": 0.2156818870162964, \"min\": 0.2156818870162964}, \"validation_binary_classification_cross_entropy\": {\"count\": 1, \"max\": -Infinity, \"sum\": NaN, \"min\": Infinity}}, \"EndTime\": 1520507421.975902, \"Dimensions\": {\"model\": 23, \"Host\": \"algo-1\", \"Operation\": \"training\", \"Algorithm\": \"Linear Learner\", \"epoch\": 3}, \"StartTime\": 1520507421.975883}\n",
      "\u001b[0m\n",
      "\u001b[31m#metrics {\"Metrics\": {\"training_binary_classification_cross_entropy\": {\"count\": 1, \"max\": 0.32205502433776856, \"sum\": 0.32205502433776856, \"min\": 0.32205502433776856}, \"validation_binary_classification_cross_entropy\": {\"count\": 1, \"max\": -Infinity, \"sum\": NaN, \"min\": Infinity}}, \"EndTime\": 1520507421.975963, \"Dimensions\": {\"model\": 24, \"Host\": \"algo-1\", \"Operation\": \"training\", \"Algorithm\": \"Linear Learner\", \"epoch\": 3}, \"StartTime\": 1520507421.975943}\n",
      "\u001b[0m\n",
      "\u001b[31m#metrics {\"Metrics\": {\"training_binary_classification_cross_entropy\": {\"count\": 1, \"max\": 0.3220521170806885, \"sum\": 0.3220521170806885, \"min\": 0.3220521170806885}, \"validation_binary_classification_cross_entropy\": {\"count\": 1, \"max\": -Infinity, \"sum\": NaN, \"min\": Infinity}}, \"EndTime\": 1520507421.976022, \"Dimensions\": {\"model\": 25, \"Host\": \"algo-1\", \"Operation\": \"training\", \"Algorithm\": \"Linear Learner\", \"epoch\": 3}, \"StartTime\": 1520507421.976003}\n",
      "\u001b[0m\n",
      "\u001b[31m#metrics {\"Metrics\": {\"training_binary_classification_cross_entropy\": {\"count\": 1, \"max\": 0.32207753707885745, \"sum\": 0.32207753707885745, \"min\": 0.32207753707885745}, \"validation_binary_classification_cross_entropy\": {\"count\": 1, \"max\": -Infinity, \"sum\": NaN, \"min\": Infinity}}, \"EndTime\": 1520507421.97608, \"Dimensions\": {\"model\": 26, \"Host\": \"algo-1\", \"Operation\": \"training\", \"Algorithm\": \"Linear Learner\", \"epoch\": 3}, \"StartTime\": 1520507421.976061}\n",
      "\u001b[0m\n",
      "\u001b[31m#metrics {\"Metrics\": {\"training_binary_classification_cross_entropy\": {\"count\": 1, \"max\": 0.3220917482757568, \"sum\": 0.3220917482757568, \"min\": 0.3220917482757568}, \"validation_binary_classification_cross_entropy\": {\"count\": 1, \"max\": -Infinity, \"sum\": NaN, \"min\": Infinity}}, \"EndTime\": 1520507421.976145, \"Dimensions\": {\"model\": 27, \"Host\": \"algo-1\", \"Operation\": \"training\", \"Algorithm\": \"Linear Learner\", \"epoch\": 3}, \"StartTime\": 1520507421.976124}\n",
      "\u001b[0m\n",
      "\u001b[31m#metrics {\"Metrics\": {\"training_binary_classification_cross_entropy\": {\"count\": 1, \"max\": 0.3244718709564209, \"sum\": 0.3244718709564209, \"min\": 0.3244718709564209}, \"validation_binary_classification_cross_entropy\": {\"count\": 1, \"max\": -Infinity, \"sum\": NaN, \"min\": Infinity}}, \"EndTime\": 1520507421.976211, \"Dimensions\": {\"model\": 28, \"Host\": \"algo-1\", \"Operation\": \"training\", \"Algorithm\": \"Linear Learner\", \"epoch\": 3}, \"StartTime\": 1520507421.976192}\n",
      "\u001b[0m\n",
      "\u001b[31m#metrics {\"Metrics\": {\"training_binary_classification_cross_entropy\": {\"count\": 1, \"max\": 0.3247286265563965, \"sum\": 0.3247286265563965, \"min\": 0.3247286265563965}, \"validation_binary_classification_cross_entropy\": {\"count\": 1, \"max\": -Infinity, \"sum\": NaN, \"min\": Infinity}}, \"EndTime\": 1520507421.976261, \"Dimensions\": {\"model\": 29, \"Host\": \"algo-1\", \"Operation\": \"training\", \"Algorithm\": \"Linear Learner\", \"epoch\": 3}, \"StartTime\": 1520507421.976244}\n",
      "\u001b[0m\n",
      "\u001b[31m#metrics {\"Metrics\": {\"training_binary_classification_cross_entropy\": {\"count\": 1, \"max\": 0.32444495437622073, \"sum\": 0.32444495437622073, \"min\": 0.32444495437622073}, \"validation_binary_classification_cross_entropy\": {\"count\": 1, \"max\": -Infinity, \"sum\": NaN, \"min\": Infinity}}, \"EndTime\": 1520507421.976322, \"Dimensions\": {\"model\": 30, \"Host\": \"algo-1\", \"Operation\": \"training\", \"Algorithm\": \"Linear Learner\", \"epoch\": 3}, \"StartTime\": 1520507421.976302}\n",
      "\u001b[0m\n",
      "\u001b[31m#metrics {\"Metrics\": {\"training_binary_classification_cross_entropy\": {\"count\": 1, \"max\": 0.3248748616027832, \"sum\": 0.3248748616027832, \"min\": 0.3248748616027832}, \"validation_binary_classification_cross_entropy\": {\"count\": 1, \"max\": -Infinity, \"sum\": NaN, \"min\": Infinity}}, \"EndTime\": 1520507421.976388, \"Dimensions\": {\"model\": 31, \"Host\": \"algo-1\", \"Operation\": \"training\", \"Algorithm\": \"Linear Learner\", \"epoch\": 3}, \"StartTime\": 1520507421.976367}\n",
      "\u001b[0m\n",
      "\u001b[31m[03/08/2018 11:10:21 INFO 139650080663360] Epoch 3: Loss improved.  Updating best model\u001b[0m\n",
      "\u001b[31m#metrics {\"Metrics\": {\"Max Batches Seen Between Resets\": {\"count\": 1, \"max\": 250, \"sum\": 250.0, \"min\": 250}, \"Number of Batches Since Last Reset\": {\"count\": 1, \"max\": 250, \"sum\": 250.0, \"min\": 250}, \"Number of Records Since Last Reset\": {\"count\": 1, \"max\": 50000, \"sum\": 50000.0, \"min\": 50000}, \"Total Batches Seen\": {\"count\": 1, \"max\": 802, \"sum\": 802.0, \"min\": 802}, \"Total Records Seen\": {\"count\": 1, \"max\": 160400, \"sum\": 160400.0, \"min\": 160400}, \"Max Records Seen Between Resets\": {\"count\": 1, \"max\": 50000, \"sum\": 50000.0, \"min\": 50000}, \"Reset Count\": {\"count\": 1, \"max\": 5, \"sum\": 5.0, \"min\": 5}}, \"EndTime\": 1520507421.977341, \"Dimensions\": {\"Host\": \"algo-1\", \"Meta\": \"training_data_iter\", \"Operation\": \"training\", \"Algorithm\": \"Linear Learner\", \"epoch\": 2}, \"StartTime\": 1520507421.97731}\n",
      "\u001b[0m\n"
     ]
    },
    {
     "name": "stdout",
     "output_type": "stream",
     "text": [
      "\u001b[31m#metrics {\"Metrics\": {\"training_binary_classification_cross_entropy\": {\"count\": 1, \"max\": 0.0861534283733368, \"sum\": 0.0861534283733368, \"min\": 0.0861534283733368}, \"validation_binary_classification_cross_entropy\": {\"count\": 1, \"max\": -Infinity, \"sum\": NaN, \"min\": Infinity}}, \"EndTime\": 1520507428.601184, \"Dimensions\": {\"model\": 0, \"Host\": \"algo-1\", \"Operation\": \"training\", \"Algorithm\": \"Linear Learner\", \"epoch\": 4}, \"StartTime\": 1520507428.601098}\n",
      "\u001b[0m\n",
      "\u001b[31m#metrics {\"Metrics\": {\"training_binary_classification_cross_entropy\": {\"count\": 1, \"max\": 0.08778175813674927, \"sum\": 0.08778175813674927, \"min\": 0.08778175813674927}, \"validation_binary_classification_cross_entropy\": {\"count\": 1, \"max\": -Infinity, \"sum\": NaN, \"min\": Infinity}}, \"EndTime\": 1520507428.601287, \"Dimensions\": {\"model\": 1, \"Host\": \"algo-1\", \"Operation\": \"training\", \"Algorithm\": \"Linear Learner\", \"epoch\": 4}, \"StartTime\": 1520507428.601261}\n",
      "\u001b[0m\n",
      "\u001b[31m#metrics {\"Metrics\": {\"training_binary_classification_cross_entropy\": {\"count\": 1, \"max\": 0.08591826573371887, \"sum\": 0.08591826573371887, \"min\": 0.08591826573371887}, \"validation_binary_classification_cross_entropy\": {\"count\": 1, \"max\": -Infinity, \"sum\": NaN, \"min\": Infinity}}, \"EndTime\": 1520507428.601364, \"Dimensions\": {\"model\": 2, \"Host\": \"algo-1\", \"Operation\": \"training\", \"Algorithm\": \"Linear Learner\", \"epoch\": 4}, \"StartTime\": 1520507428.601342}\n",
      "\u001b[0m\n",
      "\u001b[31m#metrics {\"Metrics\": {\"training_binary_classification_cross_entropy\": {\"count\": 1, \"max\": 0.08831919633865357, \"sum\": 0.08831919633865357, \"min\": 0.08831919633865357}, \"validation_binary_classification_cross_entropy\": {\"count\": 1, \"max\": -Infinity, \"sum\": NaN, \"min\": Infinity}}, \"EndTime\": 1520507428.601418, \"Dimensions\": {\"model\": 3, \"Host\": \"algo-1\", \"Operation\": \"training\", \"Algorithm\": \"Linear Learner\", \"epoch\": 4}, \"StartTime\": 1520507428.601399}\n",
      "\u001b[0m\n",
      "\u001b[31m#metrics {\"Metrics\": {\"training_binary_classification_cross_entropy\": {\"count\": 1, \"max\": 0.1880503451824188, \"sum\": 0.1880503451824188, \"min\": 0.1880503451824188}, \"validation_binary_classification_cross_entropy\": {\"count\": 1, \"max\": -Infinity, \"sum\": NaN, \"min\": Infinity}}, \"EndTime\": 1520507428.601479, \"Dimensions\": {\"model\": 4, \"Host\": \"algo-1\", \"Operation\": \"training\", \"Algorithm\": \"Linear Learner\", \"epoch\": 4}, \"StartTime\": 1520507428.601459}\n",
      "\u001b[0m\n",
      "\u001b[31m#metrics {\"Metrics\": {\"training_binary_classification_cross_entropy\": {\"count\": 1, \"max\": 0.2985295754814148, \"sum\": 0.2985295754814148, \"min\": 0.2985295754814148}, \"validation_binary_classification_cross_entropy\": {\"count\": 1, \"max\": -Infinity, \"sum\": NaN, \"min\": Infinity}}, \"EndTime\": 1520507428.601531, \"Dimensions\": {\"model\": 5, \"Host\": \"algo-1\", \"Operation\": \"training\", \"Algorithm\": \"Linear Learner\", \"epoch\": 4}, \"StartTime\": 1520507428.601512}\n",
      "\u001b[0m\n",
      "\u001b[31m#metrics {\"Metrics\": {\"training_binary_classification_cross_entropy\": {\"count\": 1, \"max\": 0.1876783826303482, \"sum\": 0.1876783826303482, \"min\": 0.1876783826303482}, \"validation_binary_classification_cross_entropy\": {\"count\": 1, \"max\": -Infinity, \"sum\": NaN, \"min\": Infinity}}, \"EndTime\": 1520507428.601581, \"Dimensions\": {\"model\": 6, \"Host\": \"algo-1\", \"Operation\": \"training\", \"Algorithm\": \"Linear Learner\", \"epoch\": 4}, \"StartTime\": 1520507428.601562}\n",
      "\u001b[0m\n",
      "\u001b[31m#metrics {\"Metrics\": {\"training_binary_classification_cross_entropy\": {\"count\": 1, \"max\": 0.31498789153635504, \"sum\": 0.31498789153635504, \"min\": 0.31498789153635504}, \"validation_binary_classification_cross_entropy\": {\"count\": 1, \"max\": -Infinity, \"sum\": NaN, \"min\": Infinity}}, \"EndTime\": 1520507428.601637, \"Dimensions\": {\"model\": 7, \"Host\": \"algo-1\", \"Operation\": \"training\", \"Algorithm\": \"Linear Learner\", \"epoch\": 4}, \"StartTime\": 1520507428.601618}\n",
      "\u001b[0m\n",
      "\u001b[31m#metrics {\"Metrics\": {\"training_binary_classification_cross_entropy\": {\"count\": 1, \"max\": 0.08828053366661072, \"sum\": 0.08828053366661072, \"min\": 0.08828053366661072}, \"validation_binary_classification_cross_entropy\": {\"count\": 1, \"max\": -Infinity, \"sum\": NaN, \"min\": Infinity}}, \"EndTime\": 1520507428.601693, \"Dimensions\": {\"model\": 8, \"Host\": \"algo-1\", \"Operation\": \"training\", \"Algorithm\": \"Linear Learner\", \"epoch\": 4}, \"StartTime\": 1520507428.601674}\n",
      "\u001b[0m\n",
      "\u001b[31m#metrics {\"Metrics\": {\"training_binary_classification_cross_entropy\": {\"count\": 1, \"max\": 0.09148163301467896, \"sum\": 0.09148163301467896, \"min\": 0.09148163301467896}, \"validation_binary_classification_cross_entropy\": {\"count\": 1, \"max\": -Infinity, \"sum\": NaN, \"min\": Infinity}}, \"EndTime\": 1520507428.601742, \"Dimensions\": {\"model\": 9, \"Host\": \"algo-1\", \"Operation\": \"training\", \"Algorithm\": \"Linear Learner\", \"epoch\": 4}, \"StartTime\": 1520507428.601724}\n",
      "\u001b[0m\n",
      "\u001b[31m#metrics {\"Metrics\": {\"training_binary_classification_cross_entropy\": {\"count\": 1, \"max\": 0.08831311157226562, \"sum\": 0.08831311157226562, \"min\": 0.08831311157226562}, \"validation_binary_classification_cross_entropy\": {\"count\": 1, \"max\": -Infinity, \"sum\": NaN, \"min\": Infinity}}, \"EndTime\": 1520507428.601813, \"Dimensions\": {\"model\": 10, \"Host\": \"algo-1\", \"Operation\": \"training\", \"Algorithm\": \"Linear Learner\", \"epoch\": 4}, \"StartTime\": 1520507428.601783}\n",
      "\u001b[0m\n",
      "\u001b[31m#metrics {\"Metrics\": {\"training_binary_classification_cross_entropy\": {\"count\": 1, \"max\": 0.09087945767402648, \"sum\": 0.09087945767402648, \"min\": 0.09087945767402648}, \"validation_binary_classification_cross_entropy\": {\"count\": 1, \"max\": -Infinity, \"sum\": NaN, \"min\": Infinity}}, \"EndTime\": 1520507428.601944, \"Dimensions\": {\"model\": 11, \"Host\": \"algo-1\", \"Operation\": \"training\", \"Algorithm\": \"Linear Learner\", \"epoch\": 4}, \"StartTime\": 1520507428.601848}\n",
      "\u001b[0m\n",
      "\u001b[31m#metrics {\"Metrics\": {\"training_binary_classification_cross_entropy\": {\"count\": 1, \"max\": 0.17916188899993896, \"sum\": 0.17916188899993896, \"min\": 0.17916188899993896}, \"validation_binary_classification_cross_entropy\": {\"count\": 1, \"max\": -Infinity, \"sum\": NaN, \"min\": Infinity}}, \"EndTime\": 1520507428.602, \"Dimensions\": {\"model\": 12, \"Host\": \"algo-1\", \"Operation\": \"training\", \"Algorithm\": \"Linear Learner\", \"epoch\": 4}, \"StartTime\": 1520507428.601981}\n",
      "\u001b[0m\n",
      "\u001b[31m#metrics {\"Metrics\": {\"training_binary_classification_cross_entropy\": {\"count\": 1, \"max\": 0.2712013203430176, \"sum\": 0.2712013203430176, \"min\": 0.2712013203430176}, \"validation_binary_classification_cross_entropy\": {\"count\": 1, \"max\": -Infinity, \"sum\": NaN, \"min\": Infinity}}, \"EndTime\": 1520507428.602052, \"Dimensions\": {\"model\": 13, \"Host\": \"algo-1\", \"Operation\": \"training\", \"Algorithm\": \"Linear Learner\", \"epoch\": 4}, \"StartTime\": 1520507428.602033}\n",
      "\u001b[0m\n",
      "\u001b[31m#metrics {\"Metrics\": {\"training_binary_classification_cross_entropy\": {\"count\": 1, \"max\": 0.1778461428976059, \"sum\": 0.1778461428976059, \"min\": 0.1778461428976059}, \"validation_binary_classification_cross_entropy\": {\"count\": 1, \"max\": -Infinity, \"sum\": NaN, \"min\": Infinity}}, \"EndTime\": 1520507428.602118, \"Dimensions\": {\"model\": 14, \"Host\": \"algo-1\", \"Operation\": \"training\", \"Algorithm\": \"Linear Learner\", \"epoch\": 4}, \"StartTime\": 1520507428.602098}\n",
      "\u001b[0m\n",
      "\u001b[31m#metrics {\"Metrics\": {\"training_binary_classification_cross_entropy\": {\"count\": 1, \"max\": 0.28102597516059874, \"sum\": 0.28102597516059874, \"min\": 0.28102597516059874}, \"validation_binary_classification_cross_entropy\": {\"count\": 1, \"max\": -Infinity, \"sum\": NaN, \"min\": Infinity}}, \"EndTime\": 1520507428.602168, \"Dimensions\": {\"model\": 15, \"Host\": \"algo-1\", \"Operation\": \"training\", \"Algorithm\": \"Linear Learner\", \"epoch\": 4}, \"StartTime\": 1520507428.60215}\n",
      "\u001b[0m\n",
      "\u001b[31m#metrics {\"Metrics\": {\"training_binary_classification_cross_entropy\": {\"count\": 1, \"max\": 0.16437166103363038, \"sum\": 0.16437166103363038, \"min\": 0.16437166103363038}, \"validation_binary_classification_cross_entropy\": {\"count\": 1, \"max\": -Infinity, \"sum\": NaN, \"min\": Infinity}}, \"EndTime\": 1520507428.602224, \"Dimensions\": {\"model\": 16, \"Host\": \"algo-1\", \"Operation\": \"training\", \"Algorithm\": \"Linear Learner\", \"epoch\": 4}, \"StartTime\": 1520507428.602206}\n",
      "\u001b[0m\n",
      "\u001b[31m#metrics {\"Metrics\": {\"training_binary_classification_cross_entropy\": {\"count\": 1, \"max\": 0.16587299671173095, \"sum\": 0.16587299671173095, \"min\": 0.16587299671173095}, \"validation_binary_classification_cross_entropy\": {\"count\": 1, \"max\": -Infinity, \"sum\": NaN, \"min\": Infinity}}, \"EndTime\": 1520507428.602278, \"Dimensions\": {\"model\": 17, \"Host\": \"algo-1\", \"Operation\": \"training\", \"Algorithm\": \"Linear Learner\", \"epoch\": 4}, \"StartTime\": 1520507428.602261}\n",
      "\u001b[0m\n",
      "\u001b[31m#metrics {\"Metrics\": {\"training_binary_classification_cross_entropy\": {\"count\": 1, \"max\": 0.16437756595611572, \"sum\": 0.16437756595611572, \"min\": 0.16437756595611572}, \"validation_binary_classification_cross_entropy\": {\"count\": 1, \"max\": -Infinity, \"sum\": NaN, \"min\": Infinity}}, \"EndTime\": 1520507428.602334, \"Dimensions\": {\"model\": 18, \"Host\": \"algo-1\", \"Operation\": \"training\", \"Algorithm\": \"Linear Learner\", \"epoch\": 4}, \"StartTime\": 1520507428.602316}\n",
      "\u001b[0m\n",
      "\u001b[31m#metrics {\"Metrics\": {\"training_binary_classification_cross_entropy\": {\"count\": 1, \"max\": 0.16585936832427978, \"sum\": 0.16585936832427978, \"min\": 0.16585936832427978}, \"validation_binary_classification_cross_entropy\": {\"count\": 1, \"max\": -Infinity, \"sum\": NaN, \"min\": Infinity}}, \"EndTime\": 1520507428.602393, \"Dimensions\": {\"model\": 19, \"Host\": \"algo-1\", \"Operation\": \"training\", \"Algorithm\": \"Linear Learner\", \"epoch\": 4}, \"StartTime\": 1520507428.602374}\n",
      "\u001b[0m\n",
      "\u001b[31m#metrics {\"Metrics\": {\"training_binary_classification_cross_entropy\": {\"count\": 1, \"max\": 0.18919251552581787, \"sum\": 0.18919251552581787, \"min\": 0.18919251552581787}, \"validation_binary_classification_cross_entropy\": {\"count\": 1, \"max\": -Infinity, \"sum\": NaN, \"min\": Infinity}}, \"EndTime\": 1520507428.602451, \"Dimensions\": {\"model\": 20, \"Host\": \"algo-1\", \"Operation\": \"training\", \"Algorithm\": \"Linear Learner\", \"epoch\": 4}, \"StartTime\": 1520507428.602431}\n",
      "\u001b[0m\n",
      "\u001b[31m#metrics {\"Metrics\": {\"training_binary_classification_cross_entropy\": {\"count\": 1, \"max\": 0.2136246971511841, \"sum\": 0.2136246971511841, \"min\": 0.2136246971511841}, \"validation_binary_classification_cross_entropy\": {\"count\": 1, \"max\": -Infinity, \"sum\": NaN, \"min\": Infinity}}, \"EndTime\": 1520507428.602511, \"Dimensions\": {\"model\": 21, \"Host\": \"algo-1\", \"Operation\": \"training\", \"Algorithm\": \"Linear Learner\", \"epoch\": 4}, \"StartTime\": 1520507428.602492}\n",
      "\u001b[0m\n",
      "\u001b[31m#metrics {\"Metrics\": {\"training_binary_classification_cross_entropy\": {\"count\": 1, \"max\": 0.1887260599899292, \"sum\": 0.1887260599899292, \"min\": 0.1887260599899292}, \"validation_binary_classification_cross_entropy\": {\"count\": 1, \"max\": -Infinity, \"sum\": NaN, \"min\": Infinity}}, \"EndTime\": 1520507428.602571, \"Dimensions\": {\"model\": 22, \"Host\": \"algo-1\", \"Operation\": \"training\", \"Algorithm\": \"Linear Learner\", \"epoch\": 4}, \"StartTime\": 1520507428.602552}\n",
      "\u001b[0m\n",
      "\u001b[31m#metrics {\"Metrics\": {\"training_binary_classification_cross_entropy\": {\"count\": 1, \"max\": 0.213458035697937, \"sum\": 0.213458035697937, \"min\": 0.213458035697937}, \"validation_binary_classification_cross_entropy\": {\"count\": 1, \"max\": -Infinity, \"sum\": NaN, \"min\": Infinity}}, \"EndTime\": 1520507428.602646, \"Dimensions\": {\"model\": 23, \"Host\": \"algo-1\", \"Operation\": \"training\", \"Algorithm\": \"Linear Learner\", \"epoch\": 4}, \"StartTime\": 1520507428.602611}\n",
      "\u001b[0m\n",
      "\u001b[31m#metrics {\"Metrics\": {\"training_binary_classification_cross_entropy\": {\"count\": 1, \"max\": 0.32205860374450684, \"sum\": 0.32205860374450684, \"min\": 0.32205860374450684}, \"validation_binary_classification_cross_entropy\": {\"count\": 1, \"max\": -Infinity, \"sum\": NaN, \"min\": Infinity}}, \"EndTime\": 1520507428.602703, \"Dimensions\": {\"model\": 24, \"Host\": \"algo-1\", \"Operation\": \"training\", \"Algorithm\": \"Linear Learner\", \"epoch\": 4}, \"StartTime\": 1520507428.602683}\n",
      "\u001b[0m\n",
      "\u001b[31m#metrics {\"Metrics\": {\"training_binary_classification_cross_entropy\": {\"count\": 1, \"max\": 0.3220695792388916, \"sum\": 0.3220695792388916, \"min\": 0.3220695792388916}, \"validation_binary_classification_cross_entropy\": {\"count\": 1, \"max\": -Infinity, \"sum\": NaN, \"min\": Infinity}}, \"EndTime\": 1520507428.602768, \"Dimensions\": {\"model\": 25, \"Host\": \"algo-1\", \"Operation\": \"training\", \"Algorithm\": \"Linear Learner\", \"epoch\": 4}, \"StartTime\": 1520507428.602747}\n",
      "\u001b[0m\n",
      "\u001b[31m#metrics {\"Metrics\": {\"training_binary_classification_cross_entropy\": {\"count\": 1, \"max\": 0.3220804306793213, \"sum\": 0.3220804306793213, \"min\": 0.3220804306793213}, \"validation_binary_classification_cross_entropy\": {\"count\": 1, \"max\": -Infinity, \"sum\": NaN, \"min\": Infinity}}, \"EndTime\": 1520507428.602828, \"Dimensions\": {\"model\": 26, \"Host\": \"algo-1\", \"Operation\": \"training\", \"Algorithm\": \"Linear Learner\", \"epoch\": 4}, \"StartTime\": 1520507428.602809}\n",
      "\u001b[0m\n",
      "\u001b[31m#metrics {\"Metrics\": {\"training_binary_classification_cross_entropy\": {\"count\": 1, \"max\": 0.3221078224182129, \"sum\": 0.3221078224182129, \"min\": 0.3221078224182129}, \"validation_binary_classification_cross_entropy\": {\"count\": 1, \"max\": -Infinity, \"sum\": NaN, \"min\": Infinity}}, \"EndTime\": 1520507428.602887, \"Dimensions\": {\"model\": 27, \"Host\": \"algo-1\", \"Operation\": \"training\", \"Algorithm\": \"Linear Learner\", \"epoch\": 4}, \"StartTime\": 1520507428.602869}\n",
      "\u001b[0m\n",
      "\u001b[31m#metrics {\"Metrics\": {\"training_binary_classification_cross_entropy\": {\"count\": 1, \"max\": 0.3241808450317383, \"sum\": 0.3241808450317383, \"min\": 0.3241808450317383}, \"validation_binary_classification_cross_entropy\": {\"count\": 1, \"max\": -Infinity, \"sum\": NaN, \"min\": Infinity}}, \"EndTime\": 1520507428.60295, \"Dimensions\": {\"model\": 28, \"Host\": \"algo-1\", \"Operation\": \"training\", \"Algorithm\": \"Linear Learner\", \"epoch\": 4}, \"StartTime\": 1520507428.602929}\n",
      "\u001b[0m\n",
      "\u001b[31m#metrics {\"Metrics\": {\"training_binary_classification_cross_entropy\": {\"count\": 1, \"max\": 0.3244279521179199, \"sum\": 0.3244279521179199, \"min\": 0.3244279521179199}, \"validation_binary_classification_cross_entropy\": {\"count\": 1, \"max\": -Infinity, \"sum\": NaN, \"min\": Infinity}}, \"EndTime\": 1520507428.603002, \"Dimensions\": {\"model\": 29, \"Host\": \"algo-1\", \"Operation\": \"training\", \"Algorithm\": \"Linear Learner\", \"epoch\": 4}, \"StartTime\": 1520507428.602983}\n",
      "\u001b[0m\n",
      "\u001b[31m#metrics {\"Metrics\": {\"training_binary_classification_cross_entropy\": {\"count\": 1, \"max\": 0.32416813163757324, \"sum\": 0.32416813163757324, \"min\": 0.32416813163757324}, \"validation_binary_classification_cross_entropy\": {\"count\": 1, \"max\": -Infinity, \"sum\": NaN, \"min\": Infinity}}, \"EndTime\": 1520507428.603061, \"Dimensions\": {\"model\": 30, \"Host\": \"algo-1\", \"Operation\": \"training\", \"Algorithm\": \"Linear Learner\", \"epoch\": 4}, \"StartTime\": 1520507428.603044}\n",
      "\u001b[0m\n",
      "\u001b[31m#metrics {\"Metrics\": {\"training_binary_classification_cross_entropy\": {\"count\": 1, \"max\": 0.32468882850646974, \"sum\": 0.32468882850646974, \"min\": 0.32468882850646974}, \"validation_binary_classification_cross_entropy\": {\"count\": 1, \"max\": -Infinity, \"sum\": NaN, \"min\": Infinity}}, \"EndTime\": 1520507428.603112, \"Dimensions\": {\"model\": 31, \"Host\": \"algo-1\", \"Operation\": \"training\", \"Algorithm\": \"Linear Learner\", \"epoch\": 4}, \"StartTime\": 1520507428.603095}\n",
      "\u001b[0m\n",
      "\u001b[31m[03/08/2018 11:10:28 INFO 139650080663360] Epoch 4: Loss improved.  Updating best model\u001b[0m\n",
      "\u001b[31m#metrics {\"Metrics\": {\"Max Batches Seen Between Resets\": {\"count\": 1, \"max\": 250, \"sum\": 250.0, \"min\": 250}, \"Number of Batches Since Last Reset\": {\"count\": 1, \"max\": 250, \"sum\": 250.0, \"min\": 250}, \"Number of Records Since Last Reset\": {\"count\": 1, \"max\": 50000, \"sum\": 50000.0, \"min\": 50000}, \"Total Batches Seen\": {\"count\": 1, \"max\": 1052, \"sum\": 1052.0, \"min\": 1052}, \"Total Records Seen\": {\"count\": 1, \"max\": 210400, \"sum\": 210400.0, \"min\": 210400}, \"Max Records Seen Between Resets\": {\"count\": 1, \"max\": 50000, \"sum\": 50000.0, \"min\": 50000}, \"Reset Count\": {\"count\": 1, \"max\": 6, \"sum\": 6.0, \"min\": 6}}, \"EndTime\": 1520507428.6042, \"Dimensions\": {\"Host\": \"algo-1\", \"Meta\": \"training_data_iter\", \"Operation\": \"training\", \"Algorithm\": \"Linear Learner\", \"epoch\": 3}, \"StartTime\": 1520507428.604147}\n",
      "\u001b[0m\n"
     ]
    },
    {
     "name": "stdout",
     "output_type": "stream",
     "text": [
      "\u001b[31m#metrics {\"Metrics\": {\"training_binary_classification_cross_entropy\": {\"count\": 1, \"max\": 0.08408354892730713, \"sum\": 0.08408354892730713, \"min\": 0.08408354892730713}, \"validation_binary_classification_cross_entropy\": {\"count\": 1, \"max\": -Infinity, \"sum\": NaN, \"min\": Infinity}}, \"EndTime\": 1520507435.045779, \"Dimensions\": {\"model\": 0, \"Host\": \"algo-1\", \"Operation\": \"training\", \"Algorithm\": \"Linear Learner\", \"epoch\": 5}, \"StartTime\": 1520507435.045706}\n",
      "\u001b[0m\n",
      "\u001b[31m#metrics {\"Metrics\": {\"training_binary_classification_cross_entropy\": {\"count\": 1, \"max\": 0.08657575304031372, \"sum\": 0.08657575304031372, \"min\": 0.08657575304031372}, \"validation_binary_classification_cross_entropy\": {\"count\": 1, \"max\": -Infinity, \"sum\": NaN, \"min\": Infinity}}, \"EndTime\": 1520507435.045866, \"Dimensions\": {\"model\": 1, \"Host\": \"algo-1\", \"Operation\": \"training\", \"Algorithm\": \"Linear Learner\", \"epoch\": 5}, \"StartTime\": 1520507435.045845}\n",
      "\u001b[0m\n",
      "\u001b[31m#metrics {\"Metrics\": {\"training_binary_classification_cross_entropy\": {\"count\": 1, \"max\": 0.08365524942398071, \"sum\": 0.08365524942398071, \"min\": 0.08365524942398071}, \"validation_binary_classification_cross_entropy\": {\"count\": 1, \"max\": -Infinity, \"sum\": NaN, \"min\": Infinity}}, \"EndTime\": 1520507435.045931, \"Dimensions\": {\"model\": 2, \"Host\": \"algo-1\", \"Operation\": \"training\", \"Algorithm\": \"Linear Learner\", \"epoch\": 5}, \"StartTime\": 1520507435.045912}\n",
      "\u001b[0m\n",
      "\u001b[31m#metrics {\"Metrics\": {\"training_binary_classification_cross_entropy\": {\"count\": 1, \"max\": 0.08679261105537414, \"sum\": 0.08679261105537414, \"min\": 0.08679261105537414}, \"validation_binary_classification_cross_entropy\": {\"count\": 1, \"max\": -Infinity, \"sum\": NaN, \"min\": Infinity}}, \"EndTime\": 1520507435.045996, \"Dimensions\": {\"model\": 3, \"Host\": \"algo-1\", \"Operation\": \"training\", \"Algorithm\": \"Linear Learner\", \"epoch\": 5}, \"StartTime\": 1520507435.045975}\n",
      "\u001b[0m\n",
      "\u001b[31m#metrics {\"Metrics\": {\"training_binary_classification_cross_entropy\": {\"count\": 1, \"max\": 0.15789888712882996, \"sum\": 0.15789888712882996, \"min\": 0.15789888712882996}, \"validation_binary_classification_cross_entropy\": {\"count\": 1, \"max\": -Infinity, \"sum\": NaN, \"min\": Infinity}}, \"EndTime\": 1520507435.04605, \"Dimensions\": {\"model\": 4, \"Host\": \"algo-1\", \"Operation\": \"training\", \"Algorithm\": \"Linear Learner\", \"epoch\": 5}, \"StartTime\": 1520507435.046031}\n",
      "\u001b[0m\n",
      "\u001b[31m#metrics {\"Metrics\": {\"training_binary_classification_cross_entropy\": {\"count\": 1, \"max\": 0.29492327500343324, \"sum\": 0.29492327500343324, \"min\": 0.29492327500343324}, \"validation_binary_classification_cross_entropy\": {\"count\": 1, \"max\": -Infinity, \"sum\": NaN, \"min\": Infinity}}, \"EndTime\": 1520507435.046112, \"Dimensions\": {\"model\": 5, \"Host\": \"algo-1\", \"Operation\": \"training\", \"Algorithm\": \"Linear Learner\", \"epoch\": 5}, \"StartTime\": 1520507435.046092}\n",
      "\u001b[0m\n",
      "\u001b[31m#metrics {\"Metrics\": {\"training_binary_classification_cross_entropy\": {\"count\": 1, \"max\": 0.15526685430049897, \"sum\": 0.15526685430049897, \"min\": 0.15526685430049897}, \"validation_binary_classification_cross_entropy\": {\"count\": 1, \"max\": -Infinity, \"sum\": NaN, \"min\": Infinity}}, \"EndTime\": 1520507435.04617, \"Dimensions\": {\"model\": 6, \"Host\": \"algo-1\", \"Operation\": \"training\", \"Algorithm\": \"Linear Learner\", \"epoch\": 5}, \"StartTime\": 1520507435.046152}\n",
      "\u001b[0m\n",
      "\u001b[31m#metrics {\"Metrics\": {\"training_binary_classification_cross_entropy\": {\"count\": 1, \"max\": 0.30955008920192717, \"sum\": 0.30955008920192717, \"min\": 0.30955008920192717}, \"validation_binary_classification_cross_entropy\": {\"count\": 1, \"max\": -Infinity, \"sum\": NaN, \"min\": Infinity}}, \"EndTime\": 1520507435.046232, \"Dimensions\": {\"model\": 7, \"Host\": \"algo-1\", \"Operation\": \"training\", \"Algorithm\": \"Linear Learner\", \"epoch\": 5}, \"StartTime\": 1520507435.046213}\n",
      "\u001b[0m\n",
      "\u001b[31m#metrics {\"Metrics\": {\"training_binary_classification_cross_entropy\": {\"count\": 1, \"max\": 0.08691601954460144, \"sum\": 0.08691601954460144, \"min\": 0.08691601954460144}, \"validation_binary_classification_cross_entropy\": {\"count\": 1, \"max\": -Infinity, \"sum\": NaN, \"min\": Infinity}}, \"EndTime\": 1520507435.046289, \"Dimensions\": {\"model\": 8, \"Host\": \"algo-1\", \"Operation\": \"training\", \"Algorithm\": \"Linear Learner\", \"epoch\": 5}, \"StartTime\": 1520507435.046271}\n",
      "\u001b[0m\n",
      "\u001b[31m#metrics {\"Metrics\": {\"training_binary_classification_cross_entropy\": {\"count\": 1, \"max\": 0.09062419520378112, \"sum\": 0.09062419520378112, \"min\": 0.09062419520378112}, \"validation_binary_classification_cross_entropy\": {\"count\": 1, \"max\": -Infinity, \"sum\": NaN, \"min\": Infinity}}, \"EndTime\": 1520507435.046349, \"Dimensions\": {\"model\": 9, \"Host\": \"algo-1\", \"Operation\": \"training\", \"Algorithm\": \"Linear Learner\", \"epoch\": 5}, \"StartTime\": 1520507435.046329}\n",
      "\u001b[0m\n",
      "\u001b[31m#metrics {\"Metrics\": {\"training_binary_classification_cross_entropy\": {\"count\": 1, \"max\": 0.08691740178108215, \"sum\": 0.08691740178108215, \"min\": 0.08691740178108215}, \"validation_binary_classification_cross_entropy\": {\"count\": 1, \"max\": -Infinity, \"sum\": NaN, \"min\": Infinity}}, \"EndTime\": 1520507435.046415, \"Dimensions\": {\"model\": 10, \"Host\": \"algo-1\", \"Operation\": \"training\", \"Algorithm\": \"Linear Learner\", \"epoch\": 5}, \"StartTime\": 1520507435.046396}\n",
      "\u001b[0m\n",
      "\u001b[31m#metrics {\"Metrics\": {\"training_binary_classification_cross_entropy\": {\"count\": 1, \"max\": 0.0906932168483734, \"sum\": 0.0906932168483734, \"min\": 0.0906932168483734}, \"validation_binary_classification_cross_entropy\": {\"count\": 1, \"max\": -Infinity, \"sum\": NaN, \"min\": Infinity}}, \"EndTime\": 1520507435.046474, \"Dimensions\": {\"model\": 11, \"Host\": \"algo-1\", \"Operation\": \"training\", \"Algorithm\": \"Linear Learner\", \"epoch\": 5}, \"StartTime\": 1520507435.046455}\n",
      "\u001b[0m\n",
      "\u001b[31m#metrics {\"Metrics\": {\"training_binary_classification_cross_entropy\": {\"count\": 1, \"max\": 0.15476321971893311, \"sum\": 0.15476321971893311, \"min\": 0.15476321971893311}, \"validation_binary_classification_cross_entropy\": {\"count\": 1, \"max\": -Infinity, \"sum\": NaN, \"min\": Infinity}}, \"EndTime\": 1520507435.046524, \"Dimensions\": {\"model\": 12, \"Host\": \"algo-1\", \"Operation\": \"training\", \"Algorithm\": \"Linear Learner\", \"epoch\": 5}, \"StartTime\": 1520507435.046506}\n",
      "\u001b[0m\n",
      "\u001b[31m#metrics {\"Metrics\": {\"training_binary_classification_cross_entropy\": {\"count\": 1, \"max\": 0.27507478491783144, \"sum\": 0.27507478491783144, \"min\": 0.27507478491783144}, \"validation_binary_classification_cross_entropy\": {\"count\": 1, \"max\": -Infinity, \"sum\": NaN, \"min\": Infinity}}, \"EndTime\": 1520507435.046584, \"Dimensions\": {\"model\": 13, \"Host\": \"algo-1\", \"Operation\": \"training\", \"Algorithm\": \"Linear Learner\", \"epoch\": 5}, \"StartTime\": 1520507435.046564}\n",
      "\u001b[0m\n",
      "\u001b[31m#metrics {\"Metrics\": {\"training_binary_classification_cross_entropy\": {\"count\": 1, \"max\": 0.1548575127029419, \"sum\": 0.1548575127029419, \"min\": 0.1548575127029419}, \"validation_binary_classification_cross_entropy\": {\"count\": 1, \"max\": -Infinity, \"sum\": NaN, \"min\": Infinity}}, \"EndTime\": 1520507435.046642, \"Dimensions\": {\"model\": 14, \"Host\": \"algo-1\", \"Operation\": \"training\", \"Algorithm\": \"Linear Learner\", \"epoch\": 5}, \"StartTime\": 1520507435.046623}\n",
      "\u001b[0m\n",
      "\u001b[31m#metrics {\"Metrics\": {\"training_binary_classification_cross_entropy\": {\"count\": 1, \"max\": 0.27843995966911317, \"sum\": 0.27843995966911317, \"min\": 0.27843995966911317}, \"validation_binary_classification_cross_entropy\": {\"count\": 1, \"max\": -Infinity, \"sum\": NaN, \"min\": Infinity}}, \"EndTime\": 1520507435.04669, \"Dimensions\": {\"model\": 15, \"Host\": \"algo-1\", \"Operation\": \"training\", \"Algorithm\": \"Linear Learner\", \"epoch\": 5}, \"StartTime\": 1520507435.046672}\n",
      "\u001b[0m\n",
      "\u001b[31m#metrics {\"Metrics\": {\"training_binary_classification_cross_entropy\": {\"count\": 1, \"max\": 0.16415758476257325, \"sum\": 0.16415758476257325, \"min\": 0.16415758476257325}, \"validation_binary_classification_cross_entropy\": {\"count\": 1, \"max\": -Infinity, \"sum\": NaN, \"min\": Infinity}}, \"EndTime\": 1520507435.046748, \"Dimensions\": {\"model\": 16, \"Host\": \"algo-1\", \"Operation\": \"training\", \"Algorithm\": \"Linear Learner\", \"epoch\": 5}, \"StartTime\": 1520507435.046729}\n",
      "\u001b[0m\n",
      "\u001b[31m#metrics {\"Metrics\": {\"training_binary_classification_cross_entropy\": {\"count\": 1, \"max\": 0.1658746842956543, \"sum\": 0.1658746842956543, \"min\": 0.1658746842956543}, \"validation_binary_classification_cross_entropy\": {\"count\": 1, \"max\": -Infinity, \"sum\": NaN, \"min\": Infinity}}, \"EndTime\": 1520507435.046798, \"Dimensions\": {\"model\": 17, \"Host\": \"algo-1\", \"Operation\": \"training\", \"Algorithm\": \"Linear Learner\", \"epoch\": 5}, \"StartTime\": 1520507435.04678}\n",
      "\u001b[0m\n",
      "\u001b[31m#metrics {\"Metrics\": {\"training_binary_classification_cross_entropy\": {\"count\": 1, \"max\": 0.16416197742462157, \"sum\": 0.16416197742462157, \"min\": 0.16416197742462157}, \"validation_binary_classification_cross_entropy\": {\"count\": 1, \"max\": -Infinity, \"sum\": NaN, \"min\": Infinity}}, \"EndTime\": 1520507435.046849, \"Dimensions\": {\"model\": 18, \"Host\": \"algo-1\", \"Operation\": \"training\", \"Algorithm\": \"Linear Learner\", \"epoch\": 5}, \"StartTime\": 1520507435.046831}\n",
      "\u001b[0m\n",
      "\u001b[31m#metrics {\"Metrics\": {\"training_binary_classification_cross_entropy\": {\"count\": 1, \"max\": 0.165859005317688, \"sum\": 0.165859005317688, \"min\": 0.165859005317688}, \"validation_binary_classification_cross_entropy\": {\"count\": 1, \"max\": -Infinity, \"sum\": NaN, \"min\": Infinity}}, \"EndTime\": 1520507435.046904, \"Dimensions\": {\"model\": 19, \"Host\": \"algo-1\", \"Operation\": \"training\", \"Algorithm\": \"Linear Learner\", \"epoch\": 5}, \"StartTime\": 1520507435.046886}\n",
      "\u001b[0m\n",
      "\u001b[31m#metrics {\"Metrics\": {\"training_binary_classification_cross_entropy\": {\"count\": 1, \"max\": 0.18421755207061769, \"sum\": 0.18421755207061769, \"min\": 0.18421755207061769}, \"validation_binary_classification_cross_entropy\": {\"count\": 1, \"max\": -Infinity, \"sum\": NaN, \"min\": Infinity}}, \"EndTime\": 1520507435.046961, \"Dimensions\": {\"model\": 20, \"Host\": \"algo-1\", \"Operation\": \"training\", \"Algorithm\": \"Linear Learner\", \"epoch\": 5}, \"StartTime\": 1520507435.046942}\n",
      "\u001b[0m\n",
      "\u001b[31m#metrics {\"Metrics\": {\"training_binary_classification_cross_entropy\": {\"count\": 1, \"max\": 0.21322451793670655, \"sum\": 0.21322451793670655, \"min\": 0.21322451793670655}, \"validation_binary_classification_cross_entropy\": {\"count\": 1, \"max\": -Infinity, \"sum\": NaN, \"min\": Infinity}}, \"EndTime\": 1520507435.047013, \"Dimensions\": {\"model\": 21, \"Host\": \"algo-1\", \"Operation\": \"training\", \"Algorithm\": \"Linear Learner\", \"epoch\": 5}, \"StartTime\": 1520507435.046994}\n",
      "\u001b[0m\n",
      "\u001b[31m#metrics {\"Metrics\": {\"training_binary_classification_cross_entropy\": {\"count\": 1, \"max\": 0.18462414890289305, \"sum\": 0.18462414890289305, \"min\": 0.18462414890289305}, \"validation_binary_classification_cross_entropy\": {\"count\": 1, \"max\": -Infinity, \"sum\": NaN, \"min\": Infinity}}, \"EndTime\": 1520507435.047071, \"Dimensions\": {\"model\": 22, \"Host\": \"algo-1\", \"Operation\": \"training\", \"Algorithm\": \"Linear Learner\", \"epoch\": 5}, \"StartTime\": 1520507435.047051}\n",
      "\u001b[0m\n",
      "\u001b[31m#metrics {\"Metrics\": {\"training_binary_classification_cross_entropy\": {\"count\": 1, \"max\": 0.21217277660369874, \"sum\": 0.21217277660369874, \"min\": 0.21217277660369874}, \"validation_binary_classification_cross_entropy\": {\"count\": 1, \"max\": -Infinity, \"sum\": NaN, \"min\": Infinity}}, \"EndTime\": 1520507435.047133, \"Dimensions\": {\"model\": 23, \"Host\": \"algo-1\", \"Operation\": \"training\", \"Algorithm\": \"Linear Learner\", \"epoch\": 5}, \"StartTime\": 1520507435.047113}\n",
      "\u001b[0m\n",
      "\u001b[31m#metrics {\"Metrics\": {\"training_binary_classification_cross_entropy\": {\"count\": 1, \"max\": 0.32205660461425784, \"sum\": 0.32205660461425784, \"min\": 0.32205660461425784}, \"validation_binary_classification_cross_entropy\": {\"count\": 1, \"max\": -Infinity, \"sum\": NaN, \"min\": Infinity}}, \"EndTime\": 1520507435.047195, \"Dimensions\": {\"model\": 24, \"Host\": \"algo-1\", \"Operation\": \"training\", \"Algorithm\": \"Linear Learner\", \"epoch\": 5}, \"StartTime\": 1520507435.047175}\n",
      "\u001b[0m\n",
      "\u001b[31m#metrics {\"Metrics\": {\"training_binary_classification_cross_entropy\": {\"count\": 1, \"max\": 0.3220850805664062, \"sum\": 0.3220850805664062, \"min\": 0.3220850805664062}, \"validation_binary_classification_cross_entropy\": {\"count\": 1, \"max\": -Infinity, \"sum\": NaN, \"min\": Infinity}}, \"EndTime\": 1520507435.047254, \"Dimensions\": {\"model\": 25, \"Host\": \"algo-1\", \"Operation\": \"training\", \"Algorithm\": \"Linear Learner\", \"epoch\": 5}, \"StartTime\": 1520507435.047234}\n",
      "\u001b[0m\n",
      "\u001b[31m#metrics {\"Metrics\": {\"training_binary_classification_cross_entropy\": {\"count\": 1, \"max\": 0.32209400047302245, \"sum\": 0.32209400047302245, \"min\": 0.32209400047302245}, \"validation_binary_classification_cross_entropy\": {\"count\": 1, \"max\": -Infinity, \"sum\": NaN, \"min\": Infinity}}, \"EndTime\": 1520507435.047302, \"Dimensions\": {\"model\": 26, \"Host\": \"algo-1\", \"Operation\": \"training\", \"Algorithm\": \"Linear Learner\", \"epoch\": 5}, \"StartTime\": 1520507435.047284}\n",
      "\u001b[0m\n",
      "\u001b[31m#metrics {\"Metrics\": {\"training_binary_classification_cross_entropy\": {\"count\": 1, \"max\": 0.3221147677612305, \"sum\": 0.3221147677612305, \"min\": 0.3221147677612305}, \"validation_binary_classification_cross_entropy\": {\"count\": 1, \"max\": -Infinity, \"sum\": NaN, \"min\": Infinity}}, \"EndTime\": 1520507435.047365, \"Dimensions\": {\"model\": 27, \"Host\": \"algo-1\", \"Operation\": \"training\", \"Algorithm\": \"Linear Learner\", \"epoch\": 5}, \"StartTime\": 1520507435.047345}\n",
      "\u001b[0m\n",
      "\u001b[31m#metrics {\"Metrics\": {\"training_binary_classification_cross_entropy\": {\"count\": 1, \"max\": 0.32314509246826173, \"sum\": 0.32314509246826173, \"min\": 0.32314509246826173}, \"validation_binary_classification_cross_entropy\": {\"count\": 1, \"max\": -Infinity, \"sum\": NaN, \"min\": Infinity}}, \"EndTime\": 1520507435.047413, \"Dimensions\": {\"model\": 28, \"Host\": \"algo-1\", \"Operation\": \"training\", \"Algorithm\": \"Linear Learner\", \"epoch\": 5}, \"StartTime\": 1520507435.047395}\n",
      "\u001b[0m\n",
      "\u001b[31m#metrics {\"Metrics\": {\"training_binary_classification_cross_entropy\": {\"count\": 1, \"max\": 0.32438503395080565, \"sum\": 0.32438503395080565, \"min\": 0.32438503395080565}, \"validation_binary_classification_cross_entropy\": {\"count\": 1, \"max\": -Infinity, \"sum\": NaN, \"min\": Infinity}}, \"EndTime\": 1520507435.047462, \"Dimensions\": {\"model\": 29, \"Host\": \"algo-1\", \"Operation\": \"training\", \"Algorithm\": \"Linear Learner\", \"epoch\": 5}, \"StartTime\": 1520507435.047444}\n",
      "\u001b[0m\n",
      "\u001b[31m#metrics {\"Metrics\": {\"training_binary_classification_cross_entropy\": {\"count\": 1, \"max\": 0.3231253101348877, \"sum\": 0.3231253101348877, \"min\": 0.3231253101348877}, \"validation_binary_classification_cross_entropy\": {\"count\": 1, \"max\": -Infinity, \"sum\": NaN, \"min\": Infinity}}, \"EndTime\": 1520507435.04752, \"Dimensions\": {\"model\": 30, \"Host\": \"algo-1\", \"Operation\": \"training\", \"Algorithm\": \"Linear Learner\", \"epoch\": 5}, \"StartTime\": 1520507435.047501}\n",
      "\u001b[0m\n",
      "\u001b[31m#metrics {\"Metrics\": {\"training_binary_classification_cross_entropy\": {\"count\": 1, \"max\": 0.32452252487182615, \"sum\": 0.32452252487182615, \"min\": 0.32452252487182615}, \"validation_binary_classification_cross_entropy\": {\"count\": 1, \"max\": -Infinity, \"sum\": NaN, \"min\": Infinity}}, \"EndTime\": 1520507435.047571, \"Dimensions\": {\"model\": 31, \"Host\": \"algo-1\", \"Operation\": \"training\", \"Algorithm\": \"Linear Learner\", \"epoch\": 5}, \"StartTime\": 1520507435.047553}\n",
      "\u001b[0m\n",
      "\u001b[31m[03/08/2018 11:10:35 INFO 139650080663360] Epoch 5: Loss improved.  Updating best model\u001b[0m\n",
      "\u001b[31m#metrics {\"Metrics\": {\"Max Batches Seen Between Resets\": {\"count\": 1, \"max\": 250, \"sum\": 250.0, \"min\": 250}, \"Number of Batches Since Last Reset\": {\"count\": 1, \"max\": 250, \"sum\": 250.0, \"min\": 250}, \"Number of Records Since Last Reset\": {\"count\": 1, \"max\": 50000, \"sum\": 50000.0, \"min\": 50000}, \"Total Batches Seen\": {\"count\": 1, \"max\": 1302, \"sum\": 1302.0, \"min\": 1302}, \"Total Records Seen\": {\"count\": 1, \"max\": 260400, \"sum\": 260400.0, \"min\": 260400}, \"Max Records Seen Between Resets\": {\"count\": 1, \"max\": 50000, \"sum\": 50000.0, \"min\": 50000}, \"Reset Count\": {\"count\": 1, \"max\": 7, \"sum\": 7.0, \"min\": 7}}, \"EndTime\": 1520507435.048529, \"Dimensions\": {\"Host\": \"algo-1\", \"Meta\": \"training_data_iter\", \"Operation\": \"training\", \"Algorithm\": \"Linear Learner\", \"epoch\": 4}, \"StartTime\": 1520507435.048499}\n",
      "\u001b[0m\n"
     ]
    },
    {
     "name": "stdout",
     "output_type": "stream",
     "text": [
      "\u001b[31m#metrics {\"Metrics\": {\"training_binary_classification_cross_entropy\": {\"count\": 1, \"max\": 0.08258299269676209, \"sum\": 0.08258299269676209, \"min\": 0.08258299269676209}, \"validation_binary_classification_cross_entropy\": {\"count\": 1, \"max\": -Infinity, \"sum\": NaN, \"min\": Infinity}}, \"EndTime\": 1520507441.550683, \"Dimensions\": {\"model\": 0, \"Host\": \"algo-1\", \"Operation\": \"training\", \"Algorithm\": \"Linear Learner\", \"epoch\": 6}, \"StartTime\": 1520507441.550608}\n",
      "\u001b[0m\n",
      "\u001b[31m#metrics {\"Metrics\": {\"training_binary_classification_cross_entropy\": {\"count\": 1, \"max\": 0.08607004860877991, \"sum\": 0.08607004860877991, \"min\": 0.08607004860877991}, \"validation_binary_classification_cross_entropy\": {\"count\": 1, \"max\": -Infinity, \"sum\": NaN, \"min\": Infinity}}, \"EndTime\": 1520507441.550771, \"Dimensions\": {\"model\": 1, \"Host\": \"algo-1\", \"Operation\": \"training\", \"Algorithm\": \"Linear Learner\", \"epoch\": 6}, \"StartTime\": 1520507441.550748}\n",
      "\u001b[0m\n",
      "\u001b[31m#metrics {\"Metrics\": {\"training_binary_classification_cross_entropy\": {\"count\": 1, \"max\": 0.08229693762779236, \"sum\": 0.08229693762779236, \"min\": 0.08229693762779236}, \"validation_binary_classification_cross_entropy\": {\"count\": 1, \"max\": -Infinity, \"sum\": NaN, \"min\": Infinity}}, \"EndTime\": 1520507441.550836, \"Dimensions\": {\"model\": 2, \"Host\": \"algo-1\", \"Operation\": \"training\", \"Algorithm\": \"Linear Learner\", \"epoch\": 6}, \"StartTime\": 1520507441.550816}\n",
      "\u001b[0m\n",
      "\u001b[31m#metrics {\"Metrics\": {\"training_binary_classification_cross_entropy\": {\"count\": 1, \"max\": 0.08612849203109742, \"sum\": 0.08612849203109742, \"min\": 0.08612849203109742}, \"validation_binary_classification_cross_entropy\": {\"count\": 1, \"max\": -Infinity, \"sum\": NaN, \"min\": Infinity}}, \"EndTime\": 1520507441.550902, \"Dimensions\": {\"model\": 3, \"Host\": \"algo-1\", \"Operation\": \"training\", \"Algorithm\": \"Linear Learner\", \"epoch\": 6}, \"StartTime\": 1520507441.55088}\n",
      "\u001b[0m\n",
      "\u001b[31m#metrics {\"Metrics\": {\"training_binary_classification_cross_entropy\": {\"count\": 1, \"max\": 0.13650414948940276, \"sum\": 0.13650414948940276, \"min\": 0.13650414948940276}, \"validation_binary_classification_cross_entropy\": {\"count\": 1, \"max\": -Infinity, \"sum\": NaN, \"min\": Infinity}}, \"EndTime\": 1520507441.550956, \"Dimensions\": {\"model\": 4, \"Host\": \"algo-1\", \"Operation\": \"training\", \"Algorithm\": \"Linear Learner\", \"epoch\": 6}, \"StartTime\": 1520507441.550936}\n",
      "\u001b[0m\n",
      "\u001b[31m#metrics {\"Metrics\": {\"training_binary_classification_cross_entropy\": {\"count\": 1, \"max\": 0.3003050674629211, \"sum\": 0.3003050674629211, \"min\": 0.3003050674629211}, \"validation_binary_classification_cross_entropy\": {\"count\": 1, \"max\": -Infinity, \"sum\": NaN, \"min\": Infinity}}, \"EndTime\": 1520507441.551016, \"Dimensions\": {\"model\": 5, \"Host\": \"algo-1\", \"Operation\": \"training\", \"Algorithm\": \"Linear Learner\", \"epoch\": 6}, \"StartTime\": 1520507441.550996}\n",
      "\u001b[0m\n",
      "\u001b[31m#metrics {\"Metrics\": {\"training_binary_classification_cross_entropy\": {\"count\": 1, \"max\": 0.13628648292064666, \"sum\": 0.13628648292064666, \"min\": 0.13628648292064666}, \"validation_binary_classification_cross_entropy\": {\"count\": 1, \"max\": -Infinity, \"sum\": NaN, \"min\": Infinity}}, \"EndTime\": 1520507441.551074, \"Dimensions\": {\"model\": 6, \"Host\": \"algo-1\", \"Operation\": \"training\", \"Algorithm\": \"Linear Learner\", \"epoch\": 6}, \"StartTime\": 1520507441.551054}\n",
      "\u001b[0m\n",
      "\u001b[31m#metrics {\"Metrics\": {\"training_binary_classification_cross_entropy\": {\"count\": 1, \"max\": 0.30012180554032325, \"sum\": 0.30012180554032325, \"min\": 0.30012180554032325}, \"validation_binary_classification_cross_entropy\": {\"count\": 1, \"max\": -Infinity, \"sum\": NaN, \"min\": Infinity}}, \"EndTime\": 1520507441.551132, \"Dimensions\": {\"model\": 7, \"Host\": \"algo-1\", \"Operation\": \"training\", \"Algorithm\": \"Linear Learner\", \"epoch\": 6}, \"StartTime\": 1520507441.551114}\n",
      "\u001b[0m\n",
      "\u001b[31m#metrics {\"Metrics\": {\"training_binary_classification_cross_entropy\": {\"count\": 1, \"max\": 0.08593406920433044, \"sum\": 0.08593406920433044, \"min\": 0.08593406920433044}, \"validation_binary_classification_cross_entropy\": {\"count\": 1, \"max\": -Infinity, \"sum\": NaN, \"min\": Infinity}}, \"EndTime\": 1520507441.551187, \"Dimensions\": {\"model\": 8, \"Host\": \"algo-1\", \"Operation\": \"training\", \"Algorithm\": \"Linear Learner\", \"epoch\": 6}, \"StartTime\": 1520507441.551169}\n",
      "\u001b[0m\n",
      "\u001b[31m#metrics {\"Metrics\": {\"training_binary_classification_cross_entropy\": {\"count\": 1, \"max\": 0.09062366333007812, \"sum\": 0.09062366333007812, \"min\": 0.09062366333007812}, \"validation_binary_classification_cross_entropy\": {\"count\": 1, \"max\": -Infinity, \"sum\": NaN, \"min\": Infinity}}, \"EndTime\": 1520507441.551249, \"Dimensions\": {\"model\": 9, \"Host\": \"algo-1\", \"Operation\": \"training\", \"Algorithm\": \"Linear Learner\", \"epoch\": 6}, \"StartTime\": 1520507441.551228}\n",
      "\u001b[0m\n",
      "\u001b[31m#metrics {\"Metrics\": {\"training_binary_classification_cross_entropy\": {\"count\": 1, \"max\": 0.08593765765190124, \"sum\": 0.08593765765190124, \"min\": 0.08593765765190124}, \"validation_binary_classification_cross_entropy\": {\"count\": 1, \"max\": -Infinity, \"sum\": NaN, \"min\": Infinity}}, \"EndTime\": 1520507441.551301, \"Dimensions\": {\"model\": 10, \"Host\": \"algo-1\", \"Operation\": \"training\", \"Algorithm\": \"Linear Learner\", \"epoch\": 6}, \"StartTime\": 1520507441.551282}\n",
      "\u001b[0m\n",
      "\u001b[31m#metrics {\"Metrics\": {\"training_binary_classification_cross_entropy\": {\"count\": 1, \"max\": 0.09064181401252747, \"sum\": 0.09064181401252747, \"min\": 0.09064181401252747}, \"validation_binary_classification_cross_entropy\": {\"count\": 1, \"max\": -Infinity, \"sum\": NaN, \"min\": Infinity}}, \"EndTime\": 1520507441.551354, \"Dimensions\": {\"model\": 11, \"Host\": \"algo-1\", \"Operation\": \"training\", \"Algorithm\": \"Linear Learner\", \"epoch\": 6}, \"StartTime\": 1520507441.551335}\n",
      "\u001b[0m\n",
      "\u001b[31m#metrics {\"Metrics\": {\"training_binary_classification_cross_entropy\": {\"count\": 1, \"max\": 0.13557334226608275, \"sum\": 0.13557334226608275, \"min\": 0.13557334226608275}, \"validation_binary_classification_cross_entropy\": {\"count\": 1, \"max\": -Infinity, \"sum\": NaN, \"min\": Infinity}}, \"EndTime\": 1520507441.551425, \"Dimensions\": {\"model\": 12, \"Host\": \"algo-1\", \"Operation\": \"training\", \"Algorithm\": \"Linear Learner\", \"epoch\": 6}, \"StartTime\": 1520507441.551406}\n",
      "\u001b[0m\n",
      "\u001b[31m#metrics {\"Metrics\": {\"training_binary_classification_cross_entropy\": {\"count\": 1, \"max\": 0.277849140253067, \"sum\": 0.277849140253067, \"min\": 0.277849140253067}, \"validation_binary_classification_cross_entropy\": {\"count\": 1, \"max\": -Infinity, \"sum\": NaN, \"min\": Infinity}}, \"EndTime\": 1520507441.551485, \"Dimensions\": {\"model\": 13, \"Host\": \"algo-1\", \"Operation\": \"training\", \"Algorithm\": \"Linear Learner\", \"epoch\": 6}, \"StartTime\": 1520507441.551466}\n",
      "\u001b[0m\n",
      "\u001b[31m#metrics {\"Metrics\": {\"training_binary_classification_cross_entropy\": {\"count\": 1, \"max\": 0.1366109761095047, \"sum\": 0.1366109761095047, \"min\": 0.1366109761095047}, \"validation_binary_classification_cross_entropy\": {\"count\": 1, \"max\": -Infinity, \"sum\": NaN, \"min\": Infinity}}, \"EndTime\": 1520507441.551531, \"Dimensions\": {\"model\": 14, \"Host\": \"algo-1\", \"Operation\": \"training\", \"Algorithm\": \"Linear Learner\", \"epoch\": 6}, \"StartTime\": 1520507441.551513}\n",
      "\u001b[0m\n",
      "\u001b[31m#metrics {\"Metrics\": {\"training_binary_classification_cross_entropy\": {\"count\": 1, \"max\": 0.2769781442260742, \"sum\": 0.2769781442260742, \"min\": 0.2769781442260742}, \"validation_binary_classification_cross_entropy\": {\"count\": 1, \"max\": -Infinity, \"sum\": NaN, \"min\": Infinity}}, \"EndTime\": 1520507441.551588, \"Dimensions\": {\"model\": 15, \"Host\": \"algo-1\", \"Operation\": \"training\", \"Algorithm\": \"Linear Learner\", \"epoch\": 6}, \"StartTime\": 1520507441.551569}\n",
      "\u001b[0m\n",
      "\u001b[31m#metrics {\"Metrics\": {\"training_binary_classification_cross_entropy\": {\"count\": 1, \"max\": 0.16401892406463622, \"sum\": 0.16401892406463622, \"min\": 0.16401892406463622}, \"validation_binary_classification_cross_entropy\": {\"count\": 1, \"max\": -Infinity, \"sum\": NaN, \"min\": Infinity}}, \"EndTime\": 1520507441.551639, \"Dimensions\": {\"model\": 16, \"Host\": \"algo-1\", \"Operation\": \"training\", \"Algorithm\": \"Linear Learner\", \"epoch\": 6}, \"StartTime\": 1520507441.55162}\n",
      "\u001b[0m\n",
      "\u001b[31m#metrics {\"Metrics\": {\"training_binary_classification_cross_entropy\": {\"count\": 1, \"max\": 0.16580603309631348, \"sum\": 0.16580603309631348, \"min\": 0.16580603309631348}, \"validation_binary_classification_cross_entropy\": {\"count\": 1, \"max\": -Infinity, \"sum\": NaN, \"min\": Infinity}}, \"EndTime\": 1520507441.551692, \"Dimensions\": {\"model\": 17, \"Host\": \"algo-1\", \"Operation\": \"training\", \"Algorithm\": \"Linear Learner\", \"epoch\": 6}, \"StartTime\": 1520507441.551673}\n",
      "\u001b[0m\n",
      "\u001b[31m#metrics {\"Metrics\": {\"training_binary_classification_cross_entropy\": {\"count\": 1, \"max\": 0.16402061447143554, \"sum\": 0.16402061447143554, \"min\": 0.16402061447143554}, \"validation_binary_classification_cross_entropy\": {\"count\": 1, \"max\": -Infinity, \"sum\": NaN, \"min\": Infinity}}, \"EndTime\": 1520507441.551748, \"Dimensions\": {\"model\": 18, \"Host\": \"algo-1\", \"Operation\": \"training\", \"Algorithm\": \"Linear Learner\", \"epoch\": 6}, \"StartTime\": 1520507441.551729}\n",
      "\u001b[0m\n",
      "\u001b[31m#metrics {\"Metrics\": {\"training_binary_classification_cross_entropy\": {\"count\": 1, \"max\": 0.16579711563110353, \"sum\": 0.16579711563110353, \"min\": 0.16579711563110353}, \"validation_binary_classification_cross_entropy\": {\"count\": 1, \"max\": -Infinity, \"sum\": NaN, \"min\": Infinity}}, \"EndTime\": 1520507441.551836, \"Dimensions\": {\"model\": 19, \"Host\": \"algo-1\", \"Operation\": \"training\", \"Algorithm\": \"Linear Learner\", \"epoch\": 6}, \"StartTime\": 1520507441.551814}\n",
      "\u001b[0m\n",
      "\u001b[31m#metrics {\"Metrics\": {\"training_binary_classification_cross_entropy\": {\"count\": 1, \"max\": 0.17926829460144042, \"sum\": 0.17926829460144042, \"min\": 0.17926829460144042}, \"validation_binary_classification_cross_entropy\": {\"count\": 1, \"max\": -Infinity, \"sum\": NaN, \"min\": Infinity}}, \"EndTime\": 1520507441.551908, \"Dimensions\": {\"model\": 20, \"Host\": \"algo-1\", \"Operation\": \"training\", \"Algorithm\": \"Linear Learner\", \"epoch\": 6}, \"StartTime\": 1520507441.551887}\n",
      "\u001b[0m\n",
      "\u001b[31m#metrics {\"Metrics\": {\"training_binary_classification_cross_entropy\": {\"count\": 1, \"max\": 0.21097290828704834, \"sum\": 0.21097290828704834, \"min\": 0.21097290828704834}, \"validation_binary_classification_cross_entropy\": {\"count\": 1, \"max\": -Infinity, \"sum\": NaN, \"min\": Infinity}}, \"EndTime\": 1520507441.551972, \"Dimensions\": {\"model\": 21, \"Host\": \"algo-1\", \"Operation\": \"training\", \"Algorithm\": \"Linear Learner\", \"epoch\": 6}, \"StartTime\": 1520507441.551952}\n",
      "\u001b[0m\n",
      "\u001b[31m#metrics {\"Metrics\": {\"training_binary_classification_cross_entropy\": {\"count\": 1, \"max\": 0.17897418731689452, \"sum\": 0.17897418731689452, \"min\": 0.17897418731689452}, \"validation_binary_classification_cross_entropy\": {\"count\": 1, \"max\": -Infinity, \"sum\": NaN, \"min\": Infinity}}, \"EndTime\": 1520507441.552033, \"Dimensions\": {\"model\": 22, \"Host\": \"algo-1\", \"Operation\": \"training\", \"Algorithm\": \"Linear Learner\", \"epoch\": 6}, \"StartTime\": 1520507441.552017}\n",
      "\u001b[0m\n",
      "\u001b[31m#metrics {\"Metrics\": {\"training_binary_classification_cross_entropy\": {\"count\": 1, \"max\": 0.21094832481384276, \"sum\": 0.21094832481384276, \"min\": 0.21094832481384276}, \"validation_binary_classification_cross_entropy\": {\"count\": 1, \"max\": -Infinity, \"sum\": NaN, \"min\": Infinity}}, \"EndTime\": 1520507441.552089, \"Dimensions\": {\"model\": 23, \"Host\": \"algo-1\", \"Operation\": \"training\", \"Algorithm\": \"Linear Learner\", \"epoch\": 6}, \"StartTime\": 1520507441.552072}\n",
      "\u001b[0m\n",
      "\u001b[31m#metrics {\"Metrics\": {\"training_binary_classification_cross_entropy\": {\"count\": 1, \"max\": 0.32205486251831056, \"sum\": 0.32205486251831056, \"min\": 0.32205486251831056}, \"validation_binary_classification_cross_entropy\": {\"count\": 1, \"max\": -Infinity, \"sum\": NaN, \"min\": Infinity}}, \"EndTime\": 1520507441.552137, \"Dimensions\": {\"model\": 24, \"Host\": \"algo-1\", \"Operation\": \"training\", \"Algorithm\": \"Linear Learner\", \"epoch\": 6}, \"StartTime\": 1520507441.552121}\n",
      "\u001b[0m\n",
      "\u001b[31m#metrics {\"Metrics\": {\"training_binary_classification_cross_entropy\": {\"count\": 1, \"max\": 0.32209712043762206, \"sum\": 0.32209712043762206, \"min\": 0.32209712043762206}, \"validation_binary_classification_cross_entropy\": {\"count\": 1, \"max\": -Infinity, \"sum\": NaN, \"min\": Infinity}}, \"EndTime\": 1520507441.552204, \"Dimensions\": {\"model\": 25, \"Host\": \"algo-1\", \"Operation\": \"training\", \"Algorithm\": \"Linear Learner\", \"epoch\": 6}, \"StartTime\": 1520507441.552183}\n",
      "\u001b[0m\n",
      "\u001b[31m#metrics {\"Metrics\": {\"training_binary_classification_cross_entropy\": {\"count\": 1, \"max\": 0.322072699508667, \"sum\": 0.322072699508667, \"min\": 0.322072699508667}, \"validation_binary_classification_cross_entropy\": {\"count\": 1, \"max\": -Infinity, \"sum\": NaN, \"min\": Infinity}}, \"EndTime\": 1520507441.552275, \"Dimensions\": {\"model\": 26, \"Host\": \"algo-1\", \"Operation\": \"training\", \"Algorithm\": \"Linear Learner\", \"epoch\": 6}, \"StartTime\": 1520507441.552254}\n",
      "\u001b[0m\n",
      "\u001b[31m#metrics {\"Metrics\": {\"training_binary_classification_cross_entropy\": {\"count\": 1, \"max\": 0.32213118354797365, \"sum\": 0.32213118354797365, \"min\": 0.32213118354797365}, \"validation_binary_classification_cross_entropy\": {\"count\": 1, \"max\": -Infinity, \"sum\": NaN, \"min\": Infinity}}, \"EndTime\": 1520507441.552345, \"Dimensions\": {\"model\": 27, \"Host\": \"algo-1\", \"Operation\": \"training\", \"Algorithm\": \"Linear Learner\", \"epoch\": 6}, \"StartTime\": 1520507441.552323}\n",
      "\u001b[0m\n",
      "\u001b[31m#metrics {\"Metrics\": {\"training_binary_classification_cross_entropy\": {\"count\": 1, \"max\": 0.3228047635650635, \"sum\": 0.3228047635650635, \"min\": 0.3228047635650635}, \"validation_binary_classification_cross_entropy\": {\"count\": 1, \"max\": -Infinity, \"sum\": NaN, \"min\": Infinity}}, \"EndTime\": 1520507441.552408, \"Dimensions\": {\"model\": 28, \"Host\": \"algo-1\", \"Operation\": \"training\", \"Algorithm\": \"Linear Learner\", \"epoch\": 6}, \"StartTime\": 1520507441.552388}\n",
      "\u001b[0m\n",
      "\u001b[31m#metrics {\"Metrics\": {\"training_binary_classification_cross_entropy\": {\"count\": 1, \"max\": 0.32464655670166015, \"sum\": 0.32464655670166015, \"min\": 0.32464655670166015}, \"validation_binary_classification_cross_entropy\": {\"count\": 1, \"max\": -Infinity, \"sum\": NaN, \"min\": Infinity}}, \"EndTime\": 1520507441.552475, \"Dimensions\": {\"model\": 29, \"Host\": \"algo-1\", \"Operation\": \"training\", \"Algorithm\": \"Linear Learner\", \"epoch\": 6}, \"StartTime\": 1520507441.552455}\n",
      "\u001b[0m\n",
      "\u001b[31m#metrics {\"Metrics\": {\"training_binary_classification_cross_entropy\": {\"count\": 1, \"max\": 0.3227965369415283, \"sum\": 0.3227965369415283, \"min\": 0.3227965369415283}, \"validation_binary_classification_cross_entropy\": {\"count\": 1, \"max\": -Infinity, \"sum\": NaN, \"min\": Infinity}}, \"EndTime\": 1520507441.552541, \"Dimensions\": {\"model\": 30, \"Host\": \"algo-1\", \"Operation\": \"training\", \"Algorithm\": \"Linear Learner\", \"epoch\": 6}, \"StartTime\": 1520507441.552521}\n",
      "\u001b[0m\n",
      "\u001b[31m#metrics {\"Metrics\": {\"training_binary_classification_cross_entropy\": {\"count\": 1, \"max\": 0.32459897605896, \"sum\": 0.32459897605896, \"min\": 0.32459897605896}, \"validation_binary_classification_cross_entropy\": {\"count\": 1, \"max\": -Infinity, \"sum\": NaN, \"min\": Infinity}}, \"EndTime\": 1520507441.552605, \"Dimensions\": {\"model\": 31, \"Host\": \"algo-1\", \"Operation\": \"training\", \"Algorithm\": \"Linear Learner\", \"epoch\": 6}, \"StartTime\": 1520507441.552585}\n",
      "\u001b[0m\n",
      "\u001b[31m[03/08/2018 11:10:41 INFO 139650080663360] Epoch 6: Loss improved.  Updating best model\u001b[0m\n",
      "\u001b[31m#metrics {\"Metrics\": {\"Max Batches Seen Between Resets\": {\"count\": 1, \"max\": 250, \"sum\": 250.0, \"min\": 250}, \"Number of Batches Since Last Reset\": {\"count\": 1, \"max\": 250, \"sum\": 250.0, \"min\": 250}, \"Number of Records Since Last Reset\": {\"count\": 1, \"max\": 50000, \"sum\": 50000.0, \"min\": 50000}, \"Total Batches Seen\": {\"count\": 1, \"max\": 1552, \"sum\": 1552.0, \"min\": 1552}, \"Total Records Seen\": {\"count\": 1, \"max\": 310400, \"sum\": 310400.0, \"min\": 310400}, \"Max Records Seen Between Resets\": {\"count\": 1, \"max\": 50000, \"sum\": 50000.0, \"min\": 50000}, \"Reset Count\": {\"count\": 1, \"max\": 8, \"sum\": 8.0, \"min\": 8}}, \"EndTime\": 1520507441.553536, \"Dimensions\": {\"Host\": \"algo-1\", \"Meta\": \"training_data_iter\", \"Operation\": \"training\", \"Algorithm\": \"Linear Learner\", \"epoch\": 5}, \"StartTime\": 1520507441.553491}\n",
      "\u001b[0m\n"
     ]
    },
    {
     "name": "stdout",
     "output_type": "stream",
     "text": [
      "\u001b[31m#metrics {\"Metrics\": {\"training_binary_classification_cross_entropy\": {\"count\": 1, \"max\": 0.08150941736221314, \"sum\": 0.08150941736221314, \"min\": 0.08150941736221314}, \"validation_binary_classification_cross_entropy\": {\"count\": 1, \"max\": -Infinity, \"sum\": NaN, \"min\": Infinity}}, \"EndTime\": 1520507448.083298, \"Dimensions\": {\"model\": 0, \"Host\": \"algo-1\", \"Operation\": \"training\", \"Algorithm\": \"Linear Learner\", \"epoch\": 7}, \"StartTime\": 1520507448.083224}\n",
      "\u001b[0m\n",
      "\u001b[31m#metrics {\"Metrics\": {\"training_binary_classification_cross_entropy\": {\"count\": 1, \"max\": 0.08567238028526306, \"sum\": 0.08567238028526306, \"min\": 0.08567238028526306}, \"validation_binary_classification_cross_entropy\": {\"count\": 1, \"max\": -Infinity, \"sum\": NaN, \"min\": Infinity}}, \"EndTime\": 1520507448.083378, \"Dimensions\": {\"model\": 1, \"Host\": \"algo-1\", \"Operation\": \"training\", \"Algorithm\": \"Linear Learner\", \"epoch\": 7}, \"StartTime\": 1520507448.083362}\n",
      "\u001b[0m\n",
      "\u001b[31m#metrics {\"Metrics\": {\"training_binary_classification_cross_entropy\": {\"count\": 1, \"max\": 0.08132421223640442, \"sum\": 0.08132421223640442, \"min\": 0.08132421223640442}, \"validation_binary_classification_cross_entropy\": {\"count\": 1, \"max\": -Infinity, \"sum\": NaN, \"min\": Infinity}}, \"EndTime\": 1520507448.083444, \"Dimensions\": {\"model\": 2, \"Host\": \"algo-1\", \"Operation\": \"training\", \"Algorithm\": \"Linear Learner\", \"epoch\": 7}, \"StartTime\": 1520507448.083425}\n",
      "\u001b[0m\n",
      "\u001b[31m#metrics {\"Metrics\": {\"training_binary_classification_cross_entropy\": {\"count\": 1, \"max\": 0.08565964413642883, \"sum\": 0.08565964413642883, \"min\": 0.08565964413642883}, \"validation_binary_classification_cross_entropy\": {\"count\": 1, \"max\": -Infinity, \"sum\": NaN, \"min\": Infinity}}, \"EndTime\": 1520507448.083493, \"Dimensions\": {\"model\": 3, \"Host\": \"algo-1\", \"Operation\": \"training\", \"Algorithm\": \"Linear Learner\", \"epoch\": 7}, \"StartTime\": 1520507448.08348}\n",
      "\u001b[0m\n",
      "\u001b[31m#metrics {\"Metrics\": {\"training_binary_classification_cross_entropy\": {\"count\": 1, \"max\": 0.12184566315174103, \"sum\": 0.12184566315174103, \"min\": 0.12184566315174103}, \"validation_binary_classification_cross_entropy\": {\"count\": 1, \"max\": -Infinity, \"sum\": NaN, \"min\": Infinity}}, \"EndTime\": 1520507448.083549, \"Dimensions\": {\"model\": 4, \"Host\": \"algo-1\", \"Operation\": \"training\", \"Algorithm\": \"Linear Learner\", \"epoch\": 7}, \"StartTime\": 1520507448.083533}\n",
      "\u001b[0m\n",
      "\u001b[31m#metrics {\"Metrics\": {\"training_binary_classification_cross_entropy\": {\"count\": 1, \"max\": 0.29797416618347167, \"sum\": 0.29797416618347167, \"min\": 0.29797416618347167}, \"validation_binary_classification_cross_entropy\": {\"count\": 1, \"max\": -Infinity, \"sum\": NaN, \"min\": Infinity}}, \"EndTime\": 1520507448.083612, \"Dimensions\": {\"model\": 5, \"Host\": \"algo-1\", \"Operation\": \"training\", \"Algorithm\": \"Linear Learner\", \"epoch\": 7}, \"StartTime\": 1520507448.083593}\n",
      "\u001b[0m\n",
      "\u001b[31m#metrics {\"Metrics\": {\"training_binary_classification_cross_entropy\": {\"count\": 1, \"max\": 0.1238996362400055, \"sum\": 0.1238996362400055, \"min\": 0.1238996362400055}, \"validation_binary_classification_cross_entropy\": {\"count\": 1, \"max\": -Infinity, \"sum\": NaN, \"min\": Infinity}}, \"EndTime\": 1520507448.083673, \"Dimensions\": {\"model\": 6, \"Host\": \"algo-1\", \"Operation\": \"training\", \"Algorithm\": \"Linear Learner\", \"epoch\": 7}, \"StartTime\": 1520507448.083654}\n",
      "\u001b[0m\n",
      "\u001b[31m#metrics {\"Metrics\": {\"training_binary_classification_cross_entropy\": {\"count\": 1, \"max\": 0.30466450692176816, \"sum\": 0.30466450692176816, \"min\": 0.30466450692176816}, \"validation_binary_classification_cross_entropy\": {\"count\": 1, \"max\": -Infinity, \"sum\": NaN, \"min\": Infinity}}, \"EndTime\": 1520507448.083745, \"Dimensions\": {\"model\": 7, \"Host\": \"algo-1\", \"Operation\": \"training\", \"Algorithm\": \"Linear Learner\", \"epoch\": 7}, \"StartTime\": 1520507448.083723}\n",
      "\u001b[0m\n",
      "\u001b[31m#metrics {\"Metrics\": {\"training_binary_classification_cross_entropy\": {\"count\": 1, \"max\": 0.08519246842384338, \"sum\": 0.08519246842384338, \"min\": 0.08519246842384338}, \"validation_binary_classification_cross_entropy\": {\"count\": 1, \"max\": -Infinity, \"sum\": NaN, \"min\": Infinity}}, \"EndTime\": 1520507448.083834, \"Dimensions\": {\"model\": 8, \"Host\": \"algo-1\", \"Operation\": \"training\", \"Algorithm\": \"Linear Learner\", \"epoch\": 7}, \"StartTime\": 1520507448.083813}\n",
      "\u001b[0m\n",
      "\u001b[31m#metrics {\"Metrics\": {\"training_binary_classification_cross_entropy\": {\"count\": 1, \"max\": 0.09058958078384399, \"sum\": 0.09058958078384399, \"min\": 0.09058958078384399}, \"validation_binary_classification_cross_entropy\": {\"count\": 1, \"max\": -Infinity, \"sum\": NaN, \"min\": Infinity}}, \"EndTime\": 1520507448.083904, \"Dimensions\": {\"model\": 9, \"Host\": \"algo-1\", \"Operation\": \"training\", \"Algorithm\": \"Linear Learner\", \"epoch\": 7}, \"StartTime\": 1520507448.083883}\n",
      "\u001b[0m\n",
      "\u001b[31m#metrics {\"Metrics\": {\"training_binary_classification_cross_entropy\": {\"count\": 1, \"max\": 0.08519730834960937, \"sum\": 0.08519730834960937, \"min\": 0.08519730834960937}, \"validation_binary_classification_cross_entropy\": {\"count\": 1, \"max\": -Infinity, \"sum\": NaN, \"min\": Infinity}}, \"EndTime\": 1520507448.083968, \"Dimensions\": {\"model\": 10, \"Host\": \"algo-1\", \"Operation\": \"training\", \"Algorithm\": \"Linear Learner\", \"epoch\": 7}, \"StartTime\": 1520507448.083938}\n",
      "\u001b[0m\n",
      "\u001b[31m#metrics {\"Metrics\": {\"training_binary_classification_cross_entropy\": {\"count\": 1, \"max\": 0.09060976440429687, \"sum\": 0.09060976440429687, \"min\": 0.09060976440429687}, \"validation_binary_classification_cross_entropy\": {\"count\": 1, \"max\": -Infinity, \"sum\": NaN, \"min\": Infinity}}, \"EndTime\": 1520507448.084021, \"Dimensions\": {\"model\": 11, \"Host\": \"algo-1\", \"Operation\": \"training\", \"Algorithm\": \"Linear Learner\", \"epoch\": 7}, \"StartTime\": 1520507448.084002}\n",
      "\u001b[0m\n",
      "\u001b[31m#metrics {\"Metrics\": {\"training_binary_classification_cross_entropy\": {\"count\": 1, \"max\": 0.11850660705566406, \"sum\": 0.11850660705566406, \"min\": 0.11850660705566406}, \"validation_binary_classification_cross_entropy\": {\"count\": 1, \"max\": -Infinity, \"sum\": NaN, \"min\": Infinity}}, \"EndTime\": 1520507448.084085, \"Dimensions\": {\"model\": 12, \"Host\": \"algo-1\", \"Operation\": \"training\", \"Algorithm\": \"Linear Learner\", \"epoch\": 7}, \"StartTime\": 1520507448.084064}\n",
      "\u001b[0m\n",
      "\u001b[31m#metrics {\"Metrics\": {\"training_binary_classification_cross_entropy\": {\"count\": 1, \"max\": 0.2771768905735016, \"sum\": 0.2771768905735016, \"min\": 0.2771768905735016}, \"validation_binary_classification_cross_entropy\": {\"count\": 1, \"max\": -Infinity, \"sum\": NaN, \"min\": Infinity}}, \"EndTime\": 1520507448.084149, \"Dimensions\": {\"model\": 13, \"Host\": \"algo-1\", \"Operation\": \"training\", \"Algorithm\": \"Linear Learner\", \"epoch\": 7}, \"StartTime\": 1520507448.084129}\n",
      "\u001b[0m\n",
      "\u001b[31m#metrics {\"Metrics\": {\"training_binary_classification_cross_entropy\": {\"count\": 1, \"max\": 0.11896734967231751, \"sum\": 0.11896734967231751, \"min\": 0.11896734967231751}, \"validation_binary_classification_cross_entropy\": {\"count\": 1, \"max\": -Infinity, \"sum\": NaN, \"min\": Infinity}}, \"EndTime\": 1520507448.084211, \"Dimensions\": {\"model\": 14, \"Host\": \"algo-1\", \"Operation\": \"training\", \"Algorithm\": \"Linear Learner\", \"epoch\": 7}, \"StartTime\": 1520507448.084191}\n",
      "\u001b[0m\n",
      "\u001b[31m#metrics {\"Metrics\": {\"training_binary_classification_cross_entropy\": {\"count\": 1, \"max\": 0.2740297487831116, \"sum\": 0.2740297487831116, \"min\": 0.2740297487831116}, \"validation_binary_classification_cross_entropy\": {\"count\": 1, \"max\": -Infinity, \"sum\": NaN, \"min\": Infinity}}, \"EndTime\": 1520507448.084274, \"Dimensions\": {\"model\": 15, \"Host\": \"algo-1\", \"Operation\": \"training\", \"Algorithm\": \"Linear Learner\", \"epoch\": 7}, \"StartTime\": 1520507448.084254}\n",
      "\u001b[0m\n",
      "\u001b[31m#metrics {\"Metrics\": {\"training_binary_classification_cross_entropy\": {\"count\": 1, \"max\": 0.16392596477508545, \"sum\": 0.16392596477508545, \"min\": 0.16392596477508545}, \"validation_binary_classification_cross_entropy\": {\"count\": 1, \"max\": -Infinity, \"sum\": NaN, \"min\": Infinity}}, \"EndTime\": 1520507448.084335, \"Dimensions\": {\"model\": 16, \"Host\": \"algo-1\", \"Operation\": \"training\", \"Algorithm\": \"Linear Learner\", \"epoch\": 7}, \"StartTime\": 1520507448.084315}\n",
      "\u001b[0m\n",
      "\u001b[31m#metrics {\"Metrics\": {\"training_binary_classification_cross_entropy\": {\"count\": 1, \"max\": 0.16574459739685057, \"sum\": 0.16574459739685057, \"min\": 0.16574459739685057}, \"validation_binary_classification_cross_entropy\": {\"count\": 1, \"max\": -Infinity, \"sum\": NaN, \"min\": Infinity}}, \"EndTime\": 1520507448.084392, \"Dimensions\": {\"model\": 17, \"Host\": \"algo-1\", \"Operation\": \"training\", \"Algorithm\": \"Linear Learner\", \"epoch\": 7}, \"StartTime\": 1520507448.084372}\n",
      "\u001b[0m\n",
      "\u001b[31m#metrics {\"Metrics\": {\"training_binary_classification_cross_entropy\": {\"count\": 1, \"max\": 0.16392697196960448, \"sum\": 0.16392697196960448, \"min\": 0.16392697196960448}, \"validation_binary_classification_cross_entropy\": {\"count\": 1, \"max\": -Infinity, \"sum\": NaN, \"min\": Infinity}}, \"EndTime\": 1520507448.084441, \"Dimensions\": {\"model\": 18, \"Host\": \"algo-1\", \"Operation\": \"training\", \"Algorithm\": \"Linear Learner\", \"epoch\": 7}, \"StartTime\": 1520507448.084423}\n",
      "\u001b[0m\n",
      "\u001b[31m#metrics {\"Metrics\": {\"training_binary_classification_cross_entropy\": {\"count\": 1, \"max\": 0.1657370327758789, \"sum\": 0.1657370327758789, \"min\": 0.1657370327758789}, \"validation_binary_classification_cross_entropy\": {\"count\": 1, \"max\": -Infinity, \"sum\": NaN, \"min\": Infinity}}, \"EndTime\": 1520507448.084492, \"Dimensions\": {\"model\": 19, \"Host\": \"algo-1\", \"Operation\": \"training\", \"Algorithm\": \"Linear Learner\", \"epoch\": 7}, \"StartTime\": 1520507448.084473}\n",
      "\u001b[0m\n",
      "\u001b[31m#metrics {\"Metrics\": {\"training_binary_classification_cross_entropy\": {\"count\": 1, \"max\": 0.17273018508911134, \"sum\": 0.17273018508911134, \"min\": 0.17273018508911134}, \"validation_binary_classification_cross_entropy\": {\"count\": 1, \"max\": -Infinity, \"sum\": NaN, \"min\": Infinity}}, \"EndTime\": 1520507448.08454, \"Dimensions\": {\"model\": 20, \"Host\": \"algo-1\", \"Operation\": \"training\", \"Algorithm\": \"Linear Learner\", \"epoch\": 7}, \"StartTime\": 1520507448.084522}\n",
      "\u001b[0m\n",
      "\u001b[31m#metrics {\"Metrics\": {\"training_binary_classification_cross_entropy\": {\"count\": 1, \"max\": 0.21203996387481688, \"sum\": 0.21203996387481688, \"min\": 0.21203996387481688}, \"validation_binary_classification_cross_entropy\": {\"count\": 1, \"max\": -Infinity, \"sum\": NaN, \"min\": Infinity}}, \"EndTime\": 1520507448.084607, \"Dimensions\": {\"model\": 21, \"Host\": \"algo-1\", \"Operation\": \"training\", \"Algorithm\": \"Linear Learner\", \"epoch\": 7}, \"StartTime\": 1520507448.084586}\n",
      "\u001b[0m\n",
      "\u001b[31m#metrics {\"Metrics\": {\"training_binary_classification_cross_entropy\": {\"count\": 1, \"max\": 0.17270500675201417, \"sum\": 0.17270500675201417, \"min\": 0.17270500675201417}, \"validation_binary_classification_cross_entropy\": {\"count\": 1, \"max\": -Infinity, \"sum\": NaN, \"min\": Infinity}}, \"EndTime\": 1520507448.084671, \"Dimensions\": {\"model\": 22, \"Host\": \"algo-1\", \"Operation\": \"training\", \"Algorithm\": \"Linear Learner\", \"epoch\": 7}, \"StartTime\": 1520507448.08465}\n",
      "\u001b[0m\n",
      "\u001b[31m#metrics {\"Metrics\": {\"training_binary_classification_cross_entropy\": {\"count\": 1, \"max\": 0.21052725456237792, \"sum\": 0.21052725456237792, \"min\": 0.21052725456237792}, \"validation_binary_classification_cross_entropy\": {\"count\": 1, \"max\": -Infinity, \"sum\": NaN, \"min\": Infinity}}, \"EndTime\": 1520507448.084733, \"Dimensions\": {\"model\": 23, \"Host\": \"algo-1\", \"Operation\": \"training\", \"Algorithm\": \"Linear Learner\", \"epoch\": 7}, \"StartTime\": 1520507448.084713}\n",
      "\u001b[0m\n",
      "\u001b[31m#metrics {\"Metrics\": {\"training_binary_classification_cross_entropy\": {\"count\": 1, \"max\": 0.322064868850708, \"sum\": 0.322064868850708, \"min\": 0.322064868850708}, \"validation_binary_classification_cross_entropy\": {\"count\": 1, \"max\": -Infinity, \"sum\": NaN, \"min\": Infinity}}, \"EndTime\": 1520507448.084797, \"Dimensions\": {\"model\": 24, \"Host\": \"algo-1\", \"Operation\": \"training\", \"Algorithm\": \"Linear Learner\", \"epoch\": 7}, \"StartTime\": 1520507448.084777}\n",
      "\u001b[0m\n",
      "\u001b[31m#metrics {\"Metrics\": {\"training_binary_classification_cross_entropy\": {\"count\": 1, \"max\": 0.3221052381896973, \"sum\": 0.3221052381896973, \"min\": 0.3221052381896973}, \"validation_binary_classification_cross_entropy\": {\"count\": 1, \"max\": -Infinity, \"sum\": NaN, \"min\": Infinity}}, \"EndTime\": 1520507448.084861, \"Dimensions\": {\"model\": 25, \"Host\": \"algo-1\", \"Operation\": \"training\", \"Algorithm\": \"Linear Learner\", \"epoch\": 7}, \"StartTime\": 1520507448.084841}\n",
      "\u001b[0m\n",
      "\u001b[31m#metrics {\"Metrics\": {\"training_binary_classification_cross_entropy\": {\"count\": 1, \"max\": 0.3220419607543945, \"sum\": 0.3220419607543945, \"min\": 0.3220419607543945}, \"validation_binary_classification_cross_entropy\": {\"count\": 1, \"max\": -Infinity, \"sum\": NaN, \"min\": Infinity}}, \"EndTime\": 1520507448.084924, \"Dimensions\": {\"model\": 26, \"Host\": \"algo-1\", \"Operation\": \"training\", \"Algorithm\": \"Linear Learner\", \"epoch\": 7}, \"StartTime\": 1520507448.084904}\n",
      "\u001b[0m\n",
      "\u001b[31m#metrics {\"Metrics\": {\"training_binary_classification_cross_entropy\": {\"count\": 1, \"max\": 0.3221368404388428, \"sum\": 0.3221368404388428, \"min\": 0.3221368404388428}, \"validation_binary_classification_cross_entropy\": {\"count\": 1, \"max\": -Infinity, \"sum\": NaN, \"min\": Infinity}}, \"EndTime\": 1520507448.084987, \"Dimensions\": {\"model\": 27, \"Host\": \"algo-1\", \"Operation\": \"training\", \"Algorithm\": \"Linear Learner\", \"epoch\": 7}, \"StartTime\": 1520507448.084967}\n",
      "\u001b[0m\n",
      "\u001b[31m#metrics {\"Metrics\": {\"training_binary_classification_cross_entropy\": {\"count\": 1, \"max\": 0.3225315508270264, \"sum\": 0.3225315508270264, \"min\": 0.3225315508270264}, \"validation_binary_classification_cross_entropy\": {\"count\": 1, \"max\": -Infinity, \"sum\": NaN, \"min\": Infinity}}, \"EndTime\": 1520507448.085049, \"Dimensions\": {\"model\": 28, \"Host\": \"algo-1\", \"Operation\": \"training\", \"Algorithm\": \"Linear Learner\", \"epoch\": 7}, \"StartTime\": 1520507448.085029}\n",
      "\u001b[0m\n",
      "\u001b[31m#metrics {\"Metrics\": {\"training_binary_classification_cross_entropy\": {\"count\": 1, \"max\": 0.3250038608551025, \"sum\": 0.3250038608551025, \"min\": 0.3250038608551025}, \"validation_binary_classification_cross_entropy\": {\"count\": 1, \"max\": -Infinity, \"sum\": NaN, \"min\": Infinity}}, \"EndTime\": 1520507448.085108, \"Dimensions\": {\"model\": 29, \"Host\": \"algo-1\", \"Operation\": \"training\", \"Algorithm\": \"Linear Learner\", \"epoch\": 7}, \"StartTime\": 1520507448.085091}\n",
      "\u001b[0m\n",
      "\u001b[31m#metrics {\"Metrics\": {\"training_binary_classification_cross_entropy\": {\"count\": 1, \"max\": 0.32249534698486326, \"sum\": 0.32249534698486326, \"min\": 0.32249534698486326}, \"validation_binary_classification_cross_entropy\": {\"count\": 1, \"max\": -Infinity, \"sum\": NaN, \"min\": Infinity}}, \"EndTime\": 1520507448.085163, \"Dimensions\": {\"model\": 30, \"Host\": \"algo-1\", \"Operation\": \"training\", \"Algorithm\": \"Linear Learner\", \"epoch\": 7}, \"StartTime\": 1520507448.085148}\n",
      "\u001b[0m\n",
      "\u001b[31m#metrics {\"Metrics\": {\"training_binary_classification_cross_entropy\": {\"count\": 1, \"max\": 0.3250273122406006, \"sum\": 0.3250273122406006, \"min\": 0.3250273122406006}, \"validation_binary_classification_cross_entropy\": {\"count\": 1, \"max\": -Infinity, \"sum\": NaN, \"min\": Infinity}}, \"EndTime\": 1520507448.085213, \"Dimensions\": {\"model\": 31, \"Host\": \"algo-1\", \"Operation\": \"training\", \"Algorithm\": \"Linear Learner\", \"epoch\": 7}, \"StartTime\": 1520507448.085197}\n",
      "\u001b[0m\n",
      "\u001b[31m[03/08/2018 11:10:48 INFO 139650080663360] Epoch 7: Loss improved.  Updating best model\u001b[0m\n",
      "\u001b[31m#metrics {\"Metrics\": {\"Max Batches Seen Between Resets\": {\"count\": 1, \"max\": 250, \"sum\": 250.0, \"min\": 250}, \"Number of Batches Since Last Reset\": {\"count\": 1, \"max\": 250, \"sum\": 250.0, \"min\": 250}, \"Number of Records Since Last Reset\": {\"count\": 1, \"max\": 50000, \"sum\": 50000.0, \"min\": 50000}, \"Total Batches Seen\": {\"count\": 1, \"max\": 1802, \"sum\": 1802.0, \"min\": 1802}, \"Total Records Seen\": {\"count\": 1, \"max\": 360400, \"sum\": 360400.0, \"min\": 360400}, \"Max Records Seen Between Resets\": {\"count\": 1, \"max\": 50000, \"sum\": 50000.0, \"min\": 50000}, \"Reset Count\": {\"count\": 1, \"max\": 9, \"sum\": 9.0, \"min\": 9}}, \"EndTime\": 1520507448.086075, \"Dimensions\": {\"Host\": \"algo-1\", \"Meta\": \"training_data_iter\", \"Operation\": \"training\", \"Algorithm\": \"Linear Learner\", \"epoch\": 6}, \"StartTime\": 1520507448.086046}\n",
      "\u001b[0m\n"
     ]
    },
    {
     "name": "stdout",
     "output_type": "stream",
     "text": [
      "\u001b[31m#metrics {\"Metrics\": {\"training_binary_classification_cross_entropy\": {\"count\": 1, \"max\": 0.08072245624542236, \"sum\": 0.08072245624542236, \"min\": 0.08072245624542236}, \"validation_binary_classification_cross_entropy\": {\"count\": 1, \"max\": -Infinity, \"sum\": NaN, \"min\": Infinity}}, \"EndTime\": 1520507454.410058, \"Dimensions\": {\"model\": 0, \"Host\": \"algo-1\", \"Operation\": \"training\", \"Algorithm\": \"Linear Learner\", \"epoch\": 8}, \"StartTime\": 1520507454.409982}\n",
      "\u001b[0m\n",
      "\u001b[31m#metrics {\"Metrics\": {\"training_binary_classification_cross_entropy\": {\"count\": 1, \"max\": 0.08536105916023254, \"sum\": 0.08536105916023254, \"min\": 0.08536105916023254}, \"validation_binary_classification_cross_entropy\": {\"count\": 1, \"max\": -Infinity, \"sum\": NaN, \"min\": Infinity}}, \"EndTime\": 1520507454.410145, \"Dimensions\": {\"model\": 1, \"Host\": \"algo-1\", \"Operation\": \"training\", \"Algorithm\": \"Linear Learner\", \"epoch\": 8}, \"StartTime\": 1520507454.410123}\n",
      "\u001b[0m\n",
      "\u001b[31m#metrics {\"Metrics\": {\"training_binary_classification_cross_entropy\": {\"count\": 1, \"max\": 0.08058584524154663, \"sum\": 0.08058584524154663, \"min\": 0.08058584524154663}, \"validation_binary_classification_cross_entropy\": {\"count\": 1, \"max\": -Infinity, \"sum\": NaN, \"min\": Infinity}}, \"EndTime\": 1520507454.41021, \"Dimensions\": {\"model\": 2, \"Host\": \"algo-1\", \"Operation\": \"training\", \"Algorithm\": \"Linear Learner\", \"epoch\": 8}, \"StartTime\": 1520507454.410191}\n",
      "\u001b[0m\n",
      "\u001b[31m#metrics {\"Metrics\": {\"training_binary_classification_cross_entropy\": {\"count\": 1, \"max\": 0.0853853497314453, \"sum\": 0.0853853497314453, \"min\": 0.0853853497314453}, \"validation_binary_classification_cross_entropy\": {\"count\": 1, \"max\": -Infinity, \"sum\": NaN, \"min\": Infinity}}, \"EndTime\": 1520507454.410272, \"Dimensions\": {\"model\": 3, \"Host\": \"algo-1\", \"Operation\": \"training\", \"Algorithm\": \"Linear Learner\", \"epoch\": 8}, \"StartTime\": 1520507454.410252}\n",
      "\u001b[0m\n",
      "\u001b[31m#metrics {\"Metrics\": {\"training_binary_classification_cross_entropy\": {\"count\": 1, \"max\": 0.1114630823135376, \"sum\": 0.1114630823135376, \"min\": 0.1114630823135376}, \"validation_binary_classification_cross_entropy\": {\"count\": 1, \"max\": -Infinity, \"sum\": NaN, \"min\": Infinity}}, \"EndTime\": 1520507454.410323, \"Dimensions\": {\"model\": 4, \"Host\": \"algo-1\", \"Operation\": \"training\", \"Algorithm\": \"Linear Learner\", \"epoch\": 8}, \"StartTime\": 1520507454.410305}\n",
      "\u001b[0m\n",
      "\u001b[31m#metrics {\"Metrics\": {\"training_binary_classification_cross_entropy\": {\"count\": 1, \"max\": 0.28846365134596824, \"sum\": 0.28846365134596824, \"min\": 0.28846365134596824}, \"validation_binary_classification_cross_entropy\": {\"count\": 1, \"max\": -Infinity, \"sum\": NaN, \"min\": Infinity}}, \"EndTime\": 1520507454.41038, \"Dimensions\": {\"model\": 5, \"Host\": \"algo-1\", \"Operation\": \"training\", \"Algorithm\": \"Linear Learner\", \"epoch\": 8}, \"StartTime\": 1520507454.410363}\n",
      "\u001b[0m\n",
      "\u001b[31m#metrics {\"Metrics\": {\"training_binary_classification_cross_entropy\": {\"count\": 1, \"max\": 0.11150459424495697, \"sum\": 0.11150459424495697, \"min\": 0.11150459424495697}, \"validation_binary_classification_cross_entropy\": {\"count\": 1, \"max\": -Infinity, \"sum\": NaN, \"min\": Infinity}}, \"EndTime\": 1520507454.410427, \"Dimensions\": {\"model\": 6, \"Host\": \"algo-1\", \"Operation\": \"training\", \"Algorithm\": \"Linear Learner\", \"epoch\": 8}, \"StartTime\": 1520507454.410411}\n",
      "\u001b[0m\n",
      "\u001b[31m#metrics {\"Metrics\": {\"training_binary_classification_cross_entropy\": {\"count\": 1, \"max\": 0.3067561160826683, \"sum\": 0.3067561160826683, \"min\": 0.3067561160826683}, \"validation_binary_classification_cross_entropy\": {\"count\": 1, \"max\": -Infinity, \"sum\": NaN, \"min\": Infinity}}, \"EndTime\": 1520507454.410482, \"Dimensions\": {\"model\": 7, \"Host\": \"algo-1\", \"Operation\": \"training\", \"Algorithm\": \"Linear Learner\", \"epoch\": 8}, \"StartTime\": 1520507454.410465}\n",
      "\u001b[0m\n",
      "\u001b[31m#metrics {\"Metrics\": {\"training_binary_classification_cross_entropy\": {\"count\": 1, \"max\": 0.08462190128326416, \"sum\": 0.08462190128326416, \"min\": 0.08462190128326416}, \"validation_binary_classification_cross_entropy\": {\"count\": 1, \"max\": -Infinity, \"sum\": NaN, \"min\": Infinity}}, \"EndTime\": 1520507454.41054, \"Dimensions\": {\"model\": 8, \"Host\": \"algo-1\", \"Operation\": \"training\", \"Algorithm\": \"Linear Learner\", \"epoch\": 8}, \"StartTime\": 1520507454.41052}\n",
      "\u001b[0m\n",
      "\u001b[31m#metrics {\"Metrics\": {\"training_binary_classification_cross_entropy\": {\"count\": 1, \"max\": 0.09057608870506287, \"sum\": 0.09057608870506287, \"min\": 0.09057608870506287}, \"validation_binary_classification_cross_entropy\": {\"count\": 1, \"max\": -Infinity, \"sum\": NaN, \"min\": Infinity}}, \"EndTime\": 1520507454.410605, \"Dimensions\": {\"model\": 9, \"Host\": \"algo-1\", \"Operation\": \"training\", \"Algorithm\": \"Linear Learner\", \"epoch\": 8}, \"StartTime\": 1520507454.410585}\n",
      "\u001b[0m\n",
      "\u001b[31m#metrics {\"Metrics\": {\"training_binary_classification_cross_entropy\": {\"count\": 1, \"max\": 0.08462745383262635, \"sum\": 0.08462745383262635, \"min\": 0.08462745383262635}, \"validation_binary_classification_cross_entropy\": {\"count\": 1, \"max\": -Infinity, \"sum\": NaN, \"min\": Infinity}}, \"EndTime\": 1520507454.410656, \"Dimensions\": {\"model\": 10, \"Host\": \"algo-1\", \"Operation\": \"training\", \"Algorithm\": \"Linear Learner\", \"epoch\": 8}, \"StartTime\": 1520507454.410637}\n",
      "\u001b[0m\n",
      "\u001b[31m#metrics {\"Metrics\": {\"training_binary_classification_cross_entropy\": {\"count\": 1, \"max\": 0.09057829001426697, \"sum\": 0.09057829001426697, \"min\": 0.09057829001426697}, \"validation_binary_classification_cross_entropy\": {\"count\": 1, \"max\": -Infinity, \"sum\": NaN, \"min\": Infinity}}, \"EndTime\": 1520507454.410716, \"Dimensions\": {\"model\": 11, \"Host\": \"algo-1\", \"Operation\": \"training\", \"Algorithm\": \"Linear Learner\", \"epoch\": 8}, \"StartTime\": 1520507454.410697}\n",
      "\u001b[0m\n",
      "\u001b[31m#metrics {\"Metrics\": {\"training_binary_classification_cross_entropy\": {\"count\": 1, \"max\": 0.10893842357635498, \"sum\": 0.10893842357635498, \"min\": 0.10893842357635498}, \"validation_binary_classification_cross_entropy\": {\"count\": 1, \"max\": -Infinity, \"sum\": NaN, \"min\": Infinity}}, \"EndTime\": 1520507454.410777, \"Dimensions\": {\"model\": 12, \"Host\": \"algo-1\", \"Operation\": \"training\", \"Algorithm\": \"Linear Learner\", \"epoch\": 8}, \"StartTime\": 1520507454.410757}\n",
      "\u001b[0m\n",
      "\u001b[31m#metrics {\"Metrics\": {\"training_binary_classification_cross_entropy\": {\"count\": 1, \"max\": 0.2709254004096985, \"sum\": 0.2709254004096985, \"min\": 0.2709254004096985}, \"validation_binary_classification_cross_entropy\": {\"count\": 1, \"max\": -Infinity, \"sum\": NaN, \"min\": Infinity}}, \"EndTime\": 1520507454.41084, \"Dimensions\": {\"model\": 13, \"Host\": \"algo-1\", \"Operation\": \"training\", \"Algorithm\": \"Linear Learner\", \"epoch\": 8}, \"StartTime\": 1520507454.410819}\n",
      "\u001b[0m\n",
      "\u001b[31m#metrics {\"Metrics\": {\"training_binary_classification_cross_entropy\": {\"count\": 1, \"max\": 0.10864623465538024, \"sum\": 0.10864623465538024, \"min\": 0.10864623465538024}, \"validation_binary_classification_cross_entropy\": {\"count\": 1, \"max\": -Infinity, \"sum\": NaN, \"min\": Infinity}}, \"EndTime\": 1520507454.410902, \"Dimensions\": {\"model\": 14, \"Host\": \"algo-1\", \"Operation\": \"training\", \"Algorithm\": \"Linear Learner\", \"epoch\": 8}, \"StartTime\": 1520507454.410882}\n",
      "\u001b[0m\n",
      "\u001b[31m#metrics {\"Metrics\": {\"training_binary_classification_cross_entropy\": {\"count\": 1, \"max\": 0.2698229940795898, \"sum\": 0.2698229940795898, \"min\": 0.2698229940795898}, \"validation_binary_classification_cross_entropy\": {\"count\": 1, \"max\": -Infinity, \"sum\": NaN, \"min\": Infinity}}, \"EndTime\": 1520507454.410964, \"Dimensions\": {\"model\": 15, \"Host\": \"algo-1\", \"Operation\": \"training\", \"Algorithm\": \"Linear Learner\", \"epoch\": 8}, \"StartTime\": 1520507454.410944}\n",
      "\u001b[0m\n",
      "\u001b[31m#metrics {\"Metrics\": {\"training_binary_classification_cross_entropy\": {\"count\": 1, \"max\": 0.16381896057128906, \"sum\": 0.16381896057128906, \"min\": 0.16381896057128906}, \"validation_binary_classification_cross_entropy\": {\"count\": 1, \"max\": -Infinity, \"sum\": NaN, \"min\": Infinity}}, \"EndTime\": 1520507454.411028, \"Dimensions\": {\"model\": 16, \"Host\": \"algo-1\", \"Operation\": \"training\", \"Algorithm\": \"Linear Learner\", \"epoch\": 8}, \"StartTime\": 1520507454.411006}\n",
      "\u001b[0m\n",
      "\u001b[31m#metrics {\"Metrics\": {\"training_binary_classification_cross_entropy\": {\"count\": 1, \"max\": 0.16571949012756348, \"sum\": 0.16571949012756348, \"min\": 0.16571949012756348}, \"validation_binary_classification_cross_entropy\": {\"count\": 1, \"max\": -Infinity, \"sum\": NaN, \"min\": Infinity}}, \"EndTime\": 1520507454.411085, \"Dimensions\": {\"model\": 17, \"Host\": \"algo-1\", \"Operation\": \"training\", \"Algorithm\": \"Linear Learner\", \"epoch\": 8}, \"StartTime\": 1520507454.411065}\n",
      "\u001b[0m\n",
      "\u001b[31m#metrics {\"Metrics\": {\"training_binary_classification_cross_entropy\": {\"count\": 1, \"max\": 0.1638200910949707, \"sum\": 0.1638200910949707, \"min\": 0.1638200910949707}, \"validation_binary_classification_cross_entropy\": {\"count\": 1, \"max\": -Infinity, \"sum\": NaN, \"min\": Infinity}}, \"EndTime\": 1520507454.411134, \"Dimensions\": {\"model\": 18, \"Host\": \"algo-1\", \"Operation\": \"training\", \"Algorithm\": \"Linear Learner\", \"epoch\": 8}, \"StartTime\": 1520507454.411116}\n",
      "\u001b[0m\n",
      "\u001b[31m#metrics {\"Metrics\": {\"training_binary_classification_cross_entropy\": {\"count\": 1, \"max\": 0.1657151831817627, \"sum\": 0.1657151831817627, \"min\": 0.1657151831817627}, \"validation_binary_classification_cross_entropy\": {\"count\": 1, \"max\": -Infinity, \"sum\": NaN, \"min\": Infinity}}, \"EndTime\": 1520507454.411183, \"Dimensions\": {\"model\": 19, \"Host\": \"algo-1\", \"Operation\": \"training\", \"Algorithm\": \"Linear Learner\", \"epoch\": 8}, \"StartTime\": 1520507454.411164}\n",
      "\u001b[0m\n",
      "\u001b[31m#metrics {\"Metrics\": {\"training_binary_classification_cross_entropy\": {\"count\": 1, \"max\": 0.1701790985107422, \"sum\": 0.1701790985107422, \"min\": 0.1701790985107422}, \"validation_binary_classification_cross_entropy\": {\"count\": 1, \"max\": -Infinity, \"sum\": NaN, \"min\": Infinity}}, \"EndTime\": 1520507454.41125, \"Dimensions\": {\"model\": 20, \"Host\": \"algo-1\", \"Operation\": \"training\", \"Algorithm\": \"Linear Learner\", \"epoch\": 8}, \"StartTime\": 1520507454.411229}\n",
      "\u001b[0m\n",
      "\u001b[31m#metrics {\"Metrics\": {\"training_binary_classification_cross_entropy\": {\"count\": 1, \"max\": 0.20882867504119873, \"sum\": 0.20882867504119873, \"min\": 0.20882867504119873}, \"validation_binary_classification_cross_entropy\": {\"count\": 1, \"max\": -Infinity, \"sum\": NaN, \"min\": Infinity}}, \"EndTime\": 1520507454.411317, \"Dimensions\": {\"model\": 21, \"Host\": \"algo-1\", \"Operation\": \"training\", \"Algorithm\": \"Linear Learner\", \"epoch\": 8}, \"StartTime\": 1520507454.411296}\n",
      "\u001b[0m\n",
      "\u001b[31m#metrics {\"Metrics\": {\"training_binary_classification_cross_entropy\": {\"count\": 1, \"max\": 0.17016495368957518, \"sum\": 0.17016495368957518, \"min\": 0.17016495368957518}, \"validation_binary_classification_cross_entropy\": {\"count\": 1, \"max\": -Infinity, \"sum\": NaN, \"min\": Infinity}}, \"EndTime\": 1520507454.411388, \"Dimensions\": {\"model\": 22, \"Host\": \"algo-1\", \"Operation\": \"training\", \"Algorithm\": \"Linear Learner\", \"epoch\": 8}, \"StartTime\": 1520507454.411367}\n",
      "\u001b[0m\n",
      "\u001b[31m#metrics {\"Metrics\": {\"training_binary_classification_cross_entropy\": {\"count\": 1, \"max\": 0.208245219039917, \"sum\": 0.208245219039917, \"min\": 0.208245219039917}, \"validation_binary_classification_cross_entropy\": {\"count\": 1, \"max\": -Infinity, \"sum\": NaN, \"min\": Infinity}}, \"EndTime\": 1520507454.411457, \"Dimensions\": {\"model\": 23, \"Host\": \"algo-1\", \"Operation\": \"training\", \"Algorithm\": \"Linear Learner\", \"epoch\": 8}, \"StartTime\": 1520507454.411436}\n",
      "\u001b[0m\n",
      "\u001b[31m#metrics {\"Metrics\": {\"training_binary_classification_cross_entropy\": {\"count\": 1, \"max\": 0.32203333808898926, \"sum\": 0.32203333808898926, \"min\": 0.32203333808898926}, \"validation_binary_classification_cross_entropy\": {\"count\": 1, \"max\": -Infinity, \"sum\": NaN, \"min\": Infinity}}, \"EndTime\": 1520507454.411526, \"Dimensions\": {\"model\": 24, \"Host\": \"algo-1\", \"Operation\": \"training\", \"Algorithm\": \"Linear Learner\", \"epoch\": 8}, \"StartTime\": 1520507454.411506}\n",
      "\u001b[0m\n",
      "\u001b[31m#metrics {\"Metrics\": {\"training_binary_classification_cross_entropy\": {\"count\": 1, \"max\": 0.32210820068359375, \"sum\": 0.32210820068359375, \"min\": 0.32210820068359375}, \"validation_binary_classification_cross_entropy\": {\"count\": 1, \"max\": -Infinity, \"sum\": NaN, \"min\": Infinity}}, \"EndTime\": 1520507454.411595, \"Dimensions\": {\"model\": 25, \"Host\": \"algo-1\", \"Operation\": \"training\", \"Algorithm\": \"Linear Learner\", \"epoch\": 8}, \"StartTime\": 1520507454.411575}\n",
      "\u001b[0m\n",
      "\u001b[31m#metrics {\"Metrics\": {\"training_binary_classification_cross_entropy\": {\"count\": 1, \"max\": 0.3220319995880127, \"sum\": 0.3220319995880127, \"min\": 0.3220319995880127}, \"validation_binary_classification_cross_entropy\": {\"count\": 1, \"max\": -Infinity, \"sum\": NaN, \"min\": Infinity}}, \"EndTime\": 1520507454.411664, \"Dimensions\": {\"model\": 26, \"Host\": \"algo-1\", \"Operation\": \"training\", \"Algorithm\": \"Linear Learner\", \"epoch\": 8}, \"StartTime\": 1520507454.411645}\n",
      "\u001b[0m\n",
      "\u001b[31m#metrics {\"Metrics\": {\"training_binary_classification_cross_entropy\": {\"count\": 1, \"max\": 0.3221350646972656, \"sum\": 0.3221350646972656, \"min\": 0.3221350646972656}, \"validation_binary_classification_cross_entropy\": {\"count\": 1, \"max\": -Infinity, \"sum\": NaN, \"min\": Infinity}}, \"EndTime\": 1520507454.411727, \"Dimensions\": {\"model\": 27, \"Host\": \"algo-1\", \"Operation\": \"training\", \"Algorithm\": \"Linear Learner\", \"epoch\": 8}, \"StartTime\": 1520507454.411708}\n",
      "\u001b[0m\n",
      "\u001b[31m#metrics {\"Metrics\": {\"training_binary_classification_cross_entropy\": {\"count\": 1, \"max\": 0.32227531074523924, \"sum\": 0.32227531074523924, \"min\": 0.32227531074523924}, \"validation_binary_classification_cross_entropy\": {\"count\": 1, \"max\": -Infinity, \"sum\": NaN, \"min\": Infinity}}, \"EndTime\": 1520507454.411806, \"Dimensions\": {\"model\": 28, \"Host\": \"algo-1\", \"Operation\": \"training\", \"Algorithm\": \"Linear Learner\", \"epoch\": 8}, \"StartTime\": 1520507454.411785}\n",
      "\u001b[0m\n",
      "\u001b[31m#metrics {\"Metrics\": {\"training_binary_classification_cross_entropy\": {\"count\": 1, \"max\": 0.3258179607391357, \"sum\": 0.3258179607391357, \"min\": 0.3258179607391357}, \"validation_binary_classification_cross_entropy\": {\"count\": 1, \"max\": -Infinity, \"sum\": NaN, \"min\": Infinity}}, \"EndTime\": 1520507454.411876, \"Dimensions\": {\"model\": 29, \"Host\": \"algo-1\", \"Operation\": \"training\", \"Algorithm\": \"Linear Learner\", \"epoch\": 8}, \"StartTime\": 1520507454.411856}\n",
      "\u001b[0m\n",
      "\u001b[31m#metrics {\"Metrics\": {\"training_binary_classification_cross_entropy\": {\"count\": 1, \"max\": 0.3222897393798828, \"sum\": 0.3222897393798828, \"min\": 0.3222897393798828}, \"validation_binary_classification_cross_entropy\": {\"count\": 1, \"max\": -Infinity, \"sum\": NaN, \"min\": Infinity}}, \"EndTime\": 1520507454.411933, \"Dimensions\": {\"model\": 30, \"Host\": \"algo-1\", \"Operation\": \"training\", \"Algorithm\": \"Linear Learner\", \"epoch\": 8}, \"StartTime\": 1520507454.411917}\n",
      "\u001b[0m\n",
      "\u001b[31m#metrics {\"Metrics\": {\"training_binary_classification_cross_entropy\": {\"count\": 1, \"max\": 0.32589455696105957, \"sum\": 0.32589455696105957, \"min\": 0.32589455696105957}, \"validation_binary_classification_cross_entropy\": {\"count\": 1, \"max\": -Infinity, \"sum\": NaN, \"min\": Infinity}}, \"EndTime\": 1520507454.411981, \"Dimensions\": {\"model\": 31, \"Host\": \"algo-1\", \"Operation\": \"training\", \"Algorithm\": \"Linear Learner\", \"epoch\": 8}, \"StartTime\": 1520507454.411966}\n",
      "\u001b[0m\n",
      "\u001b[31m[03/08/2018 11:10:54 INFO 139650080663360] Epoch 8: Loss improved.  Updating best model\u001b[0m\n",
      "\u001b[31m#metrics {\"Metrics\": {\"Max Batches Seen Between Resets\": {\"count\": 1, \"max\": 250, \"sum\": 250.0, \"min\": 250}, \"Number of Batches Since Last Reset\": {\"count\": 1, \"max\": 250, \"sum\": 250.0, \"min\": 250}, \"Number of Records Since Last Reset\": {\"count\": 1, \"max\": 50000, \"sum\": 50000.0, \"min\": 50000}, \"Total Batches Seen\": {\"count\": 1, \"max\": 2052, \"sum\": 2052.0, \"min\": 2052}, \"Total Records Seen\": {\"count\": 1, \"max\": 410400, \"sum\": 410400.0, \"min\": 410400}, \"Max Records Seen Between Resets\": {\"count\": 1, \"max\": 50000, \"sum\": 50000.0, \"min\": 50000}, \"Reset Count\": {\"count\": 1, \"max\": 10, \"sum\": 10.0, \"min\": 10}}, \"EndTime\": 1520507454.412921, \"Dimensions\": {\"Host\": \"algo-1\", \"Meta\": \"training_data_iter\", \"Operation\": \"training\", \"Algorithm\": \"Linear Learner\", \"epoch\": 7}, \"StartTime\": 1520507454.412881}\n",
      "\u001b[0m\n"
     ]
    },
    {
     "name": "stdout",
     "output_type": "stream",
     "text": [
      "\u001b[31m#metrics {\"Metrics\": {\"training_binary_classification_cross_entropy\": {\"count\": 1, \"max\": 0.08008822462081909, \"sum\": 0.08008822462081909, \"min\": 0.08008822462081909}, \"validation_binary_classification_cross_entropy\": {\"count\": 1, \"max\": -Infinity, \"sum\": NaN, \"min\": Infinity}}, \"EndTime\": 1520507460.935229, \"Dimensions\": {\"model\": 0, \"Host\": \"algo-1\", \"Operation\": \"training\", \"Algorithm\": \"Linear Learner\", \"epoch\": 9}, \"StartTime\": 1520507460.935154}\n",
      "\u001b[0m\n",
      "\u001b[31m#metrics {\"Metrics\": {\"training_binary_classification_cross_entropy\": {\"count\": 1, \"max\": 0.08507766467094421, \"sum\": 0.08507766467094421, \"min\": 0.08507766467094421}, \"validation_binary_classification_cross_entropy\": {\"count\": 1, \"max\": -Infinity, \"sum\": NaN, \"min\": Infinity}}, \"EndTime\": 1520507460.935306, \"Dimensions\": {\"model\": 1, \"Host\": \"algo-1\", \"Operation\": \"training\", \"Algorithm\": \"Linear Learner\", \"epoch\": 9}, \"StartTime\": 1520507460.935291}\n",
      "\u001b[0m\n",
      "\u001b[31m#metrics {\"Metrics\": {\"training_binary_classification_cross_entropy\": {\"count\": 1, \"max\": 0.0800120219039917, \"sum\": 0.0800120219039917, \"min\": 0.0800120219039917}, \"validation_binary_classification_cross_entropy\": {\"count\": 1, \"max\": -Infinity, \"sum\": NaN, \"min\": Infinity}}, \"EndTime\": 1520507460.93537, \"Dimensions\": {\"model\": 2, \"Host\": \"algo-1\", \"Operation\": \"training\", \"Algorithm\": \"Linear Learner\", \"epoch\": 9}, \"StartTime\": 1520507460.935352}\n",
      "\u001b[0m\n",
      "\u001b[31m#metrics {\"Metrics\": {\"training_binary_classification_cross_entropy\": {\"count\": 1, \"max\": 0.08505654015541077, \"sum\": 0.08505654015541077, \"min\": 0.08505654015541077}, \"validation_binary_classification_cross_entropy\": {\"count\": 1, \"max\": -Infinity, \"sum\": NaN, \"min\": Infinity}}, \"EndTime\": 1520507460.935431, \"Dimensions\": {\"model\": 3, \"Host\": \"algo-1\", \"Operation\": \"training\", \"Algorithm\": \"Linear Learner\", \"epoch\": 9}, \"StartTime\": 1520507460.935414}\n",
      "\u001b[0m\n",
      "\u001b[31m#metrics {\"Metrics\": {\"training_binary_classification_cross_entropy\": {\"count\": 1, \"max\": 0.10476016152381896, \"sum\": 0.10476016152381896, \"min\": 0.10476016152381896}, \"validation_binary_classification_cross_entropy\": {\"count\": 1, \"max\": -Infinity, \"sum\": NaN, \"min\": Infinity}}, \"EndTime\": 1520507460.935486, \"Dimensions\": {\"model\": 4, \"Host\": \"algo-1\", \"Operation\": \"training\", \"Algorithm\": \"Linear Learner\", \"epoch\": 9}, \"StartTime\": 1520507460.935469}\n",
      "\u001b[0m\n",
      "\u001b[31m#metrics {\"Metrics\": {\"training_binary_classification_cross_entropy\": {\"count\": 1, \"max\": 0.2966725742530823, \"sum\": 0.2966725742530823, \"min\": 0.2966725742530823}, \"validation_binary_classification_cross_entropy\": {\"count\": 1, \"max\": -Infinity, \"sum\": NaN, \"min\": Infinity}}, \"EndTime\": 1520507460.935543, \"Dimensions\": {\"model\": 5, \"Host\": \"algo-1\", \"Operation\": \"training\", \"Algorithm\": \"Linear Learner\", \"epoch\": 9}, \"StartTime\": 1520507460.935524}\n",
      "\u001b[0m\n",
      "\u001b[31m#metrics {\"Metrics\": {\"training_binary_classification_cross_entropy\": {\"count\": 1, \"max\": 0.1038181641149521, \"sum\": 0.1038181641149521, \"min\": 0.1038181641149521}, \"validation_binary_classification_cross_entropy\": {\"count\": 1, \"max\": -Infinity, \"sum\": NaN, \"min\": Infinity}}, \"EndTime\": 1520507460.935606, \"Dimensions\": {\"model\": 6, \"Host\": \"algo-1\", \"Operation\": \"training\", \"Algorithm\": \"Linear Learner\", \"epoch\": 9}, \"StartTime\": 1520507460.935586}\n",
      "\u001b[0m\n",
      "\u001b[31m#metrics {\"Metrics\": {\"training_binary_classification_cross_entropy\": {\"count\": 1, \"max\": 0.2817808276939392, \"sum\": 0.2817808276939392, \"min\": 0.2817808276939392}, \"validation_binary_classification_cross_entropy\": {\"count\": 1, \"max\": -Infinity, \"sum\": NaN, \"min\": Infinity}}, \"EndTime\": 1520507460.935666, \"Dimensions\": {\"model\": 7, \"Host\": \"algo-1\", \"Operation\": \"training\", \"Algorithm\": \"Linear Learner\", \"epoch\": 9}, \"StartTime\": 1520507460.935648}\n",
      "\u001b[0m\n",
      "\u001b[31m#metrics {\"Metrics\": {\"training_binary_classification_cross_entropy\": {\"count\": 1, \"max\": 0.08417506284713745, \"sum\": 0.08417506284713745, \"min\": 0.08417506284713745}, \"validation_binary_classification_cross_entropy\": {\"count\": 1, \"max\": -Infinity, \"sum\": NaN, \"min\": Infinity}}, \"EndTime\": 1520507460.935732, \"Dimensions\": {\"model\": 8, \"Host\": \"algo-1\", \"Operation\": \"training\", \"Algorithm\": \"Linear Learner\", \"epoch\": 9}, \"StartTime\": 1520507460.935711}\n",
      "\u001b[0m\n",
      "\u001b[31m#metrics {\"Metrics\": {\"training_binary_classification_cross_entropy\": {\"count\": 1, \"max\": 0.09050406533241272, \"sum\": 0.09050406533241272, \"min\": 0.09050406533241272}, \"validation_binary_classification_cross_entropy\": {\"count\": 1, \"max\": -Infinity, \"sum\": NaN, \"min\": Infinity}}, \"EndTime\": 1520507460.93584, \"Dimensions\": {\"model\": 9, \"Host\": \"algo-1\", \"Operation\": \"training\", \"Algorithm\": \"Linear Learner\", \"epoch\": 9}, \"StartTime\": 1520507460.935818}\n",
      "\u001b[0m\n",
      "\u001b[31m#metrics {\"Metrics\": {\"training_binary_classification_cross_entropy\": {\"count\": 1, \"max\": 0.08418094200134277, \"sum\": 0.08418094200134277, \"min\": 0.08418094200134277}, \"validation_binary_classification_cross_entropy\": {\"count\": 1, \"max\": -Infinity, \"sum\": NaN, \"min\": Infinity}}, \"EndTime\": 1520507460.935922, \"Dimensions\": {\"model\": 10, \"Host\": \"algo-1\", \"Operation\": \"training\", \"Algorithm\": \"Linear Learner\", \"epoch\": 9}, \"StartTime\": 1520507460.935891}\n",
      "\u001b[0m\n",
      "\u001b[31m#metrics {\"Metrics\": {\"training_binary_classification_cross_entropy\": {\"count\": 1, \"max\": 0.09049643878936768, \"sum\": 0.09049643878936768, \"min\": 0.09049643878936768}, \"validation_binary_classification_cross_entropy\": {\"count\": 1, \"max\": -Infinity, \"sum\": NaN, \"min\": Infinity}}, \"EndTime\": 1520507460.935971, \"Dimensions\": {\"model\": 11, \"Host\": \"algo-1\", \"Operation\": \"training\", \"Algorithm\": \"Linear Learner\", \"epoch\": 9}, \"StartTime\": 1520507460.935955}\n",
      "\u001b[0m\n",
      "\u001b[31m#metrics {\"Metrics\": {\"training_binary_classification_cross_entropy\": {\"count\": 1, \"max\": 0.10199378713607789, \"sum\": 0.10199378713607789, \"min\": 0.10199378713607789}, \"validation_binary_classification_cross_entropy\": {\"count\": 1, \"max\": -Infinity, \"sum\": NaN, \"min\": Infinity}}, \"EndTime\": 1520507460.936019, \"Dimensions\": {\"model\": 12, \"Host\": \"algo-1\", \"Operation\": \"training\", \"Algorithm\": \"Linear Learner\", \"epoch\": 9}, \"StartTime\": 1520507460.936004}\n",
      "\u001b[0m\n",
      "\u001b[31m#metrics {\"Metrics\": {\"training_binary_classification_cross_entropy\": {\"count\": 1, \"max\": 0.2636783041477203, \"sum\": 0.2636783041477203, \"min\": 0.2636783041477203}, \"validation_binary_classification_cross_entropy\": {\"count\": 1, \"max\": -Infinity, \"sum\": NaN, \"min\": Infinity}}, \"EndTime\": 1520507460.936079, \"Dimensions\": {\"model\": 13, \"Host\": \"algo-1\", \"Operation\": \"training\", \"Algorithm\": \"Linear Learner\", \"epoch\": 9}, \"StartTime\": 1520507460.93606}\n",
      "\u001b[0m\n",
      "\u001b[31m#metrics {\"Metrics\": {\"training_binary_classification_cross_entropy\": {\"count\": 1, \"max\": 0.10181395150184631, \"sum\": 0.10181395150184631, \"min\": 0.10181395150184631}, \"validation_binary_classification_cross_entropy\": {\"count\": 1, \"max\": -Infinity, \"sum\": NaN, \"min\": Infinity}}, \"EndTime\": 1520507460.936143, \"Dimensions\": {\"model\": 14, \"Host\": \"algo-1\", \"Operation\": \"training\", \"Algorithm\": \"Linear Learner\", \"epoch\": 9}, \"StartTime\": 1520507460.936123}\n",
      "\u001b[0m\n",
      "\u001b[31m#metrics {\"Metrics\": {\"training_binary_classification_cross_entropy\": {\"count\": 1, \"max\": 0.2643167069721222, \"sum\": 0.2643167069721222, \"min\": 0.2643167069721222}, \"validation_binary_classification_cross_entropy\": {\"count\": 1, \"max\": -Infinity, \"sum\": NaN, \"min\": Infinity}}, \"EndTime\": 1520507460.936208, \"Dimensions\": {\"model\": 15, \"Host\": \"algo-1\", \"Operation\": \"training\", \"Algorithm\": \"Linear Learner\", \"epoch\": 9}, \"StartTime\": 1520507460.936188}\n",
      "\u001b[0m\n",
      "\u001b[31m#metrics {\"Metrics\": {\"training_binary_classification_cross_entropy\": {\"count\": 1, \"max\": 0.1636787160873413, \"sum\": 0.1636787160873413, \"min\": 0.1636787160873413}, \"validation_binary_classification_cross_entropy\": {\"count\": 1, \"max\": -Infinity, \"sum\": NaN, \"min\": Infinity}}, \"EndTime\": 1520507460.93627, \"Dimensions\": {\"model\": 16, \"Host\": \"algo-1\", \"Operation\": \"training\", \"Algorithm\": \"Linear Learner\", \"epoch\": 9}, \"StartTime\": 1520507460.93625}\n",
      "\u001b[0m\n",
      "\u001b[31m#metrics {\"Metrics\": {\"training_binary_classification_cross_entropy\": {\"count\": 1, \"max\": 0.16564898788452148, \"sum\": 0.16564898788452148, \"min\": 0.16564898788452148}, \"validation_binary_classification_cross_entropy\": {\"count\": 1, \"max\": -Infinity, \"sum\": NaN, \"min\": Infinity}}, \"EndTime\": 1520507460.936334, \"Dimensions\": {\"model\": 17, \"Host\": \"algo-1\", \"Operation\": \"training\", \"Algorithm\": \"Linear Learner\", \"epoch\": 9}, \"StartTime\": 1520507460.936314}\n",
      "\u001b[0m\n",
      "\u001b[31m#metrics {\"Metrics\": {\"training_binary_classification_cross_entropy\": {\"count\": 1, \"max\": 0.16367975917816163, \"sum\": 0.16367975917816163, \"min\": 0.16367975917816163}, \"validation_binary_classification_cross_entropy\": {\"count\": 1, \"max\": -Infinity, \"sum\": NaN, \"min\": Infinity}}, \"EndTime\": 1520507460.936397, \"Dimensions\": {\"model\": 18, \"Host\": \"algo-1\", \"Operation\": \"training\", \"Algorithm\": \"Linear Learner\", \"epoch\": 9}, \"StartTime\": 1520507460.936377}\n",
      "\u001b[0m\n",
      "\u001b[31m#metrics {\"Metrics\": {\"training_binary_classification_cross_entropy\": {\"count\": 1, \"max\": 0.1656460202407837, \"sum\": 0.1656460202407837, \"min\": 0.1656460202407837}, \"validation_binary_classification_cross_entropy\": {\"count\": 1, \"max\": -Infinity, \"sum\": NaN, \"min\": Infinity}}, \"EndTime\": 1520507460.93646, \"Dimensions\": {\"model\": 19, \"Host\": \"algo-1\", \"Operation\": \"training\", \"Algorithm\": \"Linear Learner\", \"epoch\": 9}, \"StartTime\": 1520507460.93644}\n",
      "\u001b[0m\n",
      "\u001b[31m#metrics {\"Metrics\": {\"training_binary_classification_cross_entropy\": {\"count\": 1, \"max\": 0.1691796032333374, \"sum\": 0.1691796032333374, \"min\": 0.1691796032333374}, \"validation_binary_classification_cross_entropy\": {\"count\": 1, \"max\": -Infinity, \"sum\": NaN, \"min\": Infinity}}, \"EndTime\": 1520507460.936523, \"Dimensions\": {\"model\": 20, \"Host\": \"algo-1\", \"Operation\": \"training\", \"Algorithm\": \"Linear Learner\", \"epoch\": 9}, \"StartTime\": 1520507460.936503}\n",
      "\u001b[0m\n",
      "\u001b[31m#metrics {\"Metrics\": {\"training_binary_classification_cross_entropy\": {\"count\": 1, \"max\": 0.2079004786682129, \"sum\": 0.2079004786682129, \"min\": 0.2079004786682129}, \"validation_binary_classification_cross_entropy\": {\"count\": 1, \"max\": -Infinity, \"sum\": NaN, \"min\": Infinity}}, \"EndTime\": 1520507460.936585, \"Dimensions\": {\"model\": 21, \"Host\": \"algo-1\", \"Operation\": \"training\", \"Algorithm\": \"Linear Learner\", \"epoch\": 9}, \"StartTime\": 1520507460.936565}\n",
      "\u001b[0m\n",
      "\u001b[31m#metrics {\"Metrics\": {\"training_binary_classification_cross_entropy\": {\"count\": 1, \"max\": 0.1691974616622925, \"sum\": 0.1691974616622925, \"min\": 0.1691974616622925}, \"validation_binary_classification_cross_entropy\": {\"count\": 1, \"max\": -Infinity, \"sum\": NaN, \"min\": Infinity}}, \"EndTime\": 1520507460.936648, \"Dimensions\": {\"model\": 22, \"Host\": \"algo-1\", \"Operation\": \"training\", \"Algorithm\": \"Linear Learner\", \"epoch\": 9}, \"StartTime\": 1520507460.936629}\n",
      "\u001b[0m\n",
      "\u001b[31m#metrics {\"Metrics\": {\"training_binary_classification_cross_entropy\": {\"count\": 1, \"max\": 0.2073529754638672, \"sum\": 0.2073529754638672, \"min\": 0.2073529754638672}, \"validation_binary_classification_cross_entropy\": {\"count\": 1, \"max\": -Infinity, \"sum\": NaN, \"min\": Infinity}}, \"EndTime\": 1520507460.936706, \"Dimensions\": {\"model\": 23, \"Host\": \"algo-1\", \"Operation\": \"training\", \"Algorithm\": \"Linear Learner\", \"epoch\": 9}, \"StartTime\": 1520507460.93669}\n",
      "\u001b[0m\n",
      "\u001b[31m#metrics {\"Metrics\": {\"training_binary_classification_cross_entropy\": {\"count\": 1, \"max\": 0.32203103630065916, \"sum\": 0.32203103630065916, \"min\": 0.32203103630065916}, \"validation_binary_classification_cross_entropy\": {\"count\": 1, \"max\": -Infinity, \"sum\": NaN, \"min\": Infinity}}, \"EndTime\": 1520507460.936758, \"Dimensions\": {\"model\": 24, \"Host\": \"algo-1\", \"Operation\": \"training\", \"Algorithm\": \"Linear Learner\", \"epoch\": 9}, \"StartTime\": 1520507460.936742}\n",
      "\u001b[0m\n",
      "\u001b[31m#metrics {\"Metrics\": {\"training_binary_classification_cross_entropy\": {\"count\": 1, \"max\": 0.32211029319763185, \"sum\": 0.32211029319763185, \"min\": 0.32211029319763185}, \"validation_binary_classification_cross_entropy\": {\"count\": 1, \"max\": -Infinity, \"sum\": NaN, \"min\": Infinity}}, \"EndTime\": 1520507460.93682, \"Dimensions\": {\"model\": 25, \"Host\": \"algo-1\", \"Operation\": \"training\", \"Algorithm\": \"Linear Learner\", \"epoch\": 9}, \"StartTime\": 1520507460.9368}\n",
      "\u001b[0m\n",
      "\u001b[31m#metrics {\"Metrics\": {\"training_binary_classification_cross_entropy\": {\"count\": 1, \"max\": 0.3220321896362305, \"sum\": 0.3220321896362305, \"min\": 0.3220321896362305}, \"validation_binary_classification_cross_entropy\": {\"count\": 1, \"max\": -Infinity, \"sum\": NaN, \"min\": Infinity}}, \"EndTime\": 1520507460.936886, \"Dimensions\": {\"model\": 26, \"Host\": \"algo-1\", \"Operation\": \"training\", \"Algorithm\": \"Linear Learner\", \"epoch\": 9}, \"StartTime\": 1520507460.936866}\n",
      "\u001b[0m\n",
      "\u001b[31m#metrics {\"Metrics\": {\"training_binary_classification_cross_entropy\": {\"count\": 1, \"max\": 0.3221223459625244, \"sum\": 0.3221223459625244, \"min\": 0.3221223459625244}, \"validation_binary_classification_cross_entropy\": {\"count\": 1, \"max\": -Infinity, \"sum\": NaN, \"min\": Infinity}}, \"EndTime\": 1520507460.936948, \"Dimensions\": {\"model\": 27, \"Host\": \"algo-1\", \"Operation\": \"training\", \"Algorithm\": \"Linear Learner\", \"epoch\": 9}, \"StartTime\": 1520507460.936929}\n",
      "\u001b[0m\n",
      "\u001b[31m#metrics {\"Metrics\": {\"training_binary_classification_cross_entropy\": {\"count\": 1, \"max\": 0.3220787953948975, \"sum\": 0.3220787953948975, \"min\": 0.3220787953948975}, \"validation_binary_classification_cross_entropy\": {\"count\": 1, \"max\": -Infinity, \"sum\": NaN, \"min\": Infinity}}, \"EndTime\": 1520507460.937013, \"Dimensions\": {\"model\": 28, \"Host\": \"algo-1\", \"Operation\": \"training\", \"Algorithm\": \"Linear Learner\", \"epoch\": 9}, \"StartTime\": 1520507460.936992}\n",
      "\u001b[0m\n",
      "\u001b[31m#metrics {\"Metrics\": {\"training_binary_classification_cross_entropy\": {\"count\": 1, \"max\": 0.3254085115814209, \"sum\": 0.3254085115814209, \"min\": 0.3254085115814209}, \"validation_binary_classification_cross_entropy\": {\"count\": 1, \"max\": -Infinity, \"sum\": NaN, \"min\": Infinity}}, \"EndTime\": 1520507460.937076, \"Dimensions\": {\"model\": 29, \"Host\": \"algo-1\", \"Operation\": \"training\", \"Algorithm\": \"Linear Learner\", \"epoch\": 9}, \"StartTime\": 1520507460.937056}\n",
      "\u001b[0m\n",
      "\u001b[31m#metrics {\"Metrics\": {\"training_binary_classification_cross_entropy\": {\"count\": 1, \"max\": 0.3221372760009766, \"sum\": 0.3221372760009766, \"min\": 0.3221372760009766}, \"validation_binary_classification_cross_entropy\": {\"count\": 1, \"max\": -Infinity, \"sum\": NaN, \"min\": Infinity}}, \"EndTime\": 1520507460.937138, \"Dimensions\": {\"model\": 30, \"Host\": \"algo-1\", \"Operation\": \"training\", \"Algorithm\": \"Linear Learner\", \"epoch\": 9}, \"StartTime\": 1520507460.937118}\n",
      "\u001b[0m\n",
      "\u001b[31m#metrics {\"Metrics\": {\"training_binary_classification_cross_entropy\": {\"count\": 1, \"max\": 0.3251762432861328, \"sum\": 0.3251762432861328, \"min\": 0.3251762432861328}, \"validation_binary_classification_cross_entropy\": {\"count\": 1, \"max\": -Infinity, \"sum\": NaN, \"min\": Infinity}}, \"EndTime\": 1520507460.937204, \"Dimensions\": {\"model\": 31, \"Host\": \"algo-1\", \"Operation\": \"training\", \"Algorithm\": \"Linear Learner\", \"epoch\": 9}, \"StartTime\": 1520507460.937185}\n",
      "\u001b[0m\n",
      "\u001b[31m[03/08/2018 11:11:00 INFO 139650080663360] Epoch 9: Loss improved.  Updating best model\u001b[0m\n",
      "\u001b[31m#metrics {\"Metrics\": {\"Max Batches Seen Between Resets\": {\"count\": 1, \"max\": 250, \"sum\": 250.0, \"min\": 250}, \"Number of Batches Since Last Reset\": {\"count\": 1, \"max\": 250, \"sum\": 250.0, \"min\": 250}, \"Number of Records Since Last Reset\": {\"count\": 1, \"max\": 50000, \"sum\": 50000.0, \"min\": 50000}, \"Total Batches Seen\": {\"count\": 1, \"max\": 2302, \"sum\": 2302.0, \"min\": 2302}, \"Total Records Seen\": {\"count\": 1, \"max\": 460400, \"sum\": 460400.0, \"min\": 460400}, \"Max Records Seen Between Resets\": {\"count\": 1, \"max\": 50000, \"sum\": 50000.0, \"min\": 50000}, \"Reset Count\": {\"count\": 1, \"max\": 11, \"sum\": 11.0, \"min\": 11}}, \"EndTime\": 1520507460.938123, \"Dimensions\": {\"Host\": \"algo-1\", \"Meta\": \"training_data_iter\", \"Operation\": \"training\", \"Algorithm\": \"Linear Learner\", \"epoch\": 8}, \"StartTime\": 1520507460.938093}\n",
      "\u001b[0m\n"
     ]
    },
    {
     "name": "stdout",
     "output_type": "stream",
     "text": [
      "\u001b[31m#metrics {\"Metrics\": {\"training_binary_classification_cross_entropy\": {\"count\": 1, \"max\": 0.07959234417915344, \"sum\": 0.07959234417915344, \"min\": 0.07959234417915344}, \"validation_binary_classification_cross_entropy\": {\"count\": 1, \"max\": -Infinity, \"sum\": NaN, \"min\": Infinity}}, \"EndTime\": 1520507467.553333, \"Dimensions\": {\"model\": 0, \"Host\": \"algo-1\", \"Operation\": \"training\", \"Algorithm\": \"Linear Learner\", \"epoch\": 10}, \"StartTime\": 1520507467.553259}\n",
      "\u001b[0m\n",
      "\u001b[31m#metrics {\"Metrics\": {\"training_binary_classification_cross_entropy\": {\"count\": 1, \"max\": 0.08484374375343323, \"sum\": 0.08484374375343323, \"min\": 0.08484374375343323}, \"validation_binary_classification_cross_entropy\": {\"count\": 1, \"max\": -Infinity, \"sum\": NaN, \"min\": Infinity}}, \"EndTime\": 1520507467.553412, \"Dimensions\": {\"model\": 1, \"Host\": \"algo-1\", \"Operation\": \"training\", \"Algorithm\": \"Linear Learner\", \"epoch\": 10}, \"StartTime\": 1520507467.553394}\n",
      "\u001b[0m\n",
      "\u001b[31m#metrics {\"Metrics\": {\"training_binary_classification_cross_entropy\": {\"count\": 1, \"max\": 0.07955835366249084, \"sum\": 0.07955835366249084, \"min\": 0.07955835366249084}, \"validation_binary_classification_cross_entropy\": {\"count\": 1, \"max\": -Infinity, \"sum\": NaN, \"min\": Infinity}}, \"EndTime\": 1520507467.553481, \"Dimensions\": {\"model\": 2, \"Host\": \"algo-1\", \"Operation\": \"training\", \"Algorithm\": \"Linear Learner\", \"epoch\": 10}, \"StartTime\": 1520507467.55346}\n",
      "\u001b[0m\n",
      "\u001b[31m#metrics {\"Metrics\": {\"training_binary_classification_cross_entropy\": {\"count\": 1, \"max\": 0.08480856840610504, \"sum\": 0.08480856840610504, \"min\": 0.08480856840610504}, \"validation_binary_classification_cross_entropy\": {\"count\": 1, \"max\": -Infinity, \"sum\": NaN, \"min\": Infinity}}, \"EndTime\": 1520507467.553529, \"Dimensions\": {\"model\": 3, \"Host\": \"algo-1\", \"Operation\": \"training\", \"Algorithm\": \"Linear Learner\", \"epoch\": 10}, \"StartTime\": 1520507467.553514}\n",
      "\u001b[0m\n",
      "\u001b[31m#metrics {\"Metrics\": {\"training_binary_classification_cross_entropy\": {\"count\": 1, \"max\": 0.09693163304328918, \"sum\": 0.09693163304328918, \"min\": 0.09693163304328918}, \"validation_binary_classification_cross_entropy\": {\"count\": 1, \"max\": -Infinity, \"sum\": NaN, \"min\": Infinity}}, \"EndTime\": 1520507467.553584, \"Dimensions\": {\"model\": 4, \"Host\": \"algo-1\", \"Operation\": \"training\", \"Algorithm\": \"Linear Learner\", \"epoch\": 10}, \"StartTime\": 1520507467.553568}\n",
      "\u001b[0m\n",
      "\u001b[31m#metrics {\"Metrics\": {\"training_binary_classification_cross_entropy\": {\"count\": 1, \"max\": 0.291929981187582, \"sum\": 0.291929981187582, \"min\": 0.291929981187582}, \"validation_binary_classification_cross_entropy\": {\"count\": 1, \"max\": -Infinity, \"sum\": NaN, \"min\": Infinity}}, \"EndTime\": 1520507467.553647, \"Dimensions\": {\"model\": 5, \"Host\": \"algo-1\", \"Operation\": \"training\", \"Algorithm\": \"Linear Learner\", \"epoch\": 10}, \"StartTime\": 1520507467.553629}\n",
      "\u001b[0m\n",
      "\u001b[31m#metrics {\"Metrics\": {\"training_binary_classification_cross_entropy\": {\"count\": 1, \"max\": 0.09759557353973389, \"sum\": 0.09759557353973389, \"min\": 0.09759557353973389}, \"validation_binary_classification_cross_entropy\": {\"count\": 1, \"max\": -Infinity, \"sum\": NaN, \"min\": Infinity}}, \"EndTime\": 1520507467.553707, \"Dimensions\": {\"model\": 6, \"Host\": \"algo-1\", \"Operation\": \"training\", \"Algorithm\": \"Linear Learner\", \"epoch\": 10}, \"StartTime\": 1520507467.553689}\n",
      "\u001b[0m\n",
      "\u001b[31m#metrics {\"Metrics\": {\"training_binary_classification_cross_entropy\": {\"count\": 1, \"max\": 0.288433732984066, \"sum\": 0.288433732984066, \"min\": 0.288433732984066}, \"validation_binary_classification_cross_entropy\": {\"count\": 1, \"max\": -Infinity, \"sum\": NaN, \"min\": Infinity}}, \"EndTime\": 1520507467.553781, \"Dimensions\": {\"model\": 7, \"Host\": \"algo-1\", \"Operation\": \"training\", \"Algorithm\": \"Linear Learner\", \"epoch\": 10}, \"StartTime\": 1520507467.553758}\n",
      "\u001b[0m\n",
      "\u001b[31m#metrics {\"Metrics\": {\"training_binary_classification_cross_entropy\": {\"count\": 1, \"max\": 0.08381951605796814, \"sum\": 0.08381951605796814, \"min\": 0.08381951605796814}, \"validation_binary_classification_cross_entropy\": {\"count\": 1, \"max\": -Infinity, \"sum\": NaN, \"min\": Infinity}}, \"EndTime\": 1520507467.553845, \"Dimensions\": {\"model\": 8, \"Host\": \"algo-1\", \"Operation\": \"training\", \"Algorithm\": \"Linear Learner\", \"epoch\": 10}, \"StartTime\": 1520507467.553825}\n",
      "\u001b[0m\n",
      "\u001b[31m#metrics {\"Metrics\": {\"training_binary_classification_cross_entropy\": {\"count\": 1, \"max\": 0.09038897492408753, \"sum\": 0.09038897492408753, \"min\": 0.09038897492408753}, \"validation_binary_classification_cross_entropy\": {\"count\": 1, \"max\": -Infinity, \"sum\": NaN, \"min\": Infinity}}, \"EndTime\": 1520507467.553913, \"Dimensions\": {\"model\": 9, \"Host\": \"algo-1\", \"Operation\": \"training\", \"Algorithm\": \"Linear Learner\", \"epoch\": 10}, \"StartTime\": 1520507467.553892}\n",
      "\u001b[0m\n",
      "\u001b[31m#metrics {\"Metrics\": {\"training_binary_classification_cross_entropy\": {\"count\": 1, \"max\": 0.08382550456047058, \"sum\": 0.08382550456047058, \"min\": 0.08382550456047058}, \"validation_binary_classification_cross_entropy\": {\"count\": 1, \"max\": -Infinity, \"sum\": NaN, \"min\": Infinity}}, \"EndTime\": 1520507467.553967, \"Dimensions\": {\"model\": 10, \"Host\": \"algo-1\", \"Operation\": \"training\", \"Algorithm\": \"Linear Learner\", \"epoch\": 10}, \"StartTime\": 1520507467.553948}\n",
      "\u001b[0m\n",
      "\u001b[31m#metrics {\"Metrics\": {\"training_binary_classification_cross_entropy\": {\"count\": 1, \"max\": 0.09038529404640198, \"sum\": 0.09038529404640198, \"min\": 0.09038529404640198}, \"validation_binary_classification_cross_entropy\": {\"count\": 1, \"max\": -Infinity, \"sum\": NaN, \"min\": Infinity}}, \"EndTime\": 1520507467.554018, \"Dimensions\": {\"model\": 11, \"Host\": \"algo-1\", \"Operation\": \"training\", \"Algorithm\": \"Linear Learner\", \"epoch\": 10}, \"StartTime\": 1520507467.553999}\n",
      "\u001b[0m\n",
      "\u001b[31m#metrics {\"Metrics\": {\"training_binary_classification_cross_entropy\": {\"count\": 1, \"max\": 0.09795038906097413, \"sum\": 0.09795038906097413, \"min\": 0.09795038906097413}, \"validation_binary_classification_cross_entropy\": {\"count\": 1, \"max\": -Infinity, \"sum\": NaN, \"min\": Infinity}}, \"EndTime\": 1520507467.554098, \"Dimensions\": {\"model\": 12, \"Host\": \"algo-1\", \"Operation\": \"training\", \"Algorithm\": \"Linear Learner\", \"epoch\": 10}, \"StartTime\": 1520507467.554076}\n",
      "\u001b[0m\n",
      "\u001b[31m#metrics {\"Metrics\": {\"training_binary_classification_cross_entropy\": {\"count\": 1, \"max\": 0.25610479972839356, \"sum\": 0.25610479972839356, \"min\": 0.25610479972839356}, \"validation_binary_classification_cross_entropy\": {\"count\": 1, \"max\": -Infinity, \"sum\": NaN, \"min\": Infinity}}, \"EndTime\": 1520507467.554169, \"Dimensions\": {\"model\": 13, \"Host\": \"algo-1\", \"Operation\": \"training\", \"Algorithm\": \"Linear Learner\", \"epoch\": 10}, \"StartTime\": 1520507467.554148}\n",
      "\u001b[0m\n",
      "\u001b[31m#metrics {\"Metrics\": {\"training_binary_classification_cross_entropy\": {\"count\": 1, \"max\": 0.09725577974319458, \"sum\": 0.09725577974319458, \"min\": 0.09725577974319458}, \"validation_binary_classification_cross_entropy\": {\"count\": 1, \"max\": -Infinity, \"sum\": NaN, \"min\": Infinity}}, \"EndTime\": 1520507467.55424, \"Dimensions\": {\"model\": 14, \"Host\": \"algo-1\", \"Operation\": \"training\", \"Algorithm\": \"Linear Learner\", \"epoch\": 10}, \"StartTime\": 1520507467.554219}\n",
      "\u001b[0m\n",
      "\u001b[31m#metrics {\"Metrics\": {\"training_binary_classification_cross_entropy\": {\"count\": 1, \"max\": 0.2632802066659927, \"sum\": 0.2632802066659927, \"min\": 0.2632802066659927}, \"validation_binary_classification_cross_entropy\": {\"count\": 1, \"max\": -Infinity, \"sum\": NaN, \"min\": Infinity}}, \"EndTime\": 1520507467.55431, \"Dimensions\": {\"model\": 15, \"Host\": \"algo-1\", \"Operation\": \"training\", \"Algorithm\": \"Linear Learner\", \"epoch\": 10}, \"StartTime\": 1520507467.554289}\n",
      "\u001b[0m\n",
      "\u001b[31m#metrics {\"Metrics\": {\"training_binary_classification_cross_entropy\": {\"count\": 1, \"max\": 0.16353222518920899, \"sum\": 0.16353222518920899, \"min\": 0.16353222518920899}, \"validation_binary_classification_cross_entropy\": {\"count\": 1, \"max\": -Infinity, \"sum\": NaN, \"min\": Infinity}}, \"EndTime\": 1520507467.554378, \"Dimensions\": {\"model\": 16, \"Host\": \"algo-1\", \"Operation\": \"training\", \"Algorithm\": \"Linear Learner\", \"epoch\": 10}, \"StartTime\": 1520507467.554358}\n",
      "\u001b[0m\n",
      "\u001b[31m#metrics {\"Metrics\": {\"training_binary_classification_cross_entropy\": {\"count\": 1, \"max\": 0.16558991855621338, \"sum\": 0.16558991855621338, \"min\": 0.16558991855621338}, \"validation_binary_classification_cross_entropy\": {\"count\": 1, \"max\": -Infinity, \"sum\": NaN, \"min\": Infinity}}, \"EndTime\": 1520507467.554448, \"Dimensions\": {\"model\": 17, \"Host\": \"algo-1\", \"Operation\": \"training\", \"Algorithm\": \"Linear Learner\", \"epoch\": 10}, \"StartTime\": 1520507467.554427}\n",
      "\u001b[0m\n",
      "\u001b[31m#metrics {\"Metrics\": {\"training_binary_classification_cross_entropy\": {\"count\": 1, \"max\": 0.16353330139160155, \"sum\": 0.16353330139160155, \"min\": 0.16353330139160155}, \"validation_binary_classification_cross_entropy\": {\"count\": 1, \"max\": -Infinity, \"sum\": NaN, \"min\": Infinity}}, \"EndTime\": 1520507467.554513, \"Dimensions\": {\"model\": 18, \"Host\": \"algo-1\", \"Operation\": \"training\", \"Algorithm\": \"Linear Learner\", \"epoch\": 10}, \"StartTime\": 1520507467.554494}\n",
      "\u001b[0m\n",
      "\u001b[31m#metrics {\"Metrics\": {\"training_binary_classification_cross_entropy\": {\"count\": 1, \"max\": 0.1655873828125, \"sum\": 0.1655873828125, \"min\": 0.1655873828125}, \"validation_binary_classification_cross_entropy\": {\"count\": 1, \"max\": -Infinity, \"sum\": NaN, \"min\": Infinity}}, \"EndTime\": 1520507467.554568, \"Dimensions\": {\"model\": 19, \"Host\": \"algo-1\", \"Operation\": \"training\", \"Algorithm\": \"Linear Learner\", \"epoch\": 10}, \"StartTime\": 1520507467.554553}\n",
      "\u001b[0m\n",
      "\u001b[31m#metrics {\"Metrics\": {\"training_binary_classification_cross_entropy\": {\"count\": 1, \"max\": 0.16828274188995362, \"sum\": 0.16828274188995362, \"min\": 0.16828274188995362}, \"validation_binary_classification_cross_entropy\": {\"count\": 1, \"max\": -Infinity, \"sum\": NaN, \"min\": Infinity}}, \"EndTime\": 1520507467.554601, \"Dimensions\": {\"model\": 20, \"Host\": \"algo-1\", \"Operation\": \"training\", \"Algorithm\": \"Linear Learner\", \"epoch\": 10}, \"StartTime\": 1520507467.554591}\n",
      "\u001b[0m\n",
      "\u001b[31m#metrics {\"Metrics\": {\"training_binary_classification_cross_entropy\": {\"count\": 1, \"max\": 0.20625243125915527, \"sum\": 0.20625243125915527, \"min\": 0.20625243125915527}, \"validation_binary_classification_cross_entropy\": {\"count\": 1, \"max\": -Infinity, \"sum\": NaN, \"min\": Infinity}}, \"EndTime\": 1520507467.55463, \"Dimensions\": {\"model\": 21, \"Host\": \"algo-1\", \"Operation\": \"training\", \"Algorithm\": \"Linear Learner\", \"epoch\": 10}, \"StartTime\": 1520507467.554621}\n",
      "\u001b[0m\n",
      "\u001b[31m#metrics {\"Metrics\": {\"training_binary_classification_cross_entropy\": {\"count\": 1, \"max\": 0.16815047817230225, \"sum\": 0.16815047817230225, \"min\": 0.16815047817230225}, \"validation_binary_classification_cross_entropy\": {\"count\": 1, \"max\": -Infinity, \"sum\": NaN, \"min\": Infinity}}, \"EndTime\": 1520507467.554658, \"Dimensions\": {\"model\": 22, \"Host\": \"algo-1\", \"Operation\": \"training\", \"Algorithm\": \"Linear Learner\", \"epoch\": 10}, \"StartTime\": 1520507467.554649}\n",
      "\u001b[0m\n",
      "\u001b[31m#metrics {\"Metrics\": {\"training_binary_classification_cross_entropy\": {\"count\": 1, \"max\": 0.20549321018218994, \"sum\": 0.20549321018218994, \"min\": 0.20549321018218994}, \"validation_binary_classification_cross_entropy\": {\"count\": 1, \"max\": -Infinity, \"sum\": NaN, \"min\": Infinity}}, \"EndTime\": 1520507467.55472, \"Dimensions\": {\"model\": 23, \"Host\": \"algo-1\", \"Operation\": \"training\", \"Algorithm\": \"Linear Learner\", \"epoch\": 10}, \"StartTime\": 1520507467.5547}\n",
      "\u001b[0m\n",
      "\u001b[31m#metrics {\"Metrics\": {\"training_binary_classification_cross_entropy\": {\"count\": 1, \"max\": 0.32204191635131835, \"sum\": 0.32204191635131835, \"min\": 0.32204191635131835}, \"validation_binary_classification_cross_entropy\": {\"count\": 1, \"max\": -Infinity, \"sum\": NaN, \"min\": Infinity}}, \"EndTime\": 1520507467.554782, \"Dimensions\": {\"model\": 24, \"Host\": \"algo-1\", \"Operation\": \"training\", \"Algorithm\": \"Linear Learner\", \"epoch\": 10}, \"StartTime\": 1520507467.554763}\n",
      "\u001b[0m\n",
      "\u001b[31m#metrics {\"Metrics\": {\"training_binary_classification_cross_entropy\": {\"count\": 1, \"max\": 0.3221132382965088, \"sum\": 0.3221132382965088, \"min\": 0.3221132382965088}, \"validation_binary_classification_cross_entropy\": {\"count\": 1, \"max\": -Infinity, \"sum\": NaN, \"min\": Infinity}}, \"EndTime\": 1520507467.554844, \"Dimensions\": {\"model\": 25, \"Host\": \"algo-1\", \"Operation\": \"training\", \"Algorithm\": \"Linear Learner\", \"epoch\": 10}, \"StartTime\": 1520507467.554824}\n",
      "\u001b[0m\n",
      "\u001b[31m#metrics {\"Metrics\": {\"training_binary_classification_cross_entropy\": {\"count\": 1, \"max\": 0.322038696975708, \"sum\": 0.322038696975708, \"min\": 0.322038696975708}, \"validation_binary_classification_cross_entropy\": {\"count\": 1, \"max\": -Infinity, \"sum\": NaN, \"min\": Infinity}}, \"EndTime\": 1520507467.554908, \"Dimensions\": {\"model\": 26, \"Host\": \"algo-1\", \"Operation\": \"training\", \"Algorithm\": \"Linear Learner\", \"epoch\": 10}, \"StartTime\": 1520507467.554887}\n",
      "\u001b[0m\n",
      "\u001b[31m#metrics {\"Metrics\": {\"training_binary_classification_cross_entropy\": {\"count\": 1, \"max\": 0.322111194152832, \"sum\": 0.322111194152832, \"min\": 0.322111194152832}, \"validation_binary_classification_cross_entropy\": {\"count\": 1, \"max\": -Infinity, \"sum\": NaN, \"min\": Infinity}}, \"EndTime\": 1520507467.554967, \"Dimensions\": {\"model\": 27, \"Host\": \"algo-1\", \"Operation\": \"training\", \"Algorithm\": \"Linear Learner\", \"epoch\": 10}, \"StartTime\": 1520507467.554948}\n",
      "\u001b[0m\n",
      "\u001b[31m#metrics {\"Metrics\": {\"training_binary_classification_cross_entropy\": {\"count\": 1, \"max\": 0.32227202598571775, \"sum\": 0.32227202598571775, \"min\": 0.32227202598571775}, \"validation_binary_classification_cross_entropy\": {\"count\": 1, \"max\": -Infinity, \"sum\": NaN, \"min\": Infinity}}, \"EndTime\": 1520507467.555023, \"Dimensions\": {\"model\": 28, \"Host\": \"algo-1\", \"Operation\": \"training\", \"Algorithm\": \"Linear Learner\", \"epoch\": 10}, \"StartTime\": 1520507467.555004}\n",
      "\u001b[0m\n",
      "\u001b[31m#metrics {\"Metrics\": {\"training_binary_classification_cross_entropy\": {\"count\": 1, \"max\": 0.3256453837585449, \"sum\": 0.3256453837585449, \"min\": 0.3256453837585449}, \"validation_binary_classification_cross_entropy\": {\"count\": 1, \"max\": -Infinity, \"sum\": NaN, \"min\": Infinity}}, \"EndTime\": 1520507467.555075, \"Dimensions\": {\"model\": 29, \"Host\": \"algo-1\", \"Operation\": \"training\", \"Algorithm\": \"Linear Learner\", \"epoch\": 10}, \"StartTime\": 1520507467.555056}\n",
      "\u001b[0m\n",
      "\u001b[31m#metrics {\"Metrics\": {\"training_binary_classification_cross_entropy\": {\"count\": 1, \"max\": 0.32206781074523927, \"sum\": 0.32206781074523927, \"min\": 0.32206781074523927}, \"validation_binary_classification_cross_entropy\": {\"count\": 1, \"max\": -Infinity, \"sum\": NaN, \"min\": Infinity}}, \"EndTime\": 1520507467.555134, \"Dimensions\": {\"model\": 30, \"Host\": \"algo-1\", \"Operation\": \"training\", \"Algorithm\": \"Linear Learner\", \"epoch\": 10}, \"StartTime\": 1520507467.555115}\n",
      "\u001b[0m\n",
      "\u001b[31m#metrics {\"Metrics\": {\"training_binary_classification_cross_entropy\": {\"count\": 1, \"max\": 0.32603942420959475, \"sum\": 0.32603942420959475, \"min\": 0.32603942420959475}, \"validation_binary_classification_cross_entropy\": {\"count\": 1, \"max\": -Infinity, \"sum\": NaN, \"min\": Infinity}}, \"EndTime\": 1520507467.555196, \"Dimensions\": {\"model\": 31, \"Host\": \"algo-1\", \"Operation\": \"training\", \"Algorithm\": \"Linear Learner\", \"epoch\": 10}, \"StartTime\": 1520507467.555176}\n",
      "\u001b[0m\n",
      "\u001b[31m[03/08/2018 11:11:07 INFO 139650080663360] Epoch 10: Loss improved.  Updating best model\u001b[0m\n",
      "\u001b[31m#metrics {\"Metrics\": {\"Max Batches Seen Between Resets\": {\"count\": 1, \"max\": 250, \"sum\": 250.0, \"min\": 250}, \"Number of Batches Since Last Reset\": {\"count\": 1, \"max\": 250, \"sum\": 250.0, \"min\": 250}, \"Number of Records Since Last Reset\": {\"count\": 1, \"max\": 50000, \"sum\": 50000.0, \"min\": 50000}, \"Total Batches Seen\": {\"count\": 1, \"max\": 2552, \"sum\": 2552.0, \"min\": 2552}, \"Total Records Seen\": {\"count\": 1, \"max\": 510400, \"sum\": 510400.0, \"min\": 510400}, \"Max Records Seen Between Resets\": {\"count\": 1, \"max\": 50000, \"sum\": 50000.0, \"min\": 50000}, \"Reset Count\": {\"count\": 1, \"max\": 12, \"sum\": 12.0, \"min\": 12}}, \"EndTime\": 1520507467.556113, \"Dimensions\": {\"Host\": \"algo-1\", \"Meta\": \"training_data_iter\", \"Operation\": \"training\", \"Algorithm\": \"Linear Learner\", \"epoch\": 9}, \"StartTime\": 1520507467.556083}\n",
      "\u001b[0m\n",
      "\u001b[31m[03/08/2018 11:11:07 WARNING 139650080663360] wait_for_all_workers will not sync workers since the kv store is not running distributed\u001b[0m\n",
      "\u001b[31m[03/08/2018 11:11:07 WARNING 139650080663360] wait_for_all_workers will not sync workers since the kv store is not running distributed\u001b[0m\n",
      "\u001b[31m#metrics {\"Metrics\": {\"f1\": {\"count\": 1, \"max\": 0.8770352612126661, \"sum\": 0.8770352612126661, \"min\": 0.8770352612126661}, \"threshold_for_accuracy\": {\"count\": 1, \"max\": 0.5168482661247253, \"sum\": 0.5168482661247253, \"min\": 0.5168482661247253}, \"threshold_for_precision_at_target_recall\": {\"count\": 1, \"max\": 0.593981146812439, \"sum\": 0.593981146812439, \"min\": 0.593981146812439}, \"threshold_for_recall_at_target_precision\": {\"count\": 1, \"max\": 0.24189069867134094, \"sum\": 0.24189069867134094, \"min\": 0.24189069867134094}, \"recall_at_precision\": {\"count\": 1, \"max\": 0.9029602038815937, \"sum\": 0.9029602038815937, \"min\": 0.9029602038815937}, \"precision_at_target_recall\": {\"count\": 1, \"max\": 0.939899451553932, \"sum\": 0.939899451553932, \"min\": 0.939899451553932}, \"accuracy\": {\"count\": 1, \"max\": 0.9758, \"sum\": 0.9758, \"min\": 0.9758}, \"threshold_for_f1\": {\"count\": 1, \"max\": 0.42559221386909485, \"sum\": 0.42559221386909485, \"min\": 0.42559221386909485}}, \"EndTime\": 1520507468.297198, \"Dimensions\": {\"model\": 0, \"Host\": \"algo-1\", \"Operation\": \"training\", \"Algorithm\": \"Linear Learner\"}, \"StartTime\": 1520507468.289497}\n",
      "\u001b[0m\n",
      "\u001b[31m[03/08/2018 11:11:08 INFO 139650080663360] Selection criteria: accuracy\u001b[0m\n",
      "\u001b[31mmodel: 0\u001b[0m\n",
      "\u001b[31mthreshold: 0.516848\u001b[0m\n",
      "\u001b[31mscore: 0.975800\u001b[0m\n",
      "\u001b[31m[03/08/2018 11:11:08 INFO 139650080663360] Saved checkpoint to \"/tmp/tmptplLht/mx-mod-0000.params\"\u001b[0m\n",
      "\u001b[31m[03/08/2018 11:11:08 INFO 139650080663360] Test data was not provided.\u001b[0m\n",
      "\u001b[31m#metrics {\"Metrics\": {\"totaltime\": {\"count\": 1, \"max\": 66797.59883880615, \"sum\": 66797.59883880615, \"min\": 66797.59883880615}, \"finalize.time\": {\"count\": 1, \"max\": 745.2521324157715, \"sum\": 745.2521324157715, \"min\": 745.2521324157715}, \"initialize.time\": {\"count\": 1, \"max\": 432.6159954071045, \"sum\": 432.6159954071045, \"min\": 432.6159954071045}, \"check_early_stopping.time\": {\"count\": 10, \"max\": 0.9169578552246094, \"sum\": 8.085250854492188, \"min\": 0.7328987121582031}, \"setuptime\": {\"count\": 1, \"max\": 22.72486686706543, \"sum\": 22.72486686706543, \"min\": 22.72486686706543}, \"update.time\": {\"count\": 10, \"max\": 6792.896032333374, \"sum\": 65529.52814102173, \"min\": 6326.629877090454}, \"epochs\": {\"count\": 1, \"max\": 10, \"sum\": 10.0, \"min\": 10}}, \"EndTime\": 1520507468.306101, \"Dimensions\": {\"Host\": \"algo-1\", \"Operation\": \"training\", \"Algorithm\": \"Linear Learner\"}, \"StartTime\": 1520507401.568862}\n",
      "\u001b[0m\n"
     ]
    },
    {
     "name": "stdout",
     "output_type": "stream",
     "text": [
      "===== Job Complete =====\n"
     ]
    }
   ],
   "source": [
    "linear.fit({'train': train_data_loc})"
   ]
  },
  {
   "cell_type": "code",
   "execution_count": 52,
   "metadata": {},
   "outputs": [
    {
     "name": "stderr",
     "output_type": "stream",
     "text": [
      "INFO:sagemaker:Creating model with name: linear-learner-2018-03-08-11-15-56-343\n",
      "INFO:sagemaker:Creating endpoint with name linear-learner-2018-03-08-11-04-25-096\n"
     ]
    },
    {
     "name": "stdout",
     "output_type": "stream",
     "text": [
      "--------------------------------------------------------------------------------------------------------------!"
     ]
    }
   ],
   "source": [
    "linear_predictor = linear.deploy(initial_instance_count=1,\n",
    "                                 instance_type='ml.m4.xlarge')"
   ]
  },
  {
   "cell_type": "markdown",
   "metadata": {},
   "source": [
    "## Validate the model for use. \n",
    "* Set the invocation’s 'ContentType', overriding any content_type from the serializer\n",
    "* Specify how to serialize requests and deserialize responses that are specific to the algorithm.\n",
    "* Serializer accepts a single argument, the input data, and returns a sequence of bytes. \n",
    "* Content type options for Amazon SageMaker algorithm inference requests include: text/csv, application/json, and application/x-recordio-protobuf. \n",
    "* Deserializer accepts two arguments, the result data and the response content type, and returns a sequence of bytes.\n",
    "* Amazon SageMaker algorithms return JSON."
   ]
  },
  {
   "cell_type": "code",
   "execution_count": 53,
   "metadata": {
    "collapsed": true
   },
   "outputs": [],
   "source": [
    "linear_predictor.content_type = 'text/csv'\n",
    "linear_predictor.serializer = csv_serializer\n",
    "linear_predictor.deserializer = json_deserializer"
   ]
  },
  {
   "cell_type": "markdown",
   "metadata": {},
   "source": [
    "### Try getting a prediction for a single record."
   ]
  },
  {
   "cell_type": "code",
   "execution_count": 54,
   "metadata": {},
   "outputs": [
    {
     "name": "stdout",
     "output_type": "stream",
     "text": [
      "{'predictions': [{'score': 0.772477924823761, 'predicted_label': 1.0}]}\n"
     ]
    }
   ],
   "source": [
    "result = linear_predictor.predict(train_set[0][30])\n",
    "print(result)"
   ]
  },
  {
   "cell_type": "markdown",
   "metadata": {},
   "source": [
    "### Running the model on the whole test set. \n",
    "* Split the test set array into multiple sub-arrays of length 100 each\n",
    "* Hit the endpoint with each sub-array using the predictor object\n",
    "* Results array will contain predicted label and socres for each prediction\n",
    "* Store all predicted labels into a numpy array, predictions."
   ]
  },
  {
   "cell_type": "code",
   "execution_count": 65,
   "metadata": {
    "collapsed": true
   },
   "outputs": [],
   "source": [
    "batched_test_set = np.array_split(test_set[0], 100)"
   ]
  },
  {
   "cell_type": "code",
   "execution_count": 67,
   "metadata": {},
   "outputs": [
    {
     "name": "stdout",
     "output_type": "stream",
     "text": [
      "10000\n",
      "100\n"
     ]
    }
   ],
   "source": [
    "print(len(test_set[0]))\n",
    "print(len(batched_test_set))"
   ]
  },
  {
   "cell_type": "code",
   "execution_count": 68,
   "metadata": {},
   "outputs": [
    {
     "data": {
      "text/plain": [
       "(100, 784)"
      ]
     },
     "execution_count": 68,
     "metadata": {},
     "output_type": "execute_result"
    }
   ],
   "source": [
    "batched_test_set[0].shape"
   ]
  },
  {
   "cell_type": "code",
   "execution_count": 69,
   "metadata": {
    "collapsed": true
   },
   "outputs": [],
   "source": [
    "predictions = []\n",
    "for array in batched_test_set:\n",
    "    result = linear_predictor.predict(array)\n",
    "    predictions += [r['predicted_label'] for r in result['predictions']]"
   ]
  },
  {
   "cell_type": "code",
   "execution_count": 72,
   "metadata": {},
   "outputs": [
    {
     "data": {
      "text/plain": [
       "{'predictions': [{'predicted_label': 0.0, 'score': 0.01376094575971365},\n",
       "  {'predicted_label': 0.0, 'score': 0.0005800220533274114},\n",
       "  {'predicted_label': 0.0, 'score': 1.6669851902406663e-05},\n",
       "  {'predicted_label': 0.0, 'score': 0.0050621978007256985},\n",
       "  {'predicted_label': 0.0, 'score': 0.0004427969688549638},\n",
       "  {'predicted_label': 0.0, 'score': 0.0007877496536821127},\n",
       "  {'predicted_label': 0.0, 'score': 2.1889141862629913e-05},\n",
       "  {'predicted_label': 0.0, 'score': 0.0004416278679855168},\n",
       "  {'predicted_label': 0.0, 'score': 5.718477950722445e-06},\n",
       "  {'predicted_label': 0.0, 'score': 7.135549822123721e-05},\n",
       "  {'predicted_label': 0.0, 'score': 0.005323868244886398},\n",
       "  {'predicted_label': 0.0, 'score': 3.50565678672865e-05},\n",
       "  {'predicted_label': 0.0, 'score': 0.016314180567860603},\n",
       "  {'predicted_label': 0.0, 'score': 9.619886986911297e-05},\n",
       "  {'predicted_label': 1.0, 'score': 0.8712612390518188},\n",
       "  {'predicted_label': 0.0, 'score': 3.12837291858159e-05},\n",
       "  {'predicted_label': 0.0, 'score': 3.924491466023028e-06},\n",
       "  {'predicted_label': 0.0, 'score': 6.1040514083288144e-06},\n",
       "  {'predicted_label': 0.0, 'score': 2.0493296233325964e-06},\n",
       "  {'predicted_label': 0.0, 'score': 6.75766495987773e-05},\n",
       "  {'predicted_label': 0.0, 'score': 0.002367754466831684},\n",
       "  {'predicted_label': 0.0, 'score': 3.95528732042294e-05},\n",
       "  {'predicted_label': 0.0, 'score': 0.004666551016271114},\n",
       "  {'predicted_label': 0.0, 'score': 0.0027963677421212196},\n",
       "  {'predicted_label': 0.0, 'score': 4.291029256364709e-07},\n",
       "  {'predicted_label': 0.0, 'score': 0.0660201907157898},\n",
       "  {'predicted_label': 0.0, 'score': 0.00021826702868565917},\n",
       "  {'predicted_label': 0.0, 'score': 3.613767830756842e-06},\n",
       "  {'predicted_label': 0.0, 'score': 1.2830956848119968e-06},\n",
       "  {'predicted_label': 0.0, 'score': 4.207890015095472e-05},\n",
       "  {'predicted_label': 0.0, 'score': 0.007477310486137867},\n",
       "  {'predicted_label': 0.0, 'score': 0.03591344505548477},\n",
       "  {'predicted_label': 0.0, 'score': 2.9945895221317187e-06},\n",
       "  {'predicted_label': 0.0, 'score': 0.001385141396895051},\n",
       "  {'predicted_label': 0.0, 'score': 0.23291243612766266},\n",
       "  {'predicted_label': 0.0, 'score': 0.0021211588755249977},\n",
       "  {'predicted_label': 0.0, 'score': 0.03209911286830902},\n",
       "  {'predicted_label': 0.0, 'score': 0.07776758819818497},\n",
       "  {'predicted_label': 0.0, 'score': 0.0001222086139023304},\n",
       "  {'predicted_label': 0.0, 'score': 4.508679921855219e-05},\n",
       "  {'predicted_label': 0.0, 'score': 4.249899575370364e-05},\n",
       "  {'predicted_label': 0.0, 'score': 0.07491188496351242},\n",
       "  {'predicted_label': 1.0, 'score': 0.9916865229606628},\n",
       "  {'predicted_label': 0.0, 'score': 0.049287449568510056},\n",
       "  {'predicted_label': 0.0, 'score': 0.005139406304806471},\n",
       "  {'predicted_label': 0.0, 'score': 0.00023626913025509566},\n",
       "  {'predicted_label': 0.0, 'score': 0.046848639845848083},\n",
       "  {'predicted_label': 0.0, 'score': 9.449727258470375e-06},\n",
       "  {'predicted_label': 0.0, 'score': 0.0001359895250061527},\n",
       "  {'predicted_label': 0.0, 'score': 3.912850388587685e-06},\n",
       "  {'predicted_label': 0.0, 'score': 0.021319201216101646},\n",
       "  {'predicted_label': 0.0, 'score': 0.01088112685829401},\n",
       "  {'predicted_label': 0.0, 'score': 2.8277110686758533e-05},\n",
       "  {'predicted_label': 0.0, 'score': 1.1714253560057841e-05},\n",
       "  {'predicted_label': 0.0, 'score': 0.005403480492532253},\n",
       "  {'predicted_label': 0.0, 'score': 0.0038742239121347666},\n",
       "  {'predicted_label': 0.0, 'score': 0.00566065963357687},\n",
       "  {'predicted_label': 0.0, 'score': 0.000489123398438096},\n",
       "  {'predicted_label': 0.0, 'score': 0.04463339224457741},\n",
       "  {'predicted_label': 0.0, 'score': 0.033448558300733566},\n",
       "  {'predicted_label': 0.0, 'score': 6.497466074506519e-06},\n",
       "  {'predicted_label': 0.0, 'score': 2.286706330778543e-05},\n",
       "  {'predicted_label': 0.0, 'score': 0.04281703382730484},\n",
       "  {'predicted_label': 0.0, 'score': 0.0014735367149114609},\n",
       "  {'predicted_label': 0.0, 'score': 0.026698866859078407},\n",
       "  {'predicted_label': 1.0, 'score': 0.8732296228408813},\n",
       "  {'predicted_label': 0.0, 'score': 7.585932507936377e-06},\n",
       "  {'predicted_label': 0.0, 'score': 0.1646719127893448},\n",
       "  {'predicted_label': 0.0, 'score': 0.0016224526334553957},\n",
       "  {'predicted_label': 0.0, 'score': 0.005993235390633345},\n",
       "  {'predicted_label': 1.0, 'score': 0.857491672039032},\n",
       "  {'predicted_label': 0.0, 'score': 0.00025657846708782017},\n",
       "  {'predicted_label': 0.0, 'score': 2.2609348889091052e-05},\n",
       "  {'predicted_label': 0.0, 'score': 2.6844516469282098e-05},\n",
       "  {'predicted_label': 0.0, 'score': 3.8417829273384996e-06},\n",
       "  {'predicted_label': 0.0, 'score': 0.06823429465293884},\n",
       "  {'predicted_label': 0.0, 'score': 3.962237315136008e-06},\n",
       "  {'predicted_label': 0.0, 'score': 1.3028109606239013e-05},\n",
       "  {'predicted_label': 0.0, 'score': 0.04442978277802467},\n",
       "  {'predicted_label': 0.0, 'score': 4.518407513387501e-05},\n",
       "  {'predicted_label': 1.0, 'score': 0.6815716624259949},\n",
       "  {'predicted_label': 0.0, 'score': 0.0009268589201383293},\n",
       "  {'predicted_label': 0.0, 'score': 0.01160478126257658},\n",
       "  {'predicted_label': 0.0, 'score': 9.705930278869346e-05},\n",
       "  {'predicted_label': 0.0, 'score': 0.025954915210604668},\n",
       "  {'predicted_label': 0.0, 'score': 0.005087228491902351},\n",
       "  {'predicted_label': 0.0, 'score': 0.1871882528066635},\n",
       "  {'predicted_label': 0.0, 'score': 0.0002826841955538839},\n",
       "  {'predicted_label': 0.0, 'score': 0.0029173127841204405},\n",
       "  {'predicted_label': 0.0, 'score': 9.506491551292129e-06},\n",
       "  {'predicted_label': 0.0, 'score': 0.01732834428548813},\n",
       "  {'predicted_label': 1.0, 'score': 0.785323441028595},\n",
       "  {'predicted_label': 0.0, 'score': 3.1683463021181524e-05},\n",
       "  {'predicted_label': 0.0, 'score': 1.4113525139691774e-06},\n",
       "  {'predicted_label': 0.0, 'score': 0.0060995533131062984},\n",
       "  {'predicted_label': 0.0, 'score': 0.010517269372940063},\n",
       "  {'predicted_label': 1.0, 'score': 0.9965223073959351},\n",
       "  {'predicted_label': 0.0, 'score': 0.00021772952459286898},\n",
       "  {'predicted_label': 0.0, 'score': 1.958877419383498e-06},\n",
       "  {'predicted_label': 0.0, 'score': 3.6559853811013454e-07}]}"
      ]
     },
     "execution_count": 72,
     "metadata": {},
     "output_type": "execute_result"
    }
   ],
   "source": [
    "result"
   ]
  },
  {
   "cell_type": "code",
   "execution_count": 78,
   "metadata": {},
   "outputs": [
    {
     "data": {
      "text/plain": [
       "array([ 0.,  0.,  0.,  0.,  0.,  0.,  0.,  0.,  0.,  0.,  0.,  0.,  0.,\n",
       "        0.,  0.,  0.,  0.,  0.,  0.,  0.,  0.,  0.,  0.,  0.,  0.,  0.,\n",
       "        0.,  0.,  0.,  0.,  1.,  0.,  1.,  0.,  0.,  0.,  0.,  0.,  0.,\n",
       "        0.,  0.,  0.,  0.,  0.,  1.,  0.,  1.,  0.,  0.,  0.])"
      ]
     },
     "execution_count": 78,
     "metadata": {},
     "output_type": "execute_result"
    }
   ],
   "source": [
    "predictions[:50]"
   ]
  },
  {
   "cell_type": "code",
   "execution_count": 74,
   "metadata": {
    "collapsed": true
   },
   "outputs": [],
   "source": [
    "predictions = np.array(predictions)"
   ]
  },
  {
   "cell_type": "markdown",
   "metadata": {},
   "source": [
    "## Creating the confusion matrix\n",
    "* Use the pandas crosstab method to compute a frequency table of two factors\n",
    "* actual: contains the actual times a label id 3 in the test dataset\n",
    "* predictions: contains the predictions made by our model\n",
    "* The crosstab method checks the times the label in our predictions and those in the test data set matches."
   ]
  },
  {
   "cell_type": "code",
   "execution_count": 75,
   "metadata": {
    "collapsed": true
   },
   "outputs": [],
   "source": [
    "actual = np.where(test_set[1] == 3, 1, 0)"
   ]
  },
  {
   "cell_type": "code",
   "execution_count": 76,
   "metadata": {},
   "outputs": [
    {
     "data": {
      "text/html": [
       "<div>\n",
       "<style>\n",
       "    .dataframe thead tr:only-child th {\n",
       "        text-align: right;\n",
       "    }\n",
       "\n",
       "    .dataframe thead th {\n",
       "        text-align: left;\n",
       "    }\n",
       "\n",
       "    .dataframe tbody tr th {\n",
       "        vertical-align: top;\n",
       "    }\n",
       "</style>\n",
       "<table border=\"1\" class=\"dataframe\">\n",
       "  <thead>\n",
       "    <tr style=\"text-align: right;\">\n",
       "      <th>predictions</th>\n",
       "      <th>0.0</th>\n",
       "      <th>1.0</th>\n",
       "    </tr>\n",
       "    <tr>\n",
       "      <th>actuals</th>\n",
       "      <th></th>\n",
       "      <th></th>\n",
       "    </tr>\n",
       "  </thead>\n",
       "  <tbody>\n",
       "    <tr>\n",
       "      <th>0</th>\n",
       "      <td>8913</td>\n",
       "      <td>77</td>\n",
       "    </tr>\n",
       "    <tr>\n",
       "      <th>1</th>\n",
       "      <td>151</td>\n",
       "      <td>859</td>\n",
       "    </tr>\n",
       "  </tbody>\n",
       "</table>\n",
       "</div>"
      ],
      "text/plain": [
       "predictions   0.0  1.0\n",
       "actuals               \n",
       "0            8913   77\n",
       "1             151  859"
      ]
     },
     "execution_count": 76,
     "metadata": {},
     "output_type": "execute_result"
    }
   ],
   "source": [
    "pd.crosstab(actual, predictions, rownames=['actuals'], colnames=['predictions'])"
   ]
  },
  {
   "cell_type": "markdown",
   "metadata": {},
   "source": [
    "### Delete the endpoint when you are done."
   ]
  },
  {
   "cell_type": "code",
   "execution_count": null,
   "metadata": {
    "collapsed": true
   },
   "outputs": [],
   "source": [
    "sess.delete_endpoint(linear_predictor.endpoint)"
   ]
  },
  {
   "cell_type": "code",
   "execution_count": null,
   "metadata": {
    "collapsed": true
   },
   "outputs": [],
   "source": []
  }
 ],
 "metadata": {
  "kernelspec": {
   "display_name": "Python 3",
   "language": "python",
   "name": "python3"
  },
  "language_info": {
   "codemirror_mode": {
    "name": "ipython",
    "version": 3
   },
   "file_extension": ".py",
   "mimetype": "text/x-python",
   "name": "python",
   "nbconvert_exporter": "python",
   "pygments_lexer": "ipython3",
   "version": "3.6.3"
  }
 },
 "nbformat": 4,
 "nbformat_minor": 2
}
