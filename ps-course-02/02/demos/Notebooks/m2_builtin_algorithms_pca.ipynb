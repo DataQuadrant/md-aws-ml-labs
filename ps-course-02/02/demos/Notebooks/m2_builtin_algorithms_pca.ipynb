{
 "cells": [
  {
   "cell_type": "markdown",
   "metadata": {
    "collapsed": true
   },
   "source": [
    "# Principal Component Analysis \n",
    "Uses Amazon SageMaker PCA to calculate eigendigits from MNIST."
   ]
  },
  {
   "cell_type": "markdown",
   "metadata": {},
   "source": [
    "### Import packages \n",
    "* io -  module provides the Python interfaces to stream handling.\n",
    "* os -  provides a portable way of using operating system dependent functionality."
   ]
  },
  {
   "cell_type": "code",
   "execution_count": 5,
   "metadata": {
    "collapsed": true
   },
   "outputs": [],
   "source": [
    "import io\n",
    "import os"
   ]
  },
  {
   "cell_type": "markdown",
   "metadata": {},
   "source": [
    "### Importing some standard python packages \n",
    "* gzip   - module provides a simple interface to compress and decompress files\n",
    "* pickle - module implements an algorithm for serializing and de-serializing a Python object structure.\n",
    "* numpy  - package for scientific computing with Python.\n",
    "* urllib.request    - module defines functions and classes for opening URLs.\n",
    "* matplotlib.pyplot - Provides a MATLAB-like plotting framework."
   ]
  },
  {
   "cell_type": "code",
   "execution_count": 6,
   "metadata": {
    "collapsed": true
   },
   "outputs": [],
   "source": [
    "import gzip  \n",
    "import pickle\n",
    "import numpy as np\n",
    "import urllib.request\n",
    "\n",
    "import matplotlib.pyplot as plt\n",
    "%matplotlib inline"
   ]
  },
  {
   "cell_type": "markdown",
   "metadata": {},
   "source": [
    "### Importing amazon packages\n",
    "* boto3 - The AWS SDK for Python to write software that uses Amazon services like S3 and EC2.\n",
    "* sagemaker - Python SDK for training and deploying machine learning models on Amazon SageMaker.\n",
    "* sagemaker.amazon.common - includes high-level Python library functions to convert the training data\n",
    "* get_execution_role - Return the role ARN whose credentials are used to call the API.\n",
    "* csv_serializer - Defines behavior for serialization of input data.\n",
    "* json_deserializer - Defines behavior for deserialization of result data."
   ]
  },
  {
   "cell_type": "code",
   "execution_count": 7,
   "metadata": {
    "collapsed": true
   },
   "outputs": [],
   "source": [
    "import boto3\n",
    "import sagemaker\n",
    "import sagemaker.amazon.common as smac\n",
    "from sagemaker.predictor import csv_serializer, json_deserializer\n",
    "from sagemaker import get_execution_role"
   ]
  },
  {
   "cell_type": "markdown",
   "metadata": {},
   "source": [
    "## Get the MNIST dataset. \n",
    "* Check if the dataset exists on the machine on which the instance runs\n",
    "* If not, download it from the url specified."
   ]
  },
  {
   "cell_type": "code",
   "execution_count": 8,
   "metadata": {
    "collapsed": true
   },
   "outputs": [],
   "source": [
    "DOWNLOADED_FILENAME = 'mnist.pkl.gz'"
   ]
  },
  {
   "cell_type": "code",
   "execution_count": 9,
   "metadata": {
    "collapsed": true
   },
   "outputs": [],
   "source": [
    "if not os.path.exists(DOWNLOADED_FILENAME):\n",
    "    urllib.request.urlretrieve(\"http://deeplearning.net/data/mnist/mnist.pkl.gz\", DOWNLOADED_FILENAME)"
   ]
  },
  {
   "cell_type": "markdown",
   "metadata": {},
   "source": [
    "## Preprocessing and splitting the dataset \n",
    "\n",
    "* The pickled file represents a tuple of 3 lists : **(training set, validation set, test set)**\n",
    "* Each of the three lists is a tuple: **(list of images, list of class labels)**\n",
    "* Image: Numpy 1-dimensional array of 784 (28 x 28) float values between 0 and 1\n",
    "* Labels: Numbers between 0 and 9 indicating which digit the image represents"
   ]
  },
  {
   "cell_type": "code",
   "execution_count": 10,
   "metadata": {
    "collapsed": true
   },
   "outputs": [],
   "source": [
    "with gzip.open('mnist.pkl.gz', 'rb') as f:\n",
    "    train_set, valid_set, test_set = pickle.load(f, encoding='latin1')"
   ]
  },
  {
   "cell_type": "markdown",
   "metadata": {},
   "source": [
    "### Inspecting the data\n",
    "* Inspect the length and shape of the three tuples and numpy arrays\n",
    "* The tuples contain images and respective labels\n",
    "* Plot an image and inspect its label "
   ]
  },
  {
   "cell_type": "code",
   "execution_count": 11,
   "metadata": {},
   "outputs": [
    {
     "name": "stdout",
     "output_type": "stream",
     "text": [
      "2\n"
     ]
    }
   ],
   "source": [
    "print(len(train_set))"
   ]
  },
  {
   "cell_type": "code",
   "execution_count": 12,
   "metadata": {},
   "outputs": [
    {
     "name": "stdout",
     "output_type": "stream",
     "text": [
      "50000\n"
     ]
    }
   ],
   "source": [
    "print(len(train_set[0]))"
   ]
  },
  {
   "cell_type": "code",
   "execution_count": 13,
   "metadata": {},
   "outputs": [
    {
     "name": "stdout",
     "output_type": "stream",
     "text": [
      "(50000, 784)\n"
     ]
    }
   ],
   "source": [
    "print(train_set[0].shape)"
   ]
  },
  {
   "cell_type": "code",
   "execution_count": 14,
   "metadata": {},
   "outputs": [
    {
     "data": {
      "image/png": "[encoded data removed]",
      "text/plain": [
       "<matplotlib.figure.Figure at 0x7fe603205588>"
      ]
     },
     "metadata": {},
     "output_type": "display_data"
    }
   ],
   "source": [
    "def show_digit(img, caption =''):\n",
    "    plt.imshow(img.reshape(28,28), cmap=\"Greys\",  interpolation='nearest')\n",
    "    plt.title(caption)\n",
    "    \n",
    "show_digit(train_set[0][30],'This is a {}'.format(train_set[1][30]))"
   ]
  },
  {
   "cell_type": "markdown",
   "metadata": {},
   "source": [
    "### Preprocessing the data\n",
    "* Amazon SageMaker implementation of PCA only takes recordIO-wrapped protobuf\n",
    "* Define array to store image vectors\n",
    "* Create IOBuffer to write the data in memory buffer and store on the tensor.\n",
    "* Invoke method to convert the training data into the protobuf format, only training data and not labels\n",
    "* Move to the start of the buffer."
   ]
  },
  {
   "cell_type": "code",
   "execution_count": 15,
   "metadata": {},
   "outputs": [
    {
     "name": "stdout",
     "output_type": "stream",
     "text": [
      "(50000, 784)\n",
      "(784, 50000)\n"
     ]
    }
   ],
   "source": [
    "vectors = train_set[0].T\n",
    "\n",
    "print(train_set[0].shape)\n",
    "print(vectors.shape)"
   ]
  },
  {
   "cell_type": "code",
   "execution_count": 16,
   "metadata": {
    "collapsed": true
   },
   "outputs": [],
   "source": [
    "buf = io.BytesIO()"
   ]
  },
  {
   "cell_type": "code",
   "execution_count": 17,
   "metadata": {
    "collapsed": true
   },
   "outputs": [],
   "source": [
    "smac.write_numpy_to_dense_tensor(buf, vectors)"
   ]
  },
  {
   "cell_type": "code",
   "execution_count": 18,
   "metadata": {},
   "outputs": [
    {
     "data": {
      "text/plain": [
       "0"
      ]
     },
     "execution_count": 18,
     "metadata": {},
     "output_type": "execute_result"
    }
   ],
   "source": [
    "buf.seek(0)"
   ]
  },
  {
   "cell_type": "markdown",
   "metadata": {},
   "source": [
    "## Move the training data to S3 bucket\n",
    "\n",
    "* Construct bucket path by specifying bucket name and prefix\n",
    "* Define a key, the object reference to the unique identifier within a bucket\n",
    "* Create bucket resource and upload buffer\n",
    "* Set up path where output of our model is stored"
   ]
  },
  {
   "cell_type": "code",
   "execution_count": 19,
   "metadata": {
    "collapsed": true
   },
   "outputs": [],
   "source": [
    "key = 'recordio-pb-data'"
   ]
  },
  {
   "cell_type": "code",
   "execution_count": 20,
   "metadata": {
    "collapsed": true
   },
   "outputs": [],
   "source": [
    "bucket_name = 'loonybucket'\n",
    "prefix = 'sagemaker/pca'"
   ]
  },
  {
   "cell_type": "code",
   "execution_count": 21,
   "metadata": {
    "collapsed": true
   },
   "outputs": [],
   "source": [
    "path = os.path.join(prefix, 'train', key)"
   ]
  },
  {
   "cell_type": "code",
   "execution_count": 22,
   "metadata": {
    "collapsed": true
   },
   "outputs": [],
   "source": [
    "s3_resource = boto3.resource('s3')"
   ]
  },
  {
   "cell_type": "code",
   "execution_count": 23,
   "metadata": {
    "collapsed": true
   },
   "outputs": [],
   "source": [
    "bucket = s3_resource.Bucket(bucket_name)"
   ]
  },
  {
   "cell_type": "code",
   "execution_count": 24,
   "metadata": {
    "collapsed": true
   },
   "outputs": [],
   "source": [
    "current_bucket = bucket.Object(path)"
   ]
  },
  {
   "cell_type": "code",
   "execution_count": 25,
   "metadata": {},
   "outputs": [
    {
     "name": "stdout",
     "output_type": "stream",
     "text": [
      "uploading training data location: s3://loonybucket/sagemaker/pca/train/recordio-pb-data\n"
     ]
    }
   ],
   "source": [
    "train_data = 's3://{}/{}/train/{}'.format(bucket_name, prefix, key)\n",
    "print('uploading training data location: {}'.format(train_data))"
   ]
  },
  {
   "cell_type": "code",
   "execution_count": 26,
   "metadata": {
    "collapsed": true
   },
   "outputs": [],
   "source": [
    "current_bucket.upload_fileobj(buf)"
   ]
  },
  {
   "cell_type": "code",
   "execution_count": 27,
   "metadata": {},
   "outputs": [
    {
     "name": "stdout",
     "output_type": "stream",
     "text": [
      "training artifacts will be uploaded to: s3://loonybucket/sagemaker/pca/output\n"
     ]
    }
   ],
   "source": [
    "output_location = 's3://{}/{}/output'.format(bucket_name, prefix)\n",
    "print('training artifacts will be uploaded to: {}'.format(output_location))"
   ]
  },
  {
   "cell_type": "markdown",
   "metadata": {},
   "source": [
    "## Specifying the Algorithm\n",
    "\n",
    "* Get the region of the current notebook instance\n",
    "* Specify the algorithm container to be used. \n",
    "* Instantiate a session to access sagemaker.\n",
    "* Get the role ARN whose credentials are used to call the API to instantiate the estimator\n",
    "* Initialize an Estimator instance and specify the container, role, instance coutn and type, output location and session"
   ]
  },
  {
   "cell_type": "code",
   "execution_count": 28,
   "metadata": {},
   "outputs": [
    {
     "data": {
      "text/plain": [
       "'us-east-2'"
      ]
     },
     "execution_count": 28,
     "metadata": {},
     "output_type": "execute_result"
    }
   ],
   "source": [
    "region = boto3.Session().region_name\n",
    "region"
   ]
  },
  {
   "cell_type": "code",
   "execution_count": 29,
   "metadata": {
    "collapsed": true
   },
   "outputs": [],
   "source": [
    "containers = {'us-west-2': '174872318107.dkr.ecr.us-west-2.amazonaws.com/pca:latest',\n",
    "              'us-east-1': '382416733822.dkr.ecr.us-east-1.amazonaws.com/pca:latest',\n",
    "              'us-east-2': '404615174143.dkr.ecr.us-east-2.amazonaws.com/pca:latest',\n",
    "              'eu-west-1': '438346466558.dkr.ecr.eu-west-1.amazonaws.com/pca:latest'}\n",
    "container = containers[region]"
   ]
  },
  {
   "cell_type": "code",
   "execution_count": 30,
   "metadata": {},
   "outputs": [
    {
     "data": {
      "text/plain": [
       "'arn:aws:iam::324118574079:role/service-role/AmazonSageMaker-ExecutionRole-20180209T192191'"
      ]
     },
     "execution_count": 30,
     "metadata": {},
     "output_type": "execute_result"
    }
   ],
   "source": [
    "role = get_execution_role()\n",
    "role"
   ]
  },
  {
   "cell_type": "code",
   "execution_count": 31,
   "metadata": {
    "collapsed": true
   },
   "outputs": [],
   "source": [
    "sess = sagemaker.Session()"
   ]
  },
  {
   "cell_type": "code",
   "execution_count": 32,
   "metadata": {
    "collapsed": true
   },
   "outputs": [],
   "source": [
    "pca = sagemaker.estimator.Estimator(container,\n",
    "                                    role, \n",
    "                                    train_instance_count=1, \n",
    "                                    train_instance_type='ml.c4.xlarge',\n",
    "                                    output_path=output_location,\n",
    "                                    sagemaker_session=sess)"
   ]
  },
  {
   "cell_type": "markdown",
   "metadata": {},
   "source": [
    "## Tuning hyperparameters for optimzing performance. \n",
    "- Feature dimension is set to 50000 (number of images)\n",
    "- Set num_components to 10 and may be increased to tune the performance\n",
    "- subtract_mean standardizes the pixel intensity across all images\n",
    "- Set Algorithm mode to \"randomized\" as we have large feature dim and \"regular\" is a good choice for lower dimension of features. The Amazon SageMaker PCA algorithm uses either of two modes to calculate these summaries, depending on the situation; **regular** is for datasets with sparse data and a moderate number of observations and features and **randomized** for datasets with both a large number of observations and features. This mode uses an approximation algorithm.\n",
    "- Set batch size to 200"
   ]
  },
  {
   "cell_type": "code",
   "execution_count": 33,
   "metadata": {
    "collapsed": true
   },
   "outputs": [],
   "source": [
    "pca.set_hyperparameters(feature_dim=50000,\n",
    "                        num_components=10,\n",
    "                        subtract_mean=True,\n",
    "                        algorithm_mode='randomized',\n",
    "                        mini_batch_size=200)"
   ]
  },
  {
   "cell_type": "markdown",
   "metadata": {},
   "source": [
    "## Training and hosting the Model \n",
    "* Train a model using the input training dataset.The fit API calls the Amazon SageMaker CreateTrainingJob API to start model training. The API uses configuration you provided to create the estimator and the specified input training data to send the CreatingTrainingJob request to Amazon SageMaker.This is a synchronous operation. \n",
    "\n",
    "* After the model training successfully completes, call the deploy() method to host the model using the Amazon SageMaker hosting services.\n",
    "* Initialize a predictor object to make prediction requests to an Amazon SageMaker endpoint."
   ]
  },
  {
   "cell_type": "code",
   "execution_count": 35,
   "metadata": {},
   "outputs": [
    {
     "name": "stderr",
     "output_type": "stream",
     "text": [
      "INFO:sagemaker:Creating training-job with name: pca-2018-03-08-16-30-14-695\n"
     ]
    },
    {
     "name": "stdout",
     "output_type": "stream",
     "text": [
      ".......................................................................\n",
      "\u001b[31mDocker entrypoint called with argument(s): train\u001b[0m\n",
      "\u001b[31m[03/08/2018 16:36:01 INFO 140415894349632] Reading default configuration from /opt/amazon/lib/python2.7/site-packages/algorithm/resources/default-conf.json: {u'_num_gpus': u'auto', u'_log_level': u'info', u'subtract_mean': u'true', u'force_dense': u'true', u'epochs': 1, u'algorithm_mode': u'regular', u'extra_components': u'-1', u'_kvstore': u'dist_sync', u'_num_kv_servers': u'auto'}\u001b[0m\n",
      "\u001b[31m[03/08/2018 16:36:01 INFO 140415894349632] Reading provided configuration from /opt/ml/input/config/hyperparameters.json: {u'algorithm_mode': u'randomized', u'feature_dim': u'50000', u'mini_batch_size': u'200', u'num_components': u'10', u'subtract_mean': u'True'}\u001b[0m\n",
      "\u001b[31m[03/08/2018 16:36:01 INFO 140415894349632] Final configuration: {u'num_components': u'10', u'_num_gpus': u'auto', u'_log_level': u'info', u'subtract_mean': u'True', u'force_dense': u'true', u'epochs': 1, u'algorithm_mode': u'randomized', u'feature_dim': u'50000', u'extra_components': u'-1', u'_kvstore': u'dist_sync', u'_num_kv_servers': u'auto', u'mini_batch_size': u'200'}\u001b[0m\n",
      "\u001b[31m[03/08/2018 16:36:01 WARNING 140415894349632] Loggers have already been setup.\u001b[0m\n",
      "\u001b[31m[03/08/2018 16:36:02 INFO 140415894349632] Launching parameter server for role scheduler\u001b[0m\n",
      "\u001b[31m[03/08/2018 16:36:02 INFO 140415894349632] {'LANG': 'en_US.utf8', 'PROTOCOL_BUFFERS_PYTHON_IMPLEMENTATION': 'cpp', 'DMLC_INTERFACE': 'ethwe', 'NVIDIA_REQUIRE_CUDA': 'cuda>=9.0', 'SHLVL': '1', 'PROTOCOL_BUFFERS_PYTHON_IMPLEMENTATION_VERSION': '2', 'HOSTNAME': 'aws', 'AWS_REGION': 'us-east-2', 'AWS_CONTAINER_CREDENTIALS_RELATIVE_URI': '/v2/credentials/786573bd-7554-41d2-8b39-87ed00762ab1', 'NVIDIA_DRIVER_CAPABILITIES': 'compute,utility', 'OMP_NUM_THREADS': '2', 'PWD': '/', 'NVIDIA_VISIBLE_DEVICES': 'all', 'ENVROOT': '/opt/amazon', 'HOME': '/root', 'SAGEMAKER_HTTP_PORT': '8080', 'PATH': '/opt/amazon/bin:/usr/local/nvidia/bin:/usr/local/sbin:/usr/local/bin:/usr/sbin:/usr/bin:/sbin:/bin:/opt/amazon/bin:/opt/amazon/bin', 'PYTHONUNBUFFERED': 'TRUE', 'CANONICAL_ENVROOT': '/opt/amazon', 'SAGEMAKER_DATA_PATH': '/opt/ml', 'LD_LIBRARY_PATH': '/usr/local/nvidia/lib64:/opt/amazon/lib'}\u001b[0m\n",
      "\u001b[31m[03/08/2018 16:36:02 INFO 140415894349632] envs={'PROTOCOL_BUFFERS_PYTHON_IMPLEMENTATION_VERSION': '2', 'DMLC_NUM_WORKER': '1', 'PROTOCOL_BUFFERS_PYTHON_IMPLEMENTATION': 'cpp', 'ENVROOT': '/opt/amazon', 'PATH': '/opt/amazon/bin:/usr/local/nvidia/bin:/usr/local/sbin:/usr/local/bin:/usr/sbin:/usr/bin:/sbin:/bin:/opt/amazon/bin:/opt/amazon/bin', 'SAGEMAKER_HTTP_PORT': '8080', 'HOME': '/root', 'PYTHONUNBUFFERED': 'TRUE', 'CANONICAL_ENVROOT': '/opt/amazon', 'SAGEMAKER_DATA_PATH': '/opt/ml', 'NVIDIA_DRIVER_CAPABILITIES': 'compute,utility', 'DMLC_PS_ROOT_PORT': '9000', 'LANG': 'en_US.utf8', 'DMLC_INTERFACE': 'ethwe', 'NVIDIA_REQUIRE_CUDA': 'cuda>=9.0', 'SHLVL': '1', 'DMLC_PS_ROOT_URI': '10.32.0.4', 'HOSTNAME': 'aws', 'AWS_REGION': 'us-east-2', 'AWS_CONTAINER_CREDENTIALS_RELATIVE_URI': '/v2/credentials/786573bd-7554-41d2-8b39-87ed00762ab1', 'LD_LIBRARY_PATH': '/usr/local/nvidia/lib64:/opt/amazon/lib', 'DMLC_ROLE': 'scheduler', 'OMP_NUM_THREADS': '2', 'PWD': '/', 'NVIDIA_VISIBLE_DEVICES': 'all', 'DMLC_NUM_SERVER': '1'}\u001b[0m\n",
      "\u001b[31m[03/08/2018 16:36:02 INFO 140415894349632] Launching parameter server for role server\u001b[0m\n",
      "\u001b[31m[03/08/2018 16:36:02 INFO 140415894349632] {'LANG': 'en_US.utf8', 'PROTOCOL_BUFFERS_PYTHON_IMPLEMENTATION': 'cpp', 'DMLC_INTERFACE': 'ethwe', 'NVIDIA_REQUIRE_CUDA': 'cuda>=9.0', 'SHLVL': '1', 'PROTOCOL_BUFFERS_PYTHON_IMPLEMENTATION_VERSION': '2', 'HOSTNAME': 'aws', 'AWS_REGION': 'us-east-2', 'AWS_CONTAINER_CREDENTIALS_RELATIVE_URI': '/v2/credentials/786573bd-7554-41d2-8b39-87ed00762ab1', 'NVIDIA_DRIVER_CAPABILITIES': 'compute,utility', 'OMP_NUM_THREADS': '2', 'PWD': '/', 'NVIDIA_VISIBLE_DEVICES': 'all', 'ENVROOT': '/opt/amazon', 'HOME': '/root', 'SAGEMAKER_HTTP_PORT': '8080', 'PATH': '/opt/amazon/bin:/usr/local/nvidia/bin:/usr/local/sbin:/usr/local/bin:/usr/sbin:/usr/bin:/sbin:/bin:/opt/amazon/bin:/opt/amazon/bin', 'PYTHONUNBUFFERED': 'TRUE', 'CANONICAL_ENVROOT': '/opt/amazon', 'SAGEMAKER_DATA_PATH': '/opt/ml', 'LD_LIBRARY_PATH': '/usr/local/nvidia/lib64:/opt/amazon/lib'}\u001b[0m\n",
      "\u001b[31m[03/08/2018 16:36:02 INFO 140415894349632] envs={'PROTOCOL_BUFFERS_PYTHON_IMPLEMENTATION_VERSION': '2', 'DMLC_NUM_WORKER': '1', 'PROTOCOL_BUFFERS_PYTHON_IMPLEMENTATION': 'cpp', 'ENVROOT': '/opt/amazon', 'PATH': '/opt/amazon/bin:/usr/local/nvidia/bin:/usr/local/sbin:/usr/local/bin:/usr/sbin:/usr/bin:/sbin:/bin:/opt/amazon/bin:/opt/amazon/bin', 'SAGEMAKER_HTTP_PORT': '8080', 'HOME': '/root', 'PYTHONUNBUFFERED': 'TRUE', 'CANONICAL_ENVROOT': '/opt/amazon', 'SAGEMAKER_DATA_PATH': '/opt/ml', 'NVIDIA_DRIVER_CAPABILITIES': 'compute,utility', 'DMLC_PS_ROOT_PORT': '9000', 'LANG': 'en_US.utf8', 'DMLC_INTERFACE': 'ethwe', 'NVIDIA_REQUIRE_CUDA': 'cuda>=9.0', 'SHLVL': '1', 'DMLC_PS_ROOT_URI': '10.32.0.4', 'HOSTNAME': 'aws', 'AWS_REGION': 'us-east-2', 'AWS_CONTAINER_CREDENTIALS_RELATIVE_URI': '/v2/credentials/786573bd-7554-41d2-8b39-87ed00762ab1', 'LD_LIBRARY_PATH': '/usr/local/nvidia/lib64:/opt/amazon/lib', 'DMLC_ROLE': 'server', 'OMP_NUM_THREADS': '2', 'PWD': '/', 'NVIDIA_VISIBLE_DEVICES': 'all', 'DMLC_NUM_SERVER': '1'}\u001b[0m\n",
      "\u001b[31m[03/08/2018 16:36:02 INFO 140415894349632] Environment: {'PROTOCOL_BUFFERS_PYTHON_IMPLEMENTATION_VERSION': '2', 'DMLC_PS_ROOT_PORT': '9000', 'DMLC_NUM_WORKER': '1', 'SAGEMAKER_HTTP_PORT': '8080', 'HOME': '/root', 'PYTHONUNBUFFERED': 'TRUE', 'CANONICAL_ENVROOT': '/opt/amazon', 'LD_LIBRARY_PATH': '/usr/local/nvidia/lib64:/opt/amazon/lib', 'LANG': 'en_US.utf8', 'DMLC_INTERFACE': 'ethwe', 'SHLVL': '1', 'DMLC_PS_ROOT_URI': '10.32.0.4', 'AWS_REGION': 'us-east-2', 'NVIDIA_VISIBLE_DEVICES': 'all', 'PATH': '/opt/amazon/bin:/usr/local/nvidia/bin:/usr/local/sbin:/usr/local/bin:/usr/sbin:/usr/bin:/sbin:/bin:/opt/amazon/bin:/opt/amazon/bin', 'PROTOCOL_BUFFERS_PYTHON_IMPLEMENTATION': 'cpp', 'ENVROOT': '/opt/amazon', 'SAGEMAKER_DATA_PATH': '/opt/ml', 'NVIDIA_DRIVER_CAPABILITIES': 'compute,utility', 'NVIDIA_REQUIRE_CUDA': 'cuda>=9.0', 'OMP_NUM_THREADS': '2', 'HOSTNAME': 'aws', 'AWS_CONTAINER_CREDENTIALS_RELATIVE_URI': '/v2/credentials/786573bd-7554-41d2-8b39-87ed00762ab1', 'DMLC_ROLE': 'worker', 'PWD': '/', 'DMLC_NUM_SERVER': '1'}\u001b[0m\n",
      "\u001b[31m[03/08/2018 16:36:02 INFO 140415894349632] Using default worker.\u001b[0m\n",
      "\u001b[31m[03/08/2018 16:36:02 INFO 140415894349632] Loaded iterator creator application/x-recordio-protobuf for content type ('application/x-recordio-protobuf', '1.0')\u001b[0m\n",
      "\u001b[31m[03/08/2018 16:36:02 INFO 140415894349632] Create Store: dist_sync\u001b[0m\n",
      "\u001b[31m[03/08/2018 16:36:03 INFO 140415894349632] nvidia-smi took: 0.0251579284668 secs to identify 0 gpus\u001b[0m\n",
      "\u001b[31m[03/08/2018 16:36:03 INFO 140415894349632] Number of GPUs being used: 0\u001b[0m\n",
      "\u001b[31m[03/08/2018 16:36:03 INFO 140415894349632] The default executor is <RandomizedPCAExecutor on cpu(0)>.\u001b[0m\n",
      "\u001b[31m[03/08/2018 16:36:03 INFO 140415894349632] 50000 feature(s) found in 'data'.\u001b[0m\n",
      "\u001b[31m[03/08/2018 16:36:03 INFO 140415894349632] <RandomizedPCAExecutor on cpu(0)> is assigned to batch slice from 0 to 199.\u001b[0m\n",
      "\u001b[31m#metrics {\"Metrics\": {\"initialize.time\": {\"count\": 1, \"max\": 689.1520023345947, \"sum\": 689.1520023345947, \"min\": 689.1520023345947}}, \"EndTime\": 1520526963.141753, \"Dimensions\": {\"Host\": \"algo-1\", \"Operation\": \"training\", \"Algorithm\": \"PCA\"}, \"StartTime\": 1520526962.343246}\n",
      "\u001b[0m\n",
      "\u001b[31m#metrics {\"Metrics\": {\"Max Batches Seen Between Resets\": {\"count\": 1, \"max\": 0, \"sum\": 0.0, \"min\": 0}, \"Number of Batches Since Last Reset\": {\"count\": 1, \"max\": 0, \"sum\": 0.0, \"min\": 0}, \"Number of Records Since Last Reset\": {\"count\": 1, \"max\": 0, \"sum\": 0.0, \"min\": 0}, \"Total Batches Seen\": {\"count\": 1, \"max\": 0, \"sum\": 0.0, \"min\": 0}, \"Total Records Seen\": {\"count\": 1, \"max\": 0, \"sum\": 0.0, \"min\": 0}, \"Max Records Seen Between Resets\": {\"count\": 1, \"max\": 0, \"sum\": 0.0, \"min\": 0}, \"Reset Count\": {\"count\": 1, \"max\": 0, \"sum\": 0.0, \"min\": 0}}, \"EndTime\": 1520526963.141915, \"Dimensions\": {\"Host\": \"algo-1\", \"Meta\": \"init_train_data_iter\", \"Operation\": \"training\", \"Algorithm\": \"PCA\"}, \"StartTime\": 1520526963.141885}\n",
      "\u001b[0m\n",
      "\u001b[31m#metrics {\"Metrics\": {\"epochs\": {\"count\": 1, \"max\": 1, \"sum\": 1.0, \"min\": 1}, \"update.time\": {\"count\": 1, \"max\": 493.0739402770996, \"sum\": 493.0739402770996, \"min\": 493.0739402770996}}, \"EndTime\": 1520526963.635213, \"Dimensions\": {\"Host\": \"algo-1\", \"Operation\": \"training\", \"Algorithm\": \"PCA\"}, \"StartTime\": 1520526963.141834}\n",
      "\u001b[0m\n",
      "\u001b[31m#metrics {\"Metrics\": {\"Max Batches Seen Between Resets\": {\"count\": 1, \"max\": 4, \"sum\": 4.0, \"min\": 4}, \"Number of Batches Since Last Reset\": {\"count\": 1, \"max\": 4, \"sum\": 4.0, \"min\": 4}, \"Number of Records Since Last Reset\": {\"count\": 1, \"max\": 784, \"sum\": 784.0, \"min\": 784}, \"Total Batches Seen\": {\"count\": 1, \"max\": 4, \"sum\": 4.0, \"min\": 4}, \"Total Records Seen\": {\"count\": 1, \"max\": 784, \"sum\": 784.0, \"min\": 784}, \"Max Records Seen Between Resets\": {\"count\": 1, \"max\": 784, \"sum\": 784.0, \"min\": 784}, \"Reset Count\": {\"count\": 1, \"max\": 1, \"sum\": 1.0, \"min\": 1}}, \"EndTime\": 1520526963.635465, \"Dimensions\": {\"Host\": \"algo-1\", \"Meta\": \"training_data_iter\", \"Operation\": \"training\", \"Algorithm\": \"PCA\", \"epoch\": 0}, \"StartTime\": 1520526963.635354}\n",
      "\u001b[0m\n",
      "\u001b[31m#metrics {\"Metrics\": {\"finalize.time\": {\"count\": 1, \"max\": 95.89099884033203, \"sum\": 95.89099884033203, \"min\": 95.89099884033203}}, \"EndTime\": 1520526963.731612, \"Dimensions\": {\"Host\": \"algo-1\", \"Operation\": \"training\", \"Algorithm\": \"PCA\"}, \"StartTime\": 1520526963.635305}\n",
      "\u001b[0m\n",
      "\u001b[31m[03/08/2018 16:36:03 INFO 140415894349632] Test data was not provided.\u001b[0m\n",
      "\u001b[31m#metrics {\"Metrics\": {\"totaltime\": {\"count\": 1, \"max\": 1942.1768188476562, \"sum\": 1942.1768188476562, \"min\": 1942.1768188476562}, \"setuptime\": {\"count\": 1, \"max\": 541.4128303527832, \"sum\": 541.4128303527832, \"min\": 541.4128303527832}}, \"EndTime\": 1520526963.737675, \"Dimensions\": {\"Host\": \"algo-1\", \"Operation\": \"training\", \"Algorithm\": \"PCA\"}, \"StartTime\": 1520526963.731696}\n",
      "\u001b[0m\n"
     ]
    },
    {
     "name": "stdout",
     "output_type": "stream",
     "text": [
      "===== Job Complete =====\n"
     ]
    }
   ],
   "source": [
    "pca.fit({'train': train_data})"
   ]
  },
  {
   "cell_type": "code",
   "execution_count": 36,
   "metadata": {},
   "outputs": [
    {
     "name": "stderr",
     "output_type": "stream",
     "text": [
      "INFO:sagemaker:Creating model with name: pca-2018-03-08-16-41-50-777\n",
      "INFO:sagemaker:Creating endpoint with name pca-2018-03-08-16-30-14-695\n"
     ]
    },
    {
     "name": "stdout",
     "output_type": "stream",
     "text": [
      "-------------------------------------------------------------------------------------------------------------!"
     ]
    }
   ],
   "source": [
    "pca_predictor = pca.deploy(initial_instance_count=1,\n",
    "                           instance_type='ml.m4.xlarge')"
   ]
  },
  {
   "cell_type": "markdown",
   "metadata": {},
   "source": [
    "## Validate the model for use. \n",
    "* Set the invocation’s 'ContentType', overriding any content_type from the serializer\n",
    "* Specify how to serialize requests and deserialize responses that are specific to the algorithm.\n",
    "* Serializer accepts a single argument, the input data, and returns a sequence of bytes. \n",
    "* Content type options for Amazon SageMaker algorithm inference requests include: text/csv, application/json, and application/x-recordio-protobuf. \n",
    "* Deserializer accepts two arguments, the result data and the response content type, and returns a sequence of bytes.\n",
    "* Amazon SageMaker algorithms return JSON."
   ]
  },
  {
   "cell_type": "code",
   "execution_count": 37,
   "metadata": {
    "collapsed": true
   },
   "outputs": [],
   "source": [
    "pca_predictor.content_type = 'text/csv'\n",
    "pca_predictor.serializer = csv_serializer\n",
    "pca_predictor.deserializer = json_deserializer"
   ]
  },
  {
   "cell_type": "markdown",
   "metadata": {},
   "source": [
    "### Try getting the eigen digit for a single record."
   ]
  },
  {
   "cell_type": "code",
   "execution_count": 38,
   "metadata": {},
   "outputs": [
    {
     "data": {
      "text/plain": [
       "(50000, 784)"
      ]
     },
     "execution_count": 38,
     "metadata": {},
     "output_type": "execute_result"
    }
   ],
   "source": [
    "train_set[0].shape"
   ]
  },
  {
   "cell_type": "code",
   "execution_count": 39,
   "metadata": {},
   "outputs": [
    {
     "data": {
      "text/plain": [
       "(50000,)"
      ]
     },
     "execution_count": 39,
     "metadata": {},
     "output_type": "execute_result"
    }
   ],
   "source": [
    "train_set[0][:, 0].shape"
   ]
  },
  {
   "cell_type": "code",
   "execution_count": 40,
   "metadata": {},
   "outputs": [
    {
     "data": {
      "text/plain": [
       "array([ 0.,  0.,  0., ...,  0.,  0.,  0.], dtype=float32)"
      ]
     },
     "execution_count": 40,
     "metadata": {},
     "output_type": "execute_result"
    }
   ],
   "source": [
    "train_set[0][:, 0]"
   ]
  },
  {
   "cell_type": "code",
   "execution_count": 41,
   "metadata": {},
   "outputs": [
    {
     "data": {
      "text/plain": [
       "{'projections': [{'projection': [-28.305532455444336,\n",
       "    2.799952507019043,\n",
       "    6.037816524505615,\n",
       "    0.908909797668457,\n",
       "    -0.03693847358226776,\n",
       "    -0.43731558322906494,\n",
       "    -2.042056083679199,\n",
       "    1.9561119079589844,\n",
       "    -0.4224138855934143,\n",
       "    3.8184704780578613]}]}"
      ]
     },
     "execution_count": 41,
     "metadata": {},
     "output_type": "execute_result"
    }
   ],
   "source": [
    "result = pca_predictor.predict(train_set[0][:, 0])\n",
    "result"
   ]
  },
  {
   "cell_type": "markdown",
   "metadata": {},
   "source": [
    "We see that for one record our endpoint returned some JSON which contains a value for each of the 10 principal components we created when training the model."
   ]
  },
  {
   "cell_type": "markdown",
   "metadata": {},
   "source": [
    "### Running the model on the whole test set. \n",
    "* Split the train set array into multiple sub-arrays of length 50 each\n",
    "* Hit the endpoint with each sub-array using the predictor object\n",
    "* Results array will contain the eigen digits\n",
    "* Store all resultant images into a numpy array, eigendigits\n",
    "* View all the eigen digits"
   ]
  },
  {
   "cell_type": "code",
   "execution_count": 42,
   "metadata": {
    "collapsed": true
   },
   "outputs": [],
   "source": [
    "eigendigits = []\n",
    "for array in np.array_split(train_set[0].T, 50):\n",
    "    result = pca_predictor.predict(array)\n",
    "    eigendigits += [r['projection'] for r in result['projections']]"
   ]
  },
  {
   "cell_type": "code",
   "execution_count": 43,
   "metadata": {},
   "outputs": [
    {
     "data": {
      "text/plain": [
       "{'projections': [{'projection': [-28.101720809936523,\n",
       "    2.229731559753418,\n",
       "    6.0010223388671875,\n",
       "    1.190658688545227,\n",
       "    -0.10508857667446136,\n",
       "    0.2010747790336609,\n",
       "    -1.933085560798645,\n",
       "    1.9597439765930176,\n",
       "    -0.4709984064102173,\n",
       "    3.3910770416259766]},\n",
       "  {'projection': [-28.09722328186035,\n",
       "    2.0829410552978516,\n",
       "    5.8935370445251465,\n",
       "    1.1971213817596436,\n",
       "    -0.01040557399392128,\n",
       "    0.17018526792526245,\n",
       "    -1.9517412185668945,\n",
       "    1.9509828090667725,\n",
       "    -0.5437526106834412,\n",
       "    3.44905948638916]},\n",
       "  {'projection': [-28.144262313842773,\n",
       "    2.151416540145874,\n",
       "    5.807415008544922,\n",
       "    1.021557092666626,\n",
       "    0.03277701139450073,\n",
       "    0.005048990249633789,\n",
       "    -2.094083547592163,\n",
       "    1.9792406558990479,\n",
       "    -0.5088934898376465,\n",
       "    3.593938112258911]},\n",
       "  {'projection': [-28.1879825592041,\n",
       "    2.2786927223205566,\n",
       "    5.750580787658691,\n",
       "    0.8051127195358276,\n",
       "    0.0037680789828300476,\n",
       "    -0.175897479057312,\n",
       "    -2.1613380908966064,\n",
       "    2.062469005584717,\n",
       "    -0.48618119955062866,\n",
       "    3.641237735748291]},\n",
       "  {'projection': [-28.23346519470215,\n",
       "    2.4304208755493164,\n",
       "    5.779777526855469,\n",
       "    0.6952183842658997,\n",
       "    0.0015277639031410217,\n",
       "    -0.30305051803588867,\n",
       "    -2.143104314804077,\n",
       "    2.0777361392974854,\n",
       "    -0.41254884004592896,\n",
       "    3.6938583850860596]},\n",
       "  {'projection': [-28.261999130249023,\n",
       "    2.55834698677063,\n",
       "    5.8571577072143555,\n",
       "    0.7400907278060913,\n",
       "    0.010188430547714233,\n",
       "    -0.39517655968666077,\n",
       "    -2.12723445892334,\n",
       "    2.013145923614502,\n",
       "    -0.36471879482269287,\n",
       "    3.741389036178589]},\n",
       "  {'projection': [-28.277130126953125,\n",
       "    2.6712286472320557,\n",
       "    5.933860778808594,\n",
       "    0.7936602830886841,\n",
       "    -0.0028207749128341675,\n",
       "    -0.44697511196136475,\n",
       "    -2.100646495819092,\n",
       "    1.9801212549209595,\n",
       "    -0.371231347322464,\n",
       "    3.7633562088012695]},\n",
       "  {'projection': [-28.283742904663086,\n",
       "    2.7395830154418945,\n",
       "    5.984020709991455,\n",
       "    0.832618772983551,\n",
       "    -0.0287306047976017,\n",
       "    -0.44366344809532166,\n",
       "    -2.0847716331481934,\n",
       "    1.973414659500122,\n",
       "    -0.38121190667152405,\n",
       "    3.77060866355896]},\n",
       "  {'projection': [-28.29778289794922,\n",
       "    2.779162645339966,\n",
       "    6.017730236053467,\n",
       "    0.8774204850196838,\n",
       "    -0.03849613294005394,\n",
       "    -0.44936174154281616,\n",
       "    -2.0534474849700928,\n",
       "    1.9611455202102661,\n",
       "    -0.4002658724784851,\n",
       "    3.7866971492767334]},\n",
       "  {'projection': [-28.307170867919922,\n",
       "    2.7876622676849365,\n",
       "    6.018681526184082,\n",
       "    0.8908429145812988,\n",
       "    -0.039884597063064575,\n",
       "    -0.44452977180480957,\n",
       "    -2.0343708992004395,\n",
       "    1.9639713764190674,\n",
       "    -0.39380571246147156,\n",
       "    3.7909088134765625]},\n",
       "  {'projection': [-28.306276321411133,\n",
       "    2.7981972694396973,\n",
       "    6.034493446350098,\n",
       "    0.9059760570526123,\n",
       "    -0.03727636858820915,\n",
       "    -0.43821418285369873,\n",
       "    -2.0386128425598145,\n",
       "    1.9569631814956665,\n",
       "    -0.41744738817214966,\n",
       "    3.814831018447876]},\n",
       "  {'projection': [-28.305532455444336,\n",
       "    2.799952507019043,\n",
       "    6.037816524505615,\n",
       "    0.908909797668457,\n",
       "    -0.03693847358226776,\n",
       "    -0.43731558322906494,\n",
       "    -2.042056083679199,\n",
       "    1.9561119079589844,\n",
       "    -0.4224138855934143,\n",
       "    3.8184704780578613]},\n",
       "  {'projection': [-28.305532455444336,\n",
       "    2.799952507019043,\n",
       "    6.037816524505615,\n",
       "    0.908909797668457,\n",
       "    -0.03693847358226776,\n",
       "    -0.43731558322906494,\n",
       "    -2.042056083679199,\n",
       "    1.9561119079589844,\n",
       "    -0.4224138855934143,\n",
       "    3.8184704780578613]},\n",
       "  {'projection': [-28.305532455444336,\n",
       "    2.799952507019043,\n",
       "    6.037816524505615,\n",
       "    0.908909797668457,\n",
       "    -0.03693847358226776,\n",
       "    -0.43731558322906494,\n",
       "    -2.042056083679199,\n",
       "    1.9561119079589844,\n",
       "    -0.4224138855934143,\n",
       "    3.8184704780578613]},\n",
       "  {'projection': [-28.305532455444336,\n",
       "    2.799952507019043,\n",
       "    6.037816524505615,\n",
       "    0.908909797668457,\n",
       "    -0.03693847358226776,\n",
       "    -0.43731558322906494,\n",
       "    -2.042056083679199,\n",
       "    1.9561119079589844,\n",
       "    -0.4224138855934143,\n",
       "    3.8184704780578613]}]}"
      ]
     },
     "execution_count": 43,
     "metadata": {},
     "output_type": "execute_result"
    }
   ],
   "source": [
    "result"
   ]
  },
  {
   "cell_type": "code",
   "execution_count": 44,
   "metadata": {
    "collapsed": true
   },
   "outputs": [],
   "source": [
    "eigendigits = np.array(eigendigits).T"
   ]
  },
  {
   "cell_type": "code",
   "execution_count": 47,
   "metadata": {},
   "outputs": [
    {
     "data": {
      "image/png": "[encoded data removed]",
      "text/plain": [
       "<matplotlib.figure.Figure at 0x7fe5f9307e80>"
      ]
     },
     "metadata": {},
     "output_type": "display_data"
    }
   ],
   "source": [
    "for i in range(10):\n",
    "    plt.subplot(2, 5, i + 1)\n",
    "    show_digit(eigendigits[i])"
   ]
  },
  {
   "cell_type": "markdown",
   "metadata": {},
   "source": [
    "The eigendigits aren't extremely interpretable. They do show interesting elements of the data, with eigendigit #0 being the \"anti-number\", eigendigit #1 looking a bit like a 0 combined with the inverse of a 3, eigendigit #2 showing some shapes resembling a 9, and so on."
   ]
  },
  {
   "cell_type": "markdown",
   "metadata": {},
   "source": [
    "### Delete the endpoint when you are done."
   ]
  },
  {
   "cell_type": "code",
   "execution_count": 89,
   "metadata": {},
   "outputs": [
    {
     "name": "stderr",
     "output_type": "stream",
     "text": [
      "INFO:sagemaker:Deleting endpoint with name: pca-2018-03-06-11-27-09-211\n"
     ]
    }
   ],
   "source": [
    "sess.delete_endpoint(pca_predictor.endpoint)"
   ]
  }
 ],
 "metadata": {
  "kernelspec": {
   "display_name": "Python 3",
   "language": "python",
   "name": "python3"
  },
  "language_info": {
   "codemirror_mode": {
    "name": "ipython",
    "version": 3
   },
   "file_extension": ".py",
   "mimetype": "text/x-python",
   "name": "python",
   "nbconvert_exporter": "python",
   "pygments_lexer": "ipython3",
   "version": "3.6.3"
  }
 },
 "nbformat": 4,
 "nbformat_minor": 2
}
