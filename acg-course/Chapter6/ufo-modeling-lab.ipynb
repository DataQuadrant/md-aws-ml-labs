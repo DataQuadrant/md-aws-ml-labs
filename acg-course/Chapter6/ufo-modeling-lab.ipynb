{
 "cells": [
  {
   "cell_type": "markdown",
   "metadata": {},
   "source": [
    "Reference:  \n",
    "https://github.com/ACloudGuru-Resources/Course_AWS_Certified_Machine_Learning/blob/master/Chapter6/ufo-modeling-lab.ipynb\n"
   ]
  },
  {
   "cell_type": "markdown",
   "metadata": {},
   "source": [
    "## UFO Sightings K-Means Clustering\n",
    "### Modeling Lab\n",
    "\n",
    "The goal of this notebook is to analyze where Mr. K should build his extraterrestrial life facilities using the K-Means algorithm. \n",
    "\n",
    "What we plan on accomplishing is the following:\n",
    "1. [Load dataset onto Notebook instance from S3](#Step-1:-Loading-the-data-from-Amazon-S3)\n",
    "2. [Cleaning, transforming, and preparing the data](#Step-2:-Cleaning,-transforming,-and-preparing-the-data)\n",
    "3. [Create and train our model](#Step-3:-Create-and-train-our-model)\n",
    "4. [Viewing the results](#Step-4:-Viewing-the-results)\n",
    "5. [Visualize using QuickSight](https://docs.aws.amazon.com/quicksight/latest/user/create-a-data-set-s3.html)"
   ]
  },
  {
   "cell_type": "code",
   "execution_count": null,
   "metadata": {},
   "outputs": [],
   "source": [
    "import pandas as pd\n",
    "import numpy as np\n",
    "from datetime import datetime\n",
    "\n",
    "import boto3\n",
    "from sagemaker import get_execution_role\n",
    "import sagemaker.amazon.common as smac"
   ]
  },
  {
   "cell_type": "markdown",
   "metadata": {},
   "source": [
    "First let's go ahead and import all the needed libraries."
   ]
  },
  {
   "cell_type": "markdown",
   "metadata": {},
   "source": [
    "## Step 1: Loading the data from Amazon S3\n",
    "Next, lets get the UFO sightings data that is stored in S3."
   ]
  },
  {
   "cell_type": "code",
   "execution_count": 18,
   "metadata": {},
   "outputs": [
    {
     "name": "stdout",
     "output_type": "stream",
     "text": [
      "arn:aws:iam::868024899531:role/service-role/AmazonSageMaker-ExecutionRole-20200223T140135\n"
     ]
    }
   ],
   "source": [
    "# role = get_execution_role()\n",
    "\n",
    "def resolve_sm_role():\n",
    "    client = boto3.client('iam', region_name='us-east-2')\n",
    "    response_roles = client.list_roles(\n",
    "        PathPrefix='/',\n",
    "        # Marker='string',\n",
    "        MaxItems=999\n",
    "    )\n",
    "    for role in response_roles['Roles']:\n",
    "        if role['RoleName'].startswith('AmazonSageMaker-ExecutionRole-'):\n",
    "#             print('Resolved SageMaker IAM Role to: ' + str(role))\n",
    "            return role['Arn']\n",
    "    raise Exception('Could not resolve what should be the SageMaker role to be used')\n",
    "\n",
    "# this is the role created by sagemaker notebook on aws\n",
    "role_arn = resolve_sm_role()\n",
    "print(role_arn)\n",
    "\n",
    "role = role_arn\n",
    "\n"
   ]
  },
  {
   "cell_type": "code",
   "execution_count": 7,
   "metadata": {},
   "outputs": [
    {
     "data": {
      "text/html": [
       "<div>\n",
       "<style scoped>\n",
       "    .dataframe tbody tr th:only-of-type {\n",
       "        vertical-align: middle;\n",
       "    }\n",
       "\n",
       "    .dataframe tbody tr th {\n",
       "        vertical-align: top;\n",
       "    }\n",
       "\n",
       "    .dataframe thead th {\n",
       "        text-align: right;\n",
       "    }\n",
       "</style>\n",
       "<table border=\"1\" class=\"dataframe\">\n",
       "  <thead>\n",
       "    <tr style=\"text-align: right;\">\n",
       "      <th></th>\n",
       "      <th>reportedTimestamp</th>\n",
       "      <th>eventDate</th>\n",
       "      <th>eventTime</th>\n",
       "      <th>shape</th>\n",
       "      <th>duration</th>\n",
       "      <th>witnesses</th>\n",
       "      <th>weather</th>\n",
       "      <th>firstName</th>\n",
       "      <th>lastName</th>\n",
       "      <th>latitude</th>\n",
       "      <th>longitude</th>\n",
       "      <th>sighting</th>\n",
       "      <th>physicalEvidence</th>\n",
       "      <th>contact</th>\n",
       "      <th>researchOutcome</th>\n",
       "    </tr>\n",
       "  </thead>\n",
       "  <tbody>\n",
       "    <tr>\n",
       "      <th>0</th>\n",
       "      <td>1977-04-04T04:02:23.340Z</td>\n",
       "      <td>1977-03-31</td>\n",
       "      <td>23:46</td>\n",
       "      <td>circle</td>\n",
       "      <td>4</td>\n",
       "      <td>1</td>\n",
       "      <td>rain</td>\n",
       "      <td>Ila</td>\n",
       "      <td>Bashirian</td>\n",
       "      <td>47.329444</td>\n",
       "      <td>-122.578889</td>\n",
       "      <td>Y</td>\n",
       "      <td>N</td>\n",
       "      <td>N</td>\n",
       "      <td>explained</td>\n",
       "    </tr>\n",
       "    <tr>\n",
       "      <th>1</th>\n",
       "      <td>1982-11-22T02:06:32.019Z</td>\n",
       "      <td>1982-11-15</td>\n",
       "      <td>22:04</td>\n",
       "      <td>disk</td>\n",
       "      <td>4</td>\n",
       "      <td>1</td>\n",
       "      <td>partly cloudy</td>\n",
       "      <td>Eriberto</td>\n",
       "      <td>Runolfsson</td>\n",
       "      <td>52.664913</td>\n",
       "      <td>-1.034894</td>\n",
       "      <td>Y</td>\n",
       "      <td>Y</td>\n",
       "      <td>N</td>\n",
       "      <td>explained</td>\n",
       "    </tr>\n",
       "    <tr>\n",
       "      <th>2</th>\n",
       "      <td>1992-12-07T19:06:52.482Z</td>\n",
       "      <td>1992-12-07</td>\n",
       "      <td>19:01</td>\n",
       "      <td>circle</td>\n",
       "      <td>49</td>\n",
       "      <td>1</td>\n",
       "      <td>clear</td>\n",
       "      <td>Miller</td>\n",
       "      <td>Watsica</td>\n",
       "      <td>38.951667</td>\n",
       "      <td>-92.333889</td>\n",
       "      <td>Y</td>\n",
       "      <td>N</td>\n",
       "      <td>N</td>\n",
       "      <td>explained</td>\n",
       "    </tr>\n",
       "    <tr>\n",
       "      <th>3</th>\n",
       "      <td>2011-02-24T21:06:34.898Z</td>\n",
       "      <td>2011-02-21</td>\n",
       "      <td>20:56</td>\n",
       "      <td>disk</td>\n",
       "      <td>13</td>\n",
       "      <td>1</td>\n",
       "      <td>partly cloudy</td>\n",
       "      <td>Clifton</td>\n",
       "      <td>Bechtelar</td>\n",
       "      <td>41.496944</td>\n",
       "      <td>-71.367778</td>\n",
       "      <td>Y</td>\n",
       "      <td>N</td>\n",
       "      <td>N</td>\n",
       "      <td>explained</td>\n",
       "    </tr>\n",
       "    <tr>\n",
       "      <th>4</th>\n",
       "      <td>1991-03-09T16:18:45.501Z</td>\n",
       "      <td>1991-03-09</td>\n",
       "      <td>11:42</td>\n",
       "      <td>circle</td>\n",
       "      <td>17</td>\n",
       "      <td>1</td>\n",
       "      <td>mostly cloudy</td>\n",
       "      <td>Jayda</td>\n",
       "      <td>Ebert</td>\n",
       "      <td>47.606389</td>\n",
       "      <td>-122.330833</td>\n",
       "      <td>Y</td>\n",
       "      <td>N</td>\n",
       "      <td>N</td>\n",
       "      <td>explained</td>\n",
       "    </tr>\n",
       "  </tbody>\n",
       "</table>\n",
       "</div>"
      ],
      "text/plain": [
       "          reportedTimestamp   eventDate eventTime   shape  duration  \\\n",
       "0  1977-04-04T04:02:23.340Z  1977-03-31     23:46  circle         4   \n",
       "1  1982-11-22T02:06:32.019Z  1982-11-15     22:04    disk         4   \n",
       "2  1992-12-07T19:06:52.482Z  1992-12-07     19:01  circle        49   \n",
       "3  2011-02-24T21:06:34.898Z  2011-02-21     20:56    disk        13   \n",
       "4  1991-03-09T16:18:45.501Z  1991-03-09     11:42  circle        17   \n",
       "\n",
       "   witnesses        weather firstName    lastName   latitude   longitude  \\\n",
       "0          1           rain       Ila   Bashirian  47.329444 -122.578889   \n",
       "1          1  partly cloudy  Eriberto  Runolfsson  52.664913   -1.034894   \n",
       "2          1          clear    Miller     Watsica  38.951667  -92.333889   \n",
       "3          1  partly cloudy   Clifton   Bechtelar  41.496944  -71.367778   \n",
       "4          1  mostly cloudy     Jayda       Ebert  47.606389 -122.330833   \n",
       "\n",
       "  sighting physicalEvidence contact researchOutcome  \n",
       "0        Y                N       N       explained  \n",
       "1        Y                Y       N       explained  \n",
       "2        Y                N       N       explained  \n",
       "3        Y                N       N       explained  \n",
       "4        Y                N       N       explained  "
      ]
     },
     "execution_count": 7,
     "metadata": {},
     "output_type": "execute_result"
    }
   ],
   "source": [
    "import io\n",
    "# import s3fs\n",
    "bucket = 'md-labs-ml-bucket'\n",
    "prefix = 'acg'\n",
    "data_key = 'ufo_fullset.csv'\n",
    "data_location = '{}/{}'.format(prefix, data_key)\n",
    "\n",
    "\n",
    "s3_client = boto3.client('s3')\n",
    "response = s3_client.get_object(Bucket=bucket, Key=data_location)\n",
    "response_body = response['Body'].read()\n",
    "df = pd.read_csv(io.BytesIO(response_body), header=0, delimiter=',', low_memory=False)\n",
    "df.head()"
   ]
  },
  {
   "cell_type": "code",
   "execution_count": 8,
   "metadata": {},
   "outputs": [
    {
     "data": {
      "text/plain": [
       "(18000, 15)"
      ]
     },
     "execution_count": 8,
     "metadata": {},
     "output_type": "execute_result"
    }
   ],
   "source": [
    "df.shape"
   ]
  },
  {
   "cell_type": "markdown",
   "metadata": {},
   "source": [
    "## Step 2: Cleaning, transforming, and preparing the data\n",
    "Create another DataFrame with just the latitude and longitude attributes"
   ]
  },
  {
   "cell_type": "code",
   "execution_count": 9,
   "metadata": {},
   "outputs": [],
   "source": [
    "df_geo = df[['latitude', 'longitude']]"
   ]
  },
  {
   "cell_type": "code",
   "execution_count": 10,
   "metadata": {},
   "outputs": [
    {
     "data": {
      "text/html": [
       "<div>\n",
       "<style scoped>\n",
       "    .dataframe tbody tr th:only-of-type {\n",
       "        vertical-align: middle;\n",
       "    }\n",
       "\n",
       "    .dataframe tbody tr th {\n",
       "        vertical-align: top;\n",
       "    }\n",
       "\n",
       "    .dataframe thead th {\n",
       "        text-align: right;\n",
       "    }\n",
       "</style>\n",
       "<table border=\"1\" class=\"dataframe\">\n",
       "  <thead>\n",
       "    <tr style=\"text-align: right;\">\n",
       "      <th></th>\n",
       "      <th>latitude</th>\n",
       "      <th>longitude</th>\n",
       "    </tr>\n",
       "  </thead>\n",
       "  <tbody>\n",
       "    <tr>\n",
       "      <th>0</th>\n",
       "      <td>47.329444</td>\n",
       "      <td>-122.578889</td>\n",
       "    </tr>\n",
       "    <tr>\n",
       "      <th>1</th>\n",
       "      <td>52.664913</td>\n",
       "      <td>-1.034894</td>\n",
       "    </tr>\n",
       "    <tr>\n",
       "      <th>2</th>\n",
       "      <td>38.951667</td>\n",
       "      <td>-92.333889</td>\n",
       "    </tr>\n",
       "    <tr>\n",
       "      <th>3</th>\n",
       "      <td>41.496944</td>\n",
       "      <td>-71.367778</td>\n",
       "    </tr>\n",
       "    <tr>\n",
       "      <th>4</th>\n",
       "      <td>47.606389</td>\n",
       "      <td>-122.330833</td>\n",
       "    </tr>\n",
       "  </tbody>\n",
       "</table>\n",
       "</div>"
      ],
      "text/plain": [
       "    latitude   longitude\n",
       "0  47.329444 -122.578889\n",
       "1  52.664913   -1.034894\n",
       "2  38.951667  -92.333889\n",
       "3  41.496944  -71.367778\n",
       "4  47.606389 -122.330833"
      ]
     },
     "execution_count": 10,
     "metadata": {},
     "output_type": "execute_result"
    }
   ],
   "source": [
    "df_geo.head()"
   ]
  },
  {
   "cell_type": "code",
   "execution_count": 11,
   "metadata": {},
   "outputs": [
    {
     "name": "stdout",
     "output_type": "stream",
     "text": [
      "<class 'pandas.core.frame.DataFrame'>\n",
      "RangeIndex: 18000 entries, 0 to 17999\n",
      "Data columns (total 2 columns):\n",
      "latitude     18000 non-null float64\n",
      "longitude    18000 non-null float64\n",
      "dtypes: float64(2)\n",
      "memory usage: 281.3 KB\n"
     ]
    }
   ],
   "source": [
    "df_geo.info()"
   ]
  },
  {
   "cell_type": "code",
   "execution_count": 12,
   "metadata": {
    "scrolled": true
   },
   "outputs": [
    {
     "name": "stdout",
     "output_type": "stream",
     "text": [
      "Are there any missing values? False\n"
     ]
    }
   ],
   "source": [
    "missing_values = df_geo.isnull().values.any()\n",
    "print('Are there any missing values? {}'.format(missing_values))"
   ]
  },
  {
   "cell_type": "code",
   "execution_count": 13,
   "metadata": {
    "scrolled": true
   },
   "outputs": [],
   "source": [
    "if(missing_values):\n",
    "    df_geo[df_geo.isnull().any(axis=1)]"
   ]
  },
  {
   "cell_type": "markdown",
   "metadata": {},
   "source": [
    "transform the pandas DataFrame (our dataset) into a numpy.ndarray. When we do this each row is converted to a Record object. According to the documentation, this is what the K-Means algorithm expects as training data. This is what we will use as training data for our model.\n",
    "\n",
    "[See the documentation for input training](https://sagemaker.readthedocs.io/en/stable/kmeans.html)"
   ]
  },
  {
   "cell_type": "code",
   "execution_count": 14,
   "metadata": {},
   "outputs": [
    {
     "data": {
      "text/plain": [
       "array([[  47.329445, -122.57889 ],\n",
       "       [  52.664913,   -1.034894],\n",
       "       [  38.951668,  -92.333885],\n",
       "       ...,\n",
       "       [  36.86639 ,  -83.888885],\n",
       "       [  35.385834,  -94.39833 ],\n",
       "       [  29.883055,  -97.94111 ]], dtype=float32)"
      ]
     },
     "execution_count": 14,
     "metadata": {},
     "output_type": "execute_result"
    }
   ],
   "source": [
    "data_train = df_geo.values.astype('float32')\n",
    "data_train"
   ]
  },
  {
   "cell_type": "markdown",
   "metadata": {},
   "source": [
    "## Step 3: Create and train our model\n",
    "In this step we will import and use the built-in SageMaker K-Means algorithm. We will set the number of cluster to 10 (for our 10 sensors), specify the instance type we want to train on, and the location of where we want our model artifact to live. \n",
    "\n",
    "[See the documentation of hyperparameters here](https://docs.aws.amazon.com/sagemaker/latest/dg/k-means-api-config.html)"
   ]
  },
  {
   "cell_type": "code",
   "execution_count": 15,
   "metadata": {},
   "outputs": [],
   "source": [
    "from sagemaker import KMeans\n",
    "\n",
    "num_clusters = 10\n",
    "output_location = 's3://' + bucket + '/model-artifacts'\n",
    "\n",
    "kmeans = KMeans(\n",
    "    role=role,\n",
    "    train_instance_count=1,\n",
    "    train_instance_type='ml.c4.xlarge',\n",
    "    output_path=output_location,\n",
    "    k=num_clusters)"
   ]
  },
  {
   "cell_type": "code",
   "execution_count": 20,
   "metadata": {},
   "outputs": [
    {
     "name": "stdout",
     "output_type": "stream",
     "text": [
      "Here is the job name kmeans-geo-job-20200225202354\n"
     ]
    }
   ],
   "source": [
    "job_name = 'kmeans-geo-job-{}'.format(datetime.now().strftime(\"%Y%m%d%H%M%S\"))\n",
    "print('Here is the job name {}'.format(job_name))"
   ]
  },
  {
   "cell_type": "code",
   "execution_count": 21,
   "metadata": {},
   "outputs": [
    {
     "name": "stdout",
     "output_type": "stream",
     "text": [
      "2020-02-25 20:24:04 Starting - Starting the training job...\n",
      "2020-02-25 20:24:05 Starting - Launching requested ML instances...\n",
      "2020-02-25 20:25:00 Starting - Preparing the instances for training......\n",
      "2020-02-25 20:26:04 Downloading - Downloading input data...\n",
      "2020-02-25 20:26:30 Training - Downloading the training image..\u001b[34mDocker entrypoint called with argument(s): train\u001b[0m\n",
      "\u001b[34m[02/25/2020 20:26:46 INFO 139704223979328] Reading default configuration from /opt/amazon/lib/python2.7/site-packages/algorithm/resources/default-input.json: {u'_enable_profiler': u'false', u'_tuning_objective_metric': u'', u'_num_gpus': u'auto', u'local_lloyd_num_trials': u'auto', u'_log_level': u'info', u'_kvstore': u'auto', u'local_lloyd_init_method': u'kmeans++', u'force_dense': u'true', u'epochs': u'1', u'init_method': u'random', u'local_lloyd_tol': u'0.0001', u'local_lloyd_max_iter': u'300', u'_disable_wait_to_read': u'false', u'extra_center_factor': u'auto', u'eval_metrics': u'[\"msd\"]', u'_num_kv_servers': u'1', u'mini_batch_size': u'5000', u'half_life_time_size': u'0', u'_num_slices': u'1'}\u001b[0m\n",
      "\u001b[34m[02/25/2020 20:26:46 INFO 139704223979328] Reading provided configuration from /opt/ml/input/config/hyperparameters.json: {u'feature_dim': u'2', u'k': u'10', u'force_dense': u'True'}\u001b[0m\n",
      "\u001b[34m[02/25/2020 20:26:46 INFO 139704223979328] Final configuration: {u'_tuning_objective_metric': u'', u'extra_center_factor': u'auto', u'local_lloyd_init_method': u'kmeans++', u'force_dense': u'True', u'epochs': u'1', u'feature_dim': u'2', u'local_lloyd_tol': u'0.0001', u'_disable_wait_to_read': u'false', u'eval_metrics': u'[\"msd\"]', u'_num_kv_servers': u'1', u'mini_batch_size': u'5000', u'_enable_profiler': u'false', u'_num_gpus': u'auto', u'local_lloyd_num_trials': u'auto', u'_log_level': u'info', u'init_method': u'random', u'half_life_time_size': u'0', u'local_lloyd_max_iter': u'300', u'_kvstore': u'auto', u'k': u'10', u'_num_slices': u'1'}\u001b[0m\n",
      "\u001b[34m[02/25/2020 20:26:46 WARNING 139704223979328] Loggers have already been setup.\u001b[0m\n",
      "\u001b[34mProcess 1 is a worker.\u001b[0m\n",
      "\u001b[34m[02/25/2020 20:26:46 INFO 139704223979328] Using default worker.\u001b[0m\n",
      "\u001b[34m[02/25/2020 20:26:46 INFO 139704223979328] Loaded iterator creator application/x-recordio-protobuf for content type ('application/x-recordio-protobuf', '1.0')\u001b[0m\n",
      "\u001b[34m[02/25/2020 20:26:46 INFO 139704223979328] Create Store: local\u001b[0m\n",
      "\u001b[34m[02/25/2020 20:26:46 INFO 139704223979328] nvidia-smi took: 0.025171995163 secs to identify 0 gpus\u001b[0m\n",
      "\u001b[34m[02/25/2020 20:26:46 INFO 139704223979328] Number of GPUs being used: 0\u001b[0m\n",
      "\u001b[34m[02/25/2020 20:26:46 INFO 139704223979328] Setting up with params: {u'_tuning_objective_metric': u'', u'extra_center_factor': u'auto', u'local_lloyd_init_method': u'kmeans++', u'force_dense': u'True', u'epochs': u'1', u'feature_dim': u'2', u'local_lloyd_tol': u'0.0001', u'_disable_wait_to_read': u'false', u'eval_metrics': u'[\"msd\"]', u'_num_kv_servers': u'1', u'mini_batch_size': u'5000', u'_enable_profiler': u'false', u'_num_gpus': u'auto', u'local_lloyd_num_trials': u'auto', u'_log_level': u'info', u'init_method': u'random', u'half_life_time_size': u'0', u'local_lloyd_max_iter': u'300', u'_kvstore': u'auto', u'k': u'10', u'_num_slices': u'1'}\u001b[0m\n",
      "\u001b[34m[02/25/2020 20:26:46 INFO 139704223979328] 'extra_center_factor' was set to 'auto', evaluated to 10.\u001b[0m\n",
      "\u001b[34m[02/25/2020 20:26:46 INFO 139704223979328] Number of GPUs being used: 0\u001b[0m\n",
      "\u001b[34m[02/25/2020 20:26:46 INFO 139704223979328] number of center slices 1\u001b[0m\n",
      "\u001b[34m#metrics {\"Metrics\": {\"Max Batches Seen Between Resets\": {\"count\": 1, \"max\": 1, \"sum\": 1.0, \"min\": 1}, \"Number of Batches Since Last Reset\": {\"count\": 1, \"max\": 1, \"sum\": 1.0, \"min\": 1}, \"Number of Records Since Last Reset\": {\"count\": 1, \"max\": 5000, \"sum\": 5000.0, \"min\": 5000}, \"Total Batches Seen\": {\"count\": 1, \"max\": 1, \"sum\": 1.0, \"min\": 1}, \"Total Records Seen\": {\"count\": 1, \"max\": 5000, \"sum\": 5000.0, \"min\": 5000}, \"Max Records Seen Between Resets\": {\"count\": 1, \"max\": 5000, \"sum\": 5000.0, \"min\": 5000}, \"Reset Count\": {\"count\": 1, \"max\": 0, \"sum\": 0.0, \"min\": 0}}, \"EndTime\": 1582662406.657796, \"Dimensions\": {\"Host\": \"algo-1\", \"Meta\": \"init_train_data_iter\", \"Operation\": \"training\", \"Algorithm\": \"AWS/KMeansWebscale\"}, \"StartTime\": 1582662406.657763}\n",
      "\u001b[0m\n",
      "\u001b[34m[2020-02-25 20:26:46.657] [tensorio] [info] epoch_stats={\"data_pipeline\": \"/opt/ml/input/data/train\", \"epoch\": 0, \"duration\": 46, \"num_examples\": 1, \"num_bytes\": 160000}\u001b[0m\n",
      "\u001b[34m[2020-02-25 20:26:46.744] [tensorio] [info] epoch_stats={\"data_pipeline\": \"/opt/ml/input/data/train\", \"epoch\": 1, \"duration\": 86, \"num_examples\": 4, \"num_bytes\": 576000}\u001b[0m\n",
      "\u001b[34m[02/25/2020 20:26:46 INFO 139704223979328] processed a total of 18000 examples\u001b[0m\n",
      "\u001b[34m[02/25/2020 20:26:46 INFO 139704223979328] #progress_metric: host=algo-1, completed 100 % of epochs\u001b[0m\n",
      "\u001b[34m#metrics {\"Metrics\": {\"Max Batches Seen Between Resets\": {\"count\": 1, \"max\": 4, \"sum\": 4.0, \"min\": 4}, \"Number of Batches Since Last Reset\": {\"count\": 1, \"max\": 4, \"sum\": 4.0, \"min\": 4}, \"Number of Records Since Last Reset\": {\"count\": 1, \"max\": 18000, \"sum\": 18000.0, \"min\": 18000}, \"Total Batches Seen\": {\"count\": 1, \"max\": 5, \"sum\": 5.0, \"min\": 5}, \"Total Records Seen\": {\"count\": 1, \"max\": 23000, \"sum\": 23000.0, \"min\": 23000}, \"Max Records Seen Between Resets\": {\"count\": 1, \"max\": 18000, \"sum\": 18000.0, \"min\": 18000}, \"Reset Count\": {\"count\": 1, \"max\": 1, \"sum\": 1.0, \"min\": 1}}, \"EndTime\": 1582662406.745547, \"Dimensions\": {\"Host\": \"algo-1\", \"Meta\": \"training_data_iter\", \"Operation\": \"training\", \"Algorithm\": \"AWS/KMeansWebscale\", \"epoch\": 0}, \"StartTime\": 1582662406.658054}\n",
      "\u001b[0m\n",
      "\u001b[34m[02/25/2020 20:26:46 INFO 139704223979328] #throughput_metric: host=algo-1, train throughput=205420.764789 records/second\u001b[0m\n",
      "\u001b[34m[02/25/2020 20:26:46 WARNING 139704223979328] wait_for_all_workers will not sync workers since the kv store is not running distributed\u001b[0m\n",
      "\u001b[34m[02/25/2020 20:26:46 INFO 139704223979328] shrinking 100 centers into 10\u001b[0m\n",
      "\u001b[34m[02/25/2020 20:26:46 INFO 139704223979328] local kmeans attempt #0. Current mean square distance 31.684010\u001b[0m\n",
      "\u001b[34m[02/25/2020 20:26:46 INFO 139704223979328] local kmeans attempt #1. Current mean square distance 35.418552\u001b[0m\n",
      "\u001b[34m[02/25/2020 20:26:46 INFO 139704223979328] local kmeans attempt #2. Current mean square distance 35.143929\u001b[0m\n",
      "\u001b[34m[02/25/2020 20:26:46 INFO 139704223979328] local kmeans attempt #3. Current mean square distance 33.964634\u001b[0m\n",
      "\u001b[34m[02/25/2020 20:26:46 INFO 139704223979328] local kmeans attempt #4. Current mean square distance 31.922369\u001b[0m\n",
      "\u001b[34m[02/25/2020 20:26:46 INFO 139704223979328] local kmeans attempt #5. Current mean square distance 31.189993\u001b[0m\n",
      "\u001b[34m[02/25/2020 20:26:46 INFO 139704223979328] local kmeans attempt #6. Current mean square distance 31.063259\u001b[0m\n",
      "\u001b[34m[02/25/2020 20:26:46 INFO 139704223979328] local kmeans attempt #7. Current mean square distance 34.587593\u001b[0m\n",
      "\u001b[34m[02/25/2020 20:26:47 INFO 139704223979328] local kmeans attempt #8. Current mean square distance 34.587513\u001b[0m\n",
      "\u001b[34m[02/25/2020 20:26:47 INFO 139704223979328] local kmeans attempt #9. Current mean square distance 34.022720\u001b[0m\n",
      "\u001b[34m[02/25/2020 20:26:47 INFO 139704223979328] finished shrinking process. Mean Square Distance = 31\u001b[0m\n",
      "\u001b[34m[02/25/2020 20:26:47 INFO 139704223979328] #quality_metric: host=algo-1, train msd <loss>=31.0632591248\u001b[0m\n",
      "\u001b[34m[02/25/2020 20:26:47 INFO 139704223979328] compute all data-center distances: inner product took: 26.1507%, (0.024348 secs)\u001b[0m\n",
      "\u001b[34m[02/25/2020 20:26:47 INFO 139704223979328] predict compute msd took: 19.2395%, (0.017913 secs)\u001b[0m\n",
      "\u001b[34m[02/25/2020 20:26:47 INFO 139704223979328] gradient: cluster size  took: 9.2184%, (0.008583 secs)\u001b[0m\n",
      "\u001b[34m[02/25/2020 20:26:47 INFO 139704223979328] gradient: cluster center took: 8.4238%, (0.007843 secs)\u001b[0m\n",
      "\u001b[34m[02/25/2020 20:26:47 INFO 139704223979328] collect from kv store took: 8.2379%, (0.007670 secs)\u001b[0m\n",
      "\u001b[34m[02/25/2020 20:26:47 INFO 139704223979328] splitting centers key-value pair took: 7.7716%, (0.007236 secs)\u001b[0m\n",
      "\u001b[34m[02/25/2020 20:26:47 INFO 139704223979328] batch data loading with context took: 7.3175%, (0.006813 secs)\u001b[0m\n",
      "\u001b[34m[02/25/2020 20:26:47 INFO 139704223979328] compute all data-center distances: point norm took: 5.8782%, (0.005473 secs)\u001b[0m\n",
      "\u001b[34m[02/25/2020 20:26:47 INFO 139704223979328] gradient: one_hot took: 4.9514%, (0.004610 secs)\u001b[0m\n",
      "\u001b[34m[02/25/2020 20:26:47 INFO 139704223979328] update state and report convergance took: 1.9636%, (0.001828 secs)\u001b[0m\n",
      "\u001b[34m[02/25/2020 20:26:47 INFO 139704223979328] compute all data-center distances: center norm took: 0.5790%, (0.000539 secs)\u001b[0m\n",
      "\u001b[34m[02/25/2020 20:26:47 INFO 139704223979328] update set-up time took: 0.1816%, (0.000169 secs)\u001b[0m\n",
      "\u001b[34m[02/25/2020 20:26:47 INFO 139704223979328] predict minus dist took: 0.0871%, (0.000081 secs)\u001b[0m\n",
      "\u001b[34m[02/25/2020 20:26:47 INFO 139704223979328] TOTAL took: 0.0931057929993\u001b[0m\n",
      "\u001b[34m[02/25/2020 20:26:47 INFO 139704223979328] Number of GPUs being used: 0\u001b[0m\n",
      "\u001b[34m#metrics {\"Metrics\": {\"finalize.time\": {\"count\": 1, \"max\": 311.6271495819092, \"sum\": 311.6271495819092, \"min\": 311.6271495819092}, \"initialize.time\": {\"count\": 1, \"max\": 39.720773696899414, \"sum\": 39.720773696899414, \"min\": 39.720773696899414}, \"model.serialize.time\": {\"count\": 1, \"max\": 0.12803077697753906, \"sum\": 0.12803077697753906, \"min\": 0.12803077697753906}, \"update.time\": {\"count\": 1, \"max\": 87.30888366699219, \"sum\": 87.30888366699219, \"min\": 87.30888366699219}, \"epochs\": {\"count\": 1, \"max\": 1, \"sum\": 1.0, \"min\": 1}, \"state.serialize.time\": {\"count\": 1, \"max\": 1.5790462493896484, \"sum\": 1.5790462493896484, \"min\": 1.5790462493896484}, \"_shrink.time\": {\"count\": 1, \"max\": 309.9100589752197, \"sum\": 309.9100589752197, \"min\": 309.9100589752197}}, \"EndTime\": 1582662407.059331, \"Dimensions\": {\"Host\": \"algo-1\", \"Operation\": \"training\", \"Algorithm\": \"AWS/KMeansWebscale\"}, \"StartTime\": 1582662406.610083}\n",
      "\u001b[0m\n",
      "\u001b[34m[02/25/2020 20:26:47 INFO 139704223979328] Test data is not provided.\u001b[0m\n",
      "\u001b[34m#metrics {\"Metrics\": {\"totaltime\": {\"count\": 1, \"max\": 512.0041370391846, \"sum\": 512.0041370391846, \"min\": 512.0041370391846}, \"setuptime\": {\"count\": 1, \"max\": 13.607025146484375, \"sum\": 13.607025146484375, \"min\": 13.607025146484375}}, \"EndTime\": 1582662407.059627, \"Dimensions\": {\"Host\": \"algo-1\", \"Operation\": \"training\", \"Algorithm\": \"AWS/KMeansWebscale\"}, \"StartTime\": 1582662407.059422}\n",
      "\u001b[0m\n",
      "\n",
      "2020-02-25 20:26:56 Uploading - Uploading generated training model\n",
      "2020-02-25 20:26:56 Completed - Training job completed\n",
      "Training seconds: 52\n",
      "Billable seconds: 52\n",
      "CPU times: user 662 ms, sys: 47.1 ms, total: 709 ms\n",
      "Wall time: 3min 24s\n"
     ]
    }
   ],
   "source": [
    "%%time\n",
    "kmeans.fit(kmeans.record_set(data_train), job_name=job_name)"
   ]
  },
  {
   "cell_type": "markdown",
   "metadata": {},
   "source": [
    "## Step 4: Viewing the results\n",
    "In this step we will take a look at the model artifact SageMaker created for us and stored onto S3. We have to do a few special things to see the latitude and longitude for our 10 clusters (and the center points of those clusters)\n",
    "\n",
    "[See the documentation of deserilization here](https://docs.aws.amazon.com/sagemaker/latest/dg/cdf-training.html#td-deserialization)\n",
    "\n",
    "At this point we need to \"deserilize\" the model artifact. Here we are going to open and review them in our notebook instance. We can unzip the model artifact which will contain model_algo-1. This is just a serialized Apache MXNet object. From here we can load that serialized object into a numpy.ndarray and then extract the clustered centroids from the numpy.ndarray.\n",
    "\n",
    "After we extract the results into a DataFrame of latitudes and longitudes, we can create a CSV with that data, load it onto S3 and then visualize it with QuickSight."
   ]
  },
  {
   "cell_type": "code",
   "execution_count": 22,
   "metadata": {},
   "outputs": [
    {
     "data": {
      "text/plain": [
       "2304"
      ]
     },
     "execution_count": 22,
     "metadata": {},
     "output_type": "execute_result"
    }
   ],
   "source": [
    "import os\n",
    "model_key = 'model-artifacts/' + job_name + '/output/model.tar.gz'\n",
    "\n",
    "boto3.resource('s3').Bucket(bucket).download_file(model_key, 'model.tar.gz')\n",
    "os.system('tar -zxvf model.tar.gz')\n",
    "os.system('unzip model_algo-1')"
   ]
  },
  {
   "cell_type": "code",
   "execution_count": 24,
   "metadata": {
    "scrolled": true
   },
   "outputs": [
    {
     "name": "stdout",
     "output_type": "stream",
     "text": [
      "/home/ec2-user/anaconda3/envs/python3\n",
      "\u001b[33mWARNING: The directory '/home/ec2-user/.cache/pip' or its parent directory is not owned or is not writable by the current user. The cache has been disabled. Check the permissions and owner of that directory. If executing pip with sudo, you may want sudo's -H flag.\u001b[0m\n",
      "Requirement already satisfied: mxnet in /home/ec2-user/anaconda3/envs/python3/lib/python3.6/site-packages (1.6.0)\n",
      "Requirement already satisfied: graphviz<0.9.0,>=0.8.1 in /home/ec2-user/anaconda3/envs/python3/lib/python3.6/site-packages (from mxnet) (0.8.4)\n",
      "Requirement already satisfied: requests<3,>=2.20.0 in /home/ec2-user/anaconda3/envs/python3/lib/python3.6/site-packages (from mxnet) (2.20.0)\n",
      "Requirement already satisfied: numpy<2.0.0,>1.16.0 in /home/ec2-user/anaconda3/envs/python3/lib/python3.6/site-packages (from mxnet) (1.18.1)\n",
      "Requirement already satisfied: certifi>=2017.4.17 in /home/ec2-user/anaconda3/envs/python3/lib/python3.6/site-packages (from requests<3,>=2.20.0->mxnet) (2019.9.11)\n",
      "Requirement already satisfied: idna<2.8,>=2.5 in /home/ec2-user/anaconda3/envs/python3/lib/python3.6/site-packages (from requests<3,>=2.20.0->mxnet) (2.6)\n",
      "Requirement already satisfied: urllib3<1.25,>=1.21.1 in /home/ec2-user/anaconda3/envs/python3/lib/python3.6/site-packages (from requests<3,>=2.20.0->mxnet) (1.23)\n",
      "Requirement already satisfied: chardet<3.1.0,>=3.0.2 in /home/ec2-user/anaconda3/envs/python3/lib/python3.6/site-packages (from requests<3,>=2.20.0->mxnet) (3.0.4)\n"
     ]
    }
   ],
   "source": [
    "import sys\n",
    "! echo {sys.prefix}\n",
    "! {sys.prefix}/bin/pip install mxnet"
   ]
  },
  {
   "cell_type": "code",
   "execution_count": 25,
   "metadata": {},
   "outputs": [],
   "source": [
    "import mxnet as mx\n",
    "Kmeans_model_params = mx.ndarray.load('model_algo-1')"
   ]
  },
  {
   "cell_type": "code",
   "execution_count": 26,
   "metadata": {},
   "outputs": [
    {
     "data": {
      "text/plain": [
       "[\n",
       " [[  35.42542     -98.16521   ]\n",
       "  [  51.676582     -0.17054749]\n",
       "  [  38.868782    -85.779526  ]\n",
       "  [ -11.016346    126.31821   ]\n",
       "  [  47.873764   -122.32976   ]\n",
       "  [  41.03354     -75.01864   ]\n",
       "  [  27.944923     45.62018   ]\n",
       "  [  35.678303   -117.56783   ]\n",
       "  [  21.241566   -157.69286   ]\n",
       "  [  25.837196    -80.32623   ]]\n",
       " <NDArray 10x2 @cpu(0)>]"
      ]
     },
     "execution_count": 26,
     "metadata": {},
     "output_type": "execute_result"
    }
   ],
   "source": [
    "Kmeans_model_params"
   ]
  },
  {
   "cell_type": "code",
   "execution_count": 27,
   "metadata": {
    "scrolled": true
   },
   "outputs": [
    {
     "data": {
      "text/html": [
       "<div>\n",
       "<style scoped>\n",
       "    .dataframe tbody tr th:only-of-type {\n",
       "        vertical-align: middle;\n",
       "    }\n",
       "\n",
       "    .dataframe tbody tr th {\n",
       "        vertical-align: top;\n",
       "    }\n",
       "\n",
       "    .dataframe thead th {\n",
       "        text-align: right;\n",
       "    }\n",
       "</style>\n",
       "<table border=\"1\" class=\"dataframe\">\n",
       "  <thead>\n",
       "    <tr style=\"text-align: right;\">\n",
       "      <th></th>\n",
       "      <th>latitude</th>\n",
       "      <th>longitude</th>\n",
       "    </tr>\n",
       "  </thead>\n",
       "  <tbody>\n",
       "    <tr>\n",
       "      <th>0</th>\n",
       "      <td>35.425419</td>\n",
       "      <td>-98.165207</td>\n",
       "    </tr>\n",
       "    <tr>\n",
       "      <th>1</th>\n",
       "      <td>51.676582</td>\n",
       "      <td>-0.170547</td>\n",
       "    </tr>\n",
       "    <tr>\n",
       "      <th>2</th>\n",
       "      <td>38.868782</td>\n",
       "      <td>-85.779526</td>\n",
       "    </tr>\n",
       "    <tr>\n",
       "      <th>3</th>\n",
       "      <td>-11.016346</td>\n",
       "      <td>126.318207</td>\n",
       "    </tr>\n",
       "    <tr>\n",
       "      <th>4</th>\n",
       "      <td>47.873764</td>\n",
       "      <td>-122.329758</td>\n",
       "    </tr>\n",
       "    <tr>\n",
       "      <th>5</th>\n",
       "      <td>41.033539</td>\n",
       "      <td>-75.018639</td>\n",
       "    </tr>\n",
       "    <tr>\n",
       "      <th>6</th>\n",
       "      <td>27.944923</td>\n",
       "      <td>45.620178</td>\n",
       "    </tr>\n",
       "    <tr>\n",
       "      <th>7</th>\n",
       "      <td>35.678303</td>\n",
       "      <td>-117.567833</td>\n",
       "    </tr>\n",
       "    <tr>\n",
       "      <th>8</th>\n",
       "      <td>21.241566</td>\n",
       "      <td>-157.692856</td>\n",
       "    </tr>\n",
       "    <tr>\n",
       "      <th>9</th>\n",
       "      <td>25.837196</td>\n",
       "      <td>-80.326233</td>\n",
       "    </tr>\n",
       "  </tbody>\n",
       "</table>\n",
       "</div>"
      ],
      "text/plain": [
       "    latitude   longitude\n",
       "0  35.425419  -98.165207\n",
       "1  51.676582   -0.170547\n",
       "2  38.868782  -85.779526\n",
       "3 -11.016346  126.318207\n",
       "4  47.873764 -122.329758\n",
       "5  41.033539  -75.018639\n",
       "6  27.944923   45.620178\n",
       "7  35.678303 -117.567833\n",
       "8  21.241566 -157.692856\n",
       "9  25.837196  -80.326233"
      ]
     },
     "execution_count": 27,
     "metadata": {},
     "output_type": "execute_result"
    }
   ],
   "source": [
    "cluster_centroids_kmeans = pd.DataFrame(Kmeans_model_params[0].asnumpy())\n",
    "cluster_centroids_kmeans.columns=df_geo.columns\n",
    "cluster_centroids_kmeans"
   ]
  },
  {
   "cell_type": "markdown",
   "metadata": {},
   "source": [
    "Let's go ahead and upload this dataset onto S3 and view within QuickSight"
   ]
  },
  {
   "cell_type": "code",
   "execution_count": 28,
   "metadata": {},
   "outputs": [
    {
     "data": {
      "text/plain": [
       "{'ResponseMetadata': {'RequestId': '8ACAC031D95FA14A',\n",
       "  'HostId': '79ftHn2DE/Dxa4AvxEovRdvFxdw8S97FhsdcO8TQUuZzHXbzQLw6jmC+xQX5MDpkH/IogzKAN88=',\n",
       "  'HTTPStatusCode': 200,\n",
       "  'HTTPHeaders': {'x-amz-id-2': '79ftHn2DE/Dxa4AvxEovRdvFxdw8S97FhsdcO8TQUuZzHXbzQLw6jmC+xQX5MDpkH/IogzKAN88=',\n",
       "   'x-amz-request-id': '8ACAC031D95FA14A',\n",
       "   'date': 'Tue, 25 Feb 2020 20:51:05 GMT',\n",
       "   'etag': '\"638f3c45878318dd9958420040dbdc42\"',\n",
       "   'content-length': '0',\n",
       "   'server': 'AmazonS3'},\n",
       "  'RetryAttempts': 0},\n",
       " 'ETag': '\"638f3c45878318dd9958420040dbdc42\"'}"
      ]
     },
     "execution_count": 28,
     "metadata": {},
     "output_type": "execute_result"
    }
   ],
   "source": [
    "from io import StringIO\n",
    "\n",
    "csv_buffer = StringIO()\n",
    "cluster_centroids_kmeans.to_csv(csv_buffer, index=False)\n",
    "s3_resource = boto3.resource('s3')\n",
    "s3_resource.Object(bucket, 'results/ten_locations_kmeans.csv').put(Body=csv_buffer.getvalue())"
   ]
  },
  {
   "cell_type": "markdown",
   "metadata": {},
   "source": []
  }
 ],
 "metadata": {
  "kernelspec": {
   "display_name": "conda_python3",
   "language": "python",
   "name": "conda_python3"
  },
  "language_info": {
   "codemirror_mode": {
    "name": "ipython",
    "version": 3
   },
   "file_extension": ".py",
   "mimetype": "text/x-python",
   "name": "python",
   "nbconvert_exporter": "python",
   "pygments_lexer": "ipython3",
   "version": "3.6.5"
  }
 },
 "nbformat": 4,
 "nbformat_minor": 4
}
