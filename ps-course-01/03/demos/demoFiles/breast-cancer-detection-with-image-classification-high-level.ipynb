{
 "cells": [
  {
   "cell_type": "code",
   "execution_count": 18,
   "metadata": {},
   "outputs": [],
   "source": [
    "import time\n",
    "import boto3\n",
    "import sagemaker\n",
    "from sagemaker import get_execution_role\n",
    "from sagemaker.amazon.amazon_estimator import get_image_uri"
   ]
  },
  {
   "cell_type": "markdown",
   "metadata": {},
   "source": [
    "# Configuring the built-in Image Classification algorithm"
   ]
  },
  {
   "cell_type": "markdown",
   "metadata": {},
   "source": [
    "## Configure Hyperparameters"
   ]
  },
  {
   "cell_type": "code",
   "execution_count": 19,
   "metadata": {},
   "outputs": [],
   "source": [
    "# Number of output classes\n",
    "num_classes = 2\n",
    "\n",
    "# Number of training samples in the training set\n",
    "num_training_samples = 194266\n",
    "\n",
    "# Number of layers for the underlying neural network\n",
    "num_layers = 18\n",
    "\n",
    "# Batch size for training\n",
    "mini_batch_size =  128\n",
    "\n",
    "# Input image shape for the training data\n",
    "image_shape = '3,50,50'\n",
    "\n",
    "# Augmentation type\n",
    "augmentation_type = 'crop_color_transform'\n",
    "\n",
    "# Number of epochs\n",
    "epochs = 5\n",
    "\n",
    "# Learning rate\n",
    "learning_rate = 0.01\n",
    "\n",
    "# Enable transfer learning\n",
    "use_pretrained_model = 1"
   ]
  },
  {
   "cell_type": "markdown",
   "metadata": {},
   "source": [
    "## Create a unique job name "
   ]
  },
  {
   "cell_type": "code",
   "execution_count": 20,
   "metadata": {},
   "outputs": [],
   "source": [
    "job_name_prefix = 'breast-cancer-detection'\n",
    "timestamp = time.strftime('-%Y-%m-%d-%H-%M-%S', time.gmtime())\n",
    "job_name = job_name_prefix + timestamp"
   ]
  },
  {
   "cell_type": "markdown",
   "metadata": {},
   "source": [
    "## Specify the input paths for the job"
   ]
  },
  {
   "cell_type": "code",
   "execution_count": 21,
   "metadata": {},
   "outputs": [],
   "source": [
    "bucket = 'sagemaker-data-jv'\n",
    "input_prefix = 'breast-cancer-detection/input/recordio'\n",
    "input_train = 's3://{}/{}/train/'.format(bucket, input_prefix)\n",
    "input_test = 's3://{}/{}/test/'.format(bucket, input_prefix)"
   ]
  },
  {
   "cell_type": "markdown",
   "metadata": {},
   "source": [
    "## Specify the output path for the job"
   ]
  },
  {
   "cell_type": "code",
   "execution_count": 22,
   "metadata": {},
   "outputs": [],
   "source": [
    "output_prefix = 'breast-cancer-detection/output'\n",
    "output_path = 's3://{}/{}/'.format(bucket, output_prefix)"
   ]
  },
  {
   "cell_type": "markdown",
   "metadata": {},
   "source": [
    "## Configure training instances"
   ]
  },
  {
   "cell_type": "code",
   "execution_count": 23,
   "metadata": {},
   "outputs": [],
   "source": [
    "instance_count = 1\n",
    "instance_type = 'ml.p2.xlarge'\n",
    "volume_size_gb = 50"
   ]
  },
  {
   "cell_type": "markdown",
   "metadata": {},
   "source": [
    "## Get the execution role and the training image URI for Image Classification"
   ]
  },
  {
   "cell_type": "code",
   "execution_count": 24,
   "metadata": {},
   "outputs": [],
   "source": [
    "role = get_execution_role()\n",
    "training_image = get_image_uri(boto3.Session().region_name, 'image-classification')"
   ]
  },
  {
   "cell_type": "markdown",
   "metadata": {},
   "source": [
    "## Configure train timeout"
   ]
  },
  {
   "cell_type": "code",
   "execution_count": 27,
   "metadata": {},
   "outputs": [],
   "source": [
    "train_timeout = 360000"
   ]
  },
  {
   "cell_type": "markdown",
   "metadata": {},
   "source": [
    "## Creating an Estimator"
   ]
  },
  {
   "cell_type": "code",
   "execution_count": 28,
   "metadata": {},
   "outputs": [],
   "source": [
    "sagemaker_session = sagemaker.Session()\n",
    "estimator = sagemaker.estimator.Estimator(training_image, \n",
    "                                          role, \n",
    "                                          train_instance_count=instance_count,\n",
    "                                          train_instance_type=instance_type,\n",
    "                                          train_volume_size=volume_size_gb,\n",
    "                                          train_max_run=train_timeout,\n",
    "                                          output_path=output_path, \n",
    "                                          sagemaker_session=sagemaker_session)"
   ]
  },
  {
   "cell_type": "code",
   "execution_count": 29,
   "metadata": {},
   "outputs": [],
   "source": [
    "estimator.set_hyperparameters(num_classes=num_classes,\n",
    "                              num_training_samples=num_training_samples,\n",
    "                              num_layers=num_layers,\n",
    "                              mini_batch_size=mini_batch_size,\n",
    "                              image_shape=image_shape,\n",
    "                              augmentation_type=augmentation_type,\n",
    "                              epochs=epochs,\n",
    "                              learning_rate=learning_rate,\n",
    "                              use_pretrained_model=use_pretrained_model)"
   ]
  },
  {
   "cell_type": "code",
   "execution_count": null,
   "metadata": {},
   "outputs": [],
   "source": []
  }
 ],
 "metadata": {
  "kernelspec": {
   "display_name": "conda_mxnet_p36",
   "language": "python",
   "name": "conda_mxnet_p36"
  },
  "language_info": {
   "codemirror_mode": {
    "name": "ipython",
    "version": 3
   },
   "file_extension": ".py",
   "mimetype": "text/x-python",
   "name": "python",
   "nbconvert_exporter": "python",
   "pygments_lexer": "ipython3",
   "version": "3.6.5"
  }
 },
 "nbformat": 4,
 "nbformat_minor": 2
}
